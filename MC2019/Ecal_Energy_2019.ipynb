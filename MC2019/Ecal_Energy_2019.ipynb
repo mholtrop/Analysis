{
 "cells": [
  {
   "cell_type": "code",
   "execution_count": 1,
   "metadata": {},
   "outputs": [
    {
     "name": "stdout",
     "output_type": "stream",
     "text": [
      "Welcome to JupyROOT 6.29/01\n",
      "Recompile is not needed\n",
      "The gaustail function is now setup. \n",
      "The gaustailn function is now setup. \n"
     ]
    }
   ],
   "source": [
    "# Warning: Execute this cell only once for the kernel. Reset the kernel if you need changes.\n",
    "import sys\n",
    "sys.path.append(\"../Python\")\n",
    "import ROOT as R\n",
    "import time\n",
    "import numpy as np\n",
    "# Turn jsroot off if you want to make a pdf from this file.\n",
    "%jsroot on\n",
    "from root_helpers import SetStyle\n",
    "from root_helpers import fancy_plot\n",
    "from root_helpers import print_mc_particle_tree\n",
    "from root_helpers import print_daughters\n",
    "# R.EnableImplicitMT()\n",
    "import os\n",
    "recompile = True\n",
    "try:\n",
    "    if os.path.getmtime('../Python/Utility_Functions_C.so') - os.path.getmtime('../Python/Utility_Functions.C') > 0:\n",
    "        recompile = False\n",
    "        print(\"Recompile is not needed\")\n",
    "    else:\n",
    "        print(\"Recompiling: \")\n",
    "except:\n",
    "    print(\"Recompile needed, file not found.\")\n",
    "if recompile:\n",
    "    R.gROOT.LoadMacro(\"../Python/Utility_Functions.C++\")\n",
    "else:\n",
    "    R.gSystem.Load(\"../Python/Utility_Functions_C.so\")\n",
    "R.Utility_Functions()\n",
    "\n",
    "# Link the C++ fit_gaus_tail function to a TF1 so the fitting of the histogram works properly in Python\n",
    "R.gInterpreter.Declare('''\n",
    "void setup_gaus_tail(void){\n",
    "auto gaustail = new TF1(\"gaustail\",fit_gaus_tail, 0.,7.,4);\n",
    "gaustail->SetParameters(1208, 3, 0.1, 1.);\n",
    "gaustail->SetParNames(\"A\",\"Mu\",\"Sigma\",\"tail\");\n",
    "std::cout << \"The gaustail function is now setup. \" << std::endl;\n",
    "}\n",
    "''')\n",
    "R.setup_gaus_tail()\n",
    "\n",
    "# Link the C++ fit_gaus_tail function to a TF1 so the fitting of the histogram works properly in Python\n",
    "R.gInterpreter.Declare('''\n",
    "void setup_gaus_tailn(void){\n",
    "auto gaustailn = new TF1(\"gaustailn\",fit_gaus_tailn, 0., 7.,4);\n",
    "gaustailn->SetParameters(1208, 3, 0.1, 1.);\n",
    "gaustailn->SetParNames(\"A\",\"Mu\",\"Sigma\",\"tail\");\n",
    "std::cout << \"The gaustailn function is now setup. \" << std::endl;\n",
    "}\n",
    "''')\n",
    "R.setup_gaus_tailn()"
   ]
  },
  {
   "cell_type": "code",
   "execution_count": 2,
   "metadata": {},
   "outputs": [],
   "source": [
    "def make_ecal_snaphot(mini_dst, hist, opt=0):\n",
    "    \"\"\"Return a 2D histogram for the ECal, with the energy of the hits on the z-axis\"\"\"\n",
    "    if hist is None:\n",
    "        hist = R.TH2D(\"hist_ecal\", \"Ecal Hits\", 50, -25.5, 24.5, 13, -6.5, 6.5)\n",
    "    else:\n",
    "        hist.Reset()\n",
    "    # Fill the histogram by looping over the ECal hits\n",
    "    for i in range(len(mini_dst.ecal_hit_index_x)):\n",
    "        hist.Fill(mini_dst.ecal_hit_index_x[i], mini_dst.ecal_hit_index_y[i], mini_dst.ecal_hit_energy[i])\n",
    "    return hist"
   ]
  },
  {
   "cell_type": "code",
   "execution_count": 14,
   "metadata": {},
   "outputs": [
    {
     "name": "stdout",
     "output_type": "stream",
     "text": [
      "Number of events loaded:   1.910M\n",
      "Chain2 N events loaded:    2.056M\n"
     ]
    }
   ],
   "source": [
    "ch = R.TChain(\"MiniDST\")\n",
    "file_peak_e = 3.5\n",
    "ch.Add(f\"/data/HPS/data/physrun2021/sim_2021/X/hpsForward_e-_{file_peak_e}GeV_z*_SLIC-v06-00-01_QGSP_BERT_HPS-v2019-3pt7GeV_recon.root\")\n",
    "# ch.Add(\"/data/HPS/data/physrun2019/MC_RAW/hpsForward_e-_3.0GeV_z-7.5_x_SLIC-v06-00-01_QGSP_BERT_HPS-PhysicsRun2019-v2-4pt5_recon.root\")           # sim_2019/hpsForward_e-_3.0GeV_*.root\")\n",
    "# ch.Add(\"/data/HPS/data/physrun2021/pass0/minidst/hps_0147*.root\")\n",
    "print(f\"Number of events loaded: {ch.GetEntries()/1e6:7.3f}M\")\n",
    "ch2 = R.TChain(\"MiniDST\")\n",
    "ch2.Add(f\"/data/HPS/data/physrun2021/sim_2021/hpsForward_e-_{file_peak_e}GeV_z*_SLIC-v06-00-01_QGSP_BERT_HPS-v2019-3pt7GeV_recon.root\")\n",
    "# ch.Add(\"/data/HPS/data/physrun2019/MC_RAW/hpsForward_e-_3.0GeV_z-7.5_x_SLIC-v06-00-01_QGSP_BERT_HPS-PhysicsRun2019-v2-4pt5_recon.root\")           # sim_2019/hpsForward_e-_3.0GeV_*.root\")\n",
    "# ch.Add(\"/data/HPS/data/physrun2021/pass0/minidst/hps_0147*.root\")\n",
    "print(f\"Chain2 N events loaded:  {ch2.GetEntries()/1e6:7.3f}M\")"
   ]
  },
  {
   "cell_type": "code",
   "execution_count": 15,
   "metadata": {},
   "outputs": [
    {
     "name": "stdout",
     "output_type": "stream",
     "text": [
      "Available data names in Tuple:\n",
      "\n",
      "ecal_cluster_energy           ecal_cluster_hits             ecal_cluster_nhits            ecal_cluster_seed_energy      \n",
      "ecal_cluster_seed_index       ecal_cluster_seed_ix          ecal_cluster_seed_iy          ecal_cluster_time             \n",
      "ecal_cluster_uncor_energy     ecal_cluster_uncor_hits       ecal_cluster_uncor_nhits      ecal_cluster_uncor_seed_energy\n",
      "ecal_cluster_uncor_seed_index ecal_cluster_uncor_seed_ix    ecal_cluster_uncor_seed_iy    ecal_cluster_uncor_time       \n",
      "ecal_cluster_uncor_x          ecal_cluster_uncor_y          ecal_cluster_uncor_z          ecal_cluster_x                \n",
      "ecal_cluster_y                ecal_cluster_z                ecal_hit_energy               ecal_hit_index_x              \n",
      "ecal_hit_index_y              ecal_hit_time                 event_number                  ext_trigger                   \n",
      "hodo_cluster_energy           hodo_cluster_ix               hodo_cluster_iy               hodo_cluster_layer            \n",
      "hodo_cluster_time             hodo_hit_energy               hodo_hit_hole                 hodo_hit_index_x              \n",
      "hodo_hit_index_y              hodo_hit_layer                hodo_hit_time                 mc_part_charge                \n",
      "mc_part_daughters             mc_part_end_x                 mc_part_end_y                 mc_part_end_z                 \n",
      "mc_part_energy                mc_part_gen_status            mc_part_id                    mc_part_mass                  \n",
      "mc_part_parents               mc_part_pdg_id                mc_part_px                    mc_part_py                    \n",
      "mc_part_pz                    mc_part_simstatus             mc_part_time                  mc_part_x                     \n",
      "mc_part_y                     mc_part_z                     mc_score_part_idx             mc_score_pdg                  \n",
      "mc_score_px                   mc_score_py                   mc_score_pz                   mc_score_time                 \n",
      "mc_score_type                 mc_score_x                    mc_score_y                    mc_score_z                    \n",
      "part_charge                   part_ecal_cluster             part_energy                   part_goodness_of_pid          \n",
      "part_lcio_type                part_mass                     part_pdg                      part_px                       \n",
      "part_py                       part_pz                       part_track                    part_track_chi2               \n",
      "part_type                     rf_time1                      rf_time2                      run_number                    \n",
      "svt_status                    time_stamp                    track_chi2                    track_covmatrix               \n",
      "track_d0                      track_gbl_ref                 track_isolation               track_lambda_kinks            \n",
      "track_n_gbl                   track_n_hits                  track_n_kf                    track_n_matched               \n",
      "track_omega                   track_particle                track_phi0                    track_phi_kinks               \n",
      "track_px                      track_py                      track_pz                      track_ref                     \n",
      "track_svt_hits                track_tan_lambda              track_time                    track_type                    \n",
      "track_volume                  track_x_at_ecal               track_y_at_ecal               track_z0                      \n",
      "track_z_at_ecal               trigger                       v0_charge                     v0_em_chi2                    \n",
      "v0_em_clus                    v0_em_clus_energy             v0_em_clus_ix                 v0_em_clus_iy                 \n",
      "v0_em_clus_pos_x              v0_em_clus_pos_y              v0_em_clus_time               v0_em_good_pid                \n",
      "v0_em_p                       v0_em_part                    v0_em_pos_ecal_x              v0_em_pos_ecal_y              \n",
      "v0_em_track                   v0_em_track_nhit              v0_em_track_time              v0_energy                     \n",
      "v0_ep_chi2                    v0_ep_clus                    v0_ep_clus_energy             v0_ep_clus_ix                 \n",
      "v0_ep_clus_iy                 v0_ep_clus_pos_x              v0_ep_clus_pos_y              v0_ep_clus_time               \n",
      "v0_ep_good_pid                v0_ep_p                       v0_ep_part                    v0_ep_pos_ecal_x              \n",
      "v0_ep_pos_ecal_y              v0_ep_track                   v0_ep_track_nhit              v0_ep_track_time              \n",
      "v0_goodness_of_pid            v0_lcio_type                  v0_mass                       v0_mass_err                   \n",
      "v0_pdg                        v0_px                         v0_py                         v0_pz                         \n",
      "v0_type                       v0_vertex_chi2                v0_vertex_prob                v0_vertex_x                   \n",
      "v0_vertex_y                   v0_vertex_z                   "
     ]
    }
   ],
   "source": [
    "df = R.RDataFrame(ch)\n",
    "df2 = R.RDataFrame(ch2)\n",
    "print(\"Available data names in Tuple:\")\n",
    "ColumnNames=df.GetColumnNames()\n",
    "ll = 0\n",
    "pr_colnames = [x for x in ColumnNames if str(x).startswith('')]\n",
    "for nn in pr_colnames:\n",
    "    if ll < len(nn):\n",
    "        ll = len(nn)\n",
    "for n in range(len(pr_colnames)):\n",
    "    if n%4 == 0:\n",
    "        print(\"\")\n",
    "    print(f\"{str(pr_colnames[n]):{ll}s}\",end=\"\")"
   ]
  },
  {
   "cell_type": "code",
   "execution_count": 16,
   "outputs": [],
   "source": [
    "expected_peak = float(file_peak_e)\n",
    "dfx = df.Define(\"n_cluster\",\"ecal_cluster_energy.size()\").Filter(\"n_cluster==1\").Filter(f\"ecal_cluster_seed_energy[0]>{expected_peak/2}\")\n",
    "dfx2 = df2.Define(\"n_cluster\",\"ecal_cluster_energy.size()\").Filter(\"n_cluster==1\").Filter(f\"ecal_cluster_seed_energy[0]>{expected_peak/2}\")"
   ],
   "metadata": {
    "collapsed": false
   }
  },
  {
   "cell_type": "code",
   "execution_count": 17,
   "outputs": [],
   "source": [
    "min_e_histo = max(expected_peak-3.,0) # 0.5\n",
    "max_e_histo = expected_peak*1.3 # 3.5\n",
    "\n",
    "h_ecal_cluster_energy = dfx.Histo1D((\"h_ecal_cluster_energy\",\"Ecal Cluster Energy;E[GeV]\",200,min_e_histo, max_e_histo),\"ecal_cluster_energy\")\n",
    "h_ecal_cluster_energy_uncor = dfx.Histo1D((\"h_ecal_cluster_uncor_energy\",\"Ecal Un-corrected Cluster Energy;E[GeV]\",200,min_e_histo, max_e_histo),\"ecal_cluster_uncor_energy\")\n",
    "h_ecal_cluster_energy_lim = dfx.Histo1D((\"h_ecal_cluster_energy\",\"Ecal Cluster Energy;E[GeV]\",200,min_e_histo, max_e_histo),\"ecal_cluster_energy\")\n",
    "h2_ecal_cluster_energy = dfx2.Histo1D((\"h_ecal_cluster_energy\",\"Ecal Cluster Energy;E[GeV]\",200,min_e_histo, max_e_histo),\"ecal_cluster_energy\")\n",
    "h2_ecal_cluster_energy_uncor = dfx2.Histo1D((\"h_ecal_cluster_uncor_energy\",\"Ecal Un-corrected Cluster Energy;E[GeV]\",200,min_e_histo, max_e_histo),\"ecal_cluster_uncor_energy\")\n",
    "h2_ecal_cluster_energy_lim = dfx2.Histo1D((\"h_ecal_cluster_energy\",\"Ecal Cluster Energy;E[GeV]\",200,min_e_histo, max_e_histo),\"ecal_cluster_energy\")"
   ],
   "metadata": {
    "collapsed": false
   }
  },
  {
   "cell_type": "code",
   "execution_count": 18,
   "outputs": [
    {
     "name": "stdout",
     "output_type": "stream",
     "text": [
      " FCN=1238.42 FROM MIGRAD    STATUS=CONVERGED      70 CALLS          71 TOTAL\n",
      "                     EDM=6.23998e-08    STRATEGY= 1      ERROR MATRIX ACCURATE \n",
      "  EXT PARAMETER                                   STEP         FIRST   \n",
      "  NO.   NAME      VALUE            ERROR          SIZE      DERIVATIVE \n",
      "   1  Constant     6.48147e+04   9.99488e+01   1.32572e+00  -4.54541e-06\n",
      "   2  Mean         3.56926e+00   1.39069e-04   2.17160e-06   4.55189e-02\n",
      "   3  Sigma        9.32710e-02   1.24185e-04   5.89592e-06  -5.69057e-01\n",
      " FCN=714.506 FROM MIGRAD    STATUS=CONVERGED      71 CALLS          72 TOTAL\n",
      "                     EDM=6.0978e-08    STRATEGY= 1      ERROR MATRIX ACCURATE \n",
      "  EXT PARAMETER                                   STEP         FIRST   \n",
      "  NO.   NAME      VALUE            ERROR          SIZE      DERIVATIVE \n",
      "   1  Constant     6.95630e+04   1.04653e+02   1.04464e+00   5.67702e-07\n",
      "   2  Mean         3.52312e+00   1.39110e-04   1.67995e-06   1.78138e+00\n",
      "   3  Sigma        9.43551e-02   1.31042e-04   4.71251e-06   7.94280e-01\n"
     ]
    },
    {
     "name": "stderr",
     "output_type": "stream",
     "text": [
      "Warning in <TCanvas::Constructor>: Deleting canvas with same name: cc0\n",
      "Info in <TCanvas::Print>: pdf file ECal_energy_distribution_3.5GeV.pdf has been created\n"
     ]
    },
    {
     "data": {
      "text/plain": "<IPython.core.display.HTML object>",
      "text/html": "\n\n<div id=\"root_plot_1679337051778\"\n     style=\"width: 796px; height: 572px\">\n</div>\n<script>\n\nfunction display_root_plot_1679337051778(Core) {\n   let obj = Core.parse({\"_typename\":\"TCanvas\",\"fUniqueID\":0,\"fBits\":3342344,\"fLineColor\":1,\"fLineStyle\":1,\"fLineWidth\":1,\"fFillColor\":0,\"fFillStyle\":1001,\"fLeftMargin\":0.1,\"fRightMargin\":0.1,\"fBottomMargin\":0.1,\"fTopMargin\":0.1,\"fXfile\":2,\"fYfile\":2,\"fAfile\":1,\"fXstat\":0.99,\"fYstat\":0.99,\"fAstat\":2,\"fFrameFillColor\":0,\"fFrameLineColor\":1,\"fFrameFillStyle\":1001,\"fFrameLineStyle\":1,\"fFrameLineWidth\":1,\"fFrameBorderSize\":1,\"fFrameBorderMode\":0,\"fX1\":-0.00625003771856647,\"fY1\":-9332.26944530825,\"fX2\":5.05625003771857,\"fY2\":83990.4194453082,\"fXtoAbsPixelk\":0.982771965401517,\"fXtoPixelk\":0.982771965401517,\"fXtoPixel\":157.234565558257,\"fYtoAbsPixelk\":514.800046590614,\"fYtoPixelk\":514.800046590614,\"fYtoPixel\":-0.00612927045716011,\"fUtoAbsPixelk\":5e-5,\"fUtoPixelk\":5e-5,\"fUtoPixel\":796,\"fVtoAbsPixelk\":572.00005,\"fVtoPixelk\":572,\"fVtoPixel\":-572,\"fAbsPixeltoXk\":-0.00625003771856647,\"fPixeltoXk\":-0.00625003771856647,\"fPixeltoX\":0.00635992471788585,\"fAbsPixeltoYk\":83990.4194453082,\"fPixeltoYk\":-9332.26944530825,\"fPixeltoY\":-163.151554004574,\"fXlowNDC\":0,\"fYlowNDC\":0,\"fXUpNDC\":1,\"fYUpNDC\":1,\"fWNDC\":1,\"fHNDC\":1,\"fAbsXlowNDC\":0,\"fAbsYlowNDC\":0,\"fAbsWNDC\":1,\"fAbsHNDC\":1,\"fUxmin\":0.5,\"fUymin\":0,\"fUxmax\":4.55,\"fUymax\":74658.15,\"fTheta\":30,\"fPhi\":30,\"fAspectRatio\":0,\"fNumber\":0,\"fTickx\":0,\"fTicky\":0,\"fLogx\":0,\"fLogy\":0,\"fLogz\":0,\"fPadPaint\":0,\"fCrosshair\":0,\"fCrosshairPos\":0,\"fBorderSize\":2,\"fBorderMode\":0,\"fModified\":false,\"fGridx\":false,\"fGridy\":false,\"fAbsCoord\":false,\"fEditable\":true,\"fFixedAspectRatio\":false,\"fPrimitives\":{\"_typename\":\"TList\",\"name\":\"TList\",\"arr\":[{\"_typename\":\"TFrame\",\"fUniqueID\":0,\"fBits\":8,\"fLineColor\":1,\"fLineStyle\":1,\"fLineWidth\":1,\"fFillColor\":0,\"fFillStyle\":1001,\"fX1\":0.5,\"fY1\":0,\"fX2\":4.55,\"fY2\":74658.15,\"fBorderSize\":1,\"fBorderMode\":0},{\"_typename\":\"TH1D\",\"fUniqueID\":0,\"fBits\":8,\"fName\":\"h_ecal_cluster_uncor_energy\",\"fTitle\":\"Ecal Cluster Energies for e- primary of 3.5 GeV\",\"fLineColor\":418,\"fLineStyle\":1,\"fLineWidth\":1,\"fFillColor\":0,\"fFillStyle\":1001,\"fMarkerColor\":1,\"fMarkerStyle\":1,\"fMarkerSize\":1,\"fNcells\":202,\"fXaxis\":{\"_typename\":\"TAxis\",\"fUniqueID\":0,\"fBits\":0,\"fName\":\"xaxis\",\"fTitle\":\"E[GeV]\",\"fNdivisions\":510,\"fAxisColor\":1,\"fLabelColor\":1,\"fLabelFont\":42,\"fLabelOffset\":0.005,\"fLabelSize\":0.035,\"fTickLength\":0.03,\"fTitleOffset\":1,\"fTitleSize\":0.035,\"fTitleColor\":1,\"fTitleFont\":42,\"fNbins\":200,\"fXmin\":0.5,\"fXmax\":4.55,\"fXbins\":[],\"fFirst\":0,\"fLast\":0,\"fBits2\":0,\"fTimeDisplay\":false,\"fTimeFormat\":\"\",\"fLabels\":null,\"fModLabs\":null},\"fYaxis\":{\"_typename\":\"TAxis\",\"fUniqueID\":0,\"fBits\":0,\"fName\":\"yaxis\",\"fTitle\":\"\",\"fNdivisions\":510,\"fAxisColor\":1,\"fLabelColor\":1,\"fLabelFont\":42,\"fLabelOffset\":0.005,\"fLabelSize\":0.035,\"fTickLength\":0.03,\"fTitleOffset\":0,\"fTitleSize\":0.035,\"fTitleColor\":1,\"fTitleFont\":42,\"fNbins\":1,\"fXmin\":0,\"fXmax\":1,\"fXbins\":[],\"fFirst\":0,\"fLast\":0,\"fBits2\":0,\"fTimeDisplay\":false,\"fTimeFormat\":\"\",\"fLabels\":null,\"fModLabs\":null},\"fZaxis\":{\"_typename\":\"TAxis\",\"fUniqueID\":0,\"fBits\":0,\"fName\":\"zaxis\",\"fTitle\":\"\",\"fNdivisions\":510,\"fAxisColor\":1,\"fLabelColor\":1,\"fLabelFont\":42,\"fLabelOffset\":0.005,\"fLabelSize\":0.035,\"fTickLength\":0.03,\"fTitleOffset\":1,\"fTitleSize\":0.035,\"fTitleColor\":1,\"fTitleFont\":42,\"fNbins\":1,\"fXmin\":0,\"fXmax\":1,\"fXbins\":[],\"fFirst\":0,\"fLast\":0,\"fBits2\":0,\"fTimeDisplay\":false,\"fTimeFormat\":\"\",\"fLabels\":null,\"fModLabs\":null},\"fBarOffset\":0,\"fBarWidth\":1000,\"fEntries\":936453,\"fTsumw\":936453,\"fTsumw2\":936453,\"fTsumwx\":2806278.21272612,\"fTsumwx2\":8449970.19287805,\"fMaximum\":-1111,\"fMinimum\":-1111,\"fNormFactor\":0,\"fContour\":[],\"fSumw2\":[],\"fOption\":\"\",\"fFunctions\":{\"_typename\":\"TList\",\"name\":\"TList\",\"arr\":[{\"_typename\":\"TPaveStats\",\"fUniqueID\":0,\"fBits\":9,\"fLineColor\":1,\"fLineStyle\":1,\"fLineWidth\":1,\"fFillColor\":0,\"fFillStyle\":1001,\"fX1\":3.9425001025945,\"fY1\":62992.8150011661,\"fX2\":4.95500013276935,\"fY2\":77924.4448899168,\"fX1NDC\":0.780000016093254,\"fY1NDC\":0.775000005960464,\"fX2NDC\":0.980000019073486,\"fY2NDC\":0.935000002384186,\"fBorderSize\":1,\"fInit\":1,\"fShadowColor\":1,\"fCornerRadius\":0,\"fOption\":\"brNDC\",\"fName\":\"stats\",\"fTextAngle\":0,\"fTextSize\":0,\"fTextAlign\":12,\"fTextColor\":1,\"fTextFont\":42,\"fLabel\":\"\",\"fLongest\":27,\"fMargin\":0.05,\"fLines\":{\"_typename\":\"TList\",\"name\":\"TList\",\"arr\":[{\"_typename\":\"TLatex\",\"fUniqueID\":0,\"fBits\":0,\"fName\":\"\",\"fTitle\":\"h_ecal_cluster_uncor_energy\",\"fTextAngle\":0,\"fTextSize\":0.0368,\"fTextAlign\":0,\"fTextColor\":0,\"fTextFont\":0,\"fX\":0,\"fY\":0,\"fLineColor\":1,\"fLineStyle\":1,\"fLineWidth\":2,\"fLimitFactorSize\":3,\"fOriginSize\":0.0206584223407991},{\"_typename\":\"TLatex\",\"fUniqueID\":0,\"fBits\":0,\"fName\":\"\",\"fTitle\":\"Entries = 936453 \",\"fTextAngle\":0,\"fTextSize\":0,\"fTextAlign\":0,\"fTextColor\":0,\"fTextFont\":0,\"fX\":0,\"fY\":0,\"fLineColor\":1,\"fLineStyle\":1,\"fLineWidth\":2,\"fLimitFactorSize\":3,\"fOriginSize\":0.0307157542556524},{\"_typename\":\"TLatex\",\"fUniqueID\":0,\"fBits\":0,\"fName\":\"\",\"fTitle\":\"Mean  =  2.997\",\"fTextAngle\":0,\"fTextSize\":0,\"fTextAlign\":0,\"fTextColor\":0,\"fTextFont\":0,\"fX\":0,\"fY\":0,\"fLineColor\":1,\"fLineStyle\":1,\"fLineWidth\":2,\"fLimitFactorSize\":3,\"fOriginSize\":0.0307157542556524},{\"_typename\":\"TLatex\",\"fUniqueID\":0,\"fBits\":0,\"fName\":\"\",\"fTitle\":\"Std Dev   = 0.2076\",\"fTextAngle\":0,\"fTextSize\":0,\"fTextAlign\":0,\"fTextColor\":0,\"fTextFont\":0,\"fX\":0,\"fY\":0,\"fLineColor\":1,\"fLineStyle\":1,\"fLineWidth\":2,\"fLimitFactorSize\":3,\"fOriginSize\":0.0307157542556524}],\"opt\":[\"\",\"\",\"\",\"\"]},\"fOptFit\":0,\"fOptStat\":1111,\"fFitFormat\":\"5.4g\",\"fStatFormat\":\"6.4g\",\"fParent\":{\"$ref\":3}}],\"opt\":[\"brNDC\"]},\"fBufferSize\":0,\"fBuffer\":[],\"fBinStatErrOpt\":0,\"fStatOverflows\":2,\"fArray\":{\"$arr\":\"Float64\",\"len\":202,\"p\":64,\"v\":[1,1,4,8,15,30,57,89,126,167,239,306,362,422,536,660,682,844,924,1012,1138,1244,1349,1411,1498,1696,1805,1934,2075,2147,2367,2496,2620,2830,3067,3159,3599,3772,3969,4382,4792,5021,5324,5883,6464,6834,7402,8150,8763,9730,10773,11927,12876,14598,16093,18212,20533,23565,27198,31640,37928,44753,52473,60763,66862,71103,69653,63114,53052,39999,27942,17787,10355,5514,2554,1110,440,167,48,12,3]}},{\"_typename\":\"TH1D\",\"fUniqueID\":0,\"fBits\":520,\"fName\":\"h_ecal_cluster_uncor_energy\",\"fTitle\":\"Ecal Un-corrected Cluster Energy\",\"fLineColor\":416,\"fLineStyle\":1,\"fLineWidth\":1,\"fFillColor\":0,\"fFillStyle\":1001,\"fMarkerColor\":1,\"fMarkerStyle\":1,\"fMarkerSize\":1,\"fNcells\":202,\"fXaxis\":{\"_typename\":\"TAxis\",\"fUniqueID\":0,\"fBits\":0,\"fName\":\"xaxis\",\"fTitle\":\"E[GeV]\",\"fNdivisions\":510,\"fAxisColor\":1,\"fLabelColor\":1,\"fLabelFont\":42,\"fLabelOffset\":0.005,\"fLabelSize\":0.035,\"fTickLength\":0.03,\"fTitleOffset\":1,\"fTitleSize\":0.035,\"fTitleColor\":1,\"fTitleFont\":42,\"fNbins\":200,\"fXmin\":0.5,\"fXmax\":4.55,\"fXbins\":[],\"fFirst\":0,\"fLast\":0,\"fBits2\":0,\"fTimeDisplay\":false,\"fTimeFormat\":\"\",\"fLabels\":null,\"fModLabs\":null},\"fYaxis\":{\"_typename\":\"TAxis\",\"fUniqueID\":0,\"fBits\":0,\"fName\":\"yaxis\",\"fTitle\":\"\",\"fNdivisions\":510,\"fAxisColor\":1,\"fLabelColor\":1,\"fLabelFont\":42,\"fLabelOffset\":0.005,\"fLabelSize\":0.035,\"fTickLength\":0.03,\"fTitleOffset\":0,\"fTitleSize\":0.035,\"fTitleColor\":1,\"fTitleFont\":42,\"fNbins\":1,\"fXmin\":0,\"fXmax\":1,\"fXbins\":[],\"fFirst\":0,\"fLast\":0,\"fBits2\":0,\"fTimeDisplay\":false,\"fTimeFormat\":\"\",\"fLabels\":null,\"fModLabs\":null},\"fZaxis\":{\"_typename\":\"TAxis\",\"fUniqueID\":0,\"fBits\":0,\"fName\":\"zaxis\",\"fTitle\":\"\",\"fNdivisions\":510,\"fAxisColor\":1,\"fLabelColor\":1,\"fLabelFont\":42,\"fLabelOffset\":0.005,\"fLabelSize\":0.035,\"fTickLength\":0.03,\"fTitleOffset\":1,\"fTitleSize\":0.035,\"fTitleColor\":1,\"fTitleFont\":42,\"fNbins\":1,\"fXmin\":0,\"fXmax\":1,\"fXbins\":[],\"fFirst\":0,\"fLast\":0,\"fBits2\":0,\"fTimeDisplay\":false,\"fTimeFormat\":\"\",\"fLabels\":null,\"fModLabs\":null},\"fBarOffset\":0,\"fBarWidth\":1000,\"fEntries\":868556,\"fTsumw\":868556,\"fTsumw2\":868556,\"fTsumwx\":2633311.73693383,\"fTsumwx2\":8022888.11752042,\"fMaximum\":-1111,\"fMinimum\":-1111,\"fNormFactor\":0,\"fContour\":[],\"fSumw2\":[],\"fOption\":\"\",\"fFunctions\":{\"_typename\":\"TList\",\"name\":\"TList\",\"arr\":[],\"opt\":[]},\"fBufferSize\":0,\"fBuffer\":[],\"fBinStatErrOpt\":0,\"fStatOverflows\":2,\"fArray\":{\"$arr\":\"Float64\",\"len\":202,\"p\":65,\"v\":[1,3,5,5,11,28,56,85,122,151,204,249,336,412,509,538,656,722,866,940,992,1085,1163,1289,1406,1527,1599,1772,1863,2045,2086,2268,2373,2594,2760,2991,3197,3415,3760,4033,4300,4454,4932,5340,5770,6208,6775,7261,7980,8712,9505,10206,11594,12641,14048,15373,17218,19061,21441,24911,28821,34525,40630,48042,55199,61400,64850,64802,58592,48587,36737,25456,15864,8947,4675,2202,924,328,91,32,4,1]}},{\"_typename\":\"TH1D\",\"fUniqueID\":0,\"fBits\":520,\"fName\":\"h_ecal_cluster_energy\",\"fTitle\":\"Ecal Cluster Energy\",\"fLineColor\":600,\"fLineStyle\":1,\"fLineWidth\":1,\"fFillColor\":0,\"fFillStyle\":1001,\"fMarkerColor\":1,\"fMarkerStyle\":1,\"fMarkerSize\":1,\"fNcells\":202,\"fXaxis\":{\"_typename\":\"TAxis\",\"fUniqueID\":0,\"fBits\":0,\"fName\":\"xaxis\",\"fTitle\":\"E[GeV]\",\"fNdivisions\":510,\"fAxisColor\":1,\"fLabelColor\":1,\"fLabelFont\":42,\"fLabelOffset\":0.005,\"fLabelSize\":0.035,\"fTickLength\":0.03,\"fTitleOffset\":1,\"fTitleSize\":0.035,\"fTitleColor\":1,\"fTitleFont\":42,\"fNbins\":200,\"fXmin\":0.5,\"fXmax\":4.55,\"fXbins\":[],\"fFirst\":0,\"fLast\":0,\"fBits2\":0,\"fTimeDisplay\":false,\"fTimeFormat\":\"\",\"fLabels\":null,\"fModLabs\":null},\"fYaxis\":{\"_typename\":\"TAxis\",\"fUniqueID\":0,\"fBits\":0,\"fName\":\"yaxis\",\"fTitle\":\"\",\"fNdivisions\":510,\"fAxisColor\":1,\"fLabelColor\":1,\"fLabelFont\":42,\"fLabelOffset\":0.005,\"fLabelSize\":0.035,\"fTickLength\":0.03,\"fTitleOffset\":0,\"fTitleSize\":0.035,\"fTitleColor\":1,\"fTitleFont\":42,\"fNbins\":1,\"fXmin\":0,\"fXmax\":1,\"fXbins\":[],\"fFirst\":0,\"fLast\":0,\"fBits2\":0,\"fTimeDisplay\":false,\"fTimeFormat\":\"\",\"fLabels\":null,\"fModLabs\":null},\"fZaxis\":{\"_typename\":\"TAxis\",\"fUniqueID\":0,\"fBits\":0,\"fName\":\"zaxis\",\"fTitle\":\"\",\"fNdivisions\":510,\"fAxisColor\":1,\"fLabelColor\":1,\"fLabelFont\":42,\"fLabelOffset\":0.005,\"fLabelSize\":0.035,\"fTickLength\":0.03,\"fTitleOffset\":1,\"fTitleSize\":0.035,\"fTitleColor\":1,\"fTitleFont\":42,\"fNbins\":1,\"fXmin\":0,\"fXmax\":1,\"fXbins\":[],\"fFirst\":0,\"fLast\":0,\"fBits2\":0,\"fTimeDisplay\":false,\"fTimeFormat\":\"\",\"fLabels\":null,\"fModLabs\":null},\"fBarOffset\":0,\"fBarWidth\":1000,\"fEntries\":868556,\"fTsumw\":868556,\"fTsumw2\":868556,\"fTsumwx\":3052588.43257904,\"fTsumwx2\":10758387.1516857,\"fMaximum\":-1111,\"fMinimum\":-1111,\"fNormFactor\":0,\"fContour\":[],\"fSumw2\":[],\"fOption\":\"\",\"fFunctions\":{\"_typename\":\"TList\",\"name\":\"TList\",\"arr\":[{\"_typename\":\"TF1\",\"fUniqueID\":0,\"fBits\":1544,\"fName\":\"gaus\",\"fTitle\":\"gaus\",\"fLineColor\":633,\"fLineStyle\":1,\"fLineWidth\":1,\"fFillColor\":19,\"fFillStyle\":0,\"fMarkerColor\":1,\"fMarkerStyle\":1,\"fMarkerSize\":1,\"fXmin\":3.40911902007662,\"fXmax\":3.79572014606469,\"fNpar\":3,\"fNdim\":1,\"fNpx\":100,\"fType\":0,\"fNpfits\":19,\"fNDF\":16,\"fChisquare\":1238.42035151526,\"fMinimum\":-1111,\"fMaximum\":-1111,\"fParErrors\":[99.9487572085103,1.39068843799317e-4,1.24184687792843e-4],\"fParMin\":[0,0,0],\"fParMax\":[0,0,0.815857780743144],\"fSave\":{\"$arr\":\"Float64\",\"len\":103,\"v\":[14843.1321516984,15924.2861276009,17054.863825546,18234.3549841308,19461.953025695,20736.5403005902,22056.6750831853,23420.580575682,24826.136167925,26270.8711894565,27751.9613740458,29266.2282367886,30810.1415397162,32379.8249938091,33971.0653135925,35579.3247054298,37199.7568325535,38827.2262592812,40456.3313342189,42081.4304281831,43696.6713976516,45296.0240995016,46873.3157382811,48422.2687840157,49936.5411573307,51409.7683401448,52835.6070351244,54207.7799660877,55520.1213852751,56766.622832391,57941.4786750449,59039.1309510964,60054.3130306963,60982.0916197537,61817.9066371745,62557.6085155349,63197.4924986702,63734.3295397557,64165.3934394286,64488.4839048709,64701.9452569751,64804.6805630523,64796.1610262925,64676.4305195212,64446.105208864,64106.3682718347,63658.9597732025,63106.1618198458,62450.7791718037,61696.1155400033,60845.9458509055,59904.4848038031,58876.3520870948,57766.534654957,56580.346494987,55323.3863402413,54001.4937953717,52620.7043561776,51187.2038047826,49707.2824589543,48187.2897439815,46633.5895393561,45052.5167306488,43450.3353699297,41833.1988164384,40207.112193542,38577.8974590652,36951.1613444712,35332.2663749078,33726.3051374781,32138.077920025,30572.0737978849,29032.4552021677,27523.0459607651,26047.3227630351,24608.4099614845,23209.0775891846,21851.7424404941,20538.4720351923,19270.9912625846,18050.6914826313,16878.6418457546,15755.6025816812,14682.0400003747,13658.142944705,12683.8404347477,11758.8202472945,10882.5481809843,10054.2877671157,9273.12019834358,8537.96426171815,7847.59607854681,7200.66847095862,6595.72979347945,6031.24208701755,5505.59843208632,5017.13939753861,4564.16850025859,4144.96660990582,3757.8052506881,3400.95876907215,3.40911902007662,3.79572014606469]},\"fNormalized\":false,\"fNormIntegral\":0,\"fFormula\":{\"_typename\":\"TFormula\",\"fUniqueID\":0,\"fBits\":1024,\"fName\":\"gaus\",\"fTitle\":\"gaus\",\"fClingParameters\":[64814.6644006307,3.56926263950204,0.0932710133600993],\"fAllParametersSetted\":true,\"fParams\":[{\"$pair\":\"pair<TString,int,TFormulaParamOrder>\",\"first\":\"Constant\",\"second\":0},{\"$pair\":\"pair<TString,int,TFormulaParamOrder>\",\"first\":\"Mean\",\"second\":1},{\"$pair\":\"pair<TString,int,TFormulaParamOrder>\",\"first\":\"Sigma\",\"second\":2}],\"fFormula\":\"[Constant]*exp(-0.5*((x-[Mean])\\/[Sigma])*((x-[Mean])\\/[Sigma]))\",\"fNdim\":1,\"fLinearParts\":[],\"fVectorized\":false},\"fParams\":null,\"fComposition\":null}],\"opt\":[\"\"]},\"fBufferSize\":0,\"fBuffer\":[],\"fBinStatErrOpt\":0,\"fStatOverflows\":2,\"fArray\":{\"$arr\":\"Float64\",\"len\":202,\"p\":83,\"v\":[1,2,2,1,2,11,4,21,17,20,38,59,81,103,150,184,191,238,299,357,351,435,487,576,617,671,745,825,849,922,999,1141,1199,1298,1409,1415,1521,1614,1728,1871,1924,2151,2202,2373,2470,2617,2857,3153,3439,3647,4026,4431,4758,5428,5951,6731,7829,8807,10573,12239,15231,18398,23073,28600,34935,42003,49004,56149,61831,64963,64976,61260,55294,46254,37250,28339,20477,13840,9254,6097,3838,2347,1517,896,599,382,274,162,138,113,106,97,106,73,85,80,74,67,60,44,61,42,35,20,16,17,5,6,5,2,1]}},{\"$ref\":3},{\"_typename\":\"TH1D\",\"fUniqueID\":0,\"fBits\":8,\"fName\":\"h_ecal_cluster_energy\",\"fTitle\":\"Ecal Cluster Energy\",\"fLineColor\":432,\"fLineStyle\":1,\"fLineWidth\":1,\"fFillColor\":0,\"fFillStyle\":1001,\"fMarkerColor\":1,\"fMarkerStyle\":1,\"fMarkerSize\":1,\"fNcells\":202,\"fXaxis\":{\"_typename\":\"TAxis\",\"fUniqueID\":0,\"fBits\":0,\"fName\":\"xaxis\",\"fTitle\":\"E[GeV]\",\"fNdivisions\":510,\"fAxisColor\":1,\"fLabelColor\":1,\"fLabelFont\":42,\"fLabelOffset\":0.005,\"fLabelSize\":0.035,\"fTickLength\":0.03,\"fTitleOffset\":1,\"fTitleSize\":0.035,\"fTitleColor\":1,\"fTitleFont\":42,\"fNbins\":200,\"fXmin\":0.5,\"fXmax\":4.55,\"fXbins\":[],\"fFirst\":0,\"fLast\":0,\"fBits2\":0,\"fTimeDisplay\":false,\"fTimeFormat\":\"\",\"fLabels\":null,\"fModLabs\":null},\"fYaxis\":{\"_typename\":\"TAxis\",\"fUniqueID\":0,\"fBits\":0,\"fName\":\"yaxis\",\"fTitle\":\"\",\"fNdivisions\":510,\"fAxisColor\":1,\"fLabelColor\":1,\"fLabelFont\":42,\"fLabelOffset\":0.005,\"fLabelSize\":0.035,\"fTickLength\":0.03,\"fTitleOffset\":0,\"fTitleSize\":0.035,\"fTitleColor\":1,\"fTitleFont\":42,\"fNbins\":1,\"fXmin\":0,\"fXmax\":1,\"fXbins\":[],\"fFirst\":0,\"fLast\":0,\"fBits2\":0,\"fTimeDisplay\":false,\"fTimeFormat\":\"\",\"fLabels\":null,\"fModLabs\":null},\"fZaxis\":{\"_typename\":\"TAxis\",\"fUniqueID\":0,\"fBits\":0,\"fName\":\"zaxis\",\"fTitle\":\"\",\"fNdivisions\":510,\"fAxisColor\":1,\"fLabelColor\":1,\"fLabelFont\":42,\"fLabelOffset\":0.005,\"fLabelSize\":0.035,\"fTickLength\":0.03,\"fTitleOffset\":1,\"fTitleSize\":0.035,\"fTitleColor\":1,\"fTitleFont\":42,\"fNbins\":1,\"fXmin\":0,\"fXmax\":1,\"fXbins\":[],\"fFirst\":0,\"fLast\":0,\"fBits2\":0,\"fTimeDisplay\":false,\"fTimeFormat\":\"\",\"fLabels\":null,\"fModLabs\":null},\"fBarOffset\":0,\"fBarWidth\":1000,\"fEntries\":936453,\"fTsumw\":936453,\"fTsumw2\":936453,\"fTsumwx\":3251015.46885562,\"fTsumwx2\":11317455.9342882,\"fMaximum\":-1111,\"fMinimum\":-1111,\"fNormFactor\":0,\"fContour\":[],\"fSumw2\":[],\"fOption\":\"\",\"fFunctions\":{\"_typename\":\"TList\",\"name\":\"TList\",\"arr\":[{\"_typename\":\"TF1\",\"fUniqueID\":0,\"fBits\":1544,\"fName\":\"gaus\",\"fTitle\":\"gaus\",\"fLineColor\":632,\"fLineStyle\":1,\"fLineWidth\":1,\"fFillColor\":19,\"fFillStyle\":0,\"fMarkerColor\":1,\"fMarkerStyle\":1,\"fMarkerSize\":1,\"fXmin\":3.36747813802716,\"fXmax\":3.74935710213334,\"fNpar\":3,\"fNdim\":1,\"fNpx\":100,\"fType\":0,\"fNpfits\":18,\"fNDF\":15,\"fChisquare\":714.506477973583,\"fMinimum\":-1111,\"fMaximum\":-1111,\"fParErrors\":[104.653347418873,1.39109930221953e-4,1.31042432084498e-4],\"fParMin\":[0,0,0],\"fParMax\":[0,0,0.802987481080854],\"fSave\":{\"$arr\":\"Float64\",\"len\":103,\"v\":[17846.9453146393,19063.4356823023,20329.5174035466,21644.2020737631,23006.1901907702,24413.8598238118,25865.2572801337,27358.0899891446,28889.7218116631,30457.1709656696,32057.1107403826,33685.8731474303,35339.4556315584,37013.5309339064,38703.460168694,40404.3091395141,42110.8678847309,43817.6734031998,45519.0354721343,47209.0654290149,48881.7077495256,50530.7742142173,52149.9804185521,53732.9843447947,55273.4266804879,56764.9725375826,58201.3541992314,59576.4144983274,60884.1504135352,62118.7564552196,63274.6674056597,64346.5999754928,65329.5929416223,66219.0453409255,67010.7523089796,67700.938173581,68286.286438836,68763.9663267603,69131.6555792282,69387.5592632978,69530.4243668381,69559.5500183924,69474.7932146426,69276.5699899853,68965.8520148337,68544.1586615651,68013.5446287618,67376.583264794,66636.3457801284,65796.3765833129,64860.665017752,63833.6138145383,62720.0046102507,61524.9609073126,60253.9088778743,58912.5364299939,57506.7509669535,56042.6362768067,54526.4089897302,52964.3750355535,51362.8865231908,49728.2994478685,48066.9326114096,46385.0281158281,44688.7137615952,42983.9676497035,41276.5852516514,39572.1491742962,37876.0018077949,36193.2210051884,34528.598902186,32886.6239459751,31271.4661629637,29686.9656577957,28136.6243002308,26623.6005229909,25150.7071227991,23720.4119289096,22334.8411786704,20995.7854182865,19704.707729061,18462.7540650594,17270.7654773569,16129.2919927481,15038.6079108954,13998.7282832299,13009.4263392921,12070.2516313721,11180.5486760324,10339.4758810737,9546.02455844789,8799.0378372137,8097.22930556273,7439.20122690486,6823.46219168484,6248.44408372021,5712.51825712388,5214.01083704991,4751.21707434152,4322.41470045972,3925.87624464302,3.36747813802716,3.74935710213334]},\"fNormalized\":false,\"fNormIntegral\":0,\"fFormula\":{\"_typename\":\"TFormula\",\"fUniqueID\":0,\"fBits\":1024,\"fName\":\"gaus\",\"fTitle\":\"gaus\",\"fClingParameters\":[69562.9508959364,3.52311549026821,0.0943551402614519],\"fAllParametersSetted\":true,\"fParams\":[{\"$pair\":\"pair<TString,int,TFormulaParamOrder>\",\"first\":\"Constant\",\"second\":0},{\"$pair\":\"pair<TString,int,TFormulaParamOrder>\",\"first\":\"Mean\",\"second\":1},{\"$pair\":\"pair<TString,int,TFormulaParamOrder>\",\"first\":\"Sigma\",\"second\":2}],\"fFormula\":\"[Constant]*exp(-0.5*((x-[Mean])\\/[Sigma])*((x-[Mean])\\/[Sigma]))\",\"fNdim\":1,\"fLinearParts\":[],\"fVectorized\":false},\"fParams\":null,\"fComposition\":null}],\"opt\":[\"\"]},\"fBufferSize\":0,\"fBuffer\":[],\"fBinStatErrOpt\":0,\"fStatOverflows\":2,\"fArray\":{\"$arr\":\"Float64\",\"len\":202,\"p\":81,\"v\":[2,0,0,2,3,6,6,10,11,25,32,44,67,107,133,148,195,240,286,315,383,459,478,554,623,685,799,817,941,1000,1061,1176,1231,1299,1496,1520,1615,1727,1839,2035,2036,2195,2344,2500,2541,2849,2938,3289,3656,3851,4242,4629,5149,5748,6393,7230,8462,9598,11692,14205,17285,21043,26757,33118,40024,48093,56129,62754,68082,69945,68574,64209,56282,47048,37065,28391,20543,14218,9570,6210,3936,2536,1675,1000,694,478,307,206,157,108,116,110,95,83,107,98,75,70,57,59,54,45,31,32,28,11,11,9,3,2,2,1]}},{\"$ref\":24},{\"$ref\":31},{\"_typename\":\"TLegend\",\"fUniqueID\":0,\"fBits\":8,\"fLineColor\":1,\"fLineStyle\":1,\"fLineWidth\":1,\"fFillColor\":0,\"fFillStyle\":1001,\"fX1\":0.499999969825147,\"fY1\":55993.6127781233,\"fX2\":2.42374999849126,\"fY2\":74658.1505562466,\"fX1NDC\":0.1,\"fY1NDC\":0.7,\"fX2NDC\":0.48,\"fY2NDC\":0.9,\"fBorderSize\":1,\"fInit\":1,\"fShadowColor\":1,\"fCornerRadius\":0,\"fOption\":\"brNDC\",\"fName\":\"TPave\",\"fTextAngle\":0,\"fTextSize\":0,\"fTextAlign\":12,\"fTextColor\":1,\"fTextFont\":42,\"fPrimitives\":{\"_typename\":\"TList\",\"name\":\"TList\",\"arr\":[{\"_typename\":\"TLegendEntry\",\"fUniqueID\":0,\"fBits\":0,\"fTextAngle\":0,\"fTextSize\":0,\"fTextAlign\":0,\"fTextColor\":0,\"fTextFont\":42,\"fLineColor\":416,\"fLineStyle\":1,\"fLineWidth\":1,\"fFillColor\":0,\"fFillStyle\":1001,\"fMarkerColor\":1,\"fMarkerStyle\":1,\"fMarkerSize\":1,\"fObject\":{\"$ref\":14},\"fLabel\":\"Uncor Cluster E, no threshold\",\"fOption\":\"lpf\"},{\"_typename\":\"TLegendEntry\",\"fUniqueID\":0,\"fBits\":0,\"fTextAngle\":0,\"fTextSize\":0,\"fTextAlign\":0,\"fTextColor\":0,\"fTextFont\":42,\"fLineColor\":418,\"fLineStyle\":1,\"fLineWidth\":1,\"fFillColor\":0,\"fFillStyle\":1001,\"fMarkerColor\":1,\"fMarkerStyle\":1,\"fMarkerSize\":1,\"fObject\":{\"$ref\":3},\"fLabel\":\"Uncor Cluster E, thres = 0.03\",\"fOption\":\"lpf\"},{\"_typename\":\"TLegendEntry\",\"fUniqueID\":0,\"fBits\":0,\"fTextAngle\":0,\"fTextSize\":0,\"fTextAlign\":0,\"fTextColor\":0,\"fTextFont\":42,\"fLineColor\":600,\"fLineStyle\":1,\"fLineWidth\":1,\"fFillColor\":0,\"fFillStyle\":1001,\"fMarkerColor\":1,\"fMarkerStyle\":1,\"fMarkerSize\":1,\"fObject\":{\"$ref\":19},\"fLabel\":\"Cluster E, no threshold\",\"fOption\":\"lpf\"},{\"_typename\":\"TLegendEntry\",\"fUniqueID\":0,\"fBits\":0,\"fTextAngle\":0,\"fTextSize\":0,\"fTextAlign\":0,\"fTextColor\":0,\"fTextFont\":42,\"fLineColor\":432,\"fLineStyle\":1,\"fLineWidth\":1,\"fFillColor\":0,\"fFillStyle\":1001,\"fMarkerColor\":1,\"fMarkerStyle\":1,\"fMarkerSize\":1,\"fObject\":{\"$ref\":26},\"fLabel\":\"Cluster E, thres = 0.03\",\"fOption\":\"lpf\"}],\"opt\":[\"lpf\",\"lpf\",\"lpf\",\"lpf\"]},\"fEntrySeparation\":0.1,\"fMargin\":0.25,\"fNColumns\":1,\"fColumnSeparation\":0},{\"_typename\":\"TPaveText\",\"fUniqueID\":0,\"fBits\":8,\"fLineColor\":1,\"fLineStyle\":1,\"fLineWidth\":1,\"fFillColor\":19,\"fFillStyle\":1001,\"fX1\":0.651874972088261,\"fY1\":27996.8061109384,\"fX2\":2.27187499622814,\"fY2\":46661.3438890617,\"fX1NDC\":0.13,\"fY1NDC\":0.4,\"fX2NDC\":0.45,\"fY2NDC\":0.6,\"fBorderSize\":4,\"fInit\":1,\"fShadowColor\":1,\"fCornerRadius\":0,\"fOption\":\"brNDC\",\"fName\":\"TPave\",\"fTextAngle\":0,\"fTextSize\":0,\"fTextAlign\":12,\"fTextColor\":1,\"fTextFont\":42,\"fLabel\":\"\",\"fLongest\":47,\"fMargin\":0.05,\"fLines\":{\"_typename\":\"TList\",\"name\":\"TList\",\"arr\":[{\"_typename\":\"TLatex\",\"fUniqueID\":0,\"fBits\":0,\"fName\":\"\",\"fTitle\":\"Uncor Cluster E no thresh,   mean = 3.03 GeV\",\"fTextAngle\":0,\"fTextSize\":0,\"fTextAlign\":0,\"fTextColor\":416,\"fTextFont\":0,\"fX\":0,\"fY\":0,\"fLineColor\":1,\"fLineStyle\":1,\"fLineWidth\":2,\"fLimitFactorSize\":3,\"fOriginSize\":0.0210117138922215},{\"_typename\":\"TLatex\",\"fUniqueID\":0,\"fBits\":0,\"fName\":\"\",\"fTitle\":\"Uncor Cluster E thresh=0.03, mean = 3.00 GeV\",\"fTextAngle\":0,\"fTextSize\":0,\"fTextAlign\":0,\"fTextColor\":418,\"fTextFont\":0,\"fX\":0,\"fY\":0,\"fLineColor\":1,\"fLineStyle\":1,\"fLineWidth\":2,\"fLimitFactorSize\":3,\"fOriginSize\":0.0210117138922215},{\"_typename\":\"TLatex\",\"fUniqueID\":0,\"fBits\":0,\"fName\":\"\",\"fTitle\":\"Cor Cluster no thresh,       mean = 3.51 GeV\",\"fTextAngle\":0,\"fTextSize\":0,\"fTextAlign\":0,\"fTextColor\":600,\"fTextFont\":0,\"fX\":0,\"fY\":0,\"fLineColor\":1,\"fLineStyle\":1,\"fLineWidth\":2,\"fLimitFactorSize\":3,\"fOriginSize\":0.0210117138922215},{\"_typename\":\"TLatex\",\"fUniqueID\":0,\"fBits\":0,\"fName\":\"\",\"fTitle\":\"Cor Cluster E thresh=0.03,   mean = 3.47 GeV\",\"fTextAngle\":0,\"fTextSize\":0,\"fTextAlign\":0,\"fTextColor\":432,\"fTextFont\":0,\"fX\":0,\"fY\":0,\"fLineColor\":1,\"fLineStyle\":1,\"fLineWidth\":2,\"fLimitFactorSize\":3,\"fOriginSize\":0.0210117138922215},{\"_typename\":\"TLatex\",\"fUniqueID\":0,\"fBits\":0,\"fName\":\"\",\"fTitle\":\"Cor Cluster no thresh,       fit #mu = 3.57 GeV\",\"fTextAngle\":0,\"fTextSize\":0,\"fTextAlign\":0,\"fTextColor\":633,\"fTextFont\":0,\"fX\":0,\"fY\":0,\"fLineColor\":1,\"fLineStyle\":1,\"fLineWidth\":2,\"fLimitFactorSize\":3,\"fOriginSize\":0.0210117138922215},{\"_typename\":\"TLatex\",\"fUniqueID\":0,\"fBits\":0,\"fName\":\"\",\"fTitle\":\"Cor Cluster E thresh=0.03,   fit #mu = 3.52 GeV\",\"fTextAngle\":0,\"fTextSize\":0,\"fTextAlign\":0,\"fTextColor\":632,\"fTextFont\":0,\"fX\":0,\"fY\":0,\"fLineColor\":1,\"fLineStyle\":1,\"fLineWidth\":2,\"fLimitFactorSize\":3,\"fOriginSize\":0.0210117138922215}],\"opt\":[\"\",\"\",\"\",\"\",\"\",\"\"]}},{\"_typename\":\"TPaveText\",\"fUniqueID\":0,\"fBits\":9,\"fLineColor\":1,\"fLineStyle\":1,\"fLineWidth\":1,\"fFillColor\":0,\"fFillStyle\":0,\"fX1\":0.753124973597004,\"fY1\":77846.1323664932,\"fX2\":4.296875026403,\"fY2\":83523.8064458524,\"fX1NDC\":0.15,\"fY1NDC\":0.934160843929211,\"fX2NDC\":0.85,\"fY2NDC\":0.995000004768372,\"fBorderSize\":0,\"fInit\":1,\"fShadowColor\":1,\"fCornerRadius\":0,\"fOption\":\"blNDC\",\"fName\":\"title\",\"fTextAngle\":0,\"fTextSize\":0,\"fTextAlign\":22,\"fTextColor\":1,\"fTextFont\":42,\"fLabel\":\"\",\"fLongest\":47,\"fMargin\":0.05,\"fLines\":{\"_typename\":\"TList\",\"name\":\"TList\",\"arr\":[{\"_typename\":\"TLatex\",\"fUniqueID\":0,\"fBits\":0,\"fName\":\"\",\"fTitle\":\"Ecal Cluster Energies for e- primary of 3.5 GeV\",\"fTextAngle\":0,\"fTextSize\":0,\"fTextAlign\":0,\"fTextColor\":0,\"fTextFont\":0,\"fX\":0,\"fY\":0,\"fLineColor\":1,\"fLineStyle\":1,\"fLineWidth\":2,\"fLimitFactorSize\":3,\"fOriginSize\":0.0453153364360332}],\"opt\":[\"\"]}},{\"_typename\":\"TStyle\",\"fUniqueID\":0,\"fBits\":0,\"fName\":\"Modern\",\"fTitle\":\"Modern Style\",\"fLineColor\":1,\"fLineStyle\":1,\"fLineWidth\":1,\"fFillColor\":19,\"fFillStyle\":1001,\"fMarkerColor\":1,\"fMarkerStyle\":1,\"fMarkerSize\":1,\"fTextAngle\":0,\"fTextSize\":0.05,\"fTextAlign\":11,\"fTextColor\":1,\"fTextFont\":62,\"fXaxis\":{\"_typename\":\"TAttAxis\",\"fNdivisions\":510,\"fAxisColor\":1,\"fLabelColor\":1,\"fLabelFont\":42,\"fLabelOffset\":0.005,\"fLabelSize\":0.035,\"fTickLength\":0.03,\"fTitleOffset\":1,\"fTitleSize\":0.035,\"fTitleColor\":1,\"fTitleFont\":42},\"fYaxis\":{\"_typename\":\"TAttAxis\",\"fNdivisions\":510,\"fAxisColor\":1,\"fLabelColor\":1,\"fLabelFont\":42,\"fLabelOffset\":0.005,\"fLabelSize\":0.035,\"fTickLength\":0.03,\"fTitleOffset\":0,\"fTitleSize\":0.035,\"fTitleColor\":1,\"fTitleFont\":42},\"fZaxis\":{\"_typename\":\"TAttAxis\",\"fNdivisions\":510,\"fAxisColor\":1,\"fLabelColor\":1,\"fLabelFont\":42,\"fLabelOffset\":0.005,\"fLabelSize\":0.035,\"fTickLength\":0.03,\"fTitleOffset\":1,\"fTitleSize\":0.035,\"fTitleColor\":1,\"fTitleFont\":42},\"fBarWidth\":1,\"fBarOffset\":0,\"fColorModelPS\":0,\"fDrawBorder\":0,\"fOptLogx\":0,\"fOptLogy\":0,\"fOptLogz\":0,\"fOptDate\":0,\"fOptStat\":1111,\"fOptTitle\":1,\"fOptFile\":0,\"fOptFit\":0,\"fShowEventStatus\":0,\"fShowEditor\":0,\"fShowToolBar\":0,\"fNumberContours\":20,\"fAttDate\":{\"_typename\":\"TAttText\",\"fTextAngle\":0,\"fTextSize\":0.025,\"fTextAlign\":11,\"fTextColor\":1,\"fTextFont\":62},\"fDateX\":0.01,\"fDateY\":0.01,\"fEndErrorSize\":2,\"fErrorX\":0.5,\"fFuncColor\":2,\"fFuncStyle\":1,\"fFuncWidth\":2,\"fGridColor\":0,\"fGridStyle\":3,\"fGridWidth\":1,\"fLegendBorderSize\":1,\"fLegendFillColor\":0,\"fLegendFont\":42,\"fLegendTextSize\":0,\"fHatchesLineWidth\":1,\"fHatchesSpacing\":1,\"fFrameFillColor\":0,\"fFrameLineColor\":1,\"fFrameFillStyle\":1001,\"fFrameLineStyle\":1,\"fFrameLineWidth\":1,\"fFrameBorderSize\":1,\"fFrameBorderMode\":0,\"fHistFillColor\":0,\"fHistLineColor\":602,\"fHistFillStyle\":1001,\"fHistLineStyle\":1,\"fHistLineWidth\":1,\"fHistMinimumZero\":false,\"fHistTopMargin\":0.05,\"fCanvasPreferGL\":false,\"fCanvasColor\":0,\"fCanvasBorderSize\":2,\"fCanvasBorderMode\":0,\"fCanvasDefH\":500,\"fCanvasDefW\":700,\"fCanvasDefX\":10,\"fCanvasDefY\":10,\"fPadColor\":0,\"fPadBorderSize\":2,\"fPadBorderMode\":0,\"fPadBottomMargin\":0.1,\"fPadTopMargin\":0.1,\"fPadLeftMargin\":0.1,\"fPadRightMargin\":0.1,\"fPadGridX\":false,\"fPadGridY\":false,\"fPadTickX\":0,\"fPadTickY\":0,\"fPaperSizeX\":20,\"fPaperSizeY\":26,\"fScreenFactor\":1,\"fStatColor\":0,\"fStatTextColor\":1,\"fStatBorderSize\":1,\"fStatFont\":42,\"fStatFontSize\":0,\"fStatStyle\":1001,\"fStatFormat\":\"6.4g\",\"fStatX\":0.98,\"fStatY\":0.935,\"fStatW\":0.2,\"fStatH\":0.16,\"fStripDecimals\":true,\"fTitleAlign\":23,\"fTitleColor\":0,\"fTitleTextColor\":1,\"fTitleBorderSize\":0,\"fTitleFont\":42,\"fTitleFontSize\":0.05,\"fTitleStyle\":0,\"fTitleX\":0.5,\"fTitleY\":0.995,\"fTitleW\":0,\"fTitleH\":0,\"fLegoInnerR\":0.5,\"fLineStyles\":[\"\",\"  \",\" 12 12\",\" 4 8\",\" 12 16 4 16\",\" 20 12 4 12\",\" 20 12 4 12 4 12 4 12\",\" 20 20\",\" 20 12 4 12 4 12\",\" 80 20\",\" 80 40 4 40\",\"  \",\"  \",\"  \",\"  \",\"  \",\"  \",\"  \",\"  \",\"  \",\"  \",\"  \",\"  \",\"  \",\"  \",\"  \",\"  \",\"  \",\"  \",\"  \"],\"fHeaderPS\":\"\",\"fTitlePS\":\"\",\"fFitFormat\":\"5.4g\",\"fPaintTextFormat\":\"g\",\"fLineScalePS\":3,\"fJoinLinePS\":0,\"fCapLinePS\":0,\"fTimeOffset\":788918400,\"fImageScaling\":1}],\"opt\":[\"\",\"\",\"same\",\"sameE\",\"same\",\"sameE\",\"same\",\"same\",\"\",\"brNDC\",\"blNDC\",\"\"]},\"fExecs\":null,\"fName\":\"cc0\",\"fTitle\":\"CC0\",\"fNumPaletteColor\":0,\"fNextPaletteColor\":0,\"fDISPLAY\":\"$DISPLAY\",\"fDoubleBuffer\":0,\"fRetained\":true,\"fXsizeUser\":0,\"fYsizeUser\":0,\"fXsizeReal\":20,\"fYsizeReal\":15,\"fWindowTopX\":0,\"fWindowTopY\":0,\"fWindowWidth\":0,\"fWindowHeight\":0,\"fCw\":796,\"fCh\":572,\"fCatt\":{\"_typename\":\"TAttCanvas\",\"fXBetween\":2,\"fYBetween\":2,\"fTitleFromTop\":1.2,\"fXdate\":0.2,\"fYdate\":0.3,\"fAdate\":1},\"kMoveOpaque\":true,\"kResizeOpaque\":true,\"fHighLightColor\":2,\"fBatch\":true,\"kShowEventStatus\":false,\"kAutoExec\":true,\"kMenuBar\":true});\n   Core.settings.HandleKeys = false;\n   Core.draw(\"root_plot_1679337051778\", obj, \"\");\n}\n\nfunction script_load_root_plot_1679337051778(src, on_error) {\n    let script = document.createElement('script');\n    script.src = src;\n    script.onload = function() { display_root_plot_1679337051778(JSROOT); };\n    script.onerror = function() { script.remove(); on_error(); };\n    document.head.appendChild(script);\n}\n\nif (typeof requirejs !== 'undefined') {\n\n    // We are in jupyter notebooks, use require.js which should be configured already\n    requirejs.config({\n       paths: { 'JSRootCore' : [ 'build/jsroot', 'https://root.cern/js/7.2.1/build/jsroot', 'https://jsroot.gsi.de/7.2.1/build/jsroot' ] }\n    })(['JSRootCore'],  function(Core) {\n       display_root_plot_1679337051778(Core);\n    });\n\n} else if (typeof JSROOT !== 'undefined') {\n\n   // JSROOT already loaded, just use it\n   display_root_plot_1679337051778(JSROOT);\n\n} else {\n\n    // We are in jupyterlab without require.js, directly loading jsroot\n    // Jupyterlab might be installed in a different base_url so we need to know it.\n    try {\n        var base_url = JSON.parse(document.getElementById('jupyter-config-data').innerHTML).baseUrl;\n    } catch(_) {\n        var base_url = '/';\n    }\n\n    // Try loading a local version of requirejs and fallback to cdn if not possible.\n    script_load_root_plot_1679337051778(base_url + 'static/build/jsroot.js', function(){\n        console.error('Fail to load JSROOT locally, please check your jupyter_notebook_config.py file');\n        script_load_root_plot_1679337051778('https://root.cern/js/7.2.1/build/jsroot.js', function(){\n            document.getElementById(\"root_plot_1679337051778\").innerHTML = \"Failed to load JSROOT\";\n        });\n    });\n}\n\n</script>\n"
     },
     "metadata": {},
     "output_type": "display_data"
    }
   ],
   "source": [
    "# R.gaustailn.SetParameters(20000, 4.9, 0.15, 5.);\n",
    "cc0 = R.TCanvas(\"cc0\",\"CC0\",800, 600)\n",
    "xax = h_ecal_cluster_energy.GetXaxis()\n",
    "\n",
    "h_ecal_cluster_energy_uncor.SetStats(0)\n",
    "h_ecal_cluster_energy.SetStats(0)\n",
    "h_ecal_cluster_energy_uncor.SetLineColor(R.kGreen)\n",
    "h_ecal_cluster_energy.SetLineColor(R.kBlue)\n",
    "h2_ecal_cluster_energy_uncor.SetLineColor(R.kGreen+2)\n",
    "h2_ecal_cluster_energy.SetLineColor(R.kCyan)\n",
    "h2_ecal_cluster_energy_uncor.SetTitle(f\"Ecal Cluster Energies for e- primary of {file_peak_e} GeV\")\n",
    "h2_ecal_cluster_energy_uncor.Draw()\n",
    "h_ecal_cluster_energy_uncor.Draw(\"same\")\n",
    "h_ecal_cluster_energy.Draw(\"sameE\")\n",
    "h2_ecal_cluster_energy_uncor.Draw(\"same\")\n",
    "h2_ecal_cluster_energy.Draw(\"sameE\")\n",
    "\n",
    "#R.gaustailn.Draw(\"same\")\n",
    "fit_result = h_ecal_cluster_energy.Fit(\"gaus\",\"S0\",\"\",h_ecal_cluster_energy.GetMean()*0.97,h_ecal_cluster_energy.GetMean()*1.08)\n",
    "fit_result2 = h2_ecal_cluster_energy.Fit(\"gaus\",\"S0\",\"\",h2_ecal_cluster_energy.GetMean()*0.97,h2_ecal_cluster_energy.GetMean()*1.08)\n",
    "\n",
    "fit_fun = h_ecal_cluster_energy.GetFunction(\"gaus\")\n",
    "fit_fun.SetLineWidth(1)\n",
    "fit_fun.SetLineColor(R.kRed+1)\n",
    "fit_fun.Draw(\"same\")\n",
    "fit_fun2 = h2_ecal_cluster_energy.GetFunction(\"gaus\")\n",
    "fit_fun2.SetLineWidth(1)\n",
    "fit_fun2.SetLineColor(R.kRed)\n",
    "fit_fun2.Draw(\"same\")\n",
    "\n",
    "leg = R.TLegend(0.1,0.7,0.48,0.9)\n",
    "leg.AddEntry(h_ecal_cluster_energy_uncor.GetPtr(),\"Uncor Cluster E, no threshold\")\n",
    "leg.AddEntry(h2_ecal_cluster_energy_uncor.GetPtr(),\"Uncor Cluster E, thres = 0.03\")\n",
    "leg.AddEntry(h_ecal_cluster_energy.GetPtr(),\"Cluster E, no threshold\")\n",
    "leg.AddEntry(h2_ecal_cluster_energy.GetPtr(),\"Cluster E, thres = 0.03\")\n",
    "leg.Draw()\n",
    "\n",
    "text = R.TPaveText(0.13,0.4,0.45,0.6,\"NDC\")\n",
    "text.SetTextFont(42)\n",
    "text.SetTextAlign(12)\n",
    "pt1 = text.AddText(f\"Uncor Cluster E no thresh,   mean = {h_ecal_cluster_energy_uncor.GetMean():4.2f} GeV\")\n",
    "pt1.SetTextColor(R.kGreen)\n",
    "pt2 = text.AddText(f\"Uncor Cluster E thresh=0.03, mean = {h2_ecal_cluster_energy_uncor.GetMean():4.2f} GeV\")\n",
    "pt2.SetTextColor(R.kGreen+2)\n",
    "pt3 = text.AddText(f\"Cor Cluster no thresh,       mean = {h_ecal_cluster_energy.GetMean():4.2f} GeV\")\n",
    "pt3.SetTextColor(R.kBlue)\n",
    "pt4 = text.AddText(f\"Cor Cluster E thresh=0.03,   mean = {h2_ecal_cluster_energy.GetMean():4.2f} GeV\")\n",
    "pt4.SetTextColor(R.kCyan)\n",
    "pt5 = text.AddText(f\"Cor Cluster no thresh,       fit #mu = {fit_result.Parameter(1):4.2f} GeV\")\n",
    "pt5.SetTextColor(R.kRed+1)\n",
    "pt6 = text.AddText(f\"Cor Cluster E thresh=0.03,   fit #mu = {fit_result2.Parameter(1):4.2f} GeV\")\n",
    "pt6.SetTextColor(R.kRed)\n",
    "\n",
    "text.Draw()\n",
    "\n",
    "\n",
    "cc0.Draw()\n",
    "cc0.SaveAs(f\"ECal_energy_distribution_{file_peak_e}GeV_2019.pdf\")"
   ],
   "metadata": {
    "collapsed": false
   }
  }
 ],
 "metadata": {
  "kernelspec": {
   "display_name": "Python 3 (ipykernel)",
   "language": "python",
   "name": "python3"
  },
  "language_info": {
   "codemirror_mode": {
    "name": "ipython",
    "version": 3
   },
   "file_extension": ".py",
   "mimetype": "text/x-python",
   "name": "python",
   "nbconvert_exporter": "python",
   "pygments_lexer": "ipython3",
   "version": "3.10.9"
  }
 },
 "nbformat": 4,
 "nbformat_minor": 1
}
