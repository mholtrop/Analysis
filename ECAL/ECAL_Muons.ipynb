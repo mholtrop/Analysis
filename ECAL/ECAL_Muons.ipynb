{
 "cells": [
  {
   "cell_type": "markdown",
   "id": "77a5026bf93944cc",
   "metadata": {},
   "source": [
    "# Muons Extrapolated to the ECAL\n",
    "\n"
   ]
  },
  {
   "cell_type": "markdown",
   "source": [],
   "metadata": {
    "collapsed": false
   },
   "id": "60bc587b818e8bf3"
  },
  {
   "cell_type": "code",
   "execution_count": 1,
   "id": "initial_id",
   "metadata": {
    "tags": [],
    "ExecuteTime": {
     "end_time": "2024-04-11T00:36:11.525727Z",
     "start_time": "2024-04-11T00:36:10.445748Z"
    }
   },
   "source": [
    "import os\n",
    "import sys\n",
    "import psutil\n",
    "import numpy as np\n",
    "import pandas as pd\n",
    "\n",
    "def print_meminfo():\n",
    "    process = psutil.Process(os.getpid())\n",
    "    print(f\"{process.name()} {process.pid}: res: {process.memory_info().rss/1e6:6.1f} MB  vm: {process.memory_info().vms/1e9:6.1f} GB\")\n",
    "\n",
    "sys.path.append(\"../Python\")\n",
    "import ROOT as R\n",
    "%jsroot off\n",
    "# R.EnableImplicitMT()\n",
    "import os\n",
    "recompile = True\n",
    "try:\n",
    "    if os.path.getmtime('../Python/Utility_Functions_C.so') - os.path.getmtime('../Python/Utility_Functions.C') > 0:\n",
    "        recompile = False\n",
    "        print(\"Recompile is not needed\")\n",
    "    else:\n",
    "        print(\"Recompiling: \")\n",
    "except:\n",
    "    print(\"Recompile needed, file not found.\")\n",
    "if recompile:\n",
    "    R.gROOT.LoadMacro(\"../Python/Utility_Functions.C++\")\n",
    "else:\n",
    "    R.gSystem.Load(\"../Python/Utility_Functions_C.so\")\n",
    "R.Utility_Functions()\n",
    "print_meminfo()"
   ],
   "outputs": []
  },
  {
   "cell_type": "code",
   "execution_count": 2,
   "id": "5c2c9fff73e2d191",
   "metadata": {
    "collapsed": false,
    "ExecuteTime": {
     "end_time": "2024-04-11T00:36:27.637805Z",
     "start_time": "2024-04-11T00:36:14.323438Z"
    }
   },
   "source": [
    "write_file = True\n",
    "# These are the files with the normal fieldmap, with the extra information for the track state at last tracker plane information.\n",
    "choice = 5\n",
    "\n",
    "if choice == 0:\n",
    "    data_files_pattern = \"/data/HPS/data/MC/mum_2019/mum_90*_slic_recon.root\"\n",
    "    snapshot_file_name = \"mum_2019_dfx_filtered.root\"\n",
    "    save_name_ext = \"\"\n",
    "elif choice == 1:\n",
    "    # These are the no_fringe_zero fieldmap files. \n",
    "    data_files_pattern = \"/data/HPS/data/MC/mum_2019_trunk_field/zero_field/mum_t0_80*_slic_recon.root\"\n",
    "    snapshot_file_name = \"mum_2019_zero_fringe.root\"\n",
    "    save_name_ext = \"_fringe_zero\"\n",
    "elif choice == 2:\n",
    "    snapshot_file_name = \"mum_2019_const_fringe.root\"\n",
    "    save_name_ext = \"_fringe_const\"\n",
    "    data_files_pattern = \"/data/HPS/data/MC/mum_2019_trunk_field/const_field/mum_t0_50*_slic_recon.root\"\n",
    "elif choice == 3:\n",
    "    snapshot_file_name = \"mum_2019_small_step.root\"\n",
    "    save_name_ext = \"_small_step\"\n",
    "    data_files_pattern = \"/data/HPS/data/MC/mum_2019/fine_step/mum_30*_slic_recon.root\"\n",
    "elif choice == 4:\n",
    "    snapshot_file_name = \"mum_2019_small_step_moved_z.root\"\n",
    "    save_name_ext = \"_small_step_moved_z\"\n",
    "    data_files_pattern = \"/data/HPS/data/MC/mum_2019/fine_step_moved_z/mum_31*_slic_recon.root\"\n",
    "elif choice == 5:\n",
    "    snapshot_file_name = \"mum_2019_rf_fix_moved_x1.root\"\n",
    "    save_name_ext = \"_rf_fix_moved_x1\"\n",
    "    data_files_pattern = \"/data/HPS/Analyses/ECAL/batch/mum_*_recon_x1.root\"\n",
    "elif choice == 6:\n",
    "    snapshot_file_name = \"mum_2019_small_step_moved_x2.root\"\n",
    "    save_name_ext = \"_rf_fix_moved_x2\"\n",
    "    data_files_pattern = \"/data/HPS/Analyses/ECAL/batch/mum_*_recon_x2.root\"\n",
    "\n",
    "else:\n",
    "    print(\"No choice made.\")\n",
    "\n",
    "\n",
    "if write_file:\n",
    "    \n",
    "    ch_mum = R.TChain(\"MiniDST\")\n",
    "    nf = ch_mum.Add(data_files_pattern)\n",
    "    print(f\"N files added: {nf}\")\n",
    "    Num_Events = ch_mum.GetEntries()\n",
    "    print(f\"Loaded {Num_Events/1e6:6.3f}M events from {data_files_pattern}.\")\n",
    "    df = R.RDataFrame(ch_mum)\n",
    "    # print(df.GetColumnNames())\n",
    "    track_filter = \"track_type[i]==1\"\n",
    "    \n",
    "    \n",
    "    loc_svt6_top = (891.5 + 899.)/2\n",
    "    loc_svt6_width = (899. - 891.5)/2\n",
    "    loc_svt6_bot = (907.5 + 915.)/2\n",
    "    #loc_svt6_width = (915. - 907.5)/2\n",
    "    #\n",
    "    # Here we *REDEFINE* the track_xx quantities to be only KF tracks. \n",
    "    # This would not be needed of we only had KF tracks, but we might want to check with GBL as well.\n",
    "    #\n",
    "    dfx = df.Define(\"i_track\",\"vector<int> out;for(int i=0;i<track_x_at_ecal.size();++i){if(\"f\"{track_filter}\"\") out.push_back(i);}; return out;\") \\\n",
    "        .Redefine(\"track_chi2\",\"vector<double> out;for(int i=0;i<i_track.size();++i){out.push_back(track_chi2[i_track[i]]);}; return out;\") \\\n",
    "        .Redefine(\"track_x_at_ecal\",\"vector<double> out;for(int i=0;i<i_track.size();++i){out.push_back(track_x_at_ecal[i_track[i]]);}; return out;\") \\\n",
    "        .Redefine(\"track_y_at_ecal\",\"vector<double> out;for(int i=0;i<i_track.size();++i){out.push_back(track_y_at_ecal[i_track[i]]);}; return out;\") \\\n",
    "        .Redefine(\"track_z_at_ecal\",\"vector<double> out;for(int i=0;i<i_track.size();++i){out.push_back(track_z_at_ecal[i_track[i]]);}; return out;\") \\\n",
    "        .Redefine(\"track_px\",\"vector<double> out;for(int i=0;i<i_track.size();++i){out.push_back(track_px[i_track[i]]);}; return out;\") \\\n",
    "        .Redefine(\"track_py\",\"vector<double> out;for(int i=0;i<i_track.size();++i){out.push_back(track_py[i_track[i]]);}; return out;\") \\\n",
    "        .Redefine(\"track_pz\",\"vector<double> out;for(int i=0;i<i_track.size();++i){out.push_back(track_pz[i_track[i]]);}; return out;\") \\\n",
    "        .Redefine(\"track_omega\",\"vector<double> out;for(int i=0;i<i_track.size();++i){out.push_back(track_omega[i_track[i]]);}; return out;\") \\\n",
    "        .Redefine(\"track_tan_lambda\",\"vector<double> out;for(int i=0;i<i_track.size();++i){out.push_back(track_tan_lambda[i_track[i]]);}; return out;\") \\\n",
    "        .Redefine(\"track_phi0\",\"vector<double> out;for(int i=0;i<i_track.size();++i){out.push_back(track_phi0[i_track[i]]);}; return out;\") \\\n",
    "        .Redefine(\"track_d0\",\"vector<double> out;for(int i=0;i<i_track.size();++i){out.push_back(track_d0[i_track[i]]);}; return out;\") \\\n",
    "        .Define(\"track_p\",\"vector<double> out;for(int i=0;i<i_track.size();++i){double p2=track_px[i_track[i]]*track_px[i_track[i]]+track_py[i_track[i]]*track_py[i_track[i]]+track_pz[i_track[i]]*track_pz[i_track[i]]; out.push_back(sqrt(p2));}; return out;\") \\\n",
    "        .Redefine(\"track_omega_at_lasthit\",\"vector<double> out;for(int i=0;i<i_track.size();++i){out.push_back(track_omega_at_lasthit[i_track[i]]);}; return out;\") \\\n",
    "        .Redefine(\"track_tan_lambda_at_lasthit\",\"vector<double> out;for(int i=0;i<i_track.size();++i){out.push_back(track_tan_lambda_at_lasthit[i_track[i]]);}; return out;\") \\\n",
    "        .Redefine(\"track_phi0_at_lasthit\",\"vector<double> out;for(int i=0;i<i_track.size();++i){out.push_back(track_phi0_at_lasthit[i_track[i]]);}; return out;\") \\\n",
    "        .Redefine(\"track_d0_at_lasthit\",\"vector<double> out;for(int i=0;i<i_track.size();++i){out.push_back(track_d0_at_lasthit[i_track[i]]);}; return out;\") \\\n",
    "        .Redefine(\"track_x_at_lasthit\", \"vector<double> out;for(int i=0;i<i_track.size();++i){out.push_back(track_x_at_lasthit[i_track[i]]);}; return out;\") \\\n",
    "        .Redefine(\"track_y_at_lasthit\", \"vector<double> out;for(int i=0;i<i_track.size();++i){out.push_back(track_y_at_lasthit[i_track[i]]);}; return out;\") \\\n",
    "        .Redefine(\"track_z_at_lasthit\", \"vector<double> out;for(int i=0;i<i_track.size();++i){out.push_back(track_z_at_lasthit[i_track[i]]);}; return out;\") \\\n",
    "        .Redefine(\"track_px_at_lasthit\", \"vector<double> out;for(int i=0;i<i_track.size();++i){out.push_back(track_px_at_lasthit[i_track[i]]);}; return out;\") \\\n",
    "        .Redefine(\"track_py_at_lasthit\", \"vector<double> out;for(int i=0;i<i_track.size();++i){out.push_back(track_py_at_lasthit[i_track[i]]);}; return out;\") \\\n",
    "        .Redefine(\"track_pz_at_lasthit\", \"vector<double> out;for(int i=0;i<i_track.size();++i){out.push_back(track_pz_at_lasthit[i_track[i]]);}; return out;\") \\\n",
    "        .Define(\"trackx_p_at_lasthit\",\"vector<double> out; for(int i=0;i<track_omega_at_lasthit.size();++i){out.push_back(1.034*2.99792458e-4*abs(1./track_omega_at_lasthit[i]));};return out;\")\\\n",
    "        .Define(\"trackx_px_at_lasthit\",\"vector<double> out; for(int i=0;i<trackx_p_at_lasthit.size();++i){out.push_back(sin(track_phi0_at_lasthit[i])*trackx_p_at_lasthit[i]);};return out;\")\\\n",
    "        .Define(\"trackx_py_at_lasthit\",\"vector<double> out; for(int i=0;i<trackx_p_at_lasthit.size();++i){out.push_back(track_tan_lambda_at_lasthit[i]*trackx_p_at_lasthit[i]);};return out;\")\\\n",
    "        .Define(\"trackx_pz_at_lasthit\",\"vector<double> out; for(int i=0;i<trackx_p_at_lasthit.size();++i){out.push_back(cos(track_phi0_at_lasthit[i])*trackx_p_at_lasthit[i]);};return out;\")\\\n",
    "        .Define(\"i_prim_mc_part\",\"vector<int> out;for(int i=0;i<mc_part_sim_status.size();++i){if(mc_part_sim_status[i]&0x01) out.push_back(i);}; return out;\") \\\n",
    "        .Define(\"i_prim_mc_ecal_score\",\"vector<int> out;for(int i=0;i<mc_score_z.size();++i){if((mc_part_sim_status[mc_score_part_idx[i]]&0x01) && (abs(mc_score_z[i]-1448) < 1.) && mc_score_pz[i]> 0.01 )out.push_back(i);}; return out;\") \\\n",
    "        .Define(\"i_prim_mc_svt6_score\",\"vector<int> out;for(int i=0;i<mc_score_z.size();++i){if((mc_part_sim_status[mc_score_part_idx[i]]&0x01) &&\"\n",
    "                                       f\"((abs(mc_score_z[i]-{loc_svt6_top})<{loc_svt6_width}) || (abs(mc_score_z[i]-{loc_svt6_bot})<{loc_svt6_width})) && mc_score_pz[i]> 0.01 )\" \"out.push_back(i);}; return out;\") \\\n",
    "        .Define(\"mc_p_at_target\",\"vector<double> out;for(auto i:i_prim_mc_part){double p2=mc_part_px[i]*mc_part_px[i]+mc_part_py[i]*mc_part_py[i]+mc_part_pz[i]*mc_part_pz[i]; out.push_back(sqrt(p2));}; return out;\") \\\n",
    "        .Define(\"mc_p_at_ecal\",\"vector<double> out;for(auto i:i_prim_mc_ecal_score){double p2=mc_score_px[i]*mc_score_px[i]+mc_score_py[i]*mc_score_py[i]+mc_score_pz[i]*mc_score_pz[i]; out.push_back(sqrt(p2));}; return out;\") \\\n",
    "        .Define(\"mc_px_at_ecal\",\"vector<double> out;for(auto i:i_prim_mc_ecal_score){out.push_back(mc_score_px[i]);}; return out;\") \\\n",
    "        .Define(\"mc_py_at_ecal\",\"vector<double> out;for(auto i:i_prim_mc_ecal_score){out.push_back(mc_score_py[i]);}; return out;\") \\\n",
    "        .Define(\"mc_pz_at_ecal\",\"vector<double> out;for(auto i:i_prim_mc_ecal_score){out.push_back(mc_score_pz[i]);}; return out;\") \\\n",
    "        .Define(\"mc_x_at_ecal\",\"vector<double> out;for(auto i:i_prim_mc_ecal_score){out.push_back(mc_score_x[i]);}; return out;\") \\\n",
    "        .Define(\"mc_y_at_ecal\",\"vector<double> out;for(auto i:i_prim_mc_ecal_score){out.push_back(mc_score_y[i]);}; return out;\") \\\n",
    "        .Define(\"mc_z_at_ecal\",\"vector<double> out;for(auto i:i_prim_mc_ecal_score){out.push_back(mc_score_z[i]);}; return out;\") \\\n",
    "        .Define(\"mc_p_at_svt6\",\"vector<double> out;for(auto i:i_prim_mc_svt6_score){double p2=mc_score_px[i]*mc_score_px[i]+mc_score_py[i]*mc_score_py[i]+mc_score_pz[i]*mc_score_pz[i]; out.push_back(sqrt(p2));}; return out;\") \\\n",
    "        .Define(\"mc_px_at_svt6\",\"vector<double> out;for(auto i:i_prim_mc_svt6_score){out.push_back(mc_score_px[i]);}; return out;\") \\\n",
    "        .Define(\"mc_py_at_svt6\",\"vector<double> out;for(auto i:i_prim_mc_svt6_score){out.push_back(mc_score_py[i]);}; return out;\") \\\n",
    "        .Define(\"mc_pz_at_svt6\",\"vector<double> out;for(auto i:i_prim_mc_svt6_score){out.push_back(mc_score_pz[i]);}; return out;\") \\\n",
    "        .Define(\"mc_x_at_svt6\",\"vector<double> out;for(auto i:i_prim_mc_svt6_score){out.push_back(mc_score_x[i]);}; return out;\") \\\n",
    "        .Define(\"mc_y_at_svt6\",\"vector<double> out;for(auto i:i_prim_mc_svt6_score){out.push_back(mc_score_y[i]);}; return out;\") \\\n",
    "        .Define(\"mc_z_at_svt6\",\"vector<double> out;for(auto i:i_prim_mc_svt6_score){out.push_back(mc_score_z[i]);}; return out;\")\n",
    "    dfx_filtered = dfx \\\n",
    "        .Filter(\"i_prim_mc_part.size()==1\",\"Select only 1 Primary MC particle\") \\\n",
    "        .Filter(\"i_track.size()==1\",\"Select only 1 KF or GBL track.\") \\\n",
    "        .Filter(\"i_prim_mc_ecal_score.size()==1\",\"Select only 1 Primary MC particle at ECal\") \\\n",
    "        .Filter(\"ecal_cluster_energy.size()==1\",\"Select only 1 ECal cluster\")\\\n",
    "        .Filter(\"i_prim_mc_svt6_score.size()==1\",\"Select only 1 Primary MC particle at SVT6\") \n",
    "     \n",
    "    All_Names = list(dfx_filtered.GetColumnNames())\n",
    "    Store_Names = []\n",
    "    ii=0\n",
    "    remove_names = [\"v0_\",\"hodo_\",\"ext_trigger\",\"part_\",\"rf_\",\"svt\"]\n",
    "    for n in All_Names:\n",
    "        s = str(n)\n",
    "        if not any([s.lower().startswith(x) for x in remove_names]):\n",
    "            Store_Names.append(s)\n",
    "            dat_type = dfx_filtered.GetColumnType(s).replace(\"ROOT::VecOps::RVec<\",\"RVec<\")\n",
    "            print(f\"{s:<30s} [{dat_type:<20s}]\", end = \" \")\n",
    "            ii += 1\n",
    "            if ii%2==0:\n",
    "                 print(\"\");\n",
    "    \n",
    "    cut_flow_res_ptr = dfx_filtered.Report()\n",
    "    cut_flow= cut_flow_res_ptr.GetValue()\n",
    "    # print(f\"Creating the Snapshot {snapshot_file_name}.\")\n",
    "    # dfx_filtered.Snapshot(\"MiniDST\",snapshot_file_name,Store_Names)\n",
    "    #        file = R.TFile(snapshot_file_name,\"UPDATE\")\n",
    "    #        file.WriteObject(cut_flow,\"cut_flow\")\n",
    "    #        file.Close()\n",
    "    print(f\"\\nCut flow:\")\n",
    "    cut_flow.Print()\n",
    "    print(\"\\n\")\n"
   ],
   "outputs": []
  },
  {
   "cell_type": "code",
   "execution_count": 3,
   "id": "52b4aa6792456083",
   "metadata": {
    "collapsed": false,
    "ExecuteTime": {
     "end_time": "2024-04-11T00:37:31.835805Z",
     "start_time": "2024-04-11T00:36:29.417597Z"
    }
   },
   "source": [
    "\n",
    "print_meminfo()\n",
    "if write_file:\n",
    "    print(f\"Creating the Snapshot {snapshot_file_name}.\")\n",
    "    dfx_filtered.Snapshot(\"MiniDST\",snapshot_file_name,Store_Names)\n",
    "    file = R.TFile(snapshot_file_name,\"UPDATE\")\n",
    "    file.WriteObject(cut_flow,\"cut_flow\")\n",
    "    file.Close()\n",
    "else:\n",
    "    dfx_filtered = R.RDataFrame(\"MiniDST\",snapshot_file_name)\n",
    "    file = R.TFile(snapshot_file_name,\"READ\")\n",
    "    cut_flow = file.Get(\"cut_flow\")\n",
    "    cut_flow.Print()\n",
    "    file.Close()\n",
    "print_meminfo()"
   ],
   "outputs": []
  },
  {
   "cell_type": "code",
   "source": [
    "df.GetColumnNames()"
   ],
   "metadata": {
    "collapsed": false,
    "ExecuteTime": {
     "end_time": "2024-04-11T00:37:31.962925Z",
     "start_time": "2024-04-11T00:37:31.837072Z"
    }
   },
   "id": "a7a6dd2776c70a3f",
   "execution_count": 4,
   "outputs": []
  },
  {
   "cell_type": "code",
   "execution_count": 5,
   "id": "1ec5c6ccafb460f2",
   "metadata": {
    "collapsed": false,
    "ExecuteTime": {
     "end_time": "2024-04-11T00:37:32.073925Z",
     "start_time": "2024-04-11T00:37:31.963637Z"
    }
   },
   "source": [
    "\n",
    "class histograms:\n",
    "    def __init__(self, df, name):\n",
    "        self.df = df\n",
    "        self.name = name\n",
    "        #tmp = self.df.Histo1D((\"_mc_p_at_target\",\"Primary MC particle momentum at target; p [GeV]\",1000,0.,5.),\"mc_p_at_target\")\n",
    "        self.define_histograms()\n",
    "        \n",
    "    def define_histograms(self):\n",
    "        name = self.name\n",
    "        self.mc_p_at_target = self.df.Histo1D((f\"{name}_mc_p_at_target\",\"Primary MC particle momentum at target; p [GeV]\",1000,0.,5.),\"mc_p_at_target\")\n",
    "        self.mc_p_at_ecal = self.df.Histo1D((f\"{name}_mc_p_at_ecal\",\"Primary MC particle momentum at ECal; p [GeV]\",1000,0.,5.),\"mc_p_at_ecal\")\n",
    "        self.mc_p_at_svt6 = self.df.Histo1D((f\"{name}_mc_p_at_svt6\",\"Primary MC particle momentum at SVT6; p [GeV]\",1000,0.,5.),\"mc_p_at_svt6\")\n",
    "        self.eloss_to_ecal = self.df.Define(\"diff\",\"return mc_p_at_target[0]-mc_p_at_ecal[0];\").Histo1D((f\"{name}_eloss_to_ecal\",\"Momentum loss to ECal; p [GeV]\",1000,0.,0.5),\"diff\")\n",
    "        self.track_x_at_ecal = self.df.Histo1D((f\"{name}_track_x_at_ecal\",\"KF track x at ECal; x [mm]\",1000,-400.,400.),\"track_x_at_ecal\")\n",
    "        self.track_y_at_ecal = self.df.Histo1D((f\"{name}_track_y_at_ecal\",\"KF track y at ECal; y [mm]\",1000,-100.,100.),\"track_y_at_ecal\")\n",
    "        self.mc_x_at_ecal = self.df.Histo1D((f\"{name}_mc_x_at_ecal\",\"Primary MC particle x at ECal; x [mm]\",1000,-400.,400.),\"mc_x_at_ecal\")\n",
    "        self.mc_y_at_ecal = self.df.Histo1D((f\"{name}_mc_y_at_ecal\",\"Primary MC particle y at ECal; y [mm]\",1000,-100.,100.),\"mc_y_at_ecal\")\n",
    "        self.mc_x_at_svt6 = self.df.Histo1D((f\"{name}_mc_x_at_svt6\",\"Primary MC particle x at SVT6; x [mm]\",1000,-400.,400.),\"mc_x_at_svt6\")\n",
    "        self.mc_y_at_svt6 = self.df.Histo1D((f\"{name}_mc_y_at_svt6\",\"Primary MC particle y at SVT6; y [mm]\",1000,-100.,100.),\"mc_y_at_svt6\")\n",
    "        self.track_x_at_lasthit = self.df.Histo1D((f\"{name}_track_x_at_lasthit\",\"Track x at last hit;x [mm]\",1000, -400,400.),\"track_x_at_lasthit\")\n",
    "        self.track_y_at_lasthit = self.df.Histo1D((f\"{name}_track_y_at_lasthit\",\"Track y at last hit;y [mm]\",1000,-100.,100.),\"track_y_at_lasthit\")\n",
    "        self.track_z_at_lasthit = self.df.Histo1D((f\"{name}_track_z_at_lasthit\",\"Track z at last hit;z [mm]\",1000,880.,920.),\"track_z_at_lasthit\")\n",
    "        self.track_xy_at_lasthit = self.df.Histo2D((f\"{name}_track_xy_at_lasthit\",\"Track xy at last hit;x [mm];y [mm]\",200,-250,250,200,-100,100),\"track_x_at_lasthit\",\"track_y_at_lasthit\")\n",
    "        self.mc_diff_x_at_ecal = self.df.Define(\"diff\",\"return mc_x_at_ecal[0]-track_x_at_ecal[0];\").Histo1D((f\"{name}_mc_diff_x_at_ecal\",\"KF Track #Delta x at ECal; #Delta x [mm]\",1000,-20.,50.),\"diff\")\n",
    "        self.mc_diff_y_at_ecal = self.df.Define(\"diff\",\"return mc_y_at_ecal[0]-track_y_at_ecal[0];\").Histo1D((f\"{name}_mc_diff_y_at_ecal\",\"KF Track #Delta y at ECal; #Delta y [mm]\",1000,-5.,5.),\"diff\")\n",
    "        self.diff_x_at_ecal_vs_p = self.df.Define(\"diff\",\"return mc_x_at_ecal[0]-track_x_at_ecal[0];\").Histo2D((f\"{name}_diff_x_at_ecal_vs_p\",\"KF Track #Delta x vs p; p [GeV]; #Delta x [mm]\",300,0.,5.,300,-20.,50.),\"mc_p_at_ecal\", \"diff\")\n",
    "        self.eloss_to_svt6 = self.df.Define(\"diff\",\"vector<double> out; for(int i=0;i<mc_p_at_svt6.size();++i){out.push_back(mc_p_at_target[0]-mc_p_at_svt6[i]);};return out;\").Histo1D((f\"{name}_eloss_to_svt6\",\"Momentum loss to SVT6; p [GeV]\",1000,0.,0.5),\"diff\")\n",
    "        df_plus = self.df.Filter(\"mc_x_at_svt6.size()==1\").Define(\"mc_extrap_x\",\"return mc_x_at_svt6[0]+(1443.-mc_z_at_svt6[0])*mc_px_at_svt6[0]/mc_pz_at_svt6[0];\")\\\n",
    "             .Define(\"mc_extrap_y\",\"return mc_y_at_svt6[0]+(1443.-mc_z_at_svt6[0])*mc_py_at_svt6[0]/mc_pz_at_svt6[0];\") \\\n",
    "             .Define(\"mc_extrap_x_diff\",\"return mc_extrap_x-mc_x_at_ecal[0];\")\\\n",
    "             .Define(\"mc_extrap_y_diff\",\"return mc_extrap_y-mc_y_at_ecal[0];\")\n",
    "        self.mc_extrap_x_to_ecal = df_plus.Histo1D((f\"{name}_mc_extrap_x_to_ecal\",\"Extrapolated x to ECal; x [mm]\",1000,-400.,400.),\"mc_extrap_x\")\n",
    "        self.mc_extrap_y_to_ecal = df_plus.Histo1D((f\"{name}_mc_extrap_y_to_ecal\",\"Extrapolated y to ECal; y [mm]\",1000,-100.,100.),\"mc_extrap_y\")\n",
    "        self.mc_extrap_x_diff = df_plus.Histo1D((f\"{name}_mc_extrap_x_diff\",\"Extrapolated x difference; x [mm]\",1000,-20.,50.),\"mc_extrap_x_diff\")\n",
    "        self.mc_extrap_y_diff = df_plus.Histo1D((f\"{name}_mc_extrap_y_diff\",\"Extrapolated y difference; y [mm]\",1000,-5.,5.),\"mc_extrap_y_diff\")\n",
    "        "
   ],
   "outputs": []
  },
  {
   "cell_type": "code",
   "execution_count": 6,
   "id": "35b4f4bdb64f2e55",
   "metadata": {
    "collapsed": false,
    "ExecuteTime": {
     "end_time": "2024-04-11T00:37:32.332939Z",
     "start_time": "2024-04-11T00:37:32.075583Z"
    }
   },
   "source": [
    "h_mum = histograms(dfx_filtered,\"h\")"
   ],
   "outputs": []
  },
  {
   "cell_type": "code",
   "execution_count": 7,
   "id": "90acc3f82eae80ca",
   "metadata": {
    "collapsed": false,
    "ExecuteTime": {
     "end_time": "2024-04-11T00:37:52.609012Z",
     "start_time": "2024-04-11T00:37:32.333728Z"
    }
   },
   "source": [
    "cc0 = R.TCanvas(\"cc0\",\"cc0\",1200,500)\n",
    "cc0.Divide(2,1)\n",
    "pad1 = cc0.cd(1)\n",
    "h_mum.mc_p_at_target.SetStats(0)\n",
    "h_mum.mc_p_at_target.SetTitle(\"Primary MC momenta.\")\n",
    "h_mum.mc_p_at_target.SetLineColor(R.kGreen)\n",
    "h_mum.mc_p_at_target.Draw()\n",
    "h_mum.mc_p_at_ecal.SetLineColor(R.kRed)\n",
    "h_mum.mc_p_at_ecal.Draw(\"same\")\n",
    "h_mum.mc_p_at_svt6.SetLineColor(R.kBlue)\n",
    "h_mum.mc_p_at_svt6.Draw(\"same\")\n",
    "legend = R.TLegend(0.25,0.2,0.45,0.3)\n",
    "legend.AddEntry(h_mum.mc_p_at_target.GetPtr(),\"At Target\",\"l\")\n",
    "legend.AddEntry(h_mum.mc_p_at_ecal.GetPtr(),\"At ECal\",\"l\")\n",
    "legend.AddEntry(h_mum.mc_p_at_svt6.GetPtr(),\"At SVT6\",\"l\")\n",
    "legend.Draw()\n",
    "pad2 = cc0.cd(2)\n",
    "pad2.SetLogy()\n",
    "h_mum.eloss_to_svt6.SetTitle(\"Momentum loss.\")\n",
    "h_mum.eloss_to_svt6.SetLineColor(R.kBlue)\n",
    "h_mum.eloss_to_svt6.GetXaxis().SetRangeUser(0.,0.16)\n",
    "h_mum.eloss_to_svt6.Draw()\n",
    "h_mum.eloss_to_ecal.SetLineColor(R.kRed)\n",
    "h_mum.eloss_to_ecal.Draw(\"same\")\n",
    "legend2 = R.TLegend(0.8,0.65,0.95,0.75)\n",
    "legend2.AddEntry(h_mum.eloss_to_svt6.GetPtr(),\"To SVT6\",\"l\")\n",
    "legend2.AddEntry(h_mum.eloss_to_ecal.GetPtr(),\"To ECal\",\"l\")\n",
    "legend2.Draw()\n",
    "cc0.Draw()\n",
    "cc0.SaveAs(\"momenta_and_momentum_loss\"+save_name_ext+\".pdf\")\n"
   ],
   "outputs": []
  },
  {
   "cell_type": "code",
   "execution_count": 8,
   "id": "523bd4800470a533",
   "metadata": {
    "collapsed": false,
    "ExecuteTime": {
     "end_time": "2024-04-11T00:37:52.831996Z",
     "start_time": "2024-04-11T00:37:52.609823Z"
    }
   },
   "source": [
    "cc1 = R.TCanvas(\"cc1\",\"cc1\",1200,500)\n",
    "cc1.Divide(2,1)\n",
    "pad1 = cc1.cd(1)\n",
    "h_mum.mc_x_at_svt6.SetTitle(\"X Position.\")\n",
    "h_mum.mc_x_at_svt6.SetLineColor(R.kGreen)\n",
    "h_mum.mc_x_at_svt6.Draw()\n",
    "h_mum.track_x_at_lasthit.SetLineColor(R.kGreen+2)\n",
    "h_mum.track_x_at_lasthit.Draw(\"same\")\n",
    "\n",
    "h_mum.track_x_at_ecal.SetLineColor(R.kBlue)\n",
    "h_mum.track_x_at_ecal.Draw(\"same\")\n",
    "h_mum.mc_x_at_ecal.SetLineColor(R.kRed)\n",
    "h_mum.mc_x_at_ecal.Draw(\"same\")\n",
    "h_mum.mc_extrap_x_to_ecal.SetLineColor(R.kMagenta)\n",
    "h_mum.mc_extrap_x_to_ecal.Draw(\"same\")\n",
    "legend = R.TLegend(0.,0.7,0.35,0.9)\n",
    "legend.AddEntry(h_mum.track_x_at_lasthit.GetPtr(),\"KF track at last hit\",\"l\")\n",
    "legend.AddEntry(h_mum.track_x_at_ecal.GetPtr(),\"KF track at ecal\",\"l\")\n",
    "legend.AddEntry(h_mum.mc_x_at_ecal.GetPtr(),\"MC at ECal\",\"l\")\n",
    "legend.AddEntry(h_mum.mc_x_at_svt6.GetPtr(),\"MC at SVT6\",\"l\")\n",
    "legend.AddEntry(h_mum.mc_extrap_x_to_ecal.GetPtr(),\"MC at ECal (extrap)\",\"l\")\n",
    "legend.Draw()\n",
    "\n",
    "pad2 = cc1.cd(2)\n",
    "h_mum.mc_y_at_svt6.SetTitle(\"Y Position.\")\n",
    "h_mum.mc_y_at_svt6.SetLineColor(R.kGreen)\n",
    "h_mum.mc_y_at_svt6.Draw(\"same\")\n",
    "\n",
    "h_mum.track_y_at_lasthit.SetLineColor(R.kGreen+2)\n",
    "h_mum.track_y_at_lasthit.Draw(\"same\")\n",
    "\n",
    "h_mum.track_y_at_ecal.SetLineColor(R.kBlue)\n",
    "h_mum.track_y_at_ecal.Draw(\"same\")\n",
    "h_mum.mc_y_at_ecal.SetLineColor(R.kRed)\n",
    "h_mum.mc_y_at_ecal.Draw(\"same\")\n",
    "h_mum.mc_extrap_y_to_ecal.SetLineColor(R.kMagenta)\n",
    "h_mum.mc_extrap_y_to_ecal.Draw(\"same\")\n",
    "\n",
    "\n",
    "cc1.Draw()\n",
    "cc1.SaveAs(\"muon_x_and_y_distribution\"+save_name_ext+\".pdf\")\n",
    "\n",
    "\n",
    "cc1b = R.TCanvas(\"cc1b\",\"cc1b\",1200,500)\n",
    "cc1b.Divide(2,1)\n",
    "pad3 = cc1b.cd(1)\n",
    "#pad3.SetLogy()\n",
    "h_mum.mc_diff_x_at_ecal.SetTitle(\"X difference.\")\n",
    "h_mum.mc_diff_x_at_ecal.SetLineColor(R.kBlue)\n",
    "h_mum.mc_extrap_x_diff.SetLineColor(R.kMagenta)\n",
    "h_mum.mc_diff_x_at_ecal.Draw()\n",
    "h_mum.mc_extrap_x_diff.Draw(\"sames\")\n",
    "\n",
    "\n",
    "legend = R.TLegend(0.,0.75,0.3,0.9)\n",
    "legend.AddEntry(h_mum.mc_diff_x_at_ecal.GetPtr(),\"KF track at ecal\",\"l\")\n",
    "legend.AddEntry(h_mum.mc_extrap_x_diff.GetPtr(),\"MC at ECal (extrap)\",\"l\")\n",
    "legend.Draw()\n",
    "\n",
    "pad4 = cc1b.cd(2)\n",
    "#pad4.SetLogy()\n",
    "h_mum.mc_extrap_y_diff.SetTitle(\"Y difference.\")\n",
    "h_mum.mc_extrap_y_diff.SetLineColor(R.kMagenta)\n",
    "h_mum.mc_extrap_y_diff.Draw()\n",
    "h_mum.mc_diff_y_at_ecal.SetLineColor(R.kBlue)\n",
    "h_mum.mc_diff_y_at_ecal.Draw(\"sames\")\n",
    " \n",
    "cc1b.Draw()\n",
    "\n",
    "st_top = h_mum.mc_diff_x_at_ecal.GetListOfFunctions().FindObject(\"stats\")\n",
    "st_top.SetY1NDC(0.9)\n",
    "st_top.SetY2NDC(0.75)\n",
    "st_bot = h_mum.mc_extrap_x_diff.GetListOfFunctions().FindObject(\"stats\")\n",
    "st_bot.SetY1NDC(0.75)\n",
    "st_bot.SetY2NDC(0.6)\n",
    "\n",
    "st_top = h_mum.mc_diff_y_at_ecal.GetListOfFunctions().FindObject(\"stats\")\n",
    "st_top.SetY1NDC(0.9)\n",
    "st_top.SetY2NDC(0.75)\n",
    "st_bot = h_mum.mc_extrap_y_diff.GetListOfFunctions().FindObject(\"stats\")\n",
    "st_bot.SetY1NDC(0.75)\n",
    "st_bot.SetY2NDC(0.6)\n",
    "\n",
    "cc1b.SaveAs(\"muon_position_differences_ECAL\"+save_name_ext+\"lin.pdf\")\n"
   ],
   "outputs": []
  },
  {
   "cell_type": "code",
   "execution_count": 9,
   "id": "5d40cf719d5c3988",
   "metadata": {
    "collapsed": false,
    "ExecuteTime": {
     "end_time": "2024-04-11T00:37:53.003691Z",
     "start_time": "2024-04-11T00:37:52.832721Z"
    }
   },
   "source": [
    "cc1c = R.TCanvas(\"cc1c\",\"cc1c\",1000,800)\n",
    "h_mum.diff_x_at_ecal_vs_p.Draw(\"colz\")\n",
    "cc1c.Draw()\n",
    "st_top = h_mum.diff_x_at_ecal_vs_p.GetListOfFunctions().FindObject(\"stats\")\n",
    "st_top.SetY1NDC(0.9)\n",
    "st_top.SetY2NDC(0.75)\n",
    "st_top.SetX1NDC(0.7)\n",
    "st_top.SetX2NDC(0.9)\n",
    "\n",
    "#cc1c.SaveAs(\"muon_position_differences_vs_momentum\"+save_name_ext+\".pdf\")"
   ],
   "outputs": []
  },
  {
   "cell_type": "markdown",
   "id": "73656cd6c2249037",
   "metadata": {},
   "source": [
    "# Tracks at the last svt scoring plane"
   ]
  },
  {
   "cell_type": "code",
   "execution_count": 10,
   "id": "1b7da028-23c2-41dc-9e6c-ceedabb344a5",
   "metadata": {
    "ExecuteTime": {
     "end_time": "2024-04-11T00:37:53.174536Z",
     "start_time": "2024-04-11T00:37:53.004391Z"
    }
   },
   "source": [
    "cc4 = R.TCanvas(\"cc4\",\"cc4\",1200,800)\n",
    "cc4.Divide(2,2)\n",
    "pad1 = cc4.cd(1)\n",
    "h_mum.track_x_at_lasthit.Draw()\n",
    "pad2 = cc4.cd(2)\n",
    "h_mum.track_y_at_lasthit.Draw()\n",
    "pad3 = cc4.cd(3)\n",
    "h_mum.track_z_at_lasthit.Draw()\n",
    "pad4 = cc4.cd(4)\n",
    "h_mum.track_xy_at_lasthit.Draw(\"colz\")\n",
    "cc4.Draw()"
   ],
   "outputs": []
  },
  {
   "cell_type": "code",
   "execution_count": 11,
   "id": "524fc811-0a43-40fa-8a9b-ad8c727047e7",
   "metadata": {
    "ExecuteTime": {
     "end_time": "2024-04-11T00:38:05.159827Z",
     "start_time": "2024-04-11T00:37:53.175424Z"
    }
   },
   "source": [
    "%jsroot off\n",
    "#h1_score_z = dfx_filtered.Define(\"mc_score_z_select\",\"vector<double> out;for(int i=0;i<mc_score_z.size();++i){if(mc_score_z[i]>0. && mc_score_z[i]<1500.){out.push_back(mc_score_z[i]);}}; return out;\").Histo1D((\"h1_score_z\",\"Z of scoring plane; z [mm]\",1000,0.,1500.),\"mc_score_z_select\")\n",
    "h1_score_z = df.Histo1D((\"h1_score_z\",\"Z of scoring plane; z [mm]\",1000,1440.,1450.),\"mc_score_z\")\n",
    "cc5 = R.TCanvas(\"cc5\",\"cc5\",1200,800)\n",
    "h1_score_z.SetStats(0)\n",
    "h1_score_z.SetLineColor(R.kBlue)\n",
    "h1_score_z.Draw()\n",
    "h_mum.track_z_at_lasthit.SetLineColor(R.kRed)\n",
    "h_mum.track_z_at_lasthit.Draw(\"same\")\n",
    "leg = R.TLegend(0.75,0.85,0.93,0.93)\n",
    "leg.AddEntry(h1_score_z.GetPtr(),\"MC scoring plane\")\n",
    "leg.AddEntry(h_mum.track_z_at_lasthit.GetPtr(),\"KF track at last hit\")\n",
    "leg.Draw()\n",
    "cc5.Draw()\n",
    "#cc5.SaveAs(\"z_of_scoring_plane.pdf\")"
   ],
   "outputs": []
  },
  {
   "cell_type": "code",
   "execution_count": 12,
   "id": "c60141134597af9d",
   "metadata": {
    "collapsed": false,
    "ExecuteTime": {
     "end_time": "2024-04-11T00:38:05.346969Z",
     "start_time": "2024-04-11T00:38:05.162676Z"
    }
   },
   "source": [
    "# h1_tmp = dfx_f2.Define(\"s\",\"if(i_score_svt7t.size()==1){return mc_score_y[i_score_svt7t[0]];}; return -1.;\").Histo1D(\"s\")\n",
    "# h1_tmp2 = dfx_f2.Define(\"s\",\"if(i_score_svt7b.size()==1){return mc_score_y[i_score_svt7b[0]];}; return -1.;\").Histo1D(\"s\")\n",
    "z_low = 880.\n",
    "z_mid = 900.\n",
    "z_hi =  920.\n",
    "\n",
    "h1_score_z = dfx_filtered.Define(\"mc_score_z_select\",\"vector<double> out;for(int i=0;i<mc_score_z.size();++i){if(mc_score_z[i]>\"f\"{z_low} && mc_score_z[i]<{z_mid}\"\"){out.push_back(mc_score_z[i]);}}; return out;\").Histo1D((\"h1_score_z\",\"Z of scoring plane; z[mm]\",1000,z_low-10,z_hi+10),\"mc_score_z_select\")\n",
    "h1_score_z2 = dfx_filtered.Define(\"mc_score_z_select\",\"vector<double> out;for(int i=0;i<mc_score_z.size();++i){if(mc_score_z[i]>\"f\"{z_mid} && mc_score_z[i]<{z_hi}\"\"){out.push_back(mc_score_z[i]);}}; return out;\").Histo1D((\"h1_score_z\",\"Z of scoring plane; z[mm]\",1000,z_low-10,z_hi+10),\"mc_score_z_select\")\n",
    "\n",
    "h_track_z_at_lasthit = dfx_filtered.Histo1D((\"h_track_z_at_lasthit\",\"Track z at last hit;z [mm]\",1000,z_low-10,z_hi+10),\"track_z_at_lasthit\")\n",
    "h_track_x_at_lasthit = dfx_filtered.Histo1D((\"h_track_x_at_lasthit\",\"Track x at last hit;x [mm]\",1000,-200.,200.),\"track_x_at_lasthit\")\n",
    "h_track_y_at_lasthit = dfx_filtered.Histo1D((\"h_track_y_at_lasthit\",\"Track y at last hit;y [mm]\",1000,-100.,100.),\"track_y_at_lasthit\")\n",
    "\n",
    "h1_score_xz = dfx_filtered.Define(\"mc_score_z_i\",\"vector<int> out;for(int i=0;i<mc_score_z.size();++i){if(mc_score_z[i]>\"f\"{z_low} && mc_score_z[i]<{z_mid}\"\"){out.push_back(i);}}; return out;\")\\\n",
    "             .Define(\"mc_score_x_select\",\"vector<double> out; for(int i=0;i<mc_score_z_i.size();i++){out.push_back(mc_score_x[mc_score_z_i[i]]);};return out;\")\\\n",
    "             .Define(\"mc_score_z_select\",\"vector<double> out; for(int i=0;i<mc_score_z_i.size();i++){out.push_back(mc_score_z[mc_score_z_i[i]]);};return out;\")\\\n",
    "             .Histo2D((\"h1_score_xz\",\"Z vs X of scoring plane; x [mm]; z[mm]\",200, -100,150, 200,z_low-10,z_hi+10),\"mc_score_x_select\",\"mc_score_z_select\")\n",
    "\n",
    "h1_score_xz2 = dfx_filtered.Define(\"mc_score_z_i\",\"vector<int> out;for(int i=0;i<mc_score_z.size();++i){if(mc_score_z[i]>\"f\"{z_mid} && mc_score_z[i]<{z_hi}\"\"){out.push_back(i);}}; return out;\")\\\n",
    "             .Define(\"mc_score_x_select\",\"vector<double> out; for(int i=0;i<mc_score_z_i.size();i++){out.push_back(mc_score_x[mc_score_z_i[i]]);};return out;\")\\\n",
    "             .Define(\"mc_score_z_select\",\"vector<double> out; for(int i=0;i<mc_score_z_i.size();i++){out.push_back(mc_score_z[mc_score_z_i[i]]);};return out;\")\\\n",
    "             .Histo2D((\"h1_score_xz2\",\"Z vs X of scoring plane; x[mm]; z[mm]\",200, -100,150, 200,z_low-10,z_hi+10),\"mc_score_x_select\",\"mc_score_z_select\")\n",
    "\n",
    "h_track_xz_at_lasthit = dfx_filtered.Histo2D((\"h_track_xz_at_lasthit\",\"Track z vs x at last hit;x [mm]; z [mm]\",100,-100.,150.,100,z_low-10,z_hi+10),\"track_x_at_lasthit\", \"track_z_at_lasthit\")\n",
    "\n",
    "h1_tmp_x = dfx_filtered.Define(\"x\",\"vector<double> out;for(int i=0; i<mc_score_z.size();++i){if(mc_score_z[i]>\"f\"{z_low}&&mc_score_z[i]<{z_mid}\"\"){out.push_back(mc_score_x[i]);}}; return out;\").Histo1D((\"mscorey\",\"MC Score x; x [mm]\",1000,-200,200),\"x\")\n",
    "h1_tmp_x2 = dfx_filtered.Define(\"x\",\"vector<double> out;for(int i=0; i<mc_score_z.size();++i){if(mc_score_z[i]>\"f\"{z_mid}&&mc_score_z[i]<{z_hi}\"\"){out.push_back(mc_score_x[i]);}}; return out;\").Histo1D((\"mscorey\",\"MC Score x; x [mm]\",1000,-200,200),\"x\")\n",
    "\n",
    "h1_tmp_y = dfx_filtered.Define(\"y\",\"vector<double> out;for(int i=0; i<mc_score_z.size();++i){if(mc_score_z[i]>\"f\"{z_low}&&mc_score_z[i]<{z_mid}\"\"){out.push_back(mc_score_y[i]);}}; return out;\").Histo1D((\"mscorey\",\"MC Score y; y [mm]\",1000,-100,100),\"y\")\n",
    "h1_tmp_y2 = dfx_filtered.Define(\"y\",\"vector<double> out;for(int i=0; i<mc_score_z.size();++i){if(mc_score_z[i]>\"f\"{z_mid}&&mc_score_z[i]<{z_hi}\"\"){out.push_back(mc_score_y[i]);}}; return out;\").Histo1D((\"mscorey\",\"MC Score y; y[mm]\",1000,-100,100),\"y\")"
   ],
   "outputs": []
  },
  {
   "cell_type": "code",
   "execution_count": 13,
   "id": "6ef98d3e-74b2-4e31-93e4-09a52de1bf18",
   "metadata": {
    "ExecuteTime": {
     "end_time": "2024-04-11T00:38:20.941328Z",
     "start_time": "2024-04-11T00:38:05.347662Z"
    }
   },
   "source": [
    "cc6 = R.TCanvas(\"cc6\",\"cc6\",1000,400)\n",
    "cc6.Divide(1,1)\n",
    "pad1 = cc6.cd(1)\n",
    "h_track_xz_at_lasthit.SetStats(0)\n",
    "h_track_xz_at_lasthit.SetFillColor(R.kGreen)\n",
    "h_track_xz_at_lasthit.Draw(\"box same\")\n",
    "\n",
    "h1_score_xz.SetFillColor(R.kBlue)\n",
    "h1_score_xz.Draw(\"box same\")\n",
    "h1_score_xz2.SetFillColor(R.kRed)\n",
    "h1_score_xz2.Draw(\"box same\")\n",
    "\n",
    "leg1 = R.TLegend(0.75,0.75,0.95,0.95)\n",
    "leg1.AddEntry(h_track_xz_at_lasthit.GetPtr(),\"Track State @ last svt\",\"f\")\n",
    "leg1.AddEntry(h1_score_xz.GetPtr(),\"Scoring planes front\",\"f\")\n",
    "leg1.AddEntry(h1_score_xz2.GetPtr(),\"Scoring planes back\",\"f\")\n",
    "leg1.Draw()\n",
    "cc6.Draw()\n",
    "#cc6.SaveAs(\"x_vs_z_of_scoring_plane.pdf\")\n",
    "\n",
    "cc6b = R.TCanvas(\"cc6b\",\"cc6b\",1200,400)\n",
    "cc6b.Divide(3,1)\n",
    "pad2 = cc6b.cd(1)\n",
    "h1_score_z.SetStats(0)\n",
    "h1_score_z.Draw()\n",
    "h1_score_z2.SetLineColor(R.kRed)\n",
    "h1_score_z2.Draw(\"same\")\n",
    "h_track_z_at_lasthit.SetLineColor(R.kGreen)\n",
    "h_track_z_at_lasthit.Draw(\"same\")\n",
    "\n",
    "pad3 = cc6b.cd(2)\n",
    "#pad1.SetLogy()\n",
    "h1_tmp_x.SetStats(0)\n",
    "h1_tmp_x.Draw(\"same\")\n",
    "h1_tmp_x2.SetLineColor(R.kRed)\n",
    "h1_tmp_x2.Draw(\"same\")\n",
    "h_track_x_at_lasthit.SetLineColor(R.kGreen)\n",
    "h_track_x_at_lasthit.Draw(\"same\")\n",
    "\n",
    "pad4 = cc6b.cd(3)\n",
    "#pad2.SetLogy()\n",
    "h1_tmp_y.SetStats(0)\n",
    "h1_tmp_y.Draw(\"same\")\n",
    "h1_tmp_y2.SetLineColor(R.kRed)\n",
    "h1_tmp_y2.Draw(\"same\")\n",
    "h_track_y_at_lasthit.SetLineColor(R.kGreen)\n",
    "h_track_y_at_lasthit.Draw(\"same\")\n",
    "\n",
    "cc6b.Draw()\n",
    "#cc6b.SaveAs(\"z_x_y_of_scoring_plane.pdf\")"
   ],
   "outputs": []
  },
  {
   "cell_type": "code",
   "execution_count": 14,
   "id": "a393263b-1b72-4d1c-9a80-4efd09770a83",
   "metadata": {
    "ExecuteTime": {
     "end_time": "2024-04-11T00:38:21.054701Z",
     "start_time": "2024-04-11T00:38:20.942065Z"
    }
   },
   "source": [
    "h_test_n_hits = dfx_filtered.Define(\"mc_score_z_i\",\"vector<int> out;for(int i=0;i<mc_score_z.size();++i){if(mc_score_z[i]>\"f\"{z_low} && mc_score_z[i]<{z_mid}\"\"){out.push_back(i);}}; return out;\").Define(\"s\",\"mc_score_z_i.size()\").Histo1D((\"h_test_n_hits\",\"N hits in scoring plane(s)\",21,-0.5,20.5),\"s\")\n",
    "h_test_n_track = dfx_filtered.Define(\"s\",\"track_tan_lambda.size()\").Histo1D((\"h_test_n_track\",\"N track\",21,-0.5,20.5),\"s\")"
   ],
   "outputs": []
  },
  {
   "cell_type": "code",
   "execution_count": 15,
   "id": "6c90739a074d7f69",
   "metadata": {
    "collapsed": false,
    "ExecuteTime": {
     "end_time": "2024-04-11T00:38:32.582651Z",
     "start_time": "2024-04-11T00:38:21.055598Z"
    }
   },
   "source": [
    "cc7 = R.TCanvas(\"cc7\",\"cc7\",800,800)\n",
    "cc7.SetLogy()\n",
    "h_test_n_track.SetLineColor(R.kRed)\n",
    "h_test_n_track.Draw()\n",
    "h_test_n_hits.Draw(\"same\")\n",
    "cc7.Draw()"
   ],
   "outputs": []
  },
  {
   "cell_type": "code",
   "execution_count": 16,
   "id": "e561b43c4fd88b2c",
   "metadata": {
    "collapsed": false,
    "ExecuteTime": {
     "end_time": "2024-04-11T00:38:32.696212Z",
     "start_time": "2024-04-11T00:38:32.583653Z"
    }
   },
   "source": [
    "h_tan_lambda = dfx_filtered.Histo1D((\"h_tmp\",\"Track tan lambda; tan(#lambda)\",1000,-.1,.1),\"track_tan_lambda\")\n",
    "h_tan_lambda_lasthit = dfx_filtered.Histo1D((\"h_tmp2\",\"Track tan lambda; tan(#lambda)\",1000,-.1,.1),\"track_tan_lambda_at_lasthit\")\n",
    "h_track_chi2_top = dfx_filtered.Filter(\"track_tan_lambda[0]>0.\").Histo1D((\"h_track_chi2_top\",\"Track chi2 top; #chi^{2}\",1000,0.,100.),\"track_chi2\")\n",
    "h_track_chi2_bot = dfx_filtered.Filter(\"track_tan_lambda[0]<0.\").Histo1D((\"h_track_chi2_bot\",\"Track chi2 bot; #chi^{2}\",1000,0.,100.),\"track_chi2\")"
   ],
   "outputs": []
  },
  {
   "cell_type": "code",
   "execution_count": 17,
   "id": "2ea681db27dd66f6",
   "metadata": {
    "collapsed": false,
    "ExecuteTime": {
     "end_time": "2024-04-11T00:38:44.881147Z",
     "start_time": "2024-04-11T00:38:32.697020Z"
    }
   },
   "source": [
    "cc9 = R.TCanvas(\"cc9\",\"cc9\",1200,600)\n",
    "cc9.Divide(2,1)\n",
    "pad1 = cc9.cd(1)\n",
    "h_tan_lambda.SetStats(0)\n",
    "h_tan_lambda.SetTitle(\"Track tan(#lambda).\")\n",
    "h_tan_lambda.SetLineColor(R.kBlue)\n",
    "h_tan_lambda.Draw()\n",
    "h_tan_lambda_lasthit.SetLineColor(R.kRed)\n",
    "h_tan_lambda_lasthit.Draw(\"same\")\n",
    "leg1 = R.TLegend(0.75,0.85,0.95,0.93)\n",
    "leg1.AddEntry(h_tan_lambda.GetPtr(),\"track\",\"l\")\n",
    "leg1.AddEntry(h_tan_lambda_lasthit.GetPtr(),\"track @ last hit\",\"l\")\n",
    "leg1.Draw()\n",
    "pad2 = cc9.cd(2)\n",
    "h_track_chi2_top.SetStats(0)\n",
    "h_track_chi2_top.SetTitle(\"Track #chi^{2}.\")\n",
    "h_track_chi2_top.SetLineColor(R.kBlue)\n",
    "h_track_chi2_top.Draw()\n",
    "h_track_chi2_bot.SetLineColor(R.kRed)\n",
    "h_track_chi2_bot.Draw(\"same\")\n",
    "leg2 = R.TLegend(0.8,0.85,0.95,0.93)\n",
    "leg2.AddEntry(h_track_chi2_top.GetPtr(),\"Top\",\"l\")\n",
    "leg2.AddEntry(h_track_chi2_bot.GetPtr(),\"Bot\",\"l\")\n",
    "leg2.Draw()\n",
    "cc9.Draw()\n",
    "cc9.SaveAs(\"track_tan_lambda_chi2\"+save_name_ext+\".pdf\")"
   ],
   "outputs": []
  },
  {
   "cell_type": "code",
   "execution_count": 18,
   "id": "a14d10f59c2a9c9c",
   "metadata": {
    "collapsed": false,
    "ExecuteTime": {
     "end_time": "2024-04-11T00:38:45.052196Z",
     "start_time": "2024-04-11T00:38:44.882049Z"
    }
   },
   "source": [
    "dfx_f2 = dfx_filtered \\\n",
    ".Define(\"mc_score_z_i_top\",\"vector<int> out;for(int i=0;i<mc_score_z.size();++i){if(mc_score_z[i]>891.5 && mc_score_z[i]<900.){out.push_back(i);}}; return out;\") \\\n",
    ".Define(\"mc_score_z_i_bot\",\"vector<int> out;for(int i=0;i<mc_score_z.size();++i){if(mc_score_z[i]>907.5 && mc_score_z[i]<915.){out.push_back(i);}}; return out;\") \\\n",
    ".Define(\"mc_score_x_select_top\",\"vector<double> out; for(int i=0;i<mc_score_z_i_top.size();i++){out.push_back(mc_score_x[mc_score_z_i_top[i]]);};return out;\") \\\n",
    ".Define(\"mc_score_x_select_bot\",\"vector<double> out; for(int i=0;i<mc_score_z_i_bot.size();i++){out.push_back(mc_score_x[mc_score_z_i_bot[i]]);};return out;\") \\\n",
    ".Define(\"mc_score_y_select_top\",\"vector<double> out; for(int i=0;i<mc_score_z_i_top.size();i++){out.push_back(mc_score_y[mc_score_z_i_top[i]]);};return out;\") \\\n",
    ".Define(\"mc_score_y_select_bot\",\"vector<double> out; for(int i=0;i<mc_score_z_i_bot.size();i++){out.push_back(mc_score_y[mc_score_z_i_bot[i]]);};return out;\") \\\n",
    ".Define(\"mc_score_z_select_top\",\"vector<double> out; for(int i=0;i<mc_score_z_i_top.size();i++){out.push_back(mc_score_z[mc_score_z_i_top[i]]);};return out;\") \\\n",
    ".Define(\"mc_score_z_select_bot\",\"vector<double> out; for(int i=0;i<mc_score_z_i_bot.size();i++){out.push_back(mc_score_z[mc_score_z_i_bot[i]]);};return out;\") \\\n",
    ".Define(\"mc_score_track_x_diff_top\",\"vector<double> out; for(int i=0;i<mc_score_z_i_top.size();i++){out.push_back(mc_score_x[mc_score_z_i_top[i]]-track_x_at_lasthit[0]);};return out;\") \\\n",
    ".Define(\"mc_score_track_y_diff_top\",\"vector<double> out; for(int i=0;i<mc_score_z_i_top.size();i++){out.push_back(mc_score_y[mc_score_z_i_top[i]]-track_y_at_lasthit[0]);};return out;\") \\\n",
    ".Define(\"mc_score_track_z_diff_top\",\"vector<double> out; for(int i=0;i<mc_score_z_i_top.size();i++){out.push_back(mc_score_z[mc_score_z_i_top[i]]-track_z_at_lasthit[0]);};return out;\") \\\n",
    ".Define(\"mc_score_track_x_diff_bot\",\"vector<double> out; for(int i=0;i<mc_score_z_i_bot.size();i++){out.push_back(mc_score_x[mc_score_z_i_bot[i]]-track_x_at_lasthit[0]);};return out;\") \\\n",
    ".Define(\"mc_score_track_y_diff_bot\",\"vector<double> out; for(int i=0;i<mc_score_z_i_bot.size();i++){out.push_back(mc_score_y[mc_score_z_i_bot[i]]-track_y_at_lasthit[0]);};return out;\") \\\n",
    ".Define(\"mc_score_track_z_diff_bot\",\"vector<double> out; for(int i=0;i<mc_score_z_i_bot.size();i++){out.push_back(mc_score_z[mc_score_z_i_bot[i]]-track_z_at_lasthit[0]);};return out;\") \\\n",
    ".Define(\"mc_score_px_select_top\",\"vector<double> out; for(int i=0;i<mc_score_z_i_top.size();i++){out.push_back(mc_score_px[mc_score_z_i_top[i]]);};return out;\") \\\n",
    ".Define(\"mc_score_px_select_bot\",\"vector<double> out; for(int i=0;i<mc_score_z_i_bot.size();i++){out.push_back(mc_score_px[mc_score_z_i_bot[i]]);};return out;\") \\\n",
    ".Define(\"mc_score_py_select_top\",\"vector<double> out; for(int i=0;i<mc_score_z_i_top.size();i++){out.push_back(mc_score_py[mc_score_z_i_top[i]]);};return out;\") \\\n",
    ".Define(\"mc_score_py_select_bot\",\"vector<double> out; for(int i=0;i<mc_score_z_i_bot.size();i++){out.push_back(mc_score_py[mc_score_z_i_bot[i]]);};return out;\") \\\n",
    ".Define(\"mc_score_pz_select_top\",\"vector<double> out; for(int i=0;i<mc_score_z_i_top.size();i++){out.push_back(mc_score_pz[mc_score_z_i_top[i]]);};return out;\") \\\n",
    ".Define(\"mc_score_pz_select_bot\",\"vector<double> out; for(int i=0;i<mc_score_z_i_bot.size();i++){out.push_back(mc_score_pz[mc_score_z_i_bot[i]]);};return out;\") \\\n",
    ".Define(\"track_p_at_lasthit\",\"return sqrt(track_px_at_lasthit[0]*track_px_at_lasthit[0]+track_py_at_lasthit[0]*track_py_at_lasthit[0]+track_pz_at_lasthit[0]*track_pz_at_lasthit[0]);\") \\\n",
    ".Define(\"mc_score_track_px_diff_top\",\"vector<double> out; for(int i=0;i<mc_score_z_i_top.size();i++){out.push_back(mc_score_px[mc_score_z_i_top[i]]-track_px_at_lasthit[0]);};return out;\") \\\n",
    ".Define(\"mc_score_track_py_diff_top\",\"vector<double> out; for(int i=0;i<mc_score_z_i_top.size();i++){out.push_back(mc_score_py[mc_score_z_i_top[i]]-track_py_at_lasthit[0]);};return out;\") \\\n",
    ".Define(\"mc_score_track_pz_diff_top\",\"vector<double> out; for(int i=0;i<mc_score_z_i_top.size();i++){out.push_back(mc_score_pz[mc_score_z_i_top[i]]-track_pz_at_lasthit[0]);};return out;\") \\\n",
    ".Define(\"mc_score_track_px_diff_bot\",\"vector<double> out; for(int i=0;i<mc_score_z_i_bot.size();i++){out.push_back(mc_score_px[mc_score_z_i_bot[i]]-track_px_at_lasthit[0]);};return out;\") \\\n",
    ".Define(\"mc_score_track_py_diff_bot\",\"vector<double> out; for(int i=0;i<mc_score_z_i_bot.size();i++){out.push_back(mc_score_py[mc_score_z_i_bot[i]]-track_py_at_lasthit[0]);};return out;\") \\\n",
    ".Define(\"mc_score_track_pz_diff_bot\",\"vector<double> out; for(int i=0;i<mc_score_z_i_bot.size();i++){out.push_back(mc_score_pz[mc_score_z_i_bot[i]]-track_pz_at_lasthit[0]);};return out;\") \\\n",
    ".Define(\"mc_score_ptht_select_top\",\"vector<double> out; for(int i=0;i<mc_score_z_i_top.size();i++){out.push_back(atan2(mc_score_px[mc_score_z_i_top[i]],mc_score_pz[mc_score_z_i_top[i]]));};return out;\") \\\n",
    ".Define(\"mc_score_ptht_select_bot\",\"vector<double> out; for(int i=0;i<mc_score_z_i_bot.size();i++){out.push_back(atan2(mc_score_px[mc_score_z_i_bot[i]],mc_score_pz[mc_score_z_i_bot[i]]));};return out;\") \\\n",
    ".Define(\"mc_score_pthty_select_top\",\"vector<double> out; for(int i=0;i<mc_score_z_i_top.size();i++){out.push_back(atan2(mc_score_py[mc_score_z_i_top[i]],mc_score_pz[mc_score_z_i_top[i]]));};return out;\") \\\n",
    ".Define(\"mc_score_pthty_select_bot\",\"vector<double> out; for(int i=0;i<mc_score_z_i_bot.size();i++){out.push_back(atan2(mc_score_py[mc_score_z_i_bot[i]],mc_score_pz[mc_score_z_i_bot[i]]));};return out;\") \\\n",
    ".Define(\"track_tht_at_lasthit\",\"return atan2(track_px_at_lasthit[0],track_pz_at_lasthit[0])\") \\\n",
    ".Define(\"track_thty_at_lasthit\",\"return atan2(track_py_at_lasthit[0],track_pz_at_lasthit[0])\") \\\n",
    ".Define(\"mc_score_track_tht_diff_top\",\"vector<double> out; for(int i=0;i<mc_score_ptht_select_top.size();i++){out.push_back(mc_score_ptht_select_top[i]-track_tht_at_lasthit);};return out;\")\\\n",
    ".Define(\"mc_score_track_tht_diff_bot\",\"vector<double> out; for(int i=0;i<mc_score_ptht_select_bot.size();i++){out.push_back(mc_score_ptht_select_bot[i]-track_tht_at_lasthit);};return out;\") \\\n",
    ".Define(\"mc_score_track_thty_diff_top\",\"vector<double> out; for(int i=0;i<mc_score_ptht_select_top.size();i++){out.push_back(mc_score_pthty_select_top[i]-track_thty_at_lasthit);};return out;\") \\\n",
    ".Define(\"mc_score_track_thty_diff_bot\",\"vector<double> out; for(int i=0;i<mc_score_ptht_select_bot.size();i++){out.push_back(mc_score_pthty_select_bot[i]-track_thty_at_lasthit);};return out;\")\n",
    "\n",
    "dfx_f3 = dfx_f2.Filter(\"track_tan_lambda[0]>0\")\n",
    "dfx_f4 = dfx_f2.Filter(\"track_tan_lambda[0]<0\")\n"
   ],
   "outputs": []
  },
  {
   "cell_type": "code",
   "execution_count": 19,
   "id": "a121caef2279159c",
   "metadata": {
    "collapsed": false,
    "ExecuteTime": {
     "end_time": "2024-04-11T00:38:45.164460Z",
     "start_time": "2024-04-11T00:38:45.053569Z"
    }
   },
   "source": [
    "h_score_track_x_diff_top = dfx_f3.Histo1D((\"h_score_track_x_diff_top\",\"MC Score - Track x difference, top; x [mm]\",1000,-10.,10.),\"mc_score_track_x_diff_top\")\n",
    "h_score_track_x_diff_bot = dfx_f4.Histo1D((\"h_score_track_x_diff_bot\",\"MC Score - Track x difference, bot; x [mm]\",1000,-10.,10.),\"mc_score_track_x_diff_bot\")\n",
    "h_score_track_y_diff_top = dfx_f3.Histo1D((\"h_score_track_y_diff_top\",\"MC Score - Track y difference, top; y [mm]\",1000,-10.,10.),\"mc_score_track_y_diff_top\")\n",
    "h_score_track_y_diff_bot = dfx_f4.Histo1D((\"h_score_track_y_diff_bot\",\"MC Score - Track y difference, bot; y [mm]\",1000,-10.,10.),\"mc_score_track_y_diff_bot\")\n",
    "\n",
    "momentum_plot_scale = 0.05\n",
    "h_score_track_px_diff_top = dfx_f3.Histo1D((\"h_score_track_px_diff_top\",\"MC Score - Track px difference, top; p_{x} [GeV]\",1000,-momentum_plot_scale,momentum_plot_scale),\"mc_score_track_px_diff_top\")\n",
    "h_score_track_px_diff_bot = dfx_f4.Histo1D((\"h_score_track_px_diff_bot\",\"MC Score - Track px difference, bot; p_{x} [GeV]\",1000,-momentum_plot_scale,momentum_plot_scale),\"mc_score_track_px_diff_bot\")\n",
    "h_score_track_py_diff_top = dfx_f3.Histo1D((\"h_score_track_py_diff_top\",\"MC Score - Track py difference, top; p_{y} [GeV]\",1000,-momentum_plot_scale,momentum_plot_scale),\"mc_score_track_py_diff_top\")\n",
    "h_score_track_py_diff_bot = dfx_f4.Histo1D((\"h_score_track_py_diff_bot\",\"MC Score - Track py difference, bot; p_{y} [GeV]\",1000,-momentum_plot_scale,momentum_plot_scale),\"mc_score_track_py_diff_bot\")\n",
    "\n",
    "h_score_track_tht_diff_top = dfx_f3.Histo1D((\"h_score_track_tht_diff_top\",\"Tht diff score - track; #theta\",400,-0.1,0.1),\"mc_score_track_tht_diff_top\")\n",
    "h_score_track_tht_diff_bot = dfx_f4.Histo1D((\"h_score_track_tht_diff_bot\",\"Tht diff score - track; #theta\",400,-0.1,0.1),\"mc_score_track_tht_diff_bot\")\n",
    "h_score_track_thty_diff_top = dfx_f3.Histo1D((\"h_score_track_thty_diff_top\",\"Tht_y diff score - track; #theta_{y}\",400,-0.1,0.1),\"mc_score_track_thty_diff_top\")\n",
    "h_score_track_thty_diff_bot = dfx_f4.Histo1D((\"h_score_track_thty_diff_bot\",\"Tht_y diff score - track; #theta_{y}\",400,-0.1,0.1),\"mc_score_track_thty_diff_bot\")\n",
    "h_score_track_tht_diff_topz = dfx_f3.Histo1D((\"h_score_track_tht_diff_top\",\"Tht diff score - track; #theta\",400,-0.01,0.05),\"mc_score_track_tht_diff_top\")\n",
    "h_score_track_tht_diff_botz = dfx_f4.Histo1D((\"h_score_track_tht_diff_bot\",\"Tht diff score - track; #theta\",400,-0.01,0.05),\"mc_score_track_tht_diff_bot\")\n",
    "h_score_track_thty_diff_topz = dfx_f3.Histo1D((\"h_score_track_thty_diff_top\",\"Tht_y diff score - track; #theta_{y}\",400,-0.01,0.01),\"mc_score_track_thty_diff_top\")\n",
    "h_score_track_thty_diff_botz = dfx_f4.Histo1D((\"h_score_track_thty_diff_bot\",\"Tht_y diff score - track; #theta_{y}\",400,-0.01,0.01),\"mc_score_track_thty_diff_bot\")"
   ],
   "outputs": []
  },
  {
   "cell_type": "code",
   "execution_count": 20,
   "id": "e1e6f69732790c65",
   "metadata": {
    "collapsed": false,
    "ExecuteTime": {
     "end_time": "2024-04-11T00:39:03.639110Z",
     "start_time": "2024-04-11T00:38:45.165221Z"
    }
   },
   "source": [
    "cc12 = R.TCanvas(\"cc12\",\"cc12\",1200,400)\n",
    "cc12.Divide(2,1)\n",
    "pad1 = cc12.cd(1)\n",
    "pad1.SetLogy()\n",
    "h_score_track_x_diff_top.SetTitle(\"#Delta x MC Score - Track\")\n",
    "h_score_track_x_diff_top.SetLineColor(R.kBlue)\n",
    "h_score_track_x_diff_top.Draw()\n",
    "h_score_track_x_diff_bot.SetLineColor(R.kRed)\n",
    "h_score_track_x_diff_bot.Draw(\"sames\")\n",
    "leg = R.TLegend(0.1,0.75,0.25,0.9)\n",
    "leg.AddEntry(h_score_track_x_diff_top.GetPtr(),\"Top\",\"l\")\n",
    "leg.AddEntry(h_score_track_x_diff_bot.GetPtr(),\"Bot\",\"l\")\n",
    "leg.Draw()\n",
    "pad2 = cc12.cd(2)\n",
    "pad2.SetLogy()\n",
    "h_score_track_y_diff_top.SetTitle(\"#Delta y MC Score - Track\")\n",
    "h_score_track_y_diff_top.SetLineColor(R.kBlue)\n",
    "h_score_track_y_diff_top.Draw()\n",
    "h_score_track_y_diff_bot.SetLineColor(R.kRed)\n",
    "h_score_track_y_diff_bot.Draw(\"sames\")\n",
    "cc12.Draw()\n",
    "\n",
    "st_top = h_score_track_x_diff_top.GetListOfFunctions().FindObject(\"stats\")\n",
    "st_top.SetY1NDC(0.9)\n",
    "st_top.SetY2NDC(0.75)\n",
    "st_bot = h_score_track_x_diff_bot.GetListOfFunctions().FindObject(\"stats\")\n",
    "st_bot.SetY1NDC(0.75)\n",
    "st_bot.SetY2NDC(0.6)\n",
    "\n",
    "st_top = h_score_track_y_diff_top.GetListOfFunctions().FindObject(\"stats\")\n",
    "st_top.SetY1NDC(0.9)\n",
    "st_top.SetY2NDC(0.75)\n",
    "st_bot = h_score_track_y_diff_bot.GetListOfFunctions().FindObject(\"stats\")\n",
    "st_bot.SetY1NDC(0.75)\n",
    "st_bot.SetY2NDC(0.6)\n",
    "\n",
    "cc12.SaveAs(\"track_score_x_y_differences\"+save_name_ext+\".pdf\")"
   ],
   "outputs": []
  },
  {
   "cell_type": "code",
   "execution_count": 21,
   "id": "40071e8408b8cdf6",
   "metadata": {
    "collapsed": false,
    "ExecuteTime": {
     "end_time": "2024-04-11T00:39:03.789797Z",
     "start_time": "2024-04-11T00:39:03.639892Z"
    }
   },
   "source": [
    "cc13 = R.TCanvas(\"cc12\",\"cc12\",1200,400)\n",
    "cc13.Divide(2,1)\n",
    "pad1 = cc13.cd(1)\n",
    "pad1.SetLogy()\n",
    "h_score_track_tht_diff_top.SetTitle(\"#Delta #theta_{x} MC Score - Track\")\n",
    "h_score_track_tht_diff_top.SetLineColor(R.kBlue)\n",
    "h_score_track_tht_diff_top.Draw()\n",
    "h_score_track_tht_diff_bot.SetLineColor(R.kRed)\n",
    "h_score_track_tht_diff_bot.Draw(\"sames\")\n",
    "leg = R.TLegend(0.12,0.75,0.25,0.89)\n",
    "leg.AddEntry(h_score_track_tht_diff_top.GetPtr(),\"Top\",\"l\")\n",
    "leg.AddEntry(h_score_track_tht_diff_bot.GetPtr(),\"Bot\",\"l\")\n",
    "leg.Draw()\n",
    "pad2 = cc13.cd(2)\n",
    "pad2.SetLogy()\n",
    "h_score_track_thty_diff_top.SetTitle(\"#Delta  #theta_{y}  MC Score - Track\")\n",
    "h_score_track_thty_diff_top.SetLineColor(R.kBlue)\n",
    "h_score_track_thty_diff_top.Draw()\n",
    "h_score_track_thty_diff_bot.SetLineColor(R.kRed)\n",
    "h_score_track_thty_diff_bot.Draw(\"sames\")\n",
    "cc13.Draw()\n",
    "\n",
    "st_top = h_score_track_tht_diff_top.GetListOfFunctions().FindObject(\"stats\")\n",
    "st_top.SetY1NDC(0.9)\n",
    "st_top.SetY2NDC(0.75)\n",
    "st_bot = h_score_track_tht_diff_bot.GetListOfFunctions().FindObject(\"stats\")\n",
    "st_bot.SetY1NDC(0.75)\n",
    "st_bot.SetY2NDC(0.6)\n",
    "\n",
    "st_top = h_score_track_thty_diff_top.GetListOfFunctions().FindObject(\"stats\")\n",
    "st_top.SetY1NDC(0.9)\n",
    "st_top.SetY2NDC(0.75)\n",
    "st_bot = h_score_track_thty_diff_bot.GetListOfFunctions().FindObject(\"stats\")\n",
    "st_bot.SetY1NDC(0.75)\n",
    "st_bot.SetY2NDC(0.6)\n",
    "\n",
    "cc13.SaveAs(\"track_score_tht_thty_differences\"+save_name_ext+\".pdf\")"
   ],
   "outputs": []
  },
  {
   "cell_type": "code",
   "execution_count": 22,
   "id": "3f80cfef793f2329",
   "metadata": {
    "collapsed": false,
    "ExecuteTime": {
     "end_time": "2024-04-11T00:39:03.922872Z",
     "start_time": "2024-04-11T00:39:03.790699Z"
    }
   },
   "source": [
    "cc13 = R.TCanvas(\"cc12\",\"cc12\",1200,400)\n",
    "cc13.Divide(2,1)\n",
    "pad1 = cc13.cd(1)\n",
    "#pad1.SetLogy()\n",
    "h_score_track_tht_diff_topz.SetTitle(\"#Delta #theta_{x} MC Score - Track\")\n",
    "h_score_track_tht_diff_topz.SetLineColor(R.kBlue)\n",
    "h_score_track_tht_diff_topz.Draw()\n",
    "h_score_track_tht_diff_botz.SetLineColor(R.kRed)\n",
    "h_score_track_tht_diff_botz.Draw(\"sames\")\n",
    "leg = R.TLegend(0.5,0.75,0.65,0.89)\n",
    "leg.AddEntry(h_score_track_tht_diff_topz.GetPtr(),\"Top\",\"l\")\n",
    "leg.AddEntry(h_score_track_tht_diff_botz.GetPtr(),\"Bot\",\"l\")\n",
    "leg.Draw()\n",
    "pad2 = cc13.cd(2)\n",
    "#pad2.SetLogy()\n",
    "h_score_track_thty_diff_topz.SetTitle(\"#Delta  #theta_{y}  MC Score - Track\")\n",
    "h_score_track_thty_diff_topz.SetLineColor(R.kBlue)\n",
    "h_score_track_thty_diff_topz.Draw()\n",
    "h_score_track_thty_diff_botz.SetLineColor(R.kRed)\n",
    "h_score_track_thty_diff_botz.Draw(\"sames\")\n",
    "cc13.Draw()\n",
    "\n",
    "st_top = h_score_track_tht_diff_topz.GetListOfFunctions().FindObject(\"stats\")\n",
    "st_top.SetY1NDC(0.9)\n",
    "st_top.SetY2NDC(0.75)\n",
    "st_bot = h_score_track_tht_diff_botz.GetListOfFunctions().FindObject(\"stats\")\n",
    "st_bot.SetY1NDC(0.75)\n",
    "st_bot.SetY2NDC(0.6)\n",
    "\n",
    "st_top = h_score_track_thty_diff_topz.GetListOfFunctions().FindObject(\"stats\")\n",
    "st_top.SetY1NDC(0.9)\n",
    "st_top.SetY2NDC(0.75)\n",
    "st_bot = h_score_track_thty_diff_botz.GetListOfFunctions().FindObject(\"stats\")\n",
    "st_bot.SetY1NDC(0.75)\n",
    "st_bot.SetY2NDC(0.6)\n",
    "\n",
    "#cc13.SaveAs(\"track_score_tht_thty_differences\"+save_name_ext+\"_lin.pdf\")"
   ],
   "outputs": []
  },
  {
   "cell_type": "code",
   "execution_count": 23,
   "id": "1738b5c3a0b0a2ff",
   "metadata": {
    "collapsed": false,
    "ExecuteTime": {
     "end_time": "2024-04-11T00:39:04.073809Z",
     "start_time": "2024-04-11T00:39:03.923749Z"
    }
   },
   "source": [
    "cc14 = R.TCanvas(\"cc12\",\"cc12\",1200,400)\n",
    "cc14.Divide(2,1)\n",
    "pad1 = cc14.cd(1)\n",
    "pad1.SetLogy()\n",
    "h_score_track_px_diff_top.SetTitle(\"#Delta p_{x} MC Score - Track\")\n",
    "h_score_track_px_diff_top.SetLineColor(R.kBlue)\n",
    "h_score_track_px_diff_top.Draw()\n",
    "h_score_track_px_diff_bot.SetLineColor(R.kRed)\n",
    "h_score_track_px_diff_bot.Draw(\"sames\")\n",
    "leg = R.TLegend(0.1,0.75,0.25,0.9)\n",
    "leg.AddEntry(h_score_track_px_diff_top.GetPtr(),\"Top\",\"l\")\n",
    "leg.AddEntry(h_score_track_px_diff_bot.GetPtr(),\"Bot\",\"l\")\n",
    "leg.Draw()\n",
    "pad2 = cc14.cd(2)\n",
    "pad2.SetLogy()\n",
    "h_score_track_py_diff_top.SetTitle(\"#Delta  p_{y}  MC Score - Track\")\n",
    "h_score_track_py_diff_top.SetLineColor(R.kBlue)\n",
    "h_score_track_py_diff_top.Draw()\n",
    "h_score_track_py_diff_bot.SetLineColor(R.kRed)\n",
    "h_score_track_py_diff_bot.Draw(\"sames\")\n",
    "cc14.Draw()\n",
    "\n",
    "st_top = h_score_track_px_diff_top.GetListOfFunctions().FindObject(\"stats\")\n",
    "st_top.SetY1NDC(0.9)\n",
    "st_top.SetY2NDC(0.75)\n",
    "st_bot = h_score_track_px_diff_bot.GetListOfFunctions().FindObject(\"stats\")\n",
    "st_bot.SetY1NDC(0.75)\n",
    "st_bot.SetY2NDC(0.6)\n",
    "\n",
    "st_top = h_score_track_py_diff_top.GetListOfFunctions().FindObject(\"stats\")\n",
    "st_top.SetY1NDC(0.9)\n",
    "st_top.SetY2NDC(0.75)\n",
    "st_bot = h_score_track_py_diff_bot.GetListOfFunctions().FindObject(\"stats\")\n",
    "st_bot.SetY1NDC(0.75)\n",
    "st_bot.SetY2NDC(0.6)\n",
    "\n",
    "cc14.SaveAs(\"track_score_px_py_differences\"+save_name_ext +\".pdf\")"
   ],
   "outputs": []
  },
  {
   "cell_type": "code",
   "execution_count": 24,
   "id": "66efae201088c984",
   "metadata": {
    "collapsed": false,
    "ExecuteTime": {
     "end_time": "2024-04-11T00:39:04.179740Z",
     "start_time": "2024-04-11T00:39:04.074609Z"
    }
   },
   "source": [
    "dfx_f2.GetColumnNames()"
   ],
   "outputs": []
  },
  {
   "cell_type": "code",
   "execution_count": 25,
   "id": "73c55b973d43293",
   "metadata": {
    "collapsed": false,
    "ExecuteTime": {
     "end_time": "2024-04-11T00:39:04.292158Z",
     "start_time": "2024-04-11T00:39:04.180436Z"
    }
   },
   "source": [
    "h_track_p_at_lasthit = dfx_f2.Histo1D((\"h_track_p_at_lasthit\",\"Track p at last hit; p [GeV]\",1000,0.,5.),\"track_p_at_lasthit\")\n",
    "h_track_diffx_vs_p_top = dfx_f3.Histo2D((\"h_track_x_vs_p\",\"Track #Delta x vs p top; p [GeV]; #Delta x [mm]\",200,0.,5.,200,-10,10),\"track_p_at_lasthit\",\"mc_score_track_x_diff_top\")\n",
    "h_track_diffx_vs_p_bot = dfx_f4.Histo2D((\"h_track_x_vs_p\",\"Track #Delta x vs p bot; p [GeV]; #Delta x [mm]\",200,0.,5.,200,-10,10),\"track_p_at_lasthit\",\"mc_score_track_x_diff_bot\")\n",
    "h_track_diffpx_vs_p_top = dfx_f3.Histo2D((\"h_track_px_vs_p\",\"Track #Delta px vs p top; p [GeV]; #Delta px [GeV]\",200,0.,5.,200,-0.1,0.1),\"track_p_at_lasthit\",\"mc_score_track_px_diff_top\")\n",
    "h_track_diffpx_vs_p_bot = dfx_f4.Histo2D((\"h_track_px_vs_p\",\"Track #Delta px vs p bot; p [GeV]; #Delta px [GeV]\",200,0.,5.,200,-0.1,0.1),\"track_p_at_lasthit\",\"mc_score_track_px_diff_bot\")\n",
    "h_track_difftht_vs_p_top = dfx_f3.Histo2D((\"h_track_tht_vs_p\",\"Track #Delta #theta vs p; p [GeV]; #Delta #theta [rad]\",200,0.,5.,200,-0.05,0.1),\"track_p_at_lasthit\",\"mc_score_track_tht_diff_top\")\n",
    "h_track_difftht_vs_p_bot = dfx_f4.Histo2D((\"h_track_tht_vs_p\",\"Track #Delta #theta vs p; p [GeV]; #Delta #theta [rad]\",200,0.,5.,200,-0.05,0.1),\"track_p_at_lasthit\",\"mc_score_track_tht_diff_bot\")"
   ],
   "outputs": []
  },
  {
   "cell_type": "code",
   "execution_count": 26,
   "id": "27554e6535706571",
   "metadata": {
    "collapsed": false,
    "ExecuteTime": {
     "end_time": "2024-04-11T00:39:19.887439Z",
     "start_time": "2024-04-11T00:39:04.293024Z"
    }
   },
   "source": [
    "cc15 = R.TCanvas(\"cc15\",\"cc15\",1400,500)\n",
    "cc15.Divide(2,1)\n",
    "pad1 = cc15.cd(1)\n",
    "h_track_diffx_vs_p_top.SetStats(0)\n",
    "h_track_diffx_vs_p_top.Draw(\"colz\")\n",
    "pad2 = cc15.cd(2)\n",
    "h_track_diffx_vs_p_bot.SetStats(0)\n",
    "h_track_diffx_vs_p_bot.Draw(\"colz\")\n",
    "cc15.Draw()\n",
    "cc15.SaveAs(\"track_score_x_diff_vs_p\"+save_name_ext+\".pdf\")"
   ],
   "outputs": []
  },
  {
   "cell_type": "code",
   "execution_count": 27,
   "id": "9778e5eb4a1b7771",
   "metadata": {
    "collapsed": false,
    "ExecuteTime": {
     "end_time": "2024-04-11T00:39:20.060610Z",
     "start_time": "2024-04-11T00:39:19.888181Z"
    }
   },
   "source": [
    "cc16 = R.TCanvas(\"cc16\",\"cc15\",1400,500)\n",
    "cc16.Divide(2,1)\n",
    "pad1 = cc16.cd(1)\n",
    "h_track_diffpx_vs_p_top.SetStats(0)\n",
    "h_track_diffpx_vs_p_top.Draw(\"colz\")\n",
    "pad2 = cc16.cd(2)\n",
    "h_track_diffpx_vs_p_bot.SetStats(0)\n",
    "h_track_diffpx_vs_p_bot.Draw(\"colz\")\n",
    "cc16.Draw()\n",
    "cc16.SaveAs(\"track_score_px_diff_vs_p\"+save_name_ext+\".pdf\")"
   ],
   "outputs": []
  },
  {
   "cell_type": "code",
   "execution_count": 28,
   "id": "f94bd8b71e911ec1",
   "metadata": {
    "collapsed": false,
    "ExecuteTime": {
     "end_time": "2024-04-11T00:39:20.226647Z",
     "start_time": "2024-04-11T00:39:20.061575Z"
    }
   },
   "source": [
    "cc17 = R.TCanvas(\"cc17\",\"cc17\",1400,500)\n",
    "cc17.Divide(2,1)\n",
    "pad1 = cc17.cd(1)\n",
    "h_track_difftht_vs_p_top.SetStats(0)\n",
    "h_track_difftht_vs_p_top.Draw(\"colz\")\n",
    "pad2 = cc17.cd(2)\n",
    "h_track_difftht_vs_p_bot.SetStats(0)\n",
    "h_track_difftht_vs_p_bot.Draw(\"colz\")\n",
    "cc17.Draw()\n",
    "cc17.SaveAs(\"track_score_tht_diff_vs_p\"+save_name_ext+\".pdf\")"
   ],
   "outputs": []
  },
  {
   "cell_type": "code",
   "execution_count": 29,
   "id": "b0154db2608070b7",
   "metadata": {
    "collapsed": false,
    "ExecuteTime": {
     "end_time": "2024-04-11T00:39:20.387516Z",
     "start_time": "2024-04-11T00:39:20.227335Z"
    }
   },
   "source": [
    "# Store ALL the canvasses and histograms to a ROOT file.\n",
    "# This is a bit of trick, since the Canveses are available as a list, but the histograms are not.\n",
    "# So we need get the histograms from the canvases.\n",
    "out_file = R.TFile(\"mum_2019_histograms\"+save_name_ext+\".root\",\"RECREATE\")\n",
    "hist_list = {}\n",
    "def hist_map(canvs):\n",
    "    global hist_list\n",
    "    plist = canvs.GetListOfPrimitives()\n",
    "    for p in plist:\n",
    "        # print(f\"  {p.GetName()}\")\n",
    "        clname = p.ClassName()\n",
    "        if clname == \"TPad\" or clname == \"TCanvas\":\n",
    "            # print(f\"Recurse into : {p.GetName()}\")\n",
    "            hist_map(p)\n",
    "        elif clname == \"TH1D\" or clname == \"TH2D\":\n",
    "            # print(f\"         {p.GetName()}\")\n",
    "            hist_list[p.GetName()] = p\n",
    "    \n",
    "canvs = R.gROOT.GetListOfCanvases()\n",
    "for c in canvs:\n",
    "    hist_map(c)\n",
    "    c.Write()\n",
    "\n",
    "for k,v in hist_list.items():\n",
    "    v.Write(k)\n",
    "out_file.Write()\n",
    "out_file.Close()"
   ],
   "outputs": []
  },
  {
   "cell_type": "markdown",
   "id": "c8db3ec7b569bfd4",
   "metadata": {},
   "source": [
    "# From hps_java Track - Cluster matching.\n",
    "The hps_java code has a track - cluster matching class that can create histograms. For a very limited data sample, this was turned on in the steering file. The resulting plots are below."
   ]
  },
  {
   "cell_type": "code",
   "execution_count": 30,
   "id": "ab5b5901a88d794a",
   "metadata": {
    "collapsed": false,
    "ExecuteTime": {
     "end_time": "2024-04-11T00:07:05.928145Z",
     "start_time": "2024-04-11T00:07:05.775797Z"
    }
   },
   "source": [
    "f = R.TFile(\"KalmanFullTracks_TrackClusterMatching.root\",\"READ\")\n",
    "h_track_cluster_dx = f.Get(\"KalmanFullTracks_ele_track_cluster_dx\")\n",
    "h_track_cluster_dy = f.Get(\"KalmanFullTracks_ele_track_cluster_dy\")\n",
    "h_track_cluster_matched_pair_dx = f.Get(\"KalmanFullTracks_ele_track_cluster_matched_pair_dx\")\n",
    "h_track_cluster_matched_pair_dy = f.Get(\"KalmanFullTracks_ele_track_cluster_matched_pair_dy\")\n",
    "cc3 = R.TCanvas(\"cc3\",\"cc3\",1200,400)\n",
    "cc3.Divide(2,1)\n",
    "pad1 = cc3.cd(1)\n",
    "h_track_cluster_dx.SetTitle(\"X difference.\")\n",
    "h_track_cluster_dx.GetXaxis().SetTitle(\"dx [mm]\")\n",
    "h_track_cluster_dx.GetXaxis().SetRangeUser(-100,100)\n",
    "h_track_cluster_dx.SetLineColor(R.kBlue)\n",
    "#h_track_cluster_dx.GetXaxis().SetRangeUser(-20,20)\n",
    "h_track_cluster_dx.Draw()\n",
    "h_track_cluster_matched_pair_dx.SetLineColor(R.kRed)\n",
    "h_track_cluster_matched_pair_dx.Draw(\"same\")\n",
    "leg = R.TLegend(0.75,0.65,0.98,0.75)\n",
    "leg.AddEntry(h_track_cluster_dx,\"All pairs\")\n",
    "leg.AddEntry(h_track_cluster_matched_pair_dx,\"Matched pairs\")\n",
    "leg.Draw()\n",
    "pad2 = cc3.cd(2)\n",
    "h_track_cluster_dy.SetTitle(\"Y difference.\")\n",
    "h_track_cluster_dy.GetXaxis().SetTitle(\"dy [mm]\")\n",
    "h_track_cluster_dy.GetXaxis().SetRangeUser(-100,100)\n",
    "h_track_cluster_dy.SetLineColor(R.kBlue)\n",
    "#h_track_cluster_dy.GetXaxis().SetRangeUser(-20,20)\n",
    "h_track_cluster_dy.Draw()\n",
    "h_track_cluster_matched_pair_dy.SetLineColor(R.kRed)\n",
    "h_track_cluster_matched_pair_dy.Draw(\"same\")\n",
    "cc3.SaveAs(\"hps_java_track_cluster_matching.pdf\")\n",
    "cc3.Draw()\n",
    "\n"
   ],
   "outputs": []
  },
  {
   "cell_type": "code",
   "source": [],
   "metadata": {
    "collapsed": false
   },
   "id": "ed3200f37fb06e86",
   "execution_count": null,
   "outputs": []
  }
 ],
 "metadata": {
  "kernelspec": {
   "display_name": "Python 3 (ipykernel)",
   "language": "python",
   "name": "python3"
  },
  "language_info": {
   "codemirror_mode": {
    "name": "ipython",
    "version": 3
   },
   "file_extension": ".py",
   "mimetype": "text/x-python",
   "name": "python",
   "nbconvert_exporter": "python",
   "pygments_lexer": "ipython3",
   "version": "3.10.10"
  }
 },
 "nbformat": 4,
 "nbformat_minor": 5
}
