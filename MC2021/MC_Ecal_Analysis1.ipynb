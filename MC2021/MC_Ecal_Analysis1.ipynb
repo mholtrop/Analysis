{
 "cells": [
  {
   "cell_type": "code",
   "execution_count": 1,
   "metadata": {
    "collapsed": true
   },
   "outputs": [
    {
     "name": "stdout",
     "output_type": "stream",
     "text": [
      "Welcome to JupyROOT 6.29/01\n",
      "Recompile is not needed\n"
     ]
    },
    {
     "data": {
      "text/plain": "'Utility Functions V1.0.5 \\n'"
     },
     "execution_count": 1,
     "metadata": {},
     "output_type": "execute_result"
    }
   ],
   "source": [
    "import sys\n",
    "sys.path.append(\"../Python\")\n",
    "import ROOT as R\n",
    "from array import array\n",
    "import time\n",
    "import numpy as np\n",
    "# Turn jsroot off if you want to make a pdf from this file.\n",
    "%jsroot on\n",
    "from root_helpers import SetStyle\n",
    "from root_helpers import fancy_plot\n",
    "from root_helpers import print_mc_particle_tree\n",
    "from root_helpers import print_daughters\n",
    "R.EnableImplicitMT()\n",
    "import os\n",
    "recompile = True\n",
    "try:\n",
    "    if os.path.getmtime('../Python/Utility_Functions_C.so') - os.path.getmtime('../Python/Utility_Functions.C') > 0:\n",
    "        recompile = False\n",
    "        print(\"Recompile is not needed\")\n",
    "    else:\n",
    "        print(\"Recompiling: \")\n",
    "except:\n",
    "    print(\"Recompile needed, file not found.\")\n",
    "if recompile:\n",
    "    R.gROOT.LoadMacro(\"../Python/Utility_Functions.C++\")\n",
    "else:\n",
    "    R.gSystem.Load(\"../Python/Utility_Functions_C.so\")\n",
    "\n",
    "R.gSystem.Load(\"lib/libMC2021\")\n",
    "R.Utility_Functions()"
   ]
  },
  {
   "cell_type": "code",
   "execution_count": 2,
   "outputs": [
    {
     "name": "stdout",
     "output_type": "stream",
     "text": [
      "Number of events loaded:   1.847M\n"
     ]
    }
   ],
   "source": [
    "ch = R.TChain(\"MiniDST\")\n",
    "ch.Add(\"/data/HPS/data/physrun2021/sim_2021/hpsForward_e-_3.0GeV_z0.0_*_SLIC-v06-00-01_QGSP_BERT_HPS-v2019-3pt7GeV_recon.root\")\n",
    "# ch.Add(\"/data/HPS/data/physrun2021/pass0/minidst/hps_0147*.root\")\n",
    "print(f\"Number of events loaded: {ch.GetEntries()/1e6:7.3f}M\")\n",
    "df = R.RDataFrame(ch)"
   ],
   "metadata": {
    "collapsed": false
   }
  },
  {
   "cell_type": "code",
   "execution_count": 3,
   "outputs": [
    {
     "name": "stdout",
     "output_type": "stream",
     "text": [
      "V1.0.4\n"
     ]
    }
   ],
   "source": [
    "R.gInterpreter.ProcessLine('''auto EAC = Ecal_Analysis_Class();''')   # This is key. It puts the EAC in C++ space.\n",
    "print(f\"{R.EAC.Version()}\")"
   ],
   "metadata": {
    "collapsed": false
   }
  },
  {
   "cell_type": "code",
   "execution_count": 4,
   "outputs": [],
   "source": [
    "dfx = R.EAC.extend_dataframe(R.RDF.AsRNode(df));"
   ],
   "metadata": {
    "collapsed": false
   }
  },
  {
   "cell_type": "code",
   "execution_count": 5,
   "outputs": [
    {
     "name": "stdout",
     "output_type": "stream",
     "text": [
      "Available data names in Tuple:\n",
      "\n",
      "ecal_cluster_energy           ecal_cluster_hits             ecal_cluster_nhits            ecal_cluster_seed_energy      \n",
      "ecal_cluster_seed_index       ecal_cluster_seed_ix          ecal_cluster_seed_iy          ecal_cluster_time             \n",
      "ecal_cluster_uncor_energy     ecal_cluster_uncor_hits       ecal_cluster_uncor_nhits      ecal_cluster_uncor_seed_energy\n",
      "ecal_cluster_uncor_seed_index ecal_cluster_uncor_seed_ix    ecal_cluster_uncor_seed_iy    ecal_cluster_uncor_time       \n",
      "ecal_cluster_uncor_x          ecal_cluster_uncor_y          ecal_cluster_uncor_z          ecal_cluster_x                \n",
      "ecal_cluster_y                ecal_cluster_z                ecal_hit_energy               ecal_hit_index_x              \n",
      "ecal_hit_index_y              ecal_hit_time                 event_number                  ext_trigger                   \n",
      "hodo_cluster_energy           hodo_cluster_ix               hodo_cluster_iy               hodo_cluster_layer            \n",
      "hodo_cluster_time             hodo_hit_energy               hodo_hit_hole                 hodo_hit_index_x              \n",
      "hodo_hit_index_y              hodo_hit_layer                hodo_hit_time                 mc_part_charge                \n",
      "mc_part_daughters             mc_part_end_px                mc_part_end_py                mc_part_end_pz                \n",
      "mc_part_end_x                 mc_part_end_y                 mc_part_end_z                 mc_part_energy                \n",
      "mc_part_id                    mc_part_mass                  mc_part_parents               mc_part_pdg                   \n",
      "mc_part_primary_index         mc_part_px                    mc_part_py                    mc_part_pz                    \n",
      "mc_part_sim_status            mc_part_time                  mc_part_x                     mc_part_y                     \n",
      "mc_part_z                     mc_score_cluster_indexes      mc_score_part_idx             mc_score_pdg                  \n",
      "mc_score_primary_hits_e       mc_score_px                   mc_score_py                   mc_score_pz                   \n",
      "mc_score_secondary_hits_e     mc_score_time                 mc_score_type                 mc_score_x                    \n",
      "mc_score_y                    mc_score_z                    n_mc_score_primary_hits       n_mc_score_secondary_hits     \n",
      "part_charge                   part_ecal_cluster             part_energy                   part_goodness_of_pid          \n",
      "part_lcio_type                part_mass                     part_pdg                      part_px                       \n",
      "part_py                       part_pz                       part_track                    part_track_chi2               \n",
      "part_type                     rf_time1                      rf_time2                      run_number                    \n",
      "svt_status                    time_stamp                    track_chi2                    track_covmatrix               \n",
      "track_d0                      track_gbl_ref                 track_isolation               track_lambda_kinks            \n",
      "track_n_gbl                   track_n_hits                  track_n_kf                    track_n_matched               \n",
      "track_omega                   track_particle                track_phi0                    track_phi_kinks               \n",
      "track_px                      track_py                      track_pz                      track_ref                     \n",
      "track_svt_hits                track_tan_lambda              track_time                    track_type                    \n",
      "track_volume                  track_x_at_ecal               track_y_at_ecal               track_z0                      \n",
      "track_z_at_ecal               trigger                       v0_charge                     v0_em_chi2                    \n",
      "v0_em_clus                    v0_em_clus_energy             v0_em_clus_ix                 v0_em_clus_iy                 \n",
      "v0_em_clus_pos_x              v0_em_clus_pos_y              v0_em_clus_time               v0_em_good_pid                \n",
      "v0_em_p                       v0_em_part                    v0_em_pos_ecal_x              v0_em_pos_ecal_y              \n",
      "v0_em_track                   v0_em_track_nhit              v0_em_track_time              v0_energy                     \n",
      "v0_ep_chi2                    v0_ep_clus                    v0_ep_clus_energy             v0_ep_clus_ix                 \n",
      "v0_ep_clus_iy                 v0_ep_clus_pos_x              v0_ep_clus_pos_y              v0_ep_clus_time               \n",
      "v0_ep_good_pid                v0_ep_p                       v0_ep_part                    v0_ep_pos_ecal_x              \n",
      "v0_ep_pos_ecal_y              v0_ep_track                   v0_ep_track_nhit              v0_ep_track_time              \n",
      "v0_goodness_of_pid            v0_lcio_type                  v0_mass                       v0_mass_err                   \n",
      "v0_pdg                        v0_px                         v0_py                         v0_pz                         \n",
      "v0_type                       v0_vertex_chi2                v0_vertex_prob                v0_vertex_x                   \n",
      "v0_vertex_y                   v0_vertex_z                   "
     ]
    }
   ],
   "source": [
    "print(\"Available data names in Tuple:\")\n",
    "ColumnNames=dfx.GetColumnNames()\n",
    "ll = 0\n",
    "pr_colnames = [x for x in ColumnNames if str(x).startswith('')]\n",
    "for nn in pr_colnames:\n",
    "    if ll < len(nn):\n",
    "        ll = len(nn)\n",
    "for n in range(len(pr_colnames)):\n",
    "    if n%4 == 0:\n",
    "        print(\"\")\n",
    "    print(f\"{str(pr_colnames[n]):{ll}s}\",end=\"\")"
   ],
   "metadata": {
    "collapsed": false
   }
  },
  {
   "cell_type": "code",
   "execution_count": 6,
   "outputs": [],
   "source": [
    "max_i = 50\n",
    "hh = dfx.Histo1D(\"mc_part_primary_index\")\n",
    "hhn = dfx.Define(\"n\",\"mc_score_primary_hits_e.size()\").Histo1D((\"hhn\",\"Num primary part.\", max_i, -0.5,max_i - 0.5),\"n\")\n",
    "hhn2 = dfx.Define(\"n\",\"mc_score_secondary_hits_e.size()\").Histo1D((\"hhn2\",\"Num secondary part.\", max_i, -0.5,max_i - 0.5),\"n\")\n",
    "hhn_hits = dfx.Histo1D((\"hhn_hits\",\"Number of hits per primary\", max_i, -0.5,max_i - 0.5),\"n_mc_score_primary_hits\")\n",
    "hhn2_hits = dfx.Histo1D((\"hhn2_hits\",\"Number of hits per secondary\", max_i, -0.5,max_i - 0.5),\"n_mc_score_secondary_hits\")\n",
    "hhe = dfx.Histo1D((\"hhe\",\"Energy of Primary Hit on score plane.\",1000,-0.1,3.2),\"mc_score_primary_hits_e\")\n",
    "hhe2 = dfx.Histo1D((\"hhe2\",\"Energy of Secondary Hit on score plane.\",1000,-0.1,3.2),\"mc_score_secondary_hits_e\")\n",
    "hhn_clus = dfx.Define(\"n\",\"return mc_score_cluster_indexes.size()\").Histo1D((\"hhn_clus\",\"N score clusters\", max_i,  -0.5, max_i - 0.5),\"n\")\n",
    "hhn_clus_hits = dfx.Define(\"nn\",\"RVec<int> out;for(size_t i=0; i< mc_score_cluster_indexes.size(); ++i){ out.push_back(mc_score_cluster_indexes[i].size());} return out;\").Histo1D((\"hhn_clus\",\"N score clusters\", max_i,  -0.5, max_i - 0.5),\"nn\")"
   ],
   "metadata": {
    "collapsed": false
   }
  },
  {
   "cell_type": "code",
   "execution_count": 7,
   "outputs": [
    {
     "name": "stdout",
     "output_type": "stream",
     "text": [
      "CPU times: user 37.2 s, sys: 1.31 s, total: 38.5 s\n",
      "Wall time: 5.65 s\n"
     ]
    },
    {
     "data": {
      "text/plain": "<IPython.core.display.HTML object>",
      "text/html": "\n\n<div id=\"root_plot_1680209276787\"\n     style=\"width: 1196px; height: 572px\">\n</div>\n<script>\n\nfunction display_root_plot_1680209276787(Core) {\n   let obj = Core.parse({\"_typename\":\"TCanvas\",\"fUniqueID\":0,\"fBits\":3342344,\"fLineColor\":1,\"fLineStyle\":1,\"fLineWidth\":1,\"fFillColor\":0,\"fFillStyle\":1001,\"fLeftMargin\":0.1,\"fRightMargin\":0.1,\"fBottomMargin\":0.1,\"fTopMargin\":0.1,\"fXfile\":2,\"fYfile\":2,\"fAfile\":1,\"fXstat\":0.99,\"fYstat\":0.99,\"fAstat\":2,\"fFrameFillColor\":0,\"fFrameLineColor\":1,\"fFrameFillStyle\":1001,\"fFrameLineStyle\":1,\"fFrameLineWidth\":1,\"fFrameBorderSize\":1,\"fFrameBorderMode\":0,\"fX1\":0,\"fY1\":0,\"fX2\":1,\"fY2\":1,\"fXtoAbsPixelk\":5e-5,\"fXtoPixelk\":5e-5,\"fXtoPixel\":1196,\"fYtoAbsPixelk\":572.00005,\"fYtoPixelk\":572.00005,\"fYtoPixel\":-572,\"fUtoAbsPixelk\":5e-5,\"fUtoPixelk\":5e-5,\"fUtoPixel\":1196,\"fVtoAbsPixelk\":572.00005,\"fVtoPixelk\":572,\"fVtoPixel\":-572,\"fAbsPixeltoXk\":0,\"fPixeltoXk\":0,\"fPixeltoX\":8.36120401337793e-4,\"fAbsPixeltoYk\":1,\"fPixeltoYk\":0,\"fPixeltoY\":-0.00174825174825175,\"fXlowNDC\":0,\"fYlowNDC\":0,\"fXUpNDC\":1,\"fYUpNDC\":1,\"fWNDC\":1,\"fHNDC\":1,\"fAbsXlowNDC\":0,\"fAbsYlowNDC\":0,\"fAbsWNDC\":1,\"fAbsHNDC\":1,\"fUxmin\":0,\"fUymin\":0,\"fUxmax\":1,\"fUymax\":1,\"fTheta\":30,\"fPhi\":30,\"fAspectRatio\":0,\"fNumber\":0,\"fTickx\":0,\"fTicky\":0,\"fLogx\":0,\"fLogy\":0,\"fLogz\":0,\"fPadPaint\":0,\"fCrosshair\":0,\"fCrosshairPos\":0,\"fBorderSize\":2,\"fBorderMode\":0,\"fModified\":false,\"fGridx\":false,\"fGridy\":false,\"fAbsCoord\":false,\"fEditable\":true,\"fFixedAspectRatio\":false,\"fPrimitives\":{\"_typename\":\"TList\",\"name\":\"TList\",\"arr\":[{\"_typename\":\"TPad\",\"fUniqueID\":0,\"fBits\":9,\"fLineColor\":1,\"fLineStyle\":1,\"fLineWidth\":1,\"fFillColor\":0,\"fFillStyle\":1001,\"fLeftMargin\":0.1,\"fRightMargin\":0.1,\"fBottomMargin\":0.1,\"fTopMargin\":0.1,\"fXfile\":2,\"fYfile\":2,\"fAfile\":1,\"fXstat\":0.99,\"fYstat\":0.99,\"fAstat\":2,\"fFrameFillColor\":0,\"fFrameLineColor\":1,\"fFrameFillStyle\":1001,\"fFrameLineStyle\":1,\"fFrameLineWidth\":1,\"fFrameBorderSize\":1,\"fFrameBorderMode\":0,\"fX1\":-6.75000046566131,\"fY1\":-1.18158750646818,\"fX2\":55.7500004656613,\"fY2\":7.62398707672068,\"fXtoAbsPixelk\":73.9606931437637,\"fXtoPixelk\":62.0006934110905,\"fXtoPixel\":9.18527987168311,\"fYtoAbsPixelk\":491.060575615369,\"fYtoPixelk\":485.340575743221,\"fYtoPixel\":-63.659673194512,\"fUtoAbsPixelk\":11.9600497326732,\"fUtoPixelk\":5e-5,\"fUtoPixel\":574.080000534654,\"fVtoAbsPixelk\":566.280050127852,\"fVtoPixelk\":560.560000255704,\"fVtoPixel\":-560.560000255704,\"fAbsPixeltoXk\":-8.05208378808071,\"fPixeltoXk\":-6.75000046566131,\"fPixeltoX\":0.108869845445086,\"fAbsPixeltoYk\":7.7138398765406,\"fPixeltoYk\":-1.18158750646818,\"fPixeltoY\":-0.0157085317881621,\"fXlowNDC\":0.00999999977648258,\"fYlowNDC\":0.00999999977648258,\"fXUpNDC\":0.490000000223517,\"fYUpNDC\":0.990000000223517,\"fWNDC\":0.480000000447035,\"fHNDC\":0.980000000447035,\"fAbsXlowNDC\":0.00999999977648258,\"fAbsYlowNDC\":0.00999999977648258,\"fAbsWNDC\":0.480000000447035,\"fAbsHNDC\":0.980000000447035,\"fUxmin\":-0.5,\"fUymin\":-0.301029995663981,\"fUxmax\":49.5,\"fUymax\":6.74342956591648,\"fTheta\":30,\"fPhi\":30,\"fAspectRatio\":0,\"fNumber\":1,\"fTickx\":0,\"fTicky\":0,\"fLogx\":0,\"fLogy\":1,\"fLogz\":0,\"fPadPaint\":0,\"fCrosshair\":0,\"fCrosshairPos\":0,\"fBorderSize\":2,\"fBorderMode\":0,\"fModified\":false,\"fGridx\":false,\"fGridy\":false,\"fAbsCoord\":false,\"fEditable\":true,\"fFixedAspectRatio\":false,\"fPrimitives\":{\"_typename\":\"TList\",\"name\":\"TList\",\"arr\":[{\"_typename\":\"TFrame\",\"fUniqueID\":0,\"fBits\":8,\"fLineColor\":1,\"fLineStyle\":1,\"fLineWidth\":1,\"fFillColor\":0,\"fFillStyle\":1001,\"fX1\":-0.5,\"fY1\":-0.301029995663981,\"fX2\":49.5,\"fY2\":6.74342956591648,\"fBorderSize\":1,\"fBorderMode\":0},{\"_typename\":\"TH1D\",\"fUniqueID\":0,\"fBits\":520,\"fName\":\"hhn2_hits\",\"fTitle\":\"Numbers\",\"fLineColor\":416,\"fLineStyle\":1,\"fLineWidth\":1,\"fFillColor\":0,\"fFillStyle\":1001,\"fMarkerColor\":1,\"fMarkerStyle\":1,\"fMarkerSize\":1,\"fNcells\":52,\"fXaxis\":{\"_typename\":\"TAxis\",\"fUniqueID\":0,\"fBits\":0,\"fName\":\"xaxis\",\"fTitle\":\"\",\"fNdivisions\":510,\"fAxisColor\":1,\"fLabelColor\":1,\"fLabelFont\":42,\"fLabelOffset\":0.005,\"fLabelSize\":0.035,\"fTickLength\":0.03,\"fTitleOffset\":1,\"fTitleSize\":0.035,\"fTitleColor\":1,\"fTitleFont\":42,\"fNbins\":50,\"fXmin\":-0.5,\"fXmax\":49.5,\"fXbins\":[],\"fFirst\":0,\"fLast\":0,\"fBits2\":0,\"fTimeDisplay\":false,\"fTimeFormat\":\"\",\"fLabels\":null,\"fModLabs\":null},\"fYaxis\":{\"_typename\":\"TAxis\",\"fUniqueID\":0,\"fBits\":0,\"fName\":\"yaxis\",\"fTitle\":\"\",\"fNdivisions\":510,\"fAxisColor\":1,\"fLabelColor\":1,\"fLabelFont\":42,\"fLabelOffset\":0.005,\"fLabelSize\":0.035,\"fTickLength\":0.03,\"fTitleOffset\":0,\"fTitleSize\":0.035,\"fTitleColor\":1,\"fTitleFont\":42,\"fNbins\":1,\"fXmin\":0,\"fXmax\":1,\"fXbins\":[],\"fFirst\":0,\"fLast\":0,\"fBits2\":0,\"fTimeDisplay\":false,\"fTimeFormat\":\"\",\"fLabels\":null,\"fModLabs\":null},\"fZaxis\":{\"_typename\":\"TAxis\",\"fUniqueID\":0,\"fBits\":0,\"fName\":\"zaxis\",\"fTitle\":\"\",\"fNdivisions\":510,\"fAxisColor\":1,\"fLabelColor\":1,\"fLabelFont\":42,\"fLabelOffset\":0.005,\"fLabelSize\":0.035,\"fTickLength\":0.03,\"fTitleOffset\":1,\"fTitleSize\":0.035,\"fTitleColor\":1,\"fTitleFont\":42,\"fNbins\":1,\"fXmin\":0,\"fXmax\":1,\"fXbins\":[],\"fFirst\":0,\"fLast\":0,\"fBits2\":0,\"fTimeDisplay\":false,\"fTimeFormat\":\"\",\"fLabels\":null,\"fModLabs\":null},\"fBarOffset\":0,\"fBarWidth\":1000,\"fEntries\":3241831,\"fTsumw\":3241831,\"fTsumw2\":3241831,\"fTsumwx\":3711560,\"fTsumwx2\":5091530,\"fMaximum\":-1111,\"fMinimum\":-1111,\"fNormFactor\":0,\"fContour\":[],\"fSumw2\":[],\"fOption\":\"\",\"fFunctions\":{\"_typename\":\"TList\",\"name\":\"TList\",\"arr\":[],\"opt\":[]},\"fBufferSize\":0,\"fBuffer\":[],\"fBinStatErrOpt\":0,\"fStatOverflows\":2,\"fArray\":{\"$arr\":\"Float64\",\"len\":52,\"p\":2,\"v\":[2923349,214403,71776,22122,7020,2162,642,243,78,24,9,2,0,1]}},{\"_typename\":\"TH1D\",\"fUniqueID\":0,\"fBits\":520,\"fName\":\"hhn\",\"fTitle\":\"Num primary part.\",\"fLineColor\":632,\"fLineStyle\":1,\"fLineWidth\":3,\"fFillColor\":0,\"fFillStyle\":1001,\"fMarkerColor\":1,\"fMarkerStyle\":1,\"fMarkerSize\":1,\"fNcells\":52,\"fXaxis\":{\"_typename\":\"TAxis\",\"fUniqueID\":0,\"fBits\":0,\"fName\":\"xaxis\",\"fTitle\":\"\",\"fNdivisions\":510,\"fAxisColor\":1,\"fLabelColor\":1,\"fLabelFont\":42,\"fLabelOffset\":0.005,\"fLabelSize\":0.035,\"fTickLength\":0.03,\"fTitleOffset\":1,\"fTitleSize\":0.035,\"fTitleColor\":1,\"fTitleFont\":42,\"fNbins\":50,\"fXmin\":-0.5,\"fXmax\":49.5,\"fXbins\":[],\"fFirst\":0,\"fLast\":0,\"fBits2\":0,\"fTimeDisplay\":false,\"fTimeFormat\":\"\",\"fLabels\":null,\"fModLabs\":null},\"fYaxis\":{\"_typename\":\"TAxis\",\"fUniqueID\":0,\"fBits\":0,\"fName\":\"yaxis\",\"fTitle\":\"\",\"fNdivisions\":510,\"fAxisColor\":1,\"fLabelColor\":1,\"fLabelFont\":42,\"fLabelOffset\":0.005,\"fLabelSize\":0.035,\"fTickLength\":0.03,\"fTitleOffset\":0,\"fTitleSize\":0.035,\"fTitleColor\":1,\"fTitleFont\":42,\"fNbins\":1,\"fXmin\":0,\"fXmax\":1,\"fXbins\":[],\"fFirst\":0,\"fLast\":0,\"fBits2\":0,\"fTimeDisplay\":false,\"fTimeFormat\":\"\",\"fLabels\":null,\"fModLabs\":null},\"fZaxis\":{\"_typename\":\"TAxis\",\"fUniqueID\":0,\"fBits\":0,\"fName\":\"zaxis\",\"fTitle\":\"\",\"fNdivisions\":510,\"fAxisColor\":1,\"fLabelColor\":1,\"fLabelFont\":42,\"fLabelOffset\":0.005,\"fLabelSize\":0.035,\"fTickLength\":0.03,\"fTitleOffset\":1,\"fTitleSize\":0.035,\"fTitleColor\":1,\"fTitleFont\":42,\"fNbins\":1,\"fXmin\":0,\"fXmax\":1,\"fXbins\":[],\"fFirst\":0,\"fLast\":0,\"fBits2\":0,\"fTimeDisplay\":false,\"fTimeFormat\":\"\",\"fLabels\":null,\"fModLabs\":null},\"fBarOffset\":0,\"fBarWidth\":1000,\"fEntries\":1846509,\"fTsumw\":1846509,\"fTsumw2\":1846509,\"fTsumwx\":1582504,\"fTsumwx2\":1582504,\"fMaximum\":-1111,\"fMinimum\":-1111,\"fNormFactor\":0,\"fContour\":[],\"fSumw2\":[],\"fOption\":\"\",\"fFunctions\":{\"_typename\":\"TList\",\"name\":\"TList\",\"arr\":[],\"opt\":[]},\"fBufferSize\":0,\"fBuffer\":[],\"fBinStatErrOpt\":0,\"fStatOverflows\":2,\"fArray\":{\"$arr\":\"Float64\",\"len\":52,\"p\":1,\"v\":[264005,1582504]}},{\"_typename\":\"TH1D\",\"fUniqueID\":0,\"fBits\":8,\"fName\":\"hhn_clus\",\"fTitle\":\"N score clusters\",\"fLineColor\":433,\"fLineStyle\":1,\"fLineWidth\":3,\"fFillColor\":0,\"fFillStyle\":1001,\"fMarkerColor\":1,\"fMarkerStyle\":1,\"fMarkerSize\":1,\"fNcells\":52,\"fXaxis\":{\"_typename\":\"TAxis\",\"fUniqueID\":0,\"fBits\":0,\"fName\":\"xaxis\",\"fTitle\":\"\",\"fNdivisions\":510,\"fAxisColor\":1,\"fLabelColor\":1,\"fLabelFont\":42,\"fLabelOffset\":0.005,\"fLabelSize\":0.035,\"fTickLength\":0.03,\"fTitleOffset\":1,\"fTitleSize\":0.035,\"fTitleColor\":1,\"fTitleFont\":42,\"fNbins\":50,\"fXmin\":-0.5,\"fXmax\":49.5,\"fXbins\":[],\"fFirst\":0,\"fLast\":0,\"fBits2\":0,\"fTimeDisplay\":false,\"fTimeFormat\":\"\",\"fLabels\":null,\"fModLabs\":null},\"fYaxis\":{\"_typename\":\"TAxis\",\"fUniqueID\":0,\"fBits\":0,\"fName\":\"yaxis\",\"fTitle\":\"\",\"fNdivisions\":510,\"fAxisColor\":1,\"fLabelColor\":1,\"fLabelFont\":42,\"fLabelOffset\":0.005,\"fLabelSize\":0.035,\"fTickLength\":0.03,\"fTitleOffset\":0,\"fTitleSize\":0.035,\"fTitleColor\":1,\"fTitleFont\":42,\"fNbins\":1,\"fXmin\":0,\"fXmax\":1,\"fXbins\":[],\"fFirst\":0,\"fLast\":0,\"fBits2\":0,\"fTimeDisplay\":false,\"fTimeFormat\":\"\",\"fLabels\":null,\"fModLabs\":null},\"fZaxis\":{\"_typename\":\"TAxis\",\"fUniqueID\":0,\"fBits\":0,\"fName\":\"zaxis\",\"fTitle\":\"\",\"fNdivisions\":510,\"fAxisColor\":1,\"fLabelColor\":1,\"fLabelFont\":42,\"fLabelOffset\":0.005,\"fLabelSize\":0.035,\"fTickLength\":0.03,\"fTitleOffset\":1,\"fTitleSize\":0.035,\"fTitleColor\":1,\"fTitleFont\":42,\"fNbins\":1,\"fXmin\":0,\"fXmax\":1,\"fXbins\":[],\"fFirst\":0,\"fLast\":0,\"fBits2\":0,\"fTimeDisplay\":false,\"fTimeFormat\":\"\",\"fLabels\":null,\"fModLabs\":null},\"fBarOffset\":0,\"fBarWidth\":1000,\"fEntries\":1846509,\"fTsumw\":1846509,\"fTsumw2\":1846509,\"fTsumwx\":2715681,\"fTsumwx2\":6166831,\"fMaximum\":-1111,\"fMinimum\":-1111,\"fNormFactor\":0,\"fContour\":[],\"fSumw2\":[],\"fOption\":\"\",\"fFunctions\":{\"_typename\":\"TList\",\"name\":\"TList\",\"arr\":[],\"opt\":[]},\"fBufferSize\":0,\"fBuffer\":[],\"fBinStatErrOpt\":0,\"fStatOverflows\":2,\"fArray\":{\"$arr\":\"Float64\",\"len\":52,\"p\":1,\"v\":[16507,1363657,278403,70109,53174,34169,18116,8050,3030,971,256,45,19,2,0,0,1]}},{\"_typename\":\"TH1D\",\"fUniqueID\":0,\"fBits\":8,\"fName\":\"hhn_clus\",\"fTitle\":\"N score clusters\",\"fLineColor\":435,\"fLineStyle\":1,\"fLineWidth\":1,\"fFillColor\":0,\"fFillStyle\":1001,\"fMarkerColor\":1,\"fMarkerStyle\":1,\"fMarkerSize\":1,\"fNcells\":52,\"fXaxis\":{\"_typename\":\"TAxis\",\"fUniqueID\":0,\"fBits\":0,\"fName\":\"xaxis\",\"fTitle\":\"\",\"fNdivisions\":510,\"fAxisColor\":1,\"fLabelColor\":1,\"fLabelFont\":42,\"fLabelOffset\":0.005,\"fLabelSize\":0.035,\"fTickLength\":0.03,\"fTitleOffset\":1,\"fTitleSize\":0.035,\"fTitleColor\":1,\"fTitleFont\":42,\"fNbins\":50,\"fXmin\":-0.5,\"fXmax\":49.5,\"fXbins\":[],\"fFirst\":0,\"fLast\":0,\"fBits2\":0,\"fTimeDisplay\":false,\"fTimeFormat\":\"\",\"fLabels\":null,\"fModLabs\":null},\"fYaxis\":{\"_typename\":\"TAxis\",\"fUniqueID\":0,\"fBits\":0,\"fName\":\"yaxis\",\"fTitle\":\"\",\"fNdivisions\":510,\"fAxisColor\":1,\"fLabelColor\":1,\"fLabelFont\":42,\"fLabelOffset\":0.005,\"fLabelSize\":0.035,\"fTickLength\":0.03,\"fTitleOffset\":0,\"fTitleSize\":0.035,\"fTitleColor\":1,\"fTitleFont\":42,\"fNbins\":1,\"fXmin\":0,\"fXmax\":1,\"fXbins\":[],\"fFirst\":0,\"fLast\":0,\"fBits2\":0,\"fTimeDisplay\":false,\"fTimeFormat\":\"\",\"fLabels\":null,\"fModLabs\":null},\"fZaxis\":{\"_typename\":\"TAxis\",\"fUniqueID\":0,\"fBits\":0,\"fName\":\"zaxis\",\"fTitle\":\"\",\"fNdivisions\":510,\"fAxisColor\":1,\"fLabelColor\":1,\"fLabelFont\":42,\"fLabelOffset\":0.005,\"fLabelSize\":0.035,\"fTickLength\":0.03,\"fTitleOffset\":1,\"fTitleSize\":0.035,\"fTitleColor\":1,\"fTitleFont\":42,\"fNbins\":1,\"fXmin\":0,\"fXmax\":1,\"fXbins\":[],\"fFirst\":0,\"fLast\":0,\"fBits2\":0,\"fTimeDisplay\":false,\"fTimeFormat\":\"\",\"fLabels\":null,\"fModLabs\":null},\"fBarOffset\":0,\"fBarWidth\":1000,\"fEntries\":2715681,\"fTsumw\":2715681,\"fTsumw2\":2715681,\"fTsumwx\":7881016,\"fTsumwx2\":41143836,\"fMaximum\":-1111,\"fMinimum\":-1111,\"fNormFactor\":0,\"fContour\":[],\"fSumw2\":[],\"fOption\":\"\",\"fFunctions\":{\"_typename\":\"TList\",\"name\":\"TList\",\"arr\":[],\"opt\":[]},\"fBufferSize\":0,\"fBuffer\":[],\"fBinStatErrOpt\":0,\"fStatOverflows\":2,\"fArray\":{\"$arr\":\"Float64\",\"len\":52,\"p\":2,\"v\":[941279,559187,457407,311401,183087,99398,54130,29706,17917,11712,8099,6346,5280,4594,4047,3610,3189,2901,2471,2220,1788,1451,1207,896,728,540,365,232,190,125,71,52,21,16,8,3,2,3,2]}},{\"_typename\":\"TH1D\",\"fUniqueID\":0,\"fBits\":520,\"fName\":\"hhn2\",\"fTitle\":\"Num secondary part.\",\"fLineColor\":800,\"fLineStyle\":1,\"fLineWidth\":1,\"fFillColor\":0,\"fFillStyle\":1001,\"fMarkerColor\":1,\"fMarkerStyle\":1,\"fMarkerSize\":1,\"fNcells\":52,\"fXaxis\":{\"_typename\":\"TAxis\",\"fUniqueID\":0,\"fBits\":0,\"fName\":\"xaxis\",\"fTitle\":\"\",\"fNdivisions\":510,\"fAxisColor\":1,\"fLabelColor\":1,\"fLabelFont\":42,\"fLabelOffset\":0.005,\"fLabelSize\":0.035,\"fTickLength\":0.03,\"fTitleOffset\":1,\"fTitleSize\":0.035,\"fTitleColor\":1,\"fTitleFont\":42,\"fNbins\":50,\"fXmin\":-0.5,\"fXmax\":49.5,\"fXbins\":[],\"fFirst\":0,\"fLast\":0,\"fBits2\":0,\"fTimeDisplay\":false,\"fTimeFormat\":\"\",\"fLabels\":null,\"fModLabs\":null},\"fYaxis\":{\"_typename\":\"TAxis\",\"fUniqueID\":0,\"fBits\":0,\"fName\":\"yaxis\",\"fTitle\":\"\",\"fNdivisions\":510,\"fAxisColor\":1,\"fLabelColor\":1,\"fLabelFont\":42,\"fLabelOffset\":0.005,\"fLabelSize\":0.035,\"fTickLength\":0.03,\"fTitleOffset\":0,\"fTitleSize\":0.035,\"fTitleColor\":1,\"fTitleFont\":42,\"fNbins\":1,\"fXmin\":0,\"fXmax\":1,\"fXbins\":[],\"fFirst\":0,\"fLast\":0,\"fBits2\":0,\"fTimeDisplay\":false,\"fTimeFormat\":\"\",\"fLabels\":null,\"fModLabs\":null},\"fZaxis\":{\"_typename\":\"TAxis\",\"fUniqueID\":0,\"fBits\":0,\"fName\":\"zaxis\",\"fTitle\":\"\",\"fNdivisions\":510,\"fAxisColor\":1,\"fLabelColor\":1,\"fLabelFont\":42,\"fLabelOffset\":0.005,\"fLabelSize\":0.035,\"fTickLength\":0.03,\"fTitleOffset\":1,\"fTitleSize\":0.035,\"fTitleColor\":1,\"fTitleFont\":42,\"fNbins\":1,\"fXmin\":0,\"fXmax\":1,\"fXbins\":[],\"fFirst\":0,\"fLast\":0,\"fBits2\":0,\"fTimeDisplay\":false,\"fTimeFormat\":\"\",\"fLabels\":null,\"fModLabs\":null},\"fBarOffset\":0,\"fBarWidth\":1000,\"fEntries\":1846509,\"fTsumw\":1846509,\"fTsumw2\":1846509,\"fTsumwx\":3241831,\"fTsumwx2\":31918713,\"fMaximum\":-1111,\"fMinimum\":-1111,\"fNormFactor\":0,\"fContour\":[],\"fSumw2\":[],\"fOption\":\"\",\"fFunctions\":{\"_typename\":\"TList\",\"name\":\"TList\",\"arr\":[],\"opt\":[]},\"fBufferSize\":0,\"fBuffer\":[],\"fBinStatErrOpt\":0,\"fStatOverflows\":2,\"fArray\":{\"$arr\":\"Float64\",\"len\":52,\"p\":1,\"v\":[896980,495075,168388,60662,34271,27915,24356,20691,17148,13975,11458,9427,7925,6769,6102,5517,5094,4812,4432,3854,3693,3213,2886,2540,2158,1824,1470,1091,854,628,456,323,213,132,67,56,25,15,8,5,0,1]}},{\"_typename\":\"TH1D\",\"fUniqueID\":0,\"fBits\":8,\"fName\":\"hhn_hits\",\"fTitle\":\"Number of hits per primary\",\"fLineColor\":600,\"fLineStyle\":1,\"fLineWidth\":1,\"fFillColor\":0,\"fFillStyle\":1001,\"fMarkerColor\":1,\"fMarkerStyle\":1,\"fMarkerSize\":1,\"fNcells\":52,\"fXaxis\":{\"_typename\":\"TAxis\",\"fUniqueID\":0,\"fBits\":0,\"fName\":\"xaxis\",\"fTitle\":\"\",\"fNdivisions\":510,\"fAxisColor\":1,\"fLabelColor\":1,\"fLabelFont\":42,\"fLabelOffset\":0.005,\"fLabelSize\":0.035,\"fTickLength\":0.03,\"fTitleOffset\":1,\"fTitleSize\":0.035,\"fTitleColor\":1,\"fTitleFont\":42,\"fNbins\":50,\"fXmin\":-0.5,\"fXmax\":49.5,\"fXbins\":[],\"fFirst\":0,\"fLast\":0,\"fBits2\":0,\"fTimeDisplay\":false,\"fTimeFormat\":\"\",\"fLabels\":null,\"fModLabs\":null},\"fYaxis\":{\"_typename\":\"TAxis\",\"fUniqueID\":0,\"fBits\":0,\"fName\":\"yaxis\",\"fTitle\":\"\",\"fNdivisions\":510,\"fAxisColor\":1,\"fLabelColor\":1,\"fLabelFont\":42,\"fLabelOffset\":0.005,\"fLabelSize\":0.035,\"fTickLength\":0.03,\"fTitleOffset\":0,\"fTitleSize\":0.035,\"fTitleColor\":1,\"fTitleFont\":42,\"fNbins\":1,\"fXmin\":0,\"fXmax\":1,\"fXbins\":[],\"fFirst\":0,\"fLast\":0,\"fBits2\":0,\"fTimeDisplay\":false,\"fTimeFormat\":\"\",\"fLabels\":null,\"fModLabs\":null},\"fZaxis\":{\"_typename\":\"TAxis\",\"fUniqueID\":0,\"fBits\":0,\"fName\":\"zaxis\",\"fTitle\":\"\",\"fNdivisions\":510,\"fAxisColor\":1,\"fLabelColor\":1,\"fLabelFont\":42,\"fLabelOffset\":0.005,\"fLabelSize\":0.035,\"fTickLength\":0.03,\"fTitleOffset\":1,\"fTitleSize\":0.035,\"fTitleColor\":1,\"fTitleFont\":42,\"fNbins\":1,\"fXmin\":0,\"fXmax\":1,\"fXbins\":[],\"fFirst\":0,\"fLast\":0,\"fBits2\":0,\"fTimeDisplay\":false,\"fTimeFormat\":\"\",\"fLabels\":null,\"fModLabs\":null},\"fBarOffset\":0,\"fBarWidth\":1000,\"fEntries\":1846509,\"fTsumw\":1846509,\"fTsumw2\":1846509,\"fTsumwx\":4169456,\"fTsumwx2\":14435806,\"fMaximum\":-1111,\"fMinimum\":-1111,\"fNormFactor\":0,\"fContour\":[],\"fSumw2\":[],\"fOption\":\"\",\"fFunctions\":{\"_typename\":\"TList\",\"name\":\"TList\",\"arr\":[],\"opt\":[]},\"fBufferSize\":0,\"fBuffer\":[],\"fBinStatErrOpt\":0,\"fStatOverflows\":2,\"fArray\":{\"$arr\":\"Float64\",\"len\":52,\"p\":1,\"v\":[264005,397761,445475,361615,208992,98943,41709,16915,6508,2705,1116,428,200,80,30,20,2,2,2,1]}},{\"$ref\":5},{\"_typename\":\"TLegend\",\"fUniqueID\":0,\"fBits\":8,\"fLineColor\":1,\"fLineStyle\":1,\"fLineWidth\":1,\"fFillColor\":0,\"fFillStyle\":1001,\"fX1\":37.0000001862645,\"fY1\":5.42259343092346,\"fX2\":55.1250004563481,\"fY2\":6.74342961840179,\"fX1NDC\":0.7,\"fY1NDC\":0.75,\"fX2NDC\":0.99,\"fY2NDC\":0.9,\"fBorderSize\":1,\"fInit\":1,\"fShadowColor\":1,\"fCornerRadius\":0,\"fOption\":\"brNDC\",\"fName\":\"TPave\",\"fTextAngle\":0,\"fTextSize\":0,\"fTextAlign\":12,\"fTextColor\":1,\"fTextFont\":42,\"fPrimitives\":{\"_typename\":\"TList\",\"name\":\"TList\",\"arr\":[{\"_typename\":\"TLegendEntry\",\"fUniqueID\":0,\"fBits\":0,\"fTextAngle\":0,\"fTextSize\":0,\"fTextAlign\":0,\"fTextColor\":0,\"fTextFont\":42,\"fLineColor\":632,\"fLineStyle\":1,\"fLineWidth\":3,\"fFillColor\":0,\"fFillStyle\":1001,\"fMarkerColor\":1,\"fMarkerStyle\":1,\"fMarkerSize\":1,\"fObject\":{\"$ref\":10},\"fLabel\":\"N Primary particles\",\"fOption\":\"lpf\"},{\"_typename\":\"TLegendEntry\",\"fUniqueID\":0,\"fBits\":0,\"fTextAngle\":0,\"fTextSize\":0,\"fTextAlign\":0,\"fTextColor\":0,\"fTextFont\":42,\"fLineColor\":433,\"fLineStyle\":1,\"fLineWidth\":3,\"fFillColor\":0,\"fFillStyle\":1001,\"fMarkerColor\":1,\"fMarkerStyle\":1,\"fMarkerSize\":1,\"fObject\":{\"$ref\":15},\"fLabel\":\"N score clusters.\",\"fOption\":\"lpf\"},{\"_typename\":\"TLegendEntry\",\"fUniqueID\":0,\"fBits\":0,\"fTextAngle\":0,\"fTextSize\":0,\"fTextAlign\":0,\"fTextColor\":0,\"fTextFont\":42,\"fLineColor\":435,\"fLineStyle\":1,\"fLineWidth\":1,\"fFillColor\":0,\"fFillStyle\":1001,\"fMarkerColor\":1,\"fMarkerStyle\":1,\"fMarkerSize\":1,\"fObject\":{\"$ref\":20},\"fLabel\":\"N score cluster hits.\",\"fOption\":\"lpf\"},{\"_typename\":\"TLegendEntry\",\"fUniqueID\":0,\"fBits\":0,\"fTextAngle\":0,\"fTextSize\":0,\"fTextAlign\":0,\"fTextColor\":0,\"fTextFont\":42,\"fLineColor\":800,\"fLineStyle\":1,\"fLineWidth\":1,\"fFillColor\":0,\"fFillStyle\":1001,\"fMarkerColor\":1,\"fMarkerStyle\":1,\"fMarkerSize\":1,\"fObject\":{\"$ref\":25},\"fLabel\":\"N Secondary particles\",\"fOption\":\"lpf\"},{\"_typename\":\"TLegendEntry\",\"fUniqueID\":0,\"fBits\":0,\"fTextAngle\":0,\"fTextSize\":0,\"fTextAlign\":0,\"fTextColor\":0,\"fTextFont\":42,\"fLineColor\":600,\"fLineStyle\":1,\"fLineWidth\":1,\"fFillColor\":0,\"fFillStyle\":1001,\"fMarkerColor\":1,\"fMarkerStyle\":1,\"fMarkerSize\":1,\"fObject\":{\"$ref\":30},\"fLabel\":\"N hits from primary part.\",\"fOption\":\"lpf\"},{\"_typename\":\"TLegendEntry\",\"fUniqueID\":0,\"fBits\":0,\"fTextAngle\":0,\"fTextSize\":0,\"fTextAlign\":0,\"fTextColor\":0,\"fTextFont\":42,\"fLineColor\":416,\"fLineStyle\":1,\"fLineWidth\":1,\"fFillColor\":0,\"fFillStyle\":1001,\"fMarkerColor\":1,\"fMarkerStyle\":1,\"fMarkerSize\":1,\"fObject\":{\"$ref\":5},\"fLabel\":\"N hits from secondary part.\",\"fOption\":\"lpf\"}],\"opt\":[\"lpf\",\"lpf\",\"lpf\",\"lpf\",\"lpf\",\"lpf\"]},\"fEntrySeparation\":0.1,\"fMargin\":0.25,\"fNColumns\":1,\"fColumnSeparation\":0},{\"_typename\":\"TPaveText\",\"fUniqueID\":0,\"fBits\":9,\"fLineColor\":1,\"fLineStyle\":1,\"fLineWidth\":1,\"fFillColor\":0,\"fFillStyle\":0,\"fX1\":17.0706346503689,\"fY1\":7.09565263650087,\"fX2\":31.9293653496311,\"fY2\":7.57995924579299,\"fX1NDC\":0.381130156177201,\"fY1NDC\":0.940000003948808,\"fX2NDC\":0.618869843822799,\"fY2NDC\":0.995000004768372,\"fBorderSize\":0,\"fInit\":1,\"fShadowColor\":1,\"fCornerRadius\":0,\"fOption\":\"blNDC\",\"fName\":\"title\",\"fTextAngle\":0,\"fTextSize\":0,\"fTextAlign\":22,\"fTextColor\":1,\"fTextFont\":42,\"fLabel\":\"\",\"fLongest\":7,\"fMargin\":0.05,\"fLines\":{\"_typename\":\"TList\",\"name\":\"TList\",\"arr\":[{\"_typename\":\"TLatex\",\"fUniqueID\":0,\"fBits\":0,\"fName\":\"\",\"fTitle\":\"Numbers\",\"fTextAngle\":0,\"fTextSize\":0,\"fTextAlign\":0,\"fTextColor\":0,\"fTextFont\":0,\"fX\":0,\"fY\":0,\"fLineColor\":1,\"fLineStyle\":1,\"fLineWidth\":2,\"fLimitFactorSize\":3,\"fOriginSize\":0.0467500016093254}],\"opt\":[\"\"]}}],\"opt\":[\"\",\"\",\"same\",\"same\",\"same\",\"same\",\"same\",\"same\",\"\",\"blNDC\"]},\"fExecs\":{\"_typename\":\"TList\",\"name\":\"TList\",\"arr\":[],\"opt\":[]},\"fName\":\"cc0_1\",\"fTitle\":\"cc0_1\",\"fNumPaletteColor\":0,\"fNextPaletteColor\":0},{\"_typename\":\"TPad\",\"fUniqueID\":0,\"fBits\":9,\"fLineColor\":1,\"fLineStyle\":1,\"fLineWidth\":1,\"fFillColor\":0,\"fFillStyle\":1001,\"fLeftMargin\":0.1,\"fRightMargin\":0.1,\"fBottomMargin\":0.1,\"fTopMargin\":0.1,\"fXfile\":2,\"fYfile\":2,\"fAfile\":1,\"fXstat\":0.99,\"fYstat\":0.99,\"fAstat\":2,\"fFrameFillColor\":0,\"fFrameLineColor\":1,\"fFrameFillStyle\":1001,\"fFrameLineStyle\":1,\"fFrameLineWidth\":1,\"fFrameBorderSize\":1,\"fFrameBorderMode\":0,\"fX1\":-0.512500030733647,\"fY1\":-1.07362375544941,\"fX2\":3.61250003073365,\"fY2\":6.65231338190314,\"fXtoAbsPixelk\":681.285143922594,\"fXtoPixelk\":71.3251441899204,\"fXtoPixel\":139.170907146714,\"fYtoAbsPixelk\":488.382634975509,\"fYtoPixelk\":482.662635103361,\"fYtoPixel\":-72.5555994425022,\"fUtoAbsPixelk\":609.960049732673,\"fUtoPixelk\":5e-5,\"fUtoPixel\":574.080000534654,\"fVtoAbsPixelk\":566.280050127852,\"fVtoPixelk\":560.560000255704,\"fVtoPixel\":-560.560000255704,\"fAbsPixeltoXk\":-4.89531259003998,\"fPixeltoXk\":-0.512500030733647,\"fPixeltoX\":0.00718540979937568,\"fAbsPixeltoYk\":6.73114947334334,\"fPixeltoYk\":-1.07362375544941,\"fPixeltoY\":-0.013782533776631,\"fXlowNDC\":0.509999999776483,\"fYlowNDC\":0.00999999977648258,\"fXUpNDC\":0.990000000223517,\"fYUpNDC\":0.990000000223517,\"fWNDC\":0.480000000447035,\"fHNDC\":0.980000000447035,\"fAbsXlowNDC\":0.509999999776483,\"fAbsYlowNDC\":0.00999999977648258,\"fAbsWNDC\":0.480000000447035,\"fAbsHNDC\":0.980000000447035,\"fUxmin\":-0.1,\"fUymin\":-0.301029995663981,\"fUxmax\":3.2,\"fUymax\":5.87971962211771,\"fTheta\":30,\"fPhi\":30,\"fAspectRatio\":0,\"fNumber\":2,\"fTickx\":0,\"fTicky\":0,\"fLogx\":0,\"fLogy\":1,\"fLogz\":0,\"fPadPaint\":0,\"fCrosshair\":0,\"fCrosshairPos\":0,\"fBorderSize\":2,\"fBorderMode\":0,\"fModified\":false,\"fGridx\":false,\"fGridy\":false,\"fAbsCoord\":false,\"fEditable\":true,\"fFixedAspectRatio\":false,\"fPrimitives\":{\"_typename\":\"TList\",\"name\":\"TList\",\"arr\":[{\"_typename\":\"TFrame\",\"fUniqueID\":0,\"fBits\":8,\"fLineColor\":1,\"fLineStyle\":1,\"fLineWidth\":1,\"fFillColor\":0,\"fFillStyle\":1001,\"fX1\":-0.1,\"fY1\":-0.301029995663981,\"fX2\":3.2,\"fY2\":5.87971962211771,\"fBorderSize\":1,\"fBorderMode\":0},{\"_typename\":\"TH1D\",\"fUniqueID\":0,\"fBits\":520,\"fName\":\"hhe2\",\"fTitle\":\"Energies\",\"fLineColor\":800,\"fLineStyle\":1,\"fLineWidth\":1,\"fFillColor\":0,\"fFillStyle\":1001,\"fMarkerColor\":1,\"fMarkerStyle\":1,\"fMarkerSize\":1,\"fNcells\":1002,\"fXaxis\":{\"_typename\":\"TAxis\",\"fUniqueID\":0,\"fBits\":0,\"fName\":\"xaxis\",\"fTitle\":\"\",\"fNdivisions\":510,\"fAxisColor\":1,\"fLabelColor\":1,\"fLabelFont\":42,\"fLabelOffset\":0.005,\"fLabelSize\":0.035,\"fTickLength\":0.03,\"fTitleOffset\":1,\"fTitleSize\":0.035,\"fTitleColor\":1,\"fTitleFont\":42,\"fNbins\":1000,\"fXmin\":-0.1,\"fXmax\":3.2,\"fXbins\":[],\"fFirst\":0,\"fLast\":0,\"fBits2\":0,\"fTimeDisplay\":false,\"fTimeFormat\":\"\",\"fLabels\":null,\"fModLabs\":null},\"fYaxis\":{\"_typename\":\"TAxis\",\"fUniqueID\":0,\"fBits\":0,\"fName\":\"yaxis\",\"fTitle\":\"\",\"fNdivisions\":510,\"fAxisColor\":1,\"fLabelColor\":1,\"fLabelFont\":42,\"fLabelOffset\":0.005,\"fLabelSize\":0.035,\"fTickLength\":0.03,\"fTitleOffset\":0,\"fTitleSize\":0.035,\"fTitleColor\":1,\"fTitleFont\":42,\"fNbins\":1,\"fXmin\":0,\"fXmax\":1,\"fXbins\":[],\"fFirst\":0,\"fLast\":0,\"fBits2\":0,\"fTimeDisplay\":false,\"fTimeFormat\":\"\",\"fLabels\":null,\"fModLabs\":null},\"fZaxis\":{\"_typename\":\"TAxis\",\"fUniqueID\":0,\"fBits\":0,\"fName\":\"zaxis\",\"fTitle\":\"\",\"fNdivisions\":510,\"fAxisColor\":1,\"fLabelColor\":1,\"fLabelFont\":42,\"fLabelOffset\":0.005,\"fLabelSize\":0.035,\"fTickLength\":0.03,\"fTitleOffset\":1,\"fTitleSize\":0.035,\"fTitleColor\":1,\"fTitleFont\":42,\"fNbins\":1,\"fXmin\":0,\"fXmax\":1,\"fXbins\":[],\"fFirst\":0,\"fLast\":0,\"fBits2\":0,\"fTimeDisplay\":false,\"fTimeFormat\":\"\",\"fLabels\":null,\"fModLabs\":null},\"fBarOffset\":0,\"fBarWidth\":1000,\"fEntries\":3241831,\"fTsumw\":3241827,\"fTsumw2\":3241827,\"fTsumwx\":580585.994243789,\"fTsumwx2\":642371.869273363,\"fMaximum\":-1111,\"fMinimum\":-1111,\"fNormFactor\":0,\"fContour\":[],\"fSumw2\":[],\"fOption\":\"\",\"fFunctions\":{\"_typename\":\"TList\",\"name\":\"TList\",\"arr\":[],\"opt\":[]},\"fBufferSize\":0,\"fBuffer\":[],\"fBinStatErrOpt\":0,\"fStatOverflows\":2,\"fArray\":{\"$arr\":\"Float64\",\"len\":1002,\"p\":34,\"v\":[292203,400102,283659,212881,168153,136364,112955,95769,81582,70181,62209,54658,48777,43753,39706,35976,33088,30216,27643,25772,23533,22068,20690,19505,18427,17073,16257,15594,14874,14005,13307,12854,12288,11620,11020,10688,10251,9840,9523,9078,8712,8389,8145,8120,7818,7539,7183,6991,6754,6672,6536,6364,6222,6042,5872,5610,5531,5275,5199,5198,5056,4870,4806,4815,4654,4618,4480,4352,4261,4254,4057,4013,3974,3926,3837,3842,3664,3579,3624,3551,3437,3332,3306,3334,3230,3175,3203,3042,3064,3162,2994,2863,2895,2788,2821,2857,2766,2695,2711,2647,2653,2455,2455,2534,2461,2468,2537,2411,2353,2340,2282,2215,2236,2292,2145,2236,2182,2087,2116,2094,2080,2042,1980,1932,1985,2015,1952,1886,1845,1875,1940,1910,1749,1733,1825,1809,1767,1790,1755,1763,1723,1629,1713,1618,1650,1617,1600,1611,1549,1571,1558,1616,1626,1459,1526,1587,1490,1461,1470,1443,1480,1386,1429,1366,1440,1374,1374,1400,1359,1390,1327,1299,1381,1268,1258,1319,1304,1342,1306,1274,1279,1290,1259,1200,1245,1251,1268,1176,1191,1229,1155,1197,1159,1149,1083,1169,1086,1106,1075,1115,1147,1105,1095,1122,1088,1039,1029,1011,1043,1057,1051,1103,1053,1041,1003,1045,963,1018,978,952,970,936,931,952,977,948,919,942,960,941,943,896,865,944,922,902,912,858,941,868,884,887,881,866,857,831,842,867,835,835,814,775,763,803,801,813,779,825,773,752,813,793,790,761,758,731,762,747,773,748,807,760,797,734,763,727,768,708,715,707,687,716,754,681,688,704,694,683,726,684,654,658,721,648,640,647,659,633,660,656,703,646,625,658,651,665,666,651,652,626,625,672,616,612,552,593,609,621,657,575,624,588,631,580,617,606,585,569,593,567,572,562,548,567,578,579,558,546,575,522,539,575,532,552,530,517,551,544,539,557,510,520,491,510,569,527,503,498,521,465,474,527,475,515,523,485,506,514,477,479,465,486,497,466,492,473,455,473,481,432,441,441,471,449,446,496,467,490,491,477,409,408,456,458,427,418,409,459,427,407,421,442,447,444,451,429,409,416,389,420,417,409,410,400,411,434,408,414,433,417,415,381,394,430,390,402,383,343,382,391,373,403,353,357,390,355,385,372,364,363,370,321,395,339,359,339,366,354,350,360,304,367,346,381,352,339,334,347,341,328,306,353,359,354,346,362,338,302,354,322,323,332,316,322,328,304,317,307,339,316,340,316,321,334,341,317,312,291,261,308,281,305,320,345,320,297,272,285,284,318,310,292,297,299,282,306,285,285,295,331,281,289,278,312,280,308,296,298,304,285,290,282,273,270,301,294,295,285,308,288,297,290,284,274,282,256,266,273,270,266,272,284,278,266,256,253,254,249,271,261,239,271,256,241,246,274,260,238,253,268,249,259,221,263,268,275,247,238,243,256,258,255,285,220,212,242,260,235,235,223,233,239,241,223,249,247,246,245,230,233,219,229,231,205,238,221,225,223,220,210,243,240,242,235,228,232,208,201,223,220,218,230,224,217,195,193,198,226,203,230,206,197,230,206,204,215,228,223,241,198,203,204,226,194,229,182,192,218,214,193,196,201,182,244,217,191,195,197,193,218,209,196,200,201,189,190,210,219,207,214,207,179,203,159,211,180,172,202,173,161,188,162,175,201,196,182,183,166,168,190,158,182,186,160,185,160,177,184,197,197,169,170,181,200,179,189,170,175,179,153,181,206,183,174,180,153,147,172,189,185,177,182,173,195,166,143,169,161,162,170,164,183,169,159,153,140,188,162,165,184,191,188,168,171,185,192,172,180,158,159,167,156,157,166,136,134,145,141,149,140,185,143,165,168,169,155,144,140,161,159,147,157,140,130,172,146,124,166,160,179,154,143,163,146,137,154,149,151,132,156,156,141,156,172,133,134,145,139,149,143,134,145,146,146,149,135,158,145,143,142,134,156,140,153,150,156,138,149,129,124,146,156,149,144,147,123,142,129,138,143,138,143,140,140,127,142,150,115,143,128,130,147,131,143,130,140,136,121,135,111,125,115,131,124,128,125,129,138,121,113,135,100,125,133,119,115,126,112,113,112,113,114,106,132,95,110,109,126,129,110,101,108,103,105,122,94,116,124,104,103,117,135,108,133,103,107,99,101,108,100,97,117,104,94,75,94,88,81,68,58,61,71,53,43,31,16,1,0,0,0,0,1,0,0,0,0,0,0,2,0,0,0,0,0,0,1],\"p1\":973,\"v1\":[1,0,0,1],\"p2\":1001,\"v2\":4}},{\"_typename\":\"TH1D\",\"fUniqueID\":0,\"fBits\":520,\"fName\":\"hhe\",\"fTitle\":\"Energy of Primary Hit on score plane.\",\"fLineColor\":600,\"fLineStyle\":1,\"fLineWidth\":1,\"fFillColor\":0,\"fFillStyle\":1001,\"fMarkerColor\":1,\"fMarkerStyle\":1,\"fMarkerSize\":1,\"fNcells\":1002,\"fXaxis\":{\"_typename\":\"TAxis\",\"fUniqueID\":0,\"fBits\":0,\"fName\":\"xaxis\",\"fTitle\":\"\",\"fNdivisions\":510,\"fAxisColor\":1,\"fLabelColor\":1,\"fLabelFont\":42,\"fLabelOffset\":0.005,\"fLabelSize\":0.035,\"fTickLength\":0.03,\"fTitleOffset\":1,\"fTitleSize\":0.035,\"fTitleColor\":1,\"fTitleFont\":42,\"fNbins\":1000,\"fXmin\":-0.1,\"fXmax\":3.2,\"fXbins\":[],\"fFirst\":0,\"fLast\":0,\"fBits2\":0,\"fTimeDisplay\":false,\"fTimeFormat\":\"\",\"fLabels\":null,\"fModLabs\":null},\"fYaxis\":{\"_typename\":\"TAxis\",\"fUniqueID\":0,\"fBits\":0,\"fName\":\"yaxis\",\"fTitle\":\"\",\"fNdivisions\":510,\"fAxisColor\":1,\"fLabelColor\":1,\"fLabelFont\":42,\"fLabelOffset\":0.005,\"fLabelSize\":0.035,\"fTickLength\":0.03,\"fTitleOffset\":0,\"fTitleSize\":0.035,\"fTitleColor\":1,\"fTitleFont\":42,\"fNbins\":1,\"fXmin\":0,\"fXmax\":1,\"fXbins\":[],\"fFirst\":0,\"fLast\":0,\"fBits2\":0,\"fTimeDisplay\":false,\"fTimeFormat\":\"\",\"fLabels\":null,\"fModLabs\":null},\"fZaxis\":{\"_typename\":\"TAxis\",\"fUniqueID\":0,\"fBits\":0,\"fName\":\"zaxis\",\"fTitle\":\"\",\"fNdivisions\":510,\"fAxisColor\":1,\"fLabelColor\":1,\"fLabelFont\":42,\"fLabelOffset\":0.005,\"fLabelSize\":0.035,\"fTickLength\":0.03,\"fTitleOffset\":1,\"fTitleSize\":0.035,\"fTitleColor\":1,\"fTitleFont\":42,\"fNbins\":1,\"fXmin\":0,\"fXmax\":1,\"fXbins\":[],\"fFirst\":0,\"fLast\":0,\"fBits2\":0,\"fTimeDisplay\":false,\"fTimeFormat\":\"\",\"fLabels\":null,\"fModLabs\":null},\"fBarOffset\":0,\"fBarWidth\":1000,\"fEntries\":1582504,\"fTsumw\":1582333,\"fTsumw2\":1582333,\"fTsumwx\":4237394.84885945,\"fTsumwx2\":11951680.6741224,\"fMaximum\":-1111,\"fMinimum\":-1111,\"fNormFactor\":0,\"fContour\":[],\"fSumw2\":[],\"fOption\":\"\",\"fFunctions\":{\"_typename\":\"TList\",\"name\":\"TList\",\"arr\":[],\"opt\":[]},\"fBufferSize\":0,\"fBuffer\":[],\"fBinStatErrOpt\":0,\"fStatOverflows\":2,\"fArray\":{\"$arr\":\"Float64\",\"len\":1002,\"p\":34,\"v\":[310,729,702,585,524,500,454,445,453,412,412,362,337,305,347,296,321,282,297,320,267,274,269,263,220,263,251,264,285,264,238,240,209,229,225,234,256,209,190,192,221,210,218,242,191,199,211,203,189,177,214,211,189,197,214,176,197,181,188,179,216,190,188,206,215,183,189,200,206,203,182,192,172,210,185,185,223,198,201,185,191,193,194,198,166,226,208,201,181,188,209,198,208,180,213,218,203,185,184,180,179,197,215,210,201,177,202,203,181,178,200,185,193,204,210,211,200,197,192,190,187,201,203,191,204,189,178,192,213,194,210,213,183,211,215,192,226,214,181,182,221,212,213,193,209,202,189,202,221,215,206,205,170,191,193,195,208,169,205,222,221,205,220,194,228,228,206,233,255,232,203,198,201,229,238,206,216,182,199,229,225,202,223,221,225,207,221,231,226,238,211,190,204,193,190,233,240,216,205,233,219,199,218,200,224,219,233,205,204,214,219,226,207,198,230,214,233,221,218,204,215,231,219,222,235,217,217,224,215,223,222,221,228,226,236,243,217,259,251,229,225,245,229,214,245,240,238,232,242,238,225,257,244,276,268,265,238,223,251,243,234,239,243,227,228,230,248,237,244,221,231,236,257,257,261,239,267,265,236,223,235,242,255,240,252,254,236,245,228,233,232,248,253,242,243,213,273,244,262,271,233,259,247,263,238,238,260,245,273,275,271,256,276,307,245,254,245,270,236,262,261,257,265,258,300,255,290,260,265,282,261,264,265,282,265,278,278,254,282,282,278,276,274,253,251,294,285,268,270,258,273,289,263,272,298,280,289,305,271,296,277,274,311,331,271,294,260,323,285,342,310,317,295,280,302,337,284,304,298,307,282,283,284,336,314,303,289,292,297,330,284,325,302,297,314,331,303,304,311,310,309,322,312,321,307,290,319,334,297,303,316,301,304,309,318,342,320,353,340,302,320,344,328,323,314,353,302,322,359,326,321,359,335,357,349,347,351,320,348,343,333,326,340,357,373,309,388,343,366,363,352,358,341,355,381,333,360,371,356,360,402,348,373,384,376,325,380,362,385,363,385,378,369,342,417,384,375,397,393,376,388,422,357,426,412,377,377,388,395,388,433,423,399,429,423,421,362,420,403,399,404,390,400,382,384,356,366,436,430,402,434,441,405,441,444,396,429,431,457,442,435,458,422,442,481,456,457,426,460,472,450,465,421,447,475,437,461,479,447,441,455,471,457,458,449,427,485,460,500,525,467,493,491,471,506,497,475,513,507,507,500,511,494,500,500,522,497,508,478,528,509,534,524,537,540,515,516,509,533,511,531,505,549,499,543,515,552,548,519,543,592,525,505,524,573,540,547,522,538,532,604,546,541,561,550,572,565,594,607,604,579,566,592,573,584,577,554,561,629,614,591,630,585,592,643,609,645,584,649,642,639,613,627,620,617,622,611,573,606,653,608,712,631,658,659,653,636,649,635,692,651,646,713,671,723,687,683,687,675,670,747,690,702,711,716,680,767,696,721,750,723,724,712,705,696,762,796,745,736,767,723,752,777,769,774,758,780,811,785,763,790,830,783,788,811,778,786,811,828,829,799,808,808,823,844,823,870,860,800,837,874,874,880,882,868,865,856,932,859,888,903,902,898,887,939,911,885,924,908,951,933,940,972,933,929,986,887,995,982,1008,1016,1033,979,994,1000,1023,1028,1074,1075,1023,1090,1015,1023,1064,1099,1118,1034,1093,1055,1115,1143,1083,1136,1082,1184,1106,1144,1110,1209,1152,1179,1192,1155,1188,1227,1235,1231,1235,1264,1204,1289,1263,1235,1353,1286,1280,1327,1287,1301,1377,1386,1437,1395,1464,1439,1395,1373,1476,1425,1424,1453,1492,1462,1583,1552,1521,1585,1527,1544,1675,1535,1615,1662,1681,1633,1662,1741,1728,1743,1796,1734,1796,1876,1782,1879,1829,1868,1987,1906,1946,1952,1968,2014,2079,2061,2099,2147,2104,2236,2214,2212,2287,2334,2376,2345,2486,2341,2471,2423,2596,2620,2708,2716,2717,2859,2834,2985,2959,3086,3022,3149,3140,3259,3301,3614,3394,3657,3630,3915,3953,4015,4124,4220,4258,4491,4677,4762,4952,5089,5478,5692,5977,6282,6562,7095,7352,8172,8852,9900,11076,12804,14848,17586,21352,26359,33497,43377,57095,76261,99554,127722,151275,146845,110824,366,342,423,448,478,432,409,384,312,280,219,165,116,117,99,63,50,60,49,29,21,20,16,15,14,13,17,11,11,18,11,4,10,7,5,3,5,6,7,3,4,2,6,1,2,5,3,4,3,1,3,0,2,3,3,3,1,7,6,0,0,1,2,171]}},{\"_typename\":\"TPaveText\",\"fUniqueID\":0,\"fBits\":9,\"fLineColor\":1,\"fLineStyle\":1,\"fLineWidth\":1,\"fFillColor\":0,\"fFillStyle\":0,\"fX1\":1.07044000162341,\"fY1\":6.13405155762975,\"fX2\":2.02955999837659,\"fY2\":6.61368373305651,\"fX1NDC\":0.383743032428948,\"fY1NDC\":0.9329192284302,\"fX2NDC\":0.616256967571052,\"fY2NDC\":0.995000004768372,\"fBorderSize\":0,\"fInit\":1,\"fShadowColor\":1,\"fCornerRadius\":0,\"fOption\":\"blNDC\",\"fName\":\"title\",\"fTextAngle\":0,\"fTextSize\":0,\"fTextAlign\":22,\"fTextColor\":1,\"fTextFont\":42,\"fLabel\":\"\",\"fLongest\":8,\"fMargin\":0.05,\"fLines\":{\"_typename\":\"TList\",\"name\":\"TList\",\"arr\":[{\"_typename\":\"TLatex\",\"fUniqueID\":0,\"fBits\":0,\"fName\":\"\",\"fTitle\":\"Energies\",\"fTextAngle\":0,\"fTextSize\":0,\"fTextAlign\":0,\"fTextColor\":0,\"fTextFont\":0,\"fX\":0,\"fY\":0,\"fLineColor\":1,\"fLineStyle\":1,\"fLineWidth\":2,\"fLimitFactorSize\":3,\"fOriginSize\":0.0527686588466167}],\"opt\":[\"\"]}}],\"opt\":[\"\",\"\",\"same\",\"blNDC\"]},\"fExecs\":{\"_typename\":\"TList\",\"name\":\"TList\",\"arr\":[],\"opt\":[]},\"fName\":\"cc0_2\",\"fTitle\":\"cc0_2\",\"fNumPaletteColor\":0,\"fNextPaletteColor\":0},{\"_typename\":\"TStyle\",\"fUniqueID\":0,\"fBits\":0,\"fName\":\"Modern\",\"fTitle\":\"Modern Style\",\"fLineColor\":1,\"fLineStyle\":1,\"fLineWidth\":1,\"fFillColor\":19,\"fFillStyle\":1001,\"fMarkerColor\":1,\"fMarkerStyle\":1,\"fMarkerSize\":1,\"fTextAngle\":0,\"fTextSize\":0.05,\"fTextAlign\":11,\"fTextColor\":1,\"fTextFont\":62,\"fXaxis\":{\"_typename\":\"TAttAxis\",\"fNdivisions\":510,\"fAxisColor\":1,\"fLabelColor\":1,\"fLabelFont\":42,\"fLabelOffset\":0.005,\"fLabelSize\":0.035,\"fTickLength\":0.03,\"fTitleOffset\":1,\"fTitleSize\":0.035,\"fTitleColor\":1,\"fTitleFont\":42},\"fYaxis\":{\"_typename\":\"TAttAxis\",\"fNdivisions\":510,\"fAxisColor\":1,\"fLabelColor\":1,\"fLabelFont\":42,\"fLabelOffset\":0.005,\"fLabelSize\":0.035,\"fTickLength\":0.03,\"fTitleOffset\":0,\"fTitleSize\":0.035,\"fTitleColor\":1,\"fTitleFont\":42},\"fZaxis\":{\"_typename\":\"TAttAxis\",\"fNdivisions\":510,\"fAxisColor\":1,\"fLabelColor\":1,\"fLabelFont\":42,\"fLabelOffset\":0.005,\"fLabelSize\":0.035,\"fTickLength\":0.03,\"fTitleOffset\":1,\"fTitleSize\":0.035,\"fTitleColor\":1,\"fTitleFont\":42},\"fBarWidth\":1,\"fBarOffset\":0,\"fColorModelPS\":0,\"fDrawBorder\":0,\"fOptLogx\":0,\"fOptLogy\":0,\"fOptLogz\":0,\"fOptDate\":0,\"fOptStat\":1111,\"fOptTitle\":1,\"fOptFile\":0,\"fOptFit\":0,\"fShowEventStatus\":0,\"fShowEditor\":0,\"fShowToolBar\":0,\"fNumberContours\":20,\"fAttDate\":{\"_typename\":\"TAttText\",\"fTextAngle\":0,\"fTextSize\":0.025,\"fTextAlign\":11,\"fTextColor\":1,\"fTextFont\":62},\"fDateX\":0.01,\"fDateY\":0.01,\"fEndErrorSize\":2,\"fErrorX\":0.5,\"fFuncColor\":2,\"fFuncStyle\":1,\"fFuncWidth\":2,\"fGridColor\":0,\"fGridStyle\":3,\"fGridWidth\":1,\"fLegendBorderSize\":1,\"fLegendFillColor\":0,\"fLegendFont\":42,\"fLegendTextSize\":0,\"fHatchesLineWidth\":1,\"fHatchesSpacing\":1,\"fFrameFillColor\":0,\"fFrameLineColor\":1,\"fFrameFillStyle\":1001,\"fFrameLineStyle\":1,\"fFrameLineWidth\":1,\"fFrameBorderSize\":1,\"fFrameBorderMode\":0,\"fHistFillColor\":0,\"fHistLineColor\":602,\"fHistFillStyle\":1001,\"fHistLineStyle\":1,\"fHistLineWidth\":1,\"fHistMinimumZero\":false,\"fHistTopMargin\":0.05,\"fCanvasPreferGL\":false,\"fCanvasColor\":0,\"fCanvasBorderSize\":2,\"fCanvasBorderMode\":0,\"fCanvasDefH\":500,\"fCanvasDefW\":700,\"fCanvasDefX\":10,\"fCanvasDefY\":10,\"fPadColor\":0,\"fPadBorderSize\":2,\"fPadBorderMode\":0,\"fPadBottomMargin\":0.1,\"fPadTopMargin\":0.1,\"fPadLeftMargin\":0.1,\"fPadRightMargin\":0.1,\"fPadGridX\":false,\"fPadGridY\":false,\"fPadTickX\":0,\"fPadTickY\":0,\"fPaperSizeX\":20,\"fPaperSizeY\":26,\"fScreenFactor\":1,\"fStatColor\":0,\"fStatTextColor\":1,\"fStatBorderSize\":1,\"fStatFont\":42,\"fStatFontSize\":0,\"fStatStyle\":1001,\"fStatFormat\":\"6.4g\",\"fStatX\":0.98,\"fStatY\":0.935,\"fStatW\":0.2,\"fStatH\":0.16,\"fStripDecimals\":true,\"fTitleAlign\":23,\"fTitleColor\":0,\"fTitleTextColor\":1,\"fTitleBorderSize\":0,\"fTitleFont\":42,\"fTitleFontSize\":0.05,\"fTitleStyle\":0,\"fTitleX\":0.5,\"fTitleY\":0.995,\"fTitleW\":0,\"fTitleH\":0,\"fLegoInnerR\":0.5,\"fLineStyles\":[\"\",\"  \",\" 12 12\",\" 4 8\",\" 12 16 4 16\",\" 20 12 4 12\",\" 20 12 4 12 4 12 4 12\",\" 20 20\",\" 20 12 4 12 4 12\",\" 80 20\",\" 80 40 4 40\",\"  \",\"  \",\"  \",\"  \",\"  \",\"  \",\"  \",\"  \",\"  \",\"  \",\"  \",\"  \",\"  \",\"  \",\"  \",\"  \",\"  \",\"  \",\"  \"],\"fHeaderPS\":\"\",\"fTitlePS\":\"\",\"fFitFormat\":\"5.4g\",\"fPaintTextFormat\":\"g\",\"fLineScalePS\":3,\"fJoinLinePS\":0,\"fCapLinePS\":0,\"fTimeOffset\":788918400,\"fImageScaling\":1}],\"opt\":[\"\",\"\",\"\"]},\"fExecs\":null,\"fName\":\"cc0\",\"fTitle\":\"CC0\",\"fNumPaletteColor\":0,\"fNextPaletteColor\":0,\"fDISPLAY\":\"$DISPLAY\",\"fDoubleBuffer\":0,\"fRetained\":true,\"fXsizeUser\":0,\"fYsizeUser\":0,\"fXsizeReal\":20,\"fYsizeReal\":10,\"fWindowTopX\":0,\"fWindowTopY\":0,\"fWindowWidth\":0,\"fWindowHeight\":0,\"fCw\":1196,\"fCh\":572,\"fCatt\":{\"_typename\":\"TAttCanvas\",\"fXBetween\":2,\"fYBetween\":2,\"fTitleFromTop\":1.2,\"fXdate\":0.2,\"fYdate\":0.3,\"fAdate\":1},\"kMoveOpaque\":true,\"kResizeOpaque\":true,\"fHighLightColor\":2,\"fBatch\":true,\"kShowEventStatus\":false,\"kAutoExec\":true,\"kMenuBar\":true});\n   Core.settings.HandleKeys = false;\n   Core.draw(\"root_plot_1680209276787\", obj, \"\");\n}\n\nfunction script_load_root_plot_1680209276787(src, on_error) {\n    let script = document.createElement('script');\n    script.src = src;\n    script.onload = function() { display_root_plot_1680209276787(JSROOT); };\n    script.onerror = function() { script.remove(); on_error(); };\n    document.head.appendChild(script);\n}\n\nif (typeof requirejs !== 'undefined') {\n\n    // We are in jupyter notebooks, use require.js which should be configured already\n    requirejs.config({\n       paths: { 'JSRootCore' : [ 'build/jsroot', 'https://root.cern/js/7.2.1/build/jsroot', 'https://jsroot.gsi.de/7.2.1/build/jsroot' ] }\n    })(['JSRootCore'],  function(Core) {\n       display_root_plot_1680209276787(Core);\n    });\n\n} else if (typeof JSROOT !== 'undefined') {\n\n   // JSROOT already loaded, just use it\n   display_root_plot_1680209276787(JSROOT);\n\n} else {\n\n    // We are in jupyterlab without require.js, directly loading jsroot\n    // Jupyterlab might be installed in a different base_url so we need to know it.\n    try {\n        var base_url = JSON.parse(document.getElementById('jupyter-config-data').innerHTML).baseUrl;\n    } catch(_) {\n        var base_url = '/';\n    }\n\n    // Try loading a local version of requirejs and fallback to cdn if not possible.\n    script_load_root_plot_1680209276787(base_url + 'static/build/jsroot.js', function(){\n        console.error('Fail to load JSROOT locally, please check your jupyter_notebook_config.py file');\n        script_load_root_plot_1680209276787('https://root.cern/js/7.2.1/build/jsroot.js', function(){\n            document.getElementById(\"root_plot_1680209276787\").innerHTML = \"Failed to load JSROOT\";\n        });\n    });\n}\n\n</script>\n"
     },
     "metadata": {},
     "output_type": "display_data"
    }
   ],
   "source": [
    "%%time\n",
    "cc0 = R.TCanvas(\"cc0\",\"CC0\",1200,600)\n",
    "cc0.Divide(2,0)\n",
    "p1 = cc0.cd(1)\n",
    "leg0_p1 = R.TLegend(0.70, 0.75 ,0.99, 0.9)\n",
    "p1.SetLogy()\n",
    "hhn.SetStats(0)\n",
    "hhn2_hits.SetStats(0)\n",
    "hhn2_hits.SetTitle(\"Numbers\")\n",
    "hhn2_hits.Draw()\n",
    "hhn.SetLineWidth(3)\n",
    "hhn.SetLineColor(R.kRed)\n",
    "hhn.Draw(\"same\")\n",
    "leg0_p1.AddEntry(hhn.GetPtr(),\"N Primary particles\")\n",
    "\n",
    "hhn_clus.SetLineWidth(3)\n",
    "hhn_clus.SetLineColor(R.kCyan+1)\n",
    "hhn_clus.Draw(\"same\")\n",
    "leg0_p1.AddEntry(hhn_clus.GetPtr(),\"N score clusters.\")\n",
    "\n",
    "hhn_clus_hits.SetLineColor(R.kCyan+3)\n",
    "hhn_clus_hits.Draw(\"same\")\n",
    "leg0_p1.AddEntry(hhn_clus_hits.GetPtr(),\"N score cluster hits.\")\n",
    "\n",
    "hhn2.SetLineColor(R.kOrange)\n",
    "hhn2.SetStats(0)\n",
    "hhn2.Draw(\"same\")\n",
    "leg0_p1.AddEntry(hhn2.GetPtr(),\"N Secondary particles\")\n",
    "hhn_hits.SetLineColor(R.kBlue)\n",
    "hhn_hits.Draw(\"same\")\n",
    "leg0_p1.AddEntry(hhn_hits.GetPtr(),\"N hits from primary part.\")\n",
    "hhn2_hits.SetLineColor(R.kGreen)\n",
    "hhn2_hits.Draw(\"same\")\n",
    "leg0_p1.AddEntry(hhn2_hits.GetPtr(),\"N hits from secondary part.\")\n",
    "leg0_p1.Draw()\n",
    "p2 = cc0.cd(2)\n",
    "p2.SetLogy()\n",
    "hhe2.SetTitle(\"Energies\")\n",
    "hhe2.SetStats(0)\n",
    "hhe2.SetLineColor(R.kOrange)\n",
    "hhe2.Draw()\n",
    "hhe.SetStats(0)\n",
    "hhe.SetLineColor(R.kBlue)\n",
    "hhe.Draw(\"same\")\n",
    "cc0.Draw()"
   ],
   "metadata": {
    "collapsed": false
   }
  },
  {
   "cell_type": "code",
   "execution_count": 10,
   "outputs": [],
   "source": [
    "df_tmp = dfx.Define(\"test_n_second\",\"\"\"\n",
    "  int count=0;\n",
    "   for(size_t i_part=0; i_part < mc_part_z.size(); ++i_part){\n",
    "      if(abs(mc_part_z[i_part]) >= 1e-6 ) {\n",
    "         for (size_t i = 0; i < mc_score_part_idx.size(); ++i) {\n",
    "            if ((mc_score_z[i] > 1440) && (mc_score_pz[i] > 0.01) &&\n",
    "                mc_score_part_idx[i] == i_part) {\n",
    "                count++;\n",
    "            }\n",
    "         }\n",
    "      }\n",
    "   }\n",
    "   return count;\"\"\").Define(\"test_nn_second\",\"\"\"\n",
    "  vector<int> out;\n",
    "   for(size_t i_part=0; i_part < mc_part_z.size(); ++i_part){\n",
    "      if(abs(mc_part_z[i_part]) >= 1e-6 ) {\n",
    "         int count = 0;\n",
    "         for (size_t i = 0; i < mc_score_part_idx.size(); ++i) {\n",
    "            if ((mc_score_z[i] > 1440) && (mc_score_pz[i] > 0.01) &&\n",
    "                mc_score_part_idx[i] == i_part) {\n",
    "                count++;\n",
    "            }\n",
    "         }\n",
    "         out.push_back(count);\n",
    "      }\n",
    "   }\n",
    "   return out;\"\"\").Define(\"test_n_first\",\"\"\"\n",
    "  int count=0;\n",
    "   for(size_t i_part=0; i_part < mc_part_z.size(); ++i_part){\n",
    "      if(abs(mc_part_z[i_part]) < 1e-6 ) {\n",
    "         for (size_t i = 0; i < mc_score_part_idx.size(); ++i) {\n",
    "            if ((mc_score_z[i] > 1440) && (mc_score_pz[i] > 0.01) &&\n",
    "                mc_score_part_idx[i] == i_part) {\n",
    "                count++;\n",
    "            }\n",
    "         }\n",
    "      }\n",
    "   }\n",
    "   return count;\"\"\").Define(\"test_nn_first\",\"\"\"\n",
    "   vector<int> out;\n",
    "   for(size_t i_part=0; i_part < mc_part_z.size(); ++i_part){\n",
    "      if(abs(mc_part_z[i_part]) < 1e-6 ) {\n",
    "         int count=0;\n",
    "         for (size_t i = 0; i < mc_score_part_idx.size(); ++i) {\n",
    "            if ((mc_score_z[i] > 1440) && (mc_score_pz[i] > 0.01) &&\n",
    "                mc_score_part_idx[i] == i_part) {\n",
    "                count++;\n",
    "            }\n",
    "         }\n",
    "         out.push_back(count);\n",
    "      }\n",
    "   }\n",
    "   return out;\"\"\")"
   ],
   "metadata": {
    "collapsed": false
   }
  },
  {
   "cell_type": "code",
   "execution_count": 13,
   "outputs": [],
   "source": [
    "h_tmp1 = df_tmp.Histo1D((\"h_tmp1\",\"Num \",31,-0.5,30.5),\"test_n_first\")\n",
    "h_tmp2 = df_tmp.Histo1D((\"h_tmp2\",\"Num second\",31,-0.5,30.5),\"test_n_second\")\n",
    "h_tmp1n = df_tmp.Histo1D((\"h_tmp1n\",\"Num \",31,-0.5,30.5),\"test_nn_first\")\n",
    "h_tmp2n = df_tmp.Histo1D((\"h_tmp2n\",\"Num second\",31,-0.5,30.5),\"test_nn_second\")\n",
    "h_tmp1nn = df_tmp.Define(\"nnn\",\"test_nn_first.size()\").Histo1D((\"h_tmp1nn\",\"Num \",31,-0.5,30.5),\"nnn\")\n",
    "h_tmp2nn = df_tmp.Define(\"nnn\",\"test_nn_second.size()\").Histo1D((\"h_tmp2nn\",\"Num second\",31,-0.5,30.5),\"nnn\")"
   ],
   "metadata": {
    "collapsed": false
   }
  },
  {
   "cell_type": "code",
   "execution_count": 14,
   "outputs": [
    {
     "name": "stderr",
     "output_type": "stream",
     "text": [
      "Warning in <TCanvas::Constructor>: Deleting canvas with same name: ccx\n"
     ]
    },
    {
     "data": {
      "text/plain": "<IPython.core.display.HTML object>",
      "text/html": "\n\n<div id=\"root_plot_1679920900859\"\n     style=\"width: 796px; height: 572px\">\n</div>\n<script>\n\nfunction display_root_plot_1679920900859(Core) {\n   let obj = Core.parse({\"_typename\":\"TCanvas\",\"fUniqueID\":0,\"fBits\":3342344,\"fLineColor\":1,\"fLineStyle\":1,\"fLineWidth\":1,\"fFillColor\":0,\"fFillStyle\":1001,\"fLeftMargin\":0.1,\"fRightMargin\":0.1,\"fBottomMargin\":0.1,\"fTopMargin\":0.1,\"fXfile\":2,\"fYfile\":2,\"fAfile\":1,\"fXstat\":0.99,\"fYstat\":0.99,\"fAstat\":2,\"fFrameFillColor\":0,\"fFrameLineColor\":1,\"fFrameFillStyle\":1001,\"fFrameLineStyle\":1,\"fFrameLineWidth\":1,\"fFrameBorderSize\":1,\"fFrameBorderMode\":0,\"fX1\":-4.37500028871002,\"fY1\":-0.520814319318039,\"fX2\":34.37500028871,\"fY2\":4.68732856343283,\"fXtoAbsPixelk\":89.8710223334161,\"fXtoPixelk\":89.8710223334161,\"fXtoPixel\":20.5419351777723,\"fYtoAbsPixelk\":514.800046590614,\"fYtoPixelk\":514.800046590614,\"fYtoPixel\":-109.828016027448,\"fUtoAbsPixelk\":5e-5,\"fUtoPixelk\":5e-5,\"fUtoPixel\":796,\"fVtoAbsPixelk\":572.00005,\"fVtoPixelk\":572,\"fVtoPixel\":-572,\"fAbsPixeltoXk\":-4.37500028871002,\"fPixeltoXk\":-4.37500028871002,\"fPixeltoX\":0.0486809052480151,\"fAbsPixeltoYk\":4.68732856343283,\"fPixeltoYk\":-0.520814319318039,\"fPixeltoY\":-0.00910514489991411,\"fXlowNDC\":0,\"fYlowNDC\":0,\"fXUpNDC\":1,\"fYUpNDC\":1,\"fWNDC\":1,\"fHNDC\":1,\"fAbsXlowNDC\":0,\"fAbsYlowNDC\":0,\"fAbsWNDC\":1,\"fAbsHNDC\":1,\"fUxmin\":-0.5,\"fUymin\":0,\"fUxmax\":30.5,\"fUymax\":4.1665142441148,\"fTheta\":30,\"fPhi\":30,\"fAspectRatio\":0,\"fNumber\":0,\"fTickx\":0,\"fTicky\":0,\"fLogx\":0,\"fLogy\":1,\"fLogz\":0,\"fPadPaint\":0,\"fCrosshair\":0,\"fCrosshairPos\":0,\"fBorderSize\":2,\"fBorderMode\":0,\"fModified\":false,\"fGridx\":false,\"fGridy\":false,\"fAbsCoord\":false,\"fEditable\":true,\"fFixedAspectRatio\":false,\"fPrimitives\":{\"_typename\":\"TList\",\"name\":\"TList\",\"arr\":[{\"_typename\":\"TFrame\",\"fUniqueID\":0,\"fBits\":8,\"fLineColor\":1,\"fLineStyle\":1,\"fLineWidth\":1,\"fFillColor\":0,\"fFillStyle\":1001,\"fX1\":-0.5,\"fY1\":0,\"fX2\":30.5,\"fY2\":4.1665142441148,\"fBorderSize\":1,\"fBorderMode\":0},{\"_typename\":\"TH1D\",\"fUniqueID\":0,\"fBits\":8,\"fName\":\"h_tmp1\",\"fTitle\":\"Num \",\"fLineColor\":602,\"fLineStyle\":1,\"fLineWidth\":1,\"fFillColor\":0,\"fFillStyle\":1001,\"fMarkerColor\":1,\"fMarkerStyle\":1,\"fMarkerSize\":1,\"fNcells\":33,\"fXaxis\":{\"_typename\":\"TAxis\",\"fUniqueID\":0,\"fBits\":0,\"fName\":\"xaxis\",\"fTitle\":\"\",\"fNdivisions\":510,\"fAxisColor\":1,\"fLabelColor\":1,\"fLabelFont\":42,\"fLabelOffset\":0.005,\"fLabelSize\":0.035,\"fTickLength\":0.03,\"fTitleOffset\":1,\"fTitleSize\":0.035,\"fTitleColor\":1,\"fTitleFont\":42,\"fNbins\":31,\"fXmin\":-0.5,\"fXmax\":30.5,\"fXbins\":[],\"fFirst\":0,\"fLast\":0,\"fBits2\":0,\"fTimeDisplay\":false,\"fTimeFormat\":\"\",\"fLabels\":null,\"fModLabs\":null},\"fYaxis\":{\"_typename\":\"TAxis\",\"fUniqueID\":0,\"fBits\":0,\"fName\":\"yaxis\",\"fTitle\":\"\",\"fNdivisions\":510,\"fAxisColor\":1,\"fLabelColor\":1,\"fLabelFont\":42,\"fLabelOffset\":0.005,\"fLabelSize\":0.035,\"fTickLength\":0.03,\"fTitleOffset\":0,\"fTitleSize\":0.035,\"fTitleColor\":1,\"fTitleFont\":42,\"fNbins\":1,\"fXmin\":0,\"fXmax\":1,\"fXbins\":[],\"fFirst\":0,\"fLast\":0,\"fBits2\":0,\"fTimeDisplay\":false,\"fTimeFormat\":\"\",\"fLabels\":null,\"fModLabs\":null},\"fZaxis\":{\"_typename\":\"TAxis\",\"fUniqueID\":0,\"fBits\":0,\"fName\":\"zaxis\",\"fTitle\":\"\",\"fNdivisions\":510,\"fAxisColor\":1,\"fLabelColor\":1,\"fLabelFont\":42,\"fLabelOffset\":0.005,\"fLabelSize\":0.035,\"fTickLength\":0.03,\"fTitleOffset\":1,\"fTitleSize\":0.035,\"fTitleColor\":1,\"fTitleFont\":42,\"fNbins\":1,\"fXmin\":0,\"fXmax\":1,\"fXbins\":[],\"fFirst\":0,\"fLast\":0,\"fBits2\":0,\"fTimeDisplay\":false,\"fTimeFormat\":\"\",\"fLabels\":null,\"fModLabs\":null},\"fBarOffset\":0,\"fBarWidth\":1000,\"fEntries\":31904,\"fTsumw\":31904,\"fTsumw2\":31904,\"fTsumwx\":71635,\"fTsumwx2\":246935,\"fMaximum\":-1111,\"fMinimum\":-1111,\"fNormFactor\":0,\"fContour\":[],\"fSumw2\":[],\"fOption\":\"\",\"fFunctions\":{\"_typename\":\"TList\",\"name\":\"TList\",\"arr\":[{\"_typename\":\"TPaveStats\",\"fUniqueID\":0,\"fBits\":9,\"fLineColor\":1,\"fLineStyle\":1,\"fLineWidth\":1,\"fFillColor\":0,\"fFillStyle\":1001,\"fX1\":25.8500007852912,\"fY1\":3.51549644585684,\"fX2\":33.6000010162592,\"fY2\":4.34879928847121,\"fX1NDC\":0.780000016093254,\"fY1NDC\":0.775000005960464,\"fX2NDC\":0.980000019073486,\"fY2NDC\":0.935000002384186,\"fBorderSize\":1,\"fInit\":1,\"fShadowColor\":1,\"fCornerRadius\":0,\"fOption\":\"brNDC\",\"fName\":\"stats\",\"fTextAngle\":0,\"fTextSize\":0,\"fTextAlign\":12,\"fTextColor\":1,\"fTextFont\":42,\"fLabel\":\"\",\"fLongest\":18,\"fMargin\":0.05,\"fLines\":{\"_typename\":\"TList\",\"name\":\"TList\",\"arr\":[{\"_typename\":\"TLatex\",\"fUniqueID\":0,\"fBits\":0,\"fName\":\"\",\"fTitle\":\"h_tmp1\",\"fTextAngle\":0,\"fTextSize\":0.0368,\"fTextAlign\":0,\"fTextColor\":0,\"fTextFont\":0,\"fX\":0,\"fY\":0,\"fLineColor\":1,\"fLineStyle\":1,\"fLineWidth\":2,\"fLimitFactorSize\":3,\"fOriginSize\":0.0368000008165836},{\"_typename\":\"TLatex\",\"fUniqueID\":0,\"fBits\":0,\"fName\":\"\",\"fTitle\":\"Entries = 31904  \",\"fTextAngle\":0,\"fTextSize\":0,\"fTextAlign\":0,\"fTextColor\":0,\"fTextFont\":0,\"fX\":0,\"fY\":0,\"fLineColor\":1,\"fLineStyle\":1,\"fLineWidth\":2,\"fLimitFactorSize\":3,\"fOriginSize\":0.04},{\"_typename\":\"TLatex\",\"fUniqueID\":0,\"fBits\":0,\"fName\":\"\",\"fTitle\":\"Mean  =  2.245\",\"fTextAngle\":0,\"fTextSize\":0,\"fTextAlign\":0,\"fTextColor\":0,\"fTextFont\":0,\"fX\":0,\"fY\":0,\"fLineColor\":1,\"fLineStyle\":1,\"fLineWidth\":2,\"fLimitFactorSize\":3,\"fOriginSize\":0.04},{\"_typename\":\"TLatex\",\"fUniqueID\":0,\"fBits\":0,\"fName\":\"\",\"fTitle\":\"Std Dev   =  1.643\",\"fTextAngle\":0,\"fTextSize\":0,\"fTextAlign\":0,\"fTextColor\":0,\"fTextFont\":0,\"fX\":0,\"fY\":0,\"fLineColor\":1,\"fLineStyle\":1,\"fLineWidth\":2,\"fLimitFactorSize\":3,\"fOriginSize\":0.04}],\"opt\":[\"\",\"\",\"\",\"\"]},\"fOptFit\":0,\"fOptStat\":1111,\"fFitFormat\":\"5.4g\",\"fStatFormat\":\"6.4g\",\"fParent\":{\"$ref\":3}}],\"opt\":[\"brNDC\"]},\"fBufferSize\":0,\"fBuffer\":[],\"fBinStatErrOpt\":0,\"fStatOverflows\":2,\"fArray\":{\"$arr\":\"Float64\",\"len\":33,\"p\":1,\"v\":[4584,6926,7744,6257,3513,1666,733,293,114,48,18,3,3,2]}},{\"_typename\":\"TH1D\",\"fUniqueID\":0,\"fBits\":8,\"fName\":\"h_tmp2\",\"fTitle\":\"Num second\",\"fLineColor\":632,\"fLineStyle\":1,\"fLineWidth\":1,\"fFillColor\":0,\"fFillStyle\":1001,\"fMarkerColor\":1,\"fMarkerStyle\":1,\"fMarkerSize\":1,\"fNcells\":33,\"fXaxis\":{\"_typename\":\"TAxis\",\"fUniqueID\":0,\"fBits\":0,\"fName\":\"xaxis\",\"fTitle\":\"\",\"fNdivisions\":510,\"fAxisColor\":1,\"fLabelColor\":1,\"fLabelFont\":42,\"fLabelOffset\":0.005,\"fLabelSize\":0.035,\"fTickLength\":0.03,\"fTitleOffset\":1,\"fTitleSize\":0.035,\"fTitleColor\":1,\"fTitleFont\":42,\"fNbins\":31,\"fXmin\":-0.5,\"fXmax\":30.5,\"fXbins\":[],\"fFirst\":0,\"fLast\":0,\"fBits2\":0,\"fTimeDisplay\":false,\"fTimeFormat\":\"\",\"fLabels\":null,\"fModLabs\":null},\"fYaxis\":{\"_typename\":\"TAxis\",\"fUniqueID\":0,\"fBits\":0,\"fName\":\"yaxis\",\"fTitle\":\"\",\"fNdivisions\":510,\"fAxisColor\":1,\"fLabelColor\":1,\"fLabelFont\":42,\"fLabelOffset\":0.005,\"fLabelSize\":0.035,\"fTickLength\":0.03,\"fTitleOffset\":0,\"fTitleSize\":0.035,\"fTitleColor\":1,\"fTitleFont\":42,\"fNbins\":1,\"fXmin\":0,\"fXmax\":1,\"fXbins\":[],\"fFirst\":0,\"fLast\":0,\"fBits2\":0,\"fTimeDisplay\":false,\"fTimeFormat\":\"\",\"fLabels\":null,\"fModLabs\":null},\"fZaxis\":{\"_typename\":\"TAxis\",\"fUniqueID\":0,\"fBits\":0,\"fName\":\"zaxis\",\"fTitle\":\"\",\"fNdivisions\":510,\"fAxisColor\":1,\"fLabelColor\":1,\"fLabelFont\":42,\"fLabelOffset\":0.005,\"fLabelSize\":0.035,\"fTickLength\":0.03,\"fTitleOffset\":1,\"fTitleSize\":0.035,\"fTitleColor\":1,\"fTitleFont\":42,\"fNbins\":1,\"fXmin\":0,\"fXmax\":1,\"fXbins\":[],\"fFirst\":0,\"fLast\":0,\"fBits2\":0,\"fTimeDisplay\":false,\"fTimeFormat\":\"\",\"fLabels\":null,\"fModLabs\":null},\"fBarOffset\":0,\"fBarWidth\":1000,\"fEntries\":31904,\"fTsumw\":31850,\"fTsumw2\":31850,\"fTsumwx\":62554,\"fTsumwx2\":608496,\"fMaximum\":-1111,\"fMinimum\":-1111,\"fNormFactor\":0,\"fContour\":[],\"fSumw2\":[],\"fOption\":\"\",\"fFunctions\":{\"_typename\":\"TList\",\"name\":\"TList\",\"arr\":[],\"opt\":[]},\"fBufferSize\":0,\"fBuffer\":[],\"fBinStatErrOpt\":0,\"fStatOverflows\":2,\"fArray\":{\"$arr\":\"Float64\",\"len\":33,\"p\":1,\"v\":[15423,6538,3194,1777,1092,714,565,426,335,250,231,152,116,128,110,76,88,74,57,63,61,71,56,53,38,36,31,37,26,17,15,54]}},{\"_typename\":\"TH1D\",\"fUniqueID\":0,\"fBits\":8,\"fName\":\"h_tmp1n\",\"fTitle\":\"Num \",\"fLineColor\":416,\"fLineStyle\":1,\"fLineWidth\":1,\"fFillColor\":0,\"fFillStyle\":1001,\"fMarkerColor\":1,\"fMarkerStyle\":1,\"fMarkerSize\":1,\"fNcells\":33,\"fXaxis\":{\"_typename\":\"TAxis\",\"fUniqueID\":0,\"fBits\":0,\"fName\":\"xaxis\",\"fTitle\":\"\",\"fNdivisions\":510,\"fAxisColor\":1,\"fLabelColor\":1,\"fLabelFont\":42,\"fLabelOffset\":0.005,\"fLabelSize\":0.035,\"fTickLength\":0.03,\"fTitleOffset\":1,\"fTitleSize\":0.035,\"fTitleColor\":1,\"fTitleFont\":42,\"fNbins\":31,\"fXmin\":-0.5,\"fXmax\":30.5,\"fXbins\":[],\"fFirst\":0,\"fLast\":0,\"fBits2\":0,\"fTimeDisplay\":false,\"fTimeFormat\":\"\",\"fLabels\":null,\"fModLabs\":null},\"fYaxis\":{\"_typename\":\"TAxis\",\"fUniqueID\":0,\"fBits\":0,\"fName\":\"yaxis\",\"fTitle\":\"\",\"fNdivisions\":510,\"fAxisColor\":1,\"fLabelColor\":1,\"fLabelFont\":42,\"fLabelOffset\":0.005,\"fLabelSize\":0.035,\"fTickLength\":0.03,\"fTitleOffset\":0,\"fTitleSize\":0.035,\"fTitleColor\":1,\"fTitleFont\":42,\"fNbins\":1,\"fXmin\":0,\"fXmax\":1,\"fXbins\":[],\"fFirst\":0,\"fLast\":0,\"fBits2\":0,\"fTimeDisplay\":false,\"fTimeFormat\":\"\",\"fLabels\":null,\"fModLabs\":null},\"fZaxis\":{\"_typename\":\"TAxis\",\"fUniqueID\":0,\"fBits\":0,\"fName\":\"zaxis\",\"fTitle\":\"\",\"fNdivisions\":510,\"fAxisColor\":1,\"fLabelColor\":1,\"fLabelFont\":42,\"fLabelOffset\":0.005,\"fLabelSize\":0.035,\"fTickLength\":0.03,\"fTitleOffset\":1,\"fTitleSize\":0.035,\"fTitleColor\":1,\"fTitleFont\":42,\"fNbins\":1,\"fXmin\":0,\"fXmax\":1,\"fXbins\":[],\"fFirst\":0,\"fLast\":0,\"fBits2\":0,\"fTimeDisplay\":false,\"fTimeFormat\":\"\",\"fLabels\":null,\"fModLabs\":null},\"fBarOffset\":0,\"fBarWidth\":1000,\"fEntries\":31904,\"fTsumw\":31904,\"fTsumw2\":31904,\"fTsumwx\":71635,\"fTsumwx2\":246935,\"fMaximum\":-1111,\"fMinimum\":-1111,\"fNormFactor\":0,\"fContour\":[],\"fSumw2\":[],\"fOption\":\"\",\"fFunctions\":{\"_typename\":\"TList\",\"name\":\"TList\",\"arr\":[],\"opt\":[]},\"fBufferSize\":0,\"fBuffer\":[],\"fBinStatErrOpt\":0,\"fStatOverflows\":2,\"fArray\":{\"$arr\":\"Float64\",\"len\":33,\"p\":1,\"v\":[4584,6926,7744,6257,3513,1666,733,293,114,48,18,3,3,2]}},{\"_typename\":\"TH1D\",\"fUniqueID\":0,\"fBits\":8,\"fName\":\"h_tmp1nn\",\"fTitle\":\"Num \",\"fLineColor\":1,\"fLineStyle\":1,\"fLineWidth\":1,\"fFillColor\":0,\"fFillStyle\":1001,\"fMarkerColor\":1,\"fMarkerStyle\":1,\"fMarkerSize\":1,\"fNcells\":33,\"fXaxis\":{\"_typename\":\"TAxis\",\"fUniqueID\":0,\"fBits\":0,\"fName\":\"xaxis\",\"fTitle\":\"\",\"fNdivisions\":510,\"fAxisColor\":1,\"fLabelColor\":1,\"fLabelFont\":42,\"fLabelOffset\":0.005,\"fLabelSize\":0.035,\"fTickLength\":0.03,\"fTitleOffset\":1,\"fTitleSize\":0.035,\"fTitleColor\":1,\"fTitleFont\":42,\"fNbins\":31,\"fXmin\":-0.5,\"fXmax\":30.5,\"fXbins\":[],\"fFirst\":0,\"fLast\":0,\"fBits2\":0,\"fTimeDisplay\":false,\"fTimeFormat\":\"\",\"fLabels\":null,\"fModLabs\":null},\"fYaxis\":{\"_typename\":\"TAxis\",\"fUniqueID\":0,\"fBits\":0,\"fName\":\"yaxis\",\"fTitle\":\"\",\"fNdivisions\":510,\"fAxisColor\":1,\"fLabelColor\":1,\"fLabelFont\":42,\"fLabelOffset\":0.005,\"fLabelSize\":0.035,\"fTickLength\":0.03,\"fTitleOffset\":0,\"fTitleSize\":0.035,\"fTitleColor\":1,\"fTitleFont\":42,\"fNbins\":1,\"fXmin\":0,\"fXmax\":1,\"fXbins\":[],\"fFirst\":0,\"fLast\":0,\"fBits2\":0,\"fTimeDisplay\":false,\"fTimeFormat\":\"\",\"fLabels\":null,\"fModLabs\":null},\"fZaxis\":{\"_typename\":\"TAxis\",\"fUniqueID\":0,\"fBits\":0,\"fName\":\"zaxis\",\"fTitle\":\"\",\"fNdivisions\":510,\"fAxisColor\":1,\"fLabelColor\":1,\"fLabelFont\":42,\"fLabelOffset\":0.005,\"fLabelSize\":0.035,\"fTickLength\":0.03,\"fTitleOffset\":1,\"fTitleSize\":0.035,\"fTitleColor\":1,\"fTitleFont\":42,\"fNbins\":1,\"fXmin\":0,\"fXmax\":1,\"fXbins\":[],\"fFirst\":0,\"fLast\":0,\"fBits2\":0,\"fTimeDisplay\":false,\"fTimeFormat\":\"\",\"fLabels\":null,\"fModLabs\":null},\"fBarOffset\":0,\"fBarWidth\":1000,\"fEntries\":31904,\"fTsumw\":31904,\"fTsumw2\":31904,\"fTsumwx\":31904,\"fTsumwx2\":31904,\"fMaximum\":-1111,\"fMinimum\":-1111,\"fNormFactor\":0,\"fContour\":[],\"fSumw2\":[],\"fOption\":\"\",\"fFunctions\":{\"_typename\":\"TList\",\"name\":\"TList\",\"arr\":[],\"opt\":[]},\"fBufferSize\":0,\"fBuffer\":[],\"fBinStatErrOpt\":0,\"fStatOverflows\":2,\"fArray\":{\"$arr\":\"Float64\",\"len\":33,\"p\":2,\"v\":31904}},{\"_typename\":\"TH1D\",\"fUniqueID\":0,\"fBits\":8,\"fName\":\"h_tmp2n\",\"fTitle\":\"Num second\",\"fLineColor\":800,\"fLineStyle\":1,\"fLineWidth\":1,\"fFillColor\":0,\"fFillStyle\":1001,\"fMarkerColor\":1,\"fMarkerStyle\":1,\"fMarkerSize\":1,\"fNcells\":33,\"fXaxis\":{\"_typename\":\"TAxis\",\"fUniqueID\":0,\"fBits\":0,\"fName\":\"xaxis\",\"fTitle\":\"\",\"fNdivisions\":510,\"fAxisColor\":1,\"fLabelColor\":1,\"fLabelFont\":42,\"fLabelOffset\":0.005,\"fLabelSize\":0.035,\"fTickLength\":0.03,\"fTitleOffset\":1,\"fTitleSize\":0.035,\"fTitleColor\":1,\"fTitleFont\":42,\"fNbins\":31,\"fXmin\":-0.5,\"fXmax\":30.5,\"fXbins\":[],\"fFirst\":0,\"fLast\":0,\"fBits2\":0,\"fTimeDisplay\":false,\"fTimeFormat\":\"\",\"fLabels\":null,\"fModLabs\":null},\"fYaxis\":{\"_typename\":\"TAxis\",\"fUniqueID\":0,\"fBits\":0,\"fName\":\"yaxis\",\"fTitle\":\"\",\"fNdivisions\":510,\"fAxisColor\":1,\"fLabelColor\":1,\"fLabelFont\":42,\"fLabelOffset\":0.005,\"fLabelSize\":0.035,\"fTickLength\":0.03,\"fTitleOffset\":0,\"fTitleSize\":0.035,\"fTitleColor\":1,\"fTitleFont\":42,\"fNbins\":1,\"fXmin\":0,\"fXmax\":1,\"fXbins\":[],\"fFirst\":0,\"fLast\":0,\"fBits2\":0,\"fTimeDisplay\":false,\"fTimeFormat\":\"\",\"fLabels\":null,\"fModLabs\":null},\"fZaxis\":{\"_typename\":\"TAxis\",\"fUniqueID\":0,\"fBits\":0,\"fName\":\"zaxis\",\"fTitle\":\"\",\"fNdivisions\":510,\"fAxisColor\":1,\"fLabelColor\":1,\"fLabelFont\":42,\"fLabelOffset\":0.005,\"fLabelSize\":0.035,\"fTickLength\":0.03,\"fTitleOffset\":1,\"fTitleSize\":0.035,\"fTitleColor\":1,\"fTitleFont\":42,\"fNbins\":1,\"fXmin\":0,\"fXmax\":1,\"fXbins\":[],\"fFirst\":0,\"fLast\":0,\"fBits2\":0,\"fTimeDisplay\":false,\"fTimeFormat\":\"\",\"fLabels\":null,\"fModLabs\":null},\"fBarOffset\":0,\"fBarWidth\":1000,\"fEntries\":1263033,\"fTsumw\":1263033,\"fTsumw2\":1263033,\"fTsumwx\":64380,\"fTsumwx2\":88190,\"fMaximum\":-1111,\"fMinimum\":-1111,\"fNormFactor\":0,\"fContour\":[],\"fSumw2\":[],\"fOption\":\"\",\"fFunctions\":{\"_typename\":\"TList\",\"name\":\"TList\",\"arr\":[],\"opt\":[]},\"fBufferSize\":0,\"fBuffer\":[],\"fBinStatErrOpt\":0,\"fStatOverflows\":2,\"fArray\":{\"$arr\":\"Float64\",\"len\":33,\"p\":1,\"v\":[1206787,50692,3766,1253,371,109,26,22,5,2]}},{\"_typename\":\"TH1D\",\"fUniqueID\":0,\"fBits\":8,\"fName\":\"h_tmp2nn\",\"fTitle\":\"Num second\",\"fLineColor\":400,\"fLineStyle\":1,\"fLineWidth\":1,\"fFillColor\":0,\"fFillStyle\":1001,\"fMarkerColor\":1,\"fMarkerStyle\":1,\"fMarkerSize\":1,\"fNcells\":33,\"fXaxis\":{\"_typename\":\"TAxis\",\"fUniqueID\":0,\"fBits\":0,\"fName\":\"xaxis\",\"fTitle\":\"\",\"fNdivisions\":510,\"fAxisColor\":1,\"fLabelColor\":1,\"fLabelFont\":42,\"fLabelOffset\":0.005,\"fLabelSize\":0.035,\"fTickLength\":0.03,\"fTitleOffset\":1,\"fTitleSize\":0.035,\"fTitleColor\":1,\"fTitleFont\":42,\"fNbins\":31,\"fXmin\":-0.5,\"fXmax\":30.5,\"fXbins\":[],\"fFirst\":0,\"fLast\":0,\"fBits2\":0,\"fTimeDisplay\":false,\"fTimeFormat\":\"\",\"fLabels\":null,\"fModLabs\":null},\"fYaxis\":{\"_typename\":\"TAxis\",\"fUniqueID\":0,\"fBits\":0,\"fName\":\"yaxis\",\"fTitle\":\"\",\"fNdivisions\":510,\"fAxisColor\":1,\"fLabelColor\":1,\"fLabelFont\":42,\"fLabelOffset\":0.005,\"fLabelSize\":0.035,\"fTickLength\":0.03,\"fTitleOffset\":0,\"fTitleSize\":0.035,\"fTitleColor\":1,\"fTitleFont\":42,\"fNbins\":1,\"fXmin\":0,\"fXmax\":1,\"fXbins\":[],\"fFirst\":0,\"fLast\":0,\"fBits2\":0,\"fTimeDisplay\":false,\"fTimeFormat\":\"\",\"fLabels\":null,\"fModLabs\":null},\"fZaxis\":{\"_typename\":\"TAxis\",\"fUniqueID\":0,\"fBits\":0,\"fName\":\"zaxis\",\"fTitle\":\"\",\"fNdivisions\":510,\"fAxisColor\":1,\"fLabelColor\":1,\"fLabelFont\":42,\"fLabelOffset\":0.005,\"fLabelSize\":0.035,\"fTickLength\":0.03,\"fTitleOffset\":1,\"fTitleSize\":0.035,\"fTitleColor\":1,\"fTitleFont\":42,\"fNbins\":1,\"fXmin\":0,\"fXmax\":1,\"fXbins\":[],\"fFirst\":0,\"fLast\":0,\"fBits2\":0,\"fTimeDisplay\":false,\"fTimeFormat\":\"\",\"fLabels\":null,\"fModLabs\":null},\"fBarOffset\":0,\"fBarWidth\":1000,\"fEntries\":31904,\"fTsumw\":27464,\"fTsumw2\":27464,\"fTsumwx\":151429,\"fTsumwx2\":1730999,\"fMaximum\":-1111,\"fMinimum\":-1111,\"fNormFactor\":0,\"fContour\":[],\"fSumw2\":[],\"fOption\":\"\",\"fFunctions\":{\"_typename\":\"TList\",\"name\":\"TList\",\"arr\":[],\"opt\":[]},\"fBufferSize\":0,\"fBuffer\":[],\"fBinStatErrOpt\":0,\"fStatOverflows\":2,\"fArray\":{\"$arr\":\"Float64\",\"len\":33,\"p\":1,\"v\":[6627,3892,1558,639,1352,924,2254,1420,1764,1022,1066,775,797,555,561,475,372,262,246,196,180,106,95,76,68,46,42,34,15,25,20,4440]}},{\"_typename\":\"TPaveText\",\"fUniqueID\":0,\"fBits\":9,\"fLineColor\":1,\"fLineStyle\":1,\"fLineWidth\":1,\"fFillColor\":0,\"fFillStyle\":0,\"fX1\":12.7626255948012,\"fY1\":4.37484001103374,\"fX2\":17.2373744051988,\"fY2\":4.66128787385344,\"fX1NDC\":0.442261306532663,\"fY1NDC\":0.940000003948808,\"fX2NDC\":0.557738693467337,\"fY2NDC\":0.995000004768372,\"fBorderSize\":0,\"fInit\":1,\"fShadowColor\":1,\"fCornerRadius\":0,\"fOption\":\"blNDC\",\"fName\":\"title\",\"fTextAngle\":0,\"fTextSize\":0,\"fTextAlign\":22,\"fTextColor\":1,\"fTextFont\":42,\"fLabel\":\"\",\"fLongest\":4,\"fMargin\":0.05,\"fLines\":{\"_typename\":\"TList\",\"name\":\"TList\",\"arr\":[{\"_typename\":\"TLatex\",\"fUniqueID\":0,\"fBits\":0,\"fName\":\"\",\"fTitle\":\"Num \",\"fTextAngle\":0,\"fTextSize\":0,\"fTextAlign\":0,\"fTextColor\":0,\"fTextFont\":0,\"fX\":0,\"fY\":0,\"fLineColor\":1,\"fLineStyle\":1,\"fLineWidth\":2,\"fLimitFactorSize\":3,\"fOriginSize\":0.0467500016093254}],\"opt\":[\"\"]}},{\"_typename\":\"TStyle\",\"fUniqueID\":0,\"fBits\":0,\"fName\":\"Modern\",\"fTitle\":\"Modern Style\",\"fLineColor\":1,\"fLineStyle\":1,\"fLineWidth\":1,\"fFillColor\":19,\"fFillStyle\":1001,\"fMarkerColor\":1,\"fMarkerStyle\":1,\"fMarkerSize\":1,\"fTextAngle\":0,\"fTextSize\":0.05,\"fTextAlign\":11,\"fTextColor\":1,\"fTextFont\":62,\"fXaxis\":{\"_typename\":\"TAttAxis\",\"fNdivisions\":510,\"fAxisColor\":1,\"fLabelColor\":1,\"fLabelFont\":42,\"fLabelOffset\":0.005,\"fLabelSize\":0.035,\"fTickLength\":0.03,\"fTitleOffset\":1,\"fTitleSize\":0.035,\"fTitleColor\":1,\"fTitleFont\":42},\"fYaxis\":{\"_typename\":\"TAttAxis\",\"fNdivisions\":510,\"fAxisColor\":1,\"fLabelColor\":1,\"fLabelFont\":42,\"fLabelOffset\":0.005,\"fLabelSize\":0.035,\"fTickLength\":0.03,\"fTitleOffset\":0,\"fTitleSize\":0.035,\"fTitleColor\":1,\"fTitleFont\":42},\"fZaxis\":{\"_typename\":\"TAttAxis\",\"fNdivisions\":510,\"fAxisColor\":1,\"fLabelColor\":1,\"fLabelFont\":42,\"fLabelOffset\":0.005,\"fLabelSize\":0.035,\"fTickLength\":0.03,\"fTitleOffset\":1,\"fTitleSize\":0.035,\"fTitleColor\":1,\"fTitleFont\":42},\"fBarWidth\":1,\"fBarOffset\":0,\"fColorModelPS\":0,\"fDrawBorder\":0,\"fOptLogx\":0,\"fOptLogy\":0,\"fOptLogz\":0,\"fOptDate\":0,\"fOptStat\":1111,\"fOptTitle\":1,\"fOptFile\":0,\"fOptFit\":0,\"fShowEventStatus\":0,\"fShowEditor\":0,\"fShowToolBar\":0,\"fNumberContours\":20,\"fAttDate\":{\"_typename\":\"TAttText\",\"fTextAngle\":0,\"fTextSize\":0.025,\"fTextAlign\":11,\"fTextColor\":1,\"fTextFont\":62},\"fDateX\":0.01,\"fDateY\":0.01,\"fEndErrorSize\":2,\"fErrorX\":0.5,\"fFuncColor\":2,\"fFuncStyle\":1,\"fFuncWidth\":2,\"fGridColor\":0,\"fGridStyle\":3,\"fGridWidth\":1,\"fLegendBorderSize\":1,\"fLegendFillColor\":0,\"fLegendFont\":42,\"fLegendTextSize\":0,\"fHatchesLineWidth\":1,\"fHatchesSpacing\":1,\"fFrameFillColor\":0,\"fFrameLineColor\":1,\"fFrameFillStyle\":1001,\"fFrameLineStyle\":1,\"fFrameLineWidth\":1,\"fFrameBorderSize\":1,\"fFrameBorderMode\":0,\"fHistFillColor\":0,\"fHistLineColor\":602,\"fHistFillStyle\":1001,\"fHistLineStyle\":1,\"fHistLineWidth\":1,\"fHistMinimumZero\":false,\"fHistTopMargin\":0.05,\"fCanvasPreferGL\":false,\"fCanvasColor\":0,\"fCanvasBorderSize\":2,\"fCanvasBorderMode\":0,\"fCanvasDefH\":500,\"fCanvasDefW\":700,\"fCanvasDefX\":10,\"fCanvasDefY\":10,\"fPadColor\":0,\"fPadBorderSize\":2,\"fPadBorderMode\":0,\"fPadBottomMargin\":0.1,\"fPadTopMargin\":0.1,\"fPadLeftMargin\":0.1,\"fPadRightMargin\":0.1,\"fPadGridX\":false,\"fPadGridY\":false,\"fPadTickX\":0,\"fPadTickY\":0,\"fPaperSizeX\":20,\"fPaperSizeY\":26,\"fScreenFactor\":1,\"fStatColor\":0,\"fStatTextColor\":1,\"fStatBorderSize\":1,\"fStatFont\":42,\"fStatFontSize\":0,\"fStatStyle\":1001,\"fStatFormat\":\"6.4g\",\"fStatX\":0.98,\"fStatY\":0.935,\"fStatW\":0.2,\"fStatH\":0.16,\"fStripDecimals\":true,\"fTitleAlign\":23,\"fTitleColor\":0,\"fTitleTextColor\":1,\"fTitleBorderSize\":0,\"fTitleFont\":42,\"fTitleFontSize\":0.05,\"fTitleStyle\":0,\"fTitleX\":0.5,\"fTitleY\":0.995,\"fTitleW\":0,\"fTitleH\":0,\"fLegoInnerR\":0.5,\"fLineStyles\":[\"\",\"  \",\" 12 12\",\" 4 8\",\" 12 16 4 16\",\" 20 12 4 12\",\" 20 12 4 12 4 12 4 12\",\" 20 20\",\" 20 12 4 12 4 12\",\" 80 20\",\" 80 40 4 40\",\"  \",\"  \",\"  \",\"  \",\"  \",\"  \",\"  \",\"  \",\"  \",\"  \",\"  \",\"  \",\"  \",\"  \",\"  \",\"  \",\"  \",\"  \",\"  \"],\"fHeaderPS\":\"\",\"fTitlePS\":\"\",\"fFitFormat\":\"5.4g\",\"fPaintTextFormat\":\"g\",\"fLineScalePS\":3,\"fJoinLinePS\":0,\"fCapLinePS\":0,\"fTimeOffset\":788918400,\"fImageScaling\":1}],\"opt\":[\"\",\"\",\"same\",\"same\",\"same\",\"same\",\"same\",\"blNDC\",\"\"]},\"fExecs\":null,\"fName\":\"ccx\",\"fTitle\":\"CCX\",\"fNumPaletteColor\":0,\"fNextPaletteColor\":0,\"fDISPLAY\":\"$DISPLAY\",\"fDoubleBuffer\":0,\"fRetained\":true,\"fXsizeUser\":0,\"fYsizeUser\":0,\"fXsizeReal\":20,\"fYsizeReal\":15,\"fWindowTopX\":0,\"fWindowTopY\":0,\"fWindowWidth\":0,\"fWindowHeight\":0,\"fCw\":796,\"fCh\":572,\"fCatt\":{\"_typename\":\"TAttCanvas\",\"fXBetween\":2,\"fYBetween\":2,\"fTitleFromTop\":1.2,\"fXdate\":0.2,\"fYdate\":0.3,\"fAdate\":1},\"kMoveOpaque\":true,\"kResizeOpaque\":true,\"fHighLightColor\":2,\"fBatch\":true,\"kShowEventStatus\":false,\"kAutoExec\":true,\"kMenuBar\":true});\n   Core.settings.HandleKeys = false;\n   Core.draw(\"root_plot_1679920900859\", obj, \"\");\n}\n\nfunction script_load_root_plot_1679920900859(src, on_error) {\n    let script = document.createElement('script');\n    script.src = src;\n    script.onload = function() { display_root_plot_1679920900859(JSROOT); };\n    script.onerror = function() { script.remove(); on_error(); };\n    document.head.appendChild(script);\n}\n\nif (typeof requirejs !== 'undefined') {\n\n    // We are in jupyter notebooks, use require.js which should be configured already\n    requirejs.config({\n       paths: { 'JSRootCore' : [ 'build/jsroot', 'https://root.cern/js/7.2.1/build/jsroot', 'https://jsroot.gsi.de/7.2.1/build/jsroot' ] }\n    })(['JSRootCore'],  function(Core) {\n       display_root_plot_1679920900859(Core);\n    });\n\n} else if (typeof JSROOT !== 'undefined') {\n\n   // JSROOT already loaded, just use it\n   display_root_plot_1679920900859(JSROOT);\n\n} else {\n\n    // We are in jupyterlab without require.js, directly loading jsroot\n    // Jupyterlab might be installed in a different base_url so we need to know it.\n    try {\n        var base_url = JSON.parse(document.getElementById('jupyter-config-data').innerHTML).baseUrl;\n    } catch(_) {\n        var base_url = '/';\n    }\n\n    // Try loading a local version of requirejs and fallback to cdn if not possible.\n    script_load_root_plot_1679920900859(base_url + 'static/build/jsroot.js', function(){\n        console.error('Fail to load JSROOT locally, please check your jupyter_notebook_config.py file');\n        script_load_root_plot_1679920900859('https://root.cern/js/7.2.1/build/jsroot.js', function(){\n            document.getElementById(\"root_plot_1679920900859\").innerHTML = \"Failed to load JSROOT\";\n        });\n    });\n}\n\n</script>\n"
     },
     "metadata": {},
     "output_type": "display_data"
    }
   ],
   "source": [
    "ccx = R.TCanvas(\"ccx\",\"CCX\",800,600)\n",
    "ccx.SetLogy()\n",
    "h_tmp1.Draw()\n",
    "h_tmp2.SetLineColor(R.kRed)\n",
    "h_tmp2.Draw(\"same\")\n",
    "h_tmp1n.SetLineColor(R.kGreen)\n",
    "h_tmp1n.Draw(\"same\")\n",
    "h_tmp1nn.SetLineColor(R.kBlack)\n",
    "h_tmp1nn.Draw(\"same\")\n",
    "h_tmp2n.SetLineColor(R.kOrange)\n",
    "h_tmp2n.Draw(\"same\")\n",
    "h_tmp2nn.SetLineColor(R.kYellow)\n",
    "h_tmp2nn.Draw(\"same\")\n",
    "ccx.Draw()"
   ],
   "metadata": {
    "collapsed": false
   }
  },
  {
   "cell_type": "code",
   "execution_count": 18,
   "outputs": [
    {
     "name": "stdout",
     "output_type": "stream",
     "text": [
      "MminiDST version = 1.0.8\n"
     ]
    },
    {
     "name": "stderr",
     "output_type": "stream",
     "text": [
      "Error in <TBranchElement::InitInfo>: StreamerInfo is not compiled.\n",
      "Error in <TBranchElement::InitInfo>: StreamerInfo is not compiled.\n",
      "Error in <TBranchElement::InitInfo>: StreamerInfo is not compiled.\n",
      "Error in <TBranchElement::InitInfo>: StreamerInfo is not compiled.\n",
      "Error in <TBranchElement::InitInfo>: StreamerInfo is not compiled.\n"
     ]
    }
   ],
   "source": [
    "R.gSystem.Load(\"/data/HPS/lib/libMiniDst\")\n",
    "mdst = R.MiniDst()          # Initiate the class\n",
    "mdst.use_mc_particles=True  # Tell it to look for the MC Particles in the TTree\n",
    "mdst.use_ecal_cluster_uncor = True;\n",
    "mdst.use_mc_scoring =True;\n",
    "mdst.DefineBranchMap()      # Define the map of all the branches to the contents of the TTree\n",
    "mdst.SetBranchAddressesOnTree(ch) # Connect the TChain (which contains the TTree) to the class.\n",
    "print(f\"MminiDST version = {mdst._version_()}\")"
   ],
   "metadata": {
    "collapsed": false
   }
  },
  {
   "cell_type": "code",
   "execution_count": 19,
   "outputs": [
    {
     "ename": "TypeError",
     "evalue": "none of the 2 overloaded methods succeeded. Full details:\n  double& std::vector<double>::operator[](unsigned long __n) =>\n    AbortSignal: abort from C++; program state was reset\n  const double& std::vector<double>::operator[](unsigned long __n) =>\n    ReferenceError: attempt to access a null-pointer",
     "output_type": "error",
     "traceback": [
      "\u001B[0;31m---------------------------------------------------------------------------\u001B[0m",
      "\u001B[0;31mTypeError\u001B[0m                                 Traceback (most recent call last)",
      "File \u001B[0;32m<timed exec>:13\u001B[0m\n",
      "\u001B[0;31mTypeError\u001B[0m: none of the 2 overloaded methods succeeded. Full details:\n  double& std::vector<double>::operator[](unsigned long __n) =>\n    AbortSignal: abort from C++; program state was reset\n  const double& std::vector<double>::operator[](unsigned long __n) =>\n    ReferenceError: attempt to access a null-pointer"
     ]
    },
    {
     "name": "stdout",
     "output_type": "stream",
     "text": [
      "[/Users/maurik/root/master/lib/libCore.so][/Users/maurik/root/master/lib/libCore.so] TUnixSystem::DispatchSignals(ESignals) (no debug info)\n",
      " TUnixSystem::DispatchSignals(ESignals) (no debug info)\n",
      "[/usr/lib/system/libsystem_platform.dylib] _sigtramp (no debug info)\n",
      "[/usr/lib/system/libsystem_platform.dylib] _sigtramp (no debug info)\n",
      "[/usr/lib/system/libsystem_pthread.dylib] pthread_kill (no debug info)\n",
      "[/usr/lib/system/libsystem_pthread.dylib] pthread_kill (no debug info)\n",
      "[/usr/lib/system/libsystem_c.dylib] abort (no debug info)\n",
      "[/usr/lib/system/libsystem_c.dylib] abort (no debug info)\n",
      "[/usr/lib/system/libsystem_malloc.dylib] malloc_vreport (no debug info)\n",
      "[/usr/lib/system/libsystem_malloc.dylib] malloc_zone_error (no debug info)\n",
      "[/usr/lib/system/libsystem_malloc.dylib] nanov2_guard_corruption_detected (no debug info)\n",
      "[/usr/lib/system/libsystem_malloc.dylib] _nanov2_free (no debug info)\n",
      "[/usr/lib/system/libsystem_malloc.dylib] malloc_vreport (no debug info)\n",
      "[/usr/lib/system/libsystem_malloc.dylib] malloc_zone_error (no debug info)\n",
      "[/usr/lib/system/libsystem_malloc.dylib] nanov2_guard_corruption_detected (no debug info)\n",
      "[/usr/lib/system/libsystem_malloc.dylib] _nanov2_free (no debug info)\n",
      "[/usr/lib/libobjc.A.dylib] class_createInstance (no debug info)\n",
      "[/usr/lib/libc++abi.dylib] operator new(unsigned long) (no debug info)\n",
      "[/System/Library/Frameworks/CoreFoundation.framework/Versions/A/CoreFoundation] __CFAllocateObject (no debug info)\n",
      "[/System/Library/Frameworks/CoreFoundation.framework/Versions/A/CoreFoundation] __NSArrayI_new (no debug info)\n",
      "[/Users/maurik/root/master/lib/libCling.so] std::__1::__hash_table<std::__1::basic_string<char, std::__1::char_traits<char>, std::__1::allocator<char> >, std::__1::hash<std::__1::basic_string<char, std::__1::char_traits<char>, std::__1::allocator<char> > >, std::__1::equal_to<std::__1::basic_string<char, std::__1::char_traits<char>, std::__1::allocator<char> > >, std::__1::allocator<std::__1::basic_string<char, std::__1::char_traits<char>, std::__1::allocator<char> > > >::__rehash(unsigned long) (no debug info)\n",
      "[/Users/maurik/root/master/lib/libCling.so] TCling::DeepAutoLoadImpl(char const*, std::__1::unordered_set<std::__1::basic_string<char, std::__1::char_traits<char>, std::__1::allocator<char> >, std::__1::hash<std::__1::basic_string<char, std::__1::char_traits<char>, std::__1::allocator<char> > >, std::__1::equal_to<std::__1::basic_string<char, std::__1::char_traits<char>, std::__1::allocator<char> > >, std::__1::allocator<std::__1::basic_string<char, std::__1::char_traits<char>, std::__1::allocator<char> > > >&, bool) (no debug info)\n",
      "[/Users/maurik/root/master/lib/libCling.so] TCling::AutoLoad(char const*, bool) (no debug info)\n",
      "[/Users/maurik/root/master/lib/libCling.so] TCling::AutoParse(char const*) (no debug info)\n",
      "[/Users/maurik/root/master/lib/libCling.so] TClingCallbacks::tryAutoParseInternal(llvm::StringRef, clang::LookupResult&, clang::Scope*, clang::FileEntry const*) (no debug info)\n",
      "[/Users/maurik/root/master/lib/libCling.so] TClingCallbacks::LookupObject(clang::LookupResult&, clang::Scope*) (no debug info)\n",
      "[/Users/maurik/root/master/lib/libCling.so] cling::MultiplexInterpreterCallbacks::LookupObject(clang::LookupResult&, clang::Scope*) (no debug info)\n",
      "[/Users/maurik/root/master/lib/libCling.so] clang::MultiplexExternalSemaSource::LookupUnqualified(clang::LookupResult&, clang::Scope*) (no debug info)\n",
      "[/Users/maurik/root/master/lib/libCling.so] clang::Sema::LookupName(clang::LookupResult&, clang::Scope*, bool) (no debug info)\n",
      "[/Users/maurik/root/master/lib/libCling.so] clang::Sema::ActOnParamDeclarator(clang::Scope*, clang::Declarator&) (no debug info)\n",
      "[/Users/maurik/root/master/lib/libCling.so] clang::Parser::ParseParameterDeclarationClause(clang::DeclaratorContext, clang::ParsedAttributes&, llvm::SmallVectorImpl<clang::DeclaratorChunk::ParamInfo>&, clang::SourceLocation&) (no debug info)\n",
      "[/Users/maurik/root/master/lib/libCling.so] clang::Parser::ParseFunctionDeclarator(clang::Declarator&, clang::ParsedAttributes&, clang::BalancedDelimiterTracker&, bool, bool) (no debug info)\n",
      "[/Users/maurik/root/master/lib/libCling.so] clang::Parser::ParseDirectDeclarator(clang::Declarator&) (no debug info)\n",
      "[/Users/maurik/root/master/lib/libCling.so] clang::Parser::ParseDeclaratorInternal(clang::Declarator&, void (clang::Parser::*)(clang::Declarator&)) (no debug info)\n",
      "[/Users/maurik/root/master/lib/libCling.so] clang::Parser::ParseDeclGroup(clang::ParsingDeclSpec&, clang::DeclaratorContext, clang::SourceLocation*, clang::Parser::ForRangeInit*) (no debug info)\n",
      "[/Users/maurik/root/master/lib/libCling.so] clang::Parser::ParseDeclOrFunctionDefInternal(clang::ParsedAttributesWithRange&, clang::ParsingDeclSpec&, clang::AccessSpecifier) (no debug info)\n",
      "[/Users/maurik/root/master/lib/libCling.so] clang::Parser::ParseExternalDeclaration(clang::ParsedAttributesWithRange&, clang::ParsingDeclSpec*) (no debug info)\n",
      "[/Users/maurik/root/master/lib/libCling.so] clang::Parser::ParseLinkage(clang::ParsingDeclSpec&, clang::DeclaratorContext) (no debug info)\n",
      "[/Users/maurik/root/master/lib/libCling.so] clang::Parser::ParseDeclOrFunctionDefInternal(clang::ParsedAttributesWithRange&, clang::ParsingDeclSpec&, clang::AccessSpecifier) (no debug info)\n",
      "[/Users/maurik/root/master/lib/libCling.so] clang::Parser::ParseDeclarationOrFunctionDefinition(clang::ParsedAttributesWithRange&, clang::ParsingDeclSpec*, clang::AccessSpecifier) (no debug info)\n",
      "[/Users/maurik/root/master/lib/libCling.so] clang::Parser::ParseExternalDeclaration(clang::ParsedAttributesWithRange&, clang::ParsingDeclSpec*) (no debug info)\n",
      "[/Users/maurik/root/master/lib/libCling.so] clang::Parser::ParseTopLevelDecl(clang::OpaquePtr<clang::DeclGroupRef>&, bool) (no debug info)\n",
      "[/Users/maurik/root/master/lib/libCling.so] cling::IncrementalParser::ParseInternal(llvm::StringRef) (no debug info)\n",
      "[/Users/maurik/root/master/lib/libCling.so] cling::IncrementalParser::Compile(llvm::StringRef, cling::CompilationOptions const&) (no debug info)\n",
      "[/Users/maurik/root/master/lib/libCling.so] cling::Interpreter::declare(std::__1::basic_string<char, std::__1::char_traits<char>, std::__1::allocator<char> > const&, cling::Transaction**) (no debug info)\n",
      "[/Users/maurik/root/master/lib/libCling.so] cling::Interpreter::DeclareCFunction(llvm::StringRef, llvm::StringRef, bool, cling::Transaction*&) (no debug info)\n",
      "[/Users/maurik/root/master/lib/libCling.so] cling::Interpreter::compileFunction(llvm::StringRef, llvm::StringRef, bool, bool) (no debug info)\n",
      "[/Users/maurik/root/master/lib/libCling.so] TClingCallFunc::make_wrapper() (no debug info)\n",
      "[/Users/maurik/root/master/lib/libCling.so] TClingCallFunc::IFacePtr() (no debug info)\n",
      "[/Users/maurik/root/master/lib/libcppyy_backend3_10.so] WrapperCall(long, unsigned long, void*, void*, void*) (no debug info)\n",
      "[/Users/maurik/root/master/lib/libcppyy_backend3_10.so] Cppyy::CallR(long, void*, unsigned long, void*) (no debug info)\n",
      "[/Users/maurik/root/master/lib/libcppyy3_10.so] CPyCppyy::(anonymous namespace)::DoubleRefExecutor::Execute(long, void*, CPyCppyy::CallContext*) (no debug info)\n",
      "[/Users/maurik/root/master/lib/libcppyy3_10.so] CPyCppyy::CPPMethod::ExecuteFast(void*, long, CPyCppyy::CallContext*) (no debug info)\n",
      "[/Users/maurik/root/master/lib/libcppyy3_10.so] CPyCppyy::CPPMethod::ExecuteProtected(void*, long, CPyCppyy::CallContext*) (no debug info)\n",
      "[/Users/maurik/root/master/lib/libcppyy3_10.so] CPyCppyy::CPPMethod::Call(CPyCppyy::CPPInstance*&, _object*, _object*, CPyCppyy::CallContext*) (no debug info)\n",
      "[/Users/maurik/root/master/lib/libcppyy3_10.so] CPyCppyy::(anonymous namespace)::mp_call(CPyCppyy::CPPOverload*, _object*, _object*) (no debug info)\n",
      "[/Users/maurik/miniforge3/envs/C/bin/python3.10] _PyObject_MakeTpCall (no debug info)\n",
      "[/Users/maurik/miniforge3/envs/C/bin/python3.10] object_vacall (no debug info)\n",
      "[/Users/maurik/miniforge3/envs/C/bin/python3.10] PyObject_CallMethodObjArgs (no debug info)\n",
      "[/Users/maurik/root/master/lib/libcppyy3_10.so] (anonymous namespace)::VectorGetItem(CPyCppyy::CPPInstance*, PySliceObject*) (no debug info)\n",
      "[/Users/maurik/miniforge3/envs/C/bin/python3.10] cfunction_vectorcall_O (no debug info)\n",
      "[/Users/maurik/root/master/lib/libcppyy3_10.so] CPyCppyy::im_call(_object*, _object*, _object*) (no debug info)\n",
      "[/Users/maurik/miniforge3/envs/C/bin/python3.10] _PyObject_MakeTpCall (no debug info)\n",
      "[/Users/maurik/miniforge3/envs/C/bin/python3.10] vectorcall_method (no debug info)\n",
      "[/Users/maurik/miniforge3/envs/C/bin/python3.10] slot_mp_subscript (no debug info)\n",
      "[/Users/maurik/miniforge3/envs/C/bin/python3.10] _PyEval_EvalFrameDefault (no debug info)\n",
      "[/Users/maurik/miniforge3/envs/C/bin/python3.10] _PyEval_Vector (no debug info)\n",
      "[/Users/maurik/miniforge3/envs/C/bin/python3.10] PyEval_EvalCode (no debug info)\n",
      "[/Users/maurik/miniforge3/envs/C/bin/python3.10] builtin_exec (no debug info)\n",
      "[/Users/maurik/miniforge3/envs/C/bin/python3.10] cfunction_vectorcall_FASTCALL (no debug info)\n",
      "[/Users/maurik/miniforge3/envs/C/bin/python3.10] call_function (no debug info)\n",
      "[/Users/maurik/miniforge3/envs/C/bin/python3.10] _PyEval_EvalFrameDefault (no debug info)\n",
      "[/Users/maurik/miniforge3/envs/C/bin/python3.10] _PyEval_Vector (no debug info)\n",
      "[/Users/maurik/miniforge3/envs/C/bin/python3.10] method_vectorcall (no debug info)\n",
      "[/Users/maurik/miniforge3/envs/C/bin/python3.10] PyVectorcall_Call (no debug info)\n",
      "[/Users/maurik/miniforge3/envs/C/bin/python3.10] _PyEval_EvalFrameDefault (no debug info)\n",
      "[/Users/maurik/miniforge3/envs/C/bin/python3.10] _PyEval_Vector (no debug info)\n",
      "[/Users/maurik/miniforge3/envs/C/bin/python3.10] call_function (no debug info)\n",
      "[/Users/maurik/miniforge3/envs/C/bin/python3.10] _PyEval_EvalFrameDefault (no debug info)\n",
      "[/Users/maurik/miniforge3/envs/C/bin/python3.10] _PyEval_Vector (no debug info)\n",
      "[/Users/maurik/miniforge3/envs/C/bin/python3.10] PyEval_EvalCode (no debug info)\n",
      "[/Users/maurik/miniforge3/envs/C/bin/python3.10] builtin_exec (no debug info)\n",
      "[/Users/maurik/miniforge3/envs/C/bin/python3.10] cfunction_vectorcall_FASTCALL (no debug info)\n",
      "[/Users/maurik/miniforge3/envs/C/bin/python3.10] call_function (no debug info)\n",
      "[/Users/maurik/miniforge3/envs/C/bin/python3.10] _PyEval_EvalFrameDefault (no debug info)\n",
      "[/Users/maurik/miniforge3/envs/C/bin/python3.10] gen_send_ex2 (no debug info)\n",
      "[/Users/maurik/miniforge3/envs/C/bin/python3.10] _PyEval_EvalFrameDefault (no debug info)\n",
      "[/Users/maurik/miniforge3/envs/C/bin/python3.10] gen_send_ex2 (no debug info)\n",
      "[/Users/maurik/miniforge3/envs/C/bin/python3.10] _PyEval_EvalFrameDefault (no debug info)\n",
      "[/Users/maurik/miniforge3/envs/C/bin/python3.10] gen_send_ex2 (no debug info)\n",
      "[/Users/maurik/miniforge3/envs/C/bin/python3.10] gen_send (no debug info)\n",
      "[/Users/maurik/miniforge3/envs/C/bin/python3.10] method_vectorcall_O (no debug info)\n",
      "[/Users/maurik/miniforge3/envs/C/bin/python3.10] call_function (no debug info)\n",
      "[/Users/maurik/miniforge3/envs/C/bin/python3.10] _PyEval_EvalFrameDefault (no debug info)\n",
      "[/Users/maurik/miniforge3/envs/C/bin/python3.10] _PyEval_Vector (no debug info)\n",
      "[/Users/maurik/miniforge3/envs/C/bin/python3.10] call_function (no debug info)\n",
      "[/Users/maurik/miniforge3/envs/C/bin/python3.10] _PyEval_EvalFrameDefault (no debug info)\n",
      "[/Users/maurik/miniforge3/envs/C/bin/python3.10] _PyEval_Vector (no debug info)\n",
      "[/Users/maurik/miniforge3/envs/C/bin/python3.10] call_function (no debug info)\n",
      "[/Users/maurik/miniforge3/envs/C/bin/python3.10] _PyEval_EvalFrameDefault (no debug info)\n",
      "[/Users/maurik/miniforge3/envs/C/bin/python3.10] _PyEval_Vector (no debug info)\n",
      "[/Users/maurik/miniforge3/envs/C/bin/python3.10] method_vectorcall (no debug info)\n",
      "[/Users/maurik/miniforge3/envs/C/bin/python3.10] PyVectorcall_Call (no debug info)\n",
      "[/Users/maurik/miniforge3/envs/C/bin/python3.10] _PyEval_EvalFrameDefault (no debug info)\n",
      "[/Users/maurik/miniforge3/envs/C/bin/python3.10] _PyEval_Vector (no debug info)\n",
      "[/Users/maurik/miniforge3/envs/C/bin/python3.10] method_vectorcall (no debug info)\n",
      "[/Users/maurik/miniforge3/envs/C/bin/python3.10] call_function (no debug info)\n",
      "[/Users/maurik/miniforge3/envs/C/bin/python3.10] _PyEval_EvalFrameDefault (no debug info)\n",
      "[/Users/maurik/miniforge3/envs/C/bin/python3.10] gen_send_ex2 (no debug info)\n",
      "[/Users/maurik/miniforge3/envs/C/bin/python3.10] _PyEval_EvalFrameDefault (no debug info)\n",
      "[/Users/maurik/miniforge3/envs/C/bin/python3.10] gen_send_ex2 (no debug info)\n",
      "[/Users/maurik/miniforge3/envs/C/bin/python3.10] _PyEval_EvalFrameDefault (no debug info)\n",
      "[/Users/maurik/miniforge3/envs/C/bin/python3.10] gen_send_ex2 (no debug info)\n",
      "[/Users/maurik/miniforge3/envs/C/bin/python3.10] _PyEval_EvalFrameDefault (no debug info)\n",
      "[/Users/maurik/miniforge3/envs/C/bin/python3.10] gen_send_ex2 (no debug info)\n",
      "[/Users/maurik/miniforge3/envs/C/bin/python3.10] _PyEval_EvalFrameDefault (no debug info)\n",
      "[/Users/maurik/miniforge3/envs/C/bin/python3.10] gen_send_ex2 (no debug info)\n",
      "[/Users/maurik/miniforge3/envs/C/lib/python3.10/lib-dynload/_asyncio.cpython-310-darwin.so] task_step (no debug info)\n",
      "[/Users/maurik/miniforge3/envs/C/lib/python3.10/lib-dynload/_asyncio.cpython-310-darwin.so] task_wakeup (no debug info)\n",
      "[/Users/maurik/miniforge3/envs/C/bin/python3.10] cfunction_vectorcall_O (no debug info)\n",
      "[/Users/maurik/miniforge3/envs/C/bin/python3.10] context_run (no debug info)\n",
      "[/Users/maurik/miniforge3/envs/C/bin/python3.10] cfunction_vectorcall_FASTCALL_KEYWORDS (no debug info)\n",
      "[/Users/maurik/miniforge3/envs/C/bin/python3.10] _PyEval_EvalFrameDefault (no debug info)\n",
      "[/Users/maurik/miniforge3/envs/C/bin/python3.10] _PyEval_Vector (no debug info)\n",
      "[/Users/maurik/miniforge3/envs/C/bin/python3.10] call_function (no debug info)\n",
      "[/Users/maurik/miniforge3/envs/C/bin/python3.10] _PyEval_EvalFrameDefault (no debug info)\n",
      "[/Users/maurik/miniforge3/envs/C/bin/python3.10] _PyEval_Vector (no debug info)\n",
      "[/Users/maurik/miniforge3/envs/C/bin/python3.10] call_function (no debug info)\n",
      "[/Users/maurik/miniforge3/envs/C/bin/python3.10] _PyEval_EvalFrameDefault (no debug info)\n",
      "[/Users/maurik/miniforge3/envs/C/bin/python3.10] _PyEval_Vector (no debug info)\n",
      "[/Users/maurik/miniforge3/envs/C/bin/python3.10] call_function (no debug info)\n",
      "[/Users/maurik/miniforge3/envs/C/bin/python3.10] _PyEval_EvalFrameDefault (no debug info)\n",
      "[/Users/maurik/miniforge3/envs/C/bin/python3.10] _PyEval_Vector (no debug info)\n",
      "[/Users/maurik/miniforge3/envs/C/bin/python3.10] call_function (no debug info)\n",
      "[/Users/maurik/miniforge3/envs/C/bin/python3.10] _PyEval_EvalFrameDefault (no debug info)\n",
      "[/Users/maurik/miniforge3/envs/C/bin/python3.10] _PyEval_Vector (no debug info)\n",
      "[/Users/maurik/miniforge3/envs/C/bin/python3.10] call_function (no debug info)\n",
      "[/System/Library/PrivateFrameworks/MetadataUtilities.framework/Versions/A/MetadataUtilities] copyObject (no debug info)\n",
      "[/System/Library/PrivateFrameworks/MetadataUtilities.framework/Versions/A/MetadataUtilities] copyObject (no debug info)\n",
      "[/System/Library/PrivateFrameworks/MetadataUtilities.framework/Versions/A/MetadataUtilities] copyObject (no debug info)\n",
      "[/System/Library/PrivateFrameworks/MetadataUtilities.framework/Versions/A/MetadataUtilities] _MDPlistBytesCopyPlistAtIndexWithCallbacksAndAllocator (no debug info)\n",
      "[/System/Library/PrivateFrameworks/MetadataUtilities.framework/Versions/A/MetadataUtilities] -[_MDPlistBytes enumerateQueryResults:attributeSize:stringCache:usingBlock:] (no debug info)\n",
      "[/System/Library/PrivateFrameworks/MetadataUtilities.framework/Versions/A/MetadataUtilities] _MDPlistEnumerateQueryResults (no debug info)\n",
      "[/System/Library/Frameworks/CoreServices.framework/Versions/A/Frameworks/Metadata.framework/Versions/A/Metadata] queryOIDArrayParallelApplier (no debug info)\n",
      "[/usr/lib/system/libdispatch.dylib] _dispatch_call_block_and_release (no debug info)\n",
      "[/usr/lib/system/libdispatch.dylib] _dispatch_client_callout (no debug info)\n",
      "[/usr/lib/system/libdispatch.dylib] _dispatch_root_queue_drain (no debug info)\n",
      "[/usr/lib/system/libdispatch.dylib] _dispatch_worker_thread2 (no debug info)\n",
      "[/usr/lib/system/libsystem_pthread.dylib] _pthread_wqthread (no debug info)\n",
      "[/usr/lib/system/libsystem_pthread.dylib] start_wqthread (no debug info)\n",
      "[/Users/maurik/root/master/lib/libCore.so] TUnixSystem::DispatchSignals(ESignals) (no debug info)\n",
      "[/usr/lib/system/libsystem_platform.dylib] _sigtramp (no debug info)\n",
      "[/usr/lib/system/libsystem_pthread.dylib] pthread_kill (no debug info)\n",
      "[/usr/lib/system/libsystem_c.dylib] abort (no debug info)\n",
      "[/usr/lib/system/libsystem_malloc.dylib] malloc_vreport (no debug info)\n",
      "[/usr/lib/system/libsystem_malloc.dylib] malloc_zone_error (no debug info)\n",
      "[/usr/lib/system/libsystem_malloc.dylib] nanov2_guard_corruption_detected (no debug info)\n",
      "[/usr/lib/system/libsystem_malloc.dylib] _nanov2_free (no debug info)\n",
      "[/usr/lib/libobjc.A.dylib] class_createInstance (no debug info)\n",
      "[/System/Library/Frameworks/CoreFoundation.framework/Versions/A/CoreFoundation] __CFAllocateObject (no debug info)\n",
      "[/System/Library/Frameworks/CoreFoundation.framework/Versions/A/CoreFoundation] __NSArrayI_new (no debug info)\n",
      "[/System/Library/PrivateFrameworks/MetadataUtilities.framework/Versions/A/MetadataUtilities] copyObject (no debug info)\n",
      "[/System/Library/PrivateFrameworks/MetadataUtilities.framework/Versions/A/MetadataUtilities] copyObject (no debug info)\n",
      "[/System/Library/PrivateFrameworks/MetadataUtilities.framework/Versions/A/MetadataUtilities] copyObject (no debug info)\n",
      "[/System/Library/PrivateFrameworks/MetadataUtilities.framework/Versions/A/MetadataUtilities] _MDPlistBytesCopyPlistAtIndexWithCallbacksAndAllocator (no debug info)\n",
      "[/System/Library/PrivateFrameworks/MetadataUtilities.framework/Versions/A/MetadataUtilities] -[_MDPlistBytes enumerateQueryResults:attributeSize:stringCache:usingBlock:] (no debug info)\n",
      "[/System/Library/PrivateFrameworks/MetadataUtilities.framework/Versions/A/MetadataUtilities] _MDPlistEnumerateQueryResults (no debug info)\n",
      "[/System/Library/Frameworks/CoreServices.framework/Versions/A/Frameworks/Metadata.framework/Versions/A/Metadata] queryOIDArrayParallelApplier (no debug info)\n",
      "[/usr/lib/system/libdispatch.dylib] _dispatch_call_block_and_release (no debug info)\n",
      "[/usr/lib/system/libdispatch.dylib] _dispatch_client_callout (no debug info)\n",
      "[/usr/lib/system/libdispatch.dylib] _dispatch_root_queue_drain (no debug info)\n",
      "[/usr/lib/system/libdispatch.dylib] _dispatch_worker_thread2 (no debug info)\n",
      "[/usr/lib/system/libsystem_pthread.dylib] _pthread_wqthread (no debug info)\n",
      "[/usr/lib/system/libsystem_pthread.dylib] start_wqthread (no debug info)\n"
     ]
    },
    {
     "name": "stderr",
     "output_type": "stream",
     "text": [
      "Warning in <TROOT::Append>: Replacing existing TH1: hist_e (Potential memory leak).\n",
      "Warning in <TROOT::Append>: Replacing existing TH1: hist_e2 (Potential memory leak).\n",
      "Warning in <TROOT::Append>: Replacing existing TH1: hist_n (Potential memory leak).\n",
      "Warning in <TROOT::Append>: Replacing existing TH1: hist_n (Potential memory leak).\n",
      "Warning in <TROOT::Append>: Replacing existing TH1: hist_pn (Potential memory leak).\n",
      "Warning in <TROOT::Append>: Replacing existing TH1: hist_pn2 (Potential memory leak).\n",
      "Error in <TBranchElement::InitInfo>: StreamerInfo is not compiled.\n",
      "Error in <TBranchElement::InitInfo>: StreamerInfo is not compiled.\n",
      "Error in <TBranchElement::InitInfo>: StreamerInfo is not compiled.\n",
      "Error in <TBranchElement::InitInfo>: StreamerInfo is not compiled.\n",
      "Error in <TBranchElement::InitInfo>: StreamerInfo is not compiled.\n",
      " *** Break *** abort\n",
      " *** Break *** abort\n",
      " *** Break *** abort\n"
     ]
    }
   ],
   "source": [
    "%%time\n",
    "hist_e = R.TH1D(\"hist_e\",\"Score plane energy of primary hit\", 1000, -0.1,3.2)\n",
    "hist_e2 = R.TH1D(\"hist_e2\",\"Score plane energy of secondary hits\", 1000, -0.1, 3.2)\n",
    "hist_n = R.TH1D(\"hist_n\",\"Number of hits by primary\",21,-0.5,20.5)\n",
    "hist_n2 = R.TH1D(\"hist_n\",\"Number of hits by secondary\",21,-0.5,20.5)\n",
    "hist_pn = R.TH1D(\"hist_pn\",\"Number of  primary\",21,-0.5,20.5)\n",
    "hist_pn2 = R.TH1D(\"hist_pn2\",\"Number of  secondary\",21,-0.5,20.5)\n",
    "for event in range(ch.GetEntries()):\n",
    "    ch.GetEntry(event)\n",
    "    # Find the primary indices:\n",
    "    p_count = 0\n",
    "    p_count2 = 0\n",
    "    for i_part in range(mdst.mc_part_z.size()):\n",
    "        if abs(mdst.mc_part_z[i_part]) < 1e-6:\n",
    "            p_count += 1\n",
    "            e_sum = 0.\n",
    "            count = 0\n",
    "            count_secondary = 0.\n",
    "            for i_score in range(mdst.mc_score_pz.size()):\n",
    "                if mdst.mc_score_z[i_score] > 1400. and mdst.mc_score_pz[i_score] > 0.01 and mdst.mc_score_part_idx[i_score] == i_part:\n",
    "                    e_sum += R.TMath.Sqrt(mdst.mc_score_px[i_score]*mdst.mc_score_px[i_score]+mdst.mc_score_py[i_score]*mdst.mc_score_py[i_score]+mdst.mc_score_pz[i_score]*mdst.mc_score_pz[i_score])\n",
    "                    count += 1\n",
    "            hist_e.Fill(e_sum)\n",
    "            hist_n.Fill(count)\n",
    "        else:\n",
    "            p_count2 += 1\n",
    "            e_sum_secondary = 0.\n",
    "            count_secondary = 0\n",
    "            for i_score in range(mdst.mc_score_pz.size()):\n",
    "                if mdst.mc_score_z[i_score] > 1400. and mdst.mc_score_pz[i_score] > 0.01 and mdst.mc_score_part_idx[i_score] == i_part:\n",
    "                    count_secondary += 1\n",
    "                    e_sum_secondary += R.TMath.Sqrt(mdst.mc_score_px[i_score]*mdst.mc_score_px[i_score]+mdst.mc_score_py[i_score]*mdst.mc_score_py[i_score]+mdst.mc_score_pz[i_score]*mdst.mc_score_pz[i_score])\n",
    "            hist_e2.Fill(e_sum_secondary)\n",
    "            hist_n2.Fill(count_secondary)\n",
    "\n",
    "    hist_pn.Fill(p_count)\n",
    "    hist_pn2.Fill(p_count2)"
   ],
   "metadata": {
    "collapsed": false
   }
  },
  {
   "cell_type": "code",
   "execution_count": 12,
   "outputs": [
    {
     "name": "stderr",
     "output_type": "stream",
     "text": [
      "Warning in <TCanvas::Constructor>: Deleting canvas with same name: cc1\n"
     ]
    },
    {
     "data": {
      "text/plain": "<IPython.core.display.HTML object>",
      "text/html": "\n\n<div id=\"root_plot_1679759250657\"\n     style=\"width: 1196px; height: 572px\">\n</div>\n<script>\n\nfunction display_root_plot_1679759250657(Core) {\n   let obj = Core.parse({\"_typename\":\"TCanvas\",\"fUniqueID\":0,\"fBits\":3342344,\"fLineColor\":1,\"fLineStyle\":1,\"fLineWidth\":1,\"fFillColor\":0,\"fFillStyle\":1001,\"fLeftMargin\":0.1,\"fRightMargin\":0.1,\"fBottomMargin\":0.1,\"fTopMargin\":0.1,\"fXfile\":2,\"fYfile\":2,\"fAfile\":1,\"fXstat\":0.99,\"fYstat\":0.99,\"fAstat\":2,\"fFrameFillColor\":0,\"fFrameLineColor\":1,\"fFrameFillStyle\":1001,\"fFrameLineStyle\":1,\"fFrameLineWidth\":1,\"fFrameBorderSize\":1,\"fFrameBorderMode\":0,\"fX1\":0,\"fY1\":0,\"fX2\":1,\"fY2\":1,\"fXtoAbsPixelk\":5e-5,\"fXtoPixelk\":5e-5,\"fXtoPixel\":1196,\"fYtoAbsPixelk\":572.00005,\"fYtoPixelk\":572.00005,\"fYtoPixel\":-572,\"fUtoAbsPixelk\":5e-5,\"fUtoPixelk\":5e-5,\"fUtoPixel\":1196,\"fVtoAbsPixelk\":572.00005,\"fVtoPixelk\":572,\"fVtoPixel\":-572,\"fAbsPixeltoXk\":0,\"fPixeltoXk\":0,\"fPixeltoX\":8.36120401337793e-4,\"fAbsPixeltoYk\":1,\"fPixeltoYk\":0,\"fPixeltoY\":-0.00174825174825175,\"fXlowNDC\":0,\"fYlowNDC\":0,\"fXUpNDC\":1,\"fYUpNDC\":1,\"fWNDC\":1,\"fHNDC\":1,\"fAbsXlowNDC\":0,\"fAbsYlowNDC\":0,\"fAbsWNDC\":1,\"fAbsHNDC\":1,\"fUxmin\":0,\"fUymin\":0,\"fUxmax\":1,\"fUymax\":1,\"fTheta\":30,\"fPhi\":30,\"fAspectRatio\":0,\"fNumber\":0,\"fTickx\":0,\"fTicky\":0,\"fLogx\":0,\"fLogy\":0,\"fLogz\":0,\"fPadPaint\":0,\"fCrosshair\":0,\"fCrosshairPos\":0,\"fBorderSize\":2,\"fBorderMode\":0,\"fModified\":false,\"fGridx\":false,\"fGridy\":false,\"fAbsCoord\":false,\"fEditable\":true,\"fFixedAspectRatio\":false,\"fPrimitives\":{\"_typename\":\"TList\",\"name\":\"TList\",\"arr\":[{\"_typename\":\"TPad\",\"fUniqueID\":0,\"fBits\":9,\"fLineColor\":1,\"fLineStyle\":1,\"fLineWidth\":1,\"fFillColor\":0,\"fFillStyle\":1001,\"fLeftMargin\":0.1,\"fRightMargin\":0.1,\"fBottomMargin\":0.1,\"fTopMargin\":0.1,\"fXfile\":2,\"fYfile\":2,\"fAfile\":1,\"fXstat\":0.99,\"fYstat\":0.99,\"fAstat\":2,\"fFrameFillColor\":0,\"fFrameLineColor\":1,\"fFrameFillStyle\":1001,\"fFrameLineStyle\":1,\"fFrameLineWidth\":1,\"fFrameBorderSize\":1,\"fFrameBorderMode\":0,\"fX1\":-3.12500019557775,\"fY1\":-0.794897499592722,\"fX2\":23.1250001955778,\"fY2\":7.15407702253867,\"fXtoAbsPixelk\":80.3029101980211,\"fXtoPixelk\":68.3429104653479,\"fXtoPixel\":21.8697139801979,\"fYtoAbsPixelk\":510.224046761083,\"fYtoPixelk\":504.504046888935,\"fYtoPixel\":-70.5197882689148,\"fUtoAbsPixelk\":11.9600497326732,\"fUtoPixelk\":5e-5,\"fUtoPixel\":574.080000534654,\"fVtoAbsPixelk\":566.280050127852,\"fVtoPixelk\":560.560000255704,\"fVtoPixel\":-560.560000255704,\"fAbsPixeltoXk\":-3.6718751909939,\"fPixeltoXk\":-3.12500019557775,\"fPixeltoX\":0.0457253350869361,\"fAbsPixeltoYk\":7.23518900560839,\"fPixeltoYk\":-0.794897499592722,\"fPixeltoY\":-0.0141804169375364,\"fXlowNDC\":0.00999999977648258,\"fYlowNDC\":0.00999999977648258,\"fXUpNDC\":0.490000000223517,\"fYUpNDC\":0.990000000223517,\"fWNDC\":0.480000000447035,\"fHNDC\":0.980000000447035,\"fAbsXlowNDC\":0.00999999977648258,\"fAbsYlowNDC\":0.00999999977648258,\"fAbsWNDC\":0.480000000447035,\"fAbsHNDC\":0.980000000447035,\"fUxmin\":-0.5,\"fUymin\":0,\"fUxmax\":20.5,\"fUymax\":6.35917952294595,\"fTheta\":30,\"fPhi\":30,\"fAspectRatio\":0,\"fNumber\":1,\"fTickx\":0,\"fTicky\":0,\"fLogx\":0,\"fLogy\":1,\"fLogz\":0,\"fPadPaint\":0,\"fCrosshair\":0,\"fCrosshairPos\":0,\"fBorderSize\":2,\"fBorderMode\":0,\"fModified\":false,\"fGridx\":false,\"fGridy\":false,\"fAbsCoord\":false,\"fEditable\":true,\"fFixedAspectRatio\":false,\"fPrimitives\":{\"_typename\":\"TList\",\"name\":\"TList\",\"arr\":[{\"_typename\":\"TFrame\",\"fUniqueID\":0,\"fBits\":8,\"fLineColor\":1,\"fLineStyle\":1,\"fLineWidth\":1,\"fFillColor\":0,\"fFillStyle\":1001,\"fX1\":-0.5,\"fY1\":0,\"fX2\":20.5,\"fY2\":6.35917952294595,\"fBorderSize\":1,\"fBorderMode\":0},{\"_typename\":\"TH1D\",\"fUniqueID\":0,\"fBits\":8,\"fName\":\"hist_n\",\"fTitle\":\"Number of hits by secondary\",\"fLineColor\":416,\"fLineStyle\":1,\"fLineWidth\":1,\"fFillColor\":0,\"fFillStyle\":1001,\"fMarkerColor\":1,\"fMarkerStyle\":1,\"fMarkerSize\":1,\"fNcells\":23,\"fXaxis\":{\"_typename\":\"TAxis\",\"fUniqueID\":0,\"fBits\":0,\"fName\":\"xaxis\",\"fTitle\":\"\",\"fNdivisions\":510,\"fAxisColor\":1,\"fLabelColor\":1,\"fLabelFont\":42,\"fLabelOffset\":0.005,\"fLabelSize\":0.035,\"fTickLength\":0.03,\"fTitleOffset\":1,\"fTitleSize\":0.035,\"fTitleColor\":1,\"fTitleFont\":42,\"fNbins\":21,\"fXmin\":-0.5,\"fXmax\":20.5,\"fXbins\":[],\"fFirst\":0,\"fLast\":0,\"fBits2\":0,\"fTimeDisplay\":false,\"fTimeFormat\":\"\",\"fLabels\":null,\"fModLabs\":null},\"fYaxis\":{\"_typename\":\"TAxis\",\"fUniqueID\":0,\"fBits\":0,\"fName\":\"yaxis\",\"fTitle\":\"\",\"fNdivisions\":510,\"fAxisColor\":1,\"fLabelColor\":1,\"fLabelFont\":42,\"fLabelOffset\":0.005,\"fLabelSize\":0.035,\"fTickLength\":0.03,\"fTitleOffset\":0,\"fTitleSize\":0.035,\"fTitleColor\":1,\"fTitleFont\":42,\"fNbins\":1,\"fXmin\":0,\"fXmax\":1,\"fXbins\":[],\"fFirst\":0,\"fLast\":0,\"fBits2\":0,\"fTimeDisplay\":false,\"fTimeFormat\":\"\",\"fLabels\":null,\"fModLabs\":null},\"fZaxis\":{\"_typename\":\"TAxis\",\"fUniqueID\":0,\"fBits\":0,\"fName\":\"zaxis\",\"fTitle\":\"\",\"fNdivisions\":510,\"fAxisColor\":1,\"fLabelColor\":1,\"fLabelFont\":42,\"fLabelOffset\":0.005,\"fLabelSize\":0.035,\"fTickLength\":0.03,\"fTitleOffset\":1,\"fTitleSize\":0.035,\"fTitleColor\":1,\"fTitleFont\":42,\"fNbins\":1,\"fXmin\":0,\"fXmax\":1,\"fXbins\":[],\"fFirst\":0,\"fLast\":0,\"fBits2\":0,\"fTimeDisplay\":false,\"fTimeFormat\":\"\",\"fLabels\":null,\"fModLabs\":null},\"fBarOffset\":0,\"fBarWidth\":1000,\"fEntries\":1263033,\"fTsumw\":1263033,\"fTsumw2\":1263033,\"fTsumwx\":64380,\"fTsumwx2\":88190,\"fMaximum\":-1111,\"fMinimum\":-1111,\"fNormFactor\":0,\"fContour\":[],\"fSumw2\":[],\"fOption\":\"\",\"fFunctions\":{\"_typename\":\"TList\",\"name\":\"TList\",\"arr\":[{\"_typename\":\"TPaveStats\",\"fUniqueID\":0,\"fBits\":9,\"fLineColor\":1,\"fLineStyle\":1,\"fLineWidth\":1,\"fFillColor\":0,\"fFillStyle\":1001,\"fX1\":17.3500005319715,\"fY1\":5.36555780243869,\"fX2\":22.6000006884337,\"fY2\":6.63739369755196,\"fX1NDC\":0.780000016093254,\"fY1NDC\":0.775000005960464,\"fX2NDC\":0.980000019073486,\"fY2NDC\":0.935000002384186,\"fBorderSize\":1,\"fInit\":1,\"fShadowColor\":1,\"fCornerRadius\":0,\"fOption\":\"brNDC\",\"fName\":\"stats\",\"fTextAngle\":0,\"fTextSize\":0,\"fTextAlign\":12,\"fTextColor\":1,\"fTextFont\":42,\"fLabel\":\"\",\"fLongest\":18,\"fMargin\":0.05,\"fLines\":{\"_typename\":\"TList\",\"name\":\"TList\",\"arr\":[{\"_typename\":\"TLatex\",\"fUniqueID\":0,\"fBits\":0,\"fName\":\"\",\"fTitle\":\"hist_n\",\"fTextAngle\":0,\"fTextSize\":0.0368,\"fTextAlign\":0,\"fTextColor\":0,\"fTextFont\":0,\"fX\":0,\"fY\":0,\"fLineColor\":1,\"fLineStyle\":1,\"fLineWidth\":2,\"fLimitFactorSize\":3,\"fOriginSize\":0.0368000008165836},{\"_typename\":\"TLatex\",\"fUniqueID\":0,\"fBits\":0,\"fName\":\"\",\"fTitle\":\"Entries = 1263033\",\"fTextAngle\":0,\"fTextSize\":0,\"fTextAlign\":0,\"fTextColor\":0,\"fTextFont\":0,\"fX\":0,\"fY\":0,\"fLineColor\":1,\"fLineStyle\":1,\"fLineWidth\":2,\"fLimitFactorSize\":3,\"fOriginSize\":0.04},{\"_typename\":\"TLatex\",\"fUniqueID\":0,\"fBits\":0,\"fName\":\"\",\"fTitle\":\"Mean  = 0.05097\",\"fTextAngle\":0,\"fTextSize\":0,\"fTextAlign\":0,\"fTextColor\":0,\"fTextFont\":0,\"fX\":0,\"fY\":0,\"fLineColor\":1,\"fLineStyle\":1,\"fLineWidth\":2,\"fLimitFactorSize\":3,\"fOriginSize\":0.04},{\"_typename\":\"TLatex\",\"fUniqueID\":0,\"fBits\":0,\"fName\":\"\",\"fTitle\":\"Std Dev   = 0.2593\",\"fTextAngle\":0,\"fTextSize\":0,\"fTextAlign\":0,\"fTextColor\":0,\"fTextFont\":0,\"fX\":0,\"fY\":0,\"fLineColor\":1,\"fLineStyle\":1,\"fLineWidth\":2,\"fLimitFactorSize\":3,\"fOriginSize\":0.04}],\"opt\":[\"\",\"\",\"\",\"\"]},\"fOptFit\":0,\"fOptStat\":1111,\"fFitFormat\":\"5.4g\",\"fStatFormat\":\"6.4g\",\"fParent\":{\"$ref\":5}}],\"opt\":[\"brNDC\"]},\"fBufferSize\":0,\"fBuffer\":[],\"fBinStatErrOpt\":0,\"fStatOverflows\":2,\"fArray\":{\"$arr\":\"Float64\",\"len\":23,\"p\":1,\"v\":[1206787,50692,3766,1253,371,109,26,22,5,2]}},{\"_typename\":\"TH1D\",\"fUniqueID\":0,\"fBits\":8,\"fName\":\"hist_pn\",\"fTitle\":\"Number of  primary\",\"fLineColor\":632,\"fLineStyle\":1,\"fLineWidth\":2,\"fFillColor\":0,\"fFillStyle\":1001,\"fMarkerColor\":1,\"fMarkerStyle\":1,\"fMarkerSize\":1,\"fNcells\":23,\"fXaxis\":{\"_typename\":\"TAxis\",\"fUniqueID\":0,\"fBits\":0,\"fName\":\"xaxis\",\"fTitle\":\"\",\"fNdivisions\":510,\"fAxisColor\":1,\"fLabelColor\":1,\"fLabelFont\":42,\"fLabelOffset\":0.005,\"fLabelSize\":0.035,\"fTickLength\":0.03,\"fTitleOffset\":1,\"fTitleSize\":0.035,\"fTitleColor\":1,\"fTitleFont\":42,\"fNbins\":21,\"fXmin\":-0.5,\"fXmax\":20.5,\"fXbins\":[],\"fFirst\":0,\"fLast\":0,\"fBits2\":0,\"fTimeDisplay\":false,\"fTimeFormat\":\"\",\"fLabels\":null,\"fModLabs\":null},\"fYaxis\":{\"_typename\":\"TAxis\",\"fUniqueID\":0,\"fBits\":0,\"fName\":\"yaxis\",\"fTitle\":\"\",\"fNdivisions\":510,\"fAxisColor\":1,\"fLabelColor\":1,\"fLabelFont\":42,\"fLabelOffset\":0.005,\"fLabelSize\":0.035,\"fTickLength\":0.03,\"fTitleOffset\":0,\"fTitleSize\":0.035,\"fTitleColor\":1,\"fTitleFont\":42,\"fNbins\":1,\"fXmin\":0,\"fXmax\":1,\"fXbins\":[],\"fFirst\":0,\"fLast\":0,\"fBits2\":0,\"fTimeDisplay\":false,\"fTimeFormat\":\"\",\"fLabels\":null,\"fModLabs\":null},\"fZaxis\":{\"_typename\":\"TAxis\",\"fUniqueID\":0,\"fBits\":0,\"fName\":\"zaxis\",\"fTitle\":\"\",\"fNdivisions\":510,\"fAxisColor\":1,\"fLabelColor\":1,\"fLabelFont\":42,\"fLabelOffset\":0.005,\"fLabelSize\":0.035,\"fTickLength\":0.03,\"fTitleOffset\":1,\"fTitleSize\":0.035,\"fTitleColor\":1,\"fTitleFont\":42,\"fNbins\":1,\"fXmin\":0,\"fXmax\":1,\"fXbins\":[],\"fFirst\":0,\"fLast\":0,\"fBits2\":0,\"fTimeDisplay\":false,\"fTimeFormat\":\"\",\"fLabels\":null,\"fModLabs\":null},\"fBarOffset\":0,\"fBarWidth\":1000,\"fEntries\":31904,\"fTsumw\":31904,\"fTsumw2\":31904,\"fTsumwx\":31904,\"fTsumwx2\":31904,\"fMaximum\":-1111,\"fMinimum\":-1111,\"fNormFactor\":0,\"fContour\":[],\"fSumw2\":[],\"fOption\":\"\",\"fFunctions\":{\"_typename\":\"TList\",\"name\":\"TList\",\"arr\":[],\"opt\":[]},\"fBufferSize\":0,\"fBuffer\":[],\"fBinStatErrOpt\":0,\"fStatOverflows\":2,\"fArray\":{\"$arr\":\"Float64\",\"len\":23,\"p\":2,\"v\":31904}},{\"_typename\":\"TH1D\",\"fUniqueID\":0,\"fBits\":8,\"fName\":\"hist_pn2\",\"fTitle\":\"Number of  secondary\",\"fLineColor\":800,\"fLineStyle\":1,\"fLineWidth\":3,\"fFillColor\":0,\"fFillStyle\":1001,\"fMarkerColor\":1,\"fMarkerStyle\":1,\"fMarkerSize\":1,\"fNcells\":23,\"fXaxis\":{\"_typename\":\"TAxis\",\"fUniqueID\":0,\"fBits\":0,\"fName\":\"xaxis\",\"fTitle\":\"\",\"fNdivisions\":510,\"fAxisColor\":1,\"fLabelColor\":1,\"fLabelFont\":42,\"fLabelOffset\":0.005,\"fLabelSize\":0.035,\"fTickLength\":0.03,\"fTitleOffset\":1,\"fTitleSize\":0.035,\"fTitleColor\":1,\"fTitleFont\":42,\"fNbins\":21,\"fXmin\":-0.5,\"fXmax\":20.5,\"fXbins\":[],\"fFirst\":0,\"fLast\":0,\"fBits2\":0,\"fTimeDisplay\":false,\"fTimeFormat\":\"\",\"fLabels\":null,\"fModLabs\":null},\"fYaxis\":{\"_typename\":\"TAxis\",\"fUniqueID\":0,\"fBits\":0,\"fName\":\"yaxis\",\"fTitle\":\"\",\"fNdivisions\":510,\"fAxisColor\":1,\"fLabelColor\":1,\"fLabelFont\":42,\"fLabelOffset\":0.005,\"fLabelSize\":0.035,\"fTickLength\":0.03,\"fTitleOffset\":0,\"fTitleSize\":0.035,\"fTitleColor\":1,\"fTitleFont\":42,\"fNbins\":1,\"fXmin\":0,\"fXmax\":1,\"fXbins\":[],\"fFirst\":0,\"fLast\":0,\"fBits2\":0,\"fTimeDisplay\":false,\"fTimeFormat\":\"\",\"fLabels\":null,\"fModLabs\":null},\"fZaxis\":{\"_typename\":\"TAxis\",\"fUniqueID\":0,\"fBits\":0,\"fName\":\"zaxis\",\"fTitle\":\"\",\"fNdivisions\":510,\"fAxisColor\":1,\"fLabelColor\":1,\"fLabelFont\":42,\"fLabelOffset\":0.005,\"fLabelSize\":0.035,\"fTickLength\":0.03,\"fTitleOffset\":1,\"fTitleSize\":0.035,\"fTitleColor\":1,\"fTitleFont\":42,\"fNbins\":1,\"fXmin\":0,\"fXmax\":1,\"fXbins\":[],\"fFirst\":0,\"fLast\":0,\"fBits2\":0,\"fTimeDisplay\":false,\"fTimeFormat\":\"\",\"fLabels\":null,\"fModLabs\":null},\"fBarOffset\":0,\"fBarWidth\":1000,\"fEntries\":31904,\"fTsumw\":26937,\"fTsumw2\":26937,\"fTsumwx\":138828,\"fTsumwx2\":1426188,\"fMaximum\":-1111,\"fMinimum\":-1111,\"fNormFactor\":0,\"fContour\":[],\"fSumw2\":[],\"fOption\":\"\",\"fFunctions\":{\"_typename\":\"TList\",\"name\":\"TList\",\"arr\":[],\"opt\":[]},\"fBufferSize\":0,\"fBuffer\":[],\"fBinStatErrOpt\":0,\"fStatOverflows\":2,\"fArray\":{\"$arr\":\"Float64\",\"len\":23,\"p\":1,\"v\":[6627,3892,1558,639,1352,924,2254,1420,1764,1022,1066,775,797,555,561,475,372,262,246,196,180,4967]}},{\"_typename\":\"TH1D\",\"fUniqueID\":0,\"fBits\":8,\"fName\":\"hist_n\",\"fTitle\":\"Number of hits by primary\",\"fLineColor\":600,\"fLineStyle\":1,\"fLineWidth\":1,\"fFillColor\":0,\"fFillStyle\":1001,\"fMarkerColor\":1,\"fMarkerStyle\":1,\"fMarkerSize\":1,\"fNcells\":23,\"fXaxis\":{\"_typename\":\"TAxis\",\"fUniqueID\":0,\"fBits\":0,\"fName\":\"xaxis\",\"fTitle\":\"\",\"fNdivisions\":510,\"fAxisColor\":1,\"fLabelColor\":1,\"fLabelFont\":42,\"fLabelOffset\":0.005,\"fLabelSize\":0.035,\"fTickLength\":0.03,\"fTitleOffset\":1,\"fTitleSize\":0.035,\"fTitleColor\":1,\"fTitleFont\":42,\"fNbins\":21,\"fXmin\":-0.5,\"fXmax\":20.5,\"fXbins\":[],\"fFirst\":0,\"fLast\":0,\"fBits2\":0,\"fTimeDisplay\":false,\"fTimeFormat\":\"\",\"fLabels\":null,\"fModLabs\":null},\"fYaxis\":{\"_typename\":\"TAxis\",\"fUniqueID\":0,\"fBits\":0,\"fName\":\"yaxis\",\"fTitle\":\"\",\"fNdivisions\":510,\"fAxisColor\":1,\"fLabelColor\":1,\"fLabelFont\":42,\"fLabelOffset\":0.005,\"fLabelSize\":0.035,\"fTickLength\":0.03,\"fTitleOffset\":0,\"fTitleSize\":0.035,\"fTitleColor\":1,\"fTitleFont\":42,\"fNbins\":1,\"fXmin\":0,\"fXmax\":1,\"fXbins\":[],\"fFirst\":0,\"fLast\":0,\"fBits2\":0,\"fTimeDisplay\":false,\"fTimeFormat\":\"\",\"fLabels\":null,\"fModLabs\":null},\"fZaxis\":{\"_typename\":\"TAxis\",\"fUniqueID\":0,\"fBits\":0,\"fName\":\"zaxis\",\"fTitle\":\"\",\"fNdivisions\":510,\"fAxisColor\":1,\"fLabelColor\":1,\"fLabelFont\":42,\"fLabelOffset\":0.005,\"fLabelSize\":0.035,\"fTickLength\":0.03,\"fTitleOffset\":1,\"fTitleSize\":0.035,\"fTitleColor\":1,\"fTitleFont\":42,\"fNbins\":1,\"fXmin\":0,\"fXmax\":1,\"fXbins\":[],\"fFirst\":0,\"fLast\":0,\"fBits2\":0,\"fTimeDisplay\":false,\"fTimeFormat\":\"\",\"fLabels\":null,\"fModLabs\":null},\"fBarOffset\":0,\"fBarWidth\":1000,\"fEntries\":31904,\"fTsumw\":31904,\"fTsumw2\":31904,\"fTsumwx\":71635,\"fTsumwx2\":246935,\"fMaximum\":-1111,\"fMinimum\":-1111,\"fNormFactor\":0,\"fContour\":[],\"fSumw2\":[],\"fOption\":\"\",\"fFunctions\":{\"_typename\":\"TList\",\"name\":\"TList\",\"arr\":[],\"opt\":[]},\"fBufferSize\":0,\"fBuffer\":[],\"fBinStatErrOpt\":0,\"fStatOverflows\":2,\"fArray\":{\"$arr\":\"Float64\",\"len\":23,\"p\":1,\"v\":[4584,6926,7744,6257,3513,1666,733,293,114,48,18,3,3,2]}},{\"$ref\":5},{\"_typename\":\"TPaveText\",\"fUniqueID\":0,\"fBits\":9,\"fLineColor\":1,\"fLineStyle\":1,\"fLineWidth\":1,\"fFillColor\":0,\"fFillStyle\":0,\"fX1\":0.812499863095574,\"fY1\":6.62085367840541,\"fX2\":19.1875001369044,\"fY2\":7.11433218783168,\"fX1NDC\":0.15,\"fY1NDC\":0.9329192284302,\"fX2NDC\":0.85,\"fY2NDC\":0.995000004768372,\"fBorderSize\":0,\"fInit\":1,\"fShadowColor\":1,\"fCornerRadius\":0,\"fOption\":\"blNDC\",\"fName\":\"title\",\"fTextAngle\":0,\"fTextSize\":0,\"fTextAlign\":22,\"fTextColor\":1,\"fTextFont\":42,\"fLabel\":\"\",\"fLongest\":27,\"fMargin\":0.05,\"fLines\":{\"_typename\":\"TList\",\"name\":\"TList\",\"arr\":[{\"_typename\":\"TLatex\",\"fUniqueID\":0,\"fBits\":0,\"fName\":\"\",\"fTitle\":\"Number of hits by secondary\",\"fTextAngle\":0,\"fTextSize\":0,\"fTextAlign\":0,\"fTextColor\":0,\"fTextFont\":0,\"fX\":0,\"fY\":0,\"fLineColor\":1,\"fLineStyle\":1,\"fLineWidth\":2,\"fLimitFactorSize\":3,\"fOriginSize\":0.0527686588466167}],\"opt\":[\"\"]}}],\"opt\":[\"\",\"\",\"same\",\"same\",\"same\",\"same\",\"blNDC\"]},\"fExecs\":{\"_typename\":\"TList\",\"name\":\"TList\",\"arr\":[],\"opt\":[]},\"fName\":\"cc1_1\",\"fTitle\":\"cc1_1\",\"fNumPaletteColor\":0,\"fNextPaletteColor\":0},{\"_typename\":\"TPad\",\"fUniqueID\":0,\"fBits\":9,\"fLineColor\":1,\"fLineStyle\":1,\"fLineWidth\":1,\"fFillColor\":0,\"fFillStyle\":1001,\"fLeftMargin\":0.1,\"fRightMargin\":0.1,\"fBottomMargin\":0.1,\"fTopMargin\":0.1,\"fXfile\":2,\"fYfile\":2,\"fAfile\":1,\"fXstat\":0.99,\"fYstat\":0.99,\"fAstat\":2,\"fFrameFillColor\":0,\"fFrameLineColor\":1,\"fFrameFillStyle\":1001,\"fFrameLineStyle\":1,\"fFrameLineWidth\":1,\"fFrameBorderSize\":1,\"fFrameBorderMode\":0,\"fX1\":-0.512500030733647,\"fY1\":-1.13355624751826,\"fX2\":3.61250003073365,\"fY2\":7.19170577480023,\"fXtoAbsPixelk\":681.285143922594,\"fXtoPixelk\":71.3251441899204,\"fXtoPixel\":139.170907146714,\"fYtoAbsPixelk\":489.954970064878,\"fYtoPixelk\":484.23497019273,\"fYtoPixel\":-67.3324153345499,\"fUtoAbsPixelk\":609.960049732673,\"fUtoPixelk\":5e-5,\"fUtoPixel\":574.080000534654,\"fVtoAbsPixelk\":566.280050127852,\"fVtoPixelk\":560.560000255704,\"fVtoPixel\":-560.560000255704,\"fAbsPixeltoXk\":-4.89531259003998,\"fPixeltoXk\":-0.512500030733647,\"fPixeltoX\":0.00718540979937568,\"fAbsPixeltoYk\":7.27665742615163,\"fPixeltoYk\":-1.13355624751826,\"fPixeltoY\":-0.0148516876311561,\"fXlowNDC\":0.509999999776483,\"fYlowNDC\":0.00999999977648258,\"fXUpNDC\":0.990000000223517,\"fYUpNDC\":0.990000000223517,\"fWNDC\":0.480000000447035,\"fHNDC\":0.980000000447035,\"fAbsXlowNDC\":0.509999999776483,\"fAbsYlowNDC\":0.00999999977648258,\"fAbsWNDC\":0.480000000447035,\"fAbsHNDC\":0.980000000447035,\"fUxmin\":-0.1,\"fUymin\":-0.301029995663981,\"fUxmax\":3.2,\"fUymax\":6.35917952294595,\"fTheta\":30,\"fPhi\":30,\"fAspectRatio\":0,\"fNumber\":2,\"fTickx\":0,\"fTicky\":0,\"fLogx\":0,\"fLogy\":1,\"fLogz\":0,\"fPadPaint\":0,\"fCrosshair\":0,\"fCrosshairPos\":0,\"fBorderSize\":2,\"fBorderMode\":0,\"fModified\":false,\"fGridx\":false,\"fGridy\":false,\"fAbsCoord\":false,\"fEditable\":true,\"fFixedAspectRatio\":false,\"fPrimitives\":{\"_typename\":\"TList\",\"name\":\"TList\",\"arr\":[{\"_typename\":\"TFrame\",\"fUniqueID\":0,\"fBits\":8,\"fLineColor\":1,\"fLineStyle\":1,\"fLineWidth\":1,\"fFillColor\":0,\"fFillStyle\":1001,\"fX1\":-0.1,\"fY1\":-0.301029995663981,\"fX2\":3.2,\"fY2\":6.35917952294595,\"fBorderSize\":1,\"fBorderMode\":0},{\"_typename\":\"TH1D\",\"fUniqueID\":0,\"fBits\":8,\"fName\":\"hist_e2\",\"fTitle\":\"Score plane energy of secondary hits\",\"fLineColor\":800,\"fLineStyle\":1,\"fLineWidth\":1,\"fFillColor\":0,\"fFillStyle\":1001,\"fMarkerColor\":1,\"fMarkerStyle\":1,\"fMarkerSize\":1,\"fNcells\":1002,\"fXaxis\":{\"_typename\":\"TAxis\",\"fUniqueID\":0,\"fBits\":0,\"fName\":\"xaxis\",\"fTitle\":\"\",\"fNdivisions\":510,\"fAxisColor\":1,\"fLabelColor\":1,\"fLabelFont\":42,\"fLabelOffset\":0.005,\"fLabelSize\":0.035,\"fTickLength\":0.03,\"fTitleOffset\":1,\"fTitleSize\":0.035,\"fTitleColor\":1,\"fTitleFont\":42,\"fNbins\":1000,\"fXmin\":-0.1,\"fXmax\":3.2,\"fXbins\":[],\"fFirst\":0,\"fLast\":0,\"fBits2\":0,\"fTimeDisplay\":false,\"fTimeFormat\":\"\",\"fLabels\":null,\"fModLabs\":null},\"fYaxis\":{\"_typename\":\"TAxis\",\"fUniqueID\":0,\"fBits\":0,\"fName\":\"yaxis\",\"fTitle\":\"\",\"fNdivisions\":510,\"fAxisColor\":1,\"fLabelColor\":1,\"fLabelFont\":42,\"fLabelOffset\":0.005,\"fLabelSize\":0.035,\"fTickLength\":0.03,\"fTitleOffset\":0,\"fTitleSize\":0.035,\"fTitleColor\":1,\"fTitleFont\":42,\"fNbins\":1,\"fXmin\":0,\"fXmax\":1,\"fXbins\":[],\"fFirst\":0,\"fLast\":0,\"fBits2\":0,\"fTimeDisplay\":false,\"fTimeFormat\":\"\",\"fLabels\":null,\"fModLabs\":null},\"fZaxis\":{\"_typename\":\"TAxis\",\"fUniqueID\":0,\"fBits\":0,\"fName\":\"zaxis\",\"fTitle\":\"\",\"fNdivisions\":510,\"fAxisColor\":1,\"fLabelColor\":1,\"fLabelFont\":42,\"fLabelOffset\":0.005,\"fLabelSize\":0.035,\"fTickLength\":0.03,\"fTitleOffset\":1,\"fTitleSize\":0.035,\"fTitleColor\":1,\"fTitleFont\":42,\"fNbins\":1,\"fXmin\":0,\"fXmax\":1,\"fXbins\":[],\"fFirst\":0,\"fLast\":0,\"fBits2\":0,\"fTimeDisplay\":false,\"fTimeFormat\":\"\",\"fLabels\":null,\"fModLabs\":null},\"fBarOffset\":0,\"fBarWidth\":1000,\"fEntries\":1263033,\"fTsumw\":1263033,\"fTsumw2\":1263033,\"fTsumwx\":10030.5426802404,\"fTsumwx2\":11068.2230667115,\"fMaximum\":-1111,\"fMinimum\":-1111,\"fNormFactor\":0,\"fContour\":[],\"fSumw2\":[],\"fOption\":\"\",\"fFunctions\":{\"_typename\":\"TList\",\"name\":\"TList\",\"arr\":[{\"_typename\":\"TPaveStats\",\"fUniqueID\":0,\"fBits\":9,\"fLineColor\":1,\"fLineStyle\":1,\"fLineWidth\":1,\"fFillColor\":0,\"fFillStyle\":1001,\"fX1\":2.70500008359552,\"fY1\":5.318521869401,\"fX2\":3.53000010818243,\"fY2\":6.6505637631985,\"fX1NDC\":0.780000016093254,\"fY1NDC\":0.775000005960464,\"fX2NDC\":0.980000019073486,\"fY2NDC\":0.935000002384186,\"fBorderSize\":1,\"fInit\":1,\"fShadowColor\":1,\"fCornerRadius\":0,\"fOption\":\"brNDC\",\"fName\":\"stats\",\"fTextAngle\":0,\"fTextSize\":0,\"fTextAlign\":12,\"fTextColor\":1,\"fTextFont\":42,\"fLabel\":\"\",\"fLongest\":19,\"fMargin\":0.05,\"fLines\":{\"_typename\":\"TList\",\"name\":\"TList\",\"arr\":[{\"_typename\":\"TLatex\",\"fUniqueID\":0,\"fBits\":0,\"fName\":\"\",\"fTitle\":\"hist_e2\",\"fTextAngle\":0,\"fTextSize\":0.0368,\"fTextAlign\":0,\"fTextColor\":0,\"fTextFont\":0,\"fX\":0,\"fY\":0,\"fLineColor\":1,\"fLineStyle\":1,\"fLineWidth\":2,\"fLimitFactorSize\":3,\"fOriginSize\":0.0368000008165836},{\"_typename\":\"TLatex\",\"fUniqueID\":0,\"fBits\":0,\"fName\":\"\",\"fTitle\":\"Entries = 1263033\",\"fTextAngle\":0,\"fTextSize\":0,\"fTextAlign\":0,\"fTextColor\":0,\"fTextFont\":0,\"fX\":0,\"fY\":0,\"fLineColor\":1,\"fLineStyle\":1,\"fLineWidth\":2,\"fLimitFactorSize\":3,\"fOriginSize\":0.04},{\"_typename\":\"TLatex\",\"fUniqueID\":0,\"fBits\":0,\"fName\":\"\",\"fTitle\":\"Mean  = 0.007942\",\"fTextAngle\":0,\"fTextSize\":0,\"fTextAlign\":0,\"fTextColor\":0,\"fTextFont\":0,\"fX\":0,\"fY\":0,\"fLineColor\":1,\"fLineStyle\":1,\"fLineWidth\":2,\"fLimitFactorSize\":3,\"fOriginSize\":0.04},{\"_typename\":\"TLatex\",\"fUniqueID\":0,\"fBits\":0,\"fName\":\"\",\"fTitle\":\"Std Dev   = 0.09327\",\"fTextAngle\":0,\"fTextSize\":0,\"fTextAlign\":0,\"fTextColor\":0,\"fTextFont\":0,\"fX\":0,\"fY\":0,\"fLineColor\":1,\"fLineStyle\":1,\"fLineWidth\":2,\"fLimitFactorSize\":3,\"fOriginSize\":0.04}],\"opt\":[\"\",\"\",\"\",\"\"]},\"fOptFit\":0,\"fOptStat\":1111,\"fFitFormat\":\"5.4g\",\"fStatFormat\":\"6.4g\",\"fParent\":{\"$ref\":38}}],\"opt\":[\"brNDC\"]},\"fBufferSize\":0,\"fBuffer\":[],\"fBinStatErrOpt\":0,\"fStatOverflows\":2,\"fArray\":{\"$arr\":\"Float64\",\"len\":1002,\"p\":31,\"v\":[1206787,0,0,5014,6852,5019,3643,2986,2273,2050,1666,1432,1207,1084,977,812,753,715,610,605,536,472,465,449,337,336,353,305,289,255,269,279,255,217,244,204,198,209,183,193,158,161,141,153,140,135,147,150,128,107,138,122,89,100,111,107,108,99,112,101,94,91,97,88,73,93,88,62,83,84,65,70,79,70,69,58,76,78,66,68,83,57,64,62,59,63,63,54,65,51,48,54,61,68,69,56,45,42,50,55,42,53,54,51,46,42,60,33,45,38,38,40,39,38,47,41,40,30,35,47,37,39,42,26,42,29,32,29,25,28,30,37,30,26,35,19,29,36,24,28,37,37,24,32,23,27,31,29,29,32,22,26,27,27,30,28,34,26,25,29,24,25,30,25,21,26,20,24,19,26,17,35,24,29,24,17,19,17,35,29,16,13,25,16,23,30,15,19,22,25,17,29,24,17,13,26,23,16,18,16,17,16,19,14,17,23,14,26,17,21,14,18,20,19,17,13,19,13,15,11,10,13,19,15,16,24,14,27,12,16,12,23,18,14,15,9,17,15,13,11,17,20,18,19,10,14,11,18,10,16,15,11,11,16,11,13,15,17,17,4,14,16,8,13,16,10,7,13,23,15,11,7,13,18,16,17,13,9,7,19,11,13,8,17,24,11,17,10,8,9,25,14,13,10,14,20,10,14,12,13,13,8,12,10,10,5,12,11,18,11,17,11,12,6,12,9,10,6,7,15,8,13,10,14,18,12,11,8,6,5,11,12,10,11,13,6,14,7,10,10,5,6,10,10,13,15,7,12,10,9,9,11,14,9,8,7,8,14,14,2,10,10,11,9,6,11,10,7,8,8,7,6,13,5,8,6,6,6,10,11,7,10,8,1,9,13,9,14,7,9,3,9,7,8,8,5,6,12,10,8,13,7,7,8,5,8,9,9,7,9,6,1,4,7,4,3,4,3,4,7,10,10,11,2,9,5,7,8,9,6,5,6,13,6,11,4,6,7,0,7,10,7,6,7,8,7,4,2,9,12,3,7,7,5,8,5,10,5,12,4,9,4,6,3,4,5,9,4,6,2,10,3,7,7,7,5,4,9,5,7,6,2,5,3,5,3,8,10,2,2,8,1,7,2,5,2,6,4,0,9,5,5,8,5,5,4,8,5,7,1,2,3,2,4,6,7,4,6,7,6,3,8,2,7,3,2,6,5,9,2,8,6,6,4,9,8,3,5,4,2,2,3,6,7,3,6,8,6,4,2,6,5,2,4,5,3,5,4,7,7,3,5,0,5,2,2,9,0,7,7,3,4,6,2,4,2,4,3,4,5,9,4,3,3,3,4,2,3,4,3,4,4,4,1,3,4,1,0,4,6,1,6,3,4,4,3,2,4,1,4,7,3,3,6,3,0,7,4,4,3,1,3,3,3,4,1,5,3,6,5,4,2,1,2,6,6,2,7,4,4,3,3,3,2,2,7,2,3,3,4,5,1,1,3,7,3,3,1,2,2,2,2,4,3,4,4,3,4,7,2,3,7,3,2,3,1,2,3,1,7,3,4,0,5,3,2,4,3,1,4,2,6,8,2,3,3,1,4,2,4,7,3,1,7,4,1,3,7,5,3,3,3,3,2,0,5,3,1,2,3,5,0,4,1,5,2,3,5,0,5,1,5,2,3,0,3,2,7,3,4,6,2,1,4,3,1,4,2,2,3,3,4,3,5,0,5,5,2,1,2,2,3,3,1,4,1,2,3,2,3,3,0,4,6,4,4,5,2,4,2,4,3,0,4,1,2,3,2,1,1,4,2,4,2,4,3,2,4,2,2,3,7,3,1,2,4,4,2,2,2,0,1,1,5,5,0,2,0,6,2,1,1,1,2,3,2,3,0,2,3,1,2,1,2,2,4,1,3,7,1,2,0,4,2,1,0,4,1,0,1,1,2,4,1,2,6,3,2,2,1,0,4,2,2,2,0,2,2,1,5,2,4,1,1,5,1,4,2,2,1,3,1,0,3,2,2,2,2,5,2,1,0,2,1,0,0,1,0,4,3,2,1,0,2,1,1,3]}},{\"_typename\":\"TH1D\",\"fUniqueID\":0,\"fBits\":520,\"fName\":\"hist_e\",\"fTitle\":\"Score plane energy of primary hit\",\"fLineColor\":600,\"fLineStyle\":1,\"fLineWidth\":1,\"fFillColor\":0,\"fFillStyle\":1001,\"fMarkerColor\":1,\"fMarkerStyle\":1,\"fMarkerSize\":1,\"fNcells\":1002,\"fXaxis\":{\"_typename\":\"TAxis\",\"fUniqueID\":0,\"fBits\":0,\"fName\":\"xaxis\",\"fTitle\":\"\",\"fNdivisions\":510,\"fAxisColor\":1,\"fLabelColor\":1,\"fLabelFont\":42,\"fLabelOffset\":0.005,\"fLabelSize\":0.035,\"fTickLength\":0.03,\"fTitleOffset\":1,\"fTitleSize\":0.035,\"fTitleColor\":1,\"fTitleFont\":42,\"fNbins\":1000,\"fXmin\":-0.1,\"fXmax\":3.2,\"fXbins\":[],\"fFirst\":0,\"fLast\":0,\"fBits2\":0,\"fTimeDisplay\":false,\"fTimeFormat\":\"\",\"fLabels\":null,\"fModLabs\":null},\"fYaxis\":{\"_typename\":\"TAxis\",\"fUniqueID\":0,\"fBits\":0,\"fName\":\"yaxis\",\"fTitle\":\"\",\"fNdivisions\":510,\"fAxisColor\":1,\"fLabelColor\":1,\"fLabelFont\":42,\"fLabelOffset\":0.005,\"fLabelSize\":0.035,\"fTickLength\":0.03,\"fTitleOffset\":0,\"fTitleSize\":0.035,\"fTitleColor\":1,\"fTitleFont\":42,\"fNbins\":1,\"fXmin\":0,\"fXmax\":1,\"fXbins\":[],\"fFirst\":0,\"fLast\":0,\"fBits2\":0,\"fTimeDisplay\":false,\"fTimeFormat\":\"\",\"fLabels\":null,\"fModLabs\":null},\"fZaxis\":{\"_typename\":\"TAxis\",\"fUniqueID\":0,\"fBits\":0,\"fName\":\"zaxis\",\"fTitle\":\"\",\"fNdivisions\":510,\"fAxisColor\":1,\"fLabelColor\":1,\"fLabelFont\":42,\"fLabelOffset\":0.005,\"fLabelSize\":0.035,\"fTickLength\":0.03,\"fTitleOffset\":1,\"fTitleSize\":0.035,\"fTitleColor\":1,\"fTitleFont\":42,\"fNbins\":1,\"fXmin\":0,\"fXmax\":1,\"fXbins\":[],\"fFirst\":0,\"fLast\":0,\"fBits2\":0,\"fTimeDisplay\":false,\"fTimeFormat\":\"\",\"fLabels\":null,\"fModLabs\":null},\"fBarOffset\":0,\"fBarWidth\":1000,\"fEntries\":31904,\"fTsumw\":31903,\"fTsumw2\":31903,\"fTsumwx\":73148.7998657208,\"fTsumwx2\":206349.945793027,\"fMaximum\":-1111,\"fMinimum\":-1111,\"fNormFactor\":0,\"fContour\":[],\"fSumw2\":[],\"fOption\":\"\",\"fFunctions\":{\"_typename\":\"TList\",\"name\":\"TList\",\"arr\":[],\"opt\":[]},\"fBufferSize\":0,\"fBuffer\":[],\"fBinStatErrOpt\":0,\"fStatOverflows\":2,\"fArray\":{\"$arr\":\"Float64\",\"len\":1002,\"p\":31,\"v\":[4584,0,0,6,12,11,11,12,9,8,6,7,9,8,9,9,5,8,5,7,4,7,8,6,12,8,4,1,5,2,5,6,4,4,3,5,1,3,7,5,3,3,2,3,5,3,5,6,4,5,7,2,2,3,1,0,1,5,4,4,1,3,3,3,1,4,6,3,6,2,3,6,1,3,5,1,3,4,4,5,3,5,3,6,3,6,1,2,5,3,4,4,3,3,4,2,1,6,3,2,4,5,1,6,4,1,2,3,1,4,4,2,2,5,5,2,3,4,1,3,1,3,5,3,4,3,3,4,5,3,3,2,5,4,6,2,6,1,6,5,3,0,5,2,3,4,1,6,3,5,2,3,4,6,4,6,3,2,4,1,1,6,2,5,3,5,1,6,2,2,5,3,4,6,5,2,6,3,2,1,4,2,6,2,1,3,2,7,5,6,4,3,5,4,10,7,6,4,6,5,0,5,4,1,4,5,3,3,3,2,4,7,4,3,4,2,1,5,1,2,1,1,9,3,6,6,1,2,4,4,3,3,3,2,3,2,8,0,4,4,4,6,5,7,4,1,2,6,3,6,5,4,7,2,3,8,3,7,5,2,4,2,3,6,5,5,4,6,1,3,6,4,4,3,4,7,6,5,3,5,3,1,3,7,1,5,0,3,1,5,5,3,2,2,5,2,4,4,4,8,2,2,9,4,4,6,3,3,5,3,1,2,4,8,0,2,3,7,4,3,4,5,4,3,5,8,6,4,6,5,8,3,4,8,2,4,4,2,8,8,2,4,4,4,8,3,4,7,2,6,6,2,6,4,7,2,5,8,8,6,7,3,4,5,8,3,6,6,4,12,6,4,6,3,8,3,5,4,6,7,3,2,10,3,6,3,6,9,5,2,4,3,8,6,5,2,5,5,7,6,6,9,3,4,3,2,2,4,5,8,3,4,9,7,4,7,4,3,5,5,7,7,6,4,5,2,4,4,6,5,8,8,2,7,5,4,3,7,5,4,5,7,5,5,1,4,6,4,5,10,3,9,10,7,8,7,7,4,7,4,4,13,9,3,5,8,6,5,4,9,6,7,6,6,10,5,5,9,6,4,4,6,9,6,7,4,6,7,2,3,2,5,4,8,11,8,6,7,7,6,6,4,5,7,8,11,15,9,9,4,4,9,13,6,5,6,11,9,4,8,7,5,8,6,5,8,5,7,8,8,5,10,6,9,5,13,8,8,9,5,12,6,11,5,5,8,13,9,6,6,10,13,11,13,8,7,16,7,7,5,5,7,7,13,7,7,6,7,9,8,6,6,13,7,19,14,5,9,12,8,7,11,13,4,8,15,6,10,10,10,10,8,9,10,9,12,6,7,9,8,6,8,10,14,10,6,12,10,14,7,10,10,10,16,5,16,9,10,13,12,9,12,7,11,13,10,11,20,14,13,8,11,13,12,9,8,12,7,8,7,13,9,10,14,12,9,14,12,12,17,15,15,8,11,10,10,10,15,13,12,8,15,8,14,15,14,12,5,14,18,8,16,20,15,11,16,15,12,15,6,15,10,12,11,18,12,17,12,16,17,11,7,9,20,13,15,10,19,7,17,10,14,12,9,13,15,15,14,13,15,9,18,21,18,9,14,15,19,12,13,22,15,16,19,20,15,15,20,12,17,11,21,16,9,15,18,15,17,13,15,16,17,20,16,26,19,25,14,13,14,22,20,21,16,15,16,17,18,16,22,22,16,18,22,20,17,22,20,13,19,18,19,18,27,22,24,16,19,36,20,22,24,23,17,16,20,33,26,17,21,18,17,28,21,21,26,20,26,28,23,28,24,34,18,34,26,28,24,30,30,24,24,33,26,26,29,29,26,35,21,36,25,21,36,32,38,33,30,31,29,34,26,32,37,35,34,28,33,36,37,39,47,37,38,41,47,41,39,53,33,35,45,31,42,37,39,66,50,49,51,48,58,47,52,50,53,53,63,59,70,61,71,64,59,82,68,61,67,94,72,89,114,101,103,112,88,111,132,118,158,130,171,205,208,259,304,364,442,619,772,968,1363,1646,2131,2558,2628,1963,11,3,9,6,7,7,12,2,3,4,4,1,3,0,1,3,0,4,0,1,0,0,0,1],\"p1\":1001,\"v1\":1}},{\"_typename\":\"TPaveText\",\"fUniqueID\":0,\"fBits\":9,\"fLineColor\":1,\"fLineStyle\":1,\"fLineWidth\":1,\"fFillColor\":0,\"fFillStyle\":0,\"fX1\":0.106249978486447,\"fY1\":6.63324077482235,\"fX2\":2.99375002151355,\"fY2\":7.15007950438658,\"fX1NDC\":0.15,\"fY1NDC\":0.9329192284302,\"fX2NDC\":0.85,\"fY2NDC\":0.995000004768372,\"fBorderSize\":0,\"fInit\":1,\"fShadowColor\":1,\"fCornerRadius\":0,\"fOption\":\"blNDC\",\"fName\":\"title\",\"fTextAngle\":0,\"fTextSize\":0,\"fTextAlign\":22,\"fTextColor\":1,\"fTextFont\":42,\"fLabel\":\"\",\"fLongest\":36,\"fMargin\":0.05,\"fLines\":{\"_typename\":\"TList\",\"name\":\"TList\",\"arr\":[{\"_typename\":\"TLatex\",\"fUniqueID\":0,\"fBits\":0,\"fName\":\"\",\"fTitle\":\"Score plane energy of secondary hits\",\"fTextAngle\":0,\"fTextSize\":0,\"fTextAlign\":0,\"fTextColor\":0,\"fTextFont\":0,\"fX\":0,\"fY\":0,\"fLineColor\":1,\"fLineStyle\":1,\"fLineWidth\":2,\"fLimitFactorSize\":3,\"fOriginSize\":0.0527686588466167}],\"opt\":[\"\"]}}],\"opt\":[\"\",\"\",\"same\",\"blNDC\"]},\"fExecs\":{\"_typename\":\"TList\",\"name\":\"TList\",\"arr\":[],\"opt\":[]},\"fName\":\"cc1_2\",\"fTitle\":\"cc1_2\",\"fNumPaletteColor\":0,\"fNextPaletteColor\":0},{\"_typename\":\"TStyle\",\"fUniqueID\":0,\"fBits\":0,\"fName\":\"Modern\",\"fTitle\":\"Modern Style\",\"fLineColor\":1,\"fLineStyle\":1,\"fLineWidth\":1,\"fFillColor\":19,\"fFillStyle\":1001,\"fMarkerColor\":1,\"fMarkerStyle\":1,\"fMarkerSize\":1,\"fTextAngle\":0,\"fTextSize\":0.05,\"fTextAlign\":11,\"fTextColor\":1,\"fTextFont\":62,\"fXaxis\":{\"_typename\":\"TAttAxis\",\"fNdivisions\":510,\"fAxisColor\":1,\"fLabelColor\":1,\"fLabelFont\":42,\"fLabelOffset\":0.005,\"fLabelSize\":0.035,\"fTickLength\":0.03,\"fTitleOffset\":1,\"fTitleSize\":0.035,\"fTitleColor\":1,\"fTitleFont\":42},\"fYaxis\":{\"_typename\":\"TAttAxis\",\"fNdivisions\":510,\"fAxisColor\":1,\"fLabelColor\":1,\"fLabelFont\":42,\"fLabelOffset\":0.005,\"fLabelSize\":0.035,\"fTickLength\":0.03,\"fTitleOffset\":0,\"fTitleSize\":0.035,\"fTitleColor\":1,\"fTitleFont\":42},\"fZaxis\":{\"_typename\":\"TAttAxis\",\"fNdivisions\":510,\"fAxisColor\":1,\"fLabelColor\":1,\"fLabelFont\":42,\"fLabelOffset\":0.005,\"fLabelSize\":0.035,\"fTickLength\":0.03,\"fTitleOffset\":1,\"fTitleSize\":0.035,\"fTitleColor\":1,\"fTitleFont\":42},\"fBarWidth\":1,\"fBarOffset\":0,\"fColorModelPS\":0,\"fDrawBorder\":0,\"fOptLogx\":0,\"fOptLogy\":0,\"fOptLogz\":0,\"fOptDate\":0,\"fOptStat\":1111,\"fOptTitle\":1,\"fOptFile\":0,\"fOptFit\":0,\"fShowEventStatus\":0,\"fShowEditor\":0,\"fShowToolBar\":0,\"fNumberContours\":20,\"fAttDate\":{\"_typename\":\"TAttText\",\"fTextAngle\":0,\"fTextSize\":0.025,\"fTextAlign\":11,\"fTextColor\":1,\"fTextFont\":62},\"fDateX\":0.01,\"fDateY\":0.01,\"fEndErrorSize\":2,\"fErrorX\":0.5,\"fFuncColor\":2,\"fFuncStyle\":1,\"fFuncWidth\":2,\"fGridColor\":0,\"fGridStyle\":3,\"fGridWidth\":1,\"fLegendBorderSize\":1,\"fLegendFillColor\":0,\"fLegendFont\":42,\"fLegendTextSize\":0,\"fHatchesLineWidth\":1,\"fHatchesSpacing\":1,\"fFrameFillColor\":0,\"fFrameLineColor\":1,\"fFrameFillStyle\":1001,\"fFrameLineStyle\":1,\"fFrameLineWidth\":1,\"fFrameBorderSize\":1,\"fFrameBorderMode\":0,\"fHistFillColor\":0,\"fHistLineColor\":602,\"fHistFillStyle\":1001,\"fHistLineStyle\":1,\"fHistLineWidth\":1,\"fHistMinimumZero\":false,\"fHistTopMargin\":0.05,\"fCanvasPreferGL\":false,\"fCanvasColor\":0,\"fCanvasBorderSize\":2,\"fCanvasBorderMode\":0,\"fCanvasDefH\":500,\"fCanvasDefW\":700,\"fCanvasDefX\":10,\"fCanvasDefY\":10,\"fPadColor\":0,\"fPadBorderSize\":2,\"fPadBorderMode\":0,\"fPadBottomMargin\":0.1,\"fPadTopMargin\":0.1,\"fPadLeftMargin\":0.1,\"fPadRightMargin\":0.1,\"fPadGridX\":false,\"fPadGridY\":false,\"fPadTickX\":0,\"fPadTickY\":0,\"fPaperSizeX\":20,\"fPaperSizeY\":26,\"fScreenFactor\":1,\"fStatColor\":0,\"fStatTextColor\":1,\"fStatBorderSize\":1,\"fStatFont\":42,\"fStatFontSize\":0,\"fStatStyle\":1001,\"fStatFormat\":\"6.4g\",\"fStatX\":0.98,\"fStatY\":0.935,\"fStatW\":0.2,\"fStatH\":0.16,\"fStripDecimals\":true,\"fTitleAlign\":23,\"fTitleColor\":0,\"fTitleTextColor\":1,\"fTitleBorderSize\":0,\"fTitleFont\":42,\"fTitleFontSize\":0.05,\"fTitleStyle\":0,\"fTitleX\":0.5,\"fTitleY\":0.995,\"fTitleW\":0,\"fTitleH\":0,\"fLegoInnerR\":0.5,\"fLineStyles\":[\"\",\"  \",\" 12 12\",\" 4 8\",\" 12 16 4 16\",\" 20 12 4 12\",\" 20 12 4 12 4 12 4 12\",\" 20 20\",\" 20 12 4 12 4 12\",\" 80 20\",\" 80 40 4 40\",\"  \",\"  \",\"  \",\"  \",\"  \",\"  \",\"  \",\"  \",\"  \",\"  \",\"  \",\"  \",\"  \",\"  \",\"  \",\"  \",\"  \",\"  \",\"  \"],\"fHeaderPS\":\"\",\"fTitlePS\":\"\",\"fFitFormat\":\"5.4g\",\"fPaintTextFormat\":\"g\",\"fLineScalePS\":3,\"fJoinLinePS\":0,\"fCapLinePS\":0,\"fTimeOffset\":788918400,\"fImageScaling\":1}],\"opt\":[\"\",\"\",\"\"]},\"fExecs\":null,\"fName\":\"cc1\",\"fTitle\":\"CC1\",\"fNumPaletteColor\":0,\"fNextPaletteColor\":0,\"fDISPLAY\":\"$DISPLAY\",\"fDoubleBuffer\":0,\"fRetained\":true,\"fXsizeUser\":0,\"fYsizeUser\":0,\"fXsizeReal\":20,\"fYsizeReal\":10,\"fWindowTopX\":0,\"fWindowTopY\":0,\"fWindowWidth\":0,\"fWindowHeight\":0,\"fCw\":1196,\"fCh\":572,\"fCatt\":{\"_typename\":\"TAttCanvas\",\"fXBetween\":2,\"fYBetween\":2,\"fTitleFromTop\":1.2,\"fXdate\":0.2,\"fYdate\":0.3,\"fAdate\":1},\"kMoveOpaque\":true,\"kResizeOpaque\":true,\"fHighLightColor\":2,\"fBatch\":true,\"kShowEventStatus\":false,\"kAutoExec\":true,\"kMenuBar\":true});\n   Core.settings.HandleKeys = false;\n   Core.draw(\"root_plot_1679759250657\", obj, \"\");\n}\n\nfunction script_load_root_plot_1679759250657(src, on_error) {\n    let script = document.createElement('script');\n    script.src = src;\n    script.onload = function() { display_root_plot_1679759250657(JSROOT); };\n    script.onerror = function() { script.remove(); on_error(); };\n    document.head.appendChild(script);\n}\n\nif (typeof requirejs !== 'undefined') {\n\n    // We are in jupyter notebooks, use require.js which should be configured already\n    requirejs.config({\n       paths: { 'JSRootCore' : [ 'build/jsroot', 'https://root.cern/js/7.2.1/build/jsroot', 'https://jsroot.gsi.de/7.2.1/build/jsroot' ] }\n    })(['JSRootCore'],  function(Core) {\n       display_root_plot_1679759250657(Core);\n    });\n\n} else if (typeof JSROOT !== 'undefined') {\n\n   // JSROOT already loaded, just use it\n   display_root_plot_1679759250657(JSROOT);\n\n} else {\n\n    // We are in jupyterlab without require.js, directly loading jsroot\n    // Jupyterlab might be installed in a different base_url so we need to know it.\n    try {\n        var base_url = JSON.parse(document.getElementById('jupyter-config-data').innerHTML).baseUrl;\n    } catch(_) {\n        var base_url = '/';\n    }\n\n    // Try loading a local version of requirejs and fallback to cdn if not possible.\n    script_load_root_plot_1679759250657(base_url + 'static/build/jsroot.js', function(){\n        console.error('Fail to load JSROOT locally, please check your jupyter_notebook_config.py file');\n        script_load_root_plot_1679759250657('https://root.cern/js/7.2.1/build/jsroot.js', function(){\n            document.getElementById(\"root_plot_1679759250657\").innerHTML = \"Failed to load JSROOT\";\n        });\n    });\n}\n\n</script>\n"
     },
     "metadata": {},
     "output_type": "display_data"
    }
   ],
   "source": [
    "cc1 = R.TCanvas(\"cc1\",\"CC1\", 1200, 600)\n",
    "cc1.Divide(2,1)\n",
    "p1 = cc1.cd(1)\n",
    "p1.SetLogy()\n",
    "hist_n2.Draw()\n",
    "hist_pn.SetLineColor(R.kRed)\n",
    "hist_pn.SetLineWidth(2)\n",
    "hist_pn.Draw(\"same\")\n",
    "hist_pn2.SetLineColor(R.kOrange)\n",
    "hist_pn2.SetLineWidth(3)\n",
    "hist_pn2.Draw(\"same\")\n",
    "hist_n.SetLineColor(R.kBlue)\n",
    "hist_n.Draw(\"same\")\n",
    "hist_n2.SetLineColor(R.kGreen)\n",
    "hist_n2.Draw(\"same\")\n",
    "p2 = cc1.cd(2)\n",
    "p2.SetLogy()\n",
    "hist_e.SetStats(0)\n",
    "hist_e2.SetLineColor(R.kOrange)\n",
    "hist_e2.Draw()\n",
    "hist_e.SetLineColor(R.kBlue)\n",
    "hist_e.Draw(\"same\")\n",
    "cc1.Draw()"
   ],
   "metadata": {
    "collapsed": false
   }
  },
  {
   "cell_type": "code",
   "execution_count": 9,
   "outputs": [
    {
     "data": {
      "text/plain": "61"
     },
     "execution_count": 9,
     "metadata": {},
     "output_type": "execute_result"
    }
   ],
   "source": [],
   "metadata": {
    "collapsed": false
   }
  }
 ],
 "metadata": {
  "kernelspec": {
   "display_name": "Python 3",
   "language": "python",
   "name": "python3"
  },
  "language_info": {
   "codemirror_mode": {
    "name": "ipython",
    "version": 2
   },
   "file_extension": ".py",
   "mimetype": "text/x-python",
   "name": "python",
   "nbconvert_exporter": "python",
   "pygments_lexer": "ipython2",
   "version": "2.7.6"
  }
 },
 "nbformat": 4,
 "nbformat_minor": 0
}
