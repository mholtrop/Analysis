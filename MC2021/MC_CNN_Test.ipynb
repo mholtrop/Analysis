{
 "cells": [
  {
   "cell_type": "markdown",
   "metadata": {},
   "source": [
    "# ECal Convolutional Neural Network detector.\n",
    "This notebook is a test best to try CNN (Convolutional Neural Networks) to detect clusters in the ECal and to assign\n",
    "these clusters the correct energy and position. CNNs are used in computer vision for far more challenging tasks.\n",
    "\n",
    "For the initial data I use single electron or positron. Note that muons are not a good idea, since they are not supposed to deposit their energy in the ECal, they are MIPs, thus training to find the muon energy from the ECal will not work, at all.\n",
    "\n",
    "Situations with multiple clusters and multiple particles can be\n",
    "done later, either by a separate algorith to detect the individual clusters (which can be a an \"object detection\" CNN or FCNN\n",
    "(fully convolutional NN), or by training a CNN to find multiple objects.\n",
    "\n"
   ]
  },
  {
   "cell_type": "code",
   "execution_count": 1,
   "metadata": {
    "collapsed": false,
    "ExecuteTime": {
     "end_time": "2023-08-15T21:54:59.372952Z",
     "start_time": "2023-08-15T21:54:56.257257Z"
    }
   },
   "outputs": [
    {
     "name": "stdout",
     "output_type": "stream",
     "text": [
      "Welcome to JupyROOT 6.29/01\n"
     ]
    }
   ],
   "source": [
    "import tensorflow as tf\n",
    "from tensorflow.keras.layers import Dense, Flatten, Conv2D\n",
    "from tensorflow.keras import Model\n",
    "from tensorflow.keras.regularizers import L1\n",
    "import numpy as np\n",
    "from matplotlib import pyplot as plt\n",
    "import sys\n",
    "sys.path.append(\"../Python\")\n",
    "import ROOT as R\n",
    "from array import array\n",
    "import time\n",
    "import numpy as np\n",
    "# Turn jsroot off if you want to make a pdf from this file.\n",
    "%jsroot off\n",
    "from root_helpers import SetStyle\n",
    "from root_helpers import fancy_plot\n",
    "from root_helpers import print_mc_particle_tree\n",
    "from root_helpers import print_daughters\n",
    "# R.EnableImplicitMT()\n"
   ]
  },
  {
   "cell_type": "code",
   "execution_count": 2,
   "metadata": {
    "collapsed": false,
    "ExecuteTime": {
     "end_time": "2023-08-15T21:55:17.234726Z",
     "start_time": "2023-08-15T21:55:17.102883Z"
    }
   },
   "outputs": [
    {
     "name": "stdout",
     "output_type": "stream",
     "text": [
      "Recompile is not needed\n",
      "V1.0.9\n"
     ]
    }
   ],
   "source": [
    "import os\n",
    "recompile = True\n",
    "try:\n",
    "    if os.path.getmtime('../Python/Utility_Functions_C.so') - os.path.getmtime('../Python/Utility_Functions.C') > 0:\n",
    "        recompile = False\n",
    "        print(\"Recompile is not needed\")\n",
    "    else:\n",
    "        print(\"Recompiling: \")\n",
    "except:\n",
    "    print(\"Recompile needed, file not found.\")\n",
    "if recompile:\n",
    "    R.gROOT.LoadMacro(\"../Python/Utility_Functions.C++\")\n",
    "else:\n",
    "    R.gSystem.Load(\"../Python/Utility_Functions_C.so\")\n",
    "R.Utility_Functions()\n",
    "\n",
    "R.gSystem.Load(\"/data/HPS/lib/libMiniDST\")\n",
    "R.gSystem.Load(\"/data/HPS/Analysis/lib/libEcal_Analysis\")\n",
    "R.gInterpreter.ProcessLine('''auto EAC = Ecal_Analysis_Class();''')   # This is key. It puts the EAC in C++ space.\n",
    "print(f\"{R.EAC.Version()}\")"
   ]
  },
  {
   "cell_type": "code",
   "execution_count": 3,
   "metadata": {
    "collapsed": false,
    "ExecuteTime": {
     "end_time": "2023-08-15T21:55:18.601761Z",
     "start_time": "2023-08-15T21:55:18.489990Z"
    }
   },
   "outputs": [
    {
     "name": "stdout",
     "output_type": "stream",
     "text": [
      "Number of events loaded:  2012917\n",
      "MminiDST version = 1.1.0\n"
     ]
    }
   ],
   "source": [
    "ch = R.TChain(\"MiniDST\")\n",
    "#ch.Add(\"/data/HPS/data/physrun2019/pass0/minidst/hps_010610_00030.root\")\n",
    "#ch.Add(\"/data/HPS/data/MC/emumu_calchep/events*.root\")\n",
    "#ch.Add(\"/data/HPS/data/MC/mup_2019/mup_1_2019.root\")\n",
    "ch.Add(\"/data/HPS/data/MC/ele_2019/ele_*_slic_recon.root\")\n",
    "print(f\"Number of events loaded: {ch.GetEntries():8d}\")\n",
    "mdst = R.MiniDst()          # Initiate the class\n",
    "mdst.use_mc_particles=True  # Tell it to look for the MC Particles in the TTree\n",
    "mdst.use_ecal_cluster_uncor = True\n",
    "mdst.use_mc_scoring =True\n",
    "mdst.DefineBranchMap()      # Define the map of all the branches to the contents of the TTree\n",
    "mdst.SetBranchAddressesOnTree(ch) # Connect the TChain (which contains the TTree) to the class.\n",
    "print(f\"MminiDST version = {mdst._version_()}\")\n",
    "event = 0"
   ]
  },
  {
   "cell_type": "code",
   "execution_count": 4,
   "metadata": {
    "collapsed": false,
    "ExecuteTime": {
     "end_time": "2023-08-15T21:55:19.268267Z",
     "start_time": "2023-08-15T21:55:18.924817Z"
    }
   },
   "outputs": [
    {
     "name": "stdout",
     "output_type": "stream",
     "text": [
      "Ecal test image for events [0,1000]\n"
     ]
    },
    {
     "data": {
      "text/plain": "<Figure size 640x480 with 1 Axes>",
      "image/png": "[encoded data removed]"
     },
     "metadata": {},
     "output_type": "display_data"
    }
   ],
   "source": [
    "# Build an image of the ECal hits.\n",
    "event = 0\n",
    "Nevent = 1000\n",
    "print(f\"Ecal test image for events [{event},{event+Nevent}]\")\n",
    "ecal_hits = np.zeros([11,46],dtype=np.float32)\n",
    "for event in range(event,event+Nevent):\n",
    "    ch.GetEntry(event)\n",
    "    for i_hit in range(len(mdst.ecal_hit_energy)):\n",
    "        x_loc = mdst.ecal_hit_index_x[i_hit]\n",
    "        if x_loc < 0:\n",
    "            x_loc += 23\n",
    "        else:\n",
    "            x_loc += 22\n",
    "        ecal_hits[mdst.ecal_hit_index_y[i_hit]+5,x_loc] += mdst.ecal_hit_energy[i_hit]\n",
    "plt.imshow(ecal_hits,cmap=\"YlOrRd\") #cmap=\"gray\"\n",
    "plt.show()"
   ]
  },
  {
   "cell_type": "markdown",
   "metadata": {},
   "source": [
    "## Buid the CNN model\n",
    "\n",
    "Most CNNs provide a table output where each entry in the table is the probability that this is the correctly assigned \"label\". In our case we want 3 floats as output, representing the energy, x-position and y-position.\n",
    "\n",
    "The \"loss\" can be defined simply as the sum of differences between the true values and estimated values of the energy, x-position and y-position. The \"accuracy\" of the prediction would need to be the number of times the prediction is within some tolerance value. This is not pre-encoded in TensorFlow so I define my own class, FloatCompareAccuracy (and for completeness also have the IntCompareAccuracy class)\n"
   ]
  },
  {
   "cell_type": "code",
   "execution_count": 5,
   "metadata": {
    "collapsed": false,
    "ExecuteTime": {
     "end_time": "2023-08-15T21:55:21.861901Z",
     "start_time": "2023-08-15T21:55:21.751559Z"
    }
   },
   "outputs": [],
   "source": [
    "from keras import backend\n",
    "def float_matches(y_true, y_pred, accuracy=2.e-2):\n",
    "    \"\"\"Creates int Tensor, 1 if y_true is equal to y_pred within accuracy, 0 if not.\n",
    "\n",
    "    Args:\n",
    "      y_true: Ground truth values, of shape (batch_size, d0, .. dN).\n",
    "      y_pred: The predicted values, of shape (batch_size, d0, .. dN).\n",
    "      accuracy: (Optional) Float representing the fractional accuracy for deciding\n",
    "        whether prediction values are 1 or 0.\n",
    "\n",
    "    Returns:\n",
    "      Binary matches, of shape (batch_size, d0, .. dN).\n",
    "    \"\"\"\n",
    "    y_pred = tf.convert_to_tensor(y_pred)\n",
    "    accuracy = tf.cast(accuracy, y_pred.dtype)\n",
    "    result = tf.less(tf.abs(y_true - y_pred)/y_true, accuracy)\n",
    "    return tf.cast(result, backend.floatx())\n",
    "\n",
    "\n",
    "class IntCompareAccuracy(tf.keras.metrics.Accuracy):\n",
    "    \"\"\"Compare whether the predicted float values round to the truth integer values.\"\"\"\n",
    "    def __init__(self, name='int_compare_accuracy', **kwargs):\n",
    "        super(IntCompareAccuracy, self).__init__(name=name, **kwargs)\n",
    "\n",
    "    def update_state(self, y_true, y_pred, sample_weight=None):\n",
    "        y_true = tf.cast(y_true, tf.int32)\n",
    "        y_pred = tf.cast(y_pred+0.5, tf.int32)\n",
    "        super().update_state(y_true, y_pred)\n",
    "\n",
    "class FloatCompareAccuracy(tf.keras.metrics.MeanMetricWrapper):\n",
    "    \"\"\"Compare whether the predicted float values are within Accuracy_tolerance of the truth float values.\"\"\"\n",
    "    def __init__(self, name='float_compare_accuracy', **kwargs):\n",
    "        super().__init__(float_matches, name=name, **kwargs)\n"
   ]
  },
  {
   "cell_type": "code",
   "execution_count": 6,
   "metadata": {
    "collapsed": false,
    "ExecuteTime": {
     "end_time": "2023-08-15T21:55:22.641358Z",
     "start_time": "2023-08-15T21:55:22.427579Z"
    }
   },
   "outputs": [
    {
     "name": "stdout",
     "output_type": "stream",
     "text": [
      "Simple minded test of the FloatCompareAccuracy class.\n",
      "tf.Tensor([1. 1. 1. 1. 1.], shape=(5,), dtype=float32)\n"
     ]
    },
    {
     "data": {
      "text/plain": "<tf.Tensor: shape=(), dtype=float32, numpy=1.0>"
     },
     "execution_count": 6,
     "metadata": {},
     "output_type": "execute_result"
    },
    {
     "name": "stdout",
     "output_type": "stream",
     "text": [
      "Metal device set to: Apple M1 Max\n",
      "\n",
      "systemMemory: 64.00 GB\n",
      "maxCacheSize: 24.00 GB\n"
     ]
    },
    {
     "name": "stderr",
     "output_type": "stream",
     "text": [
      "2023-08-15 17:55:22.419929: I tensorflow/core/common_runtime/pluggable_device/pluggable_device_factory.cc:305] Could not identify NUMA node of platform GPU ID 0, defaulting to 0. Your kernel may not have been built with NUMA support.\n",
      "2023-08-15 17:55:22.420070: I tensorflow/core/common_runtime/pluggable_device/pluggable_device_factory.cc:271] Created TensorFlow device (/job:localhost/replica:0/task:0/device:GPU:0 with 0 MB memory) -> physical PluggableDevice (device: 0, name: METAL, pci bus id: <undefined>)\n"
     ]
    }
   ],
   "source": [
    "print(\"Simple minded test of the FloatCompareAccuracy class.\")\n",
    "y_true = [0.1,0.5,6.3,8.4,9.1]\n",
    "y_pred = [0.100,0.50,6.3,8.4,9.1]\n",
    "print(float_matches(y_true,y_pred))\n",
    "m = FloatCompareAccuracy()\n",
    "m.update_state(y_true,y_pred)\n",
    "m.result()"
   ]
  },
  {
   "cell_type": "markdown",
   "metadata": {},
   "source": [
    "# Define the model\n",
    "Simple model, use CNN and then fully connected layers."
   ]
  },
  {
   "cell_type": "code",
   "execution_count": 7,
   "metadata": {
    "collapsed": false,
    "ExecuteTime": {
     "end_time": "2023-08-15T21:56:35.402967Z",
     "start_time": "2023-08-15T21:56:35.282118Z"
    }
   },
   "outputs": [],
   "source": [
    "checkpoint_path = \"check_points/CNN_Model_3-{epoch:04d}.ckpt\"\n",
    "checkpoint_dir = os.path.dirname(checkpoint_path)\n",
    "check_point_frequency = 10\n",
    "\n",
    "class MyModel(Model):\n",
    "    def __init__(self):\n",
    "        super(MyModel, self).__init__()\n",
    "        self.conv1 = Conv2D(32, 5, activation='leaky_relu', kernel_regularizer=L1(0.01))\n",
    "        self.conv2 = Conv2D(64, 3, activation='leaky_relu', kernel_regularizer=L1(0.01))\n",
    "        # self.conv3 = Conv2D(128, 3, activation='relu', kernel_regularizer=L1(0.01))\n",
    "        self.flatten = Flatten()\n",
    "        self.d1 = Dense(128, activation='leaky_relu', kernel_regularizer=L1(0.01))\n",
    "        self.d2 = Dense(128,activation='leaky_relu', kernel_regularizer=L1(0.01))\n",
    "        self.d3 = Dense(1, kernel_regularizer=L1(0.001))\n",
    "\n",
    "    def call(self, x):\n",
    "        x = self.conv1(x)\n",
    "        x = self.conv2(x)\n",
    "        # x = self.conv3(x)\n",
    "        x = self.flatten(x)\n",
    "        x = self.d1(x)\n",
    "        x = self.d2(x)\n",
    "        x = self.d3(x)\n",
    "        return x\n",
    "\n",
    "# Create an instance of the model\n",
    "model = MyModel()\n",
    "\n",
    "# loss_object = tf.keras.losses.SparseCategoricalCrossentropy(from_logits=True)\n",
    "loss_object = tf.keras.losses.MeanSquaredError()\n",
    "optimizer = None # tf.keras.optimizers.Adam()\n",
    "\n",
    "train_loss = tf.keras.metrics.Mean(name='train_loss')\n",
    "# train_accuracy = tf.keras.metrics.SparseCategoricalAccuracy(name='train_accuracy')\n",
    "train_accuracy = FloatCompareAccuracy(name='train_accuracy')\n",
    "test_loss = tf.keras.metrics.Mean(name='test_loss')\n",
    "# test_accuracy = tf.keras.metrics.SparseCategoricalAccuracy(name='test_accuracy')\n",
    "test_accuracy = FloatCompareAccuracy(name='test_accuracy')\n",
    "\n",
    "@tf.function\n",
    "def train_step(images, labels):\n",
    "    with tf.GradientTape() as tape:\n",
    "        # training=True is only needed if there are layers with different\n",
    "        # behavior during training versus inference (e.g. Dropout).\n",
    "        predictions = model(images, training=True)\n",
    "        loss = loss_object(labels, predictions)\n",
    "    gradients = tape.gradient(loss, model.trainable_variables)\n",
    "    optimizer.apply_gradients(zip(gradients, model.trainable_variables))\n",
    "    train_loss(loss)\n",
    "    train_accuracy(labels, predictions)\n",
    "\n",
    "@tf.function\n",
    "def test_step(images, labels):\n",
    "    # training=False is only needed if there are layers with different\n",
    "    # behavior during training versus inference (e.g. Dropout).\n",
    "    predictions = model(images, training=False)\n",
    "    t_loss = loss_object(labels, predictions)\n",
    "\n",
    "    test_loss(t_loss)\n",
    "    test_accuracy(labels, predictions)"
   ]
  },
  {
   "cell_type": "markdown",
   "metadata": {},
   "source": [
    "# Prepare the data\n",
    "We make an \"image\" from each event. Initially we are making one image for each identified cluster.\n",
    "The \"truth\" comes from the mc_score information, the particles that went through the scoring plane in front of the ecal. These\n",
    "are grouped into clusters and the energy and position of these clusters is used as \"truth\"."
   ]
  },
  {
   "cell_type": "code",
   "execution_count": 44,
   "metadata": {
    "collapsed": false,
    "ExecuteTime": {
     "end_time": "2023-08-15T22:36:31.172650Z",
     "start_time": "2023-08-15T22:32:49.844416Z"
    }
   },
   "outputs": [
    {
     "name": "stdout",
     "output_type": "stream",
     "text": [
      "n_event = 1497683  out_evt = 1000000  current event = 1497683\n",
      "We got more ECal clusters than score clusters 31553 times.\n"
     ]
    },
    {
     "name": "stderr",
     "output_type": "stream",
     "text": [
      "Warning in <TROOT::Append>: Replacing existing TH1: hist_score_e (Potential memory leak).\n",
      "Warning in <TROOT::Append>: Replacing existing TH1: hist_cluster_e (Potential memory leak).\n",
      "Warning in <TROOT::Append>: Replacing existing TH1: hist_part_e (Potential memory leak).\n"
     ]
    }
   ],
   "source": [
    "event = 0          # Starting event number.\n",
    "batch_size = 1000000 # Number of clusters in the output data.\n",
    "mini_batch_size = 64\n",
    "y_size = 12\n",
    "x_size = 47\n",
    "x_scaling = 100   # Scale the x and y variables to reduce the contribution to the loss.\n",
    "y_scaling = 100\n",
    "# Input training data: the last 1 is for 1 color channel, so we can use standard CNN trainer.\n",
    "ecal_hits = np.zeros([batch_size,y_size,x_size,1],dtype=np.float32)\n",
    "ecal_is_fiducial = np.zeros([batch_size],dtype=bool)\n",
    "ecal_truth = np.zeros([batch_size, 3])   # Truth is energy, x, y\n",
    "ecal_energy = np.zeros([batch_size, 3])  # These are for verification of the end results.\n",
    "ecal_x = np.zeros([batch_size, 2])\n",
    "ecal_y = np.zeros([batch_size, 2])\n",
    "\n",
    "# Histograms to compare to, so we can make sure the data is correct.\n",
    "hist_score_e = R.TH1D(\"hist_score_e\",\"Score energy\",400,-0.5,6.)\n",
    "hist_cluster_e = R.TH1D(\"hist_cluster_e\",\"Cluster energy\",400,-0.5,6.)\n",
    "hist_part_e = R.TH1D(\"hist_part_e\",\"Particle energy\",400,-0.5,6.)\n",
    "\n",
    "R.EAC.mc_score_indexes_are_sorted = True\n",
    "out_evt = 0\n",
    "n_event = 0\n",
    "more_clusters_than_score_clusters = 0 # Count errors.\n",
    "max_event = ch.GetEntries()\n",
    "while out_evt < batch_size:\n",
    "    ch.GetEntry(event)\n",
    "    cl_idx = R.EAC.get_score_cluster_indexes(mdst.mc_score_pz, mdst.mc_score_x, mdst.mc_score_y,\n",
    "                                             mdst.mc_score_z, mdst.ecal_cluster_x, mdst.ecal_cluster_y)\n",
    "    score_e = R.EAC.get_score_cluster_e(cl_idx, mdst.mc_score_px, mdst.mc_score_py, mdst.mc_score_pz)\n",
    "    score_x = R.EAC.get_score_cluster_loc(cl_idx, mdst.mc_score_x, mdst.mc_score_pz)\n",
    "    score_y = R.EAC.get_score_cluster_loc(cl_idx, mdst.mc_score_y, mdst.mc_score_pz)\n",
    "\n",
    "    is_fiducial = R.EAC.fiducial_cut(mdst.ecal_cluster_seed_ix, mdst.ecal_cluster_seed_iy)\n",
    "\n",
    "    n_clust = len(mdst.ecal_cluster_uncor_energy)\n",
    "    if n_clust > len(score_e):\n",
    "        n_clust = len(score_e)  # This would be very rare.\n",
    "        more_clusters_than_score_clusters += 1\n",
    "    for i_ecal in range(n_clust):\n",
    "        for i_echit in range(len(mdst.ecal_cluster_uncor_hits[i_ecal])):\n",
    "            i_hit = mdst.ecal_cluster_uncor_hits[i_ecal][i_echit]\n",
    "            x_loc = mdst.ecal_hit_index_x[i_hit]\n",
    "            if x_loc < 0:\n",
    "                x_loc += 24\n",
    "            else:\n",
    "                x_loc += 23\n",
    "            y_loc = mdst.ecal_hit_index_y[i_hit]+6\n",
    "            ecal_hits[out_evt][y_loc, x_loc][0] = mdst.ecal_hit_energy[i_hit]\n",
    "        mc_id = mdst.ecal_cluster_mc_id[i_ecal]\n",
    "        i_cl = cl_idx[i_ecal]\n",
    "        # ecal_truth[out_evt][0] = mdst.mc_part_energy[mc_id]   ## To train for MC_particle energy truth\n",
    "        # print(f\"{evt:5d} cl_e = {mdst.ecal_cluster_energy[i_ecal]}  s_e = {score_e[i_ecal]}  mc_e = {mdst.mc_part_energy[mc_id]}\")\n",
    "        hist_score_e.Fill(score_e[i_ecal])\n",
    "        ecal_is_fiducial[out_evt] = is_fiducial[i_ecal]\n",
    "        ecal_truth[out_evt][0] = score_e[i_ecal]\n",
    "        ecal_truth[out_evt][1] = score_x[i_ecal]/x_scaling\n",
    "        ecal_truth[out_evt][2] = score_y[i_ecal]/y_scaling\n",
    "        hist_cluster_e.Fill(mdst.ecal_cluster_energy[i_ecal])\n",
    "        hist_part_e.Fill(mdst.mc_part_energy[mc_id])\n",
    "        ecal_energy[out_evt][0] = mdst.ecal_cluster_energy[i_ecal]\n",
    "        ecal_energy[out_evt][1] =score_e[i_ecal]\n",
    "        ecal_energy[out_evt][2] = mdst.mc_part_energy[mc_id]\n",
    "        ecal_x[out_evt]= [mdst.ecal_cluster_x[i_ecal]/x_scaling, score_x[i_ecal]/x_scaling]\n",
    "        ecal_y[out_evt]= [mdst.ecal_cluster_y[i_ecal]/y_scaling, score_y[i_ecal]/y_scaling]\n",
    "        out_evt += 1\n",
    "        if out_evt >= batch_size:\n",
    "            break\n",
    "    event += 1\n",
    "    if event >= max_event:\n",
    "        break\n",
    "    n_event += 1\n",
    "\n",
    "print(f\"n_event = {n_event}  out_evt = {out_evt}  current event = {event}\")\n",
    "print(f\"We got more ECal clusters than score clusters {more_clusters_than_score_clusters} times.\")"
   ]
  },
  {
   "cell_type": "code",
   "execution_count": 45,
   "metadata": {
    "collapsed": false,
    "ExecuteTime": {
     "end_time": "2023-08-15T22:36:32.216736Z",
     "start_time": "2023-08-15T22:36:31.059990Z"
    }
   },
   "outputs": [
    {
     "name": "stdout",
     "output_type": "stream",
     "text": [
      "Ecal fiducial clusters: 1000000 = 100.00%\n"
     ]
    },
    {
     "data": {
      "text/plain": "<Figure size 640x480 with 1 Axes>",
      "image/png": "[encoded data removed]"
     },
     "metadata": {},
     "output_type": "display_data"
    },
    {
     "data": {
      "text/plain": "<Figure size 640x480 with 1 Axes>",
      "image/png": "[encoded data removed]"
     },
     "metadata": {},
     "output_type": "display_data"
    }
   ],
   "source": [
    "# Choose the data_slice, i.e. make a selection of which events we actually use. An array of ones means all events.\n",
    "# You can also make some cut here, i.e. choose fiducial region only.\n",
    "data_slice = np.ones_like(ecal_is_fiducial)\n",
    "# data_slice[120000:] = 0\n",
    "# data_slice = ecal_is_fiducial==True\n",
    "n_fid_clus = len(ecal_hits[data_slice])\n",
    "print(f\"Ecal fiducial clusters: {n_fid_clus:d} = {100*n_fid_clus/out_evt:4.2f}%\")\n",
    "plt.imshow(np.sum(ecal_hits[:10000],axis=0),cmap=\"YlOrRd\")\n",
    "plt.title(\"All Ecal hits\")\n",
    "plt.show()\n",
    "plt.imshow(np.sum(ecal_hits[data_slice][:10000],axis=0),cmap=\"YlOrRd\")\n",
    "plt.title(\"Ecal hits for clusters in slice\")\n",
    "plt.show()\n",
    "n_training = n_fid_clus//2\n",
    "fid_ecal_hits = ecal_hits[data_slice]\n",
    "fid_ecal_truth = ecal_truth[data_slice]\n",
    "x_train = fid_ecal_hits[:n_training]\n",
    "y_train = fid_ecal_truth[:n_training,0:1]\n",
    "x_test = fid_ecal_hits[n_training:]\n",
    "y_test = fid_ecal_truth[n_training:,0:1]\n",
    "#train_ds = tf.data.Dataset.from_tensor_slices((x_train, y_train)).shuffle(n_training).batch(32)\n",
    "#test_ds = tf.data.Dataset.from_tensor_slices((x_test, y_test)).batch(32)"
   ]
  },
  {
   "cell_type": "markdown",
   "source": [
    "# Load previous weights"
   ],
   "metadata": {
    "collapsed": false
   }
  },
  {
   "cell_type": "code",
   "execution_count": 10,
   "metadata": {
    "ExecuteTime": {
     "end_time": "2023-08-15T21:57:29.655739Z",
     "start_time": "2023-08-15T21:57:29.544433Z"
    }
   },
   "outputs": [
    {
     "name": "stdout",
     "output_type": "stream",
     "text": [
      "Starting at epoch 20\n"
     ]
    }
   ],
   "source": [
    "Load_Previous_Numbers = True\n",
    "epoch = 0\n",
    "if Load_Previous_Numbers:\n",
    "    latest = tf.train.latest_checkpoint(checkpoint_dir)\n",
    "    epoch = int(os.path.basename(latest)[12:16])\n",
    "    model.load_weights(latest)\n",
    "    \n",
    "print(f\"Starting at epoch {epoch}\")"
   ]
  },
  {
   "cell_type": "code",
   "execution_count": 11,
   "outputs": [],
   "source": [
    "history = {'loss':[],'train_accuracy':[],'val_loss':[],'val_accuracy':[]}"
   ],
   "metadata": {
    "collapsed": false,
    "ExecuteTime": {
     "end_time": "2023-08-15T21:57:32.496067Z",
     "start_time": "2023-08-15T21:57:32.391958Z"
    }
   }
  },
  {
   "cell_type": "code",
   "execution_count": null,
   "metadata": {
    "collapsed": false,
    "is_executing": true,
    "ExecuteTime": {
     "start_time": "2023-08-16T01:45:27.266997Z"
    }
   },
   "outputs": [
    {
     "name": "stdout",
     "output_type": "stream",
     "text": [
      "......................\n",
      "Epoch 101,Loss:  0.1225951, Accuracy: 24.733%, Test Loss:  0.1843389, Test Accuracy: 21.858%\n",
      "......................\n",
      "Epoch 102,Loss:  0.1215073, Accuracy: 24.845%, Test Loss:  0.1866014, Test Accuracy: 22.478%\n",
      "......................\n",
      "Epoch 103,Loss:  0.1206198, Accuracy: 24.702%, Test Loss:  0.1835376, Test Accuracy: 23.824%\n",
      "......................\n",
      "Epoch 104,Loss:  0.1193384, Accuracy: 24.594%, Test Loss:  0.1942301, Test Accuracy: 22.352%\n",
      "......................\n",
      "Epoch 105,Loss:  0.1189074, Accuracy: 24.453%, Test Loss:  0.1903612, Test Accuracy: 24.459%\n",
      "......................\n",
      "Epoch 106,Loss:  0.1173586, Accuracy: 24.620%, Test Loss:  0.1833735, Test Accuracy: 24.456%\n",
      "......................\n",
      "Epoch 107,Loss:  0.1166917, Accuracy: 24.387%, Test Loss:  0.1911696, Test Accuracy: 20.398%\n",
      "......................\n",
      "Epoch 108,Loss:  0.1151510, Accuracy: 24.607%, Test Loss:  0.1884020, Test Accuracy: 22.464%\n",
      "......................\n",
      "Epoch 109,Loss:  0.1137336, Accuracy: 24.684%, Test Loss:  0.1906397, Test Accuracy: 22.298%\n",
      "......................\n",
      "Wrote check_points/CNN_Model_3-0110.ckpt\n",
      "Epoch 110,Loss:  0.1130198, Accuracy: 24.713%, Test Loss:  0.1927269, Test Accuracy: 24.383%\n",
      "......................\n",
      "Epoch 111,Loss:  0.1120987, Accuracy: 24.682%, Test Loss:  0.1912562, Test Accuracy: 25.150%\n",
      "......................\n",
      "Epoch 112,Loss:  0.1110142, Accuracy: 24.395%, Test Loss:  0.1985613, Test Accuracy: 22.157%\n",
      "......................\n",
      "Epoch 113,Loss:  0.1104593, Accuracy: 24.281%, Test Loss:  0.1916717, Test Accuracy: 26.081%\n",
      "......................\n",
      "Epoch 114,Loss:  0.1091912, Accuracy: 24.453%, Test Loss:  0.1974669, Test Accuracy: 25.340%\n",
      "......................\n",
      "Epoch 115,Loss:  0.1084569, Accuracy: 24.476%, Test Loss:  0.2024291, Test Accuracy: 24.537%\n",
      "......"
     ]
    }
   ],
   "source": [
    "optimizer = tf.keras.optimizers.Adam(learning_rate=0.0001)\n",
    "EPOCHS = 20\n",
    "\n",
    "for num_epoch in range(EPOCHS):\n",
    "    epoch += 1\n",
    "    # Reset the metrics at the start of the next epoch\n",
    "    train_loss.reset_states()\n",
    "    train_accuracy.reset_states()\n",
    "    test_loss.reset_states()\n",
    "    test_accuracy.reset_states()\n",
    "\n",
    "    #for images, labels in train_ds:\n",
    "    #   train_step(images,labels)\n",
    "\n",
    "    #for test_images, test_labels in test_ds:\n",
    "    #    test_step(test_images, test_labels)\n",
    "\n",
    "    for i in range(len(x_train)//mini_batch_size):\n",
    "        if i%(len(x_train)//mini_batch_size//10) ==0:\n",
    "            print(\".\",end=\"\")\n",
    "        train_step(x_train[i*mini_batch_size:(i+1)*mini_batch_size], y_train[i*mini_batch_size:(i+1)*mini_batch_size])\n",
    "    \n",
    "    \n",
    "    for i in range(len(x_train)//mini_batch_size):\n",
    "        if i%(len(x_train)//mini_batch_size//10) ==0:\n",
    "            print(\".\",end=\"\")\n",
    "        test_step(x_test[i*mini_batch_size:(i+1)*mini_batch_size], y_test[i*mini_batch_size:(i+1)*mini_batch_size])\n",
    "    \n",
    "    print(\"\")\n",
    "    \n",
    "    if epoch % check_point_frequency == 0:\n",
    "        model.save_weights(checkpoint_path.format(epoch=epoch))\n",
    "        print(f\"Wrote {checkpoint_path.format(epoch=epoch)}\")\n",
    "    \n",
    "    history['loss'] += [train_loss.result()]\n",
    "    history['train_accuracy'] += [train_accuracy.result()]\n",
    "    history['val_loss'] += [test_loss.result()]\n",
    "    history['val_accuracy'] += [test_accuracy.result()]\n",
    "    print(\n",
    "        f'Epoch {epoch},'\n",
    "        f'Loss: {history[\"loss\"][-1]:10.7f}, '\n",
    "        f'Accuracy: { history[\"train_accuracy\"][-1]* 100:6.3f}%, '\n",
    "        f'Test Loss: {history[\"val_loss\"][-1] :10.7f}, '\n",
    "        f'Test Accuracy: { history[\"val_accuracy\"][-1] * 100:6.3f}%'\n",
    "    )"
   ]
  },
  {
   "cell_type": "code",
   "execution_count": 47,
   "outputs": [
    {
     "data": {
      "text/plain": "<Figure size 640x480 with 1 Axes>",
      "image/png": "[encoded data removed]"
     },
     "metadata": {},
     "output_type": "display_data"
    }
   ],
   "source": [
    "fig = plt.figure()\n",
    "plt.plot(history['loss'][1:], label=\"train\")\n",
    "plt.plot(history['val_loss'][1:], label=\"validation\")\n",
    "plt.legend()\n",
    "plt.show()"
   ],
   "metadata": {
    "collapsed": false,
    "ExecuteTime": {
     "end_time": "2023-08-15T23:40:20.331629Z",
     "start_time": "2023-08-15T23:40:20.160983Z"
    }
   }
  },
  {
   "cell_type": "markdown",
   "source": [
    "Re-run the cell above to train longer, possibly adjusting the learning rate. It looks like the model is getting over-trained here though, since the test loss is not really falling. The regularization may need to be increased, and also a larger number of events should be trained on.\n",
    "\n",
    "The model should probably have a **lot** fewer parameters."
   ],
   "metadata": {
    "collapsed": false
   }
  },
  {
   "cell_type": "markdown",
   "metadata": {},
   "source": [
    "# Check the results\n",
    "Compare the energy from the ECal clusters to the score plane energy and the predicted energy from the model."
   ]
  },
  {
   "cell_type": "code",
   "execution_count": 48,
   "metadata": {
    "collapsed": false,
    "ExecuteTime": {
     "end_time": "2023-08-15T23:40:24.285342Z",
     "start_time": "2023-08-15T23:40:23.132Z"
    }
   },
   "outputs": [],
   "source": [
    "n_test_events = 100000\n",
    "if n_test_events > n_training:\n",
    "    print(\"Asking for too many test events!!!!\")\n",
    "    n_test_events = n_training\n",
    "p1 = model(x_test[:n_test_events//2], training=False)\n",
    "p2 = model(x_test[n_test_events//2:n_test_events], training=False)\n",
    "pred = tf.concat([p1,p2],0)\n",
    "pt1 = model(x_train[:n_test_events//2], training=False)\n",
    "pt2 = model(x_train[n_test_events//2:n_test_events], training=False)\n",
    "pred_train = tf.concat([pt1,pt2],0)\n",
    "#pred_train2 = model(x_train[n_test_events//2:n_test_events], training=False)\n",
    "#pred_train = np.append(pred_train, pred_train2)\n",
    "loss = loss_object(y_test[:n_test_events], pred)\n",
    "loss_train = loss_object(y_train[:n_test_events], pred_train)"
   ]
  },
  {
   "cell_type": "code",
   "execution_count": 49,
   "metadata": {
    "collapsed": false,
    "ExecuteTime": {
     "end_time": "2023-08-15T23:40:24.396930Z",
     "start_time": "2023-08-15T23:40:24.283935Z"
    }
   },
   "outputs": [
    {
     "name": "stdout",
     "output_type": "stream",
     "text": [
      "Shape of test data: (100000, 12, 47, 1), Shape of predicted results: (100000, 1), y_test shape: (100000, 1)\n",
      "Loss for test batch = 0.1753702163696289  Loss for train batch = 0.1750800758600235\n"
     ]
    }
   ],
   "source": [
    "print(f\"Shape of test data: {x_test[:n_test_events].shape}, Shape of predicted results: {pred.shape}, y_test shape: {y_test[:n_test_events].shape}\")\n",
    "print(f\"Loss for test batch = {loss.numpy()}  Loss for train batch = {loss_train.numpy()}\")"
   ]
  },
  {
   "cell_type": "code",
   "execution_count": 50,
   "metadata": {
    "collapsed": false,
    "ExecuteTime": {
     "end_time": "2023-08-15T23:40:24.520405Z",
     "start_time": "2023-08-15T23:40:24.398448Z"
    }
   },
   "outputs": [
    {
     "name": "stdout",
     "output_type": "stream",
     "text": [
      "Mean Square Loss: 0.175370 - Tensor flow computation\n",
      "MSQ combined:     0.175370 - Numpy computation\n"
     ]
    }
   ],
   "source": [
    "msq = tf.keras.metrics.MeanSquaredError(name=\"msq\")\n",
    "loss_msq = msq(y_test[:n_test_events], pred)\n",
    "print(f\"Mean Square Loss: {loss_msq.numpy():8.6f} - Tensor flow computation\")\n",
    "#print(f\"MSQ for energy:   {np.mean(np.square(pred[:,0]-y_test[:,0])):8.6f}, x: {np.mean(np.square(pred[:,1]-y_test[:,1])):8.6f}, y: {np.mean(np.square(pred[:,2]-y_test[:,2])):8.6f}\")\n",
    "print(f\"MSQ combined:     {np.mean(np.square(pred-y_test[:n_test_events])):8.6f} - Numpy computation\")"
   ]
  },
  {
   "cell_type": "code",
   "execution_count": 51,
   "metadata": {
    "collapsed": false,
    "ExecuteTime": {
     "end_time": "2023-08-15T23:40:25.801306Z",
     "start_time": "2023-08-15T23:40:25.049354Z"
    }
   },
   "outputs": [],
   "source": [
    "rdf = R.RDF.FromNumpy({'ecal_cluster_energy':ecal_energy[data_slice][n_training:n_training+n_test_events,0].copy(),'score_e':ecal_energy[data_slice][n_training:n_training+n_test_events,1].copy(), 'mc_part_energy':ecal_energy[data_slice][n_training:n_training+n_test_events,2].copy(),'truth_e':y_test[:n_test_events,0].copy(),'pred_e':pred[:n_test_events,0].numpy().copy()})\n",
    "rdf_train = R.RDF.FromNumpy({'ecal_cluster_energy':ecal_energy[data_slice][:n_test_events,0].copy(),'score_e':ecal_energy[data_slice][:n_test_events,1].copy(), 'mc_part_energy':ecal_energy[data_slice][:n_test_events,2].copy(),'truth_e':y_train[:n_test_events,0].copy(),'pred_e':pred_train[:,0].numpy().copy()})"
   ]
  },
  {
   "cell_type": "code",
   "execution_count": 52,
   "metadata": {
    "collapsed": false,
    "ExecuteTime": {
     "end_time": "2023-08-15T23:40:25.914336Z",
     "start_time": "2023-08-15T23:40:25.806047Z"
    }
   },
   "outputs": [],
   "source": [
    "h_cluster_e = rdf.Histo1D((\"h_cluster_e\",\"ECal cluster energy;E [GeV]\",400,-0.5,6.),\"ecal_cluster_energy\")\n",
    "h_mcpart_e = rdf.Histo1D((\"h_mc_part_e\",\"MC Particle energy\",400,-0.5,6.),\"mc_part_energy\")\n",
    "h_score_e = rdf.Histo1D((\"h_score_e\",\"Score energy\",400,-0.5,6.),\"score_e\")\n",
    "h_truth_e = rdf.Histo1D((\"h_truth_e\",\"Truth energy\",400,-0.5,6.),\"truth_e\")\n",
    "h_pred_e = rdf.Histo1D((\"h_pred_e\",\"Predicted energy\",400,-0.5,6.),\"pred_e\")\n",
    "\n",
    "h_cluster_diff = rdf.Define(\"dif\",\"score_e - ecal_cluster_energy\").Histo1D((\"h_cluster_e\",\"Diff Score E - Ecal Cluster E;#Delta E [GeV]\",400,-2.,2.),\"dif\")\n",
    "h_mcpart_diff = rdf.Define(\"dif\",\"mc_part_energy - score_e\").Histo1D((\"h_mc_part_e\",\"Diff MC Part E - Score E;#Delta E[GeV]\",400,-2.,2.),\"dif\")\n",
    "h_pred_diff = rdf.Define(\"dif\",\"score_e - pred_e\").Histo1D((\"h_pred_e\",\"Score E - Predicted energy;#Delta E[GeV]\",400,-2.,2.),\"dif\")\n",
    "h_pred2_diff = rdf.Define(\"dif\",\"truth_e - pred_e\").Histo1D((\"h_pred_e\",\"Score E - Predicted energy;#Delta E[GeV]\",400,-2.,2.),\"dif\")\n",
    "h_pred_train_diff = rdf_train.Define(\"dif\",\"truth_e - pred_e\").Histo1D((\"h_pred_e\",\"Score E - Predicted energy (Training);#Delta E[GeV]\",400,-2.,2.),\"dif\")\n"
   ]
  },
  {
   "cell_type": "code",
   "execution_count": 53,
   "metadata": {
    "collapsed": false,
    "ExecuteTime": {
     "end_time": "2023-08-15T23:40:27.411403Z",
     "start_time": "2023-08-15T23:40:27.252678Z"
    }
   },
   "outputs": [
    {
     "name": "stderr",
     "output_type": "stream",
     "text": [
      "Warning in <TCanvas::Constructor>: Deleting canvas with same name: cc1\n"
     ]
    },
    {
     "data": {
      "image/png": "[encoded data removed]",
      "text/plain": "<IPython.core.display.Image object>"
     },
     "metadata": {},
     "output_type": "display_data"
    }
   ],
   "source": [
    "cc1 = R.TCanvas(\"cc1\",\"CC1\",1200,1200)\n",
    "cc1.Divide(1,2)\n",
    "p1 = cc1.cd(1)\n",
    "h_cluster_e.SetLineColor(R.kBlue)\n",
    "h_cluster_e.Draw(\"same\")\n",
    "h_pred_e.SetLineWidth(1)\n",
    "h_pred_e.SetLineColor(R.kOrange)\n",
    "h_pred_e.Draw(\"same\")\n",
    "h_score_e.SetLineColor(R.kCyan)\n",
    "h_score_e.Draw(\"same\")\n",
    "# h_mcpart_e.SetLineColor(R.kGreen)\n",
    "# h_mcpart_e.Draw(\"same\")\n",
    "leg = R.TLegend(0.65,0.75,0.79,0.89)\n",
    "leg.AddEntry(h_cluster_e.GetPtr(),\"Ecal cluster E\")\n",
    "leg.AddEntry(h_score_e.GetPtr(),\"Score plane E\")\n",
    "leg.AddEntry(h_pred_e.GetPtr(),\"Predicted E\")\n",
    "leg.Draw()\n",
    "p2 = cc1.cd(2)\n",
    "h_pred_train_diff.SetLineColor(R.kGreen)\n",
    "h_pred_train_diff.Draw(\"same\")\n",
    "h_pred_diff.SetLineWidth(3)\n",
    "h_pred_diff.SetLineColor(R.kOrange)\n",
    "h_pred_diff.Draw(\"same\")\n",
    "h_pred2_diff.SetLineColor(R.kRed)\n",
    "h_pred2_diff.Draw(\"same\")\n",
    "\n",
    "h_cluster_diff.SetLineColor(R.kBlue)\n",
    "h_cluster_diff.Draw(\"same\")\n",
    "\n",
    "cc1.Draw()"
   ]
  },
  {
   "cell_type": "markdown",
   "metadata": {},
   "source": [
    "# Store the results\n",
    "Here we store the resulting model weights into a JSON file. This is an inefficient but convenient data format. Note that the output file size for the current model is ~222MB, so yes, big.\n",
    "TODO: Write the model in a more compressed, non-ascii, data format."
   ]
  },
  {
   "cell_type": "code",
   "execution_count": 42,
   "metadata": {
    "collapsed": false,
    "ExecuteTime": {
     "end_time": "2023-08-15T22:32:36.875896Z",
     "start_time": "2023-08-15T22:32:36.769811Z"
    }
   },
   "outputs": [],
   "source": [
    "import json\n",
    "from json import JSONEncoder\n",
    "class NumpyArrayEncoder(JSONEncoder):\n",
    "    \"\"\"This is a helper class deriving from JSONEncoder to help write np.array objects to disk in JSON format.\n",
    "    The code came from: https://pynative.com/python-serialize-numpy-ndarray-into-json/\"\"\"\n",
    "    def default(self, obj):\n",
    "        if isinstance(obj, np.ndarray):\n",
    "            return obj.tolist()\n",
    "        return JSONEncoder.default(self, obj)\n"
   ]
  },
  {
   "cell_type": "code",
   "execution_count": 43,
   "metadata": {
    "collapsed": false,
    "ExecuteTime": {
     "end_time": "2023-08-15T22:32:39.791877Z",
     "start_time": "2023-08-15T22:32:37.824119Z"
    }
   },
   "outputs": [],
   "source": [
    "model_weights = model.get_weights()\n",
    "outdata = {\"model_weights\":model_weights}\n",
    "with open(\"CNN_Weights_3.json\", \"w\") as write_file:\n",
    "    json.dump(outdata, write_file, cls=NumpyArrayEncoder)"
   ]
  },
  {
   "cell_type": "code",
   "execution_count": 33,
   "outputs": [
    {
     "ename": "IndexError",
     "evalue": "list index out of range",
     "output_type": "error",
     "traceback": [
      "\u001B[0;31m---------------------------------------------------------------------------\u001B[0m",
      "\u001B[0;31mIndexError\u001B[0m                                Traceback (most recent call last)",
      "Cell \u001B[0;32mIn[33], line 1\u001B[0m\n\u001B[0;32m----> 1\u001B[0m \u001B[43mmodel_weights\u001B[49m\u001B[43m[\u001B[49m\u001B[38;5;241;43m10\u001B[39;49m\u001B[43m]\u001B[49m\n",
      "\u001B[0;31mIndexError\u001B[0m: list index out of range"
     ]
    }
   ],
   "source": [],
   "metadata": {
    "collapsed": false,
    "ExecuteTime": {
     "end_time": "2023-08-15T21:54:27.006590Z",
     "start_time": "2023-08-15T21:54:26.745145Z"
    }
   }
  },
  {
   "cell_type": "code",
   "execution_count": null,
   "outputs": [],
   "source": [],
   "metadata": {
    "collapsed": false
   }
  }
 ],
 "metadata": {
  "kernelspec": {
   "display_name": "Python 3 (ipykernel)",
   "language": "python",
   "name": "python3"
  },
  "language_info": {
   "codemirror_mode": {
    "name": "ipython",
    "version": 3
   },
   "file_extension": ".py",
   "mimetype": "text/x-python",
   "name": "python",
   "nbconvert_exporter": "python",
   "pygments_lexer": "ipython3",
   "version": "3.10.10"
  }
 },
 "nbformat": 4,
 "nbformat_minor": 4
}
