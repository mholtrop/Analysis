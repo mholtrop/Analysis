{
 "cells": [
  {
   "cell_type": "markdown",
   "source": [
    "# ECal Convolutional Neural Network detector.\n",
    "This notebook is a test best to try CNN (Convolutional Neural Networks) to detect clusters in the ECal and to assign\n",
    "these clusters the correct energy and position. CNNs are used in computer vision for far more challenging tasks.\n",
    "\n",
    "For the initial data I use single electron or positron, or single muon (+ or -). Situations with multiple clusters and multiple particles can be\n",
    "done later, either by a separate algorith to detect the individual clusters (which can be a an \"object detection\" CNN or FCNN\n",
    "(fully convolutional NN), or by training a CNN to find multiple objects.\n",
    "\n"
   ],
   "metadata": {
    "collapsed": false
   }
  },
  {
   "cell_type": "code",
   "execution_count": 1,
   "outputs": [
    {
     "name": "stdout",
     "output_type": "stream",
     "text": [
      "Welcome to JupyROOT 6.29/01\n"
     ]
    }
   ],
   "source": [
    "import tensorflow as tf\n",
    "from tensorflow.keras.layers import Dense, Flatten, Conv2D\n",
    "from tensorflow.keras import Model\n",
    "import numpy as np\n",
    "from matplotlib import pyplot as plt\n",
    "import sys\n",
    "sys.path.append(\"../Python\")\n",
    "import ROOT as R\n",
    "from array import array\n",
    "import time\n",
    "import numpy as np\n",
    "# Turn jsroot off if you want to make a pdf from this file.\n",
    "%jsroot off\n",
    "from root_helpers import SetStyle\n",
    "from root_helpers import fancy_plot\n",
    "from root_helpers import print_mc_particle_tree\n",
    "from root_helpers import print_daughters\n",
    "# R.EnableImplicitMT()\n"
   ],
   "metadata": {
    "collapsed": false,
    "ExecuteTime": {
     "end_time": "2023-07-24T14:03:46.341167Z",
     "start_time": "2023-07-24T14:03:42.415687Z"
    }
   }
  },
  {
   "cell_type": "code",
   "execution_count": 2,
   "outputs": [
    {
     "name": "stdout",
     "output_type": "stream",
     "text": [
      "Recompile is not needed\n",
      "V1.0.9\n"
     ]
    }
   ],
   "source": [
    "import os\n",
    "recompile = True\n",
    "try:\n",
    "    if os.path.getmtime('../Python/Utility_Functions_C.so') - os.path.getmtime('../Python/Utility_Functions.C') > 0:\n",
    "        recompile = False\n",
    "        print(\"Recompile is not needed\")\n",
    "    else:\n",
    "        print(\"Recompiling: \")\n",
    "except:\n",
    "    print(\"Recompile needed, file not found.\")\n",
    "if recompile:\n",
    "    R.gROOT.LoadMacro(\"../Python/Utility_Functions.C++\")\n",
    "else:\n",
    "    R.gSystem.Load(\"../Python/Utility_Functions_C.so\")\n",
    "R.Utility_Functions()\n",
    "\n",
    "R.gSystem.Load(\"/data/HPS/lib/libMiniDST\")\n",
    "R.gSystem.Load(\"/data/HPS/Analysis/lib/libEcal_Analysis\")\n",
    "R.gInterpreter.ProcessLine('''auto EAC = Ecal_Analysis_Class();''')   # This is key. It puts the EAC in C++ space.\n",
    "print(f\"{R.EAC.Version()}\")"
   ],
   "metadata": {
    "collapsed": false,
    "ExecuteTime": {
     "end_time": "2023-07-24T14:03:50.196226Z",
     "start_time": "2023-07-24T14:03:49.897950Z"
    }
   }
  },
  {
   "cell_type": "code",
   "execution_count": 3,
   "outputs": [
    {
     "name": "stdout",
     "output_type": "stream",
     "text": [
      "Number of events loaded:  6966485\n",
      "MminiDST version = 1.1.0\n"
     ]
    }
   ],
   "source": [
    "ch = R.TChain(\"MiniDST\")\n",
    "#ch.Add(\"/data/HPS/data/physrun2019/pass0/minidst/hps_010610_00030.root\")\n",
    "#ch.Add(\"/data/HPS/data/MC/emumu_calchep/events*.root\")\n",
    "#ch.Add(\"/data/HPS/data/MC/mup_2019/mup_1_2019.root\")\n",
    "ch.Add(\"/data/HPS/data/MC/ele_2019/ele_*_slic_recon.root\")\n",
    "print(f\"Number of events loaded: {ch.GetEntries():8d}\")\n",
    "mdst = R.MiniDst()          # Initiate the class\n",
    "mdst.use_mc_particles=True  # Tell it to look for the MC Particles in the TTree\n",
    "mdst.use_ecal_cluster_uncor = True\n",
    "mdst.use_mc_scoring =True\n",
    "mdst.DefineBranchMap()      # Define the map of all the branches to the contents of the TTree\n",
    "mdst.SetBranchAddressesOnTree(ch) # Connect the TChain (which contains the TTree) to the class.\n",
    "print(f\"MminiDST version = {mdst._version_()}\")\n",
    "event = 0"
   ],
   "metadata": {
    "collapsed": false,
    "ExecuteTime": {
     "end_time": "2023-07-24T14:04:26.781257Z",
     "start_time": "2023-07-24T14:04:26.134762Z"
    }
   }
  },
  {
   "cell_type": "code",
   "execution_count": 4,
   "outputs": [
    {
     "data": {
      "text/plain": "<Figure size 640x480 with 1 Axes>",
      "image/png": "[encoded data removed]"
     },
     "metadata": {},
     "output_type": "display_data"
    }
   ],
   "source": [
    "# Build an image of the ECal hits.\n",
    "event = 0\n",
    "ecal_hits = np.zeros([11,46],dtype=np.float32)\n",
    "for event in range(event,event+10000):\n",
    "    ch.GetEntry(event)\n",
    "    for i_hit in range(len(mdst.ecal_hit_energy)):\n",
    "        x_loc = mdst.ecal_hit_index_x[i_hit]\n",
    "        if x_loc < 0:\n",
    "            x_loc += 23\n",
    "        else:\n",
    "            x_loc += 22\n",
    "        ecal_hits[mdst.ecal_hit_index_y[i_hit]+5,x_loc] += mdst.ecal_hit_energy[i_hit]\n",
    "plt.imshow(ecal_hits,cmap=\"YlOrRd\") #cmap=\"gray\"\n",
    "plt.show()"
   ],
   "metadata": {
    "collapsed": false,
    "ExecuteTime": {
     "end_time": "2023-07-24T14:04:44.941575Z",
     "start_time": "2023-07-24T14:04:44.030293Z"
    }
   }
  },
  {
   "cell_type": "markdown",
   "source": [
    "## Buid the CNN model\n",
    "\n",
    "Most CNNs provide a table output where each entry in the table is the probability that this is the correctly assigned \"label\". In our case we want 3 floats as output, representing the energy, x-position and y-position.\n",
    "\n",
    "The \"loss\" can be defined simply as the sum of differences between the true values and estimated values of the energy, x-position and y-position. The \"accuracy\" of the prediction would need to be the number of times the prediction is within some tolerance value. This is not pre-encoded in TensorFlow so I define my own class, FloatCompareAccuracy (and for completeness also have the IntCompareAccuracy class)\n"
   ],
   "metadata": {
    "collapsed": false
   }
  },
  {
   "cell_type": "code",
   "execution_count": 5,
   "outputs": [],
   "source": [
    "from keras import backend\n",
    "def float_matches(y_true, y_pred, accuracy=1e-2):\n",
    "    \"\"\"Creates int Tensor, 1 if y_true is equal to y_pred within accuracy, 0 if not.\n",
    "\n",
    "    Args:\n",
    "      y_true: Ground truth values, of shape (batch_size, d0, .. dN).\n",
    "      y_pred: The predicted values, of shape (batch_size, d0, .. dN).\n",
    "      accuracy: (Optional) Float representing the fractional accuracy for deciding\n",
    "        whether prediction values are 1 or 0.\n",
    "\n",
    "    Returns:\n",
    "      Binary matches, of shape (batch_size, d0, .. dN).\n",
    "    \"\"\"\n",
    "    y_pred = tf.convert_to_tensor(y_pred)\n",
    "    accuracy = tf.cast(accuracy, y_pred.dtype)\n",
    "    result = tf.less(tf.abs(y_true - y_pred)/y_true, accuracy)\n",
    "    return tf.cast(result, backend.floatx())\n",
    "\n",
    "\n",
    "class IntCompareAccuracy(tf.keras.metrics.Accuracy):\n",
    "    \"\"\"Compare whether the predicted float values round to the truth integer values.\"\"\"\n",
    "    def __init__(self, name='int_compare_accuracy', **kwargs):\n",
    "        super(IntCompareAccuracy, self).__init__(name=name, **kwargs)\n",
    "\n",
    "    def update_state(self, y_true, y_pred, sample_weight=None):\n",
    "        y_true = tf.cast(y_true, tf.int32)\n",
    "        y_pred = tf.cast(y_pred+0.5, tf.int32)\n",
    "        super().update_state(y_true, y_pred)\n",
    "\n",
    "class FloatCompareAccuracy(tf.keras.metrics.MeanMetricWrapper):\n",
    "    \"\"\"Compare whether the predicted float values are within Accuracy_tolerance of the truth float values.\"\"\"\n",
    "    def __init__(self, name='float_compare_accuracy', **kwargs):\n",
    "        super().__init__(float_matches, name=name, **kwargs)\n"
   ],
   "metadata": {
    "collapsed": false,
    "ExecuteTime": {
     "end_time": "2023-07-24T14:04:56.723310Z",
     "start_time": "2023-07-24T14:04:56.619309Z"
    }
   }
  },
  {
   "cell_type": "code",
   "execution_count": 6,
   "outputs": [
    {
     "name": "stdout",
     "output_type": "stream",
     "text": [
      "tf.Tensor([1. 1. 1. 1. 1.], shape=(5,), dtype=float32)\n"
     ]
    },
    {
     "data": {
      "text/plain": "<tf.Tensor: shape=(), dtype=float32, numpy=1.0>"
     },
     "execution_count": 6,
     "metadata": {},
     "output_type": "execute_result"
    },
    {
     "name": "stdout",
     "output_type": "stream",
     "text": [
      "Metal device set to: Apple M1 Max\n",
      "\n",
      "systemMemory: 64.00 GB\n",
      "maxCacheSize: 24.00 GB\n",
      "\n"
     ]
    },
    {
     "name": "stderr",
     "output_type": "stream",
     "text": [
      "2023-07-21 17:26:38.409374: I tensorflow/core/common_runtime/pluggable_device/pluggable_device_factory.cc:305] Could not identify NUMA node of platform GPU ID 0, defaulting to 0. Your kernel may not have been built with NUMA support.\n",
      "2023-07-21 17:26:38.409664: I tensorflow/core/common_runtime/pluggable_device/pluggable_device_factory.cc:271] Created TensorFlow device (/job:localhost/replica:0/task:0/device:GPU:0 with 0 MB memory) -> physical PluggableDevice (device: 0, name: METAL, pci bus id: <undefined>)\n"
     ]
    }
   ],
   "source": [
    "y_true = [0.1,0.5,6.3,8.4,9.1]\n",
    "y_pred = [0.100,0.50,6.3,8.4,9.1]\n",
    "print(float_matches(y_true,y_pred))\n",
    "m = FloatCompareAccuracy()\n",
    "m.update_state(y_true,y_pred)\n",
    "m.result()"
   ],
   "metadata": {
    "collapsed": false,
    "ExecuteTime": {
     "end_time": "2023-07-21T15:26:38.638788Z",
     "start_time": "2023-07-21T15:26:38.417928Z"
    }
   }
  },
  {
   "cell_type": "markdown",
   "source": [
    "# Define the model\n",
    "Simple model, use CNN and then fully connected layers."
   ],
   "metadata": {
    "collapsed": false
   }
  },
  {
   "cell_type": "code",
   "execution_count": 7,
   "outputs": [],
   "source": [
    "class MyModel(Model):\n",
    "    def __init__(self):\n",
    "        super(MyModel, self).__init__()\n",
    "        self.conv1 = Conv2D(32, 5, activation='relu')\n",
    "        self.conv2 = Conv2D(64, 3, activation='relu')\n",
    "        self.conv3 = Conv2D(128, 3, activation='relu')\n",
    "        self.flatten = Flatten()\n",
    "        self.d1 = Dense(512, activation='relu')\n",
    "        self.d2 = Dense(128,activation='relu')\n",
    "        self.d3 = Dense(3)\n",
    "\n",
    "    def call(self, x):\n",
    "        x = self.conv1(x)\n",
    "        x = self.conv2(x)\n",
    "        x = self.conv3(x)\n",
    "        x = self.flatten(x)\n",
    "        x = self.d1(x)\n",
    "        x = self.d2(x)\n",
    "        x = self.d3(x)\n",
    "        return x\n",
    "\n",
    "# Create an instance of the model\n",
    "model = MyModel()\n",
    "\n",
    "# loss_object = tf.keras.losses.SparseCategoricalCrossentropy(from_logits=True)\n",
    "loss_object = tf.keras.losses.MeanSquaredError()\n",
    "optimizer = tf.keras.optimizers.Adam()\n",
    "\n",
    "train_loss = tf.keras.metrics.Mean(name='train_loss')\n",
    "# train_accuracy = tf.keras.metrics.SparseCategoricalAccuracy(name='train_accuracy')\n",
    "train_accuracy = FloatCompareAccuracy(name='train_accuracy')\n",
    "test_loss = tf.keras.metrics.Mean(name='test_loss')\n",
    "# test_accuracy = tf.keras.metrics.SparseCategoricalAccuracy(name='test_accuracy')\n",
    "test_accuracy = FloatCompareAccuracy(name='test_accuracy')\n",
    "\n",
    "@tf.function\n",
    "def train_step(images, labels):\n",
    "    with tf.GradientTape() as tape:\n",
    "        # training=True is only needed if there are layers with different\n",
    "        # behavior during training versus inference (e.g. Dropout).\n",
    "        predictions = model(images, training=True)\n",
    "        loss = loss_object(labels, predictions)\n",
    "    gradients = tape.gradient(loss, model.trainable_variables)\n",
    "    optimizer.apply_gradients(zip(gradients, model.trainable_variables))\n",
    "    train_loss(loss)\n",
    "    train_accuracy(labels, predictions)\n",
    "\n",
    "@tf.function\n",
    "def test_step(images, labels):\n",
    "    # training=False is only needed if there are layers with different\n",
    "    # behavior during training versus inference (e.g. Dropout).\n",
    "    predictions = model(images, training=False)\n",
    "    t_loss = loss_object(labels, predictions)\n",
    "\n",
    "    test_loss(t_loss)\n",
    "    test_accuracy(labels, predictions)"
   ],
   "metadata": {
    "collapsed": false,
    "ExecuteTime": {
     "end_time": "2023-07-21T15:26:41.385236Z",
     "start_time": "2023-07-21T15:26:41.270786Z"
    }
   }
  },
  {
   "cell_type": "markdown",
   "source": [
    "# Prepare the data\n",
    "We make an \"image\" from each event. Initially we are making one image for each identified cluster.\n",
    "The \"truth\" comes from the mc_score information, the particles that went through the scoring plane in front of the ecal. These\n",
    "are grouped into clusters and the energy and position of these clusters is used as \"truth\"."
   ],
   "metadata": {
    "collapsed": false
   }
  },
  {
   "cell_type": "code",
   "execution_count": 8,
   "outputs": [
    {
     "name": "stdout",
     "output_type": "stream",
     "text": [
      "n_event = 74889  out_evt = 50000  event = 74889\n"
     ]
    }
   ],
   "source": [
    "event = 0\n",
    "mini_batch = 50000 # 290000\n",
    "y_size = 12\n",
    "x_size = 47\n",
    "y_scaling = 100   # Scale the x and y variables to reduce the contribution to the loss.\n",
    "x_scaling = 100\n",
    "ecal_hits = np.zeros([mini_batch,y_size,x_size,1],dtype=np.float32)\n",
    "ecal_truth = np.zeros([mini_batch, 3])\n",
    "ecal_energy = np.zeros([mini_batch, 3])\n",
    "ecal_x = np.zeros([mini_batch, 2])\n",
    "ecal_y = np.zeros([mini_batch, 2])\n",
    "\n",
    "R.EAC.mc_score_indexes_are_sorted = True\n",
    "out_evt = 0\n",
    "n_event = 0\n",
    "max_event = ch.GetEntries()\n",
    "while out_evt < mini_batch:\n",
    "    ch.GetEntry(event)\n",
    "    cl_idx = R.EAC.get_score_cluster_indexes(mdst.mc_score_pz, mdst.mc_score_x, mdst.mc_score_y,\n",
    "                                             mdst.mc_score_z, mdst.ecal_cluster_x, mdst.ecal_cluster_y)\n",
    "    score_e = R.EAC.get_score_cluster_e(cl_idx, mdst.mc_score_px, mdst.mc_score_py, mdst.mc_score_pz)\n",
    "    score_x = R.EAC.get_score_cluster_loc(cl_idx, mdst.mc_score_x, mdst.mc_score_pz)\n",
    "    score_y = R.EAC.get_score_cluster_loc(cl_idx, mdst.mc_score_y, mdst.mc_score_pz)\n",
    "\n",
    "    n_clust = len(mdst.ecal_cluster_uncor_energy)\n",
    "    if n_clust > len(score_e):\n",
    "        n_clust = len(score_e)\n",
    "    for i_ecal in range(n_clust):\n",
    "        for i_echit in range(len(mdst.ecal_cluster_uncor_hits[i_ecal])):\n",
    "            i_hit = mdst.ecal_cluster_uncor_hits[i_ecal][i_echit]\n",
    "            x_loc = mdst.ecal_hit_index_x[i_hit]\n",
    "            if x_loc < 0:\n",
    "                x_loc += 24\n",
    "            else:\n",
    "                x_loc += 23\n",
    "            y_loc = mdst.ecal_hit_index_y[i_hit]+6\n",
    "            ecal_hits[out_evt][y_loc, x_loc][0] = mdst.ecal_hit_energy[i_hit]\n",
    "        mc_id = mdst.ecal_cluster_mc_id[i_ecal]\n",
    "        i_cl = cl_idx[i_ecal]\n",
    "        # ecal_truth[out_evt][0] = mdst.mc_part_energy[mc_id]   ## To train for MC_particle energy truth\n",
    "        # print(f\"{evt:5d} cl_e = {mdst.ecal_cluster_energy[i_ecal]}  s_e = {score_e[i_ecal]}  mc_e = {mdst.mc_part_energy[mc_id]}\")\n",
    "        ecal_truth[out_evt][0] = score_e[i_ecal]\n",
    "        ecal_truth[out_evt][1] = score_x[i_ecal]/x_scaling\n",
    "        ecal_truth[out_evt][2] = score_y[i_ecal]/y_scaling\n",
    "        ecal_energy[out_evt]= [mdst.ecal_cluster_energy[i_ecal], score_e[i_ecal], mdst.mc_part_energy[mc_id]]\n",
    "        ecal_x[out_evt]= [mdst.ecal_cluster_x[i_ecal]/x_scaling, score_x[i_ecal]/x_scaling]\n",
    "        ecal_y[out_evt]= [mdst.ecal_cluster_y[i_ecal]/y_scaling, score_y[i_ecal]/y_scaling]\n",
    "        out_evt += 1\n",
    "        if out_evt >= mini_batch:\n",
    "            break\n",
    "    event += 1\n",
    "    if event >= max_event:\n",
    "        break\n",
    "    n_event += 1\n",
    "print(f\"n_event = {n_event}  out_evt = {out_evt}  event = {event}\")\n"
   ],
   "metadata": {
    "collapsed": false,
    "ExecuteTime": {
     "end_time": "2023-07-21T15:26:53.842485Z",
     "start_time": "2023-07-21T15:26:44.021261Z"
    }
   }
  },
  {
   "cell_type": "code",
   "execution_count": 74,
   "outputs": [],
   "source": [
    "x_train = ecal_hits[:mini_batch//2]\n",
    "y_train = ecal_truth[:mini_batch//2]\n",
    "x_test = ecal_hits[mini_batch//2:]\n",
    "y_test = ecal_truth[mini_batch//2:]\n",
    "train_ds = tf.data.Dataset.from_tensor_slices((x_train, y_train)).shuffle(mini_batch).batch(32)\n",
    "test_ds = tf.data.Dataset.from_tensor_slices((x_test, y_test)).batch(32)"
   ],
   "metadata": {
    "collapsed": false,
    "ExecuteTime": {
     "end_time": "2023-07-20T08:28:27.210129Z",
     "start_time": "2023-07-20T08:28:27.083310Z"
    }
   }
  },
  {
   "cell_type": "code",
   "execution_count": 75,
   "outputs": [
    {
     "name": "stdout",
     "output_type": "stream",
     "text": [
      "Epoch 1, Loss: 26.8693676, Accuracy: 33.488%, Test Loss:  0.2365700, Test Accuracy: 33.936%\n",
      "Epoch 2, Loss:  0.1975605, Accuracy: 34.248%, Test Loss:  0.1993277, Test Accuracy: 34.371%\n",
      "Epoch 3, Loss:  0.1655289, Accuracy: 34.661%, Test Loss:  0.1617814, Test Accuracy: 34.063%\n",
      "Epoch 4, Loss:  0.1488046, Accuracy: 34.873%, Test Loss:  0.1732092, Test Accuracy: 34.351%\n",
      "Epoch 5, Loss:  0.1381699, Accuracy: 34.964%, Test Loss:  0.1349539, Test Accuracy: 35.092%\n",
      "Epoch 6, Loss:  0.1287146, Accuracy: 35.187%, Test Loss:  0.1255095, Test Accuracy: 35.584%\n",
      "Epoch 7, Loss:  0.1200779, Accuracy: 35.439%, Test Loss:  0.1130493, Test Accuracy: 36.053%\n",
      "Epoch 8, Loss:  0.1145248, Accuracy: 35.636%, Test Loss:  0.1151435, Test Accuracy: 36.035%\n",
      "Epoch 9, Loss:  0.1090021, Accuracy: 35.853%, Test Loss:  0.1127938, Test Accuracy: 35.381%\n",
      "Epoch 10, Loss:  0.1067395, Accuracy: 35.953%, Test Loss:  0.1124211, Test Accuracy: 35.815%\n"
     ]
    }
   ],
   "source": [
    "EPOCHS = 10\n",
    "\n",
    "for epoch in range(EPOCHS):\n",
    "    # Reset the metrics at the start of the next epoch\n",
    "    train_loss.reset_states()\n",
    "    train_accuracy.reset_states()\n",
    "    test_loss.reset_states()\n",
    "    test_accuracy.reset_states()\n",
    "\n",
    "    for images, labels in train_ds:\n",
    "        train_step(images, labels)\n",
    "\n",
    "    for test_images, test_labels in test_ds:\n",
    "        test_step(test_images, test_labels)\n",
    "\n",
    "    print(\n",
    "        f'Epoch {epoch + 1}, '\n",
    "        f'Loss: {train_loss.result():10.7f}, '\n",
    "        f'Accuracy: {train_accuracy.result() * 100:6.3f}%, '\n",
    "        f'Test Loss: {test_loss.result():10.7f}, '\n",
    "        f'Test Accuracy: {test_accuracy.result() * 100:6.3f}%'\n",
    "    )"
   ],
   "metadata": {
    "collapsed": false,
    "ExecuteTime": {
     "end_time": "2023-07-20T08:29:33.269640Z",
     "start_time": "2023-07-20T08:28:29.844188Z"
    }
   }
  },
  {
   "cell_type": "markdown",
   "source": [
    "\n",
    "# Check the results\n",
    "Compare the energy from the ECal clusters to the score plane energy and the predicted energy from the model."
   ],
   "metadata": {
    "collapsed": false
   }
  },
  {
   "cell_type": "code",
   "execution_count": 76,
   "outputs": [],
   "source": [
    "pred = model(x_test, training=False)"
   ],
   "metadata": {
    "collapsed": false,
    "ExecuteTime": {
     "end_time": "2023-07-20T08:31:12.201746Z",
     "start_time": "2023-07-20T08:31:12.090041Z"
    }
   }
  },
  {
   "cell_type": "code",
   "execution_count": 81,
   "outputs": [
    {
     "data": {
      "text/plain": "0.33539602"
     },
     "execution_count": 81,
     "metadata": {},
     "output_type": "execute_result"
    }
   ],
   "source": [
    "np.sqrt(np.mean(np.square(pred-y_test)))"
   ],
   "metadata": {
    "collapsed": false,
    "ExecuteTime": {
     "end_time": "2023-07-20T08:33:19.892582Z",
     "start_time": "2023-07-20T08:33:19.782881Z"
    }
   }
  },
  {
   "cell_type": "code",
   "execution_count": 123,
   "outputs": [],
   "source": [
    "rdf = R.RDF.FromNumpy({'ecal_cluster_energy':ecal_energy[mini_batch//2:,0],'score_e':ecal_energy[mini_batch//2:,1] , 'mc_part_energy':ecal_energy[mini_batch//2:,2],'truth_e':y_test[:,0], 'truth_x':y_test[:,1]*x_scaling, 'truth_y':y_test[:,2]*x_scaling ,'pred_e':pred[:,0].numpy(), 'pred_x':pred[:,1].numpy()*x_scaling, 'pred_y':pred[:,2].numpy()*y_scaling})"
   ],
   "metadata": {
    "collapsed": false,
    "ExecuteTime": {
     "end_time": "2023-07-21T15:20:46.321679Z",
     "start_time": "2023-07-21T15:20:45.924045Z"
    }
   }
  },
  {
   "cell_type": "code",
   "execution_count": 124,
   "outputs": [],
   "source": [
    "h_cluster_e = rdf.Histo1D((\"h_cluster_e\",\"ECal cluster energy;E [GeV]\",400,-0.5,6.),\"ecal_cluster_energy\")\n",
    "h_mcpart_e = rdf.Histo1D((\"h_mc_part_e\",\"MC Particle energy\",400,-0.5,6.),\"mc_part_energy\")\n",
    "h_score_e = rdf.Histo1D((\"h_score_e\",\"Score energy\",400,-0.5,6.),\"score_e\")\n",
    "h_truth_e = rdf.Histo1D((\"h_truth_e\",\"Truth energy\",400,-0.5,6.),\"truth_e\")\n",
    "h_pred_e = rdf.Histo1D((\"h_pred_e\",\"Predicted energy\",400,-0.5,6.),\"pred_e\")\n"
   ],
   "metadata": {
    "collapsed": false,
    "ExecuteTime": {
     "end_time": "2023-07-21T15:21:11.529733Z",
     "start_time": "2023-07-21T15:21:11.422298Z"
    }
   }
  },
  {
   "cell_type": "code",
   "execution_count": 128,
   "outputs": [
    {
     "name": "stderr",
     "output_type": "stream",
     "text": [
      "Warning in <TCanvas::Constructor>: Deleting canvas with same name: cc1\n"
     ]
    },
    {
     "data": {
      "image/png": "[encoded data removed]",
      "text/plain": "<IPython.core.display.Image object>"
     },
     "metadata": {},
     "output_type": "display_data"
    }
   ],
   "source": [
    "cc1 = R.TCanvas(\"cc1\",\"CC1\",1200,800)\n",
    "h_truth_e.SetLineWidth(1)\n",
    "h_truth_e.SetLineColor(R.kRed)\n",
    "h_truth_e.Draw()\n",
    "h_score_e.SetLineColor(R.kOrange)\n",
    "h_score_e.Draw(\"same\")\n",
    "#h_cluster_e.SetLineColor(R.kBlue)\n",
    "#h_cluster_e.Draw(\"same\")\n",
    "#h_mcpart_e.SetLineColor(R.kGreen)\n",
    "#h_mcpart_e.Draw(\"same\")\n",
    "cc1.Draw()"
   ],
   "metadata": {
    "collapsed": false,
    "ExecuteTime": {
     "end_time": "2023-07-21T15:22:52.935980Z",
     "start_time": "2023-07-21T15:22:52.789264Z"
    }
   }
  },
  {
   "cell_type": "code",
   "execution_count": 103,
   "outputs": [
    {
     "data": {
      "text/plain": "<tf.Tensor: shape=(25000,), dtype=float32, numpy=\narray([244.18245 , -47.858685, 161.73732 , ..., 101.289   , 333.3563  ,\n        65.85432 ], dtype=float32)>"
     },
     "execution_count": 103,
     "metadata": {},
     "output_type": "execute_result"
    }
   ],
   "source": [
    "y_train"
   ],
   "metadata": {
    "collapsed": false,
    "ExecuteTime": {
     "end_time": "2023-07-21T14:24:44.962866Z",
     "start_time": "2023-07-21T14:24:44.846025Z"
    }
   }
  },
  {
   "cell_type": "code",
   "execution_count": 119,
   "outputs": [
    {
     "data": {
      "text/plain": "<class cppyy.gbl.std.vector<double> at 0x2ba267cd0>"
     },
     "execution_count": 119,
     "metadata": {},
     "output_type": "execute_result"
    }
   ],
   "source": [
    "type(score_e)"
   ],
   "metadata": {
    "collapsed": false,
    "ExecuteTime": {
     "end_time": "2023-07-21T15:16:14.268128Z",
     "start_time": "2023-07-21T15:16:14.160603Z"
    }
   }
  },
  {
   "cell_type": "code",
   "execution_count": null,
   "outputs": [],
   "source": [],
   "metadata": {
    "collapsed": false
   }
  }
 ],
 "metadata": {
  "kernelspec": {
   "display_name": "Python 3",
   "language": "python",
   "name": "python3"
  },
  "language_info": {
   "codemirror_mode": {
    "name": "ipython",
    "version": 2
   },
   "file_extension": ".py",
   "mimetype": "text/x-python",
   "name": "python",
   "nbconvert_exporter": "python",
   "pygments_lexer": "ipython2",
   "version": "2.7.6"
  }
 },
 "nbformat": 4,
 "nbformat_minor": 0
}
