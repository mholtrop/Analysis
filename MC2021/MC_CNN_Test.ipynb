{
 "cells": [
  {
   "cell_type": "markdown",
   "metadata": {},
   "source": [
    "# ECal Convolutional Neural Network detector.\n",
    "This notebook is a test best to try CNN (Convolutional Neural Networks) to detect clusters in the ECal and to assign\n",
    "these clusters the correct energy and position. CNNs are used in computer vision for far more challenging tasks.\n",
    "\n",
    "For the initial data I use single electron or positron. Note that muons are not a good idea, since they are not supposed to deposit their energy in the ECal, they are MIPs, thus training to find the muon energy from the ECal will not work, at all.\n",
    "\n",
    "Situations with multiple clusters and multiple particles can be\n",
    "done later, either by a separate algorith to detect the individual clusters (which can be a an \"object detection\" CNN or FCNN\n",
    "(fully convolutional NN), or by training a CNN to find multiple objects.\n",
    "\n"
   ]
  },
  {
   "cell_type": "code",
   "execution_count": 1,
   "metadata": {
    "collapsed": false,
    "ExecuteTime": {
     "end_time": "2023-08-19T19:33:19.647982Z",
     "start_time": "2023-08-19T19:33:12.227996Z"
    }
   },
   "outputs": [
    {
     "name": "stdout",
     "output_type": "stream",
     "text": [
      "Welcome to JupyROOT 6.29/01\n"
     ]
    }
   ],
   "source": [
    "import tensorflow as tf\n",
    "from tensorflow.keras.layers import Dense, Flatten, Conv2D, MaxPooling2D, Dropout, BatchNormalization\n",
    "from tensorflow.keras import Model\n",
    "from tensorflow.keras.regularizers import L1\n",
    "import numpy as np\n",
    "from matplotlib import pyplot as plt\n",
    "import sys\n",
    "sys.path.append(\"../Python\")\n",
    "import ROOT as R\n",
    "from array import array\n",
    "import time\n",
    "import numpy as np\n",
    "# Turn jsroot off if you want to make a pdf from this file.\n",
    "%jsroot off\n",
    "from root_helpers import SetStyle\n",
    "from root_helpers import fancy_plot\n",
    "from root_helpers import print_mc_particle_tree\n",
    "from root_helpers import print_daughters\n",
    "# R.EnableImplicitMT()\n"
   ]
  },
  {
   "cell_type": "code",
   "execution_count": 2,
   "metadata": {
    "collapsed": false,
    "ExecuteTime": {
     "end_time": "2023-08-19T19:33:19.967644Z",
     "start_time": "2023-08-19T19:33:19.643663Z"
    }
   },
   "outputs": [
    {
     "name": "stdout",
     "output_type": "stream",
     "text": [
      "Recompile is not needed\n",
      "V1.0.9\n"
     ]
    }
   ],
   "source": [
    "import os\n",
    "recompile = True\n",
    "try:\n",
    "    if os.path.getmtime('../Python/Utility_Functions_C.so') - os.path.getmtime('../Python/Utility_Functions.C') > 0:\n",
    "        recompile = False\n",
    "        print(\"Recompile is not needed\")\n",
    "    else:\n",
    "        print(\"Recompiling: \")\n",
    "except:\n",
    "    print(\"Recompile needed, file not found.\")\n",
    "if recompile:\n",
    "    R.gROOT.LoadMacro(\"../Python/Utility_Functions.C++\")\n",
    "else:\n",
    "    R.gSystem.Load(\"../Python/Utility_Functions_C.so\")\n",
    "R.Utility_Functions()\n",
    "\n",
    "R.gSystem.Load(\"/data/HPS/lib/libMiniDST\")\n",
    "R.gSystem.Load(\"/data/HPS/Analysis/lib/libEcal_Analysis\")\n",
    "R.gInterpreter.ProcessLine('''auto EAC = Ecal_Analysis_Class();''')   # This is key. It puts the EAC in C++ space.\n",
    "print(f\"{R.EAC.Version()}\")"
   ]
  },
  {
   "cell_type": "code",
   "execution_count": 3,
   "metadata": {
    "collapsed": false,
    "ExecuteTime": {
     "end_time": "2023-08-19T19:33:20.758630Z",
     "start_time": "2023-08-19T19:33:20.309558Z"
    }
   },
   "outputs": [
    {
     "name": "stdout",
     "output_type": "stream",
     "text": [
      "Number of events loaded:  2012917\n",
      "MminiDST version = 1.1.0\n"
     ]
    }
   ],
   "source": [
    "ch = R.TChain(\"MiniDST\")\n",
    "#ch.Add(\"/data/HPS/data/physrun2019/pass0/minidst/hps_010610_00030.root\")\n",
    "#ch.Add(\"/data/HPS/data/MC/emumu_calchep/events*.root\")\n",
    "#ch.Add(\"/data/HPS/data/MC/mup_2019/mup_1_2019.root\")\n",
    "ch.Add(\"/data/HPS/data/MC/ele_2019/ele_*_slic_recon.root\")\n",
    "print(f\"Number of events loaded: {ch.GetEntries():8d}\")\n",
    "mdst = R.MiniDst()          # Initiate the class\n",
    "mdst.use_mc_particles=True  # Tell it to look for the MC Particles in the TTree\n",
    "mdst.use_ecal_cluster_uncor = True\n",
    "mdst.use_mc_scoring =True\n",
    "mdst.DefineBranchMap()      # Define the map of all the branches to the contents of the TTree\n",
    "mdst.SetBranchAddressesOnTree(ch) # Connect the TChain (which contains the TTree) to the class.\n",
    "print(f\"MminiDST version = {mdst._version_()}\")\n",
    "event = 0"
   ]
  },
  {
   "cell_type": "code",
   "execution_count": 4,
   "metadata": {
    "collapsed": false,
    "ExecuteTime": {
     "end_time": "2023-08-19T19:33:21.192927Z",
     "start_time": "2023-08-19T19:33:20.759916Z"
    }
   },
   "outputs": [
    {
     "name": "stdout",
     "output_type": "stream",
     "text": [
      "Ecal test image for events [0,1000]\n"
     ]
    },
    {
     "data": {
      "text/plain": "<Figure size 640x480 with 1 Axes>",
      "image/png": "[encoded data removed]"
     },
     "metadata": {},
     "output_type": "display_data"
    }
   ],
   "source": [
    "# Build an image of the ECal hits.\n",
    "event = 0\n",
    "Nevent = 1000\n",
    "print(f\"Ecal test image for events [{event},{event+Nevent}]\")\n",
    "ecal_hits = np.zeros([11,46],dtype=np.float32)\n",
    "for event in range(event,event+Nevent):\n",
    "    ch.GetEntry(event)\n",
    "    for i_hit in range(len(mdst.ecal_hit_energy)):\n",
    "        x_loc = mdst.ecal_hit_index_x[i_hit]\n",
    "        if x_loc < 0:\n",
    "            x_loc += 23\n",
    "        else:\n",
    "            x_loc += 22\n",
    "        ecal_hits[mdst.ecal_hit_index_y[i_hit]+5,x_loc] += mdst.ecal_hit_energy[i_hit]\n",
    "plt.imshow(ecal_hits,cmap=\"YlOrRd\") #cmap=\"gray\"\n",
    "plt.show()"
   ]
  },
  {
   "cell_type": "markdown",
   "source": [
    "# Prepare the data\n",
    "We make an \"image\" from each event. Initially we are making one image for each identified cluster.\n",
    "The \"truth\" comes from the mc_score information, the particles that went through the scoring plane in front of the ecal. These\n",
    "are grouped into clusters and the energy and position of these clusters is used as \"truth\"."
   ],
   "metadata": {
    "collapsed": false
   }
  },
  {
   "cell_type": "code",
   "execution_count": 5,
   "outputs": [
    {
     "name": "stdout",
     "output_type": "stream",
     "text": [
      "Event:       0\n",
      "Event:  100000\n",
      "Event:  200000\n",
      "Event:  300000\n",
      "Event:  400000\n",
      "Event:  500000\n",
      "Event:  600000\n",
      "Event:  700000\n",
      "Event:  800000\n",
      "Event:  900000\n",
      "Event: 1000000\n",
      "Event: 1100000\n",
      "Event: 1200000\n",
      "Event: 1300000\n",
      "Event: 1400000\n",
      "Event: 1500000\n",
      "Event: 1600000\n",
      "Event: 1700000\n",
      "Event: 1800000\n",
      "Event: 1900000\n",
      "Event: 2000000\n",
      "n_event = 2012916  out_evt = 1344308  current event = 2012917\n",
      "We got more ECal clusters than score clusters 42390 times.\n"
     ]
    }
   ],
   "source": [
    "event = 0          # Starting event number.\n",
    "batch_size = 2000000 # Number of clusters in the output data.\n",
    "mini_batch_size = 64\n",
    "y_size = 12\n",
    "x_size = 47\n",
    "x_scaling = 100   # Scale the x and y variables to reduce the contribution to the loss.\n",
    "y_scaling = 100\n",
    "# Input training data: the last 1 is for 1 color channel, so we can use standard CNN trainer.\n",
    "ecal_hits = np.zeros([batch_size,y_size,x_size,1],dtype=np.float32)\n",
    "ecal_is_fiducial = np.zeros([batch_size],dtype=bool)\n",
    "ecal_truth = np.zeros([batch_size, 3])   # Truth is energy, x, y\n",
    "ecal_energy = np.zeros([batch_size, 3])  # These are for verification of the end results.\n",
    "ecal_x = np.zeros([batch_size, 2])\n",
    "ecal_y = np.zeros([batch_size, 2])\n",
    "\n",
    "# Histograms to compare to, so we can make sure the data is correct.\n",
    "hist_score_e = R.TH1D(\"hist_score_e\",\"Score energy\",400,-0.5,6.)\n",
    "hist_cluster_e = R.TH1D(\"hist_cluster_e\",\"Cluster energy\",400,-0.5,6.)\n",
    "hist_part_e = R.TH1D(\"hist_part_e\",\"Particle energy\",400,-0.5,6.)\n",
    "hist_diff_e = R.TH1D(\"hist_diff_e\",\"Delta Score - Cluster E\",400, -2.,2.)\n",
    "\n",
    "hist_score_e_fid = R.TH1D(\"hist_score_e_fid\",\"Score energy\",400,-0.5,6.)\n",
    "hist_cluster_e_fid = R.TH1D(\"hist_cluster_e_fid\",\"Cluster energy\",400,-0.5,6.)\n",
    "hist_part_e_fid = R.TH1D(\"hist_part_e_fid\",\"Particle energy\",400,-0.5,6.)\n",
    "hist_diff_e_fid  = R.TH1D(\"hist_diff_fid\",\"Delta Score - Cluster E\",400, -2.,2.)\n",
    "\n",
    "hist_score_e_nfid = R.TH1D(\"hist_score_e_nfid\",\"Score energy\",400,-0.5,6.)\n",
    "hist_cluster_e_nfid = R.TH1D(\"hist_cluster_e_nfid\",\"Cluster energy\",400,-0.5,6.)\n",
    "hist_part_e_nfid = R.TH1D(\"hist_part_e_nfid\",\"Particle energy\",400,-0.5,6.)\n",
    "hist_diff_e_nfid = R.TH1D(\"hist_diff_e_nfid\",\"Delta Score - Cluster E\",400, -2.,2.)\n",
    "\n",
    "R.EAC.mc_score_indexes_are_sorted = True\n",
    "out_evt = 0\n",
    "n_event = 0\n",
    "more_clusters_than_score_clusters = 0 # Count errors.\n",
    "max_event = ch.GetEntries()\n",
    "while out_evt < batch_size:\n",
    "    ch.GetEntry(event)\n",
    "    if event%100000 == 0:\n",
    "        print(f\"Event: {event:7d}\")\n",
    "    cl_idx = R.EAC.get_score_cluster_indexes(mdst.mc_score_pz, mdst.mc_score_x, mdst.mc_score_y,\n",
    "                                             mdst.mc_score_z, mdst.ecal_cluster_x, mdst.ecal_cluster_y)\n",
    "    score_e = R.EAC.get_score_cluster_e(cl_idx, mdst.mc_score_px, mdst.mc_score_py, mdst.mc_score_pz)\n",
    "    score_x = R.EAC.get_score_cluster_loc(cl_idx, mdst.mc_score_x, mdst.mc_score_pz)\n",
    "    score_y = R.EAC.get_score_cluster_loc(cl_idx, mdst.mc_score_y, mdst.mc_score_pz)\n",
    "\n",
    "    is_fiducial = R.EAC.fiducial_cut(mdst.ecal_cluster_seed_ix, mdst.ecal_cluster_seed_iy)\n",
    "\n",
    "    n_clust = len(mdst.ecal_cluster_uncor_energy)\n",
    "    if n_clust > len(score_e):\n",
    "        n_clust = len(score_e)  # This would be very rare.\n",
    "        more_clusters_than_score_clusters += 1\n",
    "    for i_ecal in range(n_clust):\n",
    "        for i_echit in range(len(mdst.ecal_cluster_uncor_hits[i_ecal])):\n",
    "            i_hit = mdst.ecal_cluster_uncor_hits[i_ecal][i_echit]\n",
    "            x_loc = mdst.ecal_hit_index_x[i_hit]\n",
    "            if x_loc < 0:\n",
    "                x_loc += 24\n",
    "            else:\n",
    "                x_loc += 23\n",
    "            y_loc = mdst.ecal_hit_index_y[i_hit]+6\n",
    "            ecal_hits[out_evt][y_loc, x_loc][0] = mdst.ecal_hit_energy[i_hit]\n",
    "        mc_id = mdst.ecal_cluster_mc_id[i_ecal]\n",
    "        i_cl = cl_idx[i_ecal]\n",
    "        # ecal_truth[out_evt][0] = mdst.mc_part_energy[mc_id]   ## To train for MC_particle energy truth\n",
    "        # print(f\"{evt:5d} cl_e = {mdst.ecal_cluster_energy[i_ecal]}  s_e = {score_e[i_ecal]}  mc_e = {mdst.mc_part_energy[mc_id]}\")\n",
    "        \n",
    "        ecal_is_fiducial[out_evt] = is_fiducial[i_ecal]\n",
    "        ecal_truth[out_evt][0] = score_e[i_ecal]\n",
    "        ecal_truth[out_evt][1] = score_x[i_ecal]/x_scaling\n",
    "        ecal_truth[out_evt][2] = score_y[i_ecal]/y_scaling\n",
    "        hist_score_e.Fill(score_e[i_ecal])\n",
    "        hist_cluster_e.Fill(mdst.ecal_cluster_energy[i_ecal])\n",
    "        hist_part_e.Fill(mdst.mc_part_energy[mc_id])\n",
    "        hist_diff_e.Fill(score_e[i_ecal] - mdst.ecal_cluster_energy[i_ecal])\n",
    "        if is_fiducial[i_ecal]:\n",
    "            hist_score_e_fid.Fill(score_e[i_ecal])\n",
    "            hist_cluster_e_fid.Fill(mdst.ecal_cluster_energy[i_ecal])\n",
    "            hist_part_e_fid.Fill(mdst.mc_part_energy[mc_id])\n",
    "            hist_diff_e_fid.Fill(score_e[i_ecal] - mdst.ecal_cluster_energy[i_ecal])\n",
    "        else:\n",
    "            hist_score_e_nfid.Fill(score_e[i_ecal])\n",
    "            hist_cluster_e_nfid.Fill(mdst.ecal_cluster_energy[i_ecal])\n",
    "            hist_part_e_nfid.Fill(mdst.mc_part_energy[mc_id])\n",
    "            hist_diff_e_nfid.Fill(score_e[i_ecal] - mdst.ecal_cluster_energy[i_ecal])\n",
    "\n",
    "        ecal_energy[out_evt][0] = mdst.ecal_cluster_energy[i_ecal]\n",
    "        ecal_energy[out_evt][1] =score_e[i_ecal]\n",
    "        ecal_energy[out_evt][2] = mdst.mc_part_energy[mc_id]\n",
    "        ecal_x[out_evt]= [mdst.ecal_cluster_x[i_ecal]/x_scaling, score_x[i_ecal]/x_scaling]\n",
    "        ecal_y[out_evt]= [mdst.ecal_cluster_y[i_ecal]/y_scaling, score_y[i_ecal]/y_scaling]\n",
    "        out_evt += 1\n",
    "        if out_evt >= batch_size:\n",
    "            break\n",
    "    event += 1\n",
    "    if event >= max_event:\n",
    "        break\n",
    "    n_event += 1\n",
    "\n",
    "print(f\"n_event = {n_event}  out_evt = {out_evt}  current event = {event}\")\n",
    "print(f\"We got more ECal clusters than score clusters {more_clusters_than_score_clusters} times.\")"
   ],
   "metadata": {
    "collapsed": false,
    "ExecuteTime": {
     "end_time": "2023-08-19T19:39:12.847683Z",
     "start_time": "2023-08-19T19:34:00.963889Z"
    }
   }
  },
  {
   "cell_type": "code",
   "execution_count": 6,
   "outputs": [],
   "source": [
    "# cc0 = R.TCanvas(\"cc0\",\"CC0\",1200,1200)\n",
    "# cc0.Divide(1,2)\n",
    "# p1 = cc0.cd(1)\n",
    "# hist_cluster_e.SetLineColor(R.kBlue)\n",
    "# hist_cluster_e.Draw(\"same\")\n",
    "# hist_cluster_e_nfid.SetLineColor(R.kRed)\n",
    "# hist_cluster_e_nfid.Draw(\"same\")\n",
    "# hist_cluster_e_fid.SetLineColor(R.kOrange)\n",
    "# hist_cluster_e_fid.Draw(\"same\")\n",
    "# hist_score_e.SetLineColor(R.kCyan)\n",
    "# hist_score_e.Draw(\"same\")\n",
    "# hist_part_e.SetLineColor(R.kGreen)\n",
    "# hist_part_e.Draw(\"same\")\n",
    "# p2 = cc0.cd(2)\n",
    "# hist_diff_e.SetLineColor(R.kBlue)\n",
    "# hist_diff_e.Draw(\"same\")\n",
    "# hist_diff_e_fid.SetLineColor(R.kGreen)\n",
    "# hist_diff_e_fid.Draw(\"same\")\n",
    "# hist_diff_e_nfid.SetLineColor(R.kRed)\n",
    "# hist_diff_e_nfid.Draw(\"same\")\n",
    "# cc0.Draw()"
   ],
   "metadata": {
    "collapsed": false,
    "ExecuteTime": {
     "end_time": "2023-08-17T20:48:18.472970Z",
     "start_time": "2023-08-17T20:48:18.362563Z"
    }
   }
  },
  {
   "cell_type": "code",
   "execution_count": 6,
   "outputs": [],
   "source": [
    "import pandas as pd"
   ],
   "metadata": {
    "collapsed": false,
    "ExecuteTime": {
     "end_time": "2023-08-19T19:48:14.673563Z",
     "start_time": "2023-08-19T19:48:14.564124Z"
    }
   }
  },
  {
   "cell_type": "markdown",
   "source": [],
   "metadata": {
    "collapsed": false
   }
  },
  {
   "cell_type": "code",
   "execution_count": 23,
   "outputs": [],
   "source": [
    "df = pd.DataFrame(data=ecal_hits.reshape(len(ecal_hits),12*47))"
   ],
   "metadata": {
    "collapsed": false,
    "ExecuteTime": {
     "end_time": "2023-08-19T20:14:49.709325Z",
     "start_time": "2023-08-19T20:14:49.604230Z"
    }
   }
  },
  {
   "cell_type": "code",
   "execution_count": 28,
   "outputs": [],
   "source": [
    "df.to_hdf(\"test.hdf\", key=\"ecal_hits\")"
   ],
   "metadata": {
    "collapsed": false,
    "ExecuteTime": {
     "end_time": "2023-08-19T20:17:35.295169Z",
     "start_time": "2023-08-19T20:17:34.201225Z"
    }
   }
  },
  {
   "cell_type": "code",
   "execution_count": 7,
   "metadata": {
    "collapsed": false,
    "ExecuteTime": {
     "end_time": "2023-08-17T20:48:20.321480Z",
     "start_time": "2023-08-17T20:48:18.475621Z"
    }
   },
   "outputs": [
    {
     "name": "stdout",
     "output_type": "stream",
     "text": [
      "Ecal fiducial clusters: 2000000 = 148.78%\n"
     ]
    },
    {
     "data": {
      "text/plain": "<Figure size 640x480 with 1 Axes>",
      "image/png": "[encoded data removed]"
     },
     "metadata": {},
     "output_type": "display_data"
    },
    {
     "data": {
      "text/plain": "<Figure size 640x480 with 1 Axes>",
      "image/png": "[encoded data removed]"
     },
     "metadata": {},
     "output_type": "display_data"
    }
   ],
   "source": [
    "# Choose the data_slice, i.e. make a selection of which events we actually use. An array of ones means all events.\n",
    "# You can also make some cut here, i.e. choose fiducial region only.\n",
    "data_slice = np.ones_like(ecal_is_fiducial)\n",
    "# data_slice[120000:] = 0\n",
    "# data_slice = ecal_is_fiducial==True\n",
    "# data_slice = ecal_is_fiducial==False\n",
    "n_fid_clus = len(ecal_hits[data_slice])\n",
    "print(f\"Ecal fiducial clusters: {n_fid_clus:d} = {100*n_fid_clus/out_evt:4.2f}%\")\n",
    "plt.imshow(np.sum(ecal_hits[:10000],axis=0),cmap=\"YlOrRd\")\n",
    "plt.title(\"All Ecal hits\")\n",
    "plt.show()\n",
    "plt.imshow(np.sum(ecal_hits[data_slice][:10000],axis=0),cmap=\"YlOrRd\")\n",
    "plt.title(\"Ecal hits for clusters in slice\")\n",
    "plt.show()\n",
    "n_training = 1000000 # n_fid_clus//2\n",
    "n_testing = 100000 # n_fid_clus//2\n",
    "if n_training + n_testing > n_fid_clus:\n",
    "    print(\"We don't have that much data loaded. Load more.\")\n",
    "    n_training = n_fid_clus//2\n",
    "    n_testing = n_fid_clus//2\n",
    "fid_ecal_hits = ecal_hits[data_slice]\n",
    "fid_ecal_truth = ecal_truth[data_slice]\n",
    "x_train = fid_ecal_hits[:n_training]\n",
    "y_train = fid_ecal_truth[:n_training,0:1]\n",
    "x_test = fid_ecal_hits[n_training:n_training+n_testing]\n",
    "y_test = fid_ecal_truth[n_training:n_training+n_testing,0:1]\n",
    "#train_ds = tf.data.Dataset.from_tensor_slices((x_train, y_train)).shuffle(n_training).batch(32)\n",
    "#test_ds = tf.data.Dataset.from_tensor_slices((x_test, y_test)).batch(32)"
   ]
  },
  {
   "cell_type": "markdown",
   "source": [
    "## Buid the CNN model\n",
    "\n",
    "Most CNNs provide a table output where each entry in the table is the probability that this is the correctly assigned \"label\". In our case we want 3 floats as output, representing the energy, x-position and y-position.\n",
    "\n",
    "The \"loss\" can be defined simply as the sum of differences between the true values and estimated values of the energy, x-position and y-position. The \"accuracy\" of the prediction would need to be the number of times the prediction is within some tolerance value. This is not pre-encoded in TensorFlow so I define my own class, FloatCompareAccuracy (and for completeness also have the IntCompareAccuracy class)\n"
   ],
   "metadata": {
    "collapsed": false
   }
  },
  {
   "cell_type": "code",
   "execution_count": 8,
   "outputs": [],
   "source": [
    "from keras import backend\n",
    "def float_matches(y_true, y_pred, accuracy=2.e-2):\n",
    "    \"\"\"Creates int Tensor, 1 if y_true is equal to y_pred within accuracy, 0 if not.\n",
    "\n",
    "    Args:\n",
    "      y_true: Ground truth values, of shape (batch_size, d0, .. dN).\n",
    "      y_pred: The predicted values, of shape (batch_size, d0, .. dN).\n",
    "      accuracy: (Optional) Float representing the fractional accuracy for deciding\n",
    "        whether prediction values are 1 or 0.\n",
    "\n",
    "    Returns:\n",
    "      Binary matches, of shape (batch_size, d0, .. dN).\n",
    "    \"\"\"\n",
    "    y_pred = tf.convert_to_tensor(y_pred)\n",
    "    accuracy = tf.cast(accuracy, y_pred.dtype)\n",
    "    result = tf.less(tf.abs(y_true - y_pred)/y_true, accuracy)\n",
    "    return tf.cast(result, backend.floatx())\n",
    "\n",
    "\n",
    "class IntCompareAccuracy(tf.keras.metrics.Accuracy):\n",
    "    \"\"\"Compare whether the predicted float values round to the truth integer values.\"\"\"\n",
    "    def __init__(self, name='int_compare_accuracy', **kwargs):\n",
    "        super(IntCompareAccuracy, self).__init__(name=name, **kwargs)\n",
    "\n",
    "    def update_state(self, y_true, y_pred, sample_weight=None):\n",
    "        y_true = tf.cast(y_true, tf.int32)\n",
    "        y_pred = tf.cast(y_pred+0.5, tf.int32)\n",
    "        super().update_state(y_true, y_pred)\n",
    "\n",
    "class FloatCompareAccuracy(tf.keras.metrics.MeanMetricWrapper):\n",
    "    \"\"\"Compare whether the predicted float values are within Accuracy_tolerance of the truth float values.\"\"\"\n",
    "    def __init__(self, name='float_compare_accuracy', **kwargs):\n",
    "        super().__init__(float_matches, name=name, **kwargs)\n"
   ],
   "metadata": {
    "collapsed": false,
    "ExecuteTime": {
     "end_time": "2023-08-17T20:48:20.436590Z",
     "start_time": "2023-08-17T20:48:20.325650Z"
    }
   }
  },
  {
   "cell_type": "code",
   "execution_count": 9,
   "outputs": [
    {
     "name": "stdout",
     "output_type": "stream",
     "text": [
      "Simple minded test of the FloatCompareAccuracy class.\n",
      "tf.Tensor([1. 1. 1. 1. 1.], shape=(5,), dtype=float32)\n"
     ]
    },
    {
     "data": {
      "text/plain": "<tf.Tensor: shape=(), dtype=float32, numpy=1.0>"
     },
     "execution_count": 9,
     "metadata": {},
     "output_type": "execute_result"
    },
    {
     "name": "stdout",
     "output_type": "stream",
     "text": [
      "Metal device set to: Apple M1 Max\n",
      "\n",
      "systemMemory: 64.00 GB\n",
      "maxCacheSize: 24.00 GB\n"
     ]
    },
    {
     "name": "stderr",
     "output_type": "stream",
     "text": [
      "2023-08-17 16:48:20.438185: I tensorflow/core/common_runtime/pluggable_device/pluggable_device_factory.cc:305] Could not identify NUMA node of platform GPU ID 0, defaulting to 0. Your kernel may not have been built with NUMA support.\n",
      "2023-08-17 16:48:20.438353: I tensorflow/core/common_runtime/pluggable_device/pluggable_device_factory.cc:271] Created TensorFlow device (/job:localhost/replica:0/task:0/device:GPU:0 with 0 MB memory) -> physical PluggableDevice (device: 0, name: METAL, pci bus id: <undefined>)\n"
     ]
    }
   ],
   "source": [
    "print(\"Simple minded test of the FloatCompareAccuracy class.\")\n",
    "y_true = [0.1,0.5,6.3,8.4,9.1]\n",
    "y_pred = [0.100,0.50,6.3,8.4,9.1]\n",
    "print(float_matches(y_true,y_pred))\n",
    "m = FloatCompareAccuracy()\n",
    "m.update_state(y_true,y_pred)\n",
    "m.result()"
   ],
   "metadata": {
    "collapsed": false,
    "ExecuteTime": {
     "end_time": "2023-08-17T20:48:20.672629Z",
     "start_time": "2023-08-17T20:48:20.437410Z"
    }
   }
  },
  {
   "cell_type": "markdown",
   "source": [
    "# Define the model\n",
    "Simple model, use CNN and then fully connected layers."
   ],
   "metadata": {
    "collapsed": false
   }
  },
  {
   "cell_type": "code",
   "execution_count": 10,
   "outputs": [],
   "source": [
    "checkpoint_path = \"check_points/CNN_Model_4-{epoch:04d}.ckpt\"\n",
    "checkpoint_dir = os.path.dirname(checkpoint_path)\n",
    "check_point_frequency = 10\n",
    "\n",
    "class MyModel(Model):\n",
    "    def __init__(self):\n",
    "        super(MyModel, self).__init__()\n",
    "        self.conv1 = Conv2D(32, 5, activation='leaky_relu', kernel_regularizer=L1(0.01))\n",
    "        self.conv2 = Conv2D(16, 3, activation='leaky_relu', kernel_regularizer=L1(0.01))\n",
    "        self.maxpool1 = MaxPooling2D(pool_size=(2,2), strides=(2,2))\n",
    "        self.conv3 = Conv2D(128, 3, activation='leaky_relu', kernel_regularizer=L1(0.01))\n",
    "        self.dropout1 = Dropout(0.1)\n",
    "        self.flatten = Flatten()\n",
    "        self.d1 = Dense(128, activation='leaky_relu', kernel_regularizer=L1(0.01))\n",
    "        self.dropout2 = Dropout(0.1)\n",
    "        self.d2 = Dense(16,activation='leaky_relu', kernel_regularizer=L1(0.01))\n",
    "        self.d3 = Dense(1, kernel_regularizer=L1(0.01))\n",
    "\n",
    "    def call(self, x):\n",
    "        x = self.conv1(x)\n",
    "        x = self.conv2(x)\n",
    "        x = self.maxpool1(x)\n",
    "        x = self.conv3(x)\n",
    "        x = self.dropout1(x)\n",
    "        x = self.flatten(x)\n",
    "        x = self.d1(x)\n",
    "        x = self.dropout2(x)\n",
    "        x = self.d2(x)\n",
    "        x = self.d3(x)\n",
    "        return x\n",
    "\n",
    "# Create an instance of the model\n",
    "model = MyModel()\n",
    "\n",
    "# loss_object = tf.keras.losses.SparseCategoricalCrossentropy(from_logits=True)\n",
    "loss_object = tf.keras.losses.MeanSquaredError()\n",
    "optimizer = None # tf.keras.optimizers.Adam()\n",
    "\n",
    "train_loss = tf.keras.metrics.Mean(name='train_loss')\n",
    "# train_accuracy = tf.keras.metrics.SparseCategoricalAccuracy(name='train_accuracy')\n",
    "train_accuracy = FloatCompareAccuracy(name='train_accuracy')\n",
    "test_loss = tf.keras.metrics.Mean(name='test_loss')\n",
    "# test_accuracy = tf.keras.metrics.SparseCategoricalAccuracy(name='test_accuracy')\n",
    "test_accuracy = FloatCompareAccuracy(name='test_accuracy')\n",
    "\n",
    "@tf.function\n",
    "def train_step(images, labels):\n",
    "    with tf.GradientTape() as tape:\n",
    "        # training=True is only needed if there are layers with different\n",
    "        # behavior during training versus inference (e.g. Dropout).\n",
    "        predictions = model(images, training=True)\n",
    "        loss = loss_object(labels, predictions)\n",
    "        gradients = tape.gradient(loss, model.trainable_variables)\n",
    "        optimizer.apply_gradients(zip(gradients, model.trainable_variables))\n",
    "        train_loss(loss)\n",
    "        train_accuracy(labels, predictions)\n",
    "\n",
    "@tf.function\n",
    "def test_step(images, labels):\n",
    "    # training=False is only needed if there are layers with different\n",
    "    # behavior during training versus inference (e.g. Dropout).\n",
    "    predictions = model(images, training=False)\n",
    "    t_loss = loss_object(labels, predictions)\n",
    "\n",
    "    test_loss(t_loss)\n",
    "    test_accuracy(labels, predictions)"
   ],
   "metadata": {
    "collapsed": false,
    "ExecuteTime": {
     "end_time": "2023-08-17T20:48:20.796517Z",
     "start_time": "2023-08-17T20:48:20.677921Z"
    }
   }
  },
  {
   "cell_type": "markdown",
   "source": [
    "# Load previous weights"
   ],
   "metadata": {
    "collapsed": false
   }
  },
  {
   "cell_type": "code",
   "execution_count": 11,
   "metadata": {
    "ExecuteTime": {
     "end_time": "2023-08-17T20:48:20.907301Z",
     "start_time": "2023-08-17T20:48:20.797474Z"
    }
   },
   "outputs": [],
   "source": [
    "Load_Previous_Numbers = False\n",
    "epoch = 0\n",
    "if Load_Previous_Numbers:\n",
    "    # latest = tf.train.latest_checkpoint(checkpoint_dir)\n",
    "    latest = \"check_points/CNN_Model_3-0130.ckpt\"\n",
    "    print(latest)\n",
    "    epoch = int(os.path.basename(latest)[12:16])\n",
    "    model.load_weights(latest)\n",
    "\n",
    "#print(f\"Starting at epoch {epoch}\")"
   ]
  },
  {
   "cell_type": "code",
   "execution_count": 12,
   "outputs": [
    {
     "name": "stdout",
     "output_type": "stream",
     "text": [
      "Starting at epoch 0\n"
     ]
    }
   ],
   "source": [
    "Load_Previous_Numbers = True\n",
    "input_json_file = \"CNN_Weights_4.json\"\n",
    "epoch = 0\n",
    "\n",
    "history = {'loss':[],'train_accuracy':[],'val_loss':[],'val_accuracy':[]}\n",
    "\n",
    "if Load_Previous_Numbers:\n",
    "    import json\n",
    "    from json import JSONEncoder\n",
    "    class NumpyArrayEncoder(JSONEncoder):\n",
    "        \"\"\"This is a helper class deriving from JSONEncoder to help write np.array objects to disk in JSON format.\n",
    "        The code came from: https://pynative.com/python-serialize-numpy-ndarray-into-json/\"\"\"\n",
    "        def default(self, obj):\n",
    "            if isinstance(obj, np.ndarray):\n",
    "                return obj.tolist()\n",
    "            return JSONEncoder.default(self, obj)\n",
    "\n",
    "    model.build((32, 12, 47, 1))\n",
    "    weights = model.get_weights()\n",
    "    with open(input_json_file,\"r\") as read_file:\n",
    "        json_data = json.load(read_file)\n",
    "        tmp_weights = json_data[\"model_weights\"]\n",
    "        for i in range(len(weights)):\n",
    "            weights[i] = np.array(tmp_weights[i])\n",
    "        model.set_weights(weights)\n",
    "        if \"history\" in json_data:\n",
    "            history = json_data[\"history\"]\n",
    "        if \"epoch\" in json_data:\n",
    "            epoch = json_data[\"epoch\"]\n",
    "\n",
    "print(f\"Starting at epoch {epoch}\")\n"
   ],
   "metadata": {
    "collapsed": false,
    "ExecuteTime": {
     "end_time": "2023-08-17T20:50:09.321196Z",
     "start_time": "2023-08-17T20:50:09.034098Z"
    }
   }
  },
  {
   "cell_type": "markdown",
   "source": [
    "# Train the model"
   ],
   "metadata": {
    "collapsed": false
   }
  },
  {
   "cell_type": "code",
   "execution_count": 14,
   "metadata": {
    "collapsed": false,
    "ExecuteTime": {
     "end_time": "2023-08-17T21:23:44.827489Z",
     "start_time": "2023-08-17T21:01:29.818825Z"
    }
   },
   "outputs": [
    {
     "name": "stdout",
     "output_type": "stream",
     "text": [
      ".....................+++++++++++\n",
      "Epoch 6,Loss:  0.1501799, Accuracy: 27.773%, Test Loss:  0.1632386, Test Accuracy: 28.481%\n",
      ".....................+++++++++++\n",
      "Epoch 7,Loss:  0.1493871, Accuracy: 27.723%, Test Loss:  0.1639513, Test Accuracy: 28.111%\n",
      "...................."
     ]
    },
    {
     "ename": "KeyboardInterrupt",
     "evalue": "",
     "output_type": "error",
     "traceback": [
      "\u001B[0;31m---------------------------------------------------------------------------\u001B[0m",
      "\u001B[0;31mKeyboardInterrupt\u001B[0m                         Traceback (most recent call last)",
      "Cell \u001B[0;32mIn[14], line 21\u001B[0m\n\u001B[1;32m     19\u001B[0m     \u001B[38;5;28;01mif\u001B[39;00m i\u001B[38;5;241m%\u001B[39m(\u001B[38;5;28mlen\u001B[39m(x_train)\u001B[38;5;241m/\u001B[39m\u001B[38;5;241m/\u001B[39mmini_batch_size\u001B[38;5;241m/\u001B[39m\u001B[38;5;241m/\u001B[39m\u001B[38;5;241m20\u001B[39m) \u001B[38;5;241m==\u001B[39m\u001B[38;5;241m0\u001B[39m:\n\u001B[1;32m     20\u001B[0m         \u001B[38;5;28mprint\u001B[39m(\u001B[38;5;124mf\u001B[39m\u001B[38;5;124m\"\u001B[39m\u001B[38;5;124m.\u001B[39m\u001B[38;5;124m\"\u001B[39m,end\u001B[38;5;241m=\u001B[39m\u001B[38;5;124m\"\u001B[39m\u001B[38;5;124m\"\u001B[39m)\n\u001B[0;32m---> 21\u001B[0m     \u001B[43mtrain_step\u001B[49m\u001B[43m(\u001B[49m\u001B[43mx_train\u001B[49m\u001B[43m[\u001B[49m\u001B[43mi\u001B[49m\u001B[38;5;241;43m*\u001B[39;49m\u001B[43mmini_batch_size\u001B[49m\u001B[43m:\u001B[49m\u001B[43m(\u001B[49m\u001B[43mi\u001B[49m\u001B[38;5;241;43m+\u001B[39;49m\u001B[38;5;241;43m1\u001B[39;49m\u001B[43m)\u001B[49m\u001B[38;5;241;43m*\u001B[39;49m\u001B[43mmini_batch_size\u001B[49m\u001B[43m]\u001B[49m\u001B[43m,\u001B[49m\u001B[43m \u001B[49m\u001B[43my_train\u001B[49m\u001B[43m[\u001B[49m\u001B[43mi\u001B[49m\u001B[38;5;241;43m*\u001B[39;49m\u001B[43mmini_batch_size\u001B[49m\u001B[43m:\u001B[49m\u001B[43m(\u001B[49m\u001B[43mi\u001B[49m\u001B[38;5;241;43m+\u001B[39;49m\u001B[38;5;241;43m1\u001B[39;49m\u001B[43m)\u001B[49m\u001B[38;5;241;43m*\u001B[39;49m\u001B[43mmini_batch_size\u001B[49m\u001B[43m]\u001B[49m\u001B[43m)\u001B[49m\n\u001B[1;32m     24\u001B[0m \u001B[38;5;28;01mfor\u001B[39;00m i \u001B[38;5;129;01min\u001B[39;00m \u001B[38;5;28mrange\u001B[39m(\u001B[38;5;28mlen\u001B[39m(x_test)\u001B[38;5;241m/\u001B[39m\u001B[38;5;241m/\u001B[39mmini_batch_size):\n\u001B[1;32m     25\u001B[0m     \u001B[38;5;28;01mif\u001B[39;00m i\u001B[38;5;241m%\u001B[39m(\u001B[38;5;28mlen\u001B[39m(x_test)\u001B[38;5;241m/\u001B[39m\u001B[38;5;241m/\u001B[39mmini_batch_size\u001B[38;5;241m/\u001B[39m\u001B[38;5;241m/\u001B[39m\u001B[38;5;241m10\u001B[39m) \u001B[38;5;241m==\u001B[39m\u001B[38;5;241m0\u001B[39m:\n",
      "File \u001B[0;32m~/miniforge3/envs/C/lib/python3.10/site-packages/tensorflow/python/util/traceback_utils.py:150\u001B[0m, in \u001B[0;36mfilter_traceback.<locals>.error_handler\u001B[0;34m(*args, **kwargs)\u001B[0m\n\u001B[1;32m    148\u001B[0m filtered_tb \u001B[38;5;241m=\u001B[39m \u001B[38;5;28;01mNone\u001B[39;00m\n\u001B[1;32m    149\u001B[0m \u001B[38;5;28;01mtry\u001B[39;00m:\n\u001B[0;32m--> 150\u001B[0m   \u001B[38;5;28;01mreturn\u001B[39;00m \u001B[43mfn\u001B[49m\u001B[43m(\u001B[49m\u001B[38;5;241;43m*\u001B[39;49m\u001B[43margs\u001B[49m\u001B[43m,\u001B[49m\u001B[43m \u001B[49m\u001B[38;5;241;43m*\u001B[39;49m\u001B[38;5;241;43m*\u001B[39;49m\u001B[43mkwargs\u001B[49m\u001B[43m)\u001B[49m\n\u001B[1;32m    151\u001B[0m \u001B[38;5;28;01mexcept\u001B[39;00m \u001B[38;5;167;01mException\u001B[39;00m \u001B[38;5;28;01mas\u001B[39;00m e:\n\u001B[1;32m    152\u001B[0m   filtered_tb \u001B[38;5;241m=\u001B[39m _process_traceback_frames(e\u001B[38;5;241m.\u001B[39m__traceback__)\n",
      "File \u001B[0;32m~/miniforge3/envs/C/lib/python3.10/site-packages/tensorflow/python/eager/def_function.py:915\u001B[0m, in \u001B[0;36mFunction.__call__\u001B[0;34m(self, *args, **kwds)\u001B[0m\n\u001B[1;32m    912\u001B[0m compiler \u001B[38;5;241m=\u001B[39m \u001B[38;5;124m\"\u001B[39m\u001B[38;5;124mxla\u001B[39m\u001B[38;5;124m\"\u001B[39m \u001B[38;5;28;01mif\u001B[39;00m \u001B[38;5;28mself\u001B[39m\u001B[38;5;241m.\u001B[39m_jit_compile \u001B[38;5;28;01melse\u001B[39;00m \u001B[38;5;124m\"\u001B[39m\u001B[38;5;124mnonXla\u001B[39m\u001B[38;5;124m\"\u001B[39m\n\u001B[1;32m    914\u001B[0m \u001B[38;5;28;01mwith\u001B[39;00m OptionalXlaContext(\u001B[38;5;28mself\u001B[39m\u001B[38;5;241m.\u001B[39m_jit_compile):\n\u001B[0;32m--> 915\u001B[0m   result \u001B[38;5;241m=\u001B[39m \u001B[38;5;28;43mself\u001B[39;49m\u001B[38;5;241;43m.\u001B[39;49m\u001B[43m_call\u001B[49m\u001B[43m(\u001B[49m\u001B[38;5;241;43m*\u001B[39;49m\u001B[43margs\u001B[49m\u001B[43m,\u001B[49m\u001B[43m \u001B[49m\u001B[38;5;241;43m*\u001B[39;49m\u001B[38;5;241;43m*\u001B[39;49m\u001B[43mkwds\u001B[49m\u001B[43m)\u001B[49m\n\u001B[1;32m    917\u001B[0m new_tracing_count \u001B[38;5;241m=\u001B[39m \u001B[38;5;28mself\u001B[39m\u001B[38;5;241m.\u001B[39mexperimental_get_tracing_count()\n\u001B[1;32m    918\u001B[0m without_tracing \u001B[38;5;241m=\u001B[39m (tracing_count \u001B[38;5;241m==\u001B[39m new_tracing_count)\n",
      "File \u001B[0;32m~/miniforge3/envs/C/lib/python3.10/site-packages/tensorflow/python/eager/def_function.py:947\u001B[0m, in \u001B[0;36mFunction._call\u001B[0;34m(self, *args, **kwds)\u001B[0m\n\u001B[1;32m    944\u001B[0m   \u001B[38;5;28mself\u001B[39m\u001B[38;5;241m.\u001B[39m_lock\u001B[38;5;241m.\u001B[39mrelease()\n\u001B[1;32m    945\u001B[0m   \u001B[38;5;66;03m# In this case we have created variables on the first call, so we run the\u001B[39;00m\n\u001B[1;32m    946\u001B[0m   \u001B[38;5;66;03m# defunned version which is guaranteed to never create variables.\u001B[39;00m\n\u001B[0;32m--> 947\u001B[0m   \u001B[38;5;28;01mreturn\u001B[39;00m \u001B[38;5;28;43mself\u001B[39;49m\u001B[38;5;241;43m.\u001B[39;49m\u001B[43m_stateless_fn\u001B[49m\u001B[43m(\u001B[49m\u001B[38;5;241;43m*\u001B[39;49m\u001B[43margs\u001B[49m\u001B[43m,\u001B[49m\u001B[43m \u001B[49m\u001B[38;5;241;43m*\u001B[39;49m\u001B[38;5;241;43m*\u001B[39;49m\u001B[43mkwds\u001B[49m\u001B[43m)\u001B[49m  \u001B[38;5;66;03m# pylint: disable=not-callable\u001B[39;00m\n\u001B[1;32m    948\u001B[0m \u001B[38;5;28;01melif\u001B[39;00m \u001B[38;5;28mself\u001B[39m\u001B[38;5;241m.\u001B[39m_stateful_fn \u001B[38;5;129;01mis\u001B[39;00m \u001B[38;5;129;01mnot\u001B[39;00m \u001B[38;5;28;01mNone\u001B[39;00m:\n\u001B[1;32m    949\u001B[0m   \u001B[38;5;66;03m# Release the lock early so that multiple threads can perform the call\u001B[39;00m\n\u001B[1;32m    950\u001B[0m   \u001B[38;5;66;03m# in parallel.\u001B[39;00m\n\u001B[1;32m    951\u001B[0m   \u001B[38;5;28mself\u001B[39m\u001B[38;5;241m.\u001B[39m_lock\u001B[38;5;241m.\u001B[39mrelease()\n",
      "File \u001B[0;32m~/miniforge3/envs/C/lib/python3.10/site-packages/tensorflow/python/eager/function.py:2453\u001B[0m, in \u001B[0;36mFunction.__call__\u001B[0;34m(self, *args, **kwargs)\u001B[0m\n\u001B[1;32m   2450\u001B[0m \u001B[38;5;28;01mwith\u001B[39;00m \u001B[38;5;28mself\u001B[39m\u001B[38;5;241m.\u001B[39m_lock:\n\u001B[1;32m   2451\u001B[0m   (graph_function,\n\u001B[1;32m   2452\u001B[0m    filtered_flat_args) \u001B[38;5;241m=\u001B[39m \u001B[38;5;28mself\u001B[39m\u001B[38;5;241m.\u001B[39m_maybe_define_function(args, kwargs)\n\u001B[0;32m-> 2453\u001B[0m \u001B[38;5;28;01mreturn\u001B[39;00m \u001B[43mgraph_function\u001B[49m\u001B[38;5;241;43m.\u001B[39;49m\u001B[43m_call_flat\u001B[49m\u001B[43m(\u001B[49m\n\u001B[1;32m   2454\u001B[0m \u001B[43m    \u001B[49m\u001B[43mfiltered_flat_args\u001B[49m\u001B[43m,\u001B[49m\u001B[43m \u001B[49m\u001B[43mcaptured_inputs\u001B[49m\u001B[38;5;241;43m=\u001B[39;49m\u001B[43mgraph_function\u001B[49m\u001B[38;5;241;43m.\u001B[39;49m\u001B[43mcaptured_inputs\u001B[49m\u001B[43m)\u001B[49m\n",
      "File \u001B[0;32m~/miniforge3/envs/C/lib/python3.10/site-packages/tensorflow/python/eager/function.py:1860\u001B[0m, in \u001B[0;36mConcreteFunction._call_flat\u001B[0;34m(self, args, captured_inputs, cancellation_manager)\u001B[0m\n\u001B[1;32m   1856\u001B[0m possible_gradient_type \u001B[38;5;241m=\u001B[39m gradients_util\u001B[38;5;241m.\u001B[39mPossibleTapeGradientTypes(args)\n\u001B[1;32m   1857\u001B[0m \u001B[38;5;28;01mif\u001B[39;00m (possible_gradient_type \u001B[38;5;241m==\u001B[39m gradients_util\u001B[38;5;241m.\u001B[39mPOSSIBLE_GRADIENT_TYPES_NONE\n\u001B[1;32m   1858\u001B[0m     \u001B[38;5;129;01mand\u001B[39;00m executing_eagerly):\n\u001B[1;32m   1859\u001B[0m   \u001B[38;5;66;03m# No tape is watching; skip to running the function.\u001B[39;00m\n\u001B[0;32m-> 1860\u001B[0m   \u001B[38;5;28;01mreturn\u001B[39;00m \u001B[38;5;28mself\u001B[39m\u001B[38;5;241m.\u001B[39m_build_call_outputs(\u001B[38;5;28;43mself\u001B[39;49m\u001B[38;5;241;43m.\u001B[39;49m\u001B[43m_inference_function\u001B[49m\u001B[38;5;241;43m.\u001B[39;49m\u001B[43mcall\u001B[49m\u001B[43m(\u001B[49m\n\u001B[1;32m   1861\u001B[0m \u001B[43m      \u001B[49m\u001B[43mctx\u001B[49m\u001B[43m,\u001B[49m\u001B[43m \u001B[49m\u001B[43margs\u001B[49m\u001B[43m,\u001B[49m\u001B[43m \u001B[49m\u001B[43mcancellation_manager\u001B[49m\u001B[38;5;241;43m=\u001B[39;49m\u001B[43mcancellation_manager\u001B[49m\u001B[43m)\u001B[49m)\n\u001B[1;32m   1862\u001B[0m forward_backward \u001B[38;5;241m=\u001B[39m \u001B[38;5;28mself\u001B[39m\u001B[38;5;241m.\u001B[39m_select_forward_and_backward_functions(\n\u001B[1;32m   1863\u001B[0m     args,\n\u001B[1;32m   1864\u001B[0m     possible_gradient_type,\n\u001B[1;32m   1865\u001B[0m     executing_eagerly)\n\u001B[1;32m   1866\u001B[0m forward_function, args_with_tangents \u001B[38;5;241m=\u001B[39m forward_backward\u001B[38;5;241m.\u001B[39mforward()\n",
      "File \u001B[0;32m~/miniforge3/envs/C/lib/python3.10/site-packages/tensorflow/python/eager/function.py:497\u001B[0m, in \u001B[0;36m_EagerDefinedFunction.call\u001B[0;34m(self, ctx, args, cancellation_manager)\u001B[0m\n\u001B[1;32m    495\u001B[0m \u001B[38;5;28;01mwith\u001B[39;00m _InterpolateFunctionError(\u001B[38;5;28mself\u001B[39m):\n\u001B[1;32m    496\u001B[0m   \u001B[38;5;28;01mif\u001B[39;00m cancellation_manager \u001B[38;5;129;01mis\u001B[39;00m \u001B[38;5;28;01mNone\u001B[39;00m:\n\u001B[0;32m--> 497\u001B[0m     outputs \u001B[38;5;241m=\u001B[39m \u001B[43mexecute\u001B[49m\u001B[38;5;241;43m.\u001B[39;49m\u001B[43mexecute\u001B[49m\u001B[43m(\u001B[49m\n\u001B[1;32m    498\u001B[0m \u001B[43m        \u001B[49m\u001B[38;5;28;43mstr\u001B[39;49m\u001B[43m(\u001B[49m\u001B[38;5;28;43mself\u001B[39;49m\u001B[38;5;241;43m.\u001B[39;49m\u001B[43msignature\u001B[49m\u001B[38;5;241;43m.\u001B[39;49m\u001B[43mname\u001B[49m\u001B[43m)\u001B[49m\u001B[43m,\u001B[49m\n\u001B[1;32m    499\u001B[0m \u001B[43m        \u001B[49m\u001B[43mnum_outputs\u001B[49m\u001B[38;5;241;43m=\u001B[39;49m\u001B[38;5;28;43mself\u001B[39;49m\u001B[38;5;241;43m.\u001B[39;49m\u001B[43m_num_outputs\u001B[49m\u001B[43m,\u001B[49m\n\u001B[1;32m    500\u001B[0m \u001B[43m        \u001B[49m\u001B[43minputs\u001B[49m\u001B[38;5;241;43m=\u001B[39;49m\u001B[43margs\u001B[49m\u001B[43m,\u001B[49m\n\u001B[1;32m    501\u001B[0m \u001B[43m        \u001B[49m\u001B[43mattrs\u001B[49m\u001B[38;5;241;43m=\u001B[39;49m\u001B[43mattrs\u001B[49m\u001B[43m,\u001B[49m\n\u001B[1;32m    502\u001B[0m \u001B[43m        \u001B[49m\u001B[43mctx\u001B[49m\u001B[38;5;241;43m=\u001B[39;49m\u001B[43mctx\u001B[49m\u001B[43m)\u001B[49m\n\u001B[1;32m    503\u001B[0m   \u001B[38;5;28;01melse\u001B[39;00m:\n\u001B[1;32m    504\u001B[0m     outputs \u001B[38;5;241m=\u001B[39m execute\u001B[38;5;241m.\u001B[39mexecute_with_cancellation(\n\u001B[1;32m    505\u001B[0m         \u001B[38;5;28mstr\u001B[39m(\u001B[38;5;28mself\u001B[39m\u001B[38;5;241m.\u001B[39msignature\u001B[38;5;241m.\u001B[39mname),\n\u001B[1;32m    506\u001B[0m         num_outputs\u001B[38;5;241m=\u001B[39m\u001B[38;5;28mself\u001B[39m\u001B[38;5;241m.\u001B[39m_num_outputs,\n\u001B[0;32m   (...)\u001B[0m\n\u001B[1;32m    509\u001B[0m         ctx\u001B[38;5;241m=\u001B[39mctx,\n\u001B[1;32m    510\u001B[0m         cancellation_manager\u001B[38;5;241m=\u001B[39mcancellation_manager)\n",
      "File \u001B[0;32m~/miniforge3/envs/C/lib/python3.10/site-packages/tensorflow/python/eager/execute.py:54\u001B[0m, in \u001B[0;36mquick_execute\u001B[0;34m(op_name, num_outputs, inputs, attrs, ctx, name)\u001B[0m\n\u001B[1;32m     52\u001B[0m \u001B[38;5;28;01mtry\u001B[39;00m:\n\u001B[1;32m     53\u001B[0m   ctx\u001B[38;5;241m.\u001B[39mensure_initialized()\n\u001B[0;32m---> 54\u001B[0m   tensors \u001B[38;5;241m=\u001B[39m \u001B[43mpywrap_tfe\u001B[49m\u001B[38;5;241;43m.\u001B[39;49m\u001B[43mTFE_Py_Execute\u001B[49m\u001B[43m(\u001B[49m\u001B[43mctx\u001B[49m\u001B[38;5;241;43m.\u001B[39;49m\u001B[43m_handle\u001B[49m\u001B[43m,\u001B[49m\u001B[43m \u001B[49m\u001B[43mdevice_name\u001B[49m\u001B[43m,\u001B[49m\u001B[43m \u001B[49m\u001B[43mop_name\u001B[49m\u001B[43m,\u001B[49m\n\u001B[1;32m     55\u001B[0m \u001B[43m                                      \u001B[49m\u001B[43minputs\u001B[49m\u001B[43m,\u001B[49m\u001B[43m \u001B[49m\u001B[43mattrs\u001B[49m\u001B[43m,\u001B[49m\u001B[43m \u001B[49m\u001B[43mnum_outputs\u001B[49m\u001B[43m)\u001B[49m\n\u001B[1;32m     56\u001B[0m \u001B[38;5;28;01mexcept\u001B[39;00m core\u001B[38;5;241m.\u001B[39m_NotOkStatusException \u001B[38;5;28;01mas\u001B[39;00m e:\n\u001B[1;32m     57\u001B[0m   \u001B[38;5;28;01mif\u001B[39;00m name \u001B[38;5;129;01mis\u001B[39;00m \u001B[38;5;129;01mnot\u001B[39;00m \u001B[38;5;28;01mNone\u001B[39;00m:\n",
      "\u001B[0;31mKeyboardInterrupt\u001B[0m: "
     ]
    }
   ],
   "source": [
    "optimizer = tf.keras.optimizers.Adam(learning_rate=0.0001)\n",
    "EPOCHS = 5\n",
    "\n",
    "for num_epoch in range(EPOCHS):\n",
    "    epoch += 1\n",
    "    # Reset the metrics at the start of the next epoch\n",
    "    train_loss.reset_states()\n",
    "    train_accuracy.reset_states()\n",
    "    test_loss.reset_states()\n",
    "    test_accuracy.reset_states()\n",
    "\n",
    "    #for images, labels in train_ds:\n",
    "    #   train_step(images,labels)\n",
    "\n",
    "    #for test_images, test_labels in test_ds:\n",
    "    #    test_step(test_images, test_labels)\n",
    "\n",
    "    for i in range(len(x_train)//mini_batch_size):\n",
    "        if i%(len(x_train)//mini_batch_size//20) ==0:\n",
    "            print(f\".\",end=\"\")\n",
    "        train_step(x_train[i*mini_batch_size:(i+1)*mini_batch_size], y_train[i*mini_batch_size:(i+1)*mini_batch_size])\n",
    "    \n",
    "    \n",
    "    for i in range(len(x_test)//mini_batch_size):\n",
    "        if i%(len(x_test)//mini_batch_size//10) ==0:\n",
    "            print(f\"+\",end=\"\")\n",
    "        test_step(x_test[i*mini_batch_size:(i+1)*mini_batch_size], y_test[i*mini_batch_size:(i+1)*mini_batch_size])\n",
    "    \n",
    "    print(\"\")\n",
    "    \n",
    "    if epoch % check_point_frequency == 0:\n",
    "        model.save_weights(checkpoint_path.format(epoch=epoch))\n",
    "        print(f\"Wrote {checkpoint_path.format(epoch=epoch)}\")\n",
    "    \n",
    "    history['loss'] += [float(train_loss.result().numpy())]\n",
    "    history['train_accuracy'] += [float(train_accuracy.result().numpy())]\n",
    "    history['val_loss'] += [float(test_loss.result().numpy())]\n",
    "    history['val_accuracy'] += [float(test_accuracy.result().numpy())]\n",
    "    print(\n",
    "        f'Epoch {epoch},'\n",
    "        f'Loss: {history[\"loss\"][-1]:10.7f}, '\n",
    "        f'Accuracy: { history[\"train_accuracy\"][-1]* 100:6.3f}%, '\n",
    "        f'Test Loss: {history[\"val_loss\"][-1] :10.7f}, '\n",
    "        f'Test Accuracy: { history[\"val_accuracy\"][-1] * 100:6.3f}%'\n",
    "    )"
   ]
  },
  {
   "cell_type": "code",
   "execution_count": 13,
   "outputs": [
    {
     "data": {
      "text/plain": "<Figure size 1200x400 with 2 Axes>",
      "image/png": "[encoded data removed]"
     },
     "metadata": {},
     "output_type": "display_data"
    }
   ],
   "source": [
    "fig, (ax1, ax2) = plt.subplots(1, 2, figsize=(12,4))\n",
    "fig.suptitle('Training results')\n",
    "ax1.set_title(\"Loss\")\n",
    "ax1.set_ylabel(\"loss\")\n",
    "ax1.set_xlabel(\"epoch\")\n",
    "ax1.plot(history['loss'][:], label=\"train\")\n",
    "ax1.plot(history['val_loss'][:], label=\"validation\")\n",
    "ax1.legend()\n",
    "ax2.set_title(\"Accuracy\")\n",
    "ax2.set_ylabel(\"accuracy\")\n",
    "ax2.set_xlabel(\"epoch\")\n",
    "ax2.plot(history['train_accuracy'][:], label=\"train accuracy\")\n",
    "ax2.plot(history['val_accuracy'][:], label=\"validation accuracy\")\n",
    "plt.show()"
   ],
   "metadata": {
    "collapsed": false,
    "ExecuteTime": {
     "end_time": "2023-08-17T20:30:24.044725Z",
     "start_time": "2023-08-17T20:30:23.768988Z"
    }
   }
  },
  {
   "cell_type": "markdown",
   "source": [
    "Re-run the cell above to train longer, possibly adjusting the learning rate. It looks like the model is getting over-trained here though, since the test loss is not really falling. The regularization may need to be increased, and also a larger number of events should be trained on.\n",
    "\n",
    "The model should probably have a **lot** fewer parameters."
   ],
   "metadata": {
    "collapsed": false
   }
  },
  {
   "cell_type": "markdown",
   "metadata": {},
   "source": [
    "# Check the results\n",
    "Compare the energy from the ECal clusters to the score plane energy and the predicted energy from the model."
   ]
  },
  {
   "cell_type": "code",
   "execution_count": 14,
   "outputs": [
    {
     "name": "stdout",
     "output_type": "stream",
     "text": [
      "Model: \"my_model\"\n",
      "_________________________________________________________________\n",
      " Layer (type)                Output Shape              Param #   \n",
      "=================================================================\n",
      " conv2d (Conv2D)             multiple                  832       \n",
      "                                                                 \n",
      " conv2d_1 (Conv2D)           multiple                  4624      \n",
      "                                                                 \n",
      " max_pooling2d (MaxPooling2D  multiple                 0         \n",
      " )                                                               \n",
      "                                                                 \n",
      " conv2d_2 (Conv2D)           multiple                  18560     \n",
      "                                                                 \n",
      " dropout (Dropout)           multiple                  0         \n",
      "                                                                 \n",
      " flatten (Flatten)           multiple                  0         \n",
      "                                                                 \n",
      " dense (Dense)               multiple                  295040    \n",
      "                                                                 \n",
      " dropout_1 (Dropout)         multiple                  0         \n",
      "                                                                 \n",
      " dense_1 (Dense)             multiple                  2064      \n",
      "                                                                 \n",
      " dense_2 (Dense)             multiple                  17        \n",
      "                                                                 \n",
      "=================================================================\n",
      "Total params: 321,137\n",
      "Trainable params: 321,137\n",
      "Non-trainable params: 0\n",
      "_________________________________________________________________\n"
     ]
    }
   ],
   "source": [
    "model.summary()"
   ],
   "metadata": {
    "collapsed": false,
    "ExecuteTime": {
     "end_time": "2023-08-17T20:30:33.624985Z",
     "start_time": "2023-08-17T20:30:33.493644Z"
    }
   }
  },
  {
   "cell_type": "code",
   "execution_count": 15,
   "metadata": {
    "collapsed": false,
    "ExecuteTime": {
     "end_time": "2023-08-17T20:30:35.636699Z",
     "start_time": "2023-08-17T20:30:34.729221Z"
    }
   },
   "outputs": [],
   "source": [
    "n_test_events = n_testing # 50000\n",
    "n_train_events = n_test_events\n",
    "if n_test_events > n_testing:\n",
    "    print(\"Asking for too many test events!!!!\")\n",
    "    n_test_events = n_testing\n",
    "if n_train_events > n_training:\n",
    "    print(\"Asking for too many training events!!!!\")\n",
    "    n_train_events = n_training\n",
    "p1 = model(x_test[:n_test_events//2], training=False)\n",
    "p2 = model(x_test[n_test_events//2:n_test_events], training=False)\n",
    "pred = tf.concat([p1,p2],0)\n",
    "pt1 = model(x_train[:n_train_events//2], training=False)\n",
    "pt2 = model(x_train[n_train_events//2:n_train_events], training=False)\n",
    "pred_train = tf.concat([pt1,pt2],0)\n",
    "#pred_train2 = model(x_train[n_test_events//2:n_test_events], training=False)\n",
    "#pred_train = np.append(pred_train, pred_train2)\n",
    "loss = loss_object(y_test[:n_test_events], pred)\n",
    "loss_train = loss_object(y_train[:n_test_events], pred_train)"
   ]
  },
  {
   "cell_type": "code",
   "execution_count": 16,
   "metadata": {
    "collapsed": false,
    "ExecuteTime": {
     "end_time": "2023-08-17T20:30:36.199056Z",
     "start_time": "2023-08-17T20:30:36.067187Z"
    }
   },
   "outputs": [
    {
     "name": "stdout",
     "output_type": "stream",
     "text": [
      "Shape of test data: (100000, 12, 47, 1), Shape of predicted results: (100000, 1), y_test shape: (100000, 1)\n",
      "Loss for test batch = 0.16203360259532928  Loss for train batch = 0.16074061393737793\n"
     ]
    }
   ],
   "source": [
    "print(f\"Shape of test data: {x_test[:n_test_events].shape}, Shape of predicted results: {pred.shape}, y_test shape: {y_test[:n_test_events].shape}\")\n",
    "print(f\"Loss for test batch = {loss.numpy()}  Loss for train batch = {loss_train.numpy()}\")"
   ]
  },
  {
   "cell_type": "code",
   "execution_count": 17,
   "metadata": {
    "collapsed": false,
    "ExecuteTime": {
     "end_time": "2023-08-17T20:30:37.123081Z",
     "start_time": "2023-08-17T20:30:36.996067Z"
    }
   },
   "outputs": [
    {
     "name": "stdout",
     "output_type": "stream",
     "text": [
      "Mean Square Loss: 0.162034 - Tensor flow computation\n",
      "MSQ combined:     0.162034 - Numpy computation\n"
     ]
    }
   ],
   "source": [
    "msq = tf.keras.metrics.MeanSquaredError(name=\"msq\")\n",
    "loss_msq = msq(y_test[:n_test_events], pred)\n",
    "print(f\"Mean Square Loss: {loss_msq.numpy():8.6f} - Tensor flow computation\")\n",
    "#print(f\"MSQ for energy:   {np.mean(np.square(pred[:,0]-y_test[:,0])):8.6f}, x: {np.mean(np.square(pred[:,1]-y_test[:,1])):8.6f}, y: {np.mean(np.square(pred[:,2]-y_test[:,2])):8.6f}\")\n",
    "print(f\"MSQ combined:     {np.mean(np.square(pred-y_test[:n_test_events])):8.6f} - Numpy computation\")"
   ]
  },
  {
   "cell_type": "code",
   "execution_count": 18,
   "metadata": {
    "collapsed": false,
    "ExecuteTime": {
     "end_time": "2023-08-17T20:30:39.773317Z",
     "start_time": "2023-08-17T20:30:38.643086Z"
    }
   },
   "outputs": [],
   "source": [
    "rdf = R.RDF.FromNumpy({'ecal_cluster_energy':ecal_energy[data_slice][n_training:n_training+n_test_events,0].copy(),'score_e':ecal_energy[data_slice][n_training:n_training+n_test_events,1].copy(), 'mc_part_energy':ecal_energy[data_slice][n_training:n_training+n_test_events,2].copy(),'truth_e':y_test[:n_test_events,0].copy(),'pred_e':pred[:n_test_events,0].numpy().copy()})\n",
    "rdf_train = R.RDF.FromNumpy({'ecal_cluster_energy':ecal_energy[data_slice][:n_test_events,0].copy(),'score_e':ecal_energy[data_slice][:n_test_events,1].copy(), 'mc_part_energy':ecal_energy[data_slice][:n_test_events,2].copy(),'truth_e':y_train[:n_test_events,0].copy(),'pred_e':pred_train[:,0].numpy().copy()})"
   ]
  },
  {
   "cell_type": "code",
   "execution_count": 19,
   "metadata": {
    "collapsed": false,
    "ExecuteTime": {
     "end_time": "2023-08-17T20:30:40.772295Z",
     "start_time": "2023-08-17T20:30:40.649708Z"
    }
   },
   "outputs": [],
   "source": [
    "h_cluster_e = rdf.Histo1D((\"h_cluster_e\",\"ECal cluster energy;E [GeV]\",400,-0.5,6.),\"ecal_cluster_energy\")\n",
    "h_mcpart_e = rdf.Histo1D((\"h_mc_part_e\",\"MC Particle energy\",400,-0.5,6.),\"mc_part_energy\")\n",
    "h_score_e = rdf.Histo1D((\"h_score_e\",\"Score energy\",400,-0.5,6.),\"score_e\")\n",
    "h_truth_e = rdf.Histo1D((\"h_truth_e\",\"Truth energy\",400,-0.5,6.),\"truth_e\")\n",
    "h_pred_e = rdf.Histo1D((\"h_pred_e\",\"Predicted energy\",400,-0.5,6.),\"pred_e\")\n",
    "\n",
    "h_cluster_diff = rdf.Define(\"dif\",\"score_e - ecal_cluster_energy\").Histo1D((\"h_cluster_e\",\"Diff Score E - Ecal Cluster E;#Delta E [GeV]\",400,-2.,2.),\"dif\")\n",
    "h_mcpart_diff = rdf.Define(\"dif\",\"mc_part_energy - score_e\").Histo1D((\"h_mc_part_e\",\"Diff MC Part E - Score E;#Delta E[GeV]\",400,-2.,2.),\"dif\")\n",
    "h_pred_diff = rdf.Define(\"dif\",\"score_e - pred_e\").Histo1D((\"h_pred_e\",\"Score E - Predicted energy;#Delta E[GeV]\",400,-2.,2.),\"dif\")\n",
    "h_pred2_diff = rdf.Define(\"dif\",\"truth_e - pred_e\").Histo1D((\"h_pred_e\",\"Score E - Predicted energy;#Delta E[GeV]\",400,-2.,2.),\"dif\")\n",
    "h_pred_train_diff = rdf_train.Define(\"dif\",\"truth_e - pred_e\").Histo1D((\"h_pred_e\",\"Score E - Predicted energy (Training);#Delta E[GeV]\",400,-2.,2.),\"dif\")\n"
   ]
  },
  {
   "cell_type": "code",
   "execution_count": 20,
   "metadata": {
    "collapsed": false,
    "ExecuteTime": {
     "end_time": "2023-08-17T20:30:42.903355Z",
     "start_time": "2023-08-17T20:30:42.620257Z"
    }
   },
   "outputs": [
    {
     "name": "stdout",
     "output_type": "stream",
     "text": [
      "Diff Ecal clusters: Mean =  0.110  StdDev = 0.33283\n",
      "Diff Pred clusters: Mean = -0.020  StdDev = 0.33538\n"
     ]
    },
    {
     "data": {
      "image/png": "[encoded data removed]",
      "text/plain": "<IPython.core.display.Image object>"
     },
     "metadata": {},
     "output_type": "display_data"
    }
   ],
   "source": [
    "cc1 = R.TCanvas(\"cc1\",\"CC1\",1200,1200)\n",
    "cc1.Divide(1,2)\n",
    "p1 = cc1.cd(1)\n",
    "h_cluster_e.SetStats(0)\n",
    "h_cluster_e.SetLineColor(R.kBlue)\n",
    "h_cluster_e.Draw(\"same\")\n",
    "h_pred_e.SetLineWidth(1)\n",
    "h_pred_e.SetLineColor(R.kOrange)\n",
    "h_pred_e.Draw(\"same\")\n",
    "h_score_e.SetLineColor(R.kCyan)\n",
    "h_score_e.Draw(\"same\")\n",
    "# h_mcpart_e.SetLineColor(R.kGreen)\n",
    "# h_mcpart_e.Draw(\"same\")\n",
    "leg = R.TLegend(0.65,0.75,0.79,0.89)\n",
    "leg.AddEntry(h_cluster_e.GetPtr(),\"Ecal cluster E\")\n",
    "leg.AddEntry(h_score_e.GetPtr(),\"Score plane E\")\n",
    "leg.AddEntry(h_pred_e.GetPtr(),\"Predicted E\")\n",
    "leg.Draw()\n",
    "p2 = cc1.cd(2)\n",
    "h_pred_train_diff.SetStats(0)\n",
    "h_cluster_diff.SetStats(0)\n",
    "h_cluster_diff.SetLineColor(R.kBlue)\n",
    "h_cluster_diff.Draw(\"same\")\n",
    "h_pred_train_diff.SetLineColor(R.kGreen)\n",
    "h_pred_train_diff.Draw(\"same\")\n",
    "h_pred_diff.SetLineWidth(3)\n",
    "h_pred_diff.SetLineColor(R.kOrange)\n",
    "h_pred_diff.Draw(\"same\")\n",
    "h_pred2_diff.SetLineColor(R.kRed)\n",
    "h_pred2_diff.Draw(\"same\")\n",
    "\n",
    "\n",
    "cc1.Draw()\n",
    "print(f\"Diff Ecal clusters: Mean = {h_cluster_diff.GetMean():6.3f}  StdDev = {h_cluster_diff.GetStdDev():6.5f}\")\n",
    "print(f\"Diff Pred clusters: Mean = {h_pred_diff.GetMean():6.3f}  StdDev = {h_pred_diff.GetStdDev():6.5f}\")"
   ]
  },
  {
   "cell_type": "markdown",
   "metadata": {},
   "source": [
    "# Store the results\n",
    "Here we store the resulting model weights into a JSON file. This is an inefficient but convenient data format. Note that the output file size for the current model is ~222MB, so yes, big.\n",
    "TODO: Write the model in a more compressed, non-ascii, data format."
   ]
  },
  {
   "cell_type": "code",
   "execution_count": 15,
   "metadata": {
    "collapsed": false,
    "ExecuteTime": {
     "end_time": "2023-08-17T21:24:49.377069Z",
     "start_time": "2023-08-17T21:24:49.267882Z"
    }
   },
   "outputs": [],
   "source": [
    "import json\n",
    "from json import JSONEncoder\n",
    "class NumpyArrayEncoder(JSONEncoder):\n",
    "    \"\"\"This is a helper class deriving from JSONEncoder to help write np.array objects to disk in JSON format.\n",
    "    The code came from: https://pynative.com/python-serialize-numpy-ndarray-into-json/\"\"\"\n",
    "    def default(self, obj):\n",
    "        if isinstance(obj, np.ndarray):\n",
    "            return obj.tolist()\n",
    "        return JSONEncoder.default(self, obj)\n"
   ]
  },
  {
   "cell_type": "code",
   "execution_count": 65,
   "metadata": {
    "collapsed": false,
    "ExecuteTime": {
     "end_time": "2023-08-17T22:36:12.939704Z",
     "start_time": "2023-08-17T22:33:00.488527Z"
    }
   },
   "outputs": [],
   "source": [
    "model_weights = model.get_weights()\n",
    "outdata = { \"epochs\": epoch, \"history\": history, \"model_weights\":model_weights}\n",
    "with open(\"CNN_Weights_4.json\", \"w\") as write_file:\n",
    "    json.dump(outdata, write_file, cls=NumpyArrayEncoder)"
   ]
  },
  {
   "cell_type": "code",
   "execution_count": null,
   "outputs": [],
   "source": [],
   "metadata": {
    "collapsed": false
   }
  }
 ],
 "metadata": {
  "kernelspec": {
   "display_name": "Python 3 (ipykernel)",
   "language": "python",
   "name": "python3"
  },
  "language_info": {
   "codemirror_mode": {
    "name": "ipython",
    "version": 3
   },
   "file_extension": ".py",
   "mimetype": "text/x-python",
   "name": "python",
   "nbconvert_exporter": "python",
   "pygments_lexer": "ipython3",
   "version": "3.10.10"
  }
 },
 "nbformat": 4,
 "nbformat_minor": 4
}
