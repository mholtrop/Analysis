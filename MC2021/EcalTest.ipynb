{
 "cells": [
  {
   "cell_type": "code",
   "execution_count": 1,
   "metadata": {
    "collapsed": true
   },
   "outputs": [
    {
     "name": "stdout",
     "output_type": "stream",
     "text": [
      "Welcome to JupyROOT 6.29/01\n"
     ]
    }
   ],
   "source": [
    "# Warning: Execute this cell only once for the kernel. Reset the kernel if you need changes.\n",
    "import sys\n",
    "sys.path.append(\"../Python\")\n",
    "import ROOT as R\n",
    "from array import array\n",
    "import time\n",
    "import numpy as np\n",
    "# Turn jsroot off if you want to make a pdf from this file.\n",
    "%jsroot on\n",
    "from root_helpers import SetStyle\n",
    "from root_helpers import fancy_plot\n",
    "from root_helpers import print_mc_particle_tree\n",
    "from root_helpers import print_daughters\n",
    "# R.EnableImplicitMT()"
   ]
  },
  {
   "cell_type": "code",
   "execution_count": 2,
   "outputs": [
    {
     "name": "stdout",
     "output_type": "stream",
     "text": [
      "Recompile is not needed\n"
     ]
    },
    {
     "data": {
      "text/plain": "'Utility Functions V1.0.5 \\n'"
     },
     "execution_count": 2,
     "metadata": {},
     "output_type": "execute_result"
    }
   ],
   "source": [
    "import os\n",
    "recompile = True\n",
    "try:\n",
    "    if os.path.getmtime('../Python/Utility_Functions_C.so') - os.path.getmtime('../Python/Utility_Functions.C') > 0:\n",
    "        recompile = False\n",
    "        print(\"Recompile is not needed\")\n",
    "    else:\n",
    "        print(\"Recompiling: \")\n",
    "except:\n",
    "    print(\"Recompile needed, file not found.\")\n",
    "if recompile:\n",
    "    R.gROOT.LoadMacro(\"../Python/Utility_Functions.C++\")\n",
    "else:\n",
    "    R.gSystem.Load(\"../Python/Utility_Functions_C.so\")\n",
    "R.Utility_Functions()"
   ],
   "metadata": {
    "collapsed": false
   }
  },
  {
   "cell_type": "code",
   "execution_count": 3,
   "outputs": [
    {
     "name": "stdout",
     "output_type": "stream",
     "text": [
      "V1.0.8\n"
     ]
    }
   ],
   "source": [
    "R.gSystem.Load(\"/data/HPS/lib/libMiniDST\")\n",
    "R.gSystem.Load(\"lib/libMC2021\")\n",
    "R.gInterpreter.ProcessLine('''auto EAC = Ecal_Analysis_Class();''')   # This is key. It puts the EAC in C++ space.\n",
    "print(f\"{R.EAC.Version()}\")"
   ],
   "metadata": {
    "collapsed": false
   }
  },
  {
   "cell_type": "code",
   "execution_count": 4,
   "outputs": [
    {
     "name": "stdout",
     "output_type": "stream",
     "text": [
      "Number of events loaded:   1.847M\n"
     ]
    }
   ],
   "source": [
    "ch = R.TChain(\"MiniDST\")\n",
    "ch.Add(\"/data/HPS/data/physrun2021/sim_2021/hpsForward_e-_3.0GeV_z0.0_*_SLIC-v06-00-01_QGSP_BERT_HPS-v2019-3pt7GeV_recon.root\")\n",
    "# ch.Add(\"/data/HPS/data/physrun2021/sim_2021/new_e-*.root\")\n",
    "# ch.Add(\"/data/HPS/data/physrun2021/pass0/minidst/hps_0147*.root\")\n",
    "print(f\"Number of events loaded: {ch.GetEntries()/1e6:7.3f}M\")"
   ],
   "metadata": {
    "collapsed": false
   }
  },
  {
   "cell_type": "code",
   "execution_count": 5,
   "outputs": [
    {
     "name": "stdout",
     "output_type": "stream",
     "text": [
      "Available data names in Tuple:\n",
      "\n",
      "ecal_cluster_energy           ecal_cluster_hits             ecal_cluster_nhits            ecal_cluster_seed_energy      \n",
      "ecal_cluster_seed_index       ecal_cluster_seed_ix          ecal_cluster_seed_iy          ecal_cluster_time             \n",
      "ecal_cluster_uncor_energy     ecal_cluster_uncor_hits       ecal_cluster_uncor_nhits      ecal_cluster_uncor_seed_energy\n",
      "ecal_cluster_uncor_seed_index ecal_cluster_uncor_seed_ix    ecal_cluster_uncor_seed_iy    ecal_cluster_uncor_time       \n",
      "ecal_cluster_uncor_x          ecal_cluster_uncor_y          ecal_cluster_uncor_z          ecal_cluster_x                \n",
      "ecal_cluster_y                ecal_cluster_z                ecal_hit_energy               ecal_hit_index_x              \n",
      "ecal_hit_index_y              ecal_hit_time                 event_number                  ext_trigger                   \n",
      "hodo_cluster_energy           hodo_cluster_ix               hodo_cluster_iy               hodo_cluster_layer            \n",
      "hodo_cluster_time             hodo_hit_energy               hodo_hit_hole                 hodo_hit_index_x              \n",
      "hodo_hit_index_y              hodo_hit_layer                hodo_hit_time                 mc_part_charge                \n",
      "mc_part_daughters             mc_part_end_px                mc_part_end_py                mc_part_end_pz                \n",
      "mc_part_end_x                 mc_part_end_y                 mc_part_end_z                 mc_part_energy                \n",
      "mc_part_id                    mc_part_mass                  mc_part_parents               mc_part_pdg                   \n",
      "mc_part_primary_index         mc_part_px                    mc_part_py                    mc_part_pz                    \n",
      "mc_part_sim_status            mc_part_time                  mc_part_x                     mc_part_y                     \n",
      "mc_part_z                     mc_score_cluster_e            mc_score_cluster_indexes      mc_score_cluster_pz           \n",
      "mc_score_cluster_x            mc_score_cluster_y            mc_score_part_idx             mc_score_pdg                  \n",
      "mc_score_primary_hits_e       mc_score_px                   mc_score_py                   mc_score_pz                   \n",
      "mc_score_secondary_hits_e     mc_score_time                 mc_score_type                 mc_score_x                    \n",
      "mc_score_y                    mc_score_z                    n_mc_score_primary_hits       n_mc_score_secondary_hits     \n",
      "part_charge                   part_ecal_cluster             part_energy                   part_goodness_of_pid          \n",
      "part_lcio_type                part_mass                     part_pdg                      part_px                       \n",
      "part_py                       part_pz                       part_track                    part_track_chi2               \n",
      "part_type                     rf_time1                      rf_time2                      run_number                    \n",
      "svt_status                    time_stamp                    track_chi2                    track_covmatrix               \n",
      "track_d0                      track_gbl_ref                 track_isolation               track_lambda_kinks            \n",
      "track_n_gbl                   track_n_hits                  track_n_kf                    track_n_matched               \n",
      "track_omega                   track_particle                track_phi0                    track_phi_kinks               \n",
      "track_px                      track_py                      track_pz                      track_ref                     \n",
      "track_svt_hits                track_tan_lambda              track_time                    track_type                    \n",
      "track_volume                  track_x_at_ecal               track_y_at_ecal               track_z0                      \n",
      "track_z_at_ecal               trigger                       v0_charge                     v0_em_chi2                    \n",
      "v0_em_clus                    v0_em_clus_energy             v0_em_clus_ix                 v0_em_clus_iy                 \n",
      "v0_em_clus_pos_x              v0_em_clus_pos_y              v0_em_clus_time               v0_em_good_pid                \n",
      "v0_em_p                       v0_em_part                    v0_em_pos_ecal_x              v0_em_pos_ecal_y              \n",
      "v0_em_track                   v0_em_track_nhit              v0_em_track_time              v0_energy                     \n",
      "v0_ep_chi2                    v0_ep_clus                    v0_ep_clus_energy             v0_ep_clus_ix                 \n",
      "v0_ep_clus_iy                 v0_ep_clus_pos_x              v0_ep_clus_pos_y              v0_ep_clus_time               \n",
      "v0_ep_good_pid                v0_ep_p                       v0_ep_part                    v0_ep_pos_ecal_x              \n",
      "v0_ep_pos_ecal_y              v0_ep_track                   v0_ep_track_nhit              v0_ep_track_time              \n",
      "v0_goodness_of_pid            v0_lcio_type                  v0_mass                       v0_mass_err                   \n",
      "v0_pdg                        v0_px                         v0_py                         v0_pz                         \n",
      "v0_type                       v0_vertex_chi2                v0_vertex_prob                v0_vertex_x                   \n",
      "v0_vertex_y                   v0_vertex_z                   "
     ]
    }
   ],
   "source": [
    "df = R.RDataFrame(ch)\n",
    "dfx = R.EAC.extend_dataframe(R.RDF.AsRNode(df))\n",
    "print(\"Available data names in Tuple:\")\n",
    "ColumnNames=dfx.GetColumnNames()\n",
    "ll = 0\n",
    "pr_colnames = [x for x in ColumnNames if str(x).startswith('')]\n",
    "for nn in pr_colnames:\n",
    "    if ll < len(nn):\n",
    "        ll = len(nn)\n",
    "for n in range(len(pr_colnames)):\n",
    "    if n%4 == 0:\n",
    "        print(\"\")\n",
    "    print(f\"{str(pr_colnames[n]):{ll}s}\",end=\"\")"
   ],
   "metadata": {
    "collapsed": false
   }
  },
  {
   "cell_type": "code",
   "execution_count": 6,
   "outputs": [
    {
     "name": "stdout",
     "output_type": "stream",
     "text": [
      "MminiDST version = 1.0.9\n"
     ]
    }
   ],
   "source": [
    "def make_ecal_snaphot(mini_dst, hist, opt=0):\n",
    "    \"\"\"Return a 2D histogram for the ECal, with the energy of the hits on the z-axis\"\"\"\n",
    "    if hist is None:\n",
    "        hist = R.TH2D(\"hist_ecal\",\"Ecal Hits\",50,-25.5,24.5,13,-6.5,6.5)\n",
    "    else:\n",
    "        hist.Reset()\n",
    "    # Fill the histogram by looping over the ECal hits\n",
    "    for i in range(len(mini_dst.ecal_hit_index_x)):\n",
    "        hist.Fill(mini_dst.ecal_hit_index_x[i], mini_dst.ecal_hit_index_y[i], mini_dst.ecal_hit_energy[i])\n",
    "    return hist\n",
    "\n",
    "# Setup the MiniDST class, which makes for easier event by event data inplection.\n",
    "# This MiniDST class looks directly into the TTree, so does not use the RDataframe class.\n",
    "# You need to:\n",
    "mdst = R.MiniDst()          # Initiate the class\n",
    "mdst.use_mc_particles=True  # Tell it to look for the MC Particles in the TTree\n",
    "mdst.use_ecal_cluster_uncor = True\n",
    "mdst.use_mc_scoring =True\n",
    "mdst.DefineBranchMap()      # Define the map of all the branches to the contents of the TTree\n",
    "mdst.SetBranchAddressesOnTree(ch) # Connect the TChain (which contains the TTree) to the class.\n",
    "print(f\"MminiDST version = {mdst._version_()}\")\n",
    "event = 1"
   ],
   "metadata": {
    "collapsed": false
   }
  },
  {
   "cell_type": "code",
   "execution_count": 7,
   "outputs": [],
   "source": [
    "event = 0\n",
    "primary_index = -1\n",
    "def Print_Event():\n",
    "    global event, primary_index\n",
    "\n",
    "    print(f\"event = {event} Run: {mdst.run_number}, Event Num:{mdst.event_number}\")\n",
    "    print(f\"NClusters: {len(mdst.ecal_cluster_seed_ix)} :\",end=\"\")\n",
    "    for i in range(len(mdst.ecal_cluster_seed_index)):\n",
    "        print(f\" [{mdst.ecal_cluster_seed_index[i]}]({mdst.ecal_cluster_x[i]:7.3f},{mdst.ecal_cluster_y[i]:7.3f},{mdst.ecal_cluster_uncor_energy[i]:7.3f})\", end=\",\")\n",
    "    print(\"\\n\")\n",
    "    print(\"   i |   x |   y |  Energy  \")\n",
    "    esum=0\n",
    "    print(\"----------------------------\")\n",
    "    for i in range(len(mdst.ecal_hit_index_x)):\n",
    "        print(f\" {i:3d} | {mdst.ecal_hit_index_x[i]:3d} | {mdst.ecal_hit_index_y[i]:3d} | {mdst.ecal_hit_energy[i]:7.5f} \")\n",
    "        esum+=mdst.ecal_hit_energy[i]\n",
    "    print(f\"Energy sum = {esum}\")\n",
    "    print_mc_particle_tree(mdst)\n",
    "    primary_index = -1\n",
    "    for i in range(len(mdst.mc_part_z)):\n",
    "        if abs(mdst.mc_part_z[i])<1e-6:\n",
    "            primary_index = i\n",
    "            break\n",
    "    print(f\"primary_index = {primary_index}\")\n",
    "    status = np.uintc(mdst.mc_part_sim_status[primary_index])\n",
    "    print(f\"Status: {status:d} = {status:033b} Decay in Cal? {status >> 26 & 1}\")\n",
    "    print(\"-------------\")\n",
    "    # print(mdst.ecal_hit_index_x)\n",
    "    # print(mdst.ecal_hit_index_y)"
   ],
   "metadata": {
    "collapsed": false
   }
  },
  {
   "cell_type": "code",
   "execution_count": 8,
   "outputs": [],
   "source": [
    "cc2 = R.TCanvas(\"cc2\",\"Canvas\",900,600)\n",
    "legend2 = None\n",
    "hh = None\n",
    "ones = None\n",
    "dot_graph = None\n",
    "dot2_graph = None\n",
    "dot3_graph = None\n",
    "dot4_graph = None\n",
    "clus_dot_graph = None\n",
    "clus_dot_uncor_graph = None\n",
    "track_dot_graph = None\n",
    "cl_idx = None\n",
    "\n",
    "\n",
    "def Show_Event():\n",
    "    global hh, ones, dot_graph, dot2_graph, dot3_graph, clus_dot_graph, clus_dot_uncor_graph, track_dot_graph, legend2\n",
    "    global cl_idx\n",
    "    global dot4_graph\n",
    "\n",
    "    hh = make_ecal_snaphot(mdst, hh, 0)\n",
    "    hh.SetStats(0)\n",
    "    cc2.Clear()\n",
    "    ones = fancy_plot(hh, ones, 0x0)\n",
    "    pzsum = 0;\n",
    "    print(f\"Primary particle into scoring plane, index = {primary_index}\")\n",
    "    x_ave = 0\n",
    "    y_ave = 0\n",
    "    x_dots = array('d')\n",
    "    y_dots = array('d')\n",
    "    x_dots2 = array('d')\n",
    "    y_dots2 = array('d')\n",
    "    x_dots3 = array('d')\n",
    "    y_dots3 = array('d')\n",
    "    x_dots4 = array('d')\n",
    "    y_dots4 = array('d')\n",
    "\n",
    "    for i in range(len(mdst.mc_score_pdg)):\n",
    "        if mdst.mc_score_z[i] > 1400 and mdst.mc_score_pz[i] > 0.01 and mdst.mc_score_part_idx[i] == primary_index :  # and mdst.mc_score_pz[i] > 2.8\n",
    "            pzsum += mdst.mc_score_pz[i]\n",
    "            x_ave += mdst.mc_score_x[i]*mdst.mc_score_pz[i]\n",
    "            y_ave += mdst.mc_score_y[i]*mdst.mc_score_pz[i]\n",
    "            print(f\"[{mdst.mc_score_part_idx[i]:3d}] {mdst.mc_score_pdg[i]:3d} ({mdst.mc_score_x[i]:7.1f},{mdst.mc_score_y[i]:7.1f}) pz={mdst.mc_score_pz[i]:7.5f}\")\n",
    "\n",
    "    if pzsum == 0:\n",
    "        x_ave = 0\n",
    "        y_ave = 0\n",
    "    else:\n",
    "        x_ave = x_ave/pzsum\n",
    "        y_ave = y_ave/pzsum\n",
    "        x_dots.append(R.EAC.ecal_xpos_to_index(x_ave))\n",
    "        y_dots.append(R.EAC.ecal_ypos_to_index(y_ave))\n",
    "\n",
    "    print(f\"Primary hits: (x,y)_ave = ({x_ave:7.1f}, {y_ave:7.1f}) Pz sum = {pzsum:7.4f}\")\n",
    "    print(\"Secondary particles:\")\n",
    "    for i in range(len(mdst.mc_score_pdg)):\n",
    "        if mdst.mc_score_z[i] > 1400 and mdst.mc_score_pz[i] > 0.01 and mdst.mc_score_part_idx[i] != primary_index :  # and mdst.mc_score_pz[i] > 2.8\n",
    "            x_dots2.append(R.EAC.ecal_xpos_to_index(mdst.mc_score_x[i]))\n",
    "            y_dots2.append(R.EAC.ecal_ypos_to_index(mdst.mc_score_y[i]))\n",
    "            pzsum += mdst.mc_score_pz[i]\n",
    "            print(f\"{len(x_dots2)-1:2d}:{i:3d} [{mdst.mc_score_part_idx[i]:3d}] {mdst.mc_score_pdg[i]:3d} ({mdst.mc_score_x[i]:7.1f},{mdst.mc_score_y[i]:7.1f}) pz={mdst.mc_score_pz[i]:7.5f}\")\n",
    "\n",
    "    print(f\"Pz sum = {pzsum}\")\n",
    "\n",
    "    print(\"Score Clusters:\")\n",
    "    cl_idx = R.EAC.get_score_cluster_indexes(mdst.mc_score_pz, mdst.mc_score_x, mdst.mc_score_y, mdst.mc_score_z,\n",
    "                                             mdst.ecal_cluster_x, mdst.ecal_cluster_y)\n",
    "    x_aves = R.EAC.get_score_cluster_loc(cl_idx, mdst.mc_score_x, mdst.mc_score_pz)\n",
    "    y_aves = R.EAC.get_score_cluster_loc(cl_idx, mdst.mc_score_y, mdst.mc_score_pz)\n",
    "    pz_sums = R.EAC.get_score_cluster_pz(cl_idx, mdst.mc_score_pz)\n",
    "    e_sums = R.EAC.get_score_cluster_e(cl_idx, mdst.mc_score_px, mdst.mc_score_py, mdst.mc_score_pz)\n",
    "    # for i in range(len(cl_idx)):\n",
    "    #     x_ave = 0\n",
    "    #     y_ave = 0\n",
    "    #     pzsum = 0\n",
    "    #     for j in range(len(cl_idx[i])):\n",
    "    #         idx = cl_idx[i][j]\n",
    "    #         x_ave += mdst.mc_score_x[idx]*mdst.mc_score_pz[idx]\n",
    "    #         y_ave += mdst.mc_score_y[idx]*mdst.mc_score_pz[idx]\n",
    "    #         pzsum += mdst.mc_score_pz[idx]\n",
    "    #\n",
    "    #     x_ave = x_ave/pzsum\n",
    "    #     y_ave = y_ave/pzsum\n",
    "    for i in range(len(x_aves)):\n",
    "        x_ave = x_aves[i]\n",
    "        y_ave = y_aves[i]\n",
    "        pzsum = pz_sums[i]\n",
    "        print(f\"i: {i:2d} N={len(cl_idx[i]):3d} ({R.EAC.ecal_xpos_to_index(x_ave):6.2f},{R.EAC.ecal_ypos_to_index(y_ave):6.2f}) ({x_ave:7.1f},{y_ave:7.1f}) pz = {pzsum:7.4f}\")\n",
    "        x_dots3.append(R.EAC.ecal_xpos_to_index(x_ave))\n",
    "        y_dots3.append(R.EAC.ecal_ypos_to_index(y_ave))\n",
    "\n",
    "    # Fill the individual score plane hits\n",
    "    for i in range(len(mdst.mc_score_x)):\n",
    "        if mdst.mc_score_pz[i] > 0.05 and mdst.mc_score_z[i] > 1440:\n",
    "             x_dots4.append(R.EAC.ecal_xpos_to_index(mdst.mc_score_x[i]))\n",
    "             y_dots4.append(R.EAC.ecal_ypos_to_index(mdst.mc_score_y[i]))\n",
    "\n",
    "    x_clus_dot = array('d')\n",
    "    y_clus_dot = array('d')\n",
    "    x_clus_uncor_dot = array('d')\n",
    "    y_clus_uncor_dot = array('d')\n",
    "\n",
    "    for i in range(len(mdst.ecal_cluster_seed_ix)):\n",
    "        print(f\"Cluster: ({mdst.ecal_cluster_seed_ix[i]:3d},{mdst.ecal_cluster_seed_iy[i]:2d}) ({mdst.ecal_cluster_x[i]:6.2f},{mdst.ecal_cluster_y[i]:6.2f}) ({mdst.ecal_cluster_uncor_x[i]:6.2f}, {mdst.ecal_cluster_uncor_y[i]:6.2f}) E={mdst.ecal_cluster_uncor_energy[i]:7.4f} GeV\")\n",
    "        x_clus_dot.append(R.EAC.ecal_xpos_to_index(mdst.ecal_cluster_x[i]))\n",
    "        y_clus_dot.append(R.EAC.ecal_ypos_to_index(mdst.ecal_cluster_y[i]))\n",
    "        x_clus_uncor_dot.append(R.EAC.ecal_xpos_to_index(mdst.ecal_cluster_uncor_x[i]))\n",
    "        y_clus_uncor_dot.append(R.EAC.ecal_ypos_to_index(mdst.ecal_cluster_uncor_y[i]))\n",
    "\n",
    "\n",
    "    x_track = array('d')\n",
    "    y_track = array('d')\n",
    "    for i in range(len(mdst.track_x_at_ecal)):\n",
    "        if mdst.track_type[i] == 1:\n",
    "            print(f\"Track:            ({mdst.track_x_at_ecal[i]:6.2f},{mdst.track_y_at_ecal[i]:6.2f},{mdst.track_z_at_ecal[i]:6.2f}) P=({mdst.track_px[i]:6.2f},{mdst.track_py[i]:6.2f},{mdst.track_pz[i]:6.2f})\")\n",
    "            x_track.append(R.EAC.ecal_xpos_to_index(mdst.track_x_at_ecal[i]))\n",
    "            y_track.append(R.EAC.ecal_ypos_to_index(mdst.track_y_at_ecal[i]))\n",
    "\n",
    "    legend2 = R.TLegend(0.,0.8,0.25,0.99)\n",
    "\n",
    "    if len(x_dots)>0:\n",
    "        dot_graph = R.TGraph(len(x_dots), x_dots, y_dots)\n",
    "        dot_graph.SetMarkerColor(R.kRed)\n",
    "        dot_graph.SetMarkerSize(1.5)\n",
    "        dot_graph.SetMarkerStyle(R.kFullCircle)\n",
    "        dot_graph.Draw(\"P\")\n",
    "        legend2.AddEntry(dot_graph,\"Score plane primary hit\")\n",
    "\n",
    "    if len(x_dots3)>0:\n",
    "        dot3_graph = R.TGraph(len(x_dots3), x_dots3, y_dots3)\n",
    "        dot3_graph.SetMarkerColor(R.kOrange+2)\n",
    "        dot3_graph.SetMarkerSize(1.1)\n",
    "        dot3_graph.SetMarkerStyle(R.kFullCircle)\n",
    "        dot3_graph.Draw(\"P\")\n",
    "        legend2.AddEntry(dot3_graph,\"Score plane clusters\")\n",
    "\n",
    "    if len(x_dots2)>0:\n",
    "        dot2_graph = R.TGraph(len(x_dots2), x_dots2, y_dots2)\n",
    "        dot2_graph.SetMarkerColor(R.kOrange)\n",
    "        dot2_graph.SetMarkerSize(0.5)\n",
    "        dot2_graph.SetMarkerStyle(R.kFullCircle)\n",
    "        dot2_graph.Draw(\"P\")\n",
    "        legend2.AddEntry(dot2_graph,\"Score plane secondary hit\")\n",
    "\n",
    "    if len(x_dots4)>0:\n",
    "        #print(\"Plot the ecal hits\")\n",
    "        dot4_graph = R.TGraph(len(x_dots4), x_dots4, y_dots4)\n",
    "        dot4_graph.SetMarkerColor(R.kRed)\n",
    "        dot4_graph.SetMarkerSize(0.3)\n",
    "        dot4_graph.SetMarkerStyle(R.kFullCircle)\n",
    "        dot4_graph.Draw(\"P\")\n",
    "        legend2.AddEntry(dot4_graph,\"Score hits\")\n",
    "\n",
    "\n",
    "    if len(x_clus_dot)>0:\n",
    "        clus_dot_graph = R.TGraph(len(x_clus_dot), x_clus_dot, y_clus_dot)\n",
    "        clus_dot_graph.SetMarkerColor(R.kGreen+1)\n",
    "        clus_dot_graph.SetMarkerSize(1.)\n",
    "        clus_dot_graph.SetMarkerStyle(R.kFullCircle)\n",
    "        clus_dot_graph.Draw(\"P\")\n",
    "        legend2.AddEntry(clus_dot_graph,\"Cluster center\")\n",
    "\n",
    "    if len(x_clus_uncor_dot)>0:\n",
    "        clus_dot_uncor_graph = R.TGraph(len(x_clus_uncor_dot), x_clus_uncor_dot, y_clus_uncor_dot)\n",
    "        clus_dot_uncor_graph.SetMarkerColor(R.kCyan)\n",
    "        clus_dot_uncor_graph.SetMarkerSize(0.9)\n",
    "        clus_dot_uncor_graph.SetMarkerStyle(R.kFullCircle)\n",
    "        clus_dot_uncor_graph.Draw(\"P\")\n",
    "        legend2.AddEntry(clus_dot_uncor_graph,\"Cluster center uncor\")\n",
    "\n",
    "    if len(x_track)>0:\n",
    "        track_dot_graph = R.TGraph(len(x_track), x_track, y_track)\n",
    "        track_dot_graph.SetMarkerColor(R.kViolet)\n",
    "        track_dot_graph.SetMarkerSize(.5)\n",
    "        track_dot_graph.SetMarkerStyle(R.kFullCircle)\n",
    "        track_dot_graph.Draw(\"P\")\n",
    "        legend2.AddEntry(track_dot_graph,\"Track pos at ecal\")\n",
    "\n",
    "    legend2.Draw()\n",
    "    cc2.Draw()"
   ],
   "metadata": {
    "collapsed": false
   }
  },
  {
   "cell_type": "code",
   "execution_count": 18,
   "outputs": [
    {
     "name": "stdout",
     "output_type": "stream",
     "text": [
      "event = 534 Run: 1193700, Event Num:694\n",
      "NClusters: 4 : [0](-276.270, 67.820,  0.387), [3](-232.200, 28.551,  0.141), [4](-270.268, 49.158,  0.171), [1](-236.986, 75.935,  0.123),\n",
      "\n",
      "   i |   x |   y |  Energy  \n",
      "----------------------------\n",
      "   0 | -23 |   4 | 0.27160 \n",
      "   1 | -20 |   4 | 0.09238 \n",
      "   2 | -23 |   3 | 0.07716 \n",
      "   3 | -20 |   1 | 0.14054 \n",
      "   4 | -23 |   2 | 0.09364 \n",
      "   5 | -23 |   5 | 0.04072 \n",
      "   6 | -22 |   3 | 0.03081 \n",
      "   7 | -22 |   2 | 0.04452 \n",
      "   8 | -21 |   5 | 0.03028 \n",
      "Energy sum = 0.8216526694595814\n",
      "  63  pdg:   11  E:  3.000000 p = (-0.418619, 0.120387, 2.968209)v = ( 0.00, 0.00, 0.00) end=(-191.61,40.21,1045.53)\n",
      "              | \n",
      "             16  pdg:   22  E:  0.016360 p = ( 0.002069,-0.004055, 0.015714)v = (-191.61,40.21,1045.53) end=(-136.57,-67.69,1463.65)\n",
      "             39  pdg:   22  E:  0.110898 p = (-0.024482, 0.004596, 0.108064)v = (-187.30,41.08,1015.79) end=(-196.40,42.79,1055.95)\n",
      "                         | \n",
      "                       108  pdg:  -11  E:  0.085980 p = (-0.019711, 0.003248, 0.083626)v = (-196.40,42.79,1055.95) end=(-196.66,42.79,1057.04)\n",
      "                                    | \n",
      "                                   35  pdg:   22  E:  0.007124 p = (-0.001459,-0.000131, 0.006972)v = (-196.66,42.79,1057.04) end=(-390.72,364.34,2500.00)\n",
      "                                  115  pdg:   22  E:  0.003242 p = (-0.000106,-0.000154, 0.003237)v = (-197.86,42.63,1064.58) end=(-197.88,42.59,1065.26)\n",
      "                                               | \n",
      "                                             154  pdg:   11  E:  0.002157 p = ( 0.000989, 0.000104, 0.001845)v = (-197.88,42.59,1065.26) end=(-197.66,42.58,1065.57)\n",
      "                                  158  pdg:   22  E:  0.001321 p = (-0.000153, 0.000023, 0.001312)v = (-197.13,42.67,1059.32) end=(-198.16,477.98,2500.00)\n",
      "                                  188  pdg:   22  E:  0.011159 p = (-0.000315, 0.000818, 0.011125)v = (-197.88,42.60,1065.21) end=(-209.13,71.82,1462.45)\n",
      "                                  220  pdg:   22  E:  0.002069 p = (-0.000518,-0.000010, 0.002003)v = (-196.64,42.79,1056.96) end=(-197.31,42.78,1059.54)\n",
      "                                               | \n",
      "                                              11  pdg:   11  E:  0.002155 p = (-0.000638,-0.000414, 0.001950)v = (-197.31,42.78,1059.54) end=(-197.43,42.64,1059.91)\n",
      "                       126  pdg:   11  E:  0.024917 p = (-0.004766, 0.001347, 0.024415)v = (-196.40,42.79,1055.95) end=(-196.83,42.88,1058.05)\n",
      "                                    | \n",
      "                                   59  pdg:   22  E:  0.012401 p = (-0.004129, 0.000380, 0.011687)v = (-196.83,42.88,1058.05) end=(-202.95,43.44,1075.37)\n",
      "                                               | \n",
      "                                             149  pdg:   11  E:  0.011910 p = (-0.003655, 0.001155, 0.011265)v = (-202.95,43.44,1075.37) end=(-205.25,44.06,1079.30)\n",
      "                                   89  pdg:   22  E:  0.001251 p = (-0.000352,-0.000114, 0.001195)v = (-197.45,43.64,1060.78) end=(-621.28,-93.36,2500.00)\n",
      "             75  pdg:   22  E:  1.737002 p = (-0.379892, 0.076611, 1.693218)v = (-190.20,41.65,1028.73) end=(-192.86,42.19,1040.58)\n",
      "                         | \n",
      "                       175  pdg:  -11  E:  0.336943 p = (-0.077890, 0.015654, 0.327442)v = (-192.86,42.19,1040.58) end=(-195.00,42.77,1049.79)\n",
      "                                    | \n",
      "                                   22  pdg:   22  E:  0.046546 p = (-0.010988, 0.001516, 0.045205)v = (-195.00,42.77,1049.79) end=(-202.51,43.81,1080.72)\n",
      "                                               | \n",
      "                                             118  pdg:   11  E:  0.037564 p = (-0.009285, 0.002174, 0.036330)v = (-202.51,43.81,1080.72) end=(-439.97,383.54,2500.00)\n",
      "                                             177  pdg:  -11  E:  0.008982 p = (-0.001683,-0.000658, 0.008783)v = (-202.51,43.81,1080.72) end=(-205.32,42.47,1081.31)\n",
      "                                   30  pdg:   22  E:  0.003817 p = (-0.001034,-0.000196, 0.003669)v = (-196.58,42.84,1055.71) end=(-197.73,42.63,1059.76)\n",
      "                                               | \n",
      "                                             205  pdg:   11  E:  0.003319 p = (-0.001618,-0.000111, 0.002850)v = (-197.73,42.63,1059.76) end=(-198.21,42.80,1060.43)\n",
      "                                   36  pdg:   22  E:  0.084197 p = (-0.019654, 0.004544, 0.081744)v = (-195.14,42.81,1050.38) end=(-197.61,43.38,1060.68)\n",
      "                                               | \n",
      "                                              25  pdg:  -11  E:  0.067485 p = (-0.015841, 0.003351, 0.065511)v = (-197.61,43.38,1060.68) end=(-197.89,43.49,1062.04)\n",
      "                                                          | \n",
      "                                                        225  pdg:   22  E:  0.002677 p = (-0.000470, 0.000056, 0.002634)v = (-197.89,43.49,1062.04) end=(-120.77,-113.80,2500.00)\n",
      "                                                        243  pdg:   22  E:  0.001548 p = (-0.000225,-0.000069, 0.001530)v = (-199.03,43.77,1068.95) end=(-256.68,26.11,1459.96)\n",
      "                                             148  pdg:   11  E:  0.016712 p = (-0.003810, 0.001193, 0.016220)v = (-197.61,43.38,1060.68) end=(-199.55,47.12,1068.22)\n",
      "                                                          | \n",
      "                                                         60  pdg:   22  E:  0.001570 p = ( 0.000927, 0.000574, 0.001129)v = (-199.55,47.12,1068.22) end=(-230.74,83.78,1117.28)\n",
      "                                   58  pdg:   22  E:  0.003005 p = (-0.000834,-0.000030, 0.002886)v = (-196.17,42.90,1054.22) end=(-613.96,28.04,2500.00)\n",
      "                                   64  pdg:   22  E:  0.026275 p = (-0.007397, 0.000321, 0.025210)v = (-196.13,42.91,1054.08) end=(-196.17,42.91,1054.23)\n",
      "                                               | \n",
      "                                             142  pdg:   11  E:  0.017490 p = (-0.004949, 0.000232, 0.016766)v = (-196.17,42.91,1054.23) end=(-196.42,42.39,1056.50)\n",
      "                                                          | \n",
      "                                                         21  pdg:   22  E:  0.002324 p = (-0.001126,-0.001240, 0.001610)v = (-196.42,42.39,1056.50) end=(-190.77,-828.25,2500.00)\n",
      "                                                         44  pdg:   22  E:  0.001538 p = (-0.000792,-0.000676, 0.001132)v = (-196.40,42.42,1056.47) end=(-205.28,34.83,1069.16)\n",
      "                                                                     | \n",
      "                                                                    96  pdg:   11  E:  0.001800 p = (-0.000899,-0.000899, 0.001167)v = (-205.28,34.83,1069.16) end=(-205.42,34.69,1069.34)\n",
      "                                             236  pdg:  -11  E:  0.008784 p = (-0.002441, 0.000089, 0.008422)v = (-196.17,42.91,1054.23) end=(-196.32,45.31,1059.20)\n",
      "                                   67  pdg:   22  E:  0.005198 p = (-0.000346,-0.000600, 0.005151)v = (-199.05,42.90,1063.10) end=(-199.11,42.79,1064.02)\n",
      "                                               | \n",
      "                                             137  pdg:   11  E:  0.004387 p = ( 0.000555,-0.000105, 0.004321)v = (-199.11,42.79,1064.02) end=(-199.03,42.98,1065.42)\n",
      "                                   71  pdg:   22  E:  0.049701 p = (-0.011312, 0.003269, 0.048286)v = (-193.82,42.48,1044.71) end=(-199.79,44.21,1070.20)\n",
      "                                               | \n",
      "                                             113  pdg:  -11  E:  0.009253 p = (-0.003156, 0.000563, 0.008665)v = (-199.79,44.21,1070.20) end=(-200.58,43.31,1074.35)\n",
      "                                                          | \n",
      "                                                        176  pdg:   22  E:  0.001265 p = (-0.000430, 0.000671, 0.000982)v = (-200.58,43.31,1074.35) end=(850.97,-1829.34,2500.00)\n",
      "                                             226  pdg:   11  E:  0.040448 p = (-0.008130, 0.002699, 0.039527)v = (-199.79,44.21,1070.20) end=(-202.75,44.60,1077.88)\n",
      "                                                          | \n",
      "                                                         23  pdg:   22  E:  0.002572 p = (-0.001469, 0.001020, 0.001849)v = (-202.75,44.60,1077.88) end=(-1877.82,897.49,2500.00)\n",
      "                                                         88  pdg:   22  E:  0.001221 p = (-0.000687, 0.000352, 0.000946)v = (-204.08,47.35,1080.35) end=(-218.02,-186.90,1310.96)\n",
      "                                                        112  pdg:   22  E:  0.002479 p = (-0.001213,-0.000056, 0.002161)v = (-201.17,44.76,1074.39) end=(-1359.18,440.04,2500.00)\n",
      "                                                        140  pdg:   22  E:  0.008045 p = (-0.002777, 0.000232, 0.007548)v = (-200.33,44.30,1072.39) end=(-725.53,88.14,2500.00)\n",
      "                                   97  pdg:   22  E:  0.004522 p = (-0.001004, 0.000312, 0.004398)v = (-193.76,42.46,1044.45) end=(-303.66,76.63,1525.80)\n",
      "                                  114  pdg:   22  E:  0.013494 p = (-0.000849,-0.001530, 0.013380)v = (-199.01,43.00,1062.50) end=(-246.74,-43.00,1814.60)\n",
      "                                  127  pdg:   22  E:  0.001012 p = (-0.000236, 0.000046, 0.000983)v = (-194.69,42.70,1048.47) end=(-203.96,59.12,1059.81)\n",
      "                                  159  pdg:   22  E:  0.024123 p = (-0.006104, 0.002878, 0.023160)v = (-198.79,42.94,1061.70) end=(-200.42,43.71,1067.89)\n",
      "                                               | \n",
      "                                               5  pdg:  -11  E:  0.015735 p = (-0.003907, 0.001776, 0.015129)v = (-200.42,43.71,1067.89) end=(-200.92,43.52,1069.68)\n",
      "                                                          | \n",
      "                                                         41  pdg:   22  E:  0.002897 p = ( 0.000672,-0.000472, 0.002779)v = (-200.92,43.52,1069.68) end=(722.21,429.15,2500.00)\n",
      "                                                        100  pdg:   22  E:  0.011685 p = (-0.004087, 0.001803, 0.010797)v = (-200.92,43.52,1069.68) end=(-210.13,47.58,1094.01)\n",
      "                                                                     | \n",
      "                                                                    18  pdg:  -11  E:  0.003859 p = (-0.002299, 0.002563, 0.001665)v = (-210.13,47.58,1094.01) end=(-211.22,48.06,1095.03)\n",
      "                                                                   215  pdg:   11  E:  0.007826 p = (-0.001076,-0.001209, 0.007640)v = (-210.13,47.58,1094.01) end=(-211.43,48.68,1096.96)\n",
      "                                             231  pdg:   11  E:  0.008388 p = (-0.002190, 0.001099, 0.008006)v = (-200.42,43.71,1067.89) end=(-200.55,43.91,1068.70)\n",
      "                                                          | \n",
      "                                                        193  pdg:   22  E:  0.001198 p = ( 0.000095, 0.000757, 0.000924)v = (-200.55,43.91,1068.70) end=(-187.42,148.25,1198.51)\n",
      "                                  173  pdg:   22  E:  0.002691 p = (-0.000686, 0.000126, 0.002599)v = (-195.46,42.88,1051.69) end=(-198.49,43.44,1063.20)\n",
      "                                               | \n",
      "                                             237  pdg:   11  E:  0.002741 p = (-0.001001,-0.000194, 0.002492)v = (-198.49,43.44,1063.20) end=(-198.71,43.50,1063.69)\n",
      "                                  174  pdg:   22  E:  0.003445 p = (-0.002296,-0.001728, 0.001901)v = (-199.69,41.31,1068.00) end=(-1929.08,-1260.75,2500.00)\n",
      "                                  209  pdg:   22  E:  0.025997 p = (-0.007420,-0.006947, 0.023927)v = (-199.69,41.31,1068.00) end=(-203.59,37.66,1080.58)\n",
      "                                               | \n",
      "                                              19  pdg:  -11  E:  0.021297 p = (-0.006788,-0.005036, 0.019542)v = (-203.59,37.66,1080.58) end=(-203.62,37.64,1080.66)\n",
      "                                                          | \n",
      "                                                         43  pdg:   22  E:  0.001565 p = (-0.001395,-0.000048, 0.000707)v = (-203.62,37.64,1080.66) end=(-206.14,37.55,1081.93)\n",
      "                                                                     | \n",
      "                                                                    14  pdg:   11  E:  0.001657 p = (-0.001236, 0.000260, 0.000943)v = (-206.14,37.55,1081.93) end=(-206.32,37.59,1082.07)\n",
      "                                                         53  pdg:   22  E:  0.020181 p = (-0.004969,-0.005509, 0.018767)v = (-203.62,37.64,1080.66) end=(-579.44,-379.00,2500.00)\n",
      "                                              45  pdg:   11  E:  0.004700 p = (-0.000597,-0.001862, 0.004243)v = (-203.59,37.66,1080.58) end=(-204.60,36.86,1082.70)\n",
      "                       223  pdg:   11  E:  1.400059 p = (-0.301994, 0.060956, 1.365741)v = (-192.86,42.19,1040.58) end=(-198.72,42.96,1068.38)\n",
      "                                    | \n",
      "                                    9  pdg:   22  E:  0.024483 p = (-0.005044, 0.000289, 0.023956)v = (-198.72,42.96,1068.38) end=(-282.39,47.75,1465.75)\n",
      "                                   12  pdg:   22  E:  0.020591 p = (-0.004459, 0.000268, 0.020100)v = (-196.91,42.95,1059.90) end=(-266.78,47.15,1374.86)\n",
      "                                   28  pdg:   22  E:  0.001575 p = (-0.000332, 0.000061, 0.001539)v = (-193.27,42.27,1042.45) end=(-2333.05,1170.21,2500.00)\n",
      "                                   29  pdg:   22  E:  0.001358 p = (-0.000274, 0.000005, 0.001330)v = (-197.33,42.96,1061.84) end=(-163.37,171.76,1312.32)\n",
      "                                   33  pdg:   22  E:  0.003254 p = (-0.000731,-0.000005, 0.003171)v = (-199.29,42.96,1071.16) end=(-425.88,-193.88,2500.00)\n",
      "                                   47  pdg:   22  E:  0.001456 p = (-0.000067,-0.000648, 0.001302)v = (-198.19,42.97,1066.02) end=(-198.31,41.78,1068.39)\n",
      "                                               | \n",
      "                                              46  pdg:   11  E:  0.001710 p = ( 0.000093,-0.000629, 0.001502)v = (-198.31,41.78,1068.39) end=(-198.30,41.69,1068.62)\n",
      "                                   48  pdg:   22  E:  0.001344 p = (-0.000270, 0.000030, 0.001316)v = (-194.40,42.47,1047.79) end=(-275.16,53.08,1460.42)\n",
      "                                   65  pdg:   22  E:  0.039948 p = (-0.008638,-0.000017, 0.039003)v = (-199.26,42.96,1071.02) end=(-301.37,42.76,1532.07)\n",
      "                                   76  pdg:   22  E:  0.011415 p = (-0.002504, 0.000211, 0.011135)v = (-197.64,42.97,1063.28) end=(-299.12,51.51,1514.63)\n",
      "                                   85  pdg:   22  E:  0.141900 p = (-0.030235, 0.006442, 0.138492)v = (-192.98,42.21,1041.14) end=(-196.81,43.03,1058.65)\n",
      "                                               | \n",
      "                                              78  pdg:   11  E:  0.070960 p = (-0.015263, 0.003367, 0.069215)v = (-196.81,43.03,1058.65) end=(-200.31,42.81,1071.97)\n",
      "                                                          | \n",
      "                                                        155  pdg:   22  E:  0.027133 p = (-0.008693, 0.000423, 0.025699)v = (-200.31,42.81,1071.97) end=(-436.32,49.68,2500.00)\n",
      "                                                        190  pdg:   22  E:  0.001793 p = (-0.000367, 0.000206, 0.001743)v = (-200.00,42.71,1070.99) end=(-222.29,79.24,1458.03)\n",
      "                                                        218  pdg:   22  E:  0.011326 p = (-0.002495,-0.000596, 0.011032)v = (-198.53,43.09,1066.25) end=(-522.83,-34.35,2500.00)\n",
      "                                                        241  pdg:   22  E:  0.001055 p = (-0.000200, 0.000084, 0.001033)v = (-197.31,43.15,1061.25) end=(-273.35,75.18,1454.82)\n",
      "                                             119  pdg:  -11  E:  0.070940 p = (-0.014971, 0.003075, 0.069272)v = (-196.81,43.03,1058.65) end=(-200.16,44.42,1072.15)\n",
      "                                                          | \n",
      "                                                          4  pdg:   22  E:  0.003292 p = (-0.000212, 0.000924, 0.003152)v = (-200.16,44.42,1072.15) end=(-296.12,463.01,2500.00)\n",
      "                                                          8  pdg:   22  E:  0.002612 p = (-0.000557, 0.000276, 0.002537)v = (-199.15,43.39,1066.17) end=(-295.22,94.06,1503.22)\n",
      "                                                         95  pdg:   22  E:  0.001698 p = (-0.000198, 0.000542, 0.001597)v = (-200.39,44.84,1073.48) end=(-204.94,94.80,1586.60)\n",
      "                                                        134  pdg:   22  E:  0.003955 p = (-0.001144, 0.000496, 0.003753)v = (-198.62,43.33,1064.44) end=(-636.06,233.12,2500.00)\n",
      "                                   94  pdg:   22  E:  0.004622 p = (-0.000896, 0.000041, 0.004534)v = (-198.83,42.96,1068.92) end=(-274.75,46.39,1449.70)\n",
      "                                  101  pdg:   22  E:  0.005914 p = (-0.001254, 0.000253, 0.005774)v = (-193.75,42.36,1044.68) end=(-292.95,62.36,1501.45)\n",
      "                                  106  pdg:   22  E:  0.005483 p = (-0.001090, 0.000211, 0.005370)v = (-195.84,42.82,1054.88) end=(-199.05,43.45,1070.71)\n",
      "                                               | \n",
      "                                             163  pdg:   11  E:  0.003584 p = (-0.001732, 0.000465, 0.003060)v = (-199.05,43.45,1070.71) end=(-199.84,44.24,1071.46)\n",
      "                                  107  pdg:   22  E:  0.005754 p = (-0.001129,-0.000032, 0.005642)v = (-197.30,42.96,1061.70) end=(-202.66,44.64,1076.45)\n",
      "                                               | \n",
      "                                             152  pdg:   11  E:  0.002695 p = (-0.000583, 0.000449, 0.002542)v = (-202.66,44.64,1076.45) end=(-202.79,44.74,1076.99)\n",
      "                                             182  pdg:   11  E:  0.003121 p = ( 0.000373,-0.000726, 0.002969)v = (-198.92,42.91,1069.80) end=(-198.32,42.44,1069.99)\n",
      "                                  110  pdg:   22  E:  0.928249 p = (-0.198267, 0.039449, 0.905969)v = (-193.68,42.35,1044.37) end=(-193.98,42.41,1045.74)\n",
      "                                               | \n",
      "                                              98  pdg:  -11  E:  0.218889 p = (-0.046841, 0.009954, 0.213586)v = (-193.98,42.41,1045.74) end=(-196.24,42.98,1058.72)\n",
      "                                                          | \n",
      "                                                         49  pdg:   22  E:  0.008758 p = (-0.001505, 0.000212, 0.008626)v = (-196.24,42.98,1058.72) end=(-265.58,56.36,1476.75)\n",
      "                                                         50  pdg:   22  E:  0.001905 p = (-0.000290, 0.000091, 0.001880)v = (-195.98,42.92,1057.16) end=(-259.48,57.43,1506.53)\n",
      "                                                        162  pdg:   22  E:  0.037343 p = (-0.006066, 0.001354, 0.036822)v = (-196.13,42.96,1058.13) end=(-198.39,43.46,1071.85)\n",
      "                                                                     | \n",
      "                                                                    87  pdg:  -11  E:  0.022849 p = (-0.003674, 0.000748, 0.022534)v = (-198.39,43.46,1071.85) end=(-92.43,40.46,1451.82)\n",
      "                                                                   192  pdg:   11  E:  0.014494 p = (-0.002390, 0.000606, 0.014273)v = (-198.39,43.46,1071.85) end=(-257.00,77.50,1423.65)\n",
      "                                                        172  pdg:   22  E:  0.009066 p = (-0.000994,-0.000020, 0.009011)v = (-197.17,43.08,1064.73) end=(-241.26,42.20,1464.30)\n",
      "                                             204  pdg:   11  E:  0.709360 p = (-0.151425, 0.029494, 0.692381)v = (-193.98,42.41,1045.74) end=(-197.00,43.27,1060.28)\n",
      "                                                          | \n",
      "                                                          0  pdg:   22  E:  0.058738 p = (-0.011945, 0.003959, 0.057374)v = (-197.00,43.27,1060.28) end=(-287.11,73.14,1493.09)\n",
      "                                                         10  pdg:   22  E:  0.002149 p = (-0.000455, 0.000122, 0.002096)v = (-194.59,42.55,1048.54) end=(-196.11,42.96,1055.53)\n",
      "                                                                     | \n",
      "                                                                   198  pdg:   11  E:  0.001570 p = (-0.000222,-0.000618, 0.001332)v = (-196.11,42.96,1055.53) end=(-196.14,42.87,1055.72)\n",
      "                                                         86  pdg:   22  E:  0.044062 p = (-0.009203, 0.002427, 0.043022)v = (-194.80,42.61,1049.54) end=(-199.30,43.80,1070.58)\n",
      "                                                                     | \n",
      "                                                                   109  pdg:  -11  E:  0.018539 p = (-0.003332, 0.001586, 0.018161)v = (-199.30,43.80,1070.58) end=(-201.18,44.02,1074.11)\n",
      "                                                                                | \n",
      "                                                                               82  pdg:   22  E:  0.001014 p = (-0.000602,-0.000108, 0.000810)v = (-201.18,44.02,1074.11) end=(1965.21,-330.41,2500.00)\n",
      "                                                                              124  pdg:   22  E:  0.003616 p = (-0.001605,-0.000016, 0.003240)v = (-200.32,44.14,1072.74) end=(-210.41,44.04,1093.12)\n",
      "                                                                                           | \n",
      "                                                                                         136  pdg:   11  E:  0.003585 p = (-0.002008, 0.000156, 0.002921)v = (-210.41,44.04,1093.12) end=(-211.04,44.02,1093.88)\n",
      "                                                                   150  pdg:   11  E:  0.025523 p = (-0.005863, 0.000839, 0.024821)v = (-199.30,43.80,1070.58) end=(-199.50,43.90,1071.28)\n",
      "                                                                                | \n",
      "                                                                               24  pdg:   22  E:  0.004644 p = (-0.001885, 0.000312, 0.004233)v = (-199.50,43.90,1071.28) end=(-221.35,47.32,1114.88)\n",
      "                                                                                           | \n",
      "                                                                                          26  pdg:  -11  E:  0.001691 p = (-0.001551,-0.000369, 0.000240)v = (-221.35,47.32,1114.88) end=(-221.61,47.26,1114.92)\n",
      "                                                                                         103  pdg:   11  E:  0.002096 p = ( 0.000460, 0.000670, 0.001863)v = (-221.35,47.32,1114.88) end=(-221.26,47.43,1115.23)\n",
      "                                                                               70  pdg:   22  E:  0.004014 p = (-0.001731,-0.000012, 0.003621)v = (-200.66,44.13,1073.14) end=(-213.46,44.04,1099.92)\n",
      "                                                                                           | \n",
      "                                                                                         244  pdg:   11  E:  0.002639 p = (-0.000591,-0.000849, 0.002373)v = (-213.46,44.04,1099.92) end=(-213.51,43.93,1100.49)\n",
      "                                                                              224  pdg:   22  E:  0.005936 p = (-0.002492,-0.000334, 0.005377)v = (-200.74,44.12,1073.30) end=(-214.45,42.28,1102.87)\n",
      "                                                                                           | \n",
      "                                                                                         117  pdg:   11  E:  0.006040 p = (-0.002598,-0.000728, 0.005380)v = (-214.45,42.28,1102.87) end=(-215.71,42.22,1103.19)\n",
      "                                                        133  pdg:   22  E:  0.006789 p = (-0.001420, 0.000310, 0.006631)v = (-194.10,42.43,1046.26) end=(-289.55,23.22,1496.66)\n",
      "                                                        139  pdg:   22  E:  0.001237 p = (-0.000225, 0.000105, 0.001212)v = (-199.26,44.29,1070.25) end=(-287.11,76.23,1485.88)\n",
      "                                                        168  pdg:   22  E:  0.328088 p = (-0.067086, 0.021321, 0.320448)v = (-197.07,43.29,1060.62) end=(-283.59,70.79,1473.87)\n",
      "                                                                     | \n",
      "                                                                    73  pdg:   11  E:  0.000511 p = (-0.000000,-0.000000, 0.000000)v = (-283.59,70.79,1473.87) end=(-289.80,69.82,1492.31)\n",
      "                                                                                | \n",
      "                                                                              128  pdg:   22  E:  0.012222 p = (-0.000565,-0.003303,-0.011753)v = (-289.80,69.82,1492.31) end=(-300.87, 5.11,1262.02)\n",
      "                                                                                           | \n",
      "                                                                                         180  pdg:   11  E:  0.012420 p = (-0.000324,-0.003384,-0.011935)v = (-300.87, 5.11,1262.02) end=(-693.44,-2500.00,-1934.70)\n",
      "                                                        181  pdg:   22  E:  0.006902 p = (-0.001355, 0.000465, 0.006751)v = (-195.51,42.81,1052.94) end=(-197.17,43.38,1061.18)\n",
      "                                                                     | \n",
      "                                                                   183  pdg:   11  E:  0.007146 p = (-0.001330, 0.000606, 0.006976)v = (-197.17,43.38,1061.18) end=(-195.99,44.13,1063.94)\n",
      "                                                        210  pdg:   22  E:  0.080936 p = (-0.020005, 0.004623, 0.078288)v = (-198.18,43.62,1065.39) end=(-564.77,128.34,2500.00)\n",
      "                                                        221  pdg:   22  E:  0.042444 p = (-0.008908, 0.003677, 0.041336)v = (-197.78,43.52,1063.84) end=(-266.13,71.73,1380.99)\n",
      "                                                        228  pdg:   22  E:  0.001953 p = (-0.000377, 0.000124, 0.001912)v = (-195.84,42.92,1054.59) end=(-312.89,54.75,1573.88)\n",
      "                                  130  pdg:   22  E:  0.006352 p = (-0.001294, 0.000004, 0.006219)v = (-198.88,42.96,1069.16) end=(-287.29,43.23,1494.06)\n",
      "                                  132  pdg:   22  E:  0.015965 p = (-0.003191, 0.000486, 0.015635)v = (-194.36,42.46,1047.57) end=(-196.10,42.72,1056.11)\n",
      "                                               | \n",
      "                                              57  pdg:   11  E:  0.008399 p = (-0.001271,-0.000977, 0.008229)v = (-199.71,41.18,1068.39) end=(-202.27,40.98,1071.98)\n",
      "                                             189  pdg:   11  E:  0.005581 p = (-0.000143, 0.001795, 0.005258)v = (-196.10,42.72,1056.11) end=(-196.34,43.39,1057.10)\n",
      "                                             196  pdg:  -11  E:  0.002495 p = (-0.001621,-0.000286, 0.001804)v = (-199.71,41.18,1068.39) end=(-199.93,41.14,1068.64)\n",
      "                                                          | \n",
      "                                                         13  pdg:   22  E:  0.001997 p = ( 0.001290, 0.000331,-0.001489)v = (-199.93,41.14,1068.64) end=(-95.41,67.92,948.00)\n",
      "                                                                     | \n",
      "                                                                    92  pdg:   11  E:  0.002261 p = ( 0.001407, 0.000225,-0.001679)v = (-95.41,67.92,948.00) end=(-93.69,68.46,947.24)\n",
      "                                  147  pdg:   22  E:  0.004453 p = (-0.001054,-0.000018, 0.004326)v = (-200.00,43.01,1074.14) end=(-1351.00,2500.00,2065.00)\n",
      "                                  200  pdg:   22  E:  0.002807 p = (-0.000592, 0.000118, 0.002741)v = (-193.16,42.25,1041.94) end=(-81.59,502.19,2500.00)\n",
      "            138  pdg:   22  E:  0.016481 p = (-0.003625, 0.000701, 0.016062)v = (-189.62,41.53,1026.15) end=(-194.25,42.43,1046.66)\n",
      "                         | \n",
      "                        37  pdg:   11  E:  0.001604 p = (-0.000556, 0.000086, 0.001412)v = (-194.25,42.43,1046.66) end=(-194.08,42.33,1046.81)\n",
      "                       202  pdg:  -11  E:  0.014877 p = (-0.003031, 0.000609, 0.014544)v = (-194.25,42.43,1046.66) end=(-193.67,42.33,1050.74)\n",
      "                                    | \n",
      "                                   80  pdg:   22  E:  0.001434 p = (-0.000472, 0.000484, 0.001265)v = (-193.67,42.33,1050.74) end=(-194.87,43.56,1053.95)\n",
      "                                               | \n",
      "                                               7  pdg:   11  E:  0.001610 p = (-0.000662, 0.000225, 0.001358)v = (-194.87,43.56,1053.95) end=(-194.97,43.59,1054.15)\n",
      "                                  122  pdg:   22  E:  0.004963 p = (-0.001643, 0.001415, 0.004465)v = (-193.74,42.44,1051.00) end=(-202.53,50.01,1074.88)\n",
      "                                               | \n",
      "                                              56  pdg:   11  E:  0.005138 p = (-0.001576, 0.001735, 0.004544)v = (-202.53,50.01,1074.88) end=(-202.85,49.16,1076.15)\n",
      "            143  pdg:   22  E:  0.016054 p = ( 0.002864,-0.001997, 0.015670)v = (-192.06,40.69,1043.41) end=(74.17,-144.97,2500.00)\n",
      "            151  pdg:   22  E:  0.058405 p = (-0.012947, 0.002602, 0.056892)v = (-191.04,41.80,1032.57) end=(-192.43,42.08,1038.67)\n",
      "                         | \n",
      "                       157  pdg:   11  E:  0.008903 p = (-0.002407, 0.000304, 0.008551)v = (-192.43,42.08,1038.67) end=(-195.02,42.30,1041.06)\n",
      "                       161  pdg:  -11  E:  0.049502 p = (-0.010533, 0.002296, 0.048311)v = (-192.43,42.08,1038.67) end=(-192.91,42.39,1040.97)\n",
      "                                    | \n",
      "                                   61  pdg:   22  E:  0.001221 p = (-0.000307, 0.000027, 0.001182)v = (-192.91,42.39,1040.97) end=(752.76,988.75,2500.00)\n",
      "                                   68  pdg:   22  E:  0.001591 p = (-0.001568, 0.000182, 0.000203)v = (-195.39,46.73,1048.61) end=(-1577.79,-827.46,2500.00)\n",
      "                                  166  pdg:   22  E:  0.007108 p = (-0.002092, 0.000160, 0.006791)v = (-193.24,42.27,1043.75) end=(-206.51,43.28,1086.82)\n",
      "                                               | \n",
      "                                             171  pdg:   11  E:  0.007033 p = (-0.001586, 0.000453, 0.006818)v = (-206.51,43.28,1086.82) end=(-309.98,-86.31,1334.51)\n",
      "                                  178  pdg:   22  E:  0.019849 p = (-0.003152,-0.002206, 0.019472)v = (-193.02,42.41,1041.51) end=(-275.88,-15.58,1553.39)\n",
      "                                  222  pdg:   22  E:  0.001311 p = (-0.000588, 0.000473, 0.001072)v = (-194.02,42.37,1046.20) end=(-86.25,135.50,1130.89)\n",
      "            156  pdg:   22  E:  0.662202 p = (-0.145127, 0.026638, 0.645555)v = (-186.98,41.02,1014.36) end=(-194.17,42.34,1046.33)\n",
      "                         | \n",
      "                       179  pdg:   11  E:  0.128693 p = (-0.028943, 0.004938, 0.125298)v = (-194.17,42.34,1046.33) end=(-195.08,42.89,1051.45)\n",
      "                                    | \n",
      "                                    6  pdg:   22  E:  0.053810 p = (-0.006422, 0.004804, 0.053209)v = (-195.08,42.89,1051.45) end=(1325.88,2500.00,2191.98)\n",
      "                                   34  pdg:   11  E:  0.016267 p = (-0.006795,-0.000886, 0.014744)v = (-194.24,42.36,1046.66) end=(-194.94,40.08,1051.83)\n",
      "                                               | \n",
      "                                             105  pdg:   22  E:  0.001603 p = ( 0.000504,-0.001208, 0.000926)v = (-194.94,40.08,1051.83) end=(-194.72,39.54,1052.25)\n",
      "                                                          | \n",
      "                                                        199  pdg:   11  E:  0.001856 p = ( 0.000577,-0.001214, 0.001173)v = (-194.72,39.54,1052.25) end=(-194.63,39.34,1052.44)\n",
      "                                             160  pdg:   22  E:  0.001236 p = (-0.000648,-0.000119, 0.001046)v = (-194.26,42.35,1046.70) end=(-200.15,41.27,1056.20)\n",
      "                                                          | \n",
      "                                                        131  pdg:   11  E:  0.001531 p = (-0.000766,-0.000203, 0.001206)v = (-200.15,41.27,1056.20) end=(-200.25,41.24,1056.36)\n",
      "                                   84  pdg:   22  E:  0.015733 p = (-0.002742, 0.001834, 0.015383)v = (-194.58,42.48,1048.27) end=(-267.86,91.50,1459.36)\n",
      "                                  184  pdg:   22  E:  0.004053 p = (-0.001655,-0.000182, 0.003695)v = (-195.75,42.85,1053.78) end=(-201.30,42.24,1066.17)\n",
      "                                               | \n",
      "                                             240  pdg:   11  E:  0.004323 p = (-0.001737,-0.000221, 0.003919)v = (-201.30,42.24,1066.17) end=(-201.41,42.04,1067.26)\n",
      "                                  206  pdg:   22  E:  0.010168 p = (-0.001752, 0.000715, 0.009990)v = (-194.55,42.46,1048.09) end=(-194.78,42.56,1049.43)\n",
      "                                               | \n",
      "                                             164  pdg:   11  E:  0.008716 p = (-0.000620,-0.000205, 0.008676)v = (-194.78,42.56,1049.43) end=(-195.15,44.32,1052.68)\n",
      "                       203  pdg:  -11  E:  0.533509 p = (-0.116183, 0.021699, 0.520252)v = (-194.17,42.34,1046.33) end=(-196.90,43.14,1059.29)\n",
      "                                    | \n",
      "                                   32  pdg:   22  E:  0.002210 p = (-0.000441, 0.000133, 0.002161)v = (-196.90,43.14,1059.29) end=(-278.02,65.55,1496.65)\n",
      "                                   40  pdg:   22  E:  0.002903 p = (-0.000633, 0.000111, 0.002831)v = (-194.17,42.34,1046.37) end=(-305.02,61.86,1542.13)\n",
      "                                   52  pdg:   22  E:  0.093166 p = (-0.009890,-0.006601, 0.092405)v = (-197.09,43.10,1060.71) end=(-197.26,42.98,1062.31)\n",
      "                                               | \n",
      "                                              42  pdg:  -11  E:  0.032074 p = (-0.003401,-0.002779, 0.031768)v = (-197.26,42.98,1062.31) end=(-61.21,-135.76,1154.29)\n",
      "                                             123  pdg:   11  E:  0.061092 p = (-0.006487,-0.003821, 0.060624)v = (-197.26,42.98,1062.31) end=(-197.54,42.96,1064.07)\n",
      "                                                          | \n",
      "                                                        125  pdg:   22  E:  0.003534 p = (-0.000321,-0.000521, 0.003480)v = (-197.54,42.96,1064.07) end=(-245.37,-34.65,1582.27)\n",
      "                                   55  pdg:   11  E:  0.032478 p = (-0.007737,-0.003832, 0.031305)v = (-194.48,42.41,1047.75) end=(-194.17,41.01,1055.18)\n",
      "                                               | \n",
      "                                              15  pdg:   22  E:  0.004860 p = ( 0.000386,-0.002006, 0.004410)v = (-194.17,41.01,1055.18) end=(-67.59,-616.34,2500.00)\n",
      "                                             197  pdg:   22  E:  0.001516 p = ( 0.000080,-0.000542, 0.001413)v = (-194.41,41.31,1054.06) end=(-112.76,-512.99,2500.00)\n",
      "                                   74  pdg:   22  E:  0.001371 p = (-0.000144,-0.000106, 0.001359)v = (-197.04,43.14,1060.16) end=(-2500.00,1206.78,2077.70)\n",
      "                                   93  pdg:   22  E:  0.043605 p = (-0.005649,-0.002652, 0.043156)v = (-198.15,42.58,1069.07) end=(-237.36,24.16,1368.70)\n",
      "                                  145  pdg:   22  E:  0.089512 p = (-0.017072, 0.006625, 0.087619)v = (-195.61,42.78,1053.14) end=(-196.31,43.05,1056.71)\n",
      "                                               | \n",
      "                                              51  pdg:   11  E:  0.020402 p = (-0.003933, 0.001568, 0.019951)v = (-196.31,43.05,1056.71) end=(-196.66,42.96,1058.44)\n",
      "                                                          | \n",
      "                                                        227  pdg:   22  E:  0.003063 p = (-0.000996, 0.000487, 0.002855)v = (-196.66,42.96,1058.44) end=(-204.57,48.01,1080.77)\n",
      "                                                                     | \n",
      "                                                                   201  pdg:   11  E:  0.003054 p = (-0.000672, 0.000870, 0.002803)v = (-204.57,48.01,1080.77) end=(-204.55,48.06,1081.03)\n",
      "                                              72  pdg:  -11  E:  0.069110 p = (-0.013137, 0.005057, 0.067659)v = (-196.31,43.05,1056.71) end=(-196.35,43.07,1056.94)\n",
      "                                                          | \n",
      "                                                        102  pdg:   22  E:  0.003357 p = (-0.000506, 0.000229, 0.003311)v = (-196.35,43.07,1056.94) end=(-259.82,43.11,1472.67)\n",
      "                                                        232  pdg:   22  E:  0.005184 p = (-0.000308, 0.000144, 0.005173)v = (-197.26,43.25,1063.94) end=(-226.73,56.02,1546.61)\n",
      "                                  186  pdg:   22  E:  0.036460 p = (-0.007028, 0.002886, 0.035660)v = (-195.65,42.79,1053.35) end=(-196.21,43.02,1056.18)\n",
      "                                               | \n",
      "                                              69  pdg:  -11  E:  0.028472 p = (-0.005578, 0.003141, 0.027738)v = (-196.21,43.02,1056.18) end=(-196.91,42.22,1060.84)\n",
      "                                                          | \n",
      "                                                        141  pdg:   22  E:  0.003687 p = ( 0.000550,-0.000927, 0.003526)v = (-196.91,42.22,1060.84) end=(-135.16,-61.88,1456.62)\n",
      "                                                        242  pdg:   22  E:  0.001279 p = ( 0.000254,-0.000366, 0.001199)v = (-196.84,42.03,1061.35) end=(-111.32,-81.40,1465.64)\n",
      "                                             235  pdg:   11  E:  0.007989 p = (-0.001434,-0.000257, 0.007838)v = (-196.21,43.02,1056.18) end=(-196.43,42.84,1056.80)\n",
      "                                                          | \n",
      "                                                        212  pdg:   22  E:  0.001072 p = (-0.000113,-0.000455, 0.000964)v = (-196.43,42.84,1056.80) end=(1604.95,-2500.00,2367.86)\n",
      "            169  pdg:   22  E:  0.016945 p = (-0.000849,-0.002876, 0.016677)v = (-192.05,41.11,1040.17) end=(-206.24,-29.58,1497.01)\n",
      "            185  pdg:   22  E:  0.198210 p = (-0.035226,-0.003270, 0.195028)v = (-191.60,41.88,1035.00) end=(-193.64,41.69,1046.34)\n",
      "                         | \n",
      "                        27  pdg:  -11  E:  0.145960 p = (-0.026099,-0.002447, 0.143586)v = (-193.64,41.69,1046.34) end=(-195.39,41.31,1056.29)\n",
      "                                    | \n",
      "                                    2  pdg:   22  E:  0.005130 p = (-0.000969,-0.000258, 0.005031)v = (-195.39,41.31,1056.29) end=(-473.54,-32.79,2500.00)\n",
      "                                    3  pdg:   22  E:  0.003649 p = (-0.000778,-0.000083, 0.003564)v = (-194.76,41.45,1053.94) end=(-197.75,41.13,1067.62)\n",
      "                                               | \n",
      "                                              31  pdg:   11  E:  0.002139 p = (-0.001061,-0.000676, 0.001653)v = (-197.75,41.13,1067.62) end=(-197.95,41.01,1067.92)\n",
      "                                   79  pdg:   22  E:  0.013179 p = (-0.002404,-0.001472, 0.012874)v = (-196.31,41.11,1060.91) end=(-465.01,-123.45,2500.00)\n",
      "                                   83  pdg:   22  E:  0.002401 p = (-0.000402,-0.000116, 0.002364)v = (-193.70,41.69,1046.63) end=(-195.34,41.21,1056.33)\n",
      "                                               | \n",
      "                                              17  pdg:  -11  E:  0.001314 p = (-0.000800,-0.000253, 0.000873)v = (-195.34,41.21,1056.33) end=(-195.44,41.18,1056.43)\n",
      "                                                          | \n",
      "                                                        229  pdg:   22  E:  0.001062 p = (-0.000950, 0.000474, 0.000020)v = (-195.44,41.18,1056.43) end=(-44.59,69.24,1450.32)\n",
      "                                   99  pdg:   22  E:  0.016257 p = (-0.002233,-0.000730, 0.016086)v = (-194.42,41.55,1051.81) end=(-588.28,1387.14,2500.00)\n",
      "                                  104  pdg:   22  E:  0.002223 p = (-0.000308,-0.000089, 0.002200)v = (-194.37,41.56,1051.48) end=(-253.84,24.34,1476.65)\n",
      "                                  111  pdg:   22  E:  0.036637 p = (-0.004879,-0.001041, 0.036296)v = (-194.02,41.59,1048.86) end=(-195.57,41.26,1060.38)\n",
      "                                               | \n",
      "                                              62  pdg:  -11  E:  0.009180 p = (-0.000536,-0.000144, 0.009149)v = (-195.57,41.26,1060.38) end=(-187.94,25.70,1003.91)\n",
      "                                             144  pdg:   11  E:  0.027457 p = (-0.004337,-0.000895, 0.027092)v = (-195.57,41.26,1060.38) end=(-195.65,40.83,1062.93)\n",
      "                                                          | \n",
      "                                                        135  pdg:   22  E:  0.022083 p = (-0.004101,-0.008004, 0.020169)v = (-195.65,40.83,1062.93) end=(-196.00,40.15,1064.65)\n",
      "                                                                     | \n",
      "                                                                   146  pdg:  -11  E:  0.013352 p = (-0.001630,-0.004505, 0.012453)v = (-196.00,40.15,1064.65) end=(251.46,-169.38,1346.88)\n",
      "                                                                                | \n",
      "                                                                              217  pdg:   22  E:  0.003568 p = ( 0.001131, 0.002095,-0.002658)v = (251.46,-169.38,1346.88) end=(1692.51,2500.00,-2040.43)\n",
      "                                                                   153  pdg:   11  E:  0.008731 p = (-0.002449,-0.003459, 0.007616)v = (-196.00,40.15,1064.65) end=(-197.32,38.42,1062.28)\n",
      "                                  165  pdg:   22  E:  0.007119 p = (-0.001260,-0.000370, 0.006997)v = (-194.71,41.46,1053.66) end=(-197.41,40.67,1068.65)\n",
      "                                               | \n",
      "                                             191  pdg:   11  E:  0.001581 p = (-0.000100,-0.000097, 0.001489)v = (-197.41,40.67,1068.65) end=(-197.13,40.57,1068.86)\n",
      "                                             239  pdg:  -11  E:  0.005539 p = (-0.001148,-0.000266, 0.005388)v = (-197.41,40.67,1068.65) end=(85.67,107.94,1371.36)\n",
      "                                  167  pdg:   22  E:  0.012649 p = (-0.004945,-0.000323, 0.011638)v = (-197.45,40.47,1064.02) end=(-223.84,38.75,1126.11)\n",
      "                                               | \n",
      "                                               1  pdg:   11  E:  0.012211 p = (-0.004473, 0.000446, 0.011342)v = (-223.84,38.75,1126.11) end=(-150.07,162.75,1289.16)\n",
      "                                  187  pdg:   22  E:  0.001397 p = (-0.000168,-0.000013, 0.001387)v = (-194.32,41.56,1051.04) end=(-2210.02,-67.58,2500.00)\n",
      "                                  216  pdg:   22  E:  0.003639 p = (-0.000652,-0.000382, 0.003560)v = (-195.44,41.30,1056.57) end=(-459.63,-113.74,2500.00)\n",
      "                                  230  pdg:   22  E:  0.003115 p = (-0.000609,-0.000368, 0.003032)v = (-196.21,41.16,1060.30) end=(-196.49,41.00,1061.67)\n",
      "                                               | \n",
      "                                             116  pdg:   11  E:  0.002660 p = (-0.000726, 0.000411, 0.002474)v = (-196.49,41.00,1061.67) end=(-196.64,41.08,1062.23)\n",
      "                                  238  pdg:   22  E:  0.002794 p = (-0.000371,-0.000020, 0.002769)v = (-194.19,41.55,1050.21) end=(-249.59,38.63,1463.25)\n",
      "                       121  pdg:   11  E:  0.052250 p = (-0.009126,-0.000823, 0.051438)v = (-193.64,41.69,1046.34) end=(-194.41,41.92,1050.85)\n",
      "                                    | \n",
      "                                   20  pdg:   22  E:  0.007465 p = (-0.001724, 0.001209, 0.007162)v = (-194.41,41.92,1050.85) end=(-842.40,747.67,2500.00)\n",
      "                                   38  pdg:   22  E:  0.001375 p = (-0.000291, 0.000112, 0.001339)v = (-194.21,41.79,1048.67) end=(-272.51,66.39,1491.36)\n",
      "                                  129  pdg:   22  E:  0.003934 p = (-0.002236, 0.000670, 0.003166)v = (-196.40,41.83,1061.15) end=(-225.36,50.50,1102.15)\n",
      "                                               | \n",
      "                                              77  pdg:  -11  E:  0.001664 p = (-0.001204, 0.000270, 0.000992)v = (-225.36,50.50,1102.15) end=(-225.55,50.55,1102.31)\n",
      "                                              81  pdg:   11  E:  0.002270 p = (-0.000889, 0.000359, 0.001993)v = (-225.36,50.50,1102.15) end=(-225.53,50.57,1102.53)\n",
      "                                  208  pdg:   22  E:  0.002324 p = (-0.000053, 0.000274, 0.002308)v = (-195.09,42.29,1053.79) end=(-172.27,165.17,1266.44)\n",
      "                                  219  pdg:   22  E:  0.001235 p = (-0.000226, 0.000366, 0.001157)v = (-197.94,42.20,1062.24) end=(-2297.10,2500.00,-2126.72)\n",
      "                                  234  pdg:   22  E:  0.008674 p = (-0.001711,-0.000059, 0.008504)v = (-193.73,41.67,1046.88) end=(-283.18,35.14,1488.41)\n",
      "            194  pdg:   22  E:  0.006884 p = (-0.001495, 0.000286, 0.006713)v = (-188.98,41.41,1023.27) end=(-225.48,46.40,1130.24)\n",
      "                         | \n",
      "                        91  pdg:   11  E:  0.002265 p = (-0.000726,-0.000221, 0.002072)v = (-225.48,46.40,1130.24) end=(-225.37,46.83,1130.84)\n",
      "                       120  pdg:  -11  E:  0.003833 p = (-0.001362, 0.000494, 0.003512)v = (-225.48,46.40,1130.24) end=(-225.65,46.74,1131.51)\n",
      "            195  pdg:   22  E:  0.047640 p = (-0.008609,-0.000956, 0.046846)v = (-191.63,41.88,1035.19) end=(-194.33,41.58,1049.90)\n",
      "                         | \n",
      "                        90  pdg:  -11  E:  0.022864 p = (-0.004943,-0.000694, 0.022306)v = (-194.33,41.58,1049.90) end=(-194.35,41.58,1049.99)\n",
      "                                    | \n",
      "                                   54  pdg:   22  E:  0.013386 p = (-0.002346,-0.000349, 0.013174)v = (-194.35,41.58,1049.99) end=(-275.62,29.48,1506.32)\n",
      "                       170  pdg:   11  E:  0.024776 p = (-0.003658,-0.000261, 0.024498)v = (-194.33,41.58,1049.90) end=(-194.36,41.57,1050.60)\n",
      "                                    | \n",
      "                                   66  pdg:   22  E:  0.009168 p = (-0.000051, 0.002969, 0.008674)v = (-194.36,41.57,1050.60) end=(-202.83,537.64,2500.00)\n",
      "            207  pdg:   22  E:  0.015720 p = ( 0.000368,-0.002361, 0.015537)v = (-190.66,39.17,1050.16) end=(-188.10,-27.91,1477.57)\n",
      "            211  pdg:   22  E:  0.005018 p = ( 0.001735,-0.000906, 0.004621)v = (-190.53,38.37,1054.23) end=(-13.02,-48.32,1539.21)\n",
      "            214  pdg:   22  E:  0.001654 p = (-0.000365, 0.000070, 0.001612)v = (-189.71,41.55,1026.54) end=(-2500.00,1117.68,2243.93)\n",
      "            233  pdg:   22  E:  0.022655 p = (-0.004934, 0.000968, 0.022090)v = (-189.14,41.44,1024.02) end=(-192.92,42.18,1040.93)\n",
      "                         | \n",
      "                       213  pdg:   11  E:  0.007899 p = (-0.002649, 0.002312, 0.007055)v = (-192.92,42.18,1040.93) end=(-193.27,44.09,1043.44)\n",
      "primary_index = 63\n",
      "Status: 83886081 = 000000101000000000000000000000001 Decay in Cal? 1\n",
      "-------------\n",
      "Primary particle into scoring plane, index = 63\n",
      "Primary hits: (x,y)_ave = (    0.0,     0.0) Pz sum =  0.0000\n",
      "Secondary particles:\n",
      " 0: 32 [ 76]  22 ( -283.0,   50.2) pz=0.01113\n",
      " 1: 33 [118]  11 ( -318.1,   84.3) pz=0.01253\n",
      " 2: 37 [  6]  22 ( -242.3,   78.2) pz=0.05321\n",
      " 3: 42 [ 42] -11 ( -226.0,   23.6) pz=0.01137\n",
      " 4: 45 [ 65]  22 ( -281.6,   42.8) pz=0.03900\n",
      " 5: 65 [223]  11 ( -284.3,   54.6) pz=0.10222\n",
      " 6: 70 [ 25] -11 ( -261.8,   88.9) pz=0.02098\n",
      " 7: 82 [169]  22 ( -212.5,  -28.4) pz=0.01668\n",
      " 8: 87 [188]  22 ( -208.6,   70.4) pz=0.01112\n",
      " 9: 91 [218]  22 ( -283.7,   22.7) pz=0.01103\n",
      "10: 95 [168]  22 ( -277.1,   68.7) pz=0.32045\n",
      "11: 96 [210]  22 ( -294.7,   65.9) pz=0.07829\n",
      "12:112 [ 53]  22 ( -299.6,  -68.7) pz=0.01877\n",
      "13:114 [207]  22 ( -181.3,  -20.5) pz=0.01554\n",
      "14:119 [204]  11 ( -310.7,   23.2) pz=0.06153\n",
      "15:124 [ 54]  22 ( -264.3,   31.2) pz=0.01317\n",
      "16:125 [  0]  22 ( -276.7,   69.7) pz=0.05737\n",
      "17:130 [108] -11 ( -111.4,  -46.0) pz=0.01538\n",
      "18:137 [  9]  22 ( -277.6,   47.5) pz=0.02396\n",
      "19:141 [203] -11 ( -232.5,   32.2) pz=0.14653\n",
      "20:149 [123]  11 ( -254.2,   42.8) pz=0.03234\n",
      "21:155 [ 16]  22 ( -139.3,  -62.4) pz=0.01571\n",
      "22:156 [115]  22 ( -279.8,   71.0) pz=0.02658\n",
      "23:164 [ 98] -11 ( -232.4,   65.4) pz=0.11247\n",
      "24:173 [ 84]  22 ( -264.9,   89.5) pz=0.01538\n",
      "25:174 [203] -11 ( -232.0,   32.1) pz=0.02089\n",
      "26:179 [155]  22 ( -322.3,   48.7) pz=0.01188\n",
      "Pz sum = 1.2755217803642154\n",
      "Score Clusters:\n",
      "i:  0 N=  1 (-18.34,  0.58) ( -226.0,   23.6) pz =  0.0114\n",
      "i:  1 N= 18 (-20.91,  2.98) ( -265.9,   59.7) pz =  1.0984\n",
      "i:  2 N=  1 (-17.21,  3.69) ( -208.6,   70.4) pz =  0.0111\n",
      "i:  3 N=  2 (-22.97,  0.54) ( -306.6,   23.1) pz =  0.0726\n",
      "i:  4 N=  1 (-23.00, -3.64) ( -299.6,  -68.7) pz =  0.0188\n",
      "i:  5 N=  2 (-16.49, -0.70) ( -197.5,  -24.6) pz =  0.0322\n",
      "i:  6 N=  2 (-11.76, -2.68) ( -125.5,  -54.3) pz =  0.0311\n",
      "Cluster: (-23, 4) (-276.27, 67.82) (-267.63,  67.68) E= 0.3872 GeV\n",
      "Cluster: (-20, 1) (-232.20, 28.55) (-225.82,  29.34) E= 0.1405 GeV\n",
      "Cluster: (-23, 2) (-270.27, 49.16) (-263.35,  49.48) E= 0.1713 GeV\n",
      "Cluster: (-20, 4) (-236.99, 75.94) (-231.22,  75.73) E= 0.1227 GeV\n"
     ]
    },
    {
     "data": {
      "text/plain": "<IPython.core.display.HTML object>",
      "text/html": "\n\n<div id=\"root_plot_1681950975810\"\n     style=\"width: 896px; height: 572px\">\n</div>\n<script>\n\nfunction display_root_plot_1681950975810(Core) {\n   let obj = Core.parse({\"_typename\":\"TCanvas\",\"fUniqueID\":0,\"fBits\":3342344,\"fLineColor\":1,\"fLineStyle\":1,\"fLineWidth\":1,\"fFillColor\":0,\"fFillStyle\":1001,\"fLeftMargin\":0.1,\"fRightMargin\":0.1,\"fBottomMargin\":0.1,\"fTopMargin\":0.1,\"fXfile\":2,\"fYfile\":2,\"fAfile\":1,\"fXstat\":0.99,\"fYstat\":0.99,\"fAstat\":2,\"fFrameFillColor\":0,\"fFrameLineColor\":1,\"fFrameFillStyle\":1001,\"fFrameLineStyle\":1,\"fFrameLineWidth\":1,\"fFrameBorderSize\":1,\"fFrameBorderMode\":0,\"fX1\":-31.7500004656613,\"fY1\":-8.12500012107194,\"fX2\":30.7500004656613,\"fY2\":8.12500012107194,\"fXtoAbsPixelk\":455.168049893188,\"fXtoPixelk\":455.168049893188,\"fXtoPixel\":14.3359997863769,\"fYtoAbsPixelk\":286.00005,\"fYtoPixelk\":286.00005,\"fYtoPixel\":-35.1999994754791,\"fUtoAbsPixelk\":5e-5,\"fUtoPixelk\":5e-5,\"fUtoPixel\":896,\"fVtoAbsPixelk\":572.00005,\"fVtoPixelk\":572,\"fVtoPixel\":-572,\"fAbsPixeltoXk\":-31.7500004656613,\"fPixeltoXk\":-31.7500004656613,\"fPixeltoX\":0.0697544653251369,\"fAbsPixeltoYk\":8.12500012107194,\"fPixeltoYk\":-8.12500012107194,\"fPixeltoY\":-0.0284090913324194,\"fXlowNDC\":0,\"fYlowNDC\":0,\"fXUpNDC\":1,\"fYUpNDC\":1,\"fWNDC\":1,\"fHNDC\":1,\"fAbsXlowNDC\":0,\"fAbsYlowNDC\":0,\"fAbsWNDC\":1,\"fAbsHNDC\":1,\"fUxmin\":-25.5,\"fUymin\":-6.5,\"fUxmax\":24.5,\"fUymax\":6.5,\"fTheta\":30,\"fPhi\":30,\"fAspectRatio\":0,\"fNumber\":0,\"fTickx\":0,\"fTicky\":0,\"fLogx\":0,\"fLogy\":0,\"fLogz\":0,\"fPadPaint\":0,\"fCrosshair\":0,\"fCrosshairPos\":0,\"fBorderSize\":2,\"fBorderMode\":0,\"fModified\":false,\"fGridx\":false,\"fGridy\":false,\"fAbsCoord\":false,\"fEditable\":true,\"fFixedAspectRatio\":false,\"fPrimitives\":{\"_typename\":\"TList\",\"name\":\"TList\",\"arr\":[{\"_typename\":\"TFrame\",\"fUniqueID\":0,\"fBits\":8,\"fLineColor\":1,\"fLineStyle\":1,\"fLineWidth\":1,\"fFillColor\":0,\"fFillStyle\":1001,\"fX1\":-25.5,\"fY1\":-6.5,\"fX2\":24.5,\"fY2\":6.5,\"fBorderSize\":1,\"fBorderMode\":0},{\"_typename\":\"TH2D\",\"fUniqueID\":0,\"fBits\":520,\"fName\":\"hist_ecal\",\"fTitle\":\"Ecal Hits\",\"fLineColor\":602,\"fLineStyle\":1,\"fLineWidth\":1,\"fFillColor\":0,\"fFillStyle\":1001,\"fMarkerColor\":1,\"fMarkerStyle\":1,\"fMarkerSize\":1,\"fNcells\":780,\"fXaxis\":{\"_typename\":\"TAxis\",\"fUniqueID\":0,\"fBits\":0,\"fName\":\"xaxis\",\"fTitle\":\"\",\"fNdivisions\":510,\"fAxisColor\":1,\"fLabelColor\":1,\"fLabelFont\":42,\"fLabelOffset\":0.005,\"fLabelSize\":0.035,\"fTickLength\":0.03,\"fTitleOffset\":1,\"fTitleSize\":0.035,\"fTitleColor\":1,\"fTitleFont\":42,\"fNbins\":50,\"fXmin\":-25.5,\"fXmax\":24.5,\"fXbins\":[],\"fFirst\":0,\"fLast\":0,\"fBits2\":0,\"fTimeDisplay\":false,\"fTimeFormat\":\"\",\"fLabels\":null,\"fModLabs\":null},\"fYaxis\":{\"_typename\":\"TAxis\",\"fUniqueID\":0,\"fBits\":0,\"fName\":\"yaxis\",\"fTitle\":\"\",\"fNdivisions\":510,\"fAxisColor\":1,\"fLabelColor\":1,\"fLabelFont\":42,\"fLabelOffset\":0.005,\"fLabelSize\":0.035,\"fTickLength\":0.03,\"fTitleOffset\":0,\"fTitleSize\":0.035,\"fTitleColor\":1,\"fTitleFont\":42,\"fNbins\":13,\"fXmin\":-6.5,\"fXmax\":6.5,\"fXbins\":[],\"fFirst\":0,\"fLast\":0,\"fBits2\":0,\"fTimeDisplay\":false,\"fTimeFormat\":\"\",\"fLabels\":null,\"fModLabs\":null},\"fZaxis\":{\"_typename\":\"TAxis\",\"fUniqueID\":0,\"fBits\":0,\"fName\":\"zaxis\",\"fTitle\":\"\",\"fNdivisions\":510,\"fAxisColor\":1,\"fLabelColor\":1,\"fLabelFont\":42,\"fLabelOffset\":0.005,\"fLabelSize\":0.035,\"fTickLength\":0.03,\"fTitleOffset\":1,\"fTitleSize\":0.035,\"fTitleColor\":1,\"fTitleFont\":42,\"fNbins\":1,\"fXmin\":0,\"fXmax\":1,\"fXbins\":[],\"fFirst\":0,\"fLast\":0,\"fBits2\":0,\"fTimeDisplay\":false,\"fTimeFormat\":\"\",\"fLabels\":null,\"fModLabs\":null},\"fBarOffset\":0,\"fBarWidth\":1000,\"fEntries\":9,\"fTsumw\":0.821652669459581,\"fTsumw2\":0.122280783732049,\"fTsumwx\":-18.0633470639586,\"fTsumwx2\":398.552481018007,\"fMaximum\":1.1,\"fMinimum\":-1111,\"fNormFactor\":0,\"fContour\":{\"$arr\":\"Float64\",\"len\":20,\"p\":1,\"v\":[0.055,0.11,0.165,0.22,0.275,0.33,0.385,0.44,0.495,0.55,0.605,0.66,0.715,0.77,0.825,0.88,0.935,0.99,1.045]},\"fSumw2\":{\"$arr\":\"Float64\",\"len\":780,\"p\":422,\"v\":0.0197521837566106,\"p1\":471,\"v1\":[0.00876795837587796,0.00198180302590391],\"p2\":523,\"v2\":[0.00595338173292875,9.49326711774612e-4],\"p3\":575,\"v3\":[0.0737661110707819,0,0,0.0085347269382488],\"p4\":627,\"v4\":[0.00165848649992563,0,9.16805619996644e-4]},\"fOption\":\"\",\"fFunctions\":{\"_typename\":\"TList\",\"name\":\"TList\",\"arr\":[{\"_typename\":\"TPaletteAxis\",\"fUniqueID\":0,\"fBits\":0,\"fLineColor\":1,\"fLineStyle\":1,\"fLineWidth\":1,\"fFillColor\":1178,\"fFillStyle\":1001,\"fX1\":24.8125000046566,\"fY1\":-6.5,\"fX2\":27.6250000465661,\"fY2\":6.5,\"fX1NDC\":0.904999994039535,\"fY1NDC\":0.100000005960465,\"fX2NDC\":0.949999994039535,\"fY2NDC\":0.899999994039535,\"fBorderSize\":4,\"fInit\":1,\"fShadowColor\":1,\"fCornerRadius\":0,\"fOption\":\"br\",\"fName\":\"palette\",\"fAxis\":{\"_typename\":\"TGaxis\",\"fUniqueID\":0,\"fBits\":0,\"fLineColor\":1,\"fLineStyle\":1,\"fLineWidth\":1,\"fX1\":0,\"fY1\":0,\"fX2\":0,\"fY2\":0,\"fTextAngle\":0,\"fTextSize\":0.04,\"fTextAlign\":11,\"fTextColor\":1,\"fTextFont\":42,\"fWmin\":0,\"fWmax\":0,\"fGridLength\":0,\"fTickSize\":0.03,\"fLabelOffset\":0.005,\"fLabelSize\":0.035,\"fTitleOffset\":1,\"fTitleSize\":0.035,\"fNdiv\":0,\"fLabelColor\":1,\"fLabelFont\":42,\"fNModLabs\":0,\"fChopt\":\"\",\"fName\":\"\",\"fTitle\":\"\",\"fTimeFormat\":\"\",\"fFunctionName\":\"\",\"fModLabs\":null}}],\"opt\":[\"br\"]},\"fBufferSize\":0,\"fBuffer\":[],\"fBinStatErrOpt\":0,\"fStatOverflows\":2,\"fScalefactor\":1,\"fTsumwy\":2.55170765519142,\"fTsumwy2\":9.2636926099658,\"fTsumwxy\":-56.674789339304,\"fArray\":{\"$arr\":\"Float64\",\"len\":780,\"p\":422,\"v\":0.140542462468147,\"p1\":471,\"v1\":[0.0936373770236969,0.0445174463093281],\"p2\":523,\"v2\":[0.077158160507679,0.03081114590168],\"p3\":575,\"v3\":[0.271599173545837,0,0,0.092383585870266],\"p4\":627,\"v4\":[0.0407245196402073,0,0.0302787981927395]}},{\"_typename\":\"TH2F\",\"fUniqueID\":0,\"fBits\":8,\"fName\":\"\",\"fTitle\":\"\",\"fLineColor\":602,\"fLineStyle\":1,\"fLineWidth\":1,\"fFillColor\":0,\"fFillStyle\":1001,\"fMarkerColor\":1,\"fMarkerStyle\":1,\"fMarkerSize\":1,\"fNcells\":765,\"fXaxis\":{\"_typename\":\"TAxis\",\"fUniqueID\":0,\"fBits\":0,\"fName\":\"xaxis\",\"fTitle\":\"x crystal index\",\"fNdivisions\":510,\"fAxisColor\":1,\"fLabelColor\":1,\"fLabelFont\":42,\"fLabelOffset\":0.005,\"fLabelSize\":0.035,\"fTickLength\":0.03,\"fTitleOffset\":1,\"fTitleSize\":0.035,\"fTitleColor\":1,\"fTitleFont\":42,\"fNbins\":49,\"fXmin\":-24.5,\"fXmax\":24.5,\"fXbins\":[],\"fFirst\":0,\"fLast\":0,\"fBits2\":0,\"fTimeDisplay\":false,\"fTimeFormat\":\"\",\"fLabels\":null,\"fModLabs\":null},\"fYaxis\":{\"_typename\":\"TAxis\",\"fUniqueID\":0,\"fBits\":0,\"fName\":\"yaxis\",\"fTitle\":\"y crystal index\",\"fNdivisions\":510,\"fAxisColor\":1,\"fLabelColor\":1,\"fLabelFont\":42,\"fLabelOffset\":0.005,\"fLabelSize\":0.035,\"fTickLength\":0.03,\"fTitleOffset\":0,\"fTitleSize\":0.035,\"fTitleColor\":1,\"fTitleFont\":42,\"fNbins\":13,\"fXmin\":-6.5,\"fXmax\":6.5,\"fXbins\":[],\"fFirst\":0,\"fLast\":0,\"fBits2\":0,\"fTimeDisplay\":false,\"fTimeFormat\":\"\",\"fLabels\":null,\"fModLabs\":null},\"fZaxis\":{\"_typename\":\"TAxis\",\"fUniqueID\":0,\"fBits\":0,\"fName\":\"zaxis\",\"fTitle\":\"\",\"fNdivisions\":510,\"fAxisColor\":1,\"fLabelColor\":1,\"fLabelFont\":42,\"fLabelOffset\":0.005,\"fLabelSize\":0.035,\"fTickLength\":0.03,\"fTitleOffset\":1,\"fTitleSize\":0.035,\"fTitleColor\":1,\"fTitleFont\":42,\"fNbins\":1,\"fXmin\":0,\"fXmax\":1,\"fXbins\":[],\"fFirst\":0,\"fLast\":0,\"fBits2\":0,\"fTimeDisplay\":false,\"fTimeFormat\":\"\",\"fLabels\":null,\"fModLabs\":null},\"fBarOffset\":0,\"fBarWidth\":1000,\"fEntries\":3978,\"fTsumw\":534.820011591911,\"fTsumw2\":2973.55497760193,\"fTsumwx\":130.680002832413,\"fTsumwx2\":103711.522247887,\"fMaximum\":-1111,\"fMinimum\":-1111,\"fNormFactor\":0,\"fContour\":[],\"fSumw2\":{\"$arr\":\"Float64\",\"len\":765,\"p\":104,\"v\":5.55991731349224,\"n\":23,\"p1\":128,\"v1\":5.55991731349224,\"n1\":23,\"p2\":155,\"v2\":5.55991731349224,\"n2\":23,\"p3\":179,\"v3\":5.55991731349224,\"n3\":23,\"p4\":206,\"v4\":5.55991731349224,\"n4\":23,\"p5\":230,\"v5\":5.55991731349224,\"n5\":23,\"p6\":257,\"v6\":5.55991731349224,\"n6\":23,\"p7\":281,\"v7\":5.55991731349224,\"n7\":23,\"p8\":308,\"v8\":5.55991731349224,\"n8\":13,\"p9\":330,\"v9\":[5.55991731349224,0],\"v10\":5.55991731349224,\"n10\":23,\"p11\":410,\"v11\":5.55991731349224,\"n11\":13,\"p12\":432,\"v12\":[5.55991731349224,0],\"v13\":5.55991731349224,\"n13\":23,\"p14\":461,\"v14\":5.55991731349224,\"n14\":23,\"p15\":485,\"v15\":5.55991731349224,\"n15\":23,\"p16\":512,\"v16\":5.55991731349224,\"n16\":23,\"p17\":536,\"v17\":5.55991731349224,\"n17\":23,\"p18\":563,\"v18\":5.55991731349224,\"n18\":23,\"p19\":587,\"v19\":5.55991731349224,\"n19\":23,\"p20\":614,\"v20\":5.55991731349224,\"n20\":23,\"p21\":638,\"v21\":5.55991731349224,\"n21\":23},\"fOption\":\"\",\"fFunctions\":{\"_typename\":\"TList\",\"name\":\"TList\",\"arr\":[],\"opt\":[]},\"fBufferSize\":0,\"fBuffer\":[],\"fBinStatErrOpt\":0,\"fStatOverflows\":2,\"fScalefactor\":1,\"fTsumwy\":0,\"fTsumwy2\":6100.82013223171,\"fTsumwxy\":0,\"fArray\":{\"$arr\":\"Float32\",\"len\":765,\"p\":104,\"v\":1.1,\"n\":23,\"p1\":128,\"v1\":1.1,\"n1\":23,\"p2\":155,\"v2\":1.1,\"n2\":23,\"p3\":179,\"v3\":1.1,\"n3\":23,\"p4\":206,\"v4\":1.1,\"n4\":23,\"p5\":230,\"v5\":1.1,\"n5\":23,\"p6\":257,\"v6\":1.1,\"n6\":23,\"p7\":281,\"v7\":1.1,\"n7\":23,\"p8\":308,\"v8\":1.1,\"n8\":13,\"p9\":330,\"v9\":[1.1,0],\"v10\":1.1,\"n10\":23,\"p11\":410,\"v11\":1.1,\"n11\":13,\"p12\":432,\"v12\":[1.1,0],\"v13\":1.1,\"n13\":23,\"p14\":461,\"v14\":1.1,\"n14\":23,\"p15\":485,\"v15\":1.1,\"n15\":23,\"p16\":512,\"v16\":1.1,\"n16\":23,\"p17\":536,\"v17\":1.1,\"n17\":23,\"p18\":563,\"v18\":1.1,\"n18\":23,\"p19\":587,\"v19\":1.1,\"n19\":23,\"p20\":614,\"v20\":1.1,\"n20\":23,\"p21\":638,\"v21\":1.1,\"n21\":23}},{\"_typename\":\"TGraph\",\"fUniqueID\":0,\"fBits\":1032,\"fName\":\"Graph\",\"fTitle\":\"Graph\",\"fLineColor\":1,\"fLineStyle\":1,\"fLineWidth\":1,\"fFillColor\":0,\"fFillStyle\":1000,\"fMarkerColor\":802,\"fMarkerStyle\":20,\"fMarkerSize\":1.1,\"fNpoints\":7,\"fX\":{\"$arr\":\"Float64\",\"len\":7,\"v\":[-18.3412658239539,-20.9120628146558,-17.2135223893287,-22.9735910359266,-22.9972307054882,-16.4915031421315,-11.7555502827532]},\"fY\":{\"$arr\":\"Float64\",\"len\":7,\"v\":[0.576410566254129,2.98180880496095,3.69196619815337,0.544401117826769,-3.64110233406755,-0.700921707477103,-2.68002389563183]},\"fFunctions\":{\"_typename\":\"TList\",\"name\":\"TList\",\"arr\":[],\"opt\":[]},\"fHistogram\":{\"_typename\":\"TH1F\",\"fUniqueID\":0,\"fBits\":512,\"fName\":\"Graph\",\"fTitle\":\"Graph\",\"fLineColor\":602,\"fLineStyle\":1,\"fLineWidth\":1,\"fFillColor\":0,\"fFillStyle\":1001,\"fMarkerColor\":1,\"fMarkerStyle\":1,\"fMarkerSize\":1,\"fNcells\":102,\"fXaxis\":{\"_typename\":\"TAxis\",\"fUniqueID\":0,\"fBits\":0,\"fName\":\"xaxis\",\"fTitle\":\"\",\"fNdivisions\":510,\"fAxisColor\":1,\"fLabelColor\":1,\"fLabelFont\":42,\"fLabelOffset\":0.005,\"fLabelSize\":0.035,\"fTickLength\":0.03,\"fTitleOffset\":1,\"fTitleSize\":0.035,\"fTitleColor\":1,\"fTitleFont\":42,\"fNbins\":100,\"fXmin\":-24.1213987477617,\"fXmax\":-10.6313822404797,\"fXbins\":[],\"fFirst\":0,\"fLast\":0,\"fBits2\":0,\"fTimeDisplay\":false,\"fTimeFormat\":\"\",\"fLabels\":null,\"fModLabs\":null},\"fYaxis\":{\"_typename\":\"TAxis\",\"fUniqueID\":0,\"fBits\":0,\"fName\":\"yaxis\",\"fTitle\":\"\",\"fNdivisions\":510,\"fAxisColor\":1,\"fLabelColor\":1,\"fLabelFont\":42,\"fLabelOffset\":0.005,\"fLabelSize\":0.035,\"fTickLength\":0.03,\"fTitleOffset\":0,\"fTitleSize\":0.035,\"fTitleColor\":1,\"fTitleFont\":42,\"fNbins\":1,\"fXmin\":-4.37440918728964,\"fXmax\":4.42527305137547,\"fXbins\":[],\"fFirst\":0,\"fLast\":0,\"fBits2\":0,\"fTimeDisplay\":false,\"fTimeFormat\":\"\",\"fLabels\":null,\"fModLabs\":null},\"fZaxis\":{\"_typename\":\"TAxis\",\"fUniqueID\":0,\"fBits\":0,\"fName\":\"zaxis\",\"fTitle\":\"\",\"fNdivisions\":510,\"fAxisColor\":1,\"fLabelColor\":1,\"fLabelFont\":42,\"fLabelOffset\":0.005,\"fLabelSize\":0.035,\"fTickLength\":0.03,\"fTitleOffset\":1,\"fTitleSize\":0.035,\"fTitleColor\":1,\"fTitleFont\":42,\"fNbins\":1,\"fXmin\":0,\"fXmax\":1,\"fXbins\":[],\"fFirst\":0,\"fLast\":0,\"fBits2\":0,\"fTimeDisplay\":false,\"fTimeFormat\":\"\",\"fLabels\":null,\"fModLabs\":null},\"fBarOffset\":0,\"fBarWidth\":1000,\"fEntries\":0,\"fTsumw\":0,\"fTsumw2\":0,\"fTsumwx\":0,\"fTsumwx2\":0,\"fMaximum\":4.42527305137547,\"fMinimum\":-4.37440918728964,\"fNormFactor\":0,\"fContour\":[],\"fSumw2\":[],\"fOption\":\"\",\"fFunctions\":{\"_typename\":\"TList\",\"name\":\"TList\",\"arr\":[],\"opt\":[]},\"fBufferSize\":0,\"fBuffer\":[],\"fBinStatErrOpt\":0,\"fStatOverflows\":2,\"fArray\":{\"$arr\":\"Float32\",\"len\":102}},\"fMinimum\":-1111,\"fMaximum\":-1111},{\"_typename\":\"TGraph\",\"fUniqueID\":0,\"fBits\":1032,\"fName\":\"Graph\",\"fTitle\":\"Graph\",\"fLineColor\":1,\"fLineStyle\":1,\"fLineWidth\":1,\"fFillColor\":0,\"fFillStyle\":1000,\"fMarkerColor\":800,\"fMarkerStyle\":20,\"fMarkerSize\":0.5,\"fNpoints\":27,\"fX\":{\"$arr\":\"Float64\",\"len\":27,\"v\":[-22.0030500490067,-22.9352165788322,-19.3986201857354,-18.3412658239539,-21.9155039234883,-22.0847190718736,-20.650117755072,-17.4710823774581,-17.2135223893287,-22.0493141542893,-21.6275401988954,-22.7420586032372,-22.9972307054882,-15.4358633328064,-22.9598578016902,-20.811437652471,-21.5992026329906,-10.820596308305,-21.6578401643249,-18.7651621258663,-20.1620253253255,-12.668284361996,-21.7997180844348,-18.7593812480344,-20.8502677418563,-18.7303437757059,-22.9210491112392]},\"fY\":{\"$arr\":\"Float64\",\"len\":27,\"v\":[2.34439712260427,4.61797700747181,4.21470763079769,0.576410566254129,1.85466476049714,2.64340662782034,4.92459361438058,-0.953086753532998,3.69196619815337,0.518707179757838,3.58189707410571,3.39440923989197,-3.64110233406755,-0.430256651742805,0.549007905351622,1.07953915596808,3.64489241706835,-2.13082528508409,2.16609693347248,1.14793525317793,1.8518910147488,-3.21753905062521,3.7358845063558,3.36056772812526,4.96771423274217,1.14102159293742,2.24594410785448]},\"fFunctions\":{\"_typename\":\"TList\",\"name\":\"TList\",\"arr\":[],\"opt\":[]},\"fHistogram\":{\"_typename\":\"TH1F\",\"fUniqueID\":0,\"fBits\":512,\"fName\":\"Graph\",\"fTitle\":\"Graph\",\"fLineColor\":602,\"fLineStyle\":1,\"fLineWidth\":1,\"fFillColor\":0,\"fFillStyle\":1001,\"fMarkerColor\":1,\"fMarkerStyle\":1,\"fMarkerSize\":1,\"fNcells\":102,\"fXaxis\":{\"_typename\":\"TAxis\",\"fUniqueID\":0,\"fBits\":0,\"fName\":\"xaxis\",\"fTitle\":\"\",\"fNdivisions\":510,\"fAxisColor\":1,\"fLabelColor\":1,\"fLabelFont\":42,\"fLabelOffset\":0.005,\"fLabelSize\":0.035,\"fTickLength\":0.03,\"fTitleOffset\":1,\"fTitleSize\":0.035,\"fTitleColor\":1,\"fTitleFont\":42,\"fNbins\":100,\"fXmin\":-24.2148941452065,\"fXmax\":-9.60293286858669,\"fXbins\":[],\"fFirst\":0,\"fLast\":0,\"fBits2\":0,\"fTimeDisplay\":false,\"fTimeFormat\":\"\",\"fLabels\":null,\"fModLabs\":null},\"fYaxis\":{\"_typename\":\"TAxis\",\"fUniqueID\":0,\"fBits\":0,\"fName\":\"yaxis\",\"fTitle\":\"\",\"fNdivisions\":510,\"fAxisColor\":1,\"fLabelColor\":1,\"fLabelFont\":42,\"fLabelOffset\":0.005,\"fLabelSize\":0.035,\"fTickLength\":0.03,\"fTitleOffset\":0,\"fTitleSize\":0.035,\"fTitleColor\":1,\"fTitleFont\":42,\"fNbins\":1,\"fXmin\":-4.50198399074852,\"fXmax\":5.82859588942314,\"fXbins\":[],\"fFirst\":0,\"fLast\":0,\"fBits2\":0,\"fTimeDisplay\":false,\"fTimeFormat\":\"\",\"fLabels\":null,\"fModLabs\":null},\"fZaxis\":{\"_typename\":\"TAxis\",\"fUniqueID\":0,\"fBits\":0,\"fName\":\"zaxis\",\"fTitle\":\"\",\"fNdivisions\":510,\"fAxisColor\":1,\"fLabelColor\":1,\"fLabelFont\":42,\"fLabelOffset\":0.005,\"fLabelSize\":0.035,\"fTickLength\":0.03,\"fTitleOffset\":1,\"fTitleSize\":0.035,\"fTitleColor\":1,\"fTitleFont\":42,\"fNbins\":1,\"fXmin\":0,\"fXmax\":1,\"fXbins\":[],\"fFirst\":0,\"fLast\":0,\"fBits2\":0,\"fTimeDisplay\":false,\"fTimeFormat\":\"\",\"fLabels\":null,\"fModLabs\":null},\"fBarOffset\":0,\"fBarWidth\":1000,\"fEntries\":0,\"fTsumw\":0,\"fTsumw2\":0,\"fTsumwx\":0,\"fTsumwx2\":0,\"fMaximum\":5.82859588942314,\"fMinimum\":-4.50198399074852,\"fNormFactor\":0,\"fContour\":[],\"fSumw2\":[],\"fOption\":\"\",\"fFunctions\":{\"_typename\":\"TList\",\"name\":\"TList\",\"arr\":[],\"opt\":[]},\"fBufferSize\":0,\"fBuffer\":[],\"fBinStatErrOpt\":0,\"fStatOverflows\":2,\"fArray\":{\"$arr\":\"Float32\",\"len\":102}},\"fMinimum\":-1111,\"fMaximum\":-1111},{\"_typename\":\"TGraph\",\"fUniqueID\":0,\"fBits\":1032,\"fName\":\"Graph\",\"fTitle\":\"Graph\",\"fLineColor\":1,\"fLineStyle\":1,\"fLineWidth\":1,\"fFillColor\":0,\"fFillStyle\":1000,\"fMarkerColor\":632,\"fMarkerStyle\":20,\"fMarkerSize\":0.3,\"fNpoints\":8,\"fX\":{\"$arr\":\"Float64\",\"len\":8,\"v\":[-19.3986201857354,-22.0847190718736,-21.6275401988954,-22.7420586032372,-22.9598578016902,-21.5992026329906,-18.7651621258663,-18.7593812480344]},\"fY\":{\"$arr\":\"Float64\",\"len\":8,\"v\":[4.21470763079769,2.64340662782034,3.58189707410571,3.39440923989197,0.549007905351622,3.64489241706835,1.14793525317793,3.36056772812526]},\"fFunctions\":{\"_typename\":\"TList\",\"name\":\"TList\",\"arr\":[],\"opt\":[]},\"fHistogram\":{\"_typename\":\"TH1F\",\"fUniqueID\":0,\"fBits\":512,\"fName\":\"Graph\",\"fTitle\":\"Graph\",\"fLineColor\":602,\"fLineStyle\":1,\"fLineWidth\":1,\"fFillColor\":0,\"fFillStyle\":1001,\"fMarkerColor\":1,\"fMarkerStyle\":1,\"fMarkerSize\":1,\"fNcells\":102,\"fXaxis\":{\"_typename\":\"TAxis\",\"fUniqueID\":0,\"fBits\":0,\"fName\":\"xaxis\",\"fTitle\":\"\",\"fNdivisions\":510,\"fAxisColor\":1,\"fLabelColor\":1,\"fLabelFont\":42,\"fLabelOffset\":0.005,\"fLabelSize\":0.035,\"fTickLength\":0.03,\"fTitleOffset\":1,\"fTitleSize\":0.035,\"fTitleColor\":1,\"fTitleFont\":42,\"fNbins\":100,\"fXmin\":-23.3799054570558,\"fXmax\":-18.3393335926688,\"fXbins\":[],\"fFirst\":0,\"fLast\":0,\"fBits2\":0,\"fTimeDisplay\":false,\"fTimeFormat\":\"\",\"fLabels\":null,\"fModLabs\":null},\"fYaxis\":{\"_typename\":\"TAxis\",\"fUniqueID\":0,\"fBits\":0,\"fName\":\"yaxis\",\"fTitle\":\"\",\"fNdivisions\":510,\"fAxisColor\":1,\"fLabelColor\":1,\"fLabelFont\":42,\"fLabelOffset\":0.005,\"fLabelSize\":0.035,\"fTickLength\":0.03,\"fTitleOffset\":0,\"fTitleSize\":0.035,\"fTitleColor\":1,\"fTitleFont\":42,\"fNbins\":1,\"fXmin\":0.182437932807016,\"fXmax\":4.58127760334229,\"fXbins\":[],\"fFirst\":0,\"fLast\":0,\"fBits2\":0,\"fTimeDisplay\":false,\"fTimeFormat\":\"\",\"fLabels\":null,\"fModLabs\":null},\"fZaxis\":{\"_typename\":\"TAxis\",\"fUniqueID\":0,\"fBits\":0,\"fName\":\"zaxis\",\"fTitle\":\"\",\"fNdivisions\":510,\"fAxisColor\":1,\"fLabelColor\":1,\"fLabelFont\":42,\"fLabelOffset\":0.005,\"fLabelSize\":0.035,\"fTickLength\":0.03,\"fTitleOffset\":1,\"fTitleSize\":0.035,\"fTitleColor\":1,\"fTitleFont\":42,\"fNbins\":1,\"fXmin\":0,\"fXmax\":1,\"fXbins\":[],\"fFirst\":0,\"fLast\":0,\"fBits2\":0,\"fTimeDisplay\":false,\"fTimeFormat\":\"\",\"fLabels\":null,\"fModLabs\":null},\"fBarOffset\":0,\"fBarWidth\":1000,\"fEntries\":0,\"fTsumw\":0,\"fTsumw2\":0,\"fTsumwx\":0,\"fTsumwx2\":0,\"fMaximum\":4.58127760334229,\"fMinimum\":0.182437932807016,\"fNormFactor\":0,\"fContour\":[],\"fSumw2\":[],\"fOption\":\"\",\"fFunctions\":{\"_typename\":\"TList\",\"name\":\"TList\",\"arr\":[],\"opt\":[]},\"fBufferSize\":0,\"fBuffer\":[],\"fBinStatErrOpt\":0,\"fStatOverflows\":2,\"fArray\":{\"$arr\":\"Float32\",\"len\":102}},\"fMinimum\":-1111,\"fMaximum\":-1111},{\"_typename\":\"TGraph\",\"fUniqueID\":0,\"fBits\":1032,\"fName\":\"Graph\",\"fTitle\":\"Graph\",\"fLineColor\":1,\"fLineStyle\":1,\"fLineWidth\":1,\"fFillColor\":0,\"fFillStyle\":1000,\"fMarkerColor\":417,\"fMarkerStyle\":20,\"fMarkerSize\":1,\"fNpoints\":4,\"fX\":[-21.5729727755125,-18.7447160872604,-21.1903551571834,-19.0540734429013],\"fY\":[3.52088645771989,0.905852305993334,2.27810966558358,4.06127981520886],\"fFunctions\":{\"_typename\":\"TList\",\"name\":\"TList\",\"arr\":[],\"opt\":[]},\"fHistogram\":{\"_typename\":\"TH1F\",\"fUniqueID\":0,\"fBits\":512,\"fName\":\"Graph\",\"fTitle\":\"Graph\",\"fLineColor\":602,\"fLineStyle\":1,\"fLineWidth\":1,\"fFillColor\":0,\"fFillStyle\":1001,\"fMarkerColor\":1,\"fMarkerStyle\":1,\"fMarkerSize\":1,\"fNcells\":102,\"fXaxis\":{\"_typename\":\"TAxis\",\"fUniqueID\":0,\"fBits\":0,\"fName\":\"xaxis\",\"fTitle\":\"\",\"fNdivisions\":510,\"fAxisColor\":1,\"fLabelColor\":1,\"fLabelFont\":42,\"fLabelOffset\":0.005,\"fLabelSize\":0.035,\"fTickLength\":0.03,\"fTitleOffset\":1,\"fTitleSize\":0.035,\"fTitleColor\":1,\"fTitleFont\":42,\"fNbins\":100,\"fXmin\":-21.8557984443377,\"fXmax\":-18.4618904184352,\"fXbins\":[],\"fFirst\":0,\"fLast\":0,\"fBits2\":0,\"fTimeDisplay\":false,\"fTimeFormat\":\"\",\"fLabels\":null,\"fModLabs\":null},\"fYaxis\":{\"_typename\":\"TAxis\",\"fUniqueID\":0,\"fBits\":0,\"fName\":\"yaxis\",\"fTitle\":\"\",\"fNdivisions\":510,\"fAxisColor\":1,\"fLabelColor\":1,\"fLabelFont\":42,\"fLabelOffset\":0.005,\"fLabelSize\":0.035,\"fTickLength\":0.03,\"fTitleOffset\":0,\"fTitleSize\":0.035,\"fTitleColor\":1,\"fTitleFont\":42,\"fNbins\":1,\"fXmin\":0.590309555071782,\"fXmax\":4.37682256613041,\"fXbins\":[],\"fFirst\":0,\"fLast\":0,\"fBits2\":0,\"fTimeDisplay\":false,\"fTimeFormat\":\"\",\"fLabels\":null,\"fModLabs\":null},\"fZaxis\":{\"_typename\":\"TAxis\",\"fUniqueID\":0,\"fBits\":0,\"fName\":\"zaxis\",\"fTitle\":\"\",\"fNdivisions\":510,\"fAxisColor\":1,\"fLabelColor\":1,\"fLabelFont\":42,\"fLabelOffset\":0.005,\"fLabelSize\":0.035,\"fTickLength\":0.03,\"fTitleOffset\":1,\"fTitleSize\":0.035,\"fTitleColor\":1,\"fTitleFont\":42,\"fNbins\":1,\"fXmin\":0,\"fXmax\":1,\"fXbins\":[],\"fFirst\":0,\"fLast\":0,\"fBits2\":0,\"fTimeDisplay\":false,\"fTimeFormat\":\"\",\"fLabels\":null,\"fModLabs\":null},\"fBarOffset\":0,\"fBarWidth\":1000,\"fEntries\":0,\"fTsumw\":0,\"fTsumw2\":0,\"fTsumwx\":0,\"fTsumwx2\":0,\"fMaximum\":4.37682256613041,\"fMinimum\":0.590309555071782,\"fNormFactor\":0,\"fContour\":[],\"fSumw2\":[],\"fOption\":\"\",\"fFunctions\":{\"_typename\":\"TList\",\"name\":\"TList\",\"arr\":[],\"opt\":[]},\"fBufferSize\":0,\"fBuffer\":[],\"fBinStatErrOpt\":0,\"fStatOverflows\":2,\"fArray\":{\"$arr\":\"Float32\",\"len\":102}},\"fMinimum\":-1111,\"fMaximum\":-1111},{\"_typename\":\"TGraph\",\"fUniqueID\":0,\"fBits\":1032,\"fName\":\"Graph\",\"fTitle\":\"Graph\",\"fLineColor\":1,\"fLineStyle\":1,\"fLineWidth\":1,\"fFillColor\":0,\"fFillStyle\":1000,\"fMarkerColor\":432,\"fMarkerStyle\":20,\"fMarkerSize\":0.9,\"fNpoints\":4,\"fX\":[-21.021973054082,-18.3323280671969,-20.7481207022417,-18.6814028999271],\"fY\":[3.51145174072219,0.958111594651592,2.29973584564412,4.04784207531267],\"fFunctions\":{\"_typename\":\"TList\",\"name\":\"TList\",\"arr\":[],\"opt\":[]},\"fHistogram\":{\"_typename\":\"TH1F\",\"fUniqueID\":0,\"fBits\":512,\"fName\":\"Graph\",\"fTitle\":\"Graph\",\"fLineColor\":602,\"fLineStyle\":1,\"fLineWidth\":1,\"fFillColor\":0,\"fFillStyle\":1001,\"fMarkerColor\":1,\"fMarkerStyle\":1,\"fMarkerSize\":1,\"fNcells\":102,\"fXaxis\":{\"_typename\":\"TAxis\",\"fUniqueID\":0,\"fBits\":0,\"fName\":\"xaxis\",\"fTitle\":\"\",\"fNdivisions\":510,\"fAxisColor\":1,\"fLabelColor\":1,\"fLabelFont\":42,\"fLabelOffset\":0.005,\"fLabelSize\":0.035,\"fTickLength\":0.03,\"fTitleOffset\":1,\"fTitleSize\":0.035,\"fTitleColor\":1,\"fTitleFont\":42,\"fNbins\":100,\"fXmin\":-21.2909375527706,\"fXmax\":-18.0633635685083,\"fXbins\":[],\"fFirst\":0,\"fLast\":0,\"fBits2\":0,\"fTimeDisplay\":false,\"fTimeFormat\":\"\",\"fLabels\":null,\"fModLabs\":null},\"fYaxis\":{\"_typename\":\"TAxis\",\"fUniqueID\":0,\"fBits\":0,\"fName\":\"yaxis\",\"fTitle\":\"\",\"fNdivisions\":510,\"fAxisColor\":1,\"fLabelColor\":1,\"fLabelFont\":42,\"fLabelOffset\":0.005,\"fLabelSize\":0.035,\"fTickLength\":0.03,\"fTitleOffset\":0,\"fTitleSize\":0.035,\"fTitleColor\":1,\"fTitleFont\":42,\"fNbins\":1,\"fXmin\":0.649138546585485,\"fXmax\":4.35681512337877,\"fXbins\":[],\"fFirst\":0,\"fLast\":0,\"fBits2\":0,\"fTimeDisplay\":false,\"fTimeFormat\":\"\",\"fLabels\":null,\"fModLabs\":null},\"fZaxis\":{\"_typename\":\"TAxis\",\"fUniqueID\":0,\"fBits\":0,\"fName\":\"zaxis\",\"fTitle\":\"\",\"fNdivisions\":510,\"fAxisColor\":1,\"fLabelColor\":1,\"fLabelFont\":42,\"fLabelOffset\":0.005,\"fLabelSize\":0.035,\"fTickLength\":0.03,\"fTitleOffset\":1,\"fTitleSize\":0.035,\"fTitleColor\":1,\"fTitleFont\":42,\"fNbins\":1,\"fXmin\":0,\"fXmax\":1,\"fXbins\":[],\"fFirst\":0,\"fLast\":0,\"fBits2\":0,\"fTimeDisplay\":false,\"fTimeFormat\":\"\",\"fLabels\":null,\"fModLabs\":null},\"fBarOffset\":0,\"fBarWidth\":1000,\"fEntries\":0,\"fTsumw\":0,\"fTsumw2\":0,\"fTsumwx\":0,\"fTsumwx2\":0,\"fMaximum\":4.35681512337877,\"fMinimum\":0.649138546585485,\"fNormFactor\":0,\"fContour\":[],\"fSumw2\":[],\"fOption\":\"\",\"fFunctions\":{\"_typename\":\"TList\",\"name\":\"TList\",\"arr\":[],\"opt\":[]},\"fBufferSize\":0,\"fBuffer\":[],\"fBinStatErrOpt\":0,\"fStatOverflows\":2,\"fArray\":{\"$arr\":\"Float32\",\"len\":102}},\"fMinimum\":-1111,\"fMaximum\":-1111},{\"_typename\":\"TLegend\",\"fUniqueID\":0,\"fBits\":8,\"fLineColor\":1,\"fLineStyle\":1,\"fLineWidth\":1,\"fFillColor\":0,\"fFillStyle\":1001,\"fX1\":-31.7500004656613,\"fY1\":4.87500007264317,\"fX2\":-16.1250002328307,\"fY2\":7.9625001186505,\"fX1NDC\":0,\"fY1NDC\":0.8,\"fX2NDC\":0.25,\"fY2NDC\":0.99,\"fBorderSize\":1,\"fInit\":1,\"fShadowColor\":1,\"fCornerRadius\":0,\"fOption\":\"brNDC\",\"fName\":\"TPave\",\"fTextAngle\":0,\"fTextSize\":0,\"fTextAlign\":12,\"fTextColor\":1,\"fTextFont\":42,\"fPrimitives\":{\"_typename\":\"TList\",\"name\":\"TList\",\"arr\":[{\"_typename\":\"TLegendEntry\",\"fUniqueID\":0,\"fBits\":0,\"fTextAngle\":0,\"fTextSize\":0,\"fTextAlign\":0,\"fTextColor\":0,\"fTextFont\":42,\"fLineColor\":1,\"fLineStyle\":1,\"fLineWidth\":1,\"fFillColor\":0,\"fFillStyle\":1000,\"fMarkerColor\":802,\"fMarkerStyle\":20,\"fMarkerSize\":1.1,\"fObject\":{\"$ref\":15},\"fLabel\":\"Score plane clusters\",\"fOption\":\"lpf\"},{\"_typename\":\"TLegendEntry\",\"fUniqueID\":0,\"fBits\":0,\"fTextAngle\":0,\"fTextSize\":0,\"fTextAlign\":0,\"fTextColor\":0,\"fTextFont\":42,\"fLineColor\":1,\"fLineStyle\":1,\"fLineWidth\":1,\"fFillColor\":0,\"fFillStyle\":1000,\"fMarkerColor\":800,\"fMarkerStyle\":20,\"fMarkerSize\":0.5,\"fObject\":{\"$ref\":22},\"fLabel\":\"Score plane secondary hit\",\"fOption\":\"lpf\"},{\"_typename\":\"TLegendEntry\",\"fUniqueID\":0,\"fBits\":0,\"fTextAngle\":0,\"fTextSize\":0,\"fTextAlign\":0,\"fTextColor\":0,\"fTextFont\":42,\"fLineColor\":1,\"fLineStyle\":1,\"fLineWidth\":1,\"fFillColor\":0,\"fFillStyle\":1000,\"fMarkerColor\":632,\"fMarkerStyle\":20,\"fMarkerSize\":0.3,\"fObject\":{\"$ref\":29},\"fLabel\":\"Score hits\",\"fOption\":\"lpf\"},{\"_typename\":\"TLegendEntry\",\"fUniqueID\":0,\"fBits\":0,\"fTextAngle\":0,\"fTextSize\":0,\"fTextAlign\":0,\"fTextColor\":0,\"fTextFont\":42,\"fLineColor\":1,\"fLineStyle\":1,\"fLineWidth\":1,\"fFillColor\":0,\"fFillStyle\":1000,\"fMarkerColor\":417,\"fMarkerStyle\":20,\"fMarkerSize\":1,\"fObject\":{\"$ref\":36},\"fLabel\":\"Cluster center\",\"fOption\":\"lpf\"},{\"_typename\":\"TLegendEntry\",\"fUniqueID\":0,\"fBits\":0,\"fTextAngle\":0,\"fTextSize\":0,\"fTextAlign\":0,\"fTextColor\":0,\"fTextFont\":42,\"fLineColor\":1,\"fLineStyle\":1,\"fLineWidth\":1,\"fFillColor\":0,\"fFillStyle\":1000,\"fMarkerColor\":432,\"fMarkerStyle\":20,\"fMarkerSize\":0.9,\"fObject\":{\"$ref\":43},\"fLabel\":\"Cluster center uncor\",\"fOption\":\"lpf\"}],\"opt\":[\"lpf\",\"lpf\",\"lpf\",\"lpf\",\"lpf\"]},\"fEntrySeparation\":0.1,\"fMargin\":0.25,\"fNColumns\":1,\"fColumnSeparation\":0},{\"_typename\":\"TPaveText\",\"fUniqueID\":0,\"fBits\":9,\"fLineColor\":1,\"fLineStyle\":1,\"fLineWidth\":1,\"fFillColor\":0,\"fFillStyle\":0,\"fX1\":-5.38002239414658,\"fY1\":7.15000017071143,\"fX2\":4.38002239414657,\"fY2\":8.04375019734726,\"fX1NDC\":0.421919642857143,\"fY1NDC\":0.940000003948808,\"fX2NDC\":0.578080357142857,\"fY2NDC\":0.995000004768372,\"fBorderSize\":0,\"fInit\":1,\"fShadowColor\":1,\"fCornerRadius\":0,\"fOption\":\"blNDC\",\"fName\":\"title\",\"fTextAngle\":0,\"fTextSize\":0,\"fTextAlign\":22,\"fTextColor\":1,\"fTextFont\":42,\"fLabel\":\"\",\"fLongest\":9,\"fMargin\":0.05,\"fLines\":{\"_typename\":\"TList\",\"name\":\"TList\",\"arr\":[{\"_typename\":\"TLatex\",\"fUniqueID\":0,\"fBits\":0,\"fName\":\"\",\"fTitle\":\"Ecal Hits\",\"fTextAngle\":0,\"fTextSize\":0,\"fTextAlign\":0,\"fTextColor\":0,\"fTextFont\":0,\"fX\":0,\"fY\":0,\"fLineColor\":1,\"fLineStyle\":1,\"fLineWidth\":2,\"fLimitFactorSize\":3,\"fOriginSize\":0.0467500016093254}],\"opt\":[\"\"]}},{\"_typename\":\"TStyle\",\"fUniqueID\":0,\"fBits\":0,\"fName\":\"Modern\",\"fTitle\":\"Modern Style\",\"fLineColor\":1,\"fLineStyle\":1,\"fLineWidth\":1,\"fFillColor\":19,\"fFillStyle\":1001,\"fMarkerColor\":1,\"fMarkerStyle\":1,\"fMarkerSize\":1,\"fTextAngle\":0,\"fTextSize\":0.05,\"fTextAlign\":11,\"fTextColor\":1,\"fTextFont\":62,\"fXaxis\":{\"_typename\":\"TAttAxis\",\"fNdivisions\":510,\"fAxisColor\":1,\"fLabelColor\":1,\"fLabelFont\":42,\"fLabelOffset\":0.005,\"fLabelSize\":0.035,\"fTickLength\":0.03,\"fTitleOffset\":1,\"fTitleSize\":0.035,\"fTitleColor\":1,\"fTitleFont\":42},\"fYaxis\":{\"_typename\":\"TAttAxis\",\"fNdivisions\":510,\"fAxisColor\":1,\"fLabelColor\":1,\"fLabelFont\":42,\"fLabelOffset\":0.005,\"fLabelSize\":0.035,\"fTickLength\":0.03,\"fTitleOffset\":0,\"fTitleSize\":0.035,\"fTitleColor\":1,\"fTitleFont\":42},\"fZaxis\":{\"_typename\":\"TAttAxis\",\"fNdivisions\":510,\"fAxisColor\":1,\"fLabelColor\":1,\"fLabelFont\":42,\"fLabelOffset\":0.005,\"fLabelSize\":0.035,\"fTickLength\":0.03,\"fTitleOffset\":1,\"fTitleSize\":0.035,\"fTitleColor\":1,\"fTitleFont\":42},\"fBarWidth\":1,\"fBarOffset\":0,\"fColorModelPS\":0,\"fDrawBorder\":0,\"fOptLogx\":0,\"fOptLogy\":0,\"fOptLogz\":0,\"fOptDate\":0,\"fOptStat\":1111,\"fOptTitle\":1,\"fOptFile\":0,\"fOptFit\":0,\"fShowEventStatus\":0,\"fShowEditor\":0,\"fShowToolBar\":0,\"fNumberContours\":20,\"fAttDate\":{\"_typename\":\"TAttText\",\"fTextAngle\":0,\"fTextSize\":0.025,\"fTextAlign\":11,\"fTextColor\":1,\"fTextFont\":62},\"fDateX\":0.01,\"fDateY\":0.01,\"fEndErrorSize\":2,\"fErrorX\":0.5,\"fFuncColor\":2,\"fFuncStyle\":1,\"fFuncWidth\":2,\"fGridColor\":0,\"fGridStyle\":3,\"fGridWidth\":1,\"fLegendBorderSize\":1,\"fLegendFillColor\":0,\"fLegendFont\":42,\"fLegendTextSize\":0,\"fHatchesLineWidth\":1,\"fHatchesSpacing\":1,\"fFrameFillColor\":0,\"fFrameLineColor\":1,\"fFrameFillStyle\":1001,\"fFrameLineStyle\":1,\"fFrameLineWidth\":1,\"fFrameBorderSize\":1,\"fFrameBorderMode\":0,\"fHistFillColor\":0,\"fHistLineColor\":602,\"fHistFillStyle\":1001,\"fHistLineStyle\":1,\"fHistLineWidth\":1,\"fHistMinimumZero\":false,\"fHistTopMargin\":0.05,\"fCanvasPreferGL\":false,\"fCanvasColor\":0,\"fCanvasBorderSize\":2,\"fCanvasBorderMode\":0,\"fCanvasDefH\":500,\"fCanvasDefW\":700,\"fCanvasDefX\":10,\"fCanvasDefY\":10,\"fPadColor\":0,\"fPadBorderSize\":2,\"fPadBorderMode\":0,\"fPadBottomMargin\":0.1,\"fPadTopMargin\":0.1,\"fPadLeftMargin\":0.1,\"fPadRightMargin\":0.1,\"fPadGridX\":false,\"fPadGridY\":false,\"fPadTickX\":0,\"fPadTickY\":0,\"fPaperSizeX\":20,\"fPaperSizeY\":26,\"fScreenFactor\":1,\"fStatColor\":0,\"fStatTextColor\":1,\"fStatBorderSize\":1,\"fStatFont\":42,\"fStatFontSize\":0,\"fStatStyle\":1001,\"fStatFormat\":\"6.4g\",\"fStatX\":0.98,\"fStatY\":0.935,\"fStatW\":0.2,\"fStatH\":0.16,\"fStripDecimals\":true,\"fTitleAlign\":23,\"fTitleColor\":0,\"fTitleTextColor\":1,\"fTitleBorderSize\":0,\"fTitleFont\":42,\"fTitleFontSize\":0.05,\"fTitleStyle\":0,\"fTitleX\":0.5,\"fTitleY\":0.995,\"fTitleW\":0,\"fTitleH\":0,\"fLegoInnerR\":0.5,\"fLineStyles\":[\"\",\"  \",\" 12 12\",\" 4 8\",\" 12 16 4 16\",\" 20 12 4 12\",\" 20 12 4 12 4 12 4 12\",\" 20 20\",\" 20 12 4 12 4 12\",\" 80 20\",\" 80 40 4 40\",\"  \",\"  \",\"  \",\"  \",\"  \",\"  \",\"  \",\"  \",\"  \",\"  \",\"  \",\"  \",\"  \",\"  \",\"  \",\"  \",\"  \",\"  \",\"  \"],\"fHeaderPS\":\"\",\"fTitlePS\":\"\",\"fFitFormat\":\"5.4g\",\"fPaintTextFormat\":\"g\",\"fLineScalePS\":3,\"fJoinLinePS\":0,\"fCapLinePS\":0,\"fTimeOffset\":788918400,\"fImageScaling\":1,\"fCandleWhiskerRange\":1,\"fCandleBoxRange\":0.5,\"fCandleScaled\":false,\"fViolinScaled\":true,\"fXAxisExpXOffset\":0,\"fXAxisExpYOffset\":0,\"fYAxisExpXOffset\":0,\"fYAxisExpYOffset\":0,\"fAxisMaxDigits\":5}],\"opt\":[\"\",\"colz\",\"boxsame\",\"p\",\"p\",\"p\",\"p\",\"p\",\"\",\"blNDC\",\"\"]},\"fExecs\":null,\"fName\":\"cc2\",\"fTitle\":\"Canvas\",\"fNumPaletteColor\":0,\"fNextPaletteColor\":0,\"fDISPLAY\":\"$DISPLAY\",\"fDoubleBuffer\":0,\"fRetained\":true,\"fXsizeUser\":0,\"fYsizeUser\":0,\"fXsizeReal\":20,\"fYsizeReal\":13.33333,\"fWindowTopX\":0,\"fWindowTopY\":0,\"fWindowWidth\":0,\"fWindowHeight\":0,\"fCw\":896,\"fCh\":572,\"fCatt\":{\"_typename\":\"TAttCanvas\",\"fXBetween\":2,\"fYBetween\":2,\"fTitleFromTop\":1.2,\"fXdate\":0.2,\"fYdate\":0.3,\"fAdate\":1},\"kMoveOpaque\":true,\"kResizeOpaque\":true,\"fHighLightColor\":2,\"fBatch\":true,\"kShowEventStatus\":false,\"kAutoExec\":true,\"kMenuBar\":true});\n   Core.settings.HandleKeys = false;\n   Core.draw(\"root_plot_1681950975810\", obj, \"\");\n}\n\nfunction script_load_root_plot_1681950975810(src, on_error) {\n    let script = document.createElement('script');\n    script.src = src;\n    script.onload = function() { display_root_plot_1681950975810(JSROOT); };\n    script.onerror = function() { script.remove(); on_error(); };\n    document.head.appendChild(script);\n}\n\nif (typeof requirejs !== 'undefined') {\n\n    // We are in jupyter notebooks, use require.js which should be configured already\n    requirejs.config({\n       paths: { 'JSRootCore' : [ 'build/jsroot', 'https://root.cern/js/7.2.1/build/jsroot', 'https://jsroot.gsi.de/7.2.1/build/jsroot' ] }\n    })(['JSRootCore'],  function(Core) {\n       display_root_plot_1681950975810(Core);\n    });\n\n} else if (typeof JSROOT !== 'undefined') {\n\n   // JSROOT already loaded, just use it\n   display_root_plot_1681950975810(JSROOT);\n\n} else {\n\n    // We are in jupyterlab without require.js, directly loading jsroot\n    // Jupyterlab might be installed in a different base_url so we need to know it.\n    try {\n        var base_url = JSON.parse(document.getElementById('jupyter-config-data').innerHTML).baseUrl;\n    } catch(_) {\n        var base_url = '/';\n    }\n\n    // Try loading a local version of requirejs and fallback to cdn if not possible.\n    script_load_root_plot_1681950975810(base_url + 'static/build/jsroot.js', function(){\n        console.error('Fail to load JSROOT locally, please check your jupyter_notebook_config.py file');\n        script_load_root_plot_1681950975810('https://root.cern/js/7.2.1/build/jsroot.js', function(){\n            document.getElementById(\"root_plot_1681950975810\").innerHTML = \"Failed to load JSROOT\";\n        });\n    });\n}\n\n</script>\n"
     },
     "metadata": {},
     "output_type": "display_data"
    }
   ],
   "source": [
    "cluster_ncontrib = []\n",
    "cluster_centers = []\n",
    "cluster_ave_x = []\n",
    "cluster_ave_y = []\n",
    "cluster_sum_pz = []\n",
    "\n",
    "while True:\n",
    "    event+=1\n",
    "    ch.GetEntry(event)\n",
    "\n",
    "    secondary_hits_energy = R.EAC.get_score_secondary_hits_energy(mdst.mc_part_sim_status, mdst.mc_score_part_idx, mdst.mc_score_z, mdst.mc_score_px, mdst.mc_score_py, mdst.mc_score_pz)\n",
    "    primary_hits_energy = R.EAC.get_score_primary_hits_energy(mdst.mc_part_sim_status, mdst.mc_score_part_idx, mdst.mc_score_z, mdst.mc_score_px, mdst.mc_score_py, mdst.mc_score_pz)\n",
    "\n",
    "    mc_score_cluster_indexes = R.EAC.get_score_cluster_indexes(mdst.mc_score_pz,\n",
    "                                                               mdst.mc_score_x, mdst.mc_score_y, mdst.mc_score_z,\n",
    "                                                               mdst.ecal_cluster_x, mdst.ecal_cluster_y)\n",
    "    if len(mc_score_cluster_indexes) >= 7:\n",
    "        break\n",
    "#    if len(secondary_hits_energy) > 20:\n",
    "#        break;\n",
    "#    if count>2:\n",
    "#        break\n",
    "#     if len(mdst.ecal_cluster_seed_ix) >= 3:\n",
    "#         break\n",
    "#     if len(mdst.ecal_cluster_seed_ix) >= 1:\n",
    "#         break\n",
    "   # break\n",
    "   #  if len(primary_hits_energy)>0 and primary_hits_energy[0]>3.2:\n",
    "   #      print(f\"event = {event}  E = {primary_hits_energy[0]}\")\n",
    "   #      break\n",
    "    # if len(primary_hits_energy)>0 and primary_hits_energy[0]>3.1:\n",
    "    #     print(f\"event = {event}  E = {primary_hits_energy[0]}\")\n",
    "    #     break\n",
    "\n",
    "    if event%1000 == 0:\n",
    "        print(f\"event = {event:6d}\")\n",
    "    if event >= ch.GetEntries():\n",
    "        break\n",
    "\n",
    "Print_Event()\n",
    "Show_Event()"
   ],
   "metadata": {
    "collapsed": false
   }
  },
  {
   "cell_type": "code",
   "execution_count": 19,
   "outputs": [
    {
     "name": "stderr",
     "output_type": "stream",
     "text": [
      "Info in <TCanvas::Print>: pdf file EcalSnapShot_many_score_clusters.pdf has been created\n"
     ]
    }
   ],
   "source": [
    "cc2.SaveAs(\"EcalSnapShot_many_score_clusters.pdf\")"
   ],
   "metadata": {
    "collapsed": false
   }
  },
  {
   "cell_type": "code",
   "execution_count": 13,
   "outputs": [
    {
     "name": "stdout",
     "output_type": "stream",
     "text": [
      "N ecal clusters:  2\n"
     ]
    }
   ],
   "source": [
    "print(f\"N ecal clusters: {len(mdst.ecal_cluster_x):2d}\")\n",
    "# R.EAC.get_score_secondary_hits_energy(mdst.mc_score_x, mdst.mc_score_part_idx, mdst.mc_score_z, mdst.mc_score_px, mdst.mc_score_py, mdst.mc_score_pz)"
   ],
   "metadata": {
    "collapsed": false
   }
  },
  {
   "cell_type": "code",
   "execution_count": 21,
   "outputs": [
    {
     "data": {
      "text/plain": "vector<double>{ 3.3477077 }"
     },
     "execution_count": 21,
     "metadata": {},
     "output_type": "execute_result"
    }
   ],
   "source": [
    "primary_hits_energy"
   ],
   "metadata": {
    "collapsed": false
   }
  },
  {
   "cell_type": "code",
   "execution_count": 22,
   "outputs": [
    {
     "data": {
      "text/plain": "vector<double>{ 0.013125315, 0.096487720 }"
     },
     "execution_count": 22,
     "metadata": {},
     "output_type": "execute_result"
    }
   ],
   "source": [
    "secondary_hits_energy"
   ],
   "metadata": {
    "collapsed": false
   }
  },
  {
   "cell_type": "code",
   "execution_count": 23,
   "outputs": [
    {
     "data": {
      "text/plain": "vector<int>{ 5 }"
     },
     "execution_count": 23,
     "metadata": {},
     "output_type": "execute_result"
    }
   ],
   "source": [
    "R.EAC.get_score_n_primary_hits(mdst.mc_part_sim_status, mdst.mc_score_part_idx, mdst.mc_score_z, mdst.mc_score_pz)"
   ],
   "metadata": {
    "collapsed": false
   }
  },
  {
   "cell_type": "code",
   "execution_count": 44,
   "outputs": [
    {
     "data": {
      "text/plain": "(0.5289242267608643,\n -0.08898834884166718,\n 2.951568365097046,\n 2.9999059281460463)"
     },
     "execution_count": 44,
     "metadata": {},
     "output_type": "execute_result"
    }
   ],
   "source": [
    "mdst.mc_score_px[6], mdst.mc_score_py[6], mdst.mc_score_pz[6], np.sqrt(mdst.mc_score_px[6]**2 + mdst.mc_score_py[6]**2 + mdst.mc_score_pz[6]**2)"
   ],
   "metadata": {
    "collapsed": false
   }
  },
  {
   "cell_type": "code",
   "execution_count": 27,
   "outputs": [
    {
     "name": "stdout",
     "output_type": "stream",
     "text": [
      "i_part = 0   E =    0.013  vz = 1107.6\n",
      "i = 23 - E= 0.013 sum =  0.013   p=( 0.001,-0.000, 0.013)  x=(   97.0,  -41.0, 1443.0)\n",
      "i_part = 1   E =    3.000  vz =    0.0\n",
      "i = 16 - E= 0.568 sum =  0.568   p=(-0.076, 0.545, 0.141)  x=(   82.3,   56.7, 1443.0)\n",
      "i = 20 - E= 0.021 sum =  0.589   p=( 0.001,-0.001, 0.021)  x=(   96.8,  -41.4, 1443.0)\n",
      "i = 22 - E= 1.704 sum =  2.292   p=( 0.064,-0.053, 1.702)  x=(   96.8,  -41.4, 1443.0)\n",
      "i = 27 - E= 0.709 sum =  3.002   p=( 0.028,-0.020, 0.708)  x=(   96.9,  -41.3, 1443.0)\n",
      "i = 28 - E= 0.346 sum =  3.348   p=( 0.211,-0.129, 0.242)  x=(  117.6,  -53.8, 1443.0)\n",
      "i_part = 2   E =    0.096  vz =  909.7\n",
      "i = 26 - E= 0.096 sum =  0.096   p=( 0.004,-0.003, 0.096)  x=(  100.7,  -41.3, 1443.0)\n",
      "[0.013125315374536019, 3.347707724448217, 0.09648771964466923]\n"
     ]
    }
   ],
   "source": [
    "out = []\n",
    "for i_part in range(len(mdst.mc_part_z)):\n",
    "    if np.uintc(mdst.mc_part_sim_status[primary_index]) & 0x1:\n",
    "        print(f\"i_part = {i_part}   E = {mdst.mc_part_energy[i_part]:8.3f}  vz = {mdst.mc_part_z[i_part]:6.1f}\")\n",
    "        sum = 0\n",
    "        for i in range(len(mdst.mc_score_part_idx)):\n",
    "            if (mdst.mc_score_z[i] > 1440) and (mdst.mc_score_pz[i] > 0.01) and mdst.mc_score_part_idx[i] == i_part :\n",
    "                E = np.sqrt(mdst.mc_score_px[i] * mdst.mc_score_px[i] + mdst.mc_score_py[i] * mdst.mc_score_py[i] + mdst.mc_score_pz[i] * mdst.mc_score_pz[i])\n",
    "                sum += E\n",
    "                print(f\"i = {i} - E={E:6.3f} sum = {sum:6.3f}   p=({mdst.mc_score_px[i]:6.3f},{mdst.mc_score_py[i]:6.3f},{mdst.mc_score_pz[i]:6.3f}) \"\n",
    "                      f\" x=({mdst.mc_score_x[i]:7.1f},{mdst.mc_score_y[i]:7.1f},{mdst.mc_score_z[i]:7.1f})\")\n",
    "        out.append(sum)\n",
    "print(out)"
   ],
   "metadata": {
    "collapsed": false
   }
  },
  {
   "cell_type": "code",
   "execution_count": 34,
   "outputs": [
    {
     "name": "stdout",
     "output_type": "stream",
     "text": [
      "Summary of the score plane hits:\n",
      "[15] [  1] pdg:11 p=(-0.000,-0.000, 0.000) ix=(   3.798,  -6.031) E =  0.000\n",
      "[16] [  1] pdg:11 p=(-0.076, 0.545, 0.141) ix=(   3.163,   1.438) E =  0.568\n",
      "[17] [  1] pdg:11 p=( 0.001,-0.001,-0.001) ix=(  10.562,  -9.623) E =  0.002\n",
      "[18] [  2] pdg:22 p=( 0.000, 0.001,-0.000) ix=( -22.993,   7.057) E =  0.001\n",
      "[19] [  1] pdg:11 p=(-0.000, 0.000,-0.000) ix=(   4.442,  -5.914) E =  0.000\n",
      "[20] [  1] pdg:11 p=( 0.001,-0.001, 0.021) ix=(   4.134,  -6.146) E =  0.021\n",
      "[21] [  0] pdg:22 p=(-0.001, 0.000,-0.001) ix=(   2.158,  -5.275) E =  0.001\n",
      "[22] [  1] pdg:11 p=( 0.064,-0.053, 1.702) ix=(   4.134,  -6.146) E =  1.704\n",
      "[23] [  0] pdg:22 p=( 0.001,-0.000, 0.013) ix=(   4.150,  -6.118) E =  0.013\n",
      "[24] [  1] pdg:11 p=( 0.000, 0.000, 0.000) ix=(   8.341,  -7.362) E =  0.000\n",
      "[25] [  1] pdg:11 p=( 0.000,-0.000, 0.001) ix=(   4.131,  -6.135) E =  0.001\n",
      "[26] [  2] pdg:22 p=( 0.004,-0.003, 0.096) ix=(   4.395,  -6.138) E =  0.096\n",
      "[27] [  1] pdg:11 p=( 0.028,-0.020, 0.708) ix=(   4.139,  -6.137) E =  0.709\n",
      "[28] [  1] pdg:11 p=( 0.211,-0.129, 0.242) ix=(   5.534,  -6.980) E =  0.346\n",
      "[29] [  1] pdg:11 p=( 0.000,-0.000,-0.000) ix=(  10.235, -14.841) E =  0.000\n",
      "[30] [  1] pdg:11 p=(-0.001, 0.000, 0.001) ix=(   2.854,  -5.528) E =  0.001\n",
      "[31] [  1] pdg:11 p=( 0.000,-0.000, 0.000) ix=(   4.134,  -6.146) E =  0.000\n",
      "Sum =  3.4641\n"
     ]
    }
   ],
   "source": [
    "print(\"Summary of the score plane hits:\")\n",
    "sum = 0\n",
    "for i in range(len(mdst.mc_score_pz)):\n",
    "    if( mdst.mc_score_z[i]>1440):\n",
    "        E = np.sqrt(mdst.mc_score_px[i]**2+mdst.mc_score_py[i]**2+mdst.mc_score_pz[i]**2)\n",
    "        sum += E\n",
    "        x = R.EAC.ecal_xpos_to_index(mdst.mc_score_x[i])\n",
    "        y = R.EAC.ecal_xpos_to_index(mdst.mc_score_y[i])\n",
    "        print(f\"[{i:2d}] [{mdst.mc_score_part_idx[i]:3d}] pdg:{mdst.mc_score_pdg[i]}\"\n",
    "              f\" p=({mdst.mc_score_px[i]:6.3f},{mdst.mc_score_py[i]:6.3f},{mdst.mc_score_pz[i]:6.3f})\"\n",
    "              f\" ix=({x:8.3f},{y:8.3f})\"\n",
    "              f\" E = {E:6.3f}\")\n",
    "\n",
    "print(f\"Sum = {sum:7.4f}\")"
   ],
   "metadata": {
    "collapsed": false
   }
  },
  {
   "cell_type": "code",
   "execution_count": 19,
   "outputs": [
    {
     "name": "stdout",
     "output_type": "stream",
     "text": [
      "--------------- Alt score cluster calc --------------\n",
      "i:  0 N =   1] idx= [  0] ( 15.66,  1.80) = (  270.1,   42.0) pz_sum = 1.1339\n",
      "i:  1 N =   2] idx= [  3] ( 12.40,  1.87) = (  220.5,   43.1) pz_sum = 1.7961\n",
      "i:  2 N =   1] idx= [  5] ( 12.41,  1.81) = (  220.8,   42.2) pz_sum = 0.0214\n"
     ]
    }
   ],
   "source": [
    "\n",
    "print(\"--------------- Alt score cluster calc --------------\")\n",
    "cluster_ncontrib.clear()\n",
    "cluster_centers.clear()\n",
    "cluster_ave_x.clear()\n",
    "cluster_ave_y.clear()\n",
    "cluster_sum_pz.clear()\n",
    "\n",
    "# Go through each mc_score hit. If not caused by primary, collect hits.\n",
    "count = 0;\n",
    "not_done = True\n",
    "has_been_used = [False]*len(mdst.mc_score_z)\n",
    "while not_done:\n",
    "    # Step one: find the maximum pz\n",
    "\n",
    "    index_max_pz = -1\n",
    "    for i in range(len(mdst.mc_score_z)):\n",
    "        if not has_been_used[i] and mdst.mc_score_z[i] > 1400 and mdst.mc_score_pz[i] > R.EAC.mc_score_pz_cut:\n",
    "            max_pz = mdst.mc_score_pz[i]\n",
    "            index_max_pz = i\n",
    "\n",
    "    if index_max_pz < 0:\n",
    "        not_done = False\n",
    "    else:\n",
    "        has_been_used[index_max_pz] = True\n",
    "        count += 1\n",
    "        x_loc = mdst.mc_score_x[index_max_pz]\n",
    "        y_loc = mdst.mc_score_y[index_max_pz]\n",
    "        pz_sum = mdst.mc_score_pz[index_max_pz]\n",
    "        x_ave = x_loc*pz_sum\n",
    "        y_ave = y_loc*pz_sum\n",
    "\n",
    "        n_contrib = 1\n",
    "        for i in range(len(mdst.mc_score_pdg)):\n",
    "            if not has_been_used[i] and mdst.mc_score_z[i] > 1400 and mdst.mc_score_pz[i] > 0.03 and abs(mdst.mc_score_x[i] - x_loc) < R.EAC.mc_score_close_cut and abs(mdst.mc_score_y[i] - y_loc) < R.EAC.mc_score_close_cut:\n",
    "                has_been_used[i] = True\n",
    "                x_ave += mdst.mc_score_x[i]*mdst.mc_score_pz[i]\n",
    "                y_ave += mdst.mc_score_y[i]*mdst.mc_score_pz[i]\n",
    "                pz_sum += mdst.mc_score_pz[i]\n",
    "                n_contrib += 1\n",
    "\n",
    "        x_ave = x_ave/pz_sum\n",
    "        y_ave = y_ave/pz_sum\n",
    "\n",
    "        cluster_centers.append(index_max_pz)\n",
    "        cluster_ave_x.append(x_ave)\n",
    "        cluster_ave_y.append(y_ave)\n",
    "        cluster_sum_pz.append(pz_sum)\n",
    "        print(f\"i: {count-1:2d} N = {n_contrib:3d}] idx= [{mdst.mc_score_part_idx[index_max_pz]:3d}] ({R.EAC.ecal_xpos_to_index(x_ave):6.2f},{R.EAC.ecal_ypos_to_index(y_ave):6.2f}) = ({x_ave:7.1f},{y_ave:7.1f}) pz_sum = {pz_sum:6.4f}\")\n"
   ],
   "metadata": {
    "collapsed": false
   }
  },
  {
   "cell_type": "code",
   "execution_count": 20,
   "outputs": [
    {
     "name": "stdout",
     "output_type": "stream",
     "text": [
      "0\n",
      "10000\n",
      "20000\n",
      "30000\n"
     ]
    }
   ],
   "source": [
    "for evt in range(ch.GetEntries()):\n",
    "    if evt%10000 == 0:\n",
    "        print(evt)\n",
    "    ch.GetEvent(evt)\n",
    "    idx = R.EAC.get_list_of_primary_mc(mdst.mc_part_sim_status)\n"
   ],
   "metadata": {
    "collapsed": false
   }
  },
  {
   "cell_type": "code",
   "execution_count": 50,
   "outputs": [
    {
     "name": "stdout",
     "output_type": "stream",
     "text": [
      "{ 3 }\n",
      "2.999999965564364\n"
     ]
    }
   ],
   "source": [
    "ch.GetEvent(110)\n",
    "idx = R.EAC.get_list_of_primary_mc(mdst.mc_part_sim_status)\n",
    "print(idx)\n",
    "print(mdst.mc_part_energy[idx[0]])"
   ],
   "metadata": {
    "collapsed": false
   }
  },
  {
   "cell_type": "code",
   "execution_count": 36,
   "outputs": [
    {
     "name": "stdout",
     "output_type": "stream",
     "text": [
      "0\n",
      "10000\n",
      "20000\n",
      "30000\n"
     ]
    }
   ],
   "source": [
    "for evt in range(ch.GetEntries()):\n",
    "    if evt%10000 == 0:\n",
    "        print(evt)\n",
    "    ch.GetEvent(evt)\n",
    "\n",
    "    for i in range(len(mdst.mc_part_sim_status)):\n",
    "        if ( mdst.mc_part_sim_status[i] & 0x01) == 0 and abs(mdst.mc_part_z[i]) < 1e-6:\n",
    "            print(f\"{np.uint(mdst.mc_part_sim_status[i]):064b}  {mdst.mc_part_z[i]}\")"
   ],
   "metadata": {
    "collapsed": false
   }
  },
  {
   "cell_type": "code",
   "execution_count": 51,
   "outputs": [
    {
     "name": "stdout",
     "output_type": "stream",
     "text": [
      "0  111.969\n",
      "0  513.472\n",
      "0  312.667\n",
      "0   61.811\n",
      "0  212.305\n",
      "1 1443.001\n",
      "1 1443.001\n",
      "1 1443.001\n",
      "1 1443.001\n",
      "1 1443.001\n",
      "1 1443.001\n",
      "1 1443.001\n",
      "1 1443.001\n",
      "1 1443.001\n",
      "1 1443.001\n",
      "1 1443.001\n",
      "1 1443.001\n",
      "1 1443.001\n",
      "1 1443.001\n",
      "1 1443.001\n",
      "1 1443.001\n",
      "1 1443.001\n",
      "1 1443.001\n",
      "1 1443.001\n",
      "1 1443.001\n"
     ]
    }
   ],
   "source": [
    "for i in range(len(mdst.mc_score_type)):\n",
    "    print(f\"{mdst.mc_score_type[i]} {mdst.mc_score_z[i]:8.3f}\")"
   ],
   "metadata": {
    "collapsed": false
   }
  },
  {
   "cell_type": "code",
   "execution_count": null,
   "outputs": [],
   "source": [],
   "metadata": {
    "collapsed": false
   }
  }
 ],
 "metadata": {
  "kernelspec": {
   "display_name": "Python 3",
   "language": "python",
   "name": "python3"
  },
  "language_info": {
   "codemirror_mode": {
    "name": "ipython",
    "version": 2
   },
   "file_extension": ".py",
   "mimetype": "text/x-python",
   "name": "python",
   "nbconvert_exporter": "python",
   "pygments_lexer": "ipython2",
   "version": "2.7.6"
  }
 },
 "nbformat": 4,
 "nbformat_minor": 0
}
