{
 "cells": [
  {
   "cell_type": "code",
   "execution_count": 1,
   "metadata": {
    "collapsed": true
   },
   "outputs": [
    {
     "name": "stdout",
     "output_type": "stream",
     "text": [
      "Welcome to JupyROOT 6.29/01\n"
     ]
    }
   ],
   "source": [
    "# Warning: Execute this cell only once for the kernel. Reset the kernel if you need changes.\n",
    "import sys\n",
    "sys.path.append(\"../Python\")\n",
    "import ROOT as R\n",
    "import time\n",
    "import numpy as np\n",
    "# Turn jsroot off if you want to make a pdf from this file.\n",
    "%jsroot on\n",
    "from root_helpers import SetStyle\n",
    "from root_helpers import fancy_plot\n",
    "from root_helpers import print_mc_particle_tree\n",
    "from root_helpers import print_daughters\n",
    "# R.EnableImplicitMT()"
   ]
  },
  {
   "cell_type": "code",
   "execution_count": 2,
   "outputs": [
    {
     "name": "stdout",
     "output_type": "stream",
     "text": [
      "Recompiling: \n"
     ]
    },
    {
     "data": {
      "text/plain": "'Utility Functions V1.0.4 \\n'"
     },
     "execution_count": 2,
     "metadata": {},
     "output_type": "execute_result"
    },
    {
     "name": "stderr",
     "output_type": "stream",
     "text": [
      "Info in <TMacOSXSystem::ACLiC>: creating shared library /System/Volumes/Data/data/HPS/Analysis/MC2021/./../Python/Utility_Functions_C.so\n"
     ]
    }
   ],
   "source": [
    "import os\n",
    "recompile = True\n",
    "try:\n",
    "    if os.path.getmtime('../Python/Utility_Functions_C.so') - os.path.getmtime('../Python/Utility_Functions.C') > 0:\n",
    "        recompile = False\n",
    "        print(\"Recompile is not needed\")\n",
    "    else:\n",
    "        print(\"Recompiling: \")\n",
    "except:\n",
    "    print(\"Recompile needed, file not found.\")\n",
    "if recompile:\n",
    "    R.gROOT.LoadMacro(\"../Python/Utility_Functions.C++\")\n",
    "else:\n",
    "    R.gSystem.Load(\"../Python/Utility_Functions_C.so\")\n",
    "R.Utility_Functions()"
   ],
   "metadata": {
    "collapsed": false
   }
  },
  {
   "cell_type": "code",
   "execution_count": 2,
   "outputs": [
    {
     "name": "stderr",
     "output_type": "stream",
     "text": [
      "Info in <TMacOSXSystem::ACLiC>: creating shared library /System/Volumes/Data/data/HPS/Analysis/MC2021/./../Python/Utility_Functions_C.so\n"
     ]
    }
   ],
   "source": [],
   "metadata": {
    "collapsed": false
   }
  },
  {
   "cell_type": "code",
   "execution_count": 3,
   "outputs": [
    {
     "name": "stdout",
     "output_type": "stream",
     "text": [
      "Number of events loaded:   0.032M\n"
     ]
    }
   ],
   "source": [
    "ch = R.TChain(\"MiniDST\")\n",
    "ch.Add(\"/data/HPS/data/physrun2021/sim/hpsForward_e-_3.0GeV_z0.0_0_SLIC-v06-00-01_QGSP_BERT_HPS-v2019-3pt7GeV_recon.root\")\n",
    "# ch.Add(\"/data/HPS/data/physrun2021/pass0/minidst/hps_0147*.root\")\n",
    "print(f\"Number of events loaded: {ch.GetEntries()/1e6:7.3f}M\")"
   ],
   "metadata": {
    "collapsed": false
   }
  },
  {
   "cell_type": "code",
   "execution_count": 4,
   "outputs": [
    {
     "name": "stdout",
     "output_type": "stream",
     "text": [
      "Available data names in Tuple:\n",
      "\n",
      "ecal_cluster_energy           ecal_cluster_hits             ecal_cluster_nhits            ecal_cluster_seed_energy      \n",
      "ecal_cluster_seed_index       ecal_cluster_seed_ix          ecal_cluster_seed_iy          ecal_cluster_time             \n",
      "ecal_cluster_uncor_energy     ecal_cluster_uncor_hits       ecal_cluster_uncor_nhits      ecal_cluster_uncor_seed_energy\n",
      "ecal_cluster_uncor_seed_index ecal_cluster_uncor_seed_ix    ecal_cluster_uncor_seed_iy    ecal_cluster_uncor_time       \n",
      "ecal_cluster_uncor_x          ecal_cluster_uncor_y          ecal_cluster_uncor_z          ecal_cluster_x                \n",
      "ecal_cluster_y                ecal_cluster_z                ecal_hit_energy               ecal_hit_index_x              \n",
      "ecal_hit_index_y              ecal_hit_time                 event_number                  ext_trigger                   \n",
      "hodo_cluster_energy           hodo_cluster_ix               hodo_cluster_iy               hodo_cluster_layer            \n",
      "hodo_cluster_time             hodo_hit_energy               hodo_hit_hole                 hodo_hit_index_x              \n",
      "hodo_hit_index_y              hodo_hit_layer                hodo_hit_time                 mc_part_charge                \n",
      "mc_part_daughters             mc_part_end_x                 mc_part_end_y                 mc_part_end_z                 \n",
      "mc_part_energy                mc_part_gen_status            mc_part_id                    mc_part_mass                  \n",
      "mc_part_parents               mc_part_pdg_id                mc_part_px                    mc_part_py                    \n",
      "mc_part_pz                    mc_part_simstatus             mc_part_time                  mc_part_x                     \n",
      "mc_part_y                     mc_part_z                     mc_score_part_idx             mc_score_pdg                  \n",
      "mc_score_px                   mc_score_py                   mc_score_pz                   mc_score_time                 \n",
      "mc_score_type                 mc_score_x                    mc_score_y                    mc_score_z                    \n",
      "part_charge                   part_ecal_cluster             part_energy                   part_goodness_of_pid          \n",
      "part_lcio_type                part_mass                     part_pdg                      part_px                       \n",
      "part_py                       part_pz                       part_track                    part_track_chi2               \n",
      "part_type                     rf_time1                      rf_time2                      run_number                    \n",
      "svt_status                    time_stamp                    track_chi2                    track_covmatrix               \n",
      "track_d0                      track_gbl_ref                 track_isolation               track_lambda_kinks            \n",
      "track_n_gbl                   track_n_hits                  track_n_kf                    track_n_matched               \n",
      "track_omega                   track_particle                track_phi0                    track_phi_kinks               \n",
      "track_px                      track_py                      track_pz                      track_ref                     \n",
      "track_svt_hits                track_tan_lambda              track_time                    track_type                    \n",
      "track_volume                  track_x_at_ecal               track_y_at_ecal               track_z0                      \n",
      "track_z_at_ecal               trigger                       v0_charge                     v0_em_chi2                    \n",
      "v0_em_clus                    v0_em_clus_energy             v0_em_clus_ix                 v0_em_clus_iy                 \n",
      "v0_em_clus_pos_x              v0_em_clus_pos_y              v0_em_clus_time               v0_em_good_pid                \n",
      "v0_em_p                       v0_em_part                    v0_em_pos_ecal_x              v0_em_pos_ecal_y              \n",
      "v0_em_track                   v0_em_track_nhit              v0_em_track_time              v0_energy                     \n",
      "v0_ep_chi2                    v0_ep_clus                    v0_ep_clus_energy             v0_ep_clus_ix                 \n",
      "v0_ep_clus_iy                 v0_ep_clus_pos_x              v0_ep_clus_pos_y              v0_ep_clus_time               \n",
      "v0_ep_good_pid                v0_ep_p                       v0_ep_part                    v0_ep_pos_ecal_x              \n",
      "v0_ep_pos_ecal_y              v0_ep_track                   v0_ep_track_nhit              v0_ep_track_time              \n",
      "v0_goodness_of_pid            v0_lcio_type                  v0_mass                       v0_mass_err                   \n",
      "v0_pdg                        v0_px                         v0_py                         v0_pz                         \n",
      "v0_type                       v0_vertex_chi2                v0_vertex_prob                v0_vertex_x                   \n",
      "v0_vertex_y                   v0_vertex_z                   "
     ]
    }
   ],
   "source": [
    "df = R.RDataFrame(ch)\n",
    "print(\"Available data names in Tuple:\")\n",
    "ColumnNames=df.GetColumnNames()\n",
    "ll = 0\n",
    "pr_colnames = [x for x in ColumnNames if str(x).startswith('')]\n",
    "for nn in pr_colnames:\n",
    "    if ll < len(nn):\n",
    "        ll = len(nn)\n",
    "for n in range(len(pr_colnames)):\n",
    "    if n%4 == 0:\n",
    "        print(\"\")\n",
    "    print(f\"{str(pr_colnames[n]):{ll}s}\",end=\"\")"
   ],
   "metadata": {
    "collapsed": false
   }
  },
  {
   "cell_type": "code",
   "execution_count": 5,
   "outputs": [],
   "source": [
    "ones = None\n",
    "event=108\n",
    "c_name = \"cc\"+str(event)\n",
    "cc1 = R.TCanvas(\"cc1\",\"Canvas\",1000,600)"
   ],
   "metadata": {
    "collapsed": false
   }
  },
  {
   "cell_type": "code",
   "execution_count": 6,
   "outputs": [
    {
     "name": "stdout",
     "output_type": "stream",
     "text": [
      "Booking histogram h_ecal_oneslb\n"
     ]
    },
    {
     "data": {
      "text/plain": "<IPython.core.display.HTML object>",
      "text/html": "\n\n<div id=\"root_plot_1678628359997\"\n     style=\"width: 996px; height: 572px\">\n</div>\n<script>\n\nfunction display_root_plot_1678628359997(Core) {\n   let obj = Core.parse({\"_typename\":\"TCanvas\",\"fUniqueID\":0,\"fBits\":3342344,\"fLineColor\":1,\"fLineStyle\":1,\"fLineWidth\":1,\"fFillColor\":0,\"fFillStyle\":1001,\"fLeftMargin\":0.1,\"fRightMargin\":0.1,\"fBottomMargin\":0.1,\"fTopMargin\":0.1,\"fXfile\":2,\"fYfile\":2,\"fAfile\":1,\"fXstat\":0.99,\"fYstat\":0.99,\"fAstat\":2,\"fFrameFillColor\":0,\"fFrameLineColor\":1,\"fFrameFillStyle\":1001,\"fFrameLineStyle\":1,\"fFrameLineWidth\":1,\"fFrameBorderSize\":1,\"fFrameBorderMode\":0,\"fX1\":-31.7500004656613,\"fY1\":-8.12500012107194,\"fX2\":30.7500004656613,\"fY2\":8.12500012107194,\"fXtoAbsPixelk\":505.968049881268,\"fXtoPixelk\":505.968049881268,\"fXtoPixel\":15.9359997625351,\"fYtoAbsPixelk\":286.00005,\"fYtoPixelk\":286.00005,\"fYtoPixel\":-35.1999994754791,\"fUtoAbsPixelk\":5e-5,\"fUtoPixelk\":5e-5,\"fUtoPixel\":996,\"fVtoAbsPixelk\":572.00005,\"fVtoPixelk\":572,\"fVtoPixel\":-572,\"fAbsPixeltoXk\":-31.7500004656613,\"fPixeltoXk\":-31.7500004656613,\"fPixeltoX\":0.0627510049511271,\"fAbsPixeltoYk\":8.12500012107194,\"fPixeltoYk\":-8.12500012107194,\"fPixeltoY\":-0.0284090913324194,\"fXlowNDC\":0,\"fYlowNDC\":0,\"fXUpNDC\":1,\"fYUpNDC\":1,\"fWNDC\":1,\"fHNDC\":1,\"fAbsXlowNDC\":0,\"fAbsYlowNDC\":0,\"fAbsWNDC\":1,\"fAbsHNDC\":1,\"fUxmin\":-25.5,\"fUymin\":-6.5,\"fUxmax\":24.5,\"fUymax\":6.5,\"fTheta\":30,\"fPhi\":30,\"fAspectRatio\":0,\"fNumber\":0,\"fTickx\":0,\"fTicky\":0,\"fLogx\":0,\"fLogy\":0,\"fLogz\":0,\"fPadPaint\":0,\"fCrosshair\":0,\"fCrosshairPos\":0,\"fBorderSize\":2,\"fBorderMode\":0,\"fModified\":false,\"fGridx\":false,\"fGridy\":false,\"fAbsCoord\":false,\"fEditable\":true,\"fFixedAspectRatio\":false,\"fPrimitives\":{\"_typename\":\"TList\",\"name\":\"TList\",\"arr\":[{\"_typename\":\"TFrame\",\"fUniqueID\":0,\"fBits\":8,\"fLineColor\":1,\"fLineStyle\":1,\"fLineWidth\":1,\"fFillColor\":0,\"fFillStyle\":1001,\"fX1\":-25.5,\"fY1\":-6.5,\"fX2\":24.5,\"fY2\":6.5,\"fBorderSize\":1,\"fBorderMode\":0},{\"_typename\":\"TH2D\",\"fUniqueID\":0,\"fBits\":520,\"fName\":\"h_ecal\",\"fTitle\":\"Ecal Hits\",\"fLineColor\":602,\"fLineStyle\":1,\"fLineWidth\":1,\"fFillColor\":0,\"fFillStyle\":1001,\"fMarkerColor\":1,\"fMarkerStyle\":1,\"fMarkerSize\":1,\"fNcells\":780,\"fXaxis\":{\"_typename\":\"TAxis\",\"fUniqueID\":0,\"fBits\":0,\"fName\":\"xaxis\",\"fTitle\":\"\",\"fNdivisions\":510,\"fAxisColor\":1,\"fLabelColor\":1,\"fLabelFont\":42,\"fLabelOffset\":0.005,\"fLabelSize\":0.035,\"fTickLength\":0.03,\"fTitleOffset\":1,\"fTitleSize\":0.035,\"fTitleColor\":1,\"fTitleFont\":42,\"fNbins\":50,\"fXmin\":-25.5,\"fXmax\":24.5,\"fXbins\":[],\"fFirst\":0,\"fLast\":0,\"fBits2\":0,\"fTimeDisplay\":false,\"fTimeFormat\":\"\",\"fLabels\":null,\"fModLabs\":null},\"fYaxis\":{\"_typename\":\"TAxis\",\"fUniqueID\":0,\"fBits\":0,\"fName\":\"yaxis\",\"fTitle\":\"\",\"fNdivisions\":510,\"fAxisColor\":1,\"fLabelColor\":1,\"fLabelFont\":42,\"fLabelOffset\":0.005,\"fLabelSize\":0.035,\"fTickLength\":0.03,\"fTitleOffset\":0,\"fTitleSize\":0.035,\"fTitleColor\":1,\"fTitleFont\":42,\"fNbins\":13,\"fXmin\":-6.5,\"fXmax\":6.5,\"fXbins\":[],\"fFirst\":0,\"fLast\":0,\"fBits2\":0,\"fTimeDisplay\":false,\"fTimeFormat\":\"\",\"fLabels\":null,\"fModLabs\":null},\"fZaxis\":{\"_typename\":\"TAxis\",\"fUniqueID\":0,\"fBits\":0,\"fName\":\"zaxis\",\"fTitle\":\"\",\"fNdivisions\":510,\"fAxisColor\":1,\"fLabelColor\":1,\"fLabelFont\":42,\"fLabelOffset\":0.005,\"fLabelSize\":0.035,\"fTickLength\":0.03,\"fTitleOffset\":1,\"fTitleSize\":0.035,\"fTitleColor\":1,\"fTitleFont\":42,\"fNbins\":1,\"fXmin\":0,\"fXmax\":1,\"fXbins\":[],\"fFirst\":0,\"fLast\":0,\"fBits2\":0,\"fTimeDisplay\":false,\"fTimeFormat\":\"\",\"fLabels\":null,\"fModLabs\":null},\"fBarOffset\":0,\"fBarWidth\":1000,\"fEntries\":9,\"fTsumw\":2.5326279476285,\"fTsumw2\":2.07863846536706,\"fTsumwx\":21.5991295129061,\"fTsumwx2\":185.027676619589,\"fMaximum\":-1111,\"fMinimum\":-1111,\"fNormFactor\":0,\"fContour\":{\"$arr\":\"Float64\",\"len\":20,\"p\":1,\"v\":[0.0573717534542084,0.114743506908417,0.172115260362625,0.229487013816834,0.286858767271042,0.34423052072525,0.401602274179459,0.458974027633667,0.516345781087875,0.573717534542084,0.631089287996292,0.688461041450501,0.745832794904709,0.803204548358917,0.860576301813126,0.917948055267334,0.975319808721542,1.03269156217575,1.09006331562996]},\"fSumw2\":{\"$arr\":\"Float64\",\"len\":780,\"p\":190,\"v\":0.00102992500031901,\"p1\":242,\"v1\":[0.0328461524091495,0.013869687213926,9.91097553304857e-4],\"p2\":293,\"v2\":[0.00414244938801206,0.701477595891792,1.31660723776419],\"p3\":346,\"v3\":[0.00215387685763636,0.00552044328873263]},\"fOption\":\"\",\"fFunctions\":{\"_typename\":\"TList\",\"name\":\"TList\",\"arr\":[{\"_typename\":\"TPaletteAxis\",\"fUniqueID\":0,\"fBits\":0,\"fLineColor\":1,\"fLineStyle\":1,\"fLineWidth\":1,\"fFillColor\":1178,\"fFillStyle\":1001,\"fX1\":24.8125000046566,\"fY1\":-6.5,\"fX2\":27.6250000465661,\"fY2\":6.5,\"fX1NDC\":0.904999994039535,\"fY1NDC\":0.100000005960465,\"fX2NDC\":0.949999994039535,\"fY2NDC\":0.899999994039535,\"fBorderSize\":4,\"fInit\":1,\"fShadowColor\":1,\"fCornerRadius\":0,\"fOption\":\"br\",\"fName\":\"palette\",\"fAxis\":{\"_typename\":\"TGaxis\",\"fUniqueID\":0,\"fBits\":0,\"fLineColor\":1,\"fLineStyle\":1,\"fLineWidth\":1,\"fX1\":0,\"fY1\":0,\"fX2\":0,\"fY2\":0,\"fTextAngle\":0,\"fTextSize\":0.04,\"fTextAlign\":11,\"fTextColor\":1,\"fTextFont\":42,\"fWmin\":0,\"fWmax\":0,\"fGridLength\":0,\"fTickSize\":0.03,\"fLabelOffset\":0.005,\"fLabelSize\":0.035,\"fTitleOffset\":1,\"fTitleSize\":0.035,\"fNdiv\":0,\"fLabelColor\":1,\"fLabelFont\":42,\"fNModLabs\":0,\"fChopt\":\"\",\"fName\":\"\",\"fTitle\":\"\",\"fTimeFormat\":\"\",\"fFunctionName\":\"\",\"fModLabs\":null}}],\"opt\":[\"br\"]},\"fBufferSize\":0,\"fBuffer\":[],\"fBinStatErrOpt\":0,\"fStatOverflows\":2,\"fScalefactor\":1,\"fTsumwy\":-5.33921763300896,\"fTsumwy2\":11.8059244975448,\"fTsumwxy\":-45.496386282146,\"fArray\":{\"$arr\":\"Float64\",\"len\":780,\"p\":190,\"v\":0.0320924445986748,\"p1\":242,\"v1\":[0.181235074996948,0.117769636213779,0.0314817018806934],\"p2\":293,\"v2\":[0.0643618628382683,0.837542593479156,1.14743506908417],\"p3\":346,\"v3\":[0.0464098788797855,0.0742996856570244]}},{\"_typename\":\"TH2F\",\"fUniqueID\":0,\"fBits\":8,\"fName\":\"h_ecal_oneslb\",\"fTitle\":\"oneslb\",\"fLineColor\":602,\"fLineStyle\":1,\"fLineWidth\":1,\"fFillColor\":0,\"fFillStyle\":1001,\"fMarkerColor\":1,\"fMarkerStyle\":1,\"fMarkerSize\":1,\"fNcells\":765,\"fXaxis\":{\"_typename\":\"TAxis\",\"fUniqueID\":0,\"fBits\":0,\"fName\":\"xaxis\",\"fTitle\":\"x crystal index\",\"fNdivisions\":510,\"fAxisColor\":1,\"fLabelColor\":1,\"fLabelFont\":42,\"fLabelOffset\":0.005,\"fLabelSize\":0.035,\"fTickLength\":0.03,\"fTitleOffset\":1,\"fTitleSize\":0.035,\"fTitleColor\":1,\"fTitleFont\":42,\"fNbins\":49,\"fXmin\":-24.5,\"fXmax\":24.5,\"fXbins\":[],\"fFirst\":0,\"fLast\":0,\"fBits2\":0,\"fTimeDisplay\":false,\"fTimeFormat\":\"\",\"fLabels\":null,\"fModLabs\":null},\"fYaxis\":{\"_typename\":\"TAxis\",\"fUniqueID\":0,\"fBits\":0,\"fName\":\"yaxis\",\"fTitle\":\"y crystal index\",\"fNdivisions\":510,\"fAxisColor\":1,\"fLabelColor\":1,\"fLabelFont\":42,\"fLabelOffset\":0.005,\"fLabelSize\":0.035,\"fTickLength\":0.03,\"fTitleOffset\":0,\"fTitleSize\":0.035,\"fTitleColor\":1,\"fTitleFont\":42,\"fNbins\":13,\"fXmin\":-6.5,\"fXmax\":6.5,\"fXbins\":[],\"fFirst\":0,\"fLast\":0,\"fBits2\":0,\"fTimeDisplay\":false,\"fTimeFormat\":\"\",\"fLabels\":null,\"fModLabs\":null},\"fZaxis\":{\"_typename\":\"TAxis\",\"fUniqueID\":0,\"fBits\":0,\"fName\":\"zaxis\",\"fTitle\":\"\",\"fNdivisions\":510,\"fAxisColor\":1,\"fLabelColor\":1,\"fLabelFont\":42,\"fLabelOffset\":0.005,\"fLabelSize\":0.035,\"fTickLength\":0.03,\"fTitleOffset\":1,\"fTitleSize\":0.035,\"fTitleColor\":1,\"fTitleFont\":42,\"fNbins\":1,\"fXmin\":0,\"fXmax\":1,\"fXbins\":[],\"fFirst\":0,\"fLast\":0,\"fBits2\":0,\"fTimeDisplay\":false,\"fTimeFormat\":\"\",\"fLabels\":null,\"fModLabs\":null},\"fBarOffset\":0,\"fBarWidth\":1000,\"fEntries\":432,\"fTsumw\":568.774326714129,\"fTsumw2\":748.85239520627,\"fTsumwx\":155.359654056174,\"fTsumwx2\":112835.873490866,\"fMaximum\":-1111,\"fMinimum\":-1111,\"fNormFactor\":0,\"fContour\":[],\"fSumw2\":{\"$arr\":\"Float64\",\"len\":765,\"p\":104,\"v\":1.31660723776419,\"n\":22,\"p1\":128,\"v1\":1.31660723776419,\"n1\":23,\"p2\":155,\"v2\":1.31660723776419,\"n2\":22,\"p3\":179,\"v3\":1.31660723776419,\"n3\":23,\"p4\":206,\"v4\":1.31660723776419,\"n4\":22,\"p5\":230,\"v5\":1.31660723776419,\"n5\":23,\"p6\":257,\"v6\":1.31660723776419,\"n6\":22,\"p7\":281,\"v7\":1.31660723776419,\"n7\":23,\"p8\":308,\"v8\":1.31660723776419,\"n8\":13,\"p9\":332,\"v9\":1.31660723776419,\"n9\":23,\"p10\":410,\"v10\":1.31660723776419,\"n10\":13,\"p11\":434,\"v11\":1.31660723776419,\"n11\":23,\"p12\":461,\"v12\":1.31660723776419,\"n12\":22,\"p13\":485,\"v13\":1.31660723776419,\"n13\":23,\"p14\":512,\"v14\":1.31660723776419,\"n14\":22,\"p15\":536,\"v15\":1.31660723776419,\"n15\":23,\"p16\":563,\"v16\":1.31660723776419,\"n16\":22,\"p17\":587,\"v17\":1.31660723776419,\"n17\":23,\"p18\":614,\"v18\":1.31660723776419,\"n18\":22,\"p19\":638,\"v19\":1.31660723776419,\"n19\":23},\"fOption\":\"\",\"fFunctions\":{\"_typename\":\"TList\",\"name\":\"TList\",\"arr\":[],\"opt\":[]},\"fBufferSize\":0,\"fBuffer\":[],\"fBinStatErrOpt\":0,\"fStatOverflows\":2,\"fScalefactor\":1,\"fTsumwy\":0,\"fTsumwy2\":6493.50689665298,\"fTsumwxy\":0,\"fArray\":{\"$arr\":\"Float32\",\"len\":765,\"p\":104,\"v\":1.147435,\"n\":22,\"p1\":128,\"v1\":1.147435,\"n1\":23,\"p2\":155,\"v2\":1.147435,\"n2\":22,\"p3\":179,\"v3\":1.147435,\"n3\":23,\"p4\":206,\"v4\":1.147435,\"n4\":22,\"p5\":230,\"v5\":1.147435,\"n5\":23,\"p6\":257,\"v6\":1.147435,\"n6\":22,\"p7\":281,\"v7\":1.147435,\"n7\":23,\"p8\":308,\"v8\":1.147435,\"n8\":13,\"p9\":332,\"v9\":1.147435,\"n9\":23,\"p10\":410,\"v10\":1.147435,\"n10\":13,\"p11\":434,\"v11\":1.147435,\"n11\":23,\"p12\":461,\"v12\":1.147435,\"n12\":22,\"p13\":485,\"v13\":1.147435,\"n13\":23,\"p14\":512,\"v14\":1.147435,\"n14\":22,\"p15\":536,\"v15\":1.147435,\"n15\":23,\"p16\":563,\"v16\":1.147435,\"n16\":22,\"p17\":587,\"v17\":1.147435,\"n17\":23,\"p18\":614,\"v18\":1.147435,\"n18\":22,\"p19\":638,\"v19\":1.147435,\"n19\":23}},{\"_typename\":\"TPaveText\",\"fUniqueID\":0,\"fBits\":9,\"fLineColor\":1,\"fLineStyle\":1,\"fLineWidth\":1,\"fFillColor\":0,\"fFillStyle\":0,\"fX1\":-4.95281131133198,\"fY1\":7.15000017071143,\"fX2\":3.95281131133198,\"fY2\":8.04375019734726,\"fX1NDC\":0.428755020080321,\"fY1NDC\":0.940000003948808,\"fX2NDC\":0.571244979919679,\"fY2NDC\":0.995000004768372,\"fBorderSize\":0,\"fInit\":1,\"fShadowColor\":1,\"fCornerRadius\":0,\"fOption\":\"blNDC\",\"fName\":\"title\",\"fTextAngle\":0,\"fTextSize\":0,\"fTextAlign\":22,\"fTextColor\":1,\"fTextFont\":42,\"fLabel\":\"\",\"fLongest\":9,\"fMargin\":0.05,\"fLines\":{\"_typename\":\"TList\",\"name\":\"TList\",\"arr\":[{\"_typename\":\"TLatex\",\"fUniqueID\":0,\"fBits\":0,\"fName\":\"\",\"fTitle\":\"Ecal Hits\",\"fTextAngle\":0,\"fTextSize\":0,\"fTextAlign\":0,\"fTextColor\":0,\"fTextFont\":0,\"fX\":0,\"fY\":0,\"fLineColor\":1,\"fLineStyle\":1,\"fLineWidth\":2,\"fLimitFactorSize\":3,\"fOriginSize\":0.0467500016093254}],\"opt\":[\"\"]}},{\"_typename\":\"TStyle\",\"fUniqueID\":0,\"fBits\":0,\"fName\":\"Modern\",\"fTitle\":\"Modern Style\",\"fLineColor\":1,\"fLineStyle\":1,\"fLineWidth\":1,\"fFillColor\":19,\"fFillStyle\":1001,\"fMarkerColor\":1,\"fMarkerStyle\":1,\"fMarkerSize\":1,\"fTextAngle\":0,\"fTextSize\":0.05,\"fTextAlign\":11,\"fTextColor\":1,\"fTextFont\":62,\"fXaxis\":{\"_typename\":\"TAttAxis\",\"fNdivisions\":510,\"fAxisColor\":1,\"fLabelColor\":1,\"fLabelFont\":42,\"fLabelOffset\":0.005,\"fLabelSize\":0.035,\"fTickLength\":0.03,\"fTitleOffset\":1,\"fTitleSize\":0.035,\"fTitleColor\":1,\"fTitleFont\":42},\"fYaxis\":{\"_typename\":\"TAttAxis\",\"fNdivisions\":510,\"fAxisColor\":1,\"fLabelColor\":1,\"fLabelFont\":42,\"fLabelOffset\":0.005,\"fLabelSize\":0.035,\"fTickLength\":0.03,\"fTitleOffset\":0,\"fTitleSize\":0.035,\"fTitleColor\":1,\"fTitleFont\":42},\"fZaxis\":{\"_typename\":\"TAttAxis\",\"fNdivisions\":510,\"fAxisColor\":1,\"fLabelColor\":1,\"fLabelFont\":42,\"fLabelOffset\":0.005,\"fLabelSize\":0.035,\"fTickLength\":0.03,\"fTitleOffset\":1,\"fTitleSize\":0.035,\"fTitleColor\":1,\"fTitleFont\":42},\"fBarWidth\":1,\"fBarOffset\":0,\"fColorModelPS\":0,\"fDrawBorder\":0,\"fOptLogx\":0,\"fOptLogy\":0,\"fOptLogz\":0,\"fOptDate\":0,\"fOptStat\":1111,\"fOptTitle\":1,\"fOptFile\":0,\"fOptFit\":0,\"fShowEventStatus\":0,\"fShowEditor\":0,\"fShowToolBar\":0,\"fNumberContours\":20,\"fAttDate\":{\"_typename\":\"TAttText\",\"fTextAngle\":0,\"fTextSize\":0.025,\"fTextAlign\":11,\"fTextColor\":1,\"fTextFont\":62},\"fDateX\":0.01,\"fDateY\":0.01,\"fEndErrorSize\":2,\"fErrorX\":0.5,\"fFuncColor\":2,\"fFuncStyle\":1,\"fFuncWidth\":2,\"fGridColor\":0,\"fGridStyle\":3,\"fGridWidth\":1,\"fLegendBorderSize\":1,\"fLegendFillColor\":0,\"fLegendFont\":42,\"fLegendTextSize\":0,\"fHatchesLineWidth\":1,\"fHatchesSpacing\":1,\"fFrameFillColor\":0,\"fFrameLineColor\":1,\"fFrameFillStyle\":1001,\"fFrameLineStyle\":1,\"fFrameLineWidth\":1,\"fFrameBorderSize\":1,\"fFrameBorderMode\":0,\"fHistFillColor\":0,\"fHistLineColor\":602,\"fHistFillStyle\":1001,\"fHistLineStyle\":1,\"fHistLineWidth\":1,\"fHistMinimumZero\":false,\"fHistTopMargin\":0.05,\"fCanvasPreferGL\":false,\"fCanvasColor\":0,\"fCanvasBorderSize\":2,\"fCanvasBorderMode\":0,\"fCanvasDefH\":500,\"fCanvasDefW\":700,\"fCanvasDefX\":10,\"fCanvasDefY\":10,\"fPadColor\":0,\"fPadBorderSize\":2,\"fPadBorderMode\":0,\"fPadBottomMargin\":0.1,\"fPadTopMargin\":0.1,\"fPadLeftMargin\":0.1,\"fPadRightMargin\":0.1,\"fPadGridX\":false,\"fPadGridY\":false,\"fPadTickX\":0,\"fPadTickY\":0,\"fPaperSizeX\":20,\"fPaperSizeY\":26,\"fScreenFactor\":1,\"fStatColor\":0,\"fStatTextColor\":1,\"fStatBorderSize\":1,\"fStatFont\":42,\"fStatFontSize\":0,\"fStatStyle\":1001,\"fStatFormat\":\"6.4g\",\"fStatX\":0.98,\"fStatY\":0.935,\"fStatW\":0.2,\"fStatH\":0.16,\"fStripDecimals\":true,\"fTitleAlign\":23,\"fTitleColor\":0,\"fTitleTextColor\":1,\"fTitleBorderSize\":0,\"fTitleFont\":42,\"fTitleFontSize\":0.05,\"fTitleStyle\":0,\"fTitleX\":0.5,\"fTitleY\":0.995,\"fTitleW\":0,\"fTitleH\":0,\"fLegoInnerR\":0.5,\"fLineStyles\":[\"\",\"  \",\" 12 12\",\" 4 8\",\" 12 16 4 16\",\" 20 12 4 12\",\" 20 12 4 12 4 12 4 12\",\" 20 20\",\" 20 12 4 12 4 12\",\" 80 20\",\" 80 40 4 40\",\"  \",\"  \",\"  \",\"  \",\"  \",\"  \",\"  \",\"  \",\"  \",\"  \",\"  \",\"  \",\"  \",\"  \",\"  \",\"  \",\"  \",\"  \",\"  \"],\"fHeaderPS\":\"\",\"fTitlePS\":\"\",\"fFitFormat\":\"5.4g\",\"fPaintTextFormat\":\"g\",\"fLineScalePS\":3,\"fJoinLinePS\":0,\"fCapLinePS\":0,\"fTimeOffset\":788918400,\"fImageScaling\":1}],\"opt\":[\"\",\"colz\",\"boxsame\",\"blNDC\",\"\"]},\"fExecs\":null,\"fName\":\"cc1\",\"fTitle\":\"Canvas\",\"fNumPaletteColor\":0,\"fNextPaletteColor\":0,\"fDISPLAY\":\"$DISPLAY\",\"fDoubleBuffer\":0,\"fRetained\":true,\"fXsizeUser\":0,\"fYsizeUser\":0,\"fXsizeReal\":20,\"fYsizeReal\":12,\"fWindowTopX\":0,\"fWindowTopY\":0,\"fWindowWidth\":0,\"fWindowHeight\":0,\"fCw\":996,\"fCh\":572,\"fCatt\":{\"_typename\":\"TAttCanvas\",\"fXBetween\":2,\"fYBetween\":2,\"fTitleFromTop\":1.2,\"fXdate\":0.2,\"fYdate\":0.3,\"fAdate\":1},\"kMoveOpaque\":true,\"kResizeOpaque\":true,\"fHighLightColor\":2,\"fBatch\":true,\"kShowEventStatus\":false,\"kAutoExec\":true,\"kMenuBar\":true});\n   Core.settings.HandleKeys = false;\n   Core.draw(\"root_plot_1678628359997\", obj, \"\");\n}\n\nfunction script_load_root_plot_1678628359997(src, on_error) {\n    let script = document.createElement('script');\n    script.src = src;\n    script.onload = function() { display_root_plot_1678628359997(JSROOT); };\n    script.onerror = function() { script.remove(); on_error(); };\n    document.head.appendChild(script);\n}\n\nif (typeof requirejs !== 'undefined') {\n\n    // We are in jupyter notebooks, use require.js which should be configured already\n    requirejs.config({\n       paths: { 'JSRootCore' : [ 'build/jsroot', 'https://root.cern/js/7.2.1/build/jsroot', 'https://jsroot.gsi.de/7.2.1/build/jsroot' ] }\n    })(['JSRootCore'],  function(Core) {\n       display_root_plot_1678628359997(Core);\n    });\n\n} else if (typeof JSROOT !== 'undefined') {\n\n   // JSROOT already loaded, just use it\n   display_root_plot_1678628359997(JSROOT);\n\n} else {\n\n    // We are in jupyterlab without require.js, directly loading jsroot\n    // Jupyterlab might be installed in a different base_url so we need to know it.\n    try {\n        var base_url = JSON.parse(document.getElementById('jupyter-config-data').innerHTML).baseUrl;\n    } catch(_) {\n        var base_url = '/';\n    }\n\n    // Try loading a local version of requirejs and fallback to cdn if not possible.\n    script_load_root_plot_1678628359997(base_url + 'static/build/jsroot.js', function(){\n        console.error('Fail to load JSROOT locally, please check your jupyter_notebook_config.py file');\n        script_load_root_plot_1678628359997('https://root.cern/js/7.2.1/build/jsroot.js', function(){\n            document.getElementById(\"root_plot_1678628359997\").innerHTML = \"Failed to load JSROOT\";\n        });\n    });\n}\n\n</script>\n"
     },
     "metadata": {},
     "output_type": "display_data"
    }
   ],
   "source": [
    "cc1.Clear()\n",
    "dfr = df.Range(event,event+1)\n",
    "# p0 = dfr.Display((\"run_number\",\"event_number\",\"ecal_cluster_nhits\"))\n",
    "# p1 = dfr.Display((\"ecal_cluster_energy\",\"ecal_cluster_time\",\"ecal_cluster_hits\",\"ecal_cluster_seed_index\"))\n",
    "# p2 = dfr.Display((\"ecal_hit_energy\",\"ecal_hit_time\",\"ecal_hit_index_x\",\"ecal_hit_index_y\"))\n",
    "h_ecal = dfr.Histo2D((\"h_ecal\",\"Ecal Hits\",50,-25.5,24.5,13,-6.5,6.5),\"ecal_hit_index_x\", \"ecal_hit_index_y\", \"ecal_hit_energy\")\n",
    "# p0.Print()\n",
    "# p1.Print()\n",
    "# p2.Print()\n",
    "h_draw = h_ecal.GetPtr()\n",
    "ones = fancy_plot(h_ecal, ones, 0x0)\n",
    "cc1.Draw()\n",
    "# event +=1"
   ],
   "metadata": {
    "collapsed": false
   }
  },
  {
   "cell_type": "code",
   "execution_count": 7,
   "outputs": [
    {
     "data": {
      "text/plain": "0"
     },
     "execution_count": 7,
     "metadata": {},
     "output_type": "execute_result"
    }
   ],
   "source": [
    "R.gSystem.Load(\"/data/HPS/lib/libMiniDst\")"
   ],
   "metadata": {
    "collapsed": false
   }
  },
  {
   "cell_type": "code",
   "execution_count": 8,
   "outputs": [
    {
     "name": "stdout",
     "output_type": "stream",
     "text": [
      "MminiDST version = 1.0.8\n"
     ]
    },
    {
     "name": "stderr",
     "output_type": "stream",
     "text": [
      "Error in <TBranchElement::InitInfo>: StreamerInfo is not compiled.\n",
      "Error in <TBranchElement::InitInfo>: StreamerInfo is not compiled.\n",
      "Error in <TBranchElement::InitInfo>: StreamerInfo is not compiled.\n",
      "Error in <TBranchElement::InitInfo>: StreamerInfo is not compiled.\n",
      "Error in <TBranchElement::InitInfo>: StreamerInfo is not compiled.\n"
     ]
    }
   ],
   "source": [
    "# Setup the MiniDST class, which makes for easier event by event data inplection.\n",
    "# This MiniDST class looks directly into the TTree, so does not use the RDataframe class.\n",
    "# You need to:\n",
    "mdst = R.MiniDst()          # Initiate the class\n",
    "mdst.use_mc_particles=True  # Tell it to look for the MC Particles in the TTree\n",
    "mdst.use_ecal_cluster_uncor = True;\n",
    "mdst.use_mc_scoring =True;\n",
    "mdst.DefineBranchMap()      # Define the map of all the branches to the contents of the TTree\n",
    "mdst.SetBranchAddressesOnTree(ch) # Connect the TChain (which contains the TTree) to the class.\n",
    "print(f\"MminiDST version = {mdst._version_()}\")\n"
   ],
   "metadata": {
    "collapsed": false
   }
  },
  {
   "cell_type": "code",
   "execution_count": 9,
   "outputs": [],
   "source": [
    "def make_ecal_snaphot(mini_dst, hist, opt=0):\n",
    "    \"\"\"Return a 2D histogram for the ECal, with the energy of the hits on the z-axis\"\"\"\n",
    "    if hist is None:\n",
    "        hist = R.TH2D(\"hist_ecal\",\"Ecal Hits\",50,-25.5,24.5,13,-6.5,6.5)\n",
    "    else:\n",
    "        hist.Reset()\n",
    "    # Fill the histogram by looping over the ECal hits\n",
    "    for i in range(len(mini_dst.ecal_hit_index_x)):\n",
    "        hist.Fill(mini_dst.ecal_hit_index_x[i], mini_dst.ecal_hit_index_y[i], mini_dst.ecal_hit_energy[i])\n",
    "    return hist"
   ],
   "metadata": {
    "collapsed": false
   }
  },
  {
   "cell_type": "code",
   "execution_count": 10,
   "outputs": [],
   "source": [
    "cc2 = R.TCanvas(\"cc2\",\"Canvas\",1000,600)\n",
    "hh = None\n",
    "ones2 = None\n",
    "event = 108"
   ],
   "metadata": {
    "collapsed": false
   }
  },
  {
   "cell_type": "code",
   "execution_count": 11,
   "outputs": [
    {
     "name": "stdout",
     "output_type": "stream",
     "text": [
      "Booking histogram hist_ecal_oneslb\n"
     ]
    },
    {
     "name": "stderr",
     "output_type": "stream",
     "text": [
      "Error in <TBranchElement::InitInfo>: StreamerInfo is not compiled.\n",
      "Error in <TBranchElement::InitInfo>: StreamerInfo is not compiled.\n",
      "Error in <TBranchElement::InitInfo>: StreamerInfo is not compiled.\n",
      "Error in <TBranchElement::InitInfo>: StreamerInfo is not compiled.\n",
      "Error in <TBranchElement::InitInfo>: StreamerInfo is not compiled.\n"
     ]
    },
    {
     "data": {
      "text/plain": "<IPython.core.display.HTML object>",
      "text/html": "\n\n<div id=\"root_plot_1678656551850\"\n     style=\"width: 996px; height: 572px\">\n</div>\n<script>\n\nfunction display_root_plot_1678656551850(Core) {\n   let obj = Core.parse({\"_typename\":\"TCanvas\",\"fUniqueID\":0,\"fBits\":3342344,\"fLineColor\":1,\"fLineStyle\":1,\"fLineWidth\":1,\"fFillColor\":0,\"fFillStyle\":1001,\"fLeftMargin\":0.1,\"fRightMargin\":0.1,\"fBottomMargin\":0.1,\"fTopMargin\":0.1,\"fXfile\":2,\"fYfile\":2,\"fAfile\":1,\"fXstat\":0.99,\"fYstat\":0.99,\"fAstat\":2,\"fFrameFillColor\":0,\"fFrameLineColor\":1,\"fFrameFillStyle\":1001,\"fFrameLineStyle\":1,\"fFrameLineWidth\":1,\"fFrameBorderSize\":1,\"fFrameBorderMode\":0,\"fX1\":-31.7500004656613,\"fY1\":-8.12500012107194,\"fX2\":30.7500004656613,\"fY2\":8.12500012107194,\"fXtoAbsPixelk\":505.968049881268,\"fXtoPixelk\":505.968049881268,\"fXtoPixel\":15.9359997625351,\"fYtoAbsPixelk\":286.00005,\"fYtoPixelk\":286.00005,\"fYtoPixel\":-35.1999994754791,\"fUtoAbsPixelk\":5e-5,\"fUtoPixelk\":5e-5,\"fUtoPixel\":996,\"fVtoAbsPixelk\":572.00005,\"fVtoPixelk\":572,\"fVtoPixel\":-572,\"fAbsPixeltoXk\":-31.7500004656613,\"fPixeltoXk\":-31.7500004656613,\"fPixeltoX\":0.0627510049511271,\"fAbsPixeltoYk\":8.12500012107194,\"fPixeltoYk\":-8.12500012107194,\"fPixeltoY\":-0.0284090913324194,\"fXlowNDC\":0,\"fYlowNDC\":0,\"fXUpNDC\":1,\"fYUpNDC\":1,\"fWNDC\":1,\"fHNDC\":1,\"fAbsXlowNDC\":0,\"fAbsYlowNDC\":0,\"fAbsWNDC\":1,\"fAbsHNDC\":1,\"fUxmin\":-25.5,\"fUymin\":-6.5,\"fUxmax\":24.5,\"fUymax\":6.5,\"fTheta\":30,\"fPhi\":30,\"fAspectRatio\":0,\"fNumber\":0,\"fTickx\":0,\"fTicky\":0,\"fLogx\":0,\"fLogy\":0,\"fLogz\":0,\"fPadPaint\":0,\"fCrosshair\":0,\"fCrosshairPos\":0,\"fBorderSize\":2,\"fBorderMode\":0,\"fModified\":false,\"fGridx\":false,\"fGridy\":false,\"fAbsCoord\":false,\"fEditable\":true,\"fFixedAspectRatio\":false,\"fPrimitives\":{\"_typename\":\"TList\",\"name\":\"TList\",\"arr\":[{\"_typename\":\"TFrame\",\"fUniqueID\":0,\"fBits\":8,\"fLineColor\":1,\"fLineStyle\":1,\"fLineWidth\":1,\"fFillColor\":0,\"fFillStyle\":1001,\"fX1\":-25.5,\"fY1\":-6.5,\"fX2\":24.5,\"fY2\":6.5,\"fBorderSize\":1,\"fBorderMode\":0},{\"_typename\":\"TH2D\",\"fUniqueID\":0,\"fBits\":520,\"fName\":\"hist_ecal\",\"fTitle\":\"Ecal Hits\",\"fLineColor\":602,\"fLineStyle\":1,\"fLineWidth\":1,\"fFillColor\":0,\"fFillStyle\":1001,\"fMarkerColor\":1,\"fMarkerStyle\":1,\"fMarkerSize\":1,\"fNcells\":780,\"fXaxis\":{\"_typename\":\"TAxis\",\"fUniqueID\":0,\"fBits\":0,\"fName\":\"xaxis\",\"fTitle\":\"\",\"fNdivisions\":510,\"fAxisColor\":1,\"fLabelColor\":1,\"fLabelFont\":42,\"fLabelOffset\":0.005,\"fLabelSize\":0.035,\"fTickLength\":0.03,\"fTitleOffset\":1,\"fTitleSize\":0.035,\"fTitleColor\":1,\"fTitleFont\":42,\"fNbins\":50,\"fXmin\":-25.5,\"fXmax\":24.5,\"fXbins\":[],\"fFirst\":0,\"fLast\":0,\"fBits2\":0,\"fTimeDisplay\":false,\"fTimeFormat\":\"\",\"fLabels\":null,\"fModLabs\":null},\"fYaxis\":{\"_typename\":\"TAxis\",\"fUniqueID\":0,\"fBits\":0,\"fName\":\"yaxis\",\"fTitle\":\"\",\"fNdivisions\":510,\"fAxisColor\":1,\"fLabelColor\":1,\"fLabelFont\":42,\"fLabelOffset\":0.005,\"fLabelSize\":0.035,\"fTickLength\":0.03,\"fTitleOffset\":0,\"fTitleSize\":0.035,\"fTitleColor\":1,\"fTitleFont\":42,\"fNbins\":13,\"fXmin\":-6.5,\"fXmax\":6.5,\"fXbins\":[],\"fFirst\":0,\"fLast\":0,\"fBits2\":0,\"fTimeDisplay\":false,\"fTimeFormat\":\"\",\"fLabels\":null,\"fModLabs\":null},\"fZaxis\":{\"_typename\":\"TAxis\",\"fUniqueID\":0,\"fBits\":0,\"fName\":\"zaxis\",\"fTitle\":\"\",\"fNdivisions\":510,\"fAxisColor\":1,\"fLabelColor\":1,\"fLabelFont\":42,\"fLabelOffset\":0.005,\"fLabelSize\":0.035,\"fTickLength\":0.03,\"fTitleOffset\":1,\"fTitleSize\":0.035,\"fTitleColor\":1,\"fTitleFont\":42,\"fNbins\":1,\"fXmin\":0,\"fXmax\":1,\"fXbins\":[],\"fFirst\":0,\"fLast\":0,\"fBits2\":0,\"fTimeDisplay\":false,\"fTimeFormat\":\"\",\"fLabels\":null,\"fModLabs\":null},\"fBarOffset\":0,\"fBarWidth\":1000,\"fEntries\":9,\"fTsumw\":2.5326279476285,\"fTsumw2\":2.07863846536706,\"fTsumwx\":21.5991295129061,\"fTsumwx2\":185.027676619589,\"fMaximum\":-1111,\"fMinimum\":-1111,\"fNormFactor\":0,\"fContour\":{\"$arr\":\"Float64\",\"len\":20,\"p\":1,\"v\":[0.0573717534542084,0.114743506908417,0.172115260362625,0.229487013816834,0.286858767271042,0.34423052072525,0.401602274179459,0.458974027633667,0.516345781087875,0.573717534542084,0.631089287996292,0.688461041450501,0.745832794904709,0.803204548358917,0.860576301813126,0.917948055267334,0.975319808721542,1.03269156217575,1.09006331562996]},\"fSumw2\":{\"$arr\":\"Float64\",\"len\":780,\"p\":190,\"v\":0.00102992500031901,\"p1\":242,\"v1\":[0.0328461524091495,0.013869687213926,9.91097553304857e-4],\"p2\":293,\"v2\":[0.00414244938801206,0.701477595891792,1.31660723776419],\"p3\":346,\"v3\":[0.00215387685763636,0.00552044328873263]},\"fOption\":\"\",\"fFunctions\":{\"_typename\":\"TList\",\"name\":\"TList\",\"arr\":[{\"_typename\":\"TPaletteAxis\",\"fUniqueID\":0,\"fBits\":0,\"fLineColor\":1,\"fLineStyle\":1,\"fLineWidth\":1,\"fFillColor\":1178,\"fFillStyle\":1001,\"fX1\":24.8125000046566,\"fY1\":-6.5,\"fX2\":27.6250000465661,\"fY2\":6.5,\"fX1NDC\":0.904999994039535,\"fY1NDC\":0.100000005960465,\"fX2NDC\":0.949999994039535,\"fY2NDC\":0.899999994039535,\"fBorderSize\":4,\"fInit\":1,\"fShadowColor\":1,\"fCornerRadius\":0,\"fOption\":\"br\",\"fName\":\"palette\",\"fAxis\":{\"_typename\":\"TGaxis\",\"fUniqueID\":0,\"fBits\":0,\"fLineColor\":1,\"fLineStyle\":1,\"fLineWidth\":1,\"fX1\":0,\"fY1\":0,\"fX2\":0,\"fY2\":0,\"fTextAngle\":0,\"fTextSize\":0.04,\"fTextAlign\":11,\"fTextColor\":1,\"fTextFont\":42,\"fWmin\":0,\"fWmax\":0,\"fGridLength\":0,\"fTickSize\":0.03,\"fLabelOffset\":0.005,\"fLabelSize\":0.035,\"fTitleOffset\":1,\"fTitleSize\":0.035,\"fNdiv\":0,\"fLabelColor\":1,\"fLabelFont\":42,\"fNModLabs\":0,\"fChopt\":\"\",\"fName\":\"\",\"fTitle\":\"\",\"fTimeFormat\":\"\",\"fFunctionName\":\"\",\"fModLabs\":null}}],\"opt\":[\"br\"]},\"fBufferSize\":0,\"fBuffer\":[],\"fBinStatErrOpt\":0,\"fStatOverflows\":2,\"fScalefactor\":1,\"fTsumwy\":-5.33921763300896,\"fTsumwy2\":11.8059244975448,\"fTsumwxy\":-45.496386282146,\"fArray\":{\"$arr\":\"Float64\",\"len\":780,\"p\":190,\"v\":0.0320924445986748,\"p1\":242,\"v1\":[0.181235074996948,0.117769636213779,0.0314817018806934],\"p2\":293,\"v2\":[0.0643618628382683,0.837542593479156,1.14743506908417],\"p3\":346,\"v3\":[0.0464098788797855,0.0742996856570244]}},{\"_typename\":\"TH2F\",\"fUniqueID\":0,\"fBits\":8,\"fName\":\"hist_ecal_oneslb\",\"fTitle\":\"oneslb\",\"fLineColor\":602,\"fLineStyle\":1,\"fLineWidth\":1,\"fFillColor\":0,\"fFillStyle\":1001,\"fMarkerColor\":1,\"fMarkerStyle\":1,\"fMarkerSize\":1,\"fNcells\":765,\"fXaxis\":{\"_typename\":\"TAxis\",\"fUniqueID\":0,\"fBits\":0,\"fName\":\"xaxis\",\"fTitle\":\"x crystal index\",\"fNdivisions\":510,\"fAxisColor\":1,\"fLabelColor\":1,\"fLabelFont\":42,\"fLabelOffset\":0.005,\"fLabelSize\":0.035,\"fTickLength\":0.03,\"fTitleOffset\":1,\"fTitleSize\":0.035,\"fTitleColor\":1,\"fTitleFont\":42,\"fNbins\":49,\"fXmin\":-24.5,\"fXmax\":24.5,\"fXbins\":[],\"fFirst\":0,\"fLast\":0,\"fBits2\":0,\"fTimeDisplay\":false,\"fTimeFormat\":\"\",\"fLabels\":null,\"fModLabs\":null},\"fYaxis\":{\"_typename\":\"TAxis\",\"fUniqueID\":0,\"fBits\":0,\"fName\":\"yaxis\",\"fTitle\":\"y crystal index\",\"fNdivisions\":510,\"fAxisColor\":1,\"fLabelColor\":1,\"fLabelFont\":42,\"fLabelOffset\":0.005,\"fLabelSize\":0.035,\"fTickLength\":0.03,\"fTitleOffset\":0,\"fTitleSize\":0.035,\"fTitleColor\":1,\"fTitleFont\":42,\"fNbins\":13,\"fXmin\":-6.5,\"fXmax\":6.5,\"fXbins\":[],\"fFirst\":0,\"fLast\":0,\"fBits2\":0,\"fTimeDisplay\":false,\"fTimeFormat\":\"\",\"fLabels\":null,\"fModLabs\":null},\"fZaxis\":{\"_typename\":\"TAxis\",\"fUniqueID\":0,\"fBits\":0,\"fName\":\"zaxis\",\"fTitle\":\"\",\"fNdivisions\":510,\"fAxisColor\":1,\"fLabelColor\":1,\"fLabelFont\":42,\"fLabelOffset\":0.005,\"fLabelSize\":0.035,\"fTickLength\":0.03,\"fTitleOffset\":1,\"fTitleSize\":0.035,\"fTitleColor\":1,\"fTitleFont\":42,\"fNbins\":1,\"fXmin\":0,\"fXmax\":1,\"fXbins\":[],\"fFirst\":0,\"fLast\":0,\"fBits2\":0,\"fTimeDisplay\":false,\"fTimeFormat\":\"\",\"fLabels\":null,\"fModLabs\":null},\"fBarOffset\":0,\"fBarWidth\":1000,\"fEntries\":432,\"fTsumw\":568.774326714129,\"fTsumw2\":748.85239520627,\"fTsumwx\":155.359654056174,\"fTsumwx2\":112835.873490866,\"fMaximum\":-1111,\"fMinimum\":-1111,\"fNormFactor\":0,\"fContour\":[],\"fSumw2\":{\"$arr\":\"Float64\",\"len\":765,\"p\":104,\"v\":1.31660723776419,\"n\":22,\"p1\":128,\"v1\":1.31660723776419,\"n1\":23,\"p2\":155,\"v2\":1.31660723776419,\"n2\":22,\"p3\":179,\"v3\":1.31660723776419,\"n3\":23,\"p4\":206,\"v4\":1.31660723776419,\"n4\":22,\"p5\":230,\"v5\":1.31660723776419,\"n5\":23,\"p6\":257,\"v6\":1.31660723776419,\"n6\":22,\"p7\":281,\"v7\":1.31660723776419,\"n7\":23,\"p8\":308,\"v8\":1.31660723776419,\"n8\":13,\"p9\":332,\"v9\":1.31660723776419,\"n9\":23,\"p10\":410,\"v10\":1.31660723776419,\"n10\":13,\"p11\":434,\"v11\":1.31660723776419,\"n11\":23,\"p12\":461,\"v12\":1.31660723776419,\"n12\":22,\"p13\":485,\"v13\":1.31660723776419,\"n13\":23,\"p14\":512,\"v14\":1.31660723776419,\"n14\":22,\"p15\":536,\"v15\":1.31660723776419,\"n15\":23,\"p16\":563,\"v16\":1.31660723776419,\"n16\":22,\"p17\":587,\"v17\":1.31660723776419,\"n17\":23,\"p18\":614,\"v18\":1.31660723776419,\"n18\":22,\"p19\":638,\"v19\":1.31660723776419,\"n19\":23},\"fOption\":\"\",\"fFunctions\":{\"_typename\":\"TList\",\"name\":\"TList\",\"arr\":[],\"opt\":[]},\"fBufferSize\":0,\"fBuffer\":[],\"fBinStatErrOpt\":0,\"fStatOverflows\":2,\"fScalefactor\":1,\"fTsumwy\":0,\"fTsumwy2\":6493.50689665298,\"fTsumwxy\":0,\"fArray\":{\"$arr\":\"Float32\",\"len\":765,\"p\":104,\"v\":1.147435,\"n\":22,\"p1\":128,\"v1\":1.147435,\"n1\":23,\"p2\":155,\"v2\":1.147435,\"n2\":22,\"p3\":179,\"v3\":1.147435,\"n3\":23,\"p4\":206,\"v4\":1.147435,\"n4\":22,\"p5\":230,\"v5\":1.147435,\"n5\":23,\"p6\":257,\"v6\":1.147435,\"n6\":22,\"p7\":281,\"v7\":1.147435,\"n7\":23,\"p8\":308,\"v8\":1.147435,\"n8\":13,\"p9\":332,\"v9\":1.147435,\"n9\":23,\"p10\":410,\"v10\":1.147435,\"n10\":13,\"p11\":434,\"v11\":1.147435,\"n11\":23,\"p12\":461,\"v12\":1.147435,\"n12\":22,\"p13\":485,\"v13\":1.147435,\"n13\":23,\"p14\":512,\"v14\":1.147435,\"n14\":22,\"p15\":536,\"v15\":1.147435,\"n15\":23,\"p16\":563,\"v16\":1.147435,\"n16\":22,\"p17\":587,\"v17\":1.147435,\"n17\":23,\"p18\":614,\"v18\":1.147435,\"n18\":22,\"p19\":638,\"v19\":1.147435,\"n19\":23}},{\"_typename\":\"TPaveText\",\"fUniqueID\":0,\"fBits\":9,\"fLineColor\":1,\"fLineStyle\":1,\"fLineWidth\":1,\"fFillColor\":0,\"fFillStyle\":0,\"fX1\":-4.95281131133198,\"fY1\":7.15000017071143,\"fX2\":3.95281131133198,\"fY2\":8.04375019734726,\"fX1NDC\":0.428755020080321,\"fY1NDC\":0.940000003948808,\"fX2NDC\":0.571244979919679,\"fY2NDC\":0.995000004768372,\"fBorderSize\":0,\"fInit\":1,\"fShadowColor\":1,\"fCornerRadius\":0,\"fOption\":\"blNDC\",\"fName\":\"title\",\"fTextAngle\":0,\"fTextSize\":0,\"fTextAlign\":22,\"fTextColor\":1,\"fTextFont\":42,\"fLabel\":\"\",\"fLongest\":9,\"fMargin\":0.05,\"fLines\":{\"_typename\":\"TList\",\"name\":\"TList\",\"arr\":[{\"_typename\":\"TLatex\",\"fUniqueID\":0,\"fBits\":0,\"fName\":\"\",\"fTitle\":\"Ecal Hits\",\"fTextAngle\":0,\"fTextSize\":0,\"fTextAlign\":0,\"fTextColor\":0,\"fTextFont\":0,\"fX\":0,\"fY\":0,\"fLineColor\":1,\"fLineStyle\":1,\"fLineWidth\":2,\"fLimitFactorSize\":3,\"fOriginSize\":0.0467500016093254}],\"opt\":[\"\"]}},{\"_typename\":\"TStyle\",\"fUniqueID\":0,\"fBits\":0,\"fName\":\"Modern\",\"fTitle\":\"Modern Style\",\"fLineColor\":1,\"fLineStyle\":1,\"fLineWidth\":1,\"fFillColor\":19,\"fFillStyle\":1001,\"fMarkerColor\":1,\"fMarkerStyle\":1,\"fMarkerSize\":1,\"fTextAngle\":0,\"fTextSize\":0.05,\"fTextAlign\":11,\"fTextColor\":1,\"fTextFont\":62,\"fXaxis\":{\"_typename\":\"TAttAxis\",\"fNdivisions\":510,\"fAxisColor\":1,\"fLabelColor\":1,\"fLabelFont\":42,\"fLabelOffset\":0.005,\"fLabelSize\":0.035,\"fTickLength\":0.03,\"fTitleOffset\":1,\"fTitleSize\":0.035,\"fTitleColor\":1,\"fTitleFont\":42},\"fYaxis\":{\"_typename\":\"TAttAxis\",\"fNdivisions\":510,\"fAxisColor\":1,\"fLabelColor\":1,\"fLabelFont\":42,\"fLabelOffset\":0.005,\"fLabelSize\":0.035,\"fTickLength\":0.03,\"fTitleOffset\":0,\"fTitleSize\":0.035,\"fTitleColor\":1,\"fTitleFont\":42},\"fZaxis\":{\"_typename\":\"TAttAxis\",\"fNdivisions\":510,\"fAxisColor\":1,\"fLabelColor\":1,\"fLabelFont\":42,\"fLabelOffset\":0.005,\"fLabelSize\":0.035,\"fTickLength\":0.03,\"fTitleOffset\":1,\"fTitleSize\":0.035,\"fTitleColor\":1,\"fTitleFont\":42},\"fBarWidth\":1,\"fBarOffset\":0,\"fColorModelPS\":0,\"fDrawBorder\":0,\"fOptLogx\":0,\"fOptLogy\":0,\"fOptLogz\":0,\"fOptDate\":0,\"fOptStat\":1111,\"fOptTitle\":1,\"fOptFile\":0,\"fOptFit\":0,\"fShowEventStatus\":0,\"fShowEditor\":0,\"fShowToolBar\":0,\"fNumberContours\":20,\"fAttDate\":{\"_typename\":\"TAttText\",\"fTextAngle\":0,\"fTextSize\":0.025,\"fTextAlign\":11,\"fTextColor\":1,\"fTextFont\":62},\"fDateX\":0.01,\"fDateY\":0.01,\"fEndErrorSize\":2,\"fErrorX\":0.5,\"fFuncColor\":2,\"fFuncStyle\":1,\"fFuncWidth\":2,\"fGridColor\":0,\"fGridStyle\":3,\"fGridWidth\":1,\"fLegendBorderSize\":1,\"fLegendFillColor\":0,\"fLegendFont\":42,\"fLegendTextSize\":0,\"fHatchesLineWidth\":1,\"fHatchesSpacing\":1,\"fFrameFillColor\":0,\"fFrameLineColor\":1,\"fFrameFillStyle\":1001,\"fFrameLineStyle\":1,\"fFrameLineWidth\":1,\"fFrameBorderSize\":1,\"fFrameBorderMode\":0,\"fHistFillColor\":0,\"fHistLineColor\":602,\"fHistFillStyle\":1001,\"fHistLineStyle\":1,\"fHistLineWidth\":1,\"fHistMinimumZero\":false,\"fHistTopMargin\":0.05,\"fCanvasPreferGL\":false,\"fCanvasColor\":0,\"fCanvasBorderSize\":2,\"fCanvasBorderMode\":0,\"fCanvasDefH\":500,\"fCanvasDefW\":700,\"fCanvasDefX\":10,\"fCanvasDefY\":10,\"fPadColor\":0,\"fPadBorderSize\":2,\"fPadBorderMode\":0,\"fPadBottomMargin\":0.1,\"fPadTopMargin\":0.1,\"fPadLeftMargin\":0.1,\"fPadRightMargin\":0.1,\"fPadGridX\":false,\"fPadGridY\":false,\"fPadTickX\":0,\"fPadTickY\":0,\"fPaperSizeX\":20,\"fPaperSizeY\":26,\"fScreenFactor\":1,\"fStatColor\":0,\"fStatTextColor\":1,\"fStatBorderSize\":1,\"fStatFont\":42,\"fStatFontSize\":0,\"fStatStyle\":1001,\"fStatFormat\":\"6.4g\",\"fStatX\":0.98,\"fStatY\":0.935,\"fStatW\":0.2,\"fStatH\":0.16,\"fStripDecimals\":true,\"fTitleAlign\":23,\"fTitleColor\":0,\"fTitleTextColor\":1,\"fTitleBorderSize\":0,\"fTitleFont\":42,\"fTitleFontSize\":0.05,\"fTitleStyle\":0,\"fTitleX\":0.5,\"fTitleY\":0.995,\"fTitleW\":0,\"fTitleH\":0,\"fLegoInnerR\":0.5,\"fLineStyles\":[\"\",\"  \",\" 12 12\",\" 4 8\",\" 12 16 4 16\",\" 20 12 4 12\",\" 20 12 4 12 4 12 4 12\",\" 20 20\",\" 20 12 4 12 4 12\",\" 80 20\",\" 80 40 4 40\",\"  \",\"  \",\"  \",\"  \",\"  \",\"  \",\"  \",\"  \",\"  \",\"  \",\"  \",\"  \",\"  \",\"  \",\"  \",\"  \",\"  \",\"  \",\"  \"],\"fHeaderPS\":\"\",\"fTitlePS\":\"\",\"fFitFormat\":\"5.4g\",\"fPaintTextFormat\":\"g\",\"fLineScalePS\":3,\"fJoinLinePS\":0,\"fCapLinePS\":0,\"fTimeOffset\":788918400,\"fImageScaling\":1}],\"opt\":[\"\",\"colz\",\"boxsame\",\"blNDC\",\"\"]},\"fExecs\":null,\"fName\":\"cc2\",\"fTitle\":\"Canvas\",\"fNumPaletteColor\":0,\"fNextPaletteColor\":0,\"fDISPLAY\":\"$DISPLAY\",\"fDoubleBuffer\":0,\"fRetained\":true,\"fXsizeUser\":0,\"fYsizeUser\":0,\"fXsizeReal\":20,\"fYsizeReal\":12,\"fWindowTopX\":0,\"fWindowTopY\":0,\"fWindowWidth\":0,\"fWindowHeight\":0,\"fCw\":996,\"fCh\":572,\"fCatt\":{\"_typename\":\"TAttCanvas\",\"fXBetween\":2,\"fYBetween\":2,\"fTitleFromTop\":1.2,\"fXdate\":0.2,\"fYdate\":0.3,\"fAdate\":1},\"kMoveOpaque\":true,\"kResizeOpaque\":true,\"fHighLightColor\":2,\"fBatch\":true,\"kShowEventStatus\":false,\"kAutoExec\":true,\"kMenuBar\":true});\n   Core.settings.HandleKeys = false;\n   Core.draw(\"root_plot_1678656551850\", obj, \"\");\n}\n\nfunction script_load_root_plot_1678656551850(src, on_error) {\n    let script = document.createElement('script');\n    script.src = src;\n    script.onload = function() { display_root_plot_1678656551850(JSROOT); };\n    script.onerror = function() { script.remove(); on_error(); };\n    document.head.appendChild(script);\n}\n\nif (typeof requirejs !== 'undefined') {\n\n    // We are in jupyter notebooks, use require.js which should be configured already\n    requirejs.config({\n       paths: { 'JSRootCore' : [ 'build/jsroot', 'https://root.cern/js/7.2.1/build/jsroot', 'https://jsroot.gsi.de/7.2.1/build/jsroot' ] }\n    })(['JSRootCore'],  function(Core) {\n       display_root_plot_1678656551850(Core);\n    });\n\n} else if (typeof JSROOT !== 'undefined') {\n\n   // JSROOT already loaded, just use it\n   display_root_plot_1678656551850(JSROOT);\n\n} else {\n\n    // We are in jupyterlab without require.js, directly loading jsroot\n    // Jupyterlab might be installed in a different base_url so we need to know it.\n    try {\n        var base_url = JSON.parse(document.getElementById('jupyter-config-data').innerHTML).baseUrl;\n    } catch(_) {\n        var base_url = '/';\n    }\n\n    // Try loading a local version of requirejs and fallback to cdn if not possible.\n    script_load_root_plot_1678656551850(base_url + 'static/build/jsroot.js', function(){\n        console.error('Fail to load JSROOT locally, please check your jupyter_notebook_config.py file');\n        script_load_root_plot_1678656551850('https://root.cern/js/7.2.1/build/jsroot.js', function(){\n            document.getElementById(\"root_plot_1678656551850\").innerHTML = \"Failed to load JSROOT\";\n        });\n    });\n}\n\n</script>\n"
     },
     "metadata": {},
     "output_type": "display_data"
    }
   ],
   "source": [
    "ch.GetEntry(event)\n",
    "hh = make_ecal_snaphot(mdst, hh, 0)\n",
    "hh.SetStats(0)\n",
    "cc2.Clear()\n",
    "ones2 = fancy_plot(hh, ones2, 0x0)\n",
    "cc2.Update()\n",
    "cc2.Draw()\n",
    "event += 1"
   ],
   "metadata": {
    "collapsed": false
   }
  },
  {
   "cell_type": "code",
   "execution_count": 25,
   "outputs": [
    {
     "name": "stdout",
     "output_type": "stream",
     "text": [
      "Run: 1193700, Event:11\n",
      "NClusters: 1 : [1](-203.499,-26.262,  2.630),\n",
      "\n",
      "   i |   x |   y |  Energy  \n",
      "----------------------------\n",
      "   0 | -19 |  -2 | 0.02410 \n",
      "   1 | -18 |  -1 | 1.69546 \n",
      "   2 | -19 |  -1 | 0.02753 \n",
      "   3 | -18 |  -2 | 0.06702 \n",
      "   4 | -17 |  -1 | 0.21466 \n",
      "   5 | -17 |  -2 | 0.05685 \n",
      "   6 | -18 |   1 | 0.03121 \n",
      "Energy sum = 2.11682778224349\n"
     ]
    }
   ],
   "source": [
    "print(f\"Run: {mdst.run_number}, Event:{mdst.event_number}\")\n",
    "print(f\"NClusters: {len(mdst.ecal_cluster_seed_ix)} :\",end=\"\")\n",
    "for i in range(len(mdst.ecal_cluster_seed_index)):\n",
    "    print(f\" [{mdst.ecal_cluster_seed_index[i]}]({mdst.ecal_cluster_x[i]:7.3f},{mdst.ecal_cluster_y[i]:7.3f},{mdst.ecal_cluster_energy[i]:7.3f})\", end=\",\")\n",
    "print(\"\\n\")\n",
    "print(\"   i |   x |   y |  Energy  \")\n",
    "esum=0\n",
    "print(\"----------------------------\")\n",
    "for i in range(len(mdst.ecal_hit_index_x)):\n",
    "    print(f\" {i:3d} | {mdst.ecal_hit_index_x[i]:3d} | {mdst.ecal_hit_index_y[i]:3d} | {mdst.ecal_hit_energy[i]:7.5f} \")\n",
    "    esum+=mdst.ecal_hit_energy[i]\n",
    "print(f\"Energy sum = {esum}\")"
   ],
   "metadata": {
    "collapsed": false
   }
  },
  {
   "cell_type": "code",
   "execution_count": 6,
   "outputs": [
    {
     "ename": "NameError",
     "evalue": "name 'mdst' is not defined",
     "output_type": "error",
     "traceback": [
      "\u001B[0;31m---------------------------------------------------------------------------\u001B[0m",
      "\u001B[0;31mNameError\u001B[0m                                 Traceback (most recent call last)",
      "Cell \u001B[0;32mIn[6], line 3\u001B[0m\n\u001B[1;32m      1\u001B[0m event\u001B[38;5;241m+\u001B[39m\u001B[38;5;241m=\u001B[39m\u001B[38;5;241m1\u001B[39m\n\u001B[1;32m      2\u001B[0m ch\u001B[38;5;241m.\u001B[39mGetEntry(event)\n\u001B[0;32m----> 3\u001B[0m print_mc_particle_tree(\u001B[43mmdst\u001B[49m)\n\u001B[1;32m      4\u001B[0m primary_index \u001B[38;5;241m=\u001B[39m \u001B[38;5;241m-\u001B[39m\u001B[38;5;241m1\u001B[39m\n\u001B[1;32m      5\u001B[0m \u001B[38;5;28;01mfor\u001B[39;00m i \u001B[38;5;129;01min\u001B[39;00m \u001B[38;5;28mrange\u001B[39m(\u001B[38;5;28mlen\u001B[39m(mdst\u001B[38;5;241m.\u001B[39mmc_part_z)):\n",
      "\u001B[0;31mNameError\u001B[0m: name 'mdst' is not defined"
     ]
    }
   ],
   "source": [
    "event+=1\n",
    "ch.GetEntry(event)\n",
    "print_mc_particle_tree(mdst)\n",
    "primary_index = -1\n",
    "for i in range(len(mdst.mc_part_z)):\n",
    "    if abs(mdst.mc_part_z[i])<1e-6:\n",
    "        primary_index = i\n",
    "        break\n",
    "print(f\"i_p = {primary_index}\")\n",
    "print(f\"Status: {mdst.mc_part_gen_status[primary_index]:d} = {mdst.mc_part_gen_status[primary_index]:032b}\")"
   ],
   "metadata": {
    "collapsed": false
   }
  },
  {
   "cell_type": "code",
   "execution_count": 14,
   "outputs": [],
   "source": [
    "ans = R.find_average_end_of_daughters_of_primary_mc_part(mdst.mc_part_z, mdst.mc_part_end_z, mdst.mc_part_daughters)"
   ],
   "metadata": {
    "collapsed": false
   }
  },
  {
   "cell_type": "code",
   "execution_count": 15,
   "outputs": [
    {
     "data": {
      "text/plain": "[1468.774633624398]"
     },
     "execution_count": 15,
     "metadata": {},
     "output_type": "execute_result"
    }
   ],
   "source": [
    "list(ans)"
   ],
   "metadata": {
    "collapsed": false
   }
  },
  {
   "cell_type": "code",
   "execution_count": 16,
   "outputs": [],
   "source": [
    "h_n_trk = df.Define(\"n_trk\",\"int n=0; for(int i=0;i<track_type.size();++i){if(track_type[i]==1) n+=1;}; return n\").Histo1D((\"h_n_trk\",\"N KF tracks\",11,-0.5,10.5),\"n_trk\")"
   ],
   "metadata": {
    "collapsed": false
   }
  },
  {
   "cell_type": "code",
   "execution_count": 17,
   "outputs": [
    {
     "data": {
      "text/plain": "<IPython.core.display.HTML object>",
      "text/html": "\n\n<div id=\"root_plot_1678628376940\"\n     style=\"width: 996px; height: 572px\">\n</div>\n<script>\n\nfunction display_root_plot_1678628376940(Core) {\n   let obj = Core.parse({\"_typename\":\"TCanvas\",\"fUniqueID\":0,\"fBits\":3342344,\"fLineColor\":1,\"fLineStyle\":1,\"fLineWidth\":1,\"fFillColor\":0,\"fFillStyle\":1001,\"fLeftMargin\":0.1,\"fRightMargin\":0.1,\"fBottomMargin\":0.1,\"fTopMargin\":0.1,\"fXfile\":2,\"fYfile\":2,\"fAfile\":1,\"fXstat\":0.99,\"fYstat\":0.99,\"fAstat\":2,\"fFrameFillColor\":0,\"fFrameLineColor\":1,\"fFrameFillStyle\":1001,\"fFrameLineStyle\":1,\"fFrameLineWidth\":1,\"fFrameBorderSize\":1,\"fFrameBorderMode\":0,\"fX1\":-1.87500010244549,\"fY1\":0.256892365171905,\"fX2\":11.8750001024455,\"fY2\":5.09159532022452,\"fXtoAbsPixelk\":135.818237215112,\"fXtoPixelk\":135.818237215112,\"fXtoPixel\":72.4363625569776,\"fYtoAbsPixelk\":602.393320123196,\"fYtoPixelk\":602.393320123196,\"fYtoPixel\":-118.311301711353,\"fUtoAbsPixelk\":5e-5,\"fUtoPixelk\":5e-5,\"fUtoPixel\":996,\"fVtoAbsPixelk\":572.00005,\"fVtoPixelk\":572,\"fVtoPixel\":-572,\"fAbsPixeltoXk\":-1.87500010244549,\"fPixeltoXk\":-1.87500010244549,\"fPixeltoX\":0.013805221089248,\"fAbsPixeltoYk\":5.09159532022452,\"fPixeltoYk\":0.256892365171905,\"fPixeltoY\":-0.00845227789344864,\"fXlowNDC\":0,\"fYlowNDC\":0,\"fXUpNDC\":1,\"fYUpNDC\":1,\"fWNDC\":1,\"fHNDC\":1,\"fAbsXlowNDC\":0,\"fAbsYlowNDC\":0,\"fAbsWNDC\":1,\"fAbsHNDC\":1,\"fUxmin\":-0.5,\"fUymin\":0.740362689494244,\"fUxmax\":10.5,\"fUymax\":4.60812499590219,\"fTheta\":30,\"fPhi\":30,\"fAspectRatio\":0,\"fNumber\":0,\"fTickx\":0,\"fTicky\":0,\"fLogx\":0,\"fLogy\":1,\"fLogz\":0,\"fPadPaint\":0,\"fCrosshair\":0,\"fCrosshairPos\":0,\"fBorderSize\":2,\"fBorderMode\":0,\"fModified\":false,\"fGridx\":false,\"fGridy\":false,\"fAbsCoord\":false,\"fEditable\":true,\"fFixedAspectRatio\":false,\"fPrimitives\":{\"_typename\":\"TList\",\"name\":\"TList\",\"arr\":[{\"_typename\":\"TFrame\",\"fUniqueID\":0,\"fBits\":8,\"fLineColor\":1,\"fLineStyle\":1,\"fLineWidth\":1,\"fFillColor\":0,\"fFillStyle\":1001,\"fX1\":-0.5,\"fY1\":0.740362689494244,\"fX2\":10.5,\"fY2\":4.60812499590219,\"fBorderSize\":1,\"fBorderMode\":0},{\"_typename\":\"TH1D\",\"fUniqueID\":0,\"fBits\":8,\"fName\":\"h_n_trk\",\"fTitle\":\"N KF tracks\",\"fLineColor\":602,\"fLineStyle\":1,\"fLineWidth\":1,\"fFillColor\":0,\"fFillStyle\":1001,\"fMarkerColor\":1,\"fMarkerStyle\":1,\"fMarkerSize\":1,\"fNcells\":13,\"fXaxis\":{\"_typename\":\"TAxis\",\"fUniqueID\":0,\"fBits\":0,\"fName\":\"xaxis\",\"fTitle\":\"\",\"fNdivisions\":510,\"fAxisColor\":1,\"fLabelColor\":1,\"fLabelFont\":42,\"fLabelOffset\":0.005,\"fLabelSize\":0.035,\"fTickLength\":0.03,\"fTitleOffset\":1,\"fTitleSize\":0.035,\"fTitleColor\":1,\"fTitleFont\":42,\"fNbins\":11,\"fXmin\":-0.5,\"fXmax\":10.5,\"fXbins\":[],\"fFirst\":0,\"fLast\":0,\"fBits2\":0,\"fTimeDisplay\":false,\"fTimeFormat\":\"\",\"fLabels\":null,\"fModLabs\":null},\"fYaxis\":{\"_typename\":\"TAxis\",\"fUniqueID\":0,\"fBits\":0,\"fName\":\"yaxis\",\"fTitle\":\"\",\"fNdivisions\":510,\"fAxisColor\":1,\"fLabelColor\":1,\"fLabelFont\":42,\"fLabelOffset\":0.005,\"fLabelSize\":0.035,\"fTickLength\":0.03,\"fTitleOffset\":0,\"fTitleSize\":0.035,\"fTitleColor\":1,\"fTitleFont\":42,\"fNbins\":1,\"fXmin\":0,\"fXmax\":1,\"fXbins\":[],\"fFirst\":0,\"fLast\":0,\"fBits2\":0,\"fTimeDisplay\":false,\"fTimeFormat\":\"\",\"fLabels\":null,\"fModLabs\":null},\"fZaxis\":{\"_typename\":\"TAxis\",\"fUniqueID\":0,\"fBits\":0,\"fName\":\"zaxis\",\"fTitle\":\"\",\"fNdivisions\":510,\"fAxisColor\":1,\"fLabelColor\":1,\"fLabelFont\":42,\"fLabelOffset\":0.005,\"fLabelSize\":0.035,\"fTickLength\":0.03,\"fTitleOffset\":1,\"fTitleSize\":0.035,\"fTitleColor\":1,\"fTitleFont\":42,\"fNbins\":1,\"fXmin\":0,\"fXmax\":1,\"fXbins\":[],\"fFirst\":0,\"fLast\":0,\"fBits2\":0,\"fTimeDisplay\":false,\"fTimeFormat\":\"\",\"fLabels\":null,\"fModLabs\":null},\"fBarOffset\":0,\"fBarWidth\":1000,\"fEntries\":31904,\"fTsumw\":31904,\"fTsumw2\":31904,\"fTsumwx\":21430,\"fTsumwx2\":21452,\"fMaximum\":-1111,\"fMinimum\":-1111,\"fNormFactor\":0,\"fContour\":[],\"fSumw2\":[],\"fOption\":\"\",\"fFunctions\":{\"_typename\":\"TList\",\"name\":\"TList\",\"arr\":[{\"_typename\":\"TPaveStats\",\"fUniqueID\":0,\"fBits\":9,\"fLineColor\":1,\"fLineStyle\":1,\"fLineWidth\":1,\"fFillColor\":0,\"fFillStyle\":1001,\"fX1\":8.85000027865172,\"fY1\":4.00378718415476,\"fX2\":11.6000003606081,\"fY2\":4.77733963967293,\"fX1NDC\":0.780000016093254,\"fY1NDC\":0.775000005960464,\"fX2NDC\":0.980000019073486,\"fY2NDC\":0.935000002384186,\"fBorderSize\":1,\"fInit\":1,\"fShadowColor\":1,\"fCornerRadius\":0,\"fOption\":\"brNDC\",\"fName\":\"stats\",\"fTextAngle\":0,\"fTextSize\":0,\"fTextAlign\":12,\"fTextColor\":1,\"fTextFont\":42,\"fLabel\":\"\",\"fLongest\":18,\"fMargin\":0.05,\"fLines\":{\"_typename\":\"TList\",\"name\":\"TList\",\"arr\":[{\"_typename\":\"TLatex\",\"fUniqueID\":0,\"fBits\":0,\"fName\":\"\",\"fTitle\":\"h_n_trk\",\"fTextAngle\":0,\"fTextSize\":0.0368,\"fTextAlign\":0,\"fTextColor\":0,\"fTextFont\":0,\"fX\":0,\"fY\":0,\"fLineColor\":1,\"fLineStyle\":1,\"fLineWidth\":2,\"fLimitFactorSize\":3,\"fOriginSize\":0.0368000008165836},{\"_typename\":\"TLatex\",\"fUniqueID\":0,\"fBits\":0,\"fName\":\"\",\"fTitle\":\"Entries = 31904  \",\"fTextAngle\":0,\"fTextSize\":0,\"fTextAlign\":0,\"fTextColor\":0,\"fTextFont\":0,\"fX\":0,\"fY\":0,\"fLineColor\":1,\"fLineStyle\":1,\"fLineWidth\":2,\"fLimitFactorSize\":3,\"fOriginSize\":0.04},{\"_typename\":\"TLatex\",\"fUniqueID\":0,\"fBits\":0,\"fName\":\"\",\"fTitle\":\"Mean  = 0.6717\",\"fTextAngle\":0,\"fTextSize\":0,\"fTextAlign\":0,\"fTextColor\":0,\"fTextFont\":0,\"fX\":0,\"fY\":0,\"fLineColor\":1,\"fLineStyle\":1,\"fLineWidth\":2,\"fLimitFactorSize\":3,\"fOriginSize\":0.04},{\"_typename\":\"TLatex\",\"fUniqueID\":0,\"fBits\":0,\"fName\":\"\",\"fTitle\":\"Std Dev   = 0.4703\",\"fTextAngle\":0,\"fTextSize\":0,\"fTextAlign\":0,\"fTextColor\":0,\"fTextFont\":0,\"fX\":0,\"fY\":0,\"fLineColor\":1,\"fLineStyle\":1,\"fLineWidth\":2,\"fLimitFactorSize\":3,\"fOriginSize\":0.04}],\"opt\":[\"\",\"\",\"\",\"\"]},\"fOptFit\":0,\"fOptStat\":1111,\"fFitFormat\":\"5.4g\",\"fStatFormat\":\"6.4g\",\"fParent\":{\"$ref\":3}}],\"opt\":[\"brNDC\"]},\"fBufferSize\":0,\"fBuffer\":[],\"fBinStatErrOpt\":0,\"fStatOverflows\":2,\"fArray\":{\"$arr\":\"Float64\",\"len\":13,\"p\":1,\"v\":[10485,21408,11]}},{\"_typename\":\"TPaveText\",\"fUniqueID\":0,\"fBits\":9,\"fLineColor\":1,\"fLineStyle\":1,\"fLineWidth\":1,\"fFillColor\":0,\"fFillStyle\":0,\"fX1\":3.75117970026663,\"fY1\":4.80151316201268,\"fX2\":6.24882029973337,\"fY2\":5.06742182850292,\"fX1NDC\":0.409176706827309,\"fY1NDC\":0.940000003948808,\"fX2NDC\":0.590823293172691,\"fY2NDC\":0.995000004768372,\"fBorderSize\":0,\"fInit\":1,\"fShadowColor\":1,\"fCornerRadius\":0,\"fOption\":\"blNDC\",\"fName\":\"title\",\"fTextAngle\":0,\"fTextSize\":0,\"fTextAlign\":22,\"fTextColor\":1,\"fTextFont\":42,\"fLabel\":\"\",\"fLongest\":11,\"fMargin\":0.05,\"fLines\":{\"_typename\":\"TList\",\"name\":\"TList\",\"arr\":[{\"_typename\":\"TLatex\",\"fUniqueID\":0,\"fBits\":0,\"fName\":\"\",\"fTitle\":\"N KF tracks\",\"fTextAngle\":0,\"fTextSize\":0,\"fTextAlign\":0,\"fTextColor\":0,\"fTextFont\":0,\"fX\":0,\"fY\":0,\"fLineColor\":1,\"fLineStyle\":1,\"fLineWidth\":2,\"fLimitFactorSize\":3,\"fOriginSize\":0.0467500016093254}],\"opt\":[\"\"]}},{\"_typename\":\"TStyle\",\"fUniqueID\":0,\"fBits\":0,\"fName\":\"Modern\",\"fTitle\":\"Modern Style\",\"fLineColor\":1,\"fLineStyle\":1,\"fLineWidth\":1,\"fFillColor\":19,\"fFillStyle\":1001,\"fMarkerColor\":1,\"fMarkerStyle\":1,\"fMarkerSize\":1,\"fTextAngle\":0,\"fTextSize\":0.05,\"fTextAlign\":11,\"fTextColor\":1,\"fTextFont\":62,\"fXaxis\":{\"_typename\":\"TAttAxis\",\"fNdivisions\":510,\"fAxisColor\":1,\"fLabelColor\":1,\"fLabelFont\":42,\"fLabelOffset\":0.005,\"fLabelSize\":0.035,\"fTickLength\":0.03,\"fTitleOffset\":1,\"fTitleSize\":0.035,\"fTitleColor\":1,\"fTitleFont\":42},\"fYaxis\":{\"_typename\":\"TAttAxis\",\"fNdivisions\":510,\"fAxisColor\":1,\"fLabelColor\":1,\"fLabelFont\":42,\"fLabelOffset\":0.005,\"fLabelSize\":0.035,\"fTickLength\":0.03,\"fTitleOffset\":0,\"fTitleSize\":0.035,\"fTitleColor\":1,\"fTitleFont\":42},\"fZaxis\":{\"_typename\":\"TAttAxis\",\"fNdivisions\":510,\"fAxisColor\":1,\"fLabelColor\":1,\"fLabelFont\":42,\"fLabelOffset\":0.005,\"fLabelSize\":0.035,\"fTickLength\":0.03,\"fTitleOffset\":1,\"fTitleSize\":0.035,\"fTitleColor\":1,\"fTitleFont\":42},\"fBarWidth\":1,\"fBarOffset\":0,\"fColorModelPS\":0,\"fDrawBorder\":0,\"fOptLogx\":0,\"fOptLogy\":0,\"fOptLogz\":0,\"fOptDate\":0,\"fOptStat\":1111,\"fOptTitle\":1,\"fOptFile\":0,\"fOptFit\":0,\"fShowEventStatus\":0,\"fShowEditor\":0,\"fShowToolBar\":0,\"fNumberContours\":20,\"fAttDate\":{\"_typename\":\"TAttText\",\"fTextAngle\":0,\"fTextSize\":0.025,\"fTextAlign\":11,\"fTextColor\":1,\"fTextFont\":62},\"fDateX\":0.01,\"fDateY\":0.01,\"fEndErrorSize\":2,\"fErrorX\":0.5,\"fFuncColor\":2,\"fFuncStyle\":1,\"fFuncWidth\":2,\"fGridColor\":0,\"fGridStyle\":3,\"fGridWidth\":1,\"fLegendBorderSize\":1,\"fLegendFillColor\":0,\"fLegendFont\":42,\"fLegendTextSize\":0,\"fHatchesLineWidth\":1,\"fHatchesSpacing\":1,\"fFrameFillColor\":0,\"fFrameLineColor\":1,\"fFrameFillStyle\":1001,\"fFrameLineStyle\":1,\"fFrameLineWidth\":1,\"fFrameBorderSize\":1,\"fFrameBorderMode\":0,\"fHistFillColor\":0,\"fHistLineColor\":602,\"fHistFillStyle\":1001,\"fHistLineStyle\":1,\"fHistLineWidth\":1,\"fHistMinimumZero\":false,\"fHistTopMargin\":0.05,\"fCanvasPreferGL\":false,\"fCanvasColor\":0,\"fCanvasBorderSize\":2,\"fCanvasBorderMode\":0,\"fCanvasDefH\":500,\"fCanvasDefW\":700,\"fCanvasDefX\":10,\"fCanvasDefY\":10,\"fPadColor\":0,\"fPadBorderSize\":2,\"fPadBorderMode\":0,\"fPadBottomMargin\":0.1,\"fPadTopMargin\":0.1,\"fPadLeftMargin\":0.1,\"fPadRightMargin\":0.1,\"fPadGridX\":false,\"fPadGridY\":false,\"fPadTickX\":0,\"fPadTickY\":0,\"fPaperSizeX\":20,\"fPaperSizeY\":26,\"fScreenFactor\":1,\"fStatColor\":0,\"fStatTextColor\":1,\"fStatBorderSize\":1,\"fStatFont\":42,\"fStatFontSize\":0,\"fStatStyle\":1001,\"fStatFormat\":\"6.4g\",\"fStatX\":0.98,\"fStatY\":0.935,\"fStatW\":0.2,\"fStatH\":0.16,\"fStripDecimals\":true,\"fTitleAlign\":23,\"fTitleColor\":0,\"fTitleTextColor\":1,\"fTitleBorderSize\":0,\"fTitleFont\":42,\"fTitleFontSize\":0.05,\"fTitleStyle\":0,\"fTitleX\":0.5,\"fTitleY\":0.995,\"fTitleW\":0,\"fTitleH\":0,\"fLegoInnerR\":0.5,\"fLineStyles\":[\"\",\"  \",\" 12 12\",\" 4 8\",\" 12 16 4 16\",\" 20 12 4 12\",\" 20 12 4 12 4 12 4 12\",\" 20 20\",\" 20 12 4 12 4 12\",\" 80 20\",\" 80 40 4 40\",\"  \",\"  \",\"  \",\"  \",\"  \",\"  \",\"  \",\"  \",\"  \",\"  \",\"  \",\"  \",\"  \",\"  \",\"  \",\"  \",\"  \",\"  \",\"  \"],\"fHeaderPS\":\"\",\"fTitlePS\":\"\",\"fFitFormat\":\"5.4g\",\"fPaintTextFormat\":\"g\",\"fLineScalePS\":3,\"fJoinLinePS\":0,\"fCapLinePS\":0,\"fTimeOffset\":788918400,\"fImageScaling\":1}],\"opt\":[\"\",\"\",\"blNDC\",\"\"]},\"fExecs\":null,\"fName\":\"cc3\",\"fTitle\":\"Canvas\",\"fNumPaletteColor\":0,\"fNextPaletteColor\":0,\"fDISPLAY\":\"$DISPLAY\",\"fDoubleBuffer\":0,\"fRetained\":true,\"fXsizeUser\":0,\"fYsizeUser\":0,\"fXsizeReal\":20,\"fYsizeReal\":12,\"fWindowTopX\":0,\"fWindowTopY\":0,\"fWindowWidth\":0,\"fWindowHeight\":0,\"fCw\":996,\"fCh\":572,\"fCatt\":{\"_typename\":\"TAttCanvas\",\"fXBetween\":2,\"fYBetween\":2,\"fTitleFromTop\":1.2,\"fXdate\":0.2,\"fYdate\":0.3,\"fAdate\":1},\"kMoveOpaque\":true,\"kResizeOpaque\":true,\"fHighLightColor\":2,\"fBatch\":true,\"kShowEventStatus\":false,\"kAutoExec\":true,\"kMenuBar\":true});\n   Core.settings.HandleKeys = false;\n   Core.draw(\"root_plot_1678628376940\", obj, \"\");\n}\n\nfunction script_load_root_plot_1678628376940(src, on_error) {\n    let script = document.createElement('script');\n    script.src = src;\n    script.onload = function() { display_root_plot_1678628376940(JSROOT); };\n    script.onerror = function() { script.remove(); on_error(); };\n    document.head.appendChild(script);\n}\n\nif (typeof requirejs !== 'undefined') {\n\n    // We are in jupyter notebooks, use require.js which should be configured already\n    requirejs.config({\n       paths: { 'JSRootCore' : [ 'build/jsroot', 'https://root.cern/js/7.2.1/build/jsroot', 'https://jsroot.gsi.de/7.2.1/build/jsroot' ] }\n    })(['JSRootCore'],  function(Core) {\n       display_root_plot_1678628376940(Core);\n    });\n\n} else if (typeof JSROOT !== 'undefined') {\n\n   // JSROOT already loaded, just use it\n   display_root_plot_1678628376940(JSROOT);\n\n} else {\n\n    // We are in jupyterlab without require.js, directly loading jsroot\n    // Jupyterlab might be installed in a different base_url so we need to know it.\n    try {\n        var base_url = JSON.parse(document.getElementById('jupyter-config-data').innerHTML).baseUrl;\n    } catch(_) {\n        var base_url = '/';\n    }\n\n    // Try loading a local version of requirejs and fallback to cdn if not possible.\n    script_load_root_plot_1678628376940(base_url + 'static/build/jsroot.js', function(){\n        console.error('Fail to load JSROOT locally, please check your jupyter_notebook_config.py file');\n        script_load_root_plot_1678628376940('https://root.cern/js/7.2.1/build/jsroot.js', function(){\n            document.getElementById(\"root_plot_1678628376940\").innerHTML = \"Failed to load JSROOT\";\n        });\n    });\n}\n\n</script>\n"
     },
     "metadata": {},
     "output_type": "display_data"
    }
   ],
   "source": [
    "cc3 = R.TCanvas(\"cc3\",\"Canvas\",1000,600)\n",
    "cc3.SetLogy()\n",
    "h_n_trk.Draw()\n",
    "# h_trk_type.Draw()\n",
    "cc3.Draw()"
   ],
   "metadata": {
    "collapsed": false
   }
  },
  {
   "cell_type": "code",
   "execution_count": 7,
   "outputs": [
    {
     "name": "stdout",
     "output_type": "stream",
     "text": [
      "{ 1, 56, 24 }\n",
      "{ -96.691338, -97.374931, -99.000000 }\n",
      "{ -66.708488, -66.814224, -99.000000 }\n",
      "{ -101.53414 }\n",
      "{ -69.412460 }\n",
      "{ 1449.6185 }\n",
      "{ -97.790115 }\n",
      "{ -70.108475 }\n",
      "{ 1449.6185 }\n",
      "{ 3.0117152 }\n",
      "{ 2.6908541 }\n"
     ]
    }
   ],
   "source": [
    "ch.GetEvent(1002)\n",
    "print(mdst.track_type)\n",
    "print(mdst.track_x_at_ecal)\n",
    "print(mdst.track_y_at_ecal)\n",
    "print(mdst.ecal_cluster_x)\n",
    "print(mdst.ecal_cluster_y)\n",
    "print(mdst.ecal_cluster_z)\n",
    "print(mdst.ecal_cluster_uncor_x)\n",
    "print(mdst.ecal_cluster_uncor_y)\n",
    "print(mdst.ecal_cluster_uncor_z)\n",
    "print(mdst.ecal_cluster_energy)\n",
    "print(mdst.ecal_cluster_uncor_energy)\n"
   ],
   "metadata": {
    "collapsed": false
   }
  },
  {
   "cell_type": "code",
   "execution_count": 8,
   "outputs": [
    {
     "data": {
      "text/plain": "[2.981975791233086, 2.948344232063374]"
     },
     "execution_count": 8,
     "metadata": {},
     "output_type": "execute_result"
    }
   ],
   "source": [
    "list(R.get_vec_abs(mdst.part.px,mdst.part.py,mdst.part.pz))"
   ],
   "metadata": {
    "collapsed": false
   }
  },
  {
   "cell_type": "code",
   "execution_count": 9,
   "outputs": [
    {
     "name": "stdout",
     "output_type": "stream",
     "text": [
      "{ -93.050710, -101.38861, -110.29556, -101.79529, -110.07907 }\n",
      "{ -80.651426, -69.928371, 135.02972, -70.139109, 133.60789 }\n",
      "{ 1461.6530, 1450.8160, 1120.3398, 1454.8381, 1121.0679 }\n",
      "{ 0.00051099889, 2.9999999, 0.0047716166, 0.0000000, 0.0055953349 }\n"
     ]
    },
    {
     "ename": "IndexError",
     "evalue": "index out of range",
     "output_type": "error",
     "traceback": [
      "\u001B[0;31m---------------------------------------------------------------------------\u001B[0m",
      "\u001B[0;31mIndexError\u001B[0m                                Traceback (most recent call last)",
      "Cell \u001B[0;32mIn[9], line 5\u001B[0m\n\u001B[1;32m      3\u001B[0m \u001B[38;5;28mprint\u001B[39m(mdst\u001B[38;5;241m.\u001B[39mmc_part_end_z)\n\u001B[1;32m      4\u001B[0m \u001B[38;5;28mprint\u001B[39m(mdst\u001B[38;5;241m.\u001B[39mmc_part_energy)\n\u001B[0;32m----> 5\u001B[0m \u001B[43mprint_mc_particle_tree\u001B[49m\u001B[43m(\u001B[49m\u001B[43mmdst\u001B[49m\u001B[43m)\u001B[49m\n",
      "File \u001B[0;32m/System/Volumes/Data/data/HPS/Analysis/MC2021/../Python/root_helpers.py:30\u001B[0m, in \u001B[0;36mprint_mc_particle_tree\u001B[0;34m(mdst)\u001B[0m\n\u001B[1;32m     28\u001B[0m \u001B[38;5;28;01mfor\u001B[39;00m i \u001B[38;5;129;01min\u001B[39;00m \u001B[38;5;28mrange\u001B[39m(\u001B[38;5;28mlen\u001B[39m(mdst\u001B[38;5;241m.\u001B[39mmc_part_parents)):\n\u001B[1;32m     29\u001B[0m     \u001B[38;5;28;01mif\u001B[39;00m \u001B[38;5;28mlen\u001B[39m(mdst\u001B[38;5;241m.\u001B[39mmc_part_parents[i]) \u001B[38;5;241m==\u001B[39m \u001B[38;5;241m0\u001B[39m:  \u001B[38;5;66;03m# top level particle\u001B[39;00m\n\u001B[0;32m---> 30\u001B[0m         \u001B[43mprint_daughters\u001B[49m\u001B[43m(\u001B[49m\u001B[43mmdst\u001B[49m\u001B[43m,\u001B[49m\u001B[43m \u001B[49m\u001B[43mi\u001B[49m\u001B[43m,\u001B[49m\u001B[43m \u001B[49m\u001B[38;5;241;43m0\u001B[39;49m\u001B[43m)\u001B[49m\n",
      "File \u001B[0;32m/System/Volumes/Data/data/HPS/Analysis/MC2021/../Python/root_helpers.py:12\u001B[0m, in \u001B[0;36mprint_daughters\u001B[0;34m(mdst, i_part, indent)\u001B[0m\n\u001B[1;32m      3\u001B[0m \u001B[38;5;28;01mdef\u001B[39;00m \u001B[38;5;21mprint_daughters\u001B[39m(mdst, i_part, indent\u001B[38;5;241m=\u001B[39m\u001B[38;5;241m0\u001B[39m):\n\u001B[1;32m      4\u001B[0m \u001B[38;5;250m    \u001B[39m\u001B[38;5;124;03m\"\"\"Given an index to an MC particle, print all the daughters.\u001B[39;00m\n\u001B[1;32m      5\u001B[0m \u001B[38;5;124;03m    This function will recursively print the daughters of the daughters.\u001B[39;00m\n\u001B[1;32m      6\u001B[0m \u001B[38;5;124;03m    Arguments:\u001B[39;00m\n\u001B[0;32m   (...)\u001B[0m\n\u001B[1;32m      9\u001B[0m \u001B[38;5;124;03m        ident  -- the amount of indentation of the output.\u001B[39;00m\n\u001B[1;32m     10\u001B[0m \u001B[38;5;124;03m    \"\"\"\u001B[39;00m\n\u001B[0;32m---> 12\u001B[0m     \u001B[38;5;28mprint\u001B[39m(\u001B[38;5;124m\"\u001B[39m\u001B[38;5;124m \u001B[39m\u001B[38;5;124m\"\u001B[39m\u001B[38;5;241m*\u001B[39mindent\u001B[38;5;241m+\u001B[39m\u001B[38;5;124mf\u001B[39m\u001B[38;5;124m\"\u001B[39m\u001B[38;5;124m \u001B[39m\u001B[38;5;132;01m{\u001B[39;00mi_part\u001B[38;5;132;01m:\u001B[39;00m\u001B[38;5;124m3d\u001B[39m\u001B[38;5;132;01m}\u001B[39;00m\u001B[38;5;124m  pdg: \u001B[39m\u001B[38;5;132;01m{\u001B[39;00m\u001B[43mmdst\u001B[49m\u001B[38;5;241;43m.\u001B[39;49m\u001B[43mmc_part_pdg\u001B[49m\u001B[43m[\u001B[49m\u001B[43mi_part\u001B[49m\u001B[43m]\u001B[49m\u001B[38;5;132;01m:\u001B[39;00m\u001B[38;5;124m4d\u001B[39m\u001B[38;5;132;01m}\u001B[39;00m\u001B[38;5;124m  E: \u001B[39m\u001B[38;5;132;01m{\u001B[39;00mmdst\u001B[38;5;241m.\u001B[39mmc_part_energy[i_part]\u001B[38;5;132;01m:\u001B[39;00m\u001B[38;5;124m9.6f\u001B[39m\u001B[38;5;132;01m}\u001B[39;00m\u001B[38;5;124m \u001B[39m\u001B[38;5;124m\"\u001B[39m \u001B[38;5;241m+\u001B[39m\n\u001B[1;32m     13\u001B[0m           \u001B[38;5;124mf\u001B[39m\u001B[38;5;124m\"\u001B[39m\u001B[38;5;124mp = (\u001B[39m\u001B[38;5;132;01m{\u001B[39;00mmdst\u001B[38;5;241m.\u001B[39mmc_part_px[i_part]\u001B[38;5;132;01m:\u001B[39;00m\u001B[38;5;124m9.6f\u001B[39m\u001B[38;5;132;01m}\u001B[39;00m\u001B[38;5;124m,\u001B[39m\u001B[38;5;132;01m{\u001B[39;00mmdst\u001B[38;5;241m.\u001B[39mmc_part_py[i_part]\u001B[38;5;132;01m:\u001B[39;00m\u001B[38;5;124m9.6f\u001B[39m\u001B[38;5;132;01m}\u001B[39;00m\u001B[38;5;124m,\u001B[39m\u001B[38;5;132;01m{\u001B[39;00mmdst\u001B[38;5;241m.\u001B[39mmc_part_pz[i_part]\u001B[38;5;132;01m:\u001B[39;00m\u001B[38;5;124m9.6f\u001B[39m\u001B[38;5;132;01m}\u001B[39;00m\u001B[38;5;124m)\u001B[39m\u001B[38;5;124m\"\u001B[39m \u001B[38;5;241m+\u001B[39m\n\u001B[1;32m     14\u001B[0m           \u001B[38;5;124mf\u001B[39m\u001B[38;5;124m\"\u001B[39m\u001B[38;5;124mv = (\u001B[39m\u001B[38;5;132;01m{\u001B[39;00mmdst\u001B[38;5;241m.\u001B[39mmc_part_x[i_part]\u001B[38;5;132;01m:\u001B[39;00m\u001B[38;5;124m5.2f\u001B[39m\u001B[38;5;132;01m}\u001B[39;00m\u001B[38;5;124m,\u001B[39m\u001B[38;5;132;01m{\u001B[39;00mmdst\u001B[38;5;241m.\u001B[39mmc_part_y[i_part]\u001B[38;5;132;01m:\u001B[39;00m\u001B[38;5;124m5.2f\u001B[39m\u001B[38;5;132;01m}\u001B[39;00m\u001B[38;5;124m,\u001B[39m\u001B[38;5;132;01m{\u001B[39;00mmdst\u001B[38;5;241m.\u001B[39mmc_part_z[i_part]\u001B[38;5;132;01m:\u001B[39;00m\u001B[38;5;124m5.2f\u001B[39m\u001B[38;5;132;01m}\u001B[39;00m\u001B[38;5;124m) \u001B[39m\u001B[38;5;124m\"\u001B[39m \u001B[38;5;241m+\u001B[39m\n\u001B[1;32m     15\u001B[0m           \u001B[38;5;124mf\u001B[39m\u001B[38;5;124m\"\u001B[39m\u001B[38;5;124mend=(\u001B[39m\u001B[38;5;132;01m{\u001B[39;00mmdst\u001B[38;5;241m.\u001B[39mmc_part_end_x[i_part]\u001B[38;5;132;01m:\u001B[39;00m\u001B[38;5;124m5.2f\u001B[39m\u001B[38;5;132;01m}\u001B[39;00m\u001B[38;5;124m,\u001B[39m\u001B[38;5;132;01m{\u001B[39;00mmdst\u001B[38;5;241m.\u001B[39mmc_part_end_y[i_part]\u001B[38;5;132;01m:\u001B[39;00m\u001B[38;5;124m5.2f\u001B[39m\u001B[38;5;132;01m}\u001B[39;00m\u001B[38;5;124m,\u001B[39m\u001B[38;5;132;01m{\u001B[39;00mmdst\u001B[38;5;241m.\u001B[39mmc_part_end_z[i_part]\u001B[38;5;132;01m:\u001B[39;00m\u001B[38;5;124m5.2f\u001B[39m\u001B[38;5;132;01m}\u001B[39;00m\u001B[38;5;124m)\u001B[39m\u001B[38;5;124m\"\u001B[39m)\n\u001B[1;32m     16\u001B[0m     \u001B[38;5;28;01mif\u001B[39;00m \u001B[38;5;28mlen\u001B[39m(mdst\u001B[38;5;241m.\u001B[39mmc_part_daughters[i_part]) \u001B[38;5;241m>\u001B[39m \u001B[38;5;241m0\u001B[39m:\n\u001B[1;32m     17\u001B[0m         \u001B[38;5;28mprint\u001B[39m(\u001B[38;5;124m\"\u001B[39m\u001B[38;5;124m \u001B[39m\u001B[38;5;124m\"\u001B[39m\u001B[38;5;241m*\u001B[39m(indent\u001B[38;5;241m+\u001B[39m\u001B[38;5;241m14\u001B[39m) \u001B[38;5;241m+\u001B[39m \u001B[38;5;124m\"\u001B[39m\u001B[38;5;124m| \u001B[39m\u001B[38;5;124m\"\u001B[39m)\n",
      "\u001B[0;31mIndexError\u001B[0m: index out of range"
     ]
    }
   ],
   "source": [
    "print(mdst.mc_part_end_x)\n",
    "print(mdst.mc_part_end_y)\n",
    "print(mdst.mc_part_end_z)\n",
    "print(mdst.mc_part_energy)\n",
    "print_mc_particle_tree(mdst)"
   ],
   "metadata": {
    "collapsed": false
   }
  },
  {
   "cell_type": "code",
   "execution_count": 19,
   "outputs": [
    {
     "name": "stdout",
     "output_type": "stream",
     "text": [
      "[21]: 1, 1  (-0.2830, -0.1418,  2.7367), (-100.6,  -69.5, 1443.0)\n",
      "[22]: 1, 1  (-0.0169, -0.0081,  0.1677), (-100.4,  -69.3, 1443.0)\n",
      "[31]: 1, 1  (-0.0054, -0.0028,  0.0528), (-100.6,  -69.6, 1443.0)\n"
     ]
    }
   ],
   "source": [
    "for i in range(len(mdst.mc_score_type)):\n",
    "    if mdst.mc_score_type[i]==1 and mdst.mc_score_pz[i]>0.05:\n",
    "        print(f\"[{i:2d}]: {mdst.mc_score_type[i]:1d}, {mdst.mc_score_part_idx[i]}  ({mdst.mc_score_px[i]:7.4f}, {mdst.mc_score_py[i]:7.4f}, {mdst.mc_score_pz[i]:7.4f}), ({mdst.mc_score_x[i]:6.1f}, {mdst.mc_score_y[i]:6.1f}, {mdst.mc_score_z[i]:6.1f})\")\n"
   ],
   "metadata": {
    "collapsed": false
   }
  },
  {
   "cell_type": "code",
   "execution_count": 18,
   "outputs": [
    {
     "data": {
      "text/plain": "[2.754949414213876, 0.1687648419227899]"
     },
     "execution_count": 18,
     "metadata": {},
     "output_type": "execute_result"
    }
   ],
   "source": [
    "list(R.score_plane_hit_energy(mdst.mc_score_type, mdst.mc_score_px, mdst.mc_score_py, mdst.mc_score_pz, mdst.mc_score_x, mdst.mc_score_y, mdst.mc_score_z))"
   ],
   "metadata": {
    "collapsed": false
   }
  },
  {
   "cell_type": "code",
   "execution_count": 10,
   "outputs": [
    {
     "data": {
      "text/plain": "['__module__',\n '__doc__',\n 'FULL_CLEAR',\n 'Add_Scoring_Plane',\n 'Clear',\n 'DefineBranchMap',\n 'End',\n 'GetActiveBranchNames',\n 'GetBranchNames',\n 'Remove_Scoring_Plane',\n 'Run',\n 'SetBranchActive',\n 'SetBranchAddressesOnTree',\n 'SetBranchMap',\n 'SetDebugLevel',\n 'SetOutputFileName',\n 'Start',\n '__assign__',\n '__init__',\n '_version_',\n 'branch_map_try_emplace',\n 'md_Debug',\n 'md_output_file_name',\n 'Counter_Freq',\n 'md_output_file',\n 'md_output_tree',\n 'md_abort_tree_fill',\n 'use_hodo_raw_hits',\n 'use_hodo_hits',\n 'use_hodo_clusters',\n 'use_ecal_raw_hits',\n 'use_ecal_cluster',\n 'use_ecal_cluster_uncor',\n 'use_ecal_hits',\n 'use_svt_raw_hits',\n 'use_svt_hits',\n 'use_kf_tracks',\n 'use_gbl_tracks',\n 'use_matched_tracks',\n 'use_gbl_kink_data',\n 'use_mc_particles',\n 'use_mc_scoring',\n 'use_kf_particles',\n 'use_gbl_particles',\n 'particle_types_single',\n 'particle_types_double',\n 'branch_map',\n 'branch_map_active',\n 'run_number',\n 'event_number',\n 'time_stamp',\n 'svt_status',\n 'trigger',\n 'ext_trigger',\n 'rf_time1',\n 'rf_time2',\n 'hodo_raw_ix',\n 'hodo_raw_iy',\n 'hodo_raw_hole',\n 'hodo_raw_layer',\n 'hodo_raw_adc',\n 'hodo_hit_energy',\n 'hodo_hit_time',\n 'hodo_hit_index_x',\n 'hodo_hit_index_y',\n 'hodo_hit_hole',\n 'hodo_hit_layer',\n 'hodo_cluster_energy',\n 'hodo_cluster_time',\n 'hodo_cluster_ix',\n 'hodo_cluster_iy',\n 'hodo_cluster_layer',\n 'ecal_raw_ix',\n 'ecal_raw_iy',\n 'ecal_raw_adc',\n 'ecal_hit_energy',\n 'ecal_hit_time',\n 'ecal_hit_index_x',\n 'ecal_hit_index_y',\n 'ecal_cluster_energy',\n 'ecal_cluster_time',\n 'ecal_cluster_x',\n 'ecal_cluster_y',\n 'ecal_cluster_z',\n 'ecal_cluster_seed_index',\n 'ecal_cluster_seed_ix',\n 'ecal_cluster_seed_iy',\n 'ecal_cluster_seed_energy',\n 'ecal_cluster_hits',\n 'ecal_cluster_nhits',\n 'ecal_cluster_uncor_energy',\n 'ecal_cluster_uncor_time',\n 'ecal_cluster_uncor_x',\n 'ecal_cluster_uncor_y',\n 'ecal_cluster_uncor_z',\n 'ecal_cluster_uncor_seed_index',\n 'ecal_cluster_uncor_seed_ix',\n 'ecal_cluster_uncor_seed_iy',\n 'ecal_cluster_uncor_seed_energy',\n 'ecal_cluster_uncor_hits',\n 'ecal_cluster_uncor_nhits',\n 'svt_raw_hit_layer',\n 'svt_raw_hit_module',\n 'svt_raw_hit_strip',\n 'svt_raw_hit_adc',\n 'svt_raw_hit_fit_no',\n 'svt_raw_hit_t0',\n 'svt_raw_hit_t0_err',\n 'svt_raw_hit_amp',\n 'svt_raw_hit_amp_err',\n 'svt_raw_hit_chi2',\n 'svt_hit_type',\n 'svt_hit_x',\n 'svt_hit_y',\n 'svt_hit_z',\n 'svt_hit_cxx',\n 'svt_hit_cxy',\n 'svt_hit_cxz',\n 'svt_hit_cyy',\n 'svt_hit_cyz',\n 'svt_hit_czz',\n 'svt_hit_time',\n 'svt_hit_edep',\n 'svt_hit_raw_index',\n 'svt_hit_raw_other',\n 'svt_hit_layer',\n 'svt_hit_module',\n 'svt_hit_strip',\n 'track_n_gbl',\n 'track_n_kf',\n 'track_n_matched',\n 'track_n_hits',\n 'track_volume',\n 'track_type',\n 'track_d0',\n 'track_phi0',\n 'track_omega',\n 'track_tan_lambda',\n 'track_z0',\n 'track_chi2',\n 'track_time',\n 'track_px',\n 'track_py',\n 'track_pz',\n 'track_x_at_ecal',\n 'track_y_at_ecal',\n 'track_z_at_ecal',\n 'track_isolation',\n 'track_covmatrix',\n 'track_lambda_kinks',\n 'track_phi_kinks',\n 'track_particle',\n 'track_gbl_ref',\n 'track_ref',\n 'track_svt_hits',\n 'part',\n 'v0',\n 'mc_part_energy',\n 'mc_part_id',\n 'mc_part_pdg',\n 'mc_part_sim_status',\n 'mc_part_time',\n 'mc_part_x',\n 'mc_part_y',\n 'mc_part_z',\n 'mc_part_end_x',\n 'mc_part_end_y',\n 'mc_part_end_z',\n 'mc_part_end_px',\n 'mc_part_end_py',\n 'mc_part_end_pz',\n 'mc_part_px',\n 'mc_part_py',\n 'mc_part_pz',\n 'mc_part_mass',\n 'mc_part_charge',\n 'mc_part_simstatus',\n 'mc_part_daughters',\n 'mc_part_parents',\n 'scoring_planes',\n 'scoring_planes_active',\n 'mc_score_type',\n 'mc_score_part_idx',\n 'mc_score_x',\n 'mc_score_y',\n 'mc_score_z',\n 'mc_score_px',\n 'mc_score_py',\n 'mc_score_pz',\n 'mc_score_time',\n 'mc_score_pdg',\n 'kDebug_Quiet',\n 'kDebug_Error',\n 'kDebug_Warning',\n 'kDebug_Info',\n 'kDebug_L1',\n 'kDebug_L2',\n 'kDebug_L3',\n 'kDebug_L4',\n 'FINAL_STATE_PARTICLE',\n 'UC_V0_CANDIDATE',\n 'BSC_V0_CANDIDATE',\n 'TC_V0_CANDIDATE',\n 'UC_MOLLER_CANDIDATE',\n 'BSC_MOLLER_CANDIDATE',\n 'TC_MOLLER_CANDIDATE',\n 'OTHER_ELECTRONS',\n 'UC_VC_CANDIDATE',\n 'FINAL_STATE_PARTICLE_KF',\n 'UC_V0_VERTICES_KF',\n 'BSC_V0_VERTICES_KF',\n 'TC_V0_VERTICES_KF',\n 'UC_MOLLER_VERTICES_KF',\n 'BSC_MOLLER_VERTICES_KF',\n 'TC_MOLLER_VERTICES_KF',\n 'OTHER_ELECTRONS_KF',\n 'UC_VC_VERTICES_KF',\n 'FINAL_STATE_PARTICLE_GBL',\n 'UC_V0_VERTICES_GBL',\n 'BSC_V0_VERTICES_GBL',\n 'TC_V0_VERTICES_GBL',\n 'UC_MOLLER_VERTICES_GBL',\n 'BSC_MOLLER_VERTICES_GBL',\n 'TC_MOLLER_VERTICES_GBL',\n 'OTHER_ELECTRONS_GBL',\n 'UC_VC_VERTICES_GBL',\n '__str__',\n 'MiniDst::Basic_Particle_t',\n 'MiniDst::Single_Particle_t',\n '__dict__',\n '__weakref__',\n 'AbstractMethod',\n 'AppendPad',\n 'Browse',\n 'CheckedHash',\n 'Class',\n 'ClassName',\n 'Class_Name',\n 'Class_Version',\n 'Clone',\n 'Compare',\n 'Copy',\n 'DeclFileLine',\n 'DeclFileName',\n 'Delete',\n 'Dictionary',\n 'DistancetoPrimitive',\n 'Draw',\n 'DrawClass',\n 'DrawClone',\n 'Dump',\n 'Error',\n 'Execute',\n 'ExecuteEvent',\n 'Fatal',\n 'FindObject',\n 'GetDrawOption',\n 'GetDtorOnly',\n 'GetIconName',\n 'GetName',\n 'GetObjectInfo',\n 'GetObjectStat',\n 'GetOption',\n 'GetTitle',\n 'GetUniqueID',\n 'HandleTimer',\n 'HasInconsistentHash',\n 'Hash',\n 'ImplFileLine',\n 'ImplFileName',\n 'Info',\n 'InheritsFrom',\n 'Inspect',\n 'InvertBit',\n 'IsA',\n 'IsDestructed',\n 'IsEqual',\n 'IsFolder',\n 'IsOnHeap',\n 'IsSortable',\n 'IsZombie',\n 'MayNotUse',\n 'Notify',\n 'Obsolete',\n 'Paint',\n 'Pop',\n 'Print',\n 'Read',\n 'RecursiveRemove',\n 'ResetBit',\n 'SaveAs',\n 'SavePrimitive',\n 'SetBit',\n 'SetDrawOption',\n 'SetDtorOnly',\n 'SetObjectStat',\n 'SetUniqueID',\n 'ShowMembers',\n 'Streamer',\n 'StreamerNVirtual',\n 'SysError',\n 'TestBit',\n 'TestBits',\n 'UseCurrentStyle',\n 'Warning',\n 'Write',\n 'ls',\n 'kCanDelete',\n 'kMustCleanup',\n 'kIsReferenced',\n 'kHasUUID',\n 'kCannotPick',\n 'kNoContextMenu',\n 'kInvalidObject',\n 'kObjInCanvas',\n 'kIsOnHeap',\n 'kNotDeleted',\n 'kZombie',\n 'kInconsistent',\n 'kBitMask',\n 'kSingleKey',\n 'kOverwrite',\n 'kWriteDelete',\n '__contains__',\n '__eq__',\n '__ne__',\n '__lt__',\n '__le__',\n '__gt__',\n '__ge__',\n '__new__',\n '__repr__',\n '__hash__',\n '__add__',\n '__radd__',\n '__sub__',\n '__rsub__',\n '__mul__',\n '__rmul__',\n '__neg__',\n '__pos__',\n '__bool__',\n '__invert__',\n '__truediv__',\n '__rtruediv__',\n '__destruct__',\n '__dispatch__',\n '__smartptr__',\n '__python_owns__',\n '__reduce__',\n '__getattribute__',\n '__setattr__',\n '__delattr__',\n '__reduce_ex__',\n '__subclasshook__',\n '__init_subclass__',\n '__format__',\n '__sizeof__',\n '__dir__',\n '__class__']"
     },
     "execution_count": 10,
     "metadata": {},
     "output_type": "execute_result"
    }
   ],
   "source": [
    "mdst.__dir__()"
   ],
   "metadata": {
    "collapsed": false
   }
  },
  {
   "cell_type": "code",
   "execution_count": 12,
   "outputs": [
    {
     "data": {
      "text/plain": "vector<int>{ 454904, 454905, 454906, 454907, 454908 }"
     },
     "execution_count": 12,
     "metadata": {},
     "output_type": "execute_result"
    }
   ],
   "source": [
    "mdst.mc_part_id"
   ],
   "metadata": {
    "collapsed": false
   }
  },
  {
   "cell_type": "code",
   "execution_count": 14,
   "outputs": [
    {
     "name": "stdout",
     "output_type": "stream",
     "text": [
      "******************************************************************************\n",
      "*Chain   :MiniDST   : /data/HPS/data/physrun2021/sim/hpsForward_e-_3.0GeV_z0.0_0_SLIC-v06-00-01_QGSP_BERT_HPS-v2019-3pt7GeV_recon.root *\n",
      "******************************************************************************\n",
      "******************************************************************************\n",
      "*Tree    :MiniDST   : HPS mini-DST                                           *\n",
      "*Entries :    31904 : Total =       369429446 bytes  File  Size =  176117565 *\n",
      "*        :          : Tree compression factor =   2.10                       *\n",
      "******************************************************************************\n",
      "*Br    0 :ecal_cluster_energy : vector<double>                               *\n",
      "*Entries :    31904 : Total  Size=     700207 bytes  File Size  =     250057 *\n",
      "*Baskets :       10 : Basket Size=     166912 bytes  Compression=   2.80     *\n",
      "*............................................................................*\n",
      "*Br    1 :ecal_cluster_hits : vector<vector<int> >                           *\n",
      "*Entries :    31904 : Total  Size=    1510691 bytes  File Size  =     413894 *\n",
      "*Baskets :       14 : Basket Size=     308736 bytes  Compression=   3.65     *\n",
      "*............................................................................*\n",
      "*Br    2 :ecal_cluster_nhits : vector<int>                                   *\n",
      "*Entries :    31904 : Total  Size=     574069 bytes  File Size  =     128489 *\n",
      "*Baskets :        9 : Basket Size=     144896 bytes  Compression=   4.46     *\n",
      "*............................................................................*\n",
      "*Br    3 :ecal_cluster_seed_energy : vector<double>                          *\n",
      "*Entries :    31904 : Total  Size=     700277 bytes  File Size  =     254819 *\n",
      "*Baskets :       10 : Basket Size=     166912 bytes  Compression=   2.75     *\n",
      "*............................................................................*\n",
      "*Br    4 :ecal_cluster_seed_index : vector<int>                              *\n",
      "*Entries :    31904 : Total  Size=     574134 bytes  File Size  =     130245 *\n",
      "*Baskets :        9 : Basket Size=     144896 bytes  Compression=   4.40     *\n",
      "*............................................................................*\n",
      "*Br    5 :ecal_cluster_seed_ix : vector<int>                                 *\n",
      "*Entries :    31904 : Total  Size=     574095 bytes  File Size  =     157002 *\n",
      "*Baskets :        9 : Basket Size=     144896 bytes  Compression=   3.65     *\n",
      "*............................................................................*\n",
      "*Br    6 :ecal_cluster_seed_iy : vector<int>                                 *\n",
      "*Entries :    31904 : Total  Size=     574095 bytes  File Size  =     140593 *\n",
      "*Baskets :        9 : Basket Size=     144896 bytes  Compression=   4.08     *\n",
      "*............................................................................*\n",
      "*Br    7 :ecal_cluster_time : vector<double>                                 *\n",
      "*Entries :    31904 : Total  Size=     700179 bytes  File Size  =     232959 *\n",
      "*Baskets :       10 : Basket Size=     166912 bytes  Compression=   3.00     *\n",
      "*............................................................................*\n",
      "*Br    8 :ecal_cluster_uncor_energy : vector<double>                         *\n",
      "*Entries :    31904 : Total  Size=     700291 bytes  File Size  =     251014 *\n",
      "*Baskets :       10 : Basket Size=     166912 bytes  Compression=   2.79     *\n",
      "*............................................................................*\n",
      "*Br    9 :ecal_cluster_uncor_hits : vector<vector<int> >                     *\n",
      "*Entries :    31904 : Total  Size=    1510799 bytes  File Size  =     414063 *\n",
      "*Baskets :       14 : Basket Size=     308736 bytes  Compression=   3.65     *\n",
      "*............................................................................*\n",
      "*Br   10 :ecal_cluster_uncor_nhits : vector<int>                             *\n",
      "*Entries :    31904 : Total  Size=     574147 bytes  File Size  =     128575 *\n",
      "*Baskets :        9 : Basket Size=     144896 bytes  Compression=   4.46     *\n",
      "*............................................................................*\n",
      "*Br   11 :ecal_cluster_uncor_seed_energy : vector<double>                    *\n",
      "*Entries :    31904 : Total  Size=     700361 bytes  File Size  =     254887 *\n",
      "*Baskets :       10 : Basket Size=     166912 bytes  Compression=   2.75     *\n",
      "*............................................................................*\n",
      "*Br   12 :ecal_cluster_uncor_seed_index : vector<int>                        *\n",
      "*Entries :    31904 : Total  Size=     574212 bytes  File Size  =     130302 *\n",
      "*Baskets :        9 : Basket Size=     144896 bytes  Compression=   4.40     *\n",
      "*............................................................................*\n",
      "*Br   13 :ecal_cluster_uncor_seed_ix : vector<int>                           *\n",
      "*Entries :    31904 : Total  Size=     574173 bytes  File Size  =     157095 *\n",
      "*Baskets :        9 : Basket Size=     144896 bytes  Compression=   3.65     *\n",
      "*............................................................................*\n",
      "*Br   14 :ecal_cluster_uncor_seed_iy : vector<int>                           *\n",
      "*Entries :    31904 : Total  Size=     574173 bytes  File Size  =     140692 *\n",
      "*Baskets :        9 : Basket Size=     144896 bytes  Compression=   4.08     *\n",
      "*............................................................................*\n",
      "*Br   15 :ecal_cluster_uncor_time : vector<double>                           *\n",
      "*Entries :    31904 : Total  Size=     700263 bytes  File Size  =     233030 *\n",
      "*Baskets :       10 : Basket Size=     166912 bytes  Compression=   3.00     *\n",
      "*............................................................................*\n",
      "*Br   16 :ecal_cluster_uncor_x : vector<double>                              *\n",
      "*Entries :    31904 : Total  Size=     700221 bytes  File Size  =     257006 *\n",
      "*Baskets :       10 : Basket Size=     166912 bytes  Compression=   2.72     *\n",
      "*............................................................................*\n",
      "*Br   17 :ecal_cluster_uncor_y : vector<double>                              *\n",
      "*Entries :    31904 : Total  Size=     700221 bytes  File Size  =     257497 *\n",
      "*Baskets :       10 : Basket Size=     166912 bytes  Compression=   2.72     *\n",
      "*............................................................................*\n",
      "*Br   18 :ecal_cluster_uncor_z : vector<double>                              *\n",
      "*Entries :    31904 : Total  Size=     700221 bytes  File Size  =     163554 *\n",
      "*Baskets :       10 : Basket Size=     166912 bytes  Compression=   4.28     *\n",
      "*............................................................................*\n",
      "*Br   19 :ecal_cluster_x : vector<double>                                    *\n",
      "*Entries :    31904 : Total  Size=     700137 bytes  File Size  =     260077 *\n",
      "*Baskets :       10 : Basket Size=     166912 bytes  Compression=   2.69     *\n",
      "*............................................................................*\n",
      "*Br   20 :ecal_cluster_y : vector<double>                                    *\n",
      "*Entries :    31904 : Total  Size=     700137 bytes  File Size  =     257863 *\n",
      "*Baskets :       10 : Basket Size=     166912 bytes  Compression=   2.71     *\n",
      "*............................................................................*\n",
      "*Br   21 :ecal_cluster_z : vector<double>                                    *\n",
      "*Entries :    31904 : Total  Size=     700137 bytes  File Size  =     163451 *\n",
      "*Baskets :       10 : Basket Size=     166912 bytes  Compression=   4.28     *\n",
      "*............................................................................*\n",
      "*Br   22 :ecal_hit_energy : vector<double>                                   *\n",
      "*Entries :    31904 : Total  Size=    2375528 bytes  File Size  =    1342883 *\n",
      "*Baskets :       19 : Basket Size=     460288 bytes  Compression=   1.77     *\n",
      "*............................................................................*\n",
      "*Br   23 :ecal_hit_index_x : vector<int>                                     *\n",
      "*Entries :    31904 : Total  Size=    1411793 bytes  File Size  =     437786 *\n",
      "*Baskets :       14 : Basket Size=     291328 bytes  Compression=   3.22     *\n",
      "*............................................................................*\n",
      "*Br   24 :ecal_hit_index_y : vector<int>                                     *\n",
      "*Entries :    31904 : Total  Size=    1411793 bytes  File Size  =     376963 *\n",
      "*Baskets :       14 : Basket Size=     291328 bytes  Compression=   3.74     *\n",
      "*............................................................................*\n",
      "*Br   25 :ecal_hit_time : vector<double>                                     *\n",
      "*Entries :    31904 : Total  Size=    2375482 bytes  File Size  =    1149393 *\n",
      "*Baskets :       19 : Basket Size=     460288 bytes  Compression=   2.07     *\n",
      "*............................................................................*\n",
      "*Br   26 :event_number : event_number/I                                      *\n",
      "*Entries :    31904 : Total  Size=     128621 bytes  File Size  =      49731 *\n",
      "*Baskets :        6 : Basket Size=      22528 bytes  Compression=   2.58     *\n",
      "*............................................................................*\n",
      "*Br   27 :ext_trigger : ext_trigger/i                                        *\n",
      "*Entries :    31904 : Total  Size=     128611 bytes  File Size  =       1241 *\n",
      "*Baskets :        6 : Basket Size=      22528 bytes  Compression= 103.22     *\n",
      "*............................................................................*\n",
      "*Br   28 :hodo_cluster_energy : vector<double>                               *\n",
      "*Entries :    31904 : Total  Size=     664631 bytes  File Size  =     198255 *\n",
      "*Baskets :       10 : Basket Size=     159744 bytes  Compression=   3.35     *\n",
      "*............................................................................*\n",
      "*Br   29 :hodo_cluster_ix : vector<int>                                      *\n",
      "*Entries :    31904 : Total  Size=     556242 bytes  File Size  =     130293 *\n",
      "*Baskets :        9 : Basket Size=     141312 bytes  Compression=   4.27     *\n",
      "*............................................................................*\n",
      "*Br   30 :hodo_cluster_iy : vector<int>                                      *\n",
      "*Entries :    31904 : Total  Size=     556242 bytes  File Size  =     111901 *\n",
      "*Baskets :        9 : Basket Size=     141312 bytes  Compression=   4.97     *\n",
      "*............................................................................*\n",
      "*Br   31 :hodo_cluster_layer : vector<int>                                   *\n",
      "*Entries :    31904 : Total  Size=     556281 bytes  File Size  =     116208 *\n",
      "*Baskets :        9 : Basket Size=     141312 bytes  Compression=   4.78     *\n",
      "*............................................................................*\n",
      "*Br   32 :hodo_cluster_time : vector<double>                                 *\n",
      "*Entries :    31904 : Total  Size=     664603 bytes  File Size  =     117978 *\n",
      "*Baskets :       10 : Basket Size=     159744 bytes  Compression=   5.63     *\n",
      "*............................................................................*\n",
      "*Br   33 :hodo_hit_energy : vector<double>                                   *\n",
      "*Entries :    31904 : Total  Size=     743063 bytes  File Size  =     226425 *\n",
      "*Baskets :       10 : Basket Size=     173056 bytes  Compression=   3.28     *\n",
      "*............................................................................*\n",
      "*Br   34 :hodo_hit_hole : vector<int>                                        *\n",
      "*Entries :    31904 : Total  Size=     595460 bytes  File Size  =     137893 *\n",
      "*Baskets :        9 : Basket Size=     147968 bytes  Compression=   4.31     *\n",
      "*............................................................................*\n",
      "*Br   35 :hodo_hit_index_x : vector<int>                                     *\n",
      "*Entries :    31904 : Total  Size=     595499 bytes  File Size  =     139798 *\n",
      "*Baskets :        9 : Basket Size=     147968 bytes  Compression=   4.26     *\n",
      "*............................................................................*\n",
      "*Br   36 :hodo_hit_index_y : vector<int>                                     *\n",
      "*Entries :    31904 : Total  Size=     595499 bytes  File Size  =     117672 *\n",
      "*Baskets :        9 : Basket Size=     147968 bytes  Compression=   5.06     *\n",
      "*............................................................................*\n",
      "*Br   37 :hodo_hit_layer : vector<int>                                       *\n",
      "*Entries :    31904 : Total  Size=     595473 bytes  File Size  =     133307 *\n",
      "*Baskets :        9 : Basket Size=     147968 bytes  Compression=   4.46     *\n",
      "*............................................................................*\n",
      "*Br   38 :hodo_hit_time : vector<double>                                     *\n",
      "*Entries :    31904 : Total  Size=     743035 bytes  File Size  =     122960 *\n",
      "*Baskets :       10 : Basket Size=     173056 bytes  Compression=   6.04     *\n",
      "*............................................................................*\n",
      "*Br   39 :mc_part_charge : vector<double>                                    *\n",
      "*Entries :    31904 : Total  Size=   10814113 bytes  File Size  =    1125451 *\n",
      "*Baskets :       68 : Basket Size=    1904640 bytes  Compression=   9.61     *\n",
      "*............................................................................*\n",
      "*Br   40 :mc_part_daughters : vector<vector<int> >                           *\n",
      "*Entries :    31904 : Total  Size=   10686713 bytes  File Size  =    3781026 *\n",
      "*Baskets :       68 : Basket Size=    1882624 bytes  Compression=   2.83     *\n",
      "*............................................................................*\n",
      "*Br   41 :mc_part_end_x : vector<double>                                     *\n",
      "*Entries :    31904 : Total  Size=   10814041 bytes  File Size  =    9790755 *\n",
      "*Baskets :       68 : Basket Size=    1904640 bytes  Compression=   1.10     *\n",
      "*............................................................................*\n",
      "*Br   42 :mc_part_end_y : vector<double>                                     *\n",
      "*Entries :    31904 : Total  Size=   10814041 bytes  File Size  =    9951551 *\n",
      "*Baskets :       68 : Basket Size=    1904640 bytes  Compression=   1.09     *\n",
      "*............................................................................*\n",
      "*Br   43 :mc_part_end_z : vector<double>                                     *\n",
      "*Entries :    31904 : Total  Size=   10814041 bytes  File Size  =    9107289 *\n",
      "*Baskets :       68 : Basket Size=    1904640 bytes  Compression=   1.19     *\n",
      "*............................................................................*\n",
      "*Br   44 :mc_part_energy : vector<double>                                    *\n",
      "*Entries :    31904 : Total  Size=   10814113 bytes  File Size  =    9646517 *\n",
      "*Baskets :       68 : Basket Size=    1904640 bytes  Compression=   1.12     *\n",
      "*............................................................................*\n",
      "*Br   45 :mc_part_gen_status : vector<int>                                   *\n",
      "*Entries :    31904 : Total  Size=    5631289 bytes  File Size  =     331379 *\n",
      "*Baskets :       39 : Basket Size=    1013760 bytes  Compression=  16.99     *\n",
      "*............................................................................*\n",
      "*Br   46 :mc_part_id : vector<int>                                           *\n",
      "*Entries :    31904 : Total  Size=    5630945 bytes  File Size  =    2372368 *\n",
      "*Baskets :       39 : Basket Size=    1013760 bytes  Compression=   2.37     *\n",
      "*............................................................................*\n",
      "*Br   47 :mc_part_mass : vector<double>                                      *\n",
      "*Entries :    31904 : Total  Size=   10813969 bytes  File Size  =    1060426 *\n",
      "*Baskets :       68 : Basket Size=    1904640 bytes  Compression=  10.20     *\n",
      "*............................................................................*\n",
      "*Br   48 :mc_part_parents : vector<vector<int> >                             *\n",
      "*Entries :    31904 : Total  Size=   10686569 bytes  File Size  =    2804604 *\n",
      "*Baskets :       68 : Basket Size=    1882624 bytes  Compression=   3.81     *\n",
      "*............................................................................*\n",
      "*Br   49 :mc_part_pdg_id : vector<int>                                       *\n",
      "*Entries :    31904 : Total  Size=    5631117 bytes  File Size  =     981097 *\n",
      "*Baskets :       39 : Basket Size=    1013760 bytes  Compression=   5.74     *\n",
      "*............................................................................*\n",
      "*Br   50 :mc_part_px : vector<double>                                        *\n",
      "*Entries :    31904 : Total  Size=   10813825 bytes  File Size  =    6271443 *\n",
      "*Baskets :       68 : Basket Size=    1904640 bytes  Compression=   1.72     *\n",
      "*............................................................................*\n",
      "*Br   51 :mc_part_py : vector<double>                                        *\n",
      "*Entries :    31904 : Total  Size=   10813825 bytes  File Size  =    6383541 *\n",
      "*Baskets :       68 : Basket Size=    1904640 bytes  Compression=   1.69     *\n",
      "*............................................................................*\n",
      "*Br   52 :mc_part_pz : vector<double>                                        *\n",
      "*Entries :    31904 : Total  Size=   10813825 bytes  File Size  =    6121866 *\n",
      "*Baskets :       68 : Basket Size=    1904640 bytes  Compression=   1.77     *\n",
      "*............................................................................*\n",
      "*Br   53 :mc_part_simstatus : vector<int>                                    *\n",
      "*Entries :    31904 : Total  Size=    5631246 bytes  File Size  =    1354834 *\n",
      "*Baskets :       39 : Basket Size=    1013760 bytes  Compression=   4.16     *\n",
      "*............................................................................*\n",
      "*Br   54 :mc_part_time : vector<double>                                      *\n",
      "*Entries :    31904 : Total  Size=   10813969 bytes  File Size  =    1629400 *\n",
      "*Baskets :       68 : Basket Size=    1904640 bytes  Compression=   6.64     *\n",
      "*............................................................................*\n",
      "*Br   55 :mc_part_x : vector<double>                                         *\n",
      "*Entries :    31904 : Total  Size=   10813753 bytes  File Size  =    9137545 *\n",
      "*Baskets :       68 : Basket Size=    1904128 bytes  Compression=   1.18     *\n",
      "*............................................................................*\n",
      "*Br   56 :mc_part_y : vector<double>                                         *\n",
      "*Entries :    31904 : Total  Size=   10813753 bytes  File Size  =    9209436 *\n",
      "*Baskets :       68 : Basket Size=    1904128 bytes  Compression=   1.17     *\n",
      "*............................................................................*\n",
      "*Br   57 :mc_part_z : vector<double>                                         *\n",
      "*Entries :    31904 : Total  Size=   10813753 bytes  File Size  =    9050818 *\n",
      "*Baskets :       68 : Basket Size=    1904128 bytes  Compression=   1.19     *\n",
      "*............................................................................*\n",
      "*Br   58 :mc_score_part_idx : vector<int>                                    *\n",
      "*Entries :    31904 : Total  Size=    5578960 bytes  File Size  =    1309810 *\n",
      "*Baskets :       37 : Basket Size=    1013760 bytes  Compression=   4.26     *\n",
      "*............................................................................*\n",
      "*Br   59 :mc_score_pdg : vector<int>                                         *\n",
      "*Entries :    31904 : Total  Size=     447983 bytes  File Size  =      48205 *\n",
      "*Baskets :        9 : Basket Size=     122880 bytes  Compression=   9.28     *\n",
      "*............................................................................*\n",
      "*Br   60 :mc_score_px : vector<double>                                       *\n",
      "*Entries :    31904 : Total  Size=   10709349 bytes  File Size  =    6579789 *\n",
      "*Baskets :       64 : Basket Size=    1904128 bytes  Compression=   1.63     *\n",
      "*............................................................................*\n",
      "*Br   61 :mc_score_py : vector<double>                                       *\n",
      "*Entries :    31904 : Total  Size=   10709349 bytes  File Size  =    6424834 *\n",
      "*Baskets :       64 : Basket Size=    1904128 bytes  Compression=   1.67     *\n",
      "*............................................................................*\n",
      "*Br   62 :mc_score_pz : vector<double>                                       *\n",
      "*Entries :    31904 : Total  Size=   10709349 bytes  File Size  =    6210064 *\n",
      "*Baskets :       64 : Basket Size=    1904128 bytes  Compression=   1.72     *\n",
      "*............................................................................*\n",
      "*Br   63 :mc_score_time : vector<double>                                     *\n",
      "*Entries :    31904 : Total  Size=   10709485 bytes  File Size  =    5811124 *\n",
      "*Baskets :       64 : Basket Size=    1904128 bytes  Compression=   1.84     *\n",
      "*............................................................................*\n",
      "*Br   64 :mc_score_type : vector<int>                                        *\n",
      "*Entries :    31904 : Total  Size=    5578796 bytes  File Size  =     452475 *\n",
      "*Baskets :       37 : Basket Size=    1013760 bytes  Compression=  12.33     *\n",
      "*............................................................................*\n",
      "*Br   65 :mc_score_x : vector<double>                                        *\n",
      "*Entries :    31904 : Total  Size=   10709281 bytes  File Size  =   10154220 *\n",
      "*Baskets :       64 : Basket Size=    1904128 bytes  Compression=   1.05     *\n",
      "*............................................................................*\n",
      "*Br   66 :mc_score_y : vector<double>                                        *\n",
      "*Entries :    31904 : Total  Size=   10709281 bytes  File Size  =   10167864 *\n",
      "*Baskets :       64 : Basket Size=    1904128 bytes  Compression=   1.05     *\n",
      "*............................................................................*\n",
      "*Br   67 :mc_score_z : vector<double>                                        *\n",
      "*Entries :    31904 : Total  Size=   10709281 bytes  File Size  =    3407089 *\n",
      "*Baskets :       64 : Basket Size=    1904128 bytes  Compression=   3.14     *\n",
      "*............................................................................*\n",
      "*Br   68 :part_charge : vector<int>                                          *\n",
      "*Entries :    31904 : Total  Size=     704831 bytes  File Size  =     122093 *\n",
      "*Baskets :       10 : Basket Size=     167936 bytes  Compression=   5.77     *\n",
      "*............................................................................*\n",
      "*Br   69 :part_ecal_cluster : vector<int>                                    *\n",
      "*Entries :    31904 : Total  Size=     704915 bytes  File Size  =      98901 *\n",
      "*Baskets :       10 : Basket Size=     167936 bytes  Compression=   7.12     *\n",
      "*............................................................................*\n",
      "*Br   70 :part_energy : vector<double>                                       *\n",
      "*Entries :    31904 : Total  Size=     961692 bytes  File Size  =     322972 *\n",
      "*Baskets :       11 : Basket Size=     212480 bytes  Compression=   2.98     *\n",
      "*............................................................................*\n",
      "*Br   71 :part_goodness_of_pid : vector<double>                              *\n",
      "*Entries :    31904 : Total  Size=     961827 bytes  File Size  =     140774 *\n",
      "*Baskets :       11 : Basket Size=     212480 bytes  Compression=   6.83     *\n",
      "*............................................................................*\n",
      "*Br   72 :part_lcio_type : vector<int>                                       *\n",
      "*Entries :    31904 : Total  Size=     704873 bytes  File Size  =     130895 *\n",
      "*Baskets :       10 : Basket Size=     167936 bytes  Compression=   5.38     *\n",
      "*............................................................................*\n",
      "*Br   73 :part_mass : vector<double>                                         *\n",
      "*Entries :    31904 : Total  Size=     961662 bytes  File Size  =      94964 *\n",
      "*Baskets :       11 : Basket Size=     212480 bytes  Compression=  10.12     *\n",
      "*............................................................................*\n",
      "*Br   74 :part_pdg  : vector<int>                                            *\n",
      "*Entries :    31904 : Total  Size=     704789 bytes  File Size  =     119580 *\n",
      "*Baskets :       10 : Basket Size=     167936 bytes  Compression=   5.89     *\n",
      "*............................................................................*\n",
      "*Br   75 :part_px   : vector<double>                                         *\n",
      "*Entries :    31904 : Total  Size=     961632 bytes  File Size  =     435522 *\n",
      "*Baskets :       11 : Basket Size=     212480 bytes  Compression=   2.21     *\n",
      "*............................................................................*\n",
      "*Br   76 :part_py   : vector<double>                                         *\n",
      "*Entries :    31904 : Total  Size=     961632 bytes  File Size  =     433495 *\n",
      "*Baskets :       11 : Basket Size=     212480 bytes  Compression=   2.22     *\n",
      "*............................................................................*\n",
      "*Br   77 :part_pz   : vector<double>                                         *\n",
      "*Entries :    31904 : Total  Size=     961632 bytes  File Size  =     389756 *\n",
      "*Baskets :       11 : Basket Size=     212480 bytes  Compression=   2.47     *\n",
      "*............................................................................*\n",
      "*Br   78 :part_track : vector<int>                                           *\n",
      "*Entries :    31904 : Total  Size=     704817 bytes  File Size  =     119978 *\n",
      "*Baskets :       10 : Basket Size=     167936 bytes  Compression=   5.87     *\n",
      "*............................................................................*\n",
      "*Br   79 :part_track_chi2 : vector<double>                                   *\n",
      "*Entries :    31904 : Total  Size=     961752 bytes  File Size  =     362278 *\n",
      "*Baskets :       11 : Basket Size=     212480 bytes  Compression=   2.65     *\n",
      "*............................................................................*\n",
      "*Br   80 :part_type : vector<int>                                            *\n",
      "*Entries :    31904 : Total  Size=     704803 bytes  File Size  =      91486 *\n",
      "*Baskets :       10 : Basket Size=     167936 bytes  Compression=   7.70     *\n",
      "*............................................................................*\n",
      "*Br   81 :rf_time1  : rf_time1/D                                             *\n",
      "*Entries :    31904 : Total  Size=     256283 bytes  File Size  =       1886 *\n",
      "*Baskets :        7 : Basket Size=      45056 bytes  Compression= 135.62     *\n",
      "*............................................................................*\n",
      "*Br   82 :rf_time2  : rf_time2/D                                             *\n",
      "*Entries :    31904 : Total  Size=     256283 bytes  File Size  =       1886 *\n",
      "*Baskets :        7 : Basket Size=      45056 bytes  Compression= 135.62     *\n",
      "*............................................................................*\n",
      "*Br   83 :run_number : run_number/I                                          *\n",
      "*Entries :    31904 : Total  Size=     128601 bytes  File Size  =       1347 *\n",
      "*Baskets :        6 : Basket Size=      22528 bytes  Compression=  95.10     *\n",
      "*............................................................................*\n",
      "*Br   84 :svt_status : svt_status/i                                          *\n",
      "*Entries :    31904 : Total  Size=     128601 bytes  File Size  =       1235 *\n",
      "*Baskets :        6 : Basket Size=      22528 bytes  Compression= 103.72     *\n",
      "*............................................................................*\n",
      "*Br   85 :time_stamp : time_stamp/l                                          *\n",
      "*Entries :    31904 : Total  Size=     256305 bytes  File Size  =      82824 *\n",
      "*Baskets :        7 : Basket Size=      45056 bytes  Compression=   3.09     *\n",
      "*............................................................................*\n",
      "*Br   86 :track_chi2 : vector<double>                                        *\n",
      "*Entries :    31904 : Total  Size=     945637 bytes  File Size  =     437207 *\n",
      "*Baskets :       11 : Basket Size=     209408 bytes  Compression=   2.16     *\n",
      "*............................................................................*\n",
      "*Br   87 :track_covmatrix : vector<vector<double> >                          *\n",
      "*Entries :    31904 : Total  Size=    8163460 bytes  File Size  =    4579556 *\n",
      "*Baskets :       51 : Basket Size=    1463296 bytes  Compression=   1.78     *\n",
      "*............................................................................*\n",
      "*Br   88 :track_d0  : vector<double>                                         *\n",
      "*Entries :    31904 : Total  Size=     945607 bytes  File Size  =     459641 *\n",
      "*Baskets :       11 : Basket Size=     209408 bytes  Compression=   2.06     *\n",
      "*............................................................................*\n",
      "*Br   89 :track_gbl_ref : vector<int>                                        *\n",
      "*Entries :    31904 : Total  Size=     696839 bytes  File Size  =      96695 *\n",
      "*Baskets :       10 : Basket Size=     165888 bytes  Compression=   7.20     *\n",
      "*............................................................................*\n",
      "*Br   90 :track_isolation : vector<vector<double> >                          *\n",
      "*Entries :    31904 : Total  Size=    7665657 bytes  File Size  =     276690 *\n",
      "*Baskets :       48 : Basket Size=    1376768 bytes  Compression=  27.70     *\n",
      "*............................................................................*\n",
      "*Br   91 :track_lambda_kinks : vector<vector<double> >                       *\n",
      "*Entries :    31904 : Total  Size=     448061 bytes  File Size  =      48268 *\n",
      "*Baskets :        9 : Basket Size=     122880 bytes  Compression=   9.27     *\n",
      "*............................................................................*\n",
      "*Br   92 :track_n_gbl : track_n_gbl/I                                        *\n",
      "*Entries :    31904 : Total  Size=     128611 bytes  File Size  =      14618 *\n",
      "*Baskets :        6 : Basket Size=      22528 bytes  Compression=   8.76     *\n",
      "*............................................................................*\n",
      "*Br   93 :track_n_hits : vector<int>                                         *\n",
      "*Entries :    31904 : Total  Size=     696825 bytes  File Size  =      96018 *\n",
      "*Baskets :       10 : Basket Size=     165888 bytes  Compression=   7.25     *\n",
      "*............................................................................*\n",
      "*Br   94 :track_n_kf : track_n_kf/I                                          *\n",
      "*Entries :    31904 : Total  Size=     128601 bytes  File Size  =      14078 *\n",
      "*Baskets :        6 : Basket Size=      22528 bytes  Compression=   9.10     *\n",
      "*............................................................................*\n",
      "*Br   95 :track_n_matched : track_n_matched/I                                *\n",
      "*Entries :    31904 : Total  Size=     128651 bytes  File Size  =      14642 *\n",
      "*Baskets :        6 : Basket Size=      22528 bytes  Compression=   8.75     *\n",
      "*............................................................................*\n",
      "*Br   96 :track_omega : vector<double>                                       *\n",
      "*Entries :    31904 : Total  Size=     945652 bytes  File Size  =     421058 *\n",
      "*Baskets :       11 : Basket Size=     209408 bytes  Compression=   2.24     *\n",
      "*............................................................................*\n",
      "*Br   97 :track_particle : vector<int>                                       *\n",
      "*Entries :    31904 : Total  Size=     696853 bytes  File Size  =     107089 *\n",
      "*Baskets :       10 : Basket Size=     165888 bytes  Compression=   6.50     *\n",
      "*............................................................................*\n",
      "*Br   98 :track_phi0 : vector<double>                                        *\n",
      "*Entries :    31904 : Total  Size=     945637 bytes  File Size  =     446738 *\n",
      "*Baskets :       11 : Basket Size=     209408 bytes  Compression=   2.12     *\n",
      "*............................................................................*\n",
      "*Br   99 :track_phi_kinks : vector<vector<double> >                          *\n",
      "*Entries :    31904 : Total  Size=     448022 bytes  File Size  =      48236 *\n",
      "*Baskets :        9 : Basket Size=     122880 bytes  Compression=   9.28     *\n",
      "*............................................................................*\n",
      "*Br  100 :track_px  : vector<double>                                         *\n",
      "*Entries :    31904 : Total  Size=     945607 bytes  File Size  =     347028 *\n",
      "*Baskets :       11 : Basket Size=     209408 bytes  Compression=   2.72     *\n",
      "*............................................................................*\n",
      "*Br  101 :track_py  : vector<double>                                         *\n",
      "*Entries :    31904 : Total  Size=     945607 bytes  File Size  =     345376 *\n",
      "*Baskets :       11 : Basket Size=     209408 bytes  Compression=   2.74     *\n",
      "*............................................................................*\n",
      "*Br  102 :track_pz  : vector<double>                                         *\n",
      "*Entries :    31904 : Total  Size=     945607 bytes  File Size  =     322000 *\n",
      "*Baskets :       11 : Basket Size=     209408 bytes  Compression=   2.93     *\n",
      "*............................................................................*\n",
      "*Br  103 :track_ref : vector<int>                                            *\n",
      "*Entries :    31904 : Total  Size=     696783 bytes  File Size  =      96658 *\n",
      "*Baskets :       10 : Basket Size=     165888 bytes  Compression=   7.20     *\n",
      "*............................................................................*\n",
      "*Br  104 :track_svt_hits : vector<vector<int> >                              *\n",
      "*Entries :    31904 : Total  Size=     448009 bytes  File Size  =      48330 *\n",
      "*Baskets :        9 : Basket Size=     122880 bytes  Compression=   9.26     *\n",
      "*............................................................................*\n",
      "*Br  105 :track_tan_lambda : vector<double>                                  *\n",
      "*Entries :    31904 : Total  Size=     945727 bytes  File Size  =     438164 *\n",
      "*Baskets :       11 : Basket Size=     209408 bytes  Compression=   2.16     *\n",
      "*............................................................................*\n",
      "*Br  106 :track_time : vector<double>                                        *\n",
      "*Entries :    31904 : Total  Size=     945637 bytes  File Size  =     299702 *\n",
      "*Baskets :       11 : Basket Size=     209408 bytes  Compression=   3.15     *\n",
      "*............................................................................*\n",
      "*Br  107 :track_type : vector<int>                                           *\n",
      "*Entries :    31904 : Total  Size=     696797 bytes  File Size  =     111312 *\n",
      "*Baskets :       10 : Basket Size=     165888 bytes  Compression=   6.26     *\n",
      "*............................................................................*\n",
      "*Br  108 :track_volume : vector<int>                                         *\n",
      "*Entries :    31904 : Total  Size=     696825 bytes  File Size  =     115720 *\n",
      "*Baskets :       10 : Basket Size=     165888 bytes  Compression=   6.02     *\n",
      "*............................................................................*\n",
      "*Br  109 :track_x_at_ecal : vector<double>                                   *\n",
      "*Entries :    31904 : Total  Size=     945712 bytes  File Size  =     346395 *\n",
      "*Baskets :       11 : Basket Size=     209408 bytes  Compression=   2.73     *\n",
      "*............................................................................*\n",
      "*Br  110 :track_y_at_ecal : vector<double>                                   *\n",
      "*Entries :    31904 : Total  Size=     945712 bytes  File Size  =     342893 *\n",
      "*Baskets :       11 : Basket Size=     209408 bytes  Compression=   2.76     *\n",
      "*............................................................................*\n",
      "*Br  111 :track_z0  : vector<double>                                         *\n",
      "*Entries :    31904 : Total  Size=     945607 bytes  File Size  =     460257 *\n",
      "*Baskets :       11 : Basket Size=     209408 bytes  Compression=   2.05     *\n",
      "*............................................................................*\n",
      "*Br  112 :track_z_at_ecal : vector<double>                                   *\n",
      "*Entries :    31904 : Total  Size=     945712 bytes  File Size  =     101923 *\n",
      "*Baskets :       11 : Basket Size=     209408 bytes  Compression=   9.27     *\n",
      "*............................................................................*\n",
      "*Br  113 :trigger   : trigger/i                                              *\n",
      "*Entries :    31904 : Total  Size=     128571 bytes  File Size  =       1217 *\n",
      "*Baskets :        6 : Basket Size=      22528 bytes  Compression= 105.24     *\n",
      "*............................................................................*\n",
      "*Br  114 :v0_charge : vector<int>                                            *\n",
      "*Entries :    31904 : Total  Size=     447992 bytes  File Size  =      48362 *\n",
      "*Baskets :        9 : Basket Size=     122880 bytes  Compression=   9.25     *\n",
      "*............................................................................*\n",
      "*Br  115 :v0_em_chi2 : vector<double>                                        *\n",
      "*Entries :    31904 : Total  Size=     448053 bytes  File Size  =      48489 *\n",
      "*Baskets :        9 : Basket Size=     122880 bytes  Compression=   9.23     *\n",
      "*............................................................................*\n",
      "*Br  116 :v0_em_clus : vector<int>                                           *\n",
      "*Entries :    31904 : Total  Size=     448005 bytes  File Size  =      48385 *\n",
      "*Baskets :        9 : Basket Size=     122880 bytes  Compression=   9.25     *\n",
      "*............................................................................*\n",
      "*Br  117 :v0_em_clus_energy : vector<double>                                 *\n",
      "*Entries :    31904 : Total  Size=     448144 bytes  File Size  =      48534 *\n",
      "*Baskets :        9 : Basket Size=     122880 bytes  Compression=   9.22     *\n",
      "*............................................................................*\n",
      "*Br  118 :v0_em_clus_ix : vector<int>                                        *\n",
      "*Entries :    31904 : Total  Size=     448044 bytes  File Size  =      48404 *\n",
      "*Baskets :        9 : Basket Size=     122880 bytes  Compression=   9.25     *\n",
      "*............................................................................*\n",
      "*Br  119 :v0_em_clus_iy : vector<int>                                        *\n",
      "*Entries :    31904 : Total  Size=     448044 bytes  File Size  =      48404 *\n",
      "*Baskets :        9 : Basket Size=     122880 bytes  Compression=   9.25     *\n",
      "*............................................................................*\n",
      "*Br  120 :v0_em_clus_pos_x : vector<double>                                  *\n",
      "*Entries :    31904 : Total  Size=     448131 bytes  File Size  =      48529 *\n",
      "*Baskets :        9 : Basket Size=     122880 bytes  Compression=   9.22     *\n",
      "*............................................................................*\n",
      "*Br  121 :v0_em_clus_pos_y : vector<double>                                  *\n",
      "*Entries :    31904 : Total  Size=     448131 bytes  File Size  =      48534 *\n",
      "*Baskets :        9 : Basket Size=     122880 bytes  Compression=   9.22     *\n",
      "*............................................................................*\n",
      "*Br  122 :v0_em_clus_time : vector<double>                                   *\n",
      "*Entries :    31904 : Total  Size=     448118 bytes  File Size  =      48546 *\n",
      "*Baskets :        9 : Basket Size=     122880 bytes  Compression=   9.22     *\n",
      "*............................................................................*\n",
      "*Br  123 :v0_em_good_pid : vector<double>                                    *\n",
      "*Entries :    31904 : Total  Size=     448105 bytes  File Size  =      48601 *\n",
      "*Baskets :        9 : Basket Size=     122880 bytes  Compression=   9.21     *\n",
      "*............................................................................*\n",
      "*Br  124 :v0_em_p   : vector<double>                                         *\n",
      "*Entries :    31904 : Total  Size=     448014 bytes  File Size  =      48496 *\n",
      "*Baskets :        9 : Basket Size=     122880 bytes  Compression=   9.23     *\n",
      "*............................................................................*\n",
      "*Br  125 :v0_em_part : vector<int>                                           *\n",
      "*Entries :    31904 : Total  Size=     448005 bytes  File Size  =      48383 *\n",
      "*Baskets :        9 : Basket Size=     122880 bytes  Compression=   9.25     *\n",
      "*............................................................................*\n",
      "*Br  126 :v0_em_pos_ecal_x : vector<double>                                  *\n",
      "*Entries :    31904 : Total  Size=     448131 bytes  File Size  =      48572 *\n",
      "*Baskets :        9 : Basket Size=     122880 bytes  Compression=   9.22     *\n",
      "*............................................................................*\n",
      "*Br  127 :v0_em_pos_ecal_y : vector<double>                                  *\n",
      "*Entries :    31904 : Total  Size=     448131 bytes  File Size  =      48562 *\n",
      "*Baskets :        9 : Basket Size=     122880 bytes  Compression=   9.22     *\n",
      "*............................................................................*\n",
      "*Br  128 :v0_em_track : vector<int>                                          *\n",
      "*Entries :    31904 : Total  Size=     448018 bytes  File Size  =      48404 *\n",
      "*Baskets :        9 : Basket Size=     122880 bytes  Compression=   9.25     *\n",
      "*............................................................................*\n",
      "*Br  129 :v0_em_track_nhit : vector<int>                                     *\n",
      "*Entries :    31904 : Total  Size=     448083 bytes  File Size  =      48450 *\n",
      "*Baskets :        9 : Basket Size=     122880 bytes  Compression=   9.24     *\n",
      "*............................................................................*\n",
      "*Br  130 :v0_em_track_time : vector<double>                                  *\n",
      "*Entries :    31904 : Total  Size=     448131 bytes  File Size  =      48544 *\n",
      "*Baskets :        9 : Basket Size=     122880 bytes  Compression=   9.22     *\n",
      "*............................................................................*\n",
      "*Br  131 :v0_energy : vector<double>                                         *\n",
      "*Entries :    31904 : Total  Size=     448040 bytes  File Size  =      48468 *\n",
      "*Baskets :        9 : Basket Size=     122880 bytes  Compression=   9.23     *\n",
      "*............................................................................*\n",
      "*Br  132 :v0_ep_chi2 : vector<double>                                        *\n",
      "*Entries :    31904 : Total  Size=     448053 bytes  File Size  =      48495 *\n",
      "*Baskets :        9 : Basket Size=     122880 bytes  Compression=   9.23     *\n",
      "*............................................................................*\n",
      "*Br  133 :v0_ep_clus : vector<int>                                           *\n",
      "*Entries :    31904 : Total  Size=     448005 bytes  File Size  =      48375 *\n",
      "*Baskets :        9 : Basket Size=     122880 bytes  Compression=   9.25     *\n",
      "*............................................................................*\n",
      "*Br  134 :v0_ep_clus_energy : vector<double>                                 *\n",
      "*Entries :    31904 : Total  Size=     448144 bytes  File Size  =      48537 *\n",
      "*Baskets :        9 : Basket Size=     122880 bytes  Compression=   9.22     *\n",
      "*............................................................................*\n",
      "*Br  135 :v0_ep_clus_ix : vector<int>                                        *\n",
      "*Entries :    31904 : Total  Size=     448044 bytes  File Size  =      48404 *\n",
      "*Baskets :        9 : Basket Size=     122880 bytes  Compression=   9.25     *\n",
      "*............................................................................*\n",
      "*Br  136 :v0_ep_clus_iy : vector<int>                                        *\n",
      "*Entries :    31904 : Total  Size=     448044 bytes  File Size  =      48404 *\n",
      "*Baskets :        9 : Basket Size=     122880 bytes  Compression=   9.25     *\n",
      "*............................................................................*\n",
      "*Br  137 :v0_ep_clus_pos_x : vector<double>                                  *\n",
      "*Entries :    31904 : Total  Size=     448131 bytes  File Size  =      48531 *\n",
      "*Baskets :        9 : Basket Size=     122880 bytes  Compression=   9.22     *\n",
      "*............................................................................*\n",
      "*Br  138 :v0_ep_clus_pos_y : vector<double>                                  *\n",
      "*Entries :    31904 : Total  Size=     448131 bytes  File Size  =      48521 *\n",
      "*Baskets :        9 : Basket Size=     122880 bytes  Compression=   9.22     *\n",
      "*............................................................................*\n",
      "*Br  139 :v0_ep_clus_time : vector<double>                                   *\n",
      "*Entries :    31904 : Total  Size=     448118 bytes  File Size  =      48552 *\n",
      "*Baskets :        9 : Basket Size=     122880 bytes  Compression=   9.22     *\n",
      "*............................................................................*\n",
      "*Br  140 :v0_ep_good_pid : vector<double>                                    *\n",
      "*Entries :    31904 : Total  Size=     448105 bytes  File Size  =      48599 *\n",
      "*Baskets :        9 : Basket Size=     122880 bytes  Compression=   9.21     *\n",
      "*............................................................................*\n",
      "*Br  141 :v0_ep_p   : vector<double>                                         *\n",
      "*Entries :    31904 : Total  Size=     448014 bytes  File Size  =      48501 *\n",
      "*Baskets :        9 : Basket Size=     122880 bytes  Compression=   9.23     *\n",
      "*............................................................................*\n",
      "*Br  142 :v0_ep_part : vector<int>                                           *\n",
      "*Entries :    31904 : Total  Size=     448005 bytes  File Size  =      48392 *\n",
      "*Baskets :        9 : Basket Size=     122880 bytes  Compression=   9.25     *\n",
      "*............................................................................*\n",
      "*Br  143 :v0_ep_pos_ecal_x : vector<double>                                  *\n",
      "*Entries :    31904 : Total  Size=     448131 bytes  File Size  =      48553 *\n",
      "*Baskets :        9 : Basket Size=     122880 bytes  Compression=   9.22     *\n",
      "*............................................................................*\n",
      "*Br  144 :v0_ep_pos_ecal_y : vector<double>                                  *\n",
      "*Entries :    31904 : Total  Size=     448131 bytes  File Size  =      48540 *\n",
      "*Baskets :        9 : Basket Size=     122880 bytes  Compression=   9.22     *\n",
      "*............................................................................*\n",
      "*Br  145 :v0_ep_track : vector<int>                                          *\n",
      "*Entries :    31904 : Total  Size=     448018 bytes  File Size  =      48407 *\n",
      "*Baskets :        9 : Basket Size=     122880 bytes  Compression=   9.24     *\n",
      "*............................................................................*\n",
      "*Br  146 :v0_ep_track_nhit : vector<int>                                     *\n",
      "*Entries :    31904 : Total  Size=     448083 bytes  File Size  =      48450 *\n",
      "*Baskets :        9 : Basket Size=     122880 bytes  Compression=   9.24     *\n",
      "*............................................................................*\n",
      "*Br  147 :v0_ep_track_time : vector<double>                                  *\n",
      "*Entries :    31904 : Total  Size=     448131 bytes  File Size  =      48556 *\n",
      "*Baskets :        9 : Basket Size=     122880 bytes  Compression=   9.22     *\n",
      "*............................................................................*\n",
      "*Br  148 :v0_goodness_of_pid : vector<double>                                *\n",
      "*Entries :    31904 : Total  Size=     448157 bytes  File Size  =      48581 *\n",
      "*Baskets :        9 : Basket Size=     122880 bytes  Compression=   9.21     *\n",
      "*............................................................................*\n",
      "*Br  149 :v0_lcio_type : vector<int>                                         *\n",
      "*Entries :    31904 : Total  Size=     448031 bytes  File Size  =      48389 *\n",
      "*Baskets :        9 : Basket Size=     122880 bytes  Compression=   9.25     *\n",
      "*............................................................................*\n",
      "*Br  150 :v0_mass   : vector<double>                                         *\n",
      "*Entries :    31904 : Total  Size=     448014 bytes  File Size  =      48465 *\n",
      "*Baskets :        9 : Basket Size=     122880 bytes  Compression=   9.23     *\n",
      "*............................................................................*\n",
      "*Br  151 :v0_mass_err : vector<double>                                       *\n",
      "*Entries :    31904 : Total  Size=     448066 bytes  File Size  =      48514 *\n",
      "*Baskets :        9 : Basket Size=     122880 bytes  Compression=   9.23     *\n",
      "*............................................................................*\n",
      "*Br  152 :v0_pdg    : vector<int>                                            *\n",
      "*Entries :    31904 : Total  Size=     447953 bytes  File Size  =      48387 *\n",
      "*Baskets :        9 : Basket Size=     122880 bytes  Compression=   9.25     *\n",
      "*............................................................................*\n",
      "*Br  153 :v0_px     : vector<double>                                         *\n",
      "*Entries :    31904 : Total  Size=     447988 bytes  File Size  =      48468 *\n",
      "*Baskets :        9 : Basket Size=     122880 bytes  Compression=   9.23     *\n",
      "*............................................................................*\n",
      "*Br  154 :v0_py     : vector<double>                                         *\n",
      "*Entries :    31904 : Total  Size=     447988 bytes  File Size  =      48467 *\n",
      "*Baskets :        9 : Basket Size=     122880 bytes  Compression=   9.23     *\n",
      "*............................................................................*\n",
      "*Br  155 :v0_pz     : vector<double>                                         *\n",
      "*Entries :    31904 : Total  Size=     447988 bytes  File Size  =      48469 *\n",
      "*Baskets :        9 : Basket Size=     122880 bytes  Compression=   9.23     *\n",
      "*............................................................................*\n",
      "*Br  156 :v0_type   : vector<int>                                            *\n",
      "*Entries :    31904 : Total  Size=     447966 bytes  File Size  =      48351 *\n",
      "*Baskets :        9 : Basket Size=     122880 bytes  Compression=   9.25     *\n",
      "*............................................................................*\n",
      "*Br  157 :v0_vertex_chi2 : vector<double>                                    *\n",
      "*Entries :    31904 : Total  Size=     448105 bytes  File Size  =      48634 *\n",
      "*Baskets :        9 : Basket Size=     122880 bytes  Compression=   9.20     *\n",
      "*............................................................................*\n",
      "*Br  158 :v0_vertex_prob : vector<double>                                    *\n",
      "*Entries :    31904 : Total  Size=     448105 bytes  File Size  =      48637 *\n",
      "*Baskets :        9 : Basket Size=     122880 bytes  Compression=   9.20     *\n",
      "*............................................................................*\n",
      "*Br  159 :v0_vertex_x : vector<double>                                       *\n",
      "*Entries :    31904 : Total  Size=     448066 bytes  File Size  =      48527 *\n",
      "*Baskets :        9 : Basket Size=     122880 bytes  Compression=   9.22     *\n",
      "*............................................................................*\n",
      "*Br  160 :v0_vertex_y : vector<double>                                       *\n",
      "*Entries :    31904 : Total  Size=     448066 bytes  File Size  =      48527 *\n",
      "*Baskets :        9 : Basket Size=     122880 bytes  Compression=   9.22     *\n",
      "*............................................................................*\n",
      "*Br  161 :v0_vertex_z : vector<double>                                       *\n",
      "*Entries :    31904 : Total  Size=     448066 bytes  File Size  =      48526 *\n",
      "*Baskets :        9 : Basket Size=     122880 bytes  Compression=   9.22     *\n",
      "*............................................................................*\n"
     ]
    }
   ],
   "source": [
    "ch.Print()"
   ],
   "metadata": {
    "collapsed": false
   }
  },
  {
   "cell_type": "code",
   "execution_count": null,
   "outputs": [],
   "source": [],
   "metadata": {
    "collapsed": false
   }
  }
 ],
 "metadata": {
  "kernelspec": {
   "display_name": "Python 3",
   "language": "python",
   "name": "python3"
  },
  "language_info": {
   "codemirror_mode": {
    "name": "ipython",
    "version": 2
   },
   "file_extension": ".py",
   "mimetype": "text/x-python",
   "name": "python",
   "nbconvert_exporter": "python",
   "pygments_lexer": "ipython2",
   "version": "2.7.6"
  }
 },
 "nbformat": 4,
 "nbformat_minor": 0
}
