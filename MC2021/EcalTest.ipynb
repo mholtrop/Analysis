{
 "cells": [
  {
   "cell_type": "code",
   "execution_count": 1,
   "metadata": {
    "collapsed": true
   },
   "outputs": [
    {
     "name": "stdout",
     "output_type": "stream",
     "text": [
      "Welcome to JupyROOT 6.29/01\n"
     ]
    }
   ],
   "source": [
    "# Warning: Execute this cell only once for the kernel. Reset the kernel if you need changes.\n",
    "import sys\n",
    "sys.path.append(\"../Python\")\n",
    "import ROOT as R\n",
    "import time\n",
    "import numpy as np\n",
    "# Turn jsroot off if you want to make a pdf from this file.\n",
    "%jsroot on\n",
    "from root_helpers import SetStyle\n",
    "from root_helpers import fancy_plot\n",
    "from root_helpers import print_mc_particle_tree\n",
    "from root_helpers import print_daughters\n",
    "# R.EnableImplicitMT()"
   ]
  },
  {
   "cell_type": "code",
   "execution_count": 2,
   "outputs": [
    {
     "name": "stdout",
     "output_type": "stream",
     "text": [
      "Recompiling: \n"
     ]
    },
    {
     "data": {
      "text/plain": "'Utility Functions V1.0.4 \\n'"
     },
     "execution_count": 2,
     "metadata": {},
     "output_type": "execute_result"
    },
    {
     "name": "stderr",
     "output_type": "stream",
     "text": [
      "Info in <TMacOSXSystem::ACLiC>: creating shared library /System/Volumes/Data/data/HPS/Analysis/MC2021/./../Python/Utility_Functions_C.so\n"
     ]
    }
   ],
   "source": [
    "import os\n",
    "recompile = True\n",
    "try:\n",
    "    if os.path.getmtime('../Python/Utility_Functions_C.so') - os.path.getmtime('../Python/Utility_Functions.C') > 0:\n",
    "        recompile = False\n",
    "        print(\"Recompile is not needed\")\n",
    "    else:\n",
    "        print(\"Recompiling: \")\n",
    "except:\n",
    "    print(\"Recompile needed, file not found.\")\n",
    "if recompile:\n",
    "    R.gROOT.LoadMacro(\"../Python/Utility_Functions.C++\")\n",
    "else:\n",
    "    R.gSystem.Load(\"../Python/Utility_Functions_C.so\")\n",
    "R.Utility_Functions()"
   ],
   "metadata": {
    "collapsed": false
   }
  },
  {
   "cell_type": "code",
   "execution_count": 2,
   "outputs": [
    {
     "name": "stderr",
     "output_type": "stream",
     "text": [
      "Info in <TMacOSXSystem::ACLiC>: creating shared library /System/Volumes/Data/data/HPS/Analysis/MC2021/./../Python/Utility_Functions_C.so\n"
     ]
    }
   ],
   "source": [],
   "metadata": {
    "collapsed": false
   }
  },
  {
   "cell_type": "code",
   "execution_count": 3,
   "outputs": [
    {
     "name": "stdout",
     "output_type": "stream",
     "text": [
      "Number of events loaded:   1.847M\n"
     ]
    }
   ],
   "source": [
    "ch = R.TChain(\"MiniDST\")\n",
    "ch.Add(\"/data/HPS/data/physrun2021/MC/hpsForward_e-_3.0GeV_z0.0_*_SLIC-v06-00-01_QGSP_BERT_HPS-v2019-3pt7GeV_recon.root\")\n",
    "# ch.Add(\"/data/HPS/data/physrun2021/pass0/minidst/hps_0147*.root\")\n",
    "print(f\"Number of events loaded: {ch.GetEntries()/1e6:7.3f}M\")"
   ],
   "metadata": {
    "collapsed": false
   }
  },
  {
   "cell_type": "code",
   "execution_count": 4,
   "outputs": [
    {
     "name": "stdout",
     "output_type": "stream",
     "text": [
      "Available data names in Tuple:\n",
      "\n",
      "ecal_cluster_energy     ecal_cluster_hits       ecal_cluster_nhits      ecal_cluster_seed_energy\n",
      "ecal_cluster_seed_index ecal_cluster_seed_ix    ecal_cluster_seed_iy    ecal_cluster_time       \n",
      "ecal_cluster_x          ecal_cluster_y          ecal_cluster_z          ecal_hit_energy         \n",
      "ecal_hit_index_x        ecal_hit_index_y        ecal_hit_time           event_number            \n",
      "ext_trigger             hodo_cluster_energy     hodo_cluster_ix         hodo_cluster_iy         \n",
      "hodo_cluster_layer      hodo_cluster_time       hodo_hit_energy         hodo_hit_hole           \n",
      "hodo_hit_index_x        hodo_hit_index_y        hodo_hit_layer          hodo_hit_time           \n",
      "mc_part_charge          mc_part_daughters       mc_part_end_x           mc_part_end_y           \n",
      "mc_part_end_z           mc_part_energy          mc_part_gen_status      mc_part_mass            \n",
      "mc_part_parents         mc_part_pdg_id          mc_part_px              mc_part_py              \n",
      "mc_part_pz              mc_part_simstatus       mc_part_time            mc_part_x               \n",
      "mc_part_y               mc_part_z               part_charge             part_ecal_cluster       \n",
      "part_energy             part_goodness_of_pid    part_lcio_type          part_mass               \n",
      "part_pdg                part_px                 part_py                 part_pz                 \n",
      "part_track              part_track_chi2         part_type               rf_time1                \n",
      "rf_time2                run_number              svt_status              time_stamp              \n",
      "track_chi2              track_covmatrix         track_d0                track_gbl_ref           \n",
      "track_isolation         track_lambda_kinks      track_n_gbl             track_n_hits            \n",
      "track_n_kf              track_n_matched         track_omega             track_particle          \n",
      "track_phi0              track_phi_kinks         track_px                track_py                \n",
      "track_pz                track_ref               track_svt_hits          track_tan_lambda        \n",
      "track_time              track_type              track_volume            track_x_at_ecal         \n",
      "track_y_at_ecal         track_z0                track_z_at_ecal         trigger                 \n",
      "v0_charge               v0_em_chi2              v0_em_clus              v0_em_clus_energy       \n",
      "v0_em_clus_ix           v0_em_clus_iy           v0_em_clus_pos_x        v0_em_clus_pos_y        \n",
      "v0_em_clus_time         v0_em_good_pid          v0_em_p                 v0_em_part              \n",
      "v0_em_pos_ecal_x        v0_em_pos_ecal_y        v0_em_track             v0_em_track_nhit        \n",
      "v0_em_track_time        v0_energy               v0_ep_chi2              v0_ep_clus              \n",
      "v0_ep_clus_energy       v0_ep_clus_ix           v0_ep_clus_iy           v0_ep_clus_pos_x        \n",
      "v0_ep_clus_pos_y        v0_ep_clus_time         v0_ep_good_pid          v0_ep_p                 \n",
      "v0_ep_part              v0_ep_pos_ecal_x        v0_ep_pos_ecal_y        v0_ep_track             \n",
      "v0_ep_track_nhit        v0_ep_track_time        v0_goodness_of_pid      v0_lcio_type            \n",
      "v0_mass                 v0_mass_err             v0_pdg                  v0_px                   \n",
      "v0_py                   v0_pz                   v0_type                 v0_vertex_chi2          \n",
      "v0_vertex_prob          v0_vertex_x             v0_vertex_y             v0_vertex_z             "
     ]
    }
   ],
   "source": [
    "df = R.RDataFrame(ch)\n",
    "print(\"Available data names in Tuple:\")\n",
    "ColumnNames=df.GetColumnNames()\n",
    "ll = 0\n",
    "pr_colnames = [x for x in ColumnNames if str(x).startswith('')]\n",
    "for nn in pr_colnames:\n",
    "    if ll < len(nn):\n",
    "        ll = len(nn)\n",
    "for n in range(len(pr_colnames)):\n",
    "    if n%4 == 0:\n",
    "        print(\"\")\n",
    "    print(f\"{str(pr_colnames[n]):{ll}s}\",end=\"\")"
   ],
   "metadata": {
    "collapsed": false
   }
  },
  {
   "cell_type": "code",
   "execution_count": 5,
   "outputs": [],
   "source": [
    "ones = None\n",
    "event=108\n",
    "c_name = \"cc\"+str(event)\n",
    "cc1 = R.TCanvas(\"cc1\",\"Canvas\",1000,600)"
   ],
   "metadata": {
    "collapsed": false
   }
  },
  {
   "cell_type": "code",
   "execution_count": 6,
   "outputs": [
    {
     "name": "stdout",
     "output_type": "stream",
     "text": [
      "Booking histogram h_ecal_oneslb\n"
     ]
    },
    {
     "data": {
      "text/plain": "<IPython.core.display.HTML object>",
      "text/html": "\n\n<div id=\"root_plot_1677885414522\"\n     style=\"width: 996px; height: 572px\">\n</div>\n<script>\n\nfunction display_root_plot_1677885414522(Core) {\n   let obj = Core.parse({\"_typename\":\"TCanvas\",\"fUniqueID\":0,\"fBits\":3342344,\"fLineColor\":1,\"fLineStyle\":1,\"fLineWidth\":1,\"fFillColor\":0,\"fFillStyle\":1001,\"fLeftMargin\":0.1,\"fRightMargin\":0.1,\"fBottomMargin\":0.1,\"fTopMargin\":0.1,\"fXfile\":2,\"fYfile\":2,\"fAfile\":1,\"fXstat\":0.99,\"fYstat\":0.99,\"fAstat\":2,\"fFrameFillColor\":0,\"fFrameLineColor\":1,\"fFrameFillStyle\":1001,\"fFrameLineStyle\":1,\"fFrameLineWidth\":1,\"fFrameBorderSize\":1,\"fFrameBorderMode\":0,\"fX1\":-31.7500004656613,\"fY1\":-8.12500012107194,\"fX2\":30.7500004656613,\"fY2\":8.12500012107194,\"fXtoAbsPixelk\":505.968049881268,\"fXtoPixelk\":505.968049881268,\"fXtoPixel\":15.9359997625351,\"fYtoAbsPixelk\":286.00005,\"fYtoPixelk\":286.00005,\"fYtoPixel\":-35.1999994754791,\"fUtoAbsPixelk\":5e-5,\"fUtoPixelk\":5e-5,\"fUtoPixel\":996,\"fVtoAbsPixelk\":572.00005,\"fVtoPixelk\":572,\"fVtoPixel\":-572,\"fAbsPixeltoXk\":-31.7500004656613,\"fPixeltoXk\":-31.7500004656613,\"fPixeltoX\":0.0627510049511271,\"fAbsPixeltoYk\":8.12500012107194,\"fPixeltoYk\":-8.12500012107194,\"fPixeltoY\":-0.0284090913324194,\"fXlowNDC\":0,\"fYlowNDC\":0,\"fXUpNDC\":1,\"fYUpNDC\":1,\"fWNDC\":1,\"fHNDC\":1,\"fAbsXlowNDC\":0,\"fAbsYlowNDC\":0,\"fAbsWNDC\":1,\"fAbsHNDC\":1,\"fUxmin\":-25.5,\"fUymin\":-6.5,\"fUxmax\":24.5,\"fUymax\":6.5,\"fTheta\":30,\"fPhi\":30,\"fAspectRatio\":0,\"fNumber\":0,\"fTickx\":0,\"fTicky\":0,\"fLogx\":0,\"fLogy\":0,\"fLogz\":0,\"fPadPaint\":0,\"fCrosshair\":0,\"fCrosshairPos\":0,\"fBorderSize\":2,\"fBorderMode\":0,\"fModified\":false,\"fGridx\":false,\"fGridy\":false,\"fAbsCoord\":false,\"fEditable\":true,\"fFixedAspectRatio\":false,\"fPrimitives\":{\"_typename\":\"TList\",\"name\":\"TList\",\"arr\":[{\"_typename\":\"TFrame\",\"fUniqueID\":0,\"fBits\":8,\"fLineColor\":1,\"fLineStyle\":1,\"fLineWidth\":1,\"fFillColor\":0,\"fFillStyle\":1001,\"fX1\":-25.5,\"fY1\":-6.5,\"fX2\":24.5,\"fY2\":6.5,\"fBorderSize\":1,\"fBorderMode\":0},{\"_typename\":\"TH2D\",\"fUniqueID\":0,\"fBits\":520,\"fName\":\"h_ecal\",\"fTitle\":\"Ecal Hits\",\"fLineColor\":602,\"fLineStyle\":1,\"fLineWidth\":1,\"fFillColor\":0,\"fFillStyle\":1001,\"fMarkerColor\":1,\"fMarkerStyle\":1,\"fMarkerSize\":1,\"fNcells\":780,\"fXaxis\":{\"_typename\":\"TAxis\",\"fUniqueID\":0,\"fBits\":0,\"fName\":\"xaxis\",\"fTitle\":\"\",\"fNdivisions\":510,\"fAxisColor\":1,\"fLabelColor\":1,\"fLabelFont\":42,\"fLabelOffset\":0.005,\"fLabelSize\":0.035,\"fTickLength\":0.03,\"fTitleOffset\":1,\"fTitleSize\":0.035,\"fTitleColor\":1,\"fTitleFont\":42,\"fNbins\":50,\"fXmin\":-25.5,\"fXmax\":24.5,\"fXbins\":[],\"fFirst\":0,\"fLast\":0,\"fBits2\":0,\"fTimeDisplay\":false,\"fTimeFormat\":\"\",\"fLabels\":null,\"fModLabs\":null},\"fYaxis\":{\"_typename\":\"TAxis\",\"fUniqueID\":0,\"fBits\":0,\"fName\":\"yaxis\",\"fTitle\":\"\",\"fNdivisions\":510,\"fAxisColor\":1,\"fLabelColor\":1,\"fLabelFont\":42,\"fLabelOffset\":0.005,\"fLabelSize\":0.035,\"fTickLength\":0.03,\"fTitleOffset\":0,\"fTitleSize\":0.035,\"fTitleColor\":1,\"fTitleFont\":42,\"fNbins\":13,\"fXmin\":-6.5,\"fXmax\":6.5,\"fXbins\":[],\"fFirst\":0,\"fLast\":0,\"fBits2\":0,\"fTimeDisplay\":false,\"fTimeFormat\":\"\",\"fLabels\":null,\"fModLabs\":null},\"fZaxis\":{\"_typename\":\"TAxis\",\"fUniqueID\":0,\"fBits\":0,\"fName\":\"zaxis\",\"fTitle\":\"\",\"fNdivisions\":510,\"fAxisColor\":1,\"fLabelColor\":1,\"fLabelFont\":42,\"fLabelOffset\":0.005,\"fLabelSize\":0.035,\"fTickLength\":0.03,\"fTitleOffset\":1,\"fTitleSize\":0.035,\"fTitleColor\":1,\"fTitleFont\":42,\"fNbins\":1,\"fXmin\":0,\"fXmax\":1,\"fXbins\":[],\"fFirst\":0,\"fLast\":0,\"fBits2\":0,\"fTimeDisplay\":false,\"fTimeFormat\":\"\",\"fLabels\":null,\"fModLabs\":null},\"fBarOffset\":0,\"fBarWidth\":1000,\"fEntries\":9,\"fTsumw\":2.53583374246955,\"fTsumw2\":2.08512537117784,\"fTsumwx\":21.6170696541667,\"fTsumwx2\":185.106851220131,\"fMaximum\":-1111,\"fMinimum\":-1111,\"fNormFactor\":0,\"fContour\":{\"$arr\":\"Float64\",\"len\":20,\"p\":1,\"v\":[0.0574110686779022,0.114822137355804,0.172233206033707,0.229644274711609,0.287055343389511,0.344466412067413,0.401877480745316,0.459288549423218,0.51669961810112,0.574110686779022,0.631521755456924,0.688932824134827,0.746343892812729,0.803754961490631,0.861166030168533,0.918577098846436,0.975988167524338,1.03339923620224,1.09081030488014]},\"fSumw2\":{\"$arr\":\"Float64\",\"len\":780,\"p\":190,\"v\":9.56644930978412e-4,\"p1\":242,\"v1\":[0.0319558699778009,0.0137713523311778,9.53532554318418e-4],\"p2\":293,\"v2\":[0.00455206003895925,0.706959853890599,1.31841232269552],\"p3\":346,\"v3\":[0.00258823157747856,0.00497550318100398]},\"fOption\":\"\",\"fFunctions\":{\"_typename\":\"TList\",\"name\":\"TList\",\"arr\":[{\"_typename\":\"TPaletteAxis\",\"fUniqueID\":0,\"fBits\":0,\"fLineColor\":1,\"fLineStyle\":1,\"fLineWidth\":1,\"fFillColor\":1178,\"fFillStyle\":1001,\"fX1\":24.8125000046566,\"fY1\":-6.5,\"fX2\":27.6250000465661,\"fY2\":6.5,\"fX1NDC\":0.904999994039535,\"fY1NDC\":0.100000005960465,\"fX2NDC\":0.949999994039535,\"fY2NDC\":0.899999994039535,\"fBorderSize\":4,\"fInit\":1,\"fShadowColor\":1,\"fCornerRadius\":0,\"fOption\":\"br\",\"fName\":\"palette\",\"fAxis\":{\"_typename\":\"TGaxis\",\"fUniqueID\":0,\"fBits\":0,\"fLineColor\":1,\"fLineStyle\":1,\"fLineWidth\":1,\"fX1\":0,\"fY1\":0,\"fX2\":0,\"fY2\":0,\"fTextAngle\":0,\"fTextSize\":0.04,\"fTextAlign\":11,\"fTextColor\":1,\"fTextFont\":42,\"fWmin\":0,\"fWmax\":0,\"fGridLength\":0,\"fTickSize\":0.03,\"fLabelOffset\":0.005,\"fLabelSize\":0.035,\"fTitleOffset\":1,\"fTitleSize\":0.035,\"fNdiv\":0,\"fLabelColor\":1,\"fLabelFont\":42,\"fNModLabs\":0,\"fChopt\":\"\",\"fName\":\"\",\"fTitle\":\"\",\"fTimeFormat\":\"\",\"fFunctionName\":\"\",\"fModLabs\":null}}],\"opt\":[\"br\"]},\"fBufferSize\":0,\"fBuffer\":[],\"fBinStatErrOpt\":0,\"fStatOverflows\":2,\"fScalefactor\":1,\"fTsumwy\":-5.33910770341754,\"fTsumwy2\":11.7852192409337,\"fTsumwxy\":-45.4822338595986,\"fArray\":{\"$arr\":\"Float64\",\"len\":780,\"p\":190,\"v\":0.0309296771883965,\"p1\":242,\"v1\":[0.178762048482895,0.117351405322552,0.0308793224394321],\"p2\":293,\"v2\":[0.0674689561128616,0.840809047222137,1.14822137355804],\"p3\":346,\"v3\":[0.0508746653795242,0.0705372467637062]}},{\"_typename\":\"TH2F\",\"fUniqueID\":0,\"fBits\":8,\"fName\":\"h_ecal_oneslb\",\"fTitle\":\"oneslb\",\"fLineColor\":602,\"fLineStyle\":1,\"fLineWidth\":1,\"fFillColor\":0,\"fFillStyle\":1001,\"fMarkerColor\":1,\"fMarkerStyle\":1,\"fMarkerSize\":1,\"fNcells\":765,\"fXaxis\":{\"_typename\":\"TAxis\",\"fUniqueID\":0,\"fBits\":0,\"fName\":\"xaxis\",\"fTitle\":\"x crystal index\",\"fNdivisions\":510,\"fAxisColor\":1,\"fLabelColor\":1,\"fLabelFont\":42,\"fLabelOffset\":0.005,\"fLabelSize\":0.035,\"fTickLength\":0.03,\"fTitleOffset\":1,\"fTitleSize\":0.035,\"fTitleColor\":1,\"fTitleFont\":42,\"fNbins\":49,\"fXmin\":-24.5,\"fXmax\":24.5,\"fXbins\":[],\"fFirst\":0,\"fLast\":0,\"fBits2\":0,\"fTimeDisplay\":false,\"fTimeFormat\":\"\",\"fLabels\":null,\"fModLabs\":null},\"fYaxis\":{\"_typename\":\"TAxis\",\"fUniqueID\":0,\"fBits\":0,\"fName\":\"yaxis\",\"fTitle\":\"y crystal index\",\"fNdivisions\":510,\"fAxisColor\":1,\"fLabelColor\":1,\"fLabelFont\":42,\"fLabelOffset\":0.005,\"fLabelSize\":0.035,\"fTickLength\":0.03,\"fTitleOffset\":0,\"fTitleSize\":0.035,\"fTitleColor\":1,\"fTitleFont\":42,\"fNbins\":13,\"fXmin\":-6.5,\"fXmax\":6.5,\"fXbins\":[],\"fFirst\":0,\"fLast\":0,\"fBits2\":0,\"fTimeDisplay\":false,\"fTimeFormat\":\"\",\"fLabels\":null,\"fModLabs\":null},\"fZaxis\":{\"_typename\":\"TAxis\",\"fUniqueID\":0,\"fBits\":0,\"fName\":\"zaxis\",\"fTitle\":\"\",\"fNdivisions\":510,\"fAxisColor\":1,\"fLabelColor\":1,\"fLabelFont\":42,\"fLabelOffset\":0.005,\"fLabelSize\":0.035,\"fTickLength\":0.03,\"fTitleOffset\":1,\"fTitleSize\":0.035,\"fTitleColor\":1,\"fTitleFont\":42,\"fNbins\":1,\"fXmin\":0,\"fXmax\":1,\"fXbins\":[],\"fFirst\":0,\"fLast\":0,\"fBits2\":0,\"fTimeDisplay\":false,\"fTimeFormat\":\"\",\"fLabels\":null,\"fModLabs\":null},\"fBarOffset\":0,\"fBarWidth\":1000,\"fEntries\":432,\"fTsumw\":569.554123404466,\"fTsumw2\":750.907174738487,\"fTsumwx\":155.572654078072,\"fTsumwx2\":112990.572879652,\"fMaximum\":-1111,\"fMinimum\":-1111,\"fNormFactor\":0,\"fContour\":[],\"fSumw2\":{\"$arr\":\"Float64\",\"len\":765,\"p\":104,\"v\":1.31841232269552,\"n\":22,\"p1\":128,\"v1\":1.31841232269552,\"n1\":23,\"p2\":155,\"v2\":1.31841232269552,\"n2\":22,\"p3\":179,\"v3\":1.31841232269552,\"n3\":23,\"p4\":206,\"v4\":1.31841232269552,\"n4\":22,\"p5\":230,\"v5\":1.31841232269552,\"n5\":23,\"p6\":257,\"v6\":1.31841232269552,\"n6\":22,\"p7\":281,\"v7\":1.31841232269552,\"n7\":23,\"p8\":308,\"v8\":1.31841232269552,\"n8\":13,\"p9\":332,\"v9\":1.31841232269552,\"n9\":23,\"p10\":410,\"v10\":1.31841232269552,\"n10\":13,\"p11\":434,\"v11\":1.31841232269552,\"n11\":23,\"p12\":461,\"v12\":1.31841232269552,\"n12\":22,\"p13\":485,\"v13\":1.31841232269552,\"n13\":23,\"p14\":512,\"v14\":1.31841232269552,\"n14\":22,\"p15\":536,\"v15\":1.31841232269552,\"n15\":23,\"p16\":563,\"v16\":1.31841232269552,\"n16\":22,\"p17\":587,\"v17\":1.31841232269552,\"n17\":23,\"p18\":614,\"v18\":1.31841232269552,\"n18\":22,\"p19\":638,\"v19\":1.31841232269552,\"n19\":23},\"fOption\":\"\",\"fFunctions\":{\"_typename\":\"TList\",\"name\":\"TList\",\"arr\":[],\"opt\":[]},\"fBufferSize\":0,\"fBuffer\":[],\"fBinStatErrOpt\":0,\"fStatOverflows\":2,\"fScalefactor\":1,\"fTsumwy\":0,\"fTsumwy2\":6502.40957553432,\"fTsumwxy\":0,\"fArray\":{\"$arr\":\"Float32\",\"len\":765,\"p\":104,\"v\":1.148221,\"n\":22,\"p1\":128,\"v1\":1.148221,\"n1\":23,\"p2\":155,\"v2\":1.148221,\"n2\":22,\"p3\":179,\"v3\":1.148221,\"n3\":23,\"p4\":206,\"v4\":1.148221,\"n4\":22,\"p5\":230,\"v5\":1.148221,\"n5\":23,\"p6\":257,\"v6\":1.148221,\"n6\":22,\"p7\":281,\"v7\":1.148221,\"n7\":23,\"p8\":308,\"v8\":1.148221,\"n8\":13,\"p9\":332,\"v9\":1.148221,\"n9\":23,\"p10\":410,\"v10\":1.148221,\"n10\":13,\"p11\":434,\"v11\":1.148221,\"n11\":23,\"p12\":461,\"v12\":1.148221,\"n12\":22,\"p13\":485,\"v13\":1.148221,\"n13\":23,\"p14\":512,\"v14\":1.148221,\"n14\":22,\"p15\":536,\"v15\":1.148221,\"n15\":23,\"p16\":563,\"v16\":1.148221,\"n16\":22,\"p17\":587,\"v17\":1.148221,\"n17\":23,\"p18\":614,\"v18\":1.148221,\"n18\":22,\"p19\":638,\"v19\":1.148221,\"n19\":23}},{\"_typename\":\"TPaveText\",\"fUniqueID\":0,\"fBits\":9,\"fLineColor\":1,\"fLineStyle\":1,\"fLineWidth\":1,\"fFillColor\":0,\"fFillStyle\":0,\"fX1\":-4.95281131133198,\"fY1\":7.15000017071143,\"fX2\":3.95281131133198,\"fY2\":8.04375019734726,\"fX1NDC\":0.428755020080321,\"fY1NDC\":0.940000003948808,\"fX2NDC\":0.571244979919679,\"fY2NDC\":0.995000004768372,\"fBorderSize\":0,\"fInit\":1,\"fShadowColor\":1,\"fCornerRadius\":0,\"fOption\":\"blNDC\",\"fName\":\"title\",\"fTextAngle\":0,\"fTextSize\":0,\"fTextAlign\":22,\"fTextColor\":1,\"fTextFont\":42,\"fLabel\":\"\",\"fLongest\":9,\"fMargin\":0.05,\"fLines\":{\"_typename\":\"TList\",\"name\":\"TList\",\"arr\":[{\"_typename\":\"TLatex\",\"fUniqueID\":0,\"fBits\":0,\"fName\":\"\",\"fTitle\":\"Ecal Hits\",\"fTextAngle\":0,\"fTextSize\":0,\"fTextAlign\":0,\"fTextColor\":0,\"fTextFont\":0,\"fX\":0,\"fY\":0,\"fLineColor\":1,\"fLineStyle\":1,\"fLineWidth\":2,\"fLimitFactorSize\":3,\"fOriginSize\":0.0467500016093254}],\"opt\":[\"\"]}},{\"_typename\":\"TStyle\",\"fUniqueID\":0,\"fBits\":0,\"fName\":\"Modern\",\"fTitle\":\"Modern Style\",\"fLineColor\":1,\"fLineStyle\":1,\"fLineWidth\":1,\"fFillColor\":19,\"fFillStyle\":1001,\"fMarkerColor\":1,\"fMarkerStyle\":1,\"fMarkerSize\":1,\"fTextAngle\":0,\"fTextSize\":0.05,\"fTextAlign\":11,\"fTextColor\":1,\"fTextFont\":62,\"fXaxis\":{\"_typename\":\"TAttAxis\",\"fNdivisions\":510,\"fAxisColor\":1,\"fLabelColor\":1,\"fLabelFont\":42,\"fLabelOffset\":0.005,\"fLabelSize\":0.035,\"fTickLength\":0.03,\"fTitleOffset\":1,\"fTitleSize\":0.035,\"fTitleColor\":1,\"fTitleFont\":42},\"fYaxis\":{\"_typename\":\"TAttAxis\",\"fNdivisions\":510,\"fAxisColor\":1,\"fLabelColor\":1,\"fLabelFont\":42,\"fLabelOffset\":0.005,\"fLabelSize\":0.035,\"fTickLength\":0.03,\"fTitleOffset\":0,\"fTitleSize\":0.035,\"fTitleColor\":1,\"fTitleFont\":42},\"fZaxis\":{\"_typename\":\"TAttAxis\",\"fNdivisions\":510,\"fAxisColor\":1,\"fLabelColor\":1,\"fLabelFont\":42,\"fLabelOffset\":0.005,\"fLabelSize\":0.035,\"fTickLength\":0.03,\"fTitleOffset\":1,\"fTitleSize\":0.035,\"fTitleColor\":1,\"fTitleFont\":42},\"fBarWidth\":1,\"fBarOffset\":0,\"fColorModelPS\":0,\"fDrawBorder\":0,\"fOptLogx\":0,\"fOptLogy\":0,\"fOptLogz\":0,\"fOptDate\":0,\"fOptStat\":1111,\"fOptTitle\":1,\"fOptFile\":0,\"fOptFit\":0,\"fShowEventStatus\":0,\"fShowEditor\":0,\"fShowToolBar\":0,\"fNumberContours\":20,\"fAttDate\":{\"_typename\":\"TAttText\",\"fTextAngle\":0,\"fTextSize\":0.025,\"fTextAlign\":11,\"fTextColor\":1,\"fTextFont\":62},\"fDateX\":0.01,\"fDateY\":0.01,\"fEndErrorSize\":2,\"fErrorX\":0.5,\"fFuncColor\":2,\"fFuncStyle\":1,\"fFuncWidth\":2,\"fGridColor\":0,\"fGridStyle\":3,\"fGridWidth\":1,\"fLegendBorderSize\":1,\"fLegendFillColor\":0,\"fLegendFont\":42,\"fLegendTextSize\":0,\"fHatchesLineWidth\":1,\"fHatchesSpacing\":1,\"fFrameFillColor\":0,\"fFrameLineColor\":1,\"fFrameFillStyle\":1001,\"fFrameLineStyle\":1,\"fFrameLineWidth\":1,\"fFrameBorderSize\":1,\"fFrameBorderMode\":0,\"fHistFillColor\":0,\"fHistLineColor\":602,\"fHistFillStyle\":1001,\"fHistLineStyle\":1,\"fHistLineWidth\":1,\"fHistMinimumZero\":false,\"fHistTopMargin\":0.05,\"fCanvasPreferGL\":false,\"fCanvasColor\":0,\"fCanvasBorderSize\":2,\"fCanvasBorderMode\":0,\"fCanvasDefH\":500,\"fCanvasDefW\":700,\"fCanvasDefX\":10,\"fCanvasDefY\":10,\"fPadColor\":0,\"fPadBorderSize\":2,\"fPadBorderMode\":0,\"fPadBottomMargin\":0.1,\"fPadTopMargin\":0.1,\"fPadLeftMargin\":0.1,\"fPadRightMargin\":0.1,\"fPadGridX\":false,\"fPadGridY\":false,\"fPadTickX\":0,\"fPadTickY\":0,\"fPaperSizeX\":20,\"fPaperSizeY\":26,\"fScreenFactor\":1,\"fStatColor\":0,\"fStatTextColor\":1,\"fStatBorderSize\":1,\"fStatFont\":42,\"fStatFontSize\":0,\"fStatStyle\":1001,\"fStatFormat\":\"6.4g\",\"fStatX\":0.98,\"fStatY\":0.935,\"fStatW\":0.2,\"fStatH\":0.16,\"fStripDecimals\":true,\"fTitleAlign\":23,\"fTitleColor\":0,\"fTitleTextColor\":1,\"fTitleBorderSize\":0,\"fTitleFont\":42,\"fTitleFontSize\":0.05,\"fTitleStyle\":0,\"fTitleX\":0.5,\"fTitleY\":0.995,\"fTitleW\":0,\"fTitleH\":0,\"fLegoInnerR\":0.5,\"fLineStyles\":[\"\",\"  \",\" 12 12\",\" 4 8\",\" 12 16 4 16\",\" 20 12 4 12\",\" 20 12 4 12 4 12 4 12\",\" 20 20\",\" 20 12 4 12 4 12\",\" 80 20\",\" 80 40 4 40\",\"  \",\"  \",\"  \",\"  \",\"  \",\"  \",\"  \",\"  \",\"  \",\"  \",\"  \",\"  \",\"  \",\"  \",\"  \",\"  \",\"  \",\"  \",\"  \"],\"fHeaderPS\":\"\",\"fTitlePS\":\"\",\"fFitFormat\":\"5.4g\",\"fPaintTextFormat\":\"g\",\"fLineScalePS\":3,\"fJoinLinePS\":0,\"fCapLinePS\":0,\"fTimeOffset\":788918400,\"fImageScaling\":1}],\"opt\":[\"\",\"colz\",\"boxsame\",\"blNDC\",\"\"]},\"fExecs\":null,\"fName\":\"cc1\",\"fTitle\":\"Canvas\",\"fNumPaletteColor\":0,\"fNextPaletteColor\":0,\"fDISPLAY\":\"$DISPLAY\",\"fDoubleBuffer\":0,\"fRetained\":true,\"fXsizeUser\":0,\"fYsizeUser\":0,\"fXsizeReal\":20,\"fYsizeReal\":12,\"fWindowTopX\":0,\"fWindowTopY\":0,\"fWindowWidth\":0,\"fWindowHeight\":0,\"fCw\":996,\"fCh\":572,\"fCatt\":{\"_typename\":\"TAttCanvas\",\"fXBetween\":2,\"fYBetween\":2,\"fTitleFromTop\":1.2,\"fXdate\":0.2,\"fYdate\":0.3,\"fAdate\":1},\"kMoveOpaque\":true,\"kResizeOpaque\":true,\"fHighLightColor\":2,\"fBatch\":true,\"kShowEventStatus\":false,\"kAutoExec\":true,\"kMenuBar\":true});\n   Core.settings.HandleKeys = false;\n   Core.draw(\"root_plot_1677885414522\", obj, \"\");\n}\n\nfunction script_load_root_plot_1677885414522(src, on_error) {\n    let script = document.createElement('script');\n    script.src = src;\n    script.onload = function() { display_root_plot_1677885414522(JSROOT); };\n    script.onerror = function() { script.remove(); on_error(); };\n    document.head.appendChild(script);\n}\n\nif (typeof requirejs !== 'undefined') {\n\n    // We are in jupyter notebooks, use require.js which should be configured already\n    requirejs.config({\n       paths: { 'JSRootCore' : [ 'build/jsroot', 'https://root.cern/js/7.2.1/build/jsroot', 'https://jsroot.gsi.de/7.2.1/build/jsroot' ] }\n    })(['JSRootCore'],  function(Core) {\n       display_root_plot_1677885414522(Core);\n    });\n\n} else if (typeof JSROOT !== 'undefined') {\n\n   // JSROOT already loaded, just use it\n   display_root_plot_1677885414522(JSROOT);\n\n} else {\n\n    // We are in jupyterlab without require.js, directly loading jsroot\n    // Jupyterlab might be installed in a different base_url so we need to know it.\n    try {\n        var base_url = JSON.parse(document.getElementById('jupyter-config-data').innerHTML).baseUrl;\n    } catch(_) {\n        var base_url = '/';\n    }\n\n    // Try loading a local version of requirejs and fallback to cdn if not possible.\n    script_load_root_plot_1677885414522(base_url + 'static/build/jsroot.js', function(){\n        console.error('Fail to load JSROOT locally, please check your jupyter_notebook_config.py file');\n        script_load_root_plot_1677885414522('https://root.cern/js/7.2.1/build/jsroot.js', function(){\n            document.getElementById(\"root_plot_1677885414522\").innerHTML = \"Failed to load JSROOT\";\n        });\n    });\n}\n\n</script>\n"
     },
     "metadata": {},
     "output_type": "display_data"
    }
   ],
   "source": [
    "cc1.Clear()\n",
    "dfr = df.Range(event,event+1)\n",
    "p0 = dfr.Display((\"run_number\",\"event_number\",\"ecal_cluster_nhits\"))\n",
    "p1 = dfr.Display((\"ecal_cluster_energy\",\"ecal_cluster_time\",\"ecal_cluster_hits\",\"ecal_cluster_seed_index\"))\n",
    "p2 = dfr.Display((\"ecal_hit_energy\",\"ecal_hit_time\",\"ecal_hit_index_x\",\"ecal_hit_index_y\"))\n",
    "h_ecal = dfr.Histo2D((\"h_ecal\",\"Ecal Hits\",50,-25.5,24.5,13,-6.5,6.5),\"ecal_hit_index_x\", \"ecal_hit_index_y\", \"ecal_hit_energy\")\n",
    "# p0.Print()\n",
    "# p1.Print()\n",
    "# p2.Print()\n",
    "h_draw = h_ecal.GetPtr()\n",
    "ones = fancy_plot(h_ecal, ones, 0x0)\n",
    "cc1.Draw()\n",
    "# event +=1"
   ],
   "metadata": {
    "collapsed": false
   }
  },
  {
   "cell_type": "code",
   "execution_count": 7,
   "outputs": [
    {
     "data": {
      "text/plain": "0"
     },
     "execution_count": 7,
     "metadata": {},
     "output_type": "execute_result"
    }
   ],
   "source": [
    "R.gSystem.Load(\"/data/HPS/lib/libMiniDst\")"
   ],
   "metadata": {
    "collapsed": false
   }
  },
  {
   "cell_type": "code",
   "execution_count": 8,
   "outputs": [
    {
     "name": "stderr",
     "output_type": "stream",
     "text": [
      "Error in <TBranchElement::InitInfo>: StreamerInfo is not compiled.\n"
     ]
    }
   ],
   "source": [
    "# Setup the MiniDST class, which makes for easier event by event data inplection.\n",
    "# This MiniDST class looks directly into the TTree, so does not use the RDataframe class.\n",
    "# You need to:\n",
    "mdst = R.MiniDst()          # Initiate the class\n",
    "mdst.use_mc_particles=True  # Tell it to look for the MC Particles in the TTree\n",
    "mdst.DefineBranchMap()      # Define the map of all the branches to the contents of the TTree\n",
    "mdst.SetBranchAddressesOnTree(ch) # Connect the TChain (which contains the TTree) to the class."
   ],
   "metadata": {
    "collapsed": false
   }
  },
  {
   "cell_type": "code",
   "execution_count": 9,
   "outputs": [],
   "source": [
    "def make_ecal_snaphot(mini_dst, hist, opt=0):\n",
    "    \"\"\"Return a 2D histogram for the ECal, with the energy of the hits on the z-axis\"\"\"\n",
    "    if hist is None:\n",
    "        hist = R.TH2D(\"hist_ecal\",\"Ecal Hits\",50,-25.5,24.5,13,-6.5,6.5)\n",
    "    else:\n",
    "        hist.Reset()\n",
    "    # Fill the histogram by looping over the ECal hits\n",
    "    for i in range(len(mini_dst.ecal_hit_index_x)):\n",
    "        hist.Fill(mini_dst.ecal_hit_index_x[i], mini_dst.ecal_hit_index_y[i], mini_dst.ecal_hit_energy[i])\n",
    "    return hist"
   ],
   "metadata": {
    "collapsed": false
   }
  },
  {
   "cell_type": "code",
   "execution_count": 10,
   "outputs": [],
   "source": [
    "cc2 = R.TCanvas(\"cc2\",\"Canvas\",1000,600)\n",
    "hh = None\n",
    "ones2 = None\n",
    "event = 108"
   ],
   "metadata": {
    "collapsed": false
   }
  },
  {
   "cell_type": "code",
   "execution_count": 11,
   "outputs": [
    {
     "name": "stdout",
     "output_type": "stream",
     "text": [
      "Booking histogram hist_ecal_oneslb\n"
     ]
    },
    {
     "data": {
      "text/plain": "<IPython.core.display.HTML object>",
      "text/html": "\n\n<div id=\"root_plot_1677885417683\"\n     style=\"width: 996px; height: 572px\">\n</div>\n<script>\n\nfunction display_root_plot_1677885417683(Core) {\n   let obj = Core.parse({\"_typename\":\"TCanvas\",\"fUniqueID\":0,\"fBits\":3342344,\"fLineColor\":1,\"fLineStyle\":1,\"fLineWidth\":1,\"fFillColor\":0,\"fFillStyle\":1001,\"fLeftMargin\":0.1,\"fRightMargin\":0.1,\"fBottomMargin\":0.1,\"fTopMargin\":0.1,\"fXfile\":2,\"fYfile\":2,\"fAfile\":1,\"fXstat\":0.99,\"fYstat\":0.99,\"fAstat\":2,\"fFrameFillColor\":0,\"fFrameLineColor\":1,\"fFrameFillStyle\":1001,\"fFrameLineStyle\":1,\"fFrameLineWidth\":1,\"fFrameBorderSize\":1,\"fFrameBorderMode\":0,\"fX1\":-31.7500004656613,\"fY1\":-8.12500012107194,\"fX2\":30.7500004656613,\"fY2\":8.12500012107194,\"fXtoAbsPixelk\":505.968049881268,\"fXtoPixelk\":505.968049881268,\"fXtoPixel\":15.9359997625351,\"fYtoAbsPixelk\":286.00005,\"fYtoPixelk\":286.00005,\"fYtoPixel\":-35.1999994754791,\"fUtoAbsPixelk\":5e-5,\"fUtoPixelk\":5e-5,\"fUtoPixel\":996,\"fVtoAbsPixelk\":572.00005,\"fVtoPixelk\":572,\"fVtoPixel\":-572,\"fAbsPixeltoXk\":-31.7500004656613,\"fPixeltoXk\":-31.7500004656613,\"fPixeltoX\":0.0627510049511271,\"fAbsPixeltoYk\":8.12500012107194,\"fPixeltoYk\":-8.12500012107194,\"fPixeltoY\":-0.0284090913324194,\"fXlowNDC\":0,\"fYlowNDC\":0,\"fXUpNDC\":1,\"fYUpNDC\":1,\"fWNDC\":1,\"fHNDC\":1,\"fAbsXlowNDC\":0,\"fAbsYlowNDC\":0,\"fAbsWNDC\":1,\"fAbsHNDC\":1,\"fUxmin\":-25.5,\"fUymin\":-6.5,\"fUxmax\":24.5,\"fUymax\":6.5,\"fTheta\":30,\"fPhi\":30,\"fAspectRatio\":0,\"fNumber\":0,\"fTickx\":0,\"fTicky\":0,\"fLogx\":0,\"fLogy\":0,\"fLogz\":0,\"fPadPaint\":0,\"fCrosshair\":0,\"fCrosshairPos\":0,\"fBorderSize\":2,\"fBorderMode\":0,\"fModified\":false,\"fGridx\":false,\"fGridy\":false,\"fAbsCoord\":false,\"fEditable\":true,\"fFixedAspectRatio\":false,\"fPrimitives\":{\"_typename\":\"TList\",\"name\":\"TList\",\"arr\":[{\"_typename\":\"TFrame\",\"fUniqueID\":0,\"fBits\":8,\"fLineColor\":1,\"fLineStyle\":1,\"fLineWidth\":1,\"fFillColor\":0,\"fFillStyle\":1001,\"fX1\":-25.5,\"fY1\":-6.5,\"fX2\":24.5,\"fY2\":6.5,\"fBorderSize\":1,\"fBorderMode\":0},{\"_typename\":\"TH2D\",\"fUniqueID\":0,\"fBits\":520,\"fName\":\"hist_ecal\",\"fTitle\":\"Ecal Hits\",\"fLineColor\":602,\"fLineStyle\":1,\"fLineWidth\":1,\"fFillColor\":0,\"fFillStyle\":1001,\"fMarkerColor\":1,\"fMarkerStyle\":1,\"fMarkerSize\":1,\"fNcells\":780,\"fXaxis\":{\"_typename\":\"TAxis\",\"fUniqueID\":0,\"fBits\":0,\"fName\":\"xaxis\",\"fTitle\":\"\",\"fNdivisions\":510,\"fAxisColor\":1,\"fLabelColor\":1,\"fLabelFont\":42,\"fLabelOffset\":0.005,\"fLabelSize\":0.035,\"fTickLength\":0.03,\"fTitleOffset\":1,\"fTitleSize\":0.035,\"fTitleColor\":1,\"fTitleFont\":42,\"fNbins\":50,\"fXmin\":-25.5,\"fXmax\":24.5,\"fXbins\":[],\"fFirst\":0,\"fLast\":0,\"fBits2\":0,\"fTimeDisplay\":false,\"fTimeFormat\":\"\",\"fLabels\":null,\"fModLabs\":null},\"fYaxis\":{\"_typename\":\"TAxis\",\"fUniqueID\":0,\"fBits\":0,\"fName\":\"yaxis\",\"fTitle\":\"\",\"fNdivisions\":510,\"fAxisColor\":1,\"fLabelColor\":1,\"fLabelFont\":42,\"fLabelOffset\":0.005,\"fLabelSize\":0.035,\"fTickLength\":0.03,\"fTitleOffset\":0,\"fTitleSize\":0.035,\"fTitleColor\":1,\"fTitleFont\":42,\"fNbins\":13,\"fXmin\":-6.5,\"fXmax\":6.5,\"fXbins\":[],\"fFirst\":0,\"fLast\":0,\"fBits2\":0,\"fTimeDisplay\":false,\"fTimeFormat\":\"\",\"fLabels\":null,\"fModLabs\":null},\"fZaxis\":{\"_typename\":\"TAxis\",\"fUniqueID\":0,\"fBits\":0,\"fName\":\"zaxis\",\"fTitle\":\"\",\"fNdivisions\":510,\"fAxisColor\":1,\"fLabelColor\":1,\"fLabelFont\":42,\"fLabelOffset\":0.005,\"fLabelSize\":0.035,\"fTickLength\":0.03,\"fTitleOffset\":1,\"fTitleSize\":0.035,\"fTitleColor\":1,\"fTitleFont\":42,\"fNbins\":1,\"fXmin\":0,\"fXmax\":1,\"fXbins\":[],\"fFirst\":0,\"fLast\":0,\"fBits2\":0,\"fTimeDisplay\":false,\"fTimeFormat\":\"\",\"fLabels\":null,\"fModLabs\":null},\"fBarOffset\":0,\"fBarWidth\":1000,\"fEntries\":9,\"fTsumw\":2.53583374246955,\"fTsumw2\":2.08512537117784,\"fTsumwx\":21.6170696541667,\"fTsumwx2\":185.106851220131,\"fMaximum\":-1111,\"fMinimum\":-1111,\"fNormFactor\":0,\"fContour\":{\"$arr\":\"Float64\",\"len\":20,\"p\":1,\"v\":[0.0574110686779022,0.114822137355804,0.172233206033707,0.229644274711609,0.287055343389511,0.344466412067413,0.401877480745316,0.459288549423218,0.51669961810112,0.574110686779022,0.631521755456924,0.688932824134827,0.746343892812729,0.803754961490631,0.861166030168533,0.918577098846436,0.975988167524338,1.03339923620224,1.09081030488014]},\"fSumw2\":{\"$arr\":\"Float64\",\"len\":780,\"p\":190,\"v\":9.56644930978412e-4,\"p1\":242,\"v1\":[0.0319558699778009,0.0137713523311778,9.53532554318418e-4],\"p2\":293,\"v2\":[0.00455206003895925,0.706959853890599,1.31841232269552],\"p3\":346,\"v3\":[0.00258823157747856,0.00497550318100398]},\"fOption\":\"\",\"fFunctions\":{\"_typename\":\"TList\",\"name\":\"TList\",\"arr\":[{\"_typename\":\"TPaletteAxis\",\"fUniqueID\":0,\"fBits\":0,\"fLineColor\":1,\"fLineStyle\":1,\"fLineWidth\":1,\"fFillColor\":1178,\"fFillStyle\":1001,\"fX1\":24.8125000046566,\"fY1\":-6.5,\"fX2\":27.6250000465661,\"fY2\":6.5,\"fX1NDC\":0.904999994039535,\"fY1NDC\":0.100000005960465,\"fX2NDC\":0.949999994039535,\"fY2NDC\":0.899999994039535,\"fBorderSize\":4,\"fInit\":1,\"fShadowColor\":1,\"fCornerRadius\":0,\"fOption\":\"br\",\"fName\":\"palette\",\"fAxis\":{\"_typename\":\"TGaxis\",\"fUniqueID\":0,\"fBits\":0,\"fLineColor\":1,\"fLineStyle\":1,\"fLineWidth\":1,\"fX1\":0,\"fY1\":0,\"fX2\":0,\"fY2\":0,\"fTextAngle\":0,\"fTextSize\":0.04,\"fTextAlign\":11,\"fTextColor\":1,\"fTextFont\":42,\"fWmin\":0,\"fWmax\":0,\"fGridLength\":0,\"fTickSize\":0.03,\"fLabelOffset\":0.005,\"fLabelSize\":0.035,\"fTitleOffset\":1,\"fTitleSize\":0.035,\"fNdiv\":0,\"fLabelColor\":1,\"fLabelFont\":42,\"fNModLabs\":0,\"fChopt\":\"\",\"fName\":\"\",\"fTitle\":\"\",\"fTimeFormat\":\"\",\"fFunctionName\":\"\",\"fModLabs\":null}}],\"opt\":[\"br\"]},\"fBufferSize\":0,\"fBuffer\":[],\"fBinStatErrOpt\":0,\"fStatOverflows\":2,\"fScalefactor\":1,\"fTsumwy\":-5.33910770341754,\"fTsumwy2\":11.7852192409337,\"fTsumwxy\":-45.4822338595986,\"fArray\":{\"$arr\":\"Float64\",\"len\":780,\"p\":190,\"v\":0.0309296771883965,\"p1\":242,\"v1\":[0.178762048482895,0.117351405322552,0.0308793224394321],\"p2\":293,\"v2\":[0.0674689561128616,0.840809047222137,1.14822137355804],\"p3\":346,\"v3\":[0.0508746653795242,0.0705372467637062]}},{\"_typename\":\"TH2F\",\"fUniqueID\":0,\"fBits\":8,\"fName\":\"hist_ecal_oneslb\",\"fTitle\":\"oneslb\",\"fLineColor\":602,\"fLineStyle\":1,\"fLineWidth\":1,\"fFillColor\":0,\"fFillStyle\":1001,\"fMarkerColor\":1,\"fMarkerStyle\":1,\"fMarkerSize\":1,\"fNcells\":765,\"fXaxis\":{\"_typename\":\"TAxis\",\"fUniqueID\":0,\"fBits\":0,\"fName\":\"xaxis\",\"fTitle\":\"x crystal index\",\"fNdivisions\":510,\"fAxisColor\":1,\"fLabelColor\":1,\"fLabelFont\":42,\"fLabelOffset\":0.005,\"fLabelSize\":0.035,\"fTickLength\":0.03,\"fTitleOffset\":1,\"fTitleSize\":0.035,\"fTitleColor\":1,\"fTitleFont\":42,\"fNbins\":49,\"fXmin\":-24.5,\"fXmax\":24.5,\"fXbins\":[],\"fFirst\":0,\"fLast\":0,\"fBits2\":0,\"fTimeDisplay\":false,\"fTimeFormat\":\"\",\"fLabels\":null,\"fModLabs\":null},\"fYaxis\":{\"_typename\":\"TAxis\",\"fUniqueID\":0,\"fBits\":0,\"fName\":\"yaxis\",\"fTitle\":\"y crystal index\",\"fNdivisions\":510,\"fAxisColor\":1,\"fLabelColor\":1,\"fLabelFont\":42,\"fLabelOffset\":0.005,\"fLabelSize\":0.035,\"fTickLength\":0.03,\"fTitleOffset\":0,\"fTitleSize\":0.035,\"fTitleColor\":1,\"fTitleFont\":42,\"fNbins\":13,\"fXmin\":-6.5,\"fXmax\":6.5,\"fXbins\":[],\"fFirst\":0,\"fLast\":0,\"fBits2\":0,\"fTimeDisplay\":false,\"fTimeFormat\":\"\",\"fLabels\":null,\"fModLabs\":null},\"fZaxis\":{\"_typename\":\"TAxis\",\"fUniqueID\":0,\"fBits\":0,\"fName\":\"zaxis\",\"fTitle\":\"\",\"fNdivisions\":510,\"fAxisColor\":1,\"fLabelColor\":1,\"fLabelFont\":42,\"fLabelOffset\":0.005,\"fLabelSize\":0.035,\"fTickLength\":0.03,\"fTitleOffset\":1,\"fTitleSize\":0.035,\"fTitleColor\":1,\"fTitleFont\":42,\"fNbins\":1,\"fXmin\":0,\"fXmax\":1,\"fXbins\":[],\"fFirst\":0,\"fLast\":0,\"fBits2\":0,\"fTimeDisplay\":false,\"fTimeFormat\":\"\",\"fLabels\":null,\"fModLabs\":null},\"fBarOffset\":0,\"fBarWidth\":1000,\"fEntries\":432,\"fTsumw\":569.554123404466,\"fTsumw2\":750.907174738487,\"fTsumwx\":155.572654078072,\"fTsumwx2\":112990.572879652,\"fMaximum\":-1111,\"fMinimum\":-1111,\"fNormFactor\":0,\"fContour\":[],\"fSumw2\":{\"$arr\":\"Float64\",\"len\":765,\"p\":104,\"v\":1.31841232269552,\"n\":22,\"p1\":128,\"v1\":1.31841232269552,\"n1\":23,\"p2\":155,\"v2\":1.31841232269552,\"n2\":22,\"p3\":179,\"v3\":1.31841232269552,\"n3\":23,\"p4\":206,\"v4\":1.31841232269552,\"n4\":22,\"p5\":230,\"v5\":1.31841232269552,\"n5\":23,\"p6\":257,\"v6\":1.31841232269552,\"n6\":22,\"p7\":281,\"v7\":1.31841232269552,\"n7\":23,\"p8\":308,\"v8\":1.31841232269552,\"n8\":13,\"p9\":332,\"v9\":1.31841232269552,\"n9\":23,\"p10\":410,\"v10\":1.31841232269552,\"n10\":13,\"p11\":434,\"v11\":1.31841232269552,\"n11\":23,\"p12\":461,\"v12\":1.31841232269552,\"n12\":22,\"p13\":485,\"v13\":1.31841232269552,\"n13\":23,\"p14\":512,\"v14\":1.31841232269552,\"n14\":22,\"p15\":536,\"v15\":1.31841232269552,\"n15\":23,\"p16\":563,\"v16\":1.31841232269552,\"n16\":22,\"p17\":587,\"v17\":1.31841232269552,\"n17\":23,\"p18\":614,\"v18\":1.31841232269552,\"n18\":22,\"p19\":638,\"v19\":1.31841232269552,\"n19\":23},\"fOption\":\"\",\"fFunctions\":{\"_typename\":\"TList\",\"name\":\"TList\",\"arr\":[],\"opt\":[]},\"fBufferSize\":0,\"fBuffer\":[],\"fBinStatErrOpt\":0,\"fStatOverflows\":2,\"fScalefactor\":1,\"fTsumwy\":0,\"fTsumwy2\":6502.40957553432,\"fTsumwxy\":0,\"fArray\":{\"$arr\":\"Float32\",\"len\":765,\"p\":104,\"v\":1.148221,\"n\":22,\"p1\":128,\"v1\":1.148221,\"n1\":23,\"p2\":155,\"v2\":1.148221,\"n2\":22,\"p3\":179,\"v3\":1.148221,\"n3\":23,\"p4\":206,\"v4\":1.148221,\"n4\":22,\"p5\":230,\"v5\":1.148221,\"n5\":23,\"p6\":257,\"v6\":1.148221,\"n6\":22,\"p7\":281,\"v7\":1.148221,\"n7\":23,\"p8\":308,\"v8\":1.148221,\"n8\":13,\"p9\":332,\"v9\":1.148221,\"n9\":23,\"p10\":410,\"v10\":1.148221,\"n10\":13,\"p11\":434,\"v11\":1.148221,\"n11\":23,\"p12\":461,\"v12\":1.148221,\"n12\":22,\"p13\":485,\"v13\":1.148221,\"n13\":23,\"p14\":512,\"v14\":1.148221,\"n14\":22,\"p15\":536,\"v15\":1.148221,\"n15\":23,\"p16\":563,\"v16\":1.148221,\"n16\":22,\"p17\":587,\"v17\":1.148221,\"n17\":23,\"p18\":614,\"v18\":1.148221,\"n18\":22,\"p19\":638,\"v19\":1.148221,\"n19\":23}},{\"_typename\":\"TPaveText\",\"fUniqueID\":0,\"fBits\":9,\"fLineColor\":1,\"fLineStyle\":1,\"fLineWidth\":1,\"fFillColor\":0,\"fFillStyle\":0,\"fX1\":-4.95281131133198,\"fY1\":7.15000017071143,\"fX2\":3.95281131133198,\"fY2\":8.04375019734726,\"fX1NDC\":0.428755020080321,\"fY1NDC\":0.940000003948808,\"fX2NDC\":0.571244979919679,\"fY2NDC\":0.995000004768372,\"fBorderSize\":0,\"fInit\":1,\"fShadowColor\":1,\"fCornerRadius\":0,\"fOption\":\"blNDC\",\"fName\":\"title\",\"fTextAngle\":0,\"fTextSize\":0,\"fTextAlign\":22,\"fTextColor\":1,\"fTextFont\":42,\"fLabel\":\"\",\"fLongest\":9,\"fMargin\":0.05,\"fLines\":{\"_typename\":\"TList\",\"name\":\"TList\",\"arr\":[{\"_typename\":\"TLatex\",\"fUniqueID\":0,\"fBits\":0,\"fName\":\"\",\"fTitle\":\"Ecal Hits\",\"fTextAngle\":0,\"fTextSize\":0,\"fTextAlign\":0,\"fTextColor\":0,\"fTextFont\":0,\"fX\":0,\"fY\":0,\"fLineColor\":1,\"fLineStyle\":1,\"fLineWidth\":2,\"fLimitFactorSize\":3,\"fOriginSize\":0.0467500016093254}],\"opt\":[\"\"]}},{\"_typename\":\"TStyle\",\"fUniqueID\":0,\"fBits\":0,\"fName\":\"Modern\",\"fTitle\":\"Modern Style\",\"fLineColor\":1,\"fLineStyle\":1,\"fLineWidth\":1,\"fFillColor\":19,\"fFillStyle\":1001,\"fMarkerColor\":1,\"fMarkerStyle\":1,\"fMarkerSize\":1,\"fTextAngle\":0,\"fTextSize\":0.05,\"fTextAlign\":11,\"fTextColor\":1,\"fTextFont\":62,\"fXaxis\":{\"_typename\":\"TAttAxis\",\"fNdivisions\":510,\"fAxisColor\":1,\"fLabelColor\":1,\"fLabelFont\":42,\"fLabelOffset\":0.005,\"fLabelSize\":0.035,\"fTickLength\":0.03,\"fTitleOffset\":1,\"fTitleSize\":0.035,\"fTitleColor\":1,\"fTitleFont\":42},\"fYaxis\":{\"_typename\":\"TAttAxis\",\"fNdivisions\":510,\"fAxisColor\":1,\"fLabelColor\":1,\"fLabelFont\":42,\"fLabelOffset\":0.005,\"fLabelSize\":0.035,\"fTickLength\":0.03,\"fTitleOffset\":0,\"fTitleSize\":0.035,\"fTitleColor\":1,\"fTitleFont\":42},\"fZaxis\":{\"_typename\":\"TAttAxis\",\"fNdivisions\":510,\"fAxisColor\":1,\"fLabelColor\":1,\"fLabelFont\":42,\"fLabelOffset\":0.005,\"fLabelSize\":0.035,\"fTickLength\":0.03,\"fTitleOffset\":1,\"fTitleSize\":0.035,\"fTitleColor\":1,\"fTitleFont\":42},\"fBarWidth\":1,\"fBarOffset\":0,\"fColorModelPS\":0,\"fDrawBorder\":0,\"fOptLogx\":0,\"fOptLogy\":0,\"fOptLogz\":0,\"fOptDate\":0,\"fOptStat\":1111,\"fOptTitle\":1,\"fOptFile\":0,\"fOptFit\":0,\"fShowEventStatus\":0,\"fShowEditor\":0,\"fShowToolBar\":0,\"fNumberContours\":20,\"fAttDate\":{\"_typename\":\"TAttText\",\"fTextAngle\":0,\"fTextSize\":0.025,\"fTextAlign\":11,\"fTextColor\":1,\"fTextFont\":62},\"fDateX\":0.01,\"fDateY\":0.01,\"fEndErrorSize\":2,\"fErrorX\":0.5,\"fFuncColor\":2,\"fFuncStyle\":1,\"fFuncWidth\":2,\"fGridColor\":0,\"fGridStyle\":3,\"fGridWidth\":1,\"fLegendBorderSize\":1,\"fLegendFillColor\":0,\"fLegendFont\":42,\"fLegendTextSize\":0,\"fHatchesLineWidth\":1,\"fHatchesSpacing\":1,\"fFrameFillColor\":0,\"fFrameLineColor\":1,\"fFrameFillStyle\":1001,\"fFrameLineStyle\":1,\"fFrameLineWidth\":1,\"fFrameBorderSize\":1,\"fFrameBorderMode\":0,\"fHistFillColor\":0,\"fHistLineColor\":602,\"fHistFillStyle\":1001,\"fHistLineStyle\":1,\"fHistLineWidth\":1,\"fHistMinimumZero\":false,\"fHistTopMargin\":0.05,\"fCanvasPreferGL\":false,\"fCanvasColor\":0,\"fCanvasBorderSize\":2,\"fCanvasBorderMode\":0,\"fCanvasDefH\":500,\"fCanvasDefW\":700,\"fCanvasDefX\":10,\"fCanvasDefY\":10,\"fPadColor\":0,\"fPadBorderSize\":2,\"fPadBorderMode\":0,\"fPadBottomMargin\":0.1,\"fPadTopMargin\":0.1,\"fPadLeftMargin\":0.1,\"fPadRightMargin\":0.1,\"fPadGridX\":false,\"fPadGridY\":false,\"fPadTickX\":0,\"fPadTickY\":0,\"fPaperSizeX\":20,\"fPaperSizeY\":26,\"fScreenFactor\":1,\"fStatColor\":0,\"fStatTextColor\":1,\"fStatBorderSize\":1,\"fStatFont\":42,\"fStatFontSize\":0,\"fStatStyle\":1001,\"fStatFormat\":\"6.4g\",\"fStatX\":0.98,\"fStatY\":0.935,\"fStatW\":0.2,\"fStatH\":0.16,\"fStripDecimals\":true,\"fTitleAlign\":23,\"fTitleColor\":0,\"fTitleTextColor\":1,\"fTitleBorderSize\":0,\"fTitleFont\":42,\"fTitleFontSize\":0.05,\"fTitleStyle\":0,\"fTitleX\":0.5,\"fTitleY\":0.995,\"fTitleW\":0,\"fTitleH\":0,\"fLegoInnerR\":0.5,\"fLineStyles\":[\"\",\"  \",\" 12 12\",\" 4 8\",\" 12 16 4 16\",\" 20 12 4 12\",\" 20 12 4 12 4 12 4 12\",\" 20 20\",\" 20 12 4 12 4 12\",\" 80 20\",\" 80 40 4 40\",\"  \",\"  \",\"  \",\"  \",\"  \",\"  \",\"  \",\"  \",\"  \",\"  \",\"  \",\"  \",\"  \",\"  \",\"  \",\"  \",\"  \",\"  \",\"  \"],\"fHeaderPS\":\"\",\"fTitlePS\":\"\",\"fFitFormat\":\"5.4g\",\"fPaintTextFormat\":\"g\",\"fLineScalePS\":3,\"fJoinLinePS\":0,\"fCapLinePS\":0,\"fTimeOffset\":788918400,\"fImageScaling\":1}],\"opt\":[\"\",\"colz\",\"boxsame\",\"blNDC\",\"\"]},\"fExecs\":null,\"fName\":\"cc2\",\"fTitle\":\"Canvas\",\"fNumPaletteColor\":0,\"fNextPaletteColor\":0,\"fDISPLAY\":\"$DISPLAY\",\"fDoubleBuffer\":0,\"fRetained\":true,\"fXsizeUser\":0,\"fYsizeUser\":0,\"fXsizeReal\":20,\"fYsizeReal\":12,\"fWindowTopX\":0,\"fWindowTopY\":0,\"fWindowWidth\":0,\"fWindowHeight\":0,\"fCw\":996,\"fCh\":572,\"fCatt\":{\"_typename\":\"TAttCanvas\",\"fXBetween\":2,\"fYBetween\":2,\"fTitleFromTop\":1.2,\"fXdate\":0.2,\"fYdate\":0.3,\"fAdate\":1},\"kMoveOpaque\":true,\"kResizeOpaque\":true,\"fHighLightColor\":2,\"fBatch\":true,\"kShowEventStatus\":false,\"kAutoExec\":true,\"kMenuBar\":true});\n   Core.settings.HandleKeys = false;\n   Core.draw(\"root_plot_1677885417683\", obj, \"\");\n}\n\nfunction script_load_root_plot_1677885417683(src, on_error) {\n    let script = document.createElement('script');\n    script.src = src;\n    script.onload = function() { display_root_plot_1677885417683(JSROOT); };\n    script.onerror = function() { script.remove(); on_error(); };\n    document.head.appendChild(script);\n}\n\nif (typeof requirejs !== 'undefined') {\n\n    // We are in jupyter notebooks, use require.js which should be configured already\n    requirejs.config({\n       paths: { 'JSRootCore' : [ 'build/jsroot', 'https://root.cern/js/7.2.1/build/jsroot', 'https://jsroot.gsi.de/7.2.1/build/jsroot' ] }\n    })(['JSRootCore'],  function(Core) {\n       display_root_plot_1677885417683(Core);\n    });\n\n} else if (typeof JSROOT !== 'undefined') {\n\n   // JSROOT already loaded, just use it\n   display_root_plot_1677885417683(JSROOT);\n\n} else {\n\n    // We are in jupyterlab without require.js, directly loading jsroot\n    // Jupyterlab might be installed in a different base_url so we need to know it.\n    try {\n        var base_url = JSON.parse(document.getElementById('jupyter-config-data').innerHTML).baseUrl;\n    } catch(_) {\n        var base_url = '/';\n    }\n\n    // Try loading a local version of requirejs and fallback to cdn if not possible.\n    script_load_root_plot_1677885417683(base_url + 'static/build/jsroot.js', function(){\n        console.error('Fail to load JSROOT locally, please check your jupyter_notebook_config.py file');\n        script_load_root_plot_1677885417683('https://root.cern/js/7.2.1/build/jsroot.js', function(){\n            document.getElementById(\"root_plot_1677885417683\").innerHTML = \"Failed to load JSROOT\";\n        });\n    });\n}\n\n</script>\n"
     },
     "metadata": {},
     "output_type": "display_data"
    }
   ],
   "source": [
    "ch.GetEntry(event)\n",
    "hh = make_ecal_snaphot(mdst, hh, 0)\n",
    "hh.SetStats(0)\n",
    "cc2.Clear()\n",
    "ones2 = fancy_plot(hh, ones2, 0x0)\n",
    "cc2.Update()\n",
    "cc2.Draw()\n",
    "event += 1"
   ],
   "metadata": {
    "collapsed": false
   }
  },
  {
   "cell_type": "code",
   "execution_count": 12,
   "outputs": [
    {
     "name": "stdout",
     "output_type": "stream",
     "text": [
      "Run: 1193700, Event:9\n",
      "NClusters: 1 : [8](154.130,-41.883,  2.834),\n",
      "\n",
      "   i |   x |   y |  Energy  \n",
      "----------------------------\n",
      "   0 |   9 |  -1 | 0.07054 \n",
      "   1 |  10 |  -3 | 0.03088 \n",
      "   2 |   8 |  -4 | 0.03093 \n",
      "   3 |   8 |  -3 | 0.17876 \n",
      "   4 |   9 |  -3 | 0.11735 \n",
      "   5 |   7 |  -2 | 0.06747 \n",
      "   6 |   8 |  -1 | 0.05087 \n",
      "   7 |   8 |  -2 | 0.84081 \n",
      "   8 |   9 |  -2 | 1.14822 \n",
      "Energy sum = 2.535833742469549\n"
     ]
    }
   ],
   "source": [
    "print(f\"Run: {mdst.run_number}, Event:{mdst.event_number}\")\n",
    "print(f\"NClusters: {len(mdst.ecal_cluster_seed_ix)} :\",end=\"\")\n",
    "for i in range(len(mdst.ecal_cluster_seed_index)):\n",
    "    print(f\" [{mdst.ecal_cluster_seed_index[i]}]({mdst.ecal_cluster_x[i]:7.3f},{mdst.ecal_cluster_y[i]:7.3f},{mdst.ecal_cluster_energy[i]:7.3f})\", end=\",\")\n",
    "print(\"\\n\")\n",
    "print(\"   i |   x |   y |  Energy  \")\n",
    "esum=0\n",
    "print(\"----------------------------\")\n",
    "for i in range(len(mdst.ecal_hit_index_x)):\n",
    "    print(f\" {i:3d} | {mdst.ecal_hit_index_x[i]:3d} | {mdst.ecal_hit_index_y[i]:3d} | {mdst.ecal_hit_energy[i]:7.5f} \")\n",
    "    esum+=mdst.ecal_hit_energy[i]\n",
    "print(f\"Energy sum = {esum}\")"
   ],
   "metadata": {
    "collapsed": false
   }
  },
  {
   "cell_type": "code",
   "execution_count": 34,
   "outputs": [
    {
     "name": "stdout",
     "output_type": "stream",
     "text": [
      "  12  pdg:   11  E:  3.000000 p = (-0.020064, 0.085848, 2.998704)v = ( 0.00, 0.00, 0.00) end=(-83.31,39.98,1387.73)\n",
      "              | \n",
      "              5  pdg:   22  E:  0.000000 p = (-0.000000, 0.000000, 0.000000)v = (-83.31,39.98,1387.73) end=(-89.89,41.79,1461.49)\n",
      "                         | \n",
      "                        13  pdg:   11  E:  0.000511 p = ( 0.000000,-0.000000, 0.000000)v = (-89.89,41.79,1461.49) end=(-90.77,41.99,1471.30)\n",
      "                                    | \n",
      "                                    0  pdg:   22  E:  0.000000 p = (-0.000000, 0.000000, 0.000000)v = (-90.77,41.99,1471.30) end=(-91.17,42.11,1475.85)\n",
      "                                               | \n",
      "                                              16  pdg:   11  E:  0.000511 p = (-0.000000, 0.000000, 0.000000)v = (-91.17,42.11,1475.85) end=(-91.29,42.14,1477.05)\n",
      "                                                          | \n",
      "                                                          1  pdg:   22  E:  0.000000 p = (-0.000000, 0.000000, 0.000000)v = (-91.29,42.14,1477.05) end=(-91.84,42.32,1482.93)\n",
      "                                                                     | \n",
      "                                                                    14  pdg:  -11  E:  0.000511 p = ( 0.000000, 0.000000,-0.000000)v = (-91.84,42.32,1482.93) end=(-90.23,42.05,1494.02)\n",
      "                                                                                | \n",
      "                                                                               10  pdg:   22  E:  0.005497 p = ( 0.002676,-0.001710,-0.004487)v = (-90.23,42.05,1494.02) end=(173.28,-126.31,1052.13)\n",
      "                                                                                           | \n",
      "                                                                                           2  pdg:   11  E:  0.005390 p = ( 0.002082,-0.001669,-0.004655)v = (173.28,-126.31,1052.13) end=(173.57,-125.39,1050.51)\n",
      "                                    9  pdg:   22  E:  0.000000 p = (-0.000000, 0.000000, 0.000000)v = (-90.60,41.95,1469.41) end=(-91.11,42.07,1474.95)\n",
      "                                               | \n",
      "                                              15  pdg:  -11  E:  0.000511 p = (-0.000000,-0.000000,-0.000000)v = (-91.11,42.07,1474.95) end=(-92.59,42.04,1491.45)\n",
      "                                                          | \n",
      "                                                          7  pdg:   22  E:  0.000000 p = (-0.000000,-0.000000, 0.000000)v = (-92.59,42.04,1491.45) end=(-94.09,42.01,1509.11)\n",
      "                                                                     | \n",
      "                                                                     4  pdg:   11  E:  0.000511 p = ( 0.000000, 0.000000, 0.000000)v = (-94.09,42.01,1509.11) end=(-94.65,42.32,1516.90)\n",
      "                                                                                | \n",
      "                                                                                8  pdg:   22  E:  0.000000 p = (-0.000000, 0.000000, 0.000000)v = (-94.65,42.32,1516.90) end=(-94.70,42.72,1535.87)\n",
      "                                                                                           | \n",
      "                                                                                           6  pdg:   11  E:  0.000511 p = ( 0.000000,-0.000000,-0.000000)v = (-94.70,42.72,1535.87) end=(-94.63,43.03,1536.73)\n",
      "                                                                                                      | \n",
      "                                                                                                      3  pdg:   22  E:  0.001796 p = ( 0.000549, 0.000927,-0.001437)v = (-94.63,43.03,1536.73) end=(-7.61,188.18,1319.11)\n",
      "                                                                                                                 | \n",
      "                                                                                                                11  pdg:   11  E:  0.001677 p = ( 0.000023, 0.000583,-0.001487)v = (-7.61,188.18,1319.11) end=(-7.47,188.35,1318.12)\n",
      "i_p = 12\n",
      "Status: 1 = 00000000000000000000000000000001\n"
     ]
    }
   ],
   "source": [
    "event+=1\n",
    "ch.GetEntry(event)\n",
    "print_mc_particle_tree(mdst)\n",
    "primary_index = -1\n",
    "for i in range(len(mdst.mc_part_z)):\n",
    "    if abs(mdst.mc_part_z[i])<1e-6:\n",
    "        primary_index = i\n",
    "        break\n",
    "print(f\"i_p = {primary_index}\")\n",
    "print(f\"Status: {mdst.mc_part_gen_status[primary_index]:d} = {mdst.mc_part_gen_status[primary_index]:032b}\")"
   ],
   "metadata": {
    "collapsed": false
   }
  },
  {
   "cell_type": "code",
   "execution_count": 35,
   "outputs": [],
   "source": [
    "ans = R.find_average_end_of_daughters_of_primary_mc_part(mdst.mc_part_z, mdst.mc_part_end_z, mdst.mc_part_daughters)"
   ],
   "metadata": {
    "collapsed": false
   }
  },
  {
   "cell_type": "code",
   "execution_count": 36,
   "outputs": [
    {
     "data": {
      "text/plain": "[1461.491142325174]"
     },
     "execution_count": 36,
     "metadata": {},
     "output_type": "execute_result"
    }
   ],
   "source": [
    "list(ans)"
   ],
   "metadata": {
    "collapsed": false
   }
  },
  {
   "cell_type": "code",
   "execution_count": 43,
   "outputs": [],
   "source": [
    "h_n_trk = df.Define(\"n_trk\",\"int n=0; for(int i=0;i<track_type.size();++i){if(track_type[i]==1) n+=1;}; return n\").Histo1D((\"h_n_trk\",\"N KF tracks\",11,-0.5,10.5),\"n_trk\")"
   ],
   "metadata": {
    "collapsed": false
   }
  },
  {
   "cell_type": "code",
   "execution_count": 44,
   "outputs": [
    {
     "data": {
      "text/plain": "<IPython.core.display.HTML object>",
      "text/html": "\n\n<div id=\"root_plot_1677356363251\"\n     style=\"width: 996px; height: 572px\">\n</div>\n<script>\n\nfunction display_root_plot_1677356363251(Core) {\n   let obj = Core.parse({\"_typename\":\"TCanvas\",\"fUniqueID\":0,\"fBits\":3342344,\"fLineColor\":1,\"fLineStyle\":1,\"fLineWidth\":1,\"fFillColor\":0,\"fFillStyle\":1001,\"fLeftMargin\":0.1,\"fRightMargin\":0.1,\"fBottomMargin\":0.1,\"fTopMargin\":0.1,\"fXfile\":2,\"fYfile\":2,\"fAfile\":1,\"fXstat\":0.99,\"fYstat\":0.99,\"fAstat\":2,\"fFrameFillColor\":0,\"fFrameLineColor\":1,\"fFrameFillStyle\":1001,\"fFrameLineStyle\":1,\"fFrameLineWidth\":1,\"fFrameBorderSize\":1,\"fFrameBorderMode\":0,\"fX1\":-1.87500010244549,\"fY1\":0.35264322013443,\"fX2\":11.8750001024455,\"fY2\":7.038103611005,\"fXtoAbsPixelk\":135.818237215112,\"fXtoPixelk\":135.818237215112,\"fXtoPixel\":72.4363625569776,\"fYtoAbsPixelk\":602.171782404898,\"fYtoPixelk\":602.171782404898,\"fYtoPixel\":-85.5588047131508,\"fUtoAbsPixelk\":5e-5,\"fUtoPixelk\":5e-5,\"fUtoPixel\":996,\"fVtoAbsPixelk\":572.00005,\"fVtoPixelk\":572,\"fVtoPixel\":-572,\"fAbsPixeltoXk\":-1.87500010244549,\"fPixeltoXk\":-1.87500010244549,\"fPixeltoX\":0.013805221089248,\"fAbsPixeltoYk\":7.038103611005,\"fPixeltoYk\":0.35264322013443,\"fPixeltoY\":-0.0116878678162073,\"fXlowNDC\":0,\"fYlowNDC\":0,\"fXUpNDC\":1,\"fYUpNDC\":1,\"fWNDC\":1,\"fHNDC\":1,\"fAbsXlowNDC\":0,\"fAbsYlowNDC\":0,\"fAbsWNDC\":1,\"fAbsHNDC\":1,\"fUxmin\":-0.5,\"fUymin\":1.02118929906994,\"fUxmax\":10.5,\"fUymax\":6.36955753206949,\"fTheta\":30,\"fPhi\":30,\"fAspectRatio\":0,\"fNumber\":0,\"fTickx\":0,\"fTicky\":0,\"fLogx\":0,\"fLogy\":1,\"fLogz\":0,\"fPadPaint\":0,\"fCrosshair\":0,\"fCrosshairPos\":0,\"fBorderSize\":2,\"fBorderMode\":0,\"fModified\":false,\"fGridx\":false,\"fGridy\":false,\"fAbsCoord\":false,\"fEditable\":true,\"fFixedAspectRatio\":false,\"fPrimitives\":{\"_typename\":\"TList\",\"name\":\"TList\",\"arr\":[{\"_typename\":\"TFrame\",\"fUniqueID\":0,\"fBits\":8,\"fLineColor\":1,\"fLineStyle\":1,\"fLineWidth\":1,\"fFillColor\":0,\"fFillStyle\":1001,\"fX1\":-0.5,\"fY1\":1.02118929906994,\"fX2\":10.5,\"fY2\":6.36955753206949,\"fBorderSize\":1,\"fBorderMode\":0},{\"_typename\":\"TH1D\",\"fUniqueID\":0,\"fBits\":8,\"fName\":\"h_n_trk\",\"fTitle\":\"N KF tracks\",\"fLineColor\":602,\"fLineStyle\":1,\"fLineWidth\":1,\"fFillColor\":0,\"fFillStyle\":1001,\"fMarkerColor\":1,\"fMarkerStyle\":1,\"fMarkerSize\":1,\"fNcells\":13,\"fXaxis\":{\"_typename\":\"TAxis\",\"fUniqueID\":0,\"fBits\":0,\"fName\":\"xaxis\",\"fTitle\":\"\",\"fNdivisions\":510,\"fAxisColor\":1,\"fLabelColor\":1,\"fLabelFont\":42,\"fLabelOffset\":0.005,\"fLabelSize\":0.035,\"fTickLength\":0.03,\"fTitleOffset\":1,\"fTitleSize\":0.035,\"fTitleColor\":1,\"fTitleFont\":42,\"fNbins\":11,\"fXmin\":-0.5,\"fXmax\":10.5,\"fXbins\":[],\"fFirst\":0,\"fLast\":0,\"fBits2\":0,\"fTimeDisplay\":false,\"fTimeFormat\":\"\",\"fLabels\":null,\"fModLabs\":null},\"fYaxis\":{\"_typename\":\"TAxis\",\"fUniqueID\":0,\"fBits\":0,\"fName\":\"yaxis\",\"fTitle\":\"\",\"fNdivisions\":510,\"fAxisColor\":1,\"fLabelColor\":1,\"fLabelFont\":42,\"fLabelOffset\":0.005,\"fLabelSize\":0.035,\"fTickLength\":0.03,\"fTitleOffset\":0,\"fTitleSize\":0.035,\"fTitleColor\":1,\"fTitleFont\":42,\"fNbins\":1,\"fXmin\":0,\"fXmax\":1,\"fXbins\":[],\"fFirst\":0,\"fLast\":0,\"fBits2\":0,\"fTimeDisplay\":false,\"fTimeFormat\":\"\",\"fLabels\":null,\"fModLabs\":null},\"fZaxis\":{\"_typename\":\"TAxis\",\"fUniqueID\":0,\"fBits\":0,\"fName\":\"zaxis\",\"fTitle\":\"\",\"fNdivisions\":510,\"fAxisColor\":1,\"fLabelColor\":1,\"fLabelFont\":42,\"fLabelOffset\":0.005,\"fLabelSize\":0.035,\"fTickLength\":0.03,\"fTitleOffset\":1,\"fTitleSize\":0.035,\"fTitleColor\":1,\"fTitleFont\":42,\"fNbins\":1,\"fXmin\":0,\"fXmax\":1,\"fXbins\":[],\"fFirst\":0,\"fLast\":0,\"fBits2\":0,\"fTimeDisplay\":false,\"fTimeFormat\":\"\",\"fLabels\":null,\"fModLabs\":null},\"fBarOffset\":0,\"fBarWidth\":1000,\"fEntries\":1846511,\"fTsumw\":1846511,\"fTsumw2\":1846511,\"fTsumwx\":1237545,\"fTsumwx2\":1239181,\"fMaximum\":-1111,\"fMinimum\":-1111,\"fNormFactor\":0,\"fContour\":[],\"fSumw2\":[],\"fOption\":\"\",\"fFunctions\":{\"_typename\":\"TList\",\"name\":\"TList\",\"arr\":[{\"_typename\":\"TPaveStats\",\"fUniqueID\":0,\"fBits\":9,\"fLineColor\":1,\"fLineStyle\":1,\"fLineWidth\":1,\"fFillColor\":0,\"fFillStyle\":1001,\"fX1\":8.85000027865172,\"fY1\":5.53387506290757,\"fX2\":11.6000003606081,\"fY2\":6.60354870153779,\"fX1NDC\":0.780000016093254,\"fY1NDC\":0.775000005960464,\"fX2NDC\":0.980000019073486,\"fY2NDC\":0.935000002384186,\"fBorderSize\":1,\"fInit\":1,\"fShadowColor\":1,\"fCornerRadius\":0,\"fOption\":\"brNDC\",\"fName\":\"stats\",\"fTextAngle\":0,\"fTextSize\":0,\"fTextAlign\":12,\"fTextColor\":1,\"fTextFont\":42,\"fLabel\":\"\",\"fLongest\":18,\"fMargin\":0.05,\"fLines\":{\"_typename\":\"TList\",\"name\":\"TList\",\"arr\":[{\"_typename\":\"TLatex\",\"fUniqueID\":0,\"fBits\":0,\"fName\":\"\",\"fTitle\":\"h_n_trk\",\"fTextAngle\":0,\"fTextSize\":0.0368,\"fTextAlign\":0,\"fTextColor\":0,\"fTextFont\":0,\"fX\":0,\"fY\":0,\"fLineColor\":1,\"fLineStyle\":1,\"fLineWidth\":2,\"fLimitFactorSize\":3,\"fOriginSize\":0.0368000008165836},{\"_typename\":\"TLatex\",\"fUniqueID\":0,\"fBits\":0,\"fName\":\"\",\"fTitle\":\"Entries = 1846511\",\"fTextAngle\":0,\"fTextSize\":0,\"fTextAlign\":0,\"fTextColor\":0,\"fTextFont\":0,\"fX\":0,\"fY\":0,\"fLineColor\":1,\"fLineStyle\":1,\"fLineWidth\":2,\"fLimitFactorSize\":3,\"fOriginSize\":0.04},{\"_typename\":\"TLatex\",\"fUniqueID\":0,\"fBits\":0,\"fName\":\"\",\"fTitle\":\"Mean  = 0.6702\",\"fTextAngle\":0,\"fTextSize\":0,\"fTextAlign\":0,\"fTextColor\":0,\"fTextFont\":0,\"fX\":0,\"fY\":0,\"fLineColor\":1,\"fLineStyle\":1,\"fLineWidth\":2,\"fLimitFactorSize\":3,\"fOriginSize\":0.04},{\"_typename\":\"TLatex\",\"fUniqueID\":0,\"fBits\":0,\"fName\":\"\",\"fTitle\":\"Std Dev   = 0.4711\",\"fTextAngle\":0,\"fTextSize\":0,\"fTextAlign\":0,\"fTextColor\":0,\"fTextFont\":0,\"fX\":0,\"fY\":0,\"fLineColor\":1,\"fLineStyle\":1,\"fLineWidth\":2,\"fLimitFactorSize\":3,\"fOriginSize\":0.04}],\"opt\":[\"\",\"\",\"\",\"\"]},\"fOptFit\":0,\"fOptStat\":1111,\"fFitFormat\":\"5.4g\",\"fStatFormat\":\"6.4g\",\"fParent\":{\"$ref\":3}}],\"opt\":[\"brNDC\"]},\"fBufferSize\":0,\"fBuffer\":[],\"fBinStatErrOpt\":0,\"fStatOverflows\":2,\"fArray\":{\"$arr\":\"Float64\",\"len\":13,\"p\":1,\"v\":[609763,1235972,755,21]}},{\"_typename\":\"TPaveText\",\"fUniqueID\":0,\"fBits\":9,\"fLineColor\":1,\"fLineStyle\":1,\"fLineWidth\":1,\"fFillColor\":0,\"fFillStyle\":0,\"fX1\":3.75117970026663,\"fY1\":6.63697601395236,\"fX2\":6.24882029973337,\"fY2\":7.00467634092941,\"fX1NDC\":0.409176706827309,\"fY1NDC\":0.940000003948808,\"fX2NDC\":0.590823293172691,\"fY2NDC\":0.995000004768372,\"fBorderSize\":0,\"fInit\":1,\"fShadowColor\":1,\"fCornerRadius\":0,\"fOption\":\"blNDC\",\"fName\":\"title\",\"fTextAngle\":0,\"fTextSize\":0,\"fTextAlign\":22,\"fTextColor\":1,\"fTextFont\":42,\"fLabel\":\"\",\"fLongest\":11,\"fMargin\":0.05,\"fLines\":{\"_typename\":\"TList\",\"name\":\"TList\",\"arr\":[{\"_typename\":\"TLatex\",\"fUniqueID\":0,\"fBits\":0,\"fName\":\"\",\"fTitle\":\"N KF tracks\",\"fTextAngle\":0,\"fTextSize\":0,\"fTextAlign\":0,\"fTextColor\":0,\"fTextFont\":0,\"fX\":0,\"fY\":0,\"fLineColor\":1,\"fLineStyle\":1,\"fLineWidth\":2,\"fLimitFactorSize\":3,\"fOriginSize\":0.0467500016093254}],\"opt\":[\"\"]}},{\"_typename\":\"TStyle\",\"fUniqueID\":0,\"fBits\":0,\"fName\":\"Modern\",\"fTitle\":\"Modern Style\",\"fLineColor\":1,\"fLineStyle\":1,\"fLineWidth\":1,\"fFillColor\":19,\"fFillStyle\":1001,\"fMarkerColor\":1,\"fMarkerStyle\":1,\"fMarkerSize\":1,\"fTextAngle\":0,\"fTextSize\":0.05,\"fTextAlign\":11,\"fTextColor\":1,\"fTextFont\":62,\"fXaxis\":{\"_typename\":\"TAttAxis\",\"fNdivisions\":510,\"fAxisColor\":1,\"fLabelColor\":1,\"fLabelFont\":42,\"fLabelOffset\":0.005,\"fLabelSize\":0.035,\"fTickLength\":0.03,\"fTitleOffset\":1,\"fTitleSize\":0.035,\"fTitleColor\":1,\"fTitleFont\":42},\"fYaxis\":{\"_typename\":\"TAttAxis\",\"fNdivisions\":510,\"fAxisColor\":1,\"fLabelColor\":1,\"fLabelFont\":42,\"fLabelOffset\":0.005,\"fLabelSize\":0.035,\"fTickLength\":0.03,\"fTitleOffset\":0,\"fTitleSize\":0.035,\"fTitleColor\":1,\"fTitleFont\":42},\"fZaxis\":{\"_typename\":\"TAttAxis\",\"fNdivisions\":510,\"fAxisColor\":1,\"fLabelColor\":1,\"fLabelFont\":42,\"fLabelOffset\":0.005,\"fLabelSize\":0.035,\"fTickLength\":0.03,\"fTitleOffset\":1,\"fTitleSize\":0.035,\"fTitleColor\":1,\"fTitleFont\":42},\"fBarWidth\":1,\"fBarOffset\":0,\"fColorModelPS\":0,\"fDrawBorder\":0,\"fOptLogx\":0,\"fOptLogy\":0,\"fOptLogz\":0,\"fOptDate\":0,\"fOptStat\":1111,\"fOptTitle\":1,\"fOptFile\":0,\"fOptFit\":0,\"fShowEventStatus\":0,\"fShowEditor\":0,\"fShowToolBar\":0,\"fNumberContours\":20,\"fAttDate\":{\"_typename\":\"TAttText\",\"fTextAngle\":0,\"fTextSize\":0.025,\"fTextAlign\":11,\"fTextColor\":1,\"fTextFont\":62},\"fDateX\":0.01,\"fDateY\":0.01,\"fEndErrorSize\":2,\"fErrorX\":0.5,\"fFuncColor\":2,\"fFuncStyle\":1,\"fFuncWidth\":2,\"fGridColor\":0,\"fGridStyle\":3,\"fGridWidth\":1,\"fLegendBorderSize\":1,\"fLegendFillColor\":0,\"fLegendFont\":42,\"fLegendTextSize\":0,\"fHatchesLineWidth\":1,\"fHatchesSpacing\":1,\"fFrameFillColor\":0,\"fFrameLineColor\":1,\"fFrameFillStyle\":1001,\"fFrameLineStyle\":1,\"fFrameLineWidth\":1,\"fFrameBorderSize\":1,\"fFrameBorderMode\":0,\"fHistFillColor\":0,\"fHistLineColor\":602,\"fHistFillStyle\":1001,\"fHistLineStyle\":1,\"fHistLineWidth\":1,\"fHistMinimumZero\":false,\"fHistTopMargin\":0.05,\"fCanvasPreferGL\":false,\"fCanvasColor\":0,\"fCanvasBorderSize\":2,\"fCanvasBorderMode\":0,\"fCanvasDefH\":500,\"fCanvasDefW\":700,\"fCanvasDefX\":10,\"fCanvasDefY\":10,\"fPadColor\":0,\"fPadBorderSize\":2,\"fPadBorderMode\":0,\"fPadBottomMargin\":0.1,\"fPadTopMargin\":0.1,\"fPadLeftMargin\":0.1,\"fPadRightMargin\":0.1,\"fPadGridX\":false,\"fPadGridY\":false,\"fPadTickX\":0,\"fPadTickY\":0,\"fPaperSizeX\":20,\"fPaperSizeY\":26,\"fScreenFactor\":1,\"fStatColor\":0,\"fStatTextColor\":1,\"fStatBorderSize\":1,\"fStatFont\":42,\"fStatFontSize\":0,\"fStatStyle\":1001,\"fStatFormat\":\"6.4g\",\"fStatX\":0.98,\"fStatY\":0.935,\"fStatW\":0.2,\"fStatH\":0.16,\"fStripDecimals\":true,\"fTitleAlign\":23,\"fTitleColor\":0,\"fTitleTextColor\":1,\"fTitleBorderSize\":0,\"fTitleFont\":42,\"fTitleFontSize\":0.05,\"fTitleStyle\":0,\"fTitleX\":0.5,\"fTitleY\":0.995,\"fTitleW\":0,\"fTitleH\":0,\"fLegoInnerR\":0.5,\"fLineStyles\":[\"\",\"  \",\" 12 12\",\" 4 8\",\" 12 16 4 16\",\" 20 12 4 12\",\" 20 12 4 12 4 12 4 12\",\" 20 20\",\" 20 12 4 12 4 12\",\" 80 20\",\" 80 40 4 40\",\"  \",\"  \",\"  \",\"  \",\"  \",\"  \",\"  \",\"  \",\"  \",\"  \",\"  \",\"  \",\"  \",\"  \",\"  \",\"  \",\"  \",\"  \",\"  \"],\"fHeaderPS\":\"\",\"fTitlePS\":\"\",\"fFitFormat\":\"5.4g\",\"fPaintTextFormat\":\"g\",\"fLineScalePS\":3,\"fJoinLinePS\":0,\"fCapLinePS\":0,\"fTimeOffset\":788918400,\"fImageScaling\":1}],\"opt\":[\"\",\"\",\"blNDC\",\"\"]},\"fExecs\":null,\"fName\":\"cc3\",\"fTitle\":\"Canvas\",\"fNumPaletteColor\":0,\"fNextPaletteColor\":0,\"fDISPLAY\":\"$DISPLAY\",\"fDoubleBuffer\":0,\"fRetained\":true,\"fXsizeUser\":0,\"fYsizeUser\":0,\"fXsizeReal\":20,\"fYsizeReal\":12,\"fWindowTopX\":0,\"fWindowTopY\":0,\"fWindowWidth\":0,\"fWindowHeight\":0,\"fCw\":996,\"fCh\":572,\"fCatt\":{\"_typename\":\"TAttCanvas\",\"fXBetween\":2,\"fYBetween\":2,\"fTitleFromTop\":1.2,\"fXdate\":0.2,\"fYdate\":0.3,\"fAdate\":1},\"kMoveOpaque\":true,\"kResizeOpaque\":true,\"fHighLightColor\":2,\"fBatch\":true,\"kShowEventStatus\":false,\"kAutoExec\":true,\"kMenuBar\":true});\n   Core.settings.HandleKeys = false;\n   Core.draw(\"root_plot_1677356363251\", obj, \"\");\n}\n\nfunction script_load_root_plot_1677356363251(src, on_error) {\n    let script = document.createElement('script');\n    script.src = src;\n    script.onload = function() { display_root_plot_1677356363251(JSROOT); };\n    script.onerror = function() { script.remove(); on_error(); };\n    document.head.appendChild(script);\n}\n\nif (typeof requirejs !== 'undefined') {\n\n    // We are in jupyter notebooks, use require.js which should be configured already\n    requirejs.config({\n       paths: { 'JSRootCore' : [ 'build/jsroot', 'https://root.cern/js/7.2.1/build/jsroot', 'https://jsroot.gsi.de/7.2.1/build/jsroot' ] }\n    })(['JSRootCore'],  function(Core) {\n       display_root_plot_1677356363251(Core);\n    });\n\n} else if (typeof JSROOT !== 'undefined') {\n\n   // JSROOT already loaded, just use it\n   display_root_plot_1677356363251(JSROOT);\n\n} else {\n\n    // We are in jupyterlab without require.js, directly loading jsroot\n    // Jupyterlab might be installed in a different base_url so we need to know it.\n    try {\n        var base_url = JSON.parse(document.getElementById('jupyter-config-data').innerHTML).baseUrl;\n    } catch(_) {\n        var base_url = '/';\n    }\n\n    // Try loading a local version of requirejs and fallback to cdn if not possible.\n    script_load_root_plot_1677356363251(base_url + 'static/build/jsroot.js', function(){\n        console.error('Fail to load JSROOT locally, please check your jupyter_notebook_config.py file');\n        script_load_root_plot_1677356363251('https://root.cern/js/7.2.1/build/jsroot.js', function(){\n            document.getElementById(\"root_plot_1677356363251\").innerHTML = \"Failed to load JSROOT\";\n        });\n    });\n}\n\n</script>\n"
     },
     "metadata": {},
     "output_type": "display_data"
    }
   ],
   "source": [
    "cc3 = R.TCanvas(\"cc3\",\"Canvas\",1000,600)\n",
    "cc3.SetLogy()\n",
    "h_n_trk.Draw()\n",
    "# h_trk_type.Draw()\n",
    "cc3.Draw()"
   ],
   "metadata": {
    "collapsed": false
   }
  },
  {
   "cell_type": "code",
   "execution_count": 44,
   "outputs": [
    {
     "name": "stdout",
     "output_type": "stream",
     "text": [
      "{ 1, 32, 0 }\n",
      "{ -158.68057, -159.77621, -99.000000 }\n",
      "{ -32.285248, -32.322289, -99.000000 }\n",
      "{ -160.90236 }\n",
      "{ -31.234417 }\n",
      "{ 1449.7230 }\n",
      "{ 2.8540785 }\n"
     ]
    }
   ],
   "source": [
    "# ch.GetEvent(1000)\n",
    "print(mdst.track_type)\n",
    "print(mdst.track_x_at_ecal)\n",
    "print(mdst.track_y_at_ecal)\n",
    "print(mdst.ecal_cluster_x)\n",
    "print(mdst.ecal_cluster_y)\n",
    "print(mdst.ecal_cluster_z)\n",
    "print(mdst.ecal_cluster_energy)"
   ],
   "metadata": {
    "collapsed": false
   }
  },
  {
   "cell_type": "code",
   "execution_count": 32,
   "outputs": [
    {
     "data": {
      "text/plain": "[3.0910007126754744, 3.0995140064581204]"
     },
     "execution_count": 32,
     "metadata": {},
     "output_type": "execute_result"
    }
   ],
   "source": [
    "list(R.get_vec_abs(mdst.part.px,mdst.part.py,mdst.part.pz))"
   ],
   "metadata": {
    "collapsed": false
   }
  },
  {
   "cell_type": "code",
   "execution_count": 43,
   "outputs": [
    {
     "name": "stdout",
     "output_type": "stream",
     "text": [
      "{ 186.77338, 172.72255, 188.34173, 127.66628, 45.715293, 190.89881, 190.28572, 188.32397, 188.81537, 190.52120, 188.07597, 172.38583, 135.35861, 190.84963 }\n",
      "{ -40.967363, -115.66351, -33.819923, -88.960342, 60.178744, -35.439140, -35.194414, -34.200828, -34.532515, -35.266486, -34.296194, -115.49584, -89.120053, -35.874238 }\n",
      "{ 1496.7047, 1049.6598, 1463.9988, 905.66624, 553.15587, 1483.5067, 1474.8610, 1454.3559, 1458.6116, 1478.0433, 1450.2807, 1049.6703, 901.43335, 1467.3407 }\n",
      "{ 0.00051099889, 0.0023482520, 0.0000000, 0.0021482026, 0.0019986279, 0.0000000, 0.0000000, 0.00051099889, 3.0000000, 0.00051099889, 0.0000000, 0.0016679163, 0.0036247191, 0.00051099889 }\n",
      "   8  pdg:   11  E:  3.000000 p = ( 0.544909,-0.072305, 2.949211)v = ( 0.00, 0.00, 0.00) end=(188.82,-34.53,1458.61)\n",
      "              | \n",
      "              6  pdg:   22  E:  0.000000 p = ( 0.000000,-0.000000, 0.000000)v = (188.82,-34.53,1458.61) end=(190.29,-35.19,1474.86)\n",
      "                         | \n",
      "                         9  pdg:   11  E:  0.000511 p = ( 0.000000, 0.000000,-0.000000)v = (190.29,-35.19,1474.86) end=(190.52,-35.27,1478.04)\n",
      "                                    | \n",
      "                                    5  pdg:   22  E:  0.000000 p = ( 0.000000,-0.000000, 0.000000)v = (190.52,-35.27,1478.04) end=(190.90,-35.44,1483.51)\n",
      "                                               | \n",
      "                                               0  pdg:   11  E:  0.000511 p = (-0.000000, 0.000000,-0.000000)v = (190.90,-35.44,1483.51) end=(186.77,-40.97,1496.70)\n",
      "                                                          | \n",
      "                                                         12  pdg:   22  E:  0.003625 p = (-0.000305,-0.000236,-0.003604)v = (186.77,-40.97,1496.70) end=(135.36,-89.12,901.43)\n",
      "                                                                     | \n",
      "                                                                     3  pdg:   11  E:  0.002148 p = ( 0.000149,-0.000999,-0.001826)v = (135.36,-89.12,901.43) end=(127.67,-88.96,905.67)\n",
      "                                                                     4  pdg:   11  E:  0.001999 p = (-0.000710, 0.001049,-0.001459)v = (46.75,59.86,554.16) end=(45.72,60.18,553.16)\n",
      "             10  pdg:   22  E:  0.000000 p = ( 0.000000,-0.000000, 0.000000)v = (188.02,-34.28,1449.68) end=(188.08,-34.30,1450.28)\n",
      "                         | \n",
      "                         7  pdg:   11  E:  0.000511 p = ( 0.000000, 0.000000, 0.000000)v = (188.08,-34.30,1450.28) end=(188.32,-34.20,1454.36)\n",
      "                                    | \n",
      "                                    2  pdg:   22  E:  0.000000 p = ( 0.000000, 0.000000, 0.000000)v = (188.32,-34.20,1454.36) end=(188.34,-33.82,1464.00)\n",
      "                                               | \n",
      "                                              13  pdg:  -11  E:  0.000511 p = ( 0.000000,-0.000000,-0.000000)v = (188.34,-33.82,1464.00) end=(190.85,-35.87,1467.34)\n",
      "                                                          | \n",
      "                                                          1  pdg:   22  E:  0.002348 p = (-0.000100,-0.000440,-0.002304)v = (190.85,-35.87,1467.34) end=(172.72,-115.66,1049.66)\n",
      "                                                                     | \n",
      "                                                                    11  pdg:   11  E:  0.001668 p = (-0.000003, 0.000453,-0.001522)v = (172.72,-115.66,1049.66) end=(172.39,-115.50,1049.67)\n"
     ]
    }
   ],
   "source": [
    "print(mdst.mc_part_end_x)\n",
    "print(mdst.mc_part_end_y)\n",
    "print(mdst.mc_part_end_z)\n",
    "print(mdst.mc_part_energy)\n",
    "print_mc_particle_tree(mdst)"
   ],
   "metadata": {
    "collapsed": false
   }
  },
  {
   "cell_type": "code",
   "execution_count": 77,
   "outputs": [
    {
     "name": "stdout",
     "output_type": "stream",
     "text": [
      "[7740, 9320, 10692, 11120, 12498, 14538, 15594, 15839, 25851, 25925, 27330, 34123, 35813, 36461, 37698, 38867, 38955, 39227, 39573, 42238, 43679, 44597, 49261, 51939, 52780, 56749, 62458, 67598, 68002, 68343, 69068, 71029, 72969, 74249, 76903, 82119, 83529, 86180, 92640, 95807, 96360, 98727, 101291, 105150, 108264, 108873, 109331, 110081, 110246, 112190, 116887, 117574, 121684, 123093, 128644, 130612, 132335, 134975, 135709, 136791, 141619, 150739, 150760, 152663, 155651, 158116, 166533, 168500, 171987, 174583, 178023, 178221, 182008, 182026, 185742, 185959, 185968, 187362, 188848, 190582, 195068, 197136, 197217, 197492, 198047, 198570, 199903, 200578, 200763, 201570, 206050, 206181, 207824, 208582, 210321, 211882, 216215, 216751, 222436, 227722, 228194, 229487, 230785, 231485, 233605, 233656, 234932, 235671, 244457, 247981, 248278, 251273, 254685, 258532, 259068, 260481, 263988, 265466, 265866, 266630, 268555, 270973, 271275, 273286, 273612, 274642, 276638, 277130, 277660, 288698, 290571, 291934, 293360, 293544, 294455, 296506, 297852, 297938, 298311, 299974, 300962, 302337, 304158, 307140, 308502, 310138, 312178, 313327, 319032, 319744, 324875, 324931, 328901, 334861, 337209, 338519, 339127, 339625, 341295, 348519, 349596, 349682, 351207, 355775, 356270, 357536, 359323, 378681, 379177, 383073, 386967, 388241, 391243, 391853, 392583, 395226, 395886, 397212, 404431, 404568, 404948, 406327, 408383, 409300, 412621, 414030, 416719, 418262, 418314, 418629, 418788, 419659, 419809, 420001, 425069, 427436, 429548, 430268, 432570, 440160, 441920, 444280, 444711, 448543, 448674, 449390, 451147, 454504, 454836, 459575, 459628, 459750, 460617, 461768, 466544, 467223, 468755, 471039, 473872, 477156, 478544, 480331, 484068, 484079, 487835, 488568, 490223, 490359, 490731, 491726, 496003, 496348, 498521, 500626, 501097, 503747, 504283, 517513, 521685, 527514, 529095, 529179, 529861, 533149, 538863, 541586, 543136, 543735, 544266, 544377, 545880, 548693, 549585, 550070, 551625, 555818, 556472, 557932, 560316, 561836, 574256, 586243, 589187, 591922, 595150, 599171, 602253, 602807, 604263, 606242, 606500, 607645, 611635, 613718, 615345, 617217, 617857, 623645, 623945, 624236, 624266, 626383, 626600, 627734, 634832, 636223, 639173, 639651, 648151, 648817, 655929, 656234, 658960, 659109, 659462, 663163, 668333, 671192, 674633, 682925, 683184, 684791, 685702, 688346, 695590, 697267, 698571, 710581, 710736, 713925, 717475, 720028, 724375, 725730, 726609, 728702, 728811, 734002, 735297, 741933, 746085, 748633, 753998, 766189, 769535, 773338, 778665, 780732, 787457, 789058, 792019, 793548, 794001, 798829, 808092, 812825, 812914, 818498, 822247, 822709, 822939, 824216, 826245, 826851, 827286, 831542, 834311, 836330, 839037, 839473, 842504, 842944, 844486, 845503, 847555, 851774, 852747, 853244, 853847, 855703, 856044, 857747, 857981, 860321, 861209, 861395, 861987, 868832, 872002, 875833, 877303, 879331, 879965, 882998, 884017, 885776, 891128, 891254, 893100, 894768, 908064, 908457, 908780, 912566, 915514, 917506, 921290, 923117, 926717, 930417, 937757, 940008, 940375, 943695, 953819, 957032, 957072, 959139, 962515, 962625, 962951, 964836, 970920, 971870, 977215, 978889, 982650, 983108, 983236, 988546, 991309, 992812, 993524, 995976, 998190]\n"
     ]
    }
   ],
   "source": [
    "# double_track = []\n",
    "# for event in range(1,1000000):\n",
    "#     ch.GetEvent(event)\n",
    "#     n_kf = 0\n",
    "#     for i in range(len(mdst.track_type)):\n",
    "#         if mdst.track_type[i]==1:\n",
    "#             n_kf+=1\n",
    "#     if n_kf >= 2:\n",
    "#         double_track.append(event)\n",
    "# print(double_track)\n"
   ],
   "metadata": {
    "collapsed": false
   }
  },
  {
   "cell_type": "code",
   "execution_count": 31,
   "outputs": [],
   "source": [
    "dfx = df.Define(\"n_kf_track\",\"int n=0; for(int i=0;i<track_type.size();++i){if(track_type[i]==1) n+=1;}; return n\")\\\n",
    "    .Filter(\"n_kf_track==1\").Filter(\"ecal_cluster_energy.size()==1\")\\\n",
    "    .Define(\"trk_idx\",\"for(int i=0;i<track_type.size();++i){if(track_type[i]==1) return(i);} return(-1);\") \\\n",
    "    .Define(\"diff_posx_ecal\",\"ecal_cluster_x[0] - track_x_at_ecal[trk_idx]\") \\\n",
    "    .Define(\"diff_posy_ecal\",\"ecal_cluster_y[0] - track_y_at_ecal[trk_idx]\") \\\n",
    "\n",
    "cnt  = df.Count()\n",
    "cntx = dfx.Count()"
   ],
   "metadata": {
    "collapsed": false
   }
  },
  {
   "cell_type": "code",
   "execution_count": 38,
   "outputs": [],
   "source": [
    "hx_diff_posx_ecal=dfx.Histo1D((\"hx_diff_posx\",\"Diff Ecal_x - Track_x\",1000,-20.,20.),\"diff_posx_ecal\")"
   ],
   "metadata": {
    "collapsed": false
   }
  },
  {
   "cell_type": "code",
   "execution_count": 32,
   "outputs": [
    {
     "name": "stdout",
     "output_type": "stream",
     "text": [
      "1846511\n",
      "1104691\n"
     ]
    }
   ],
   "source": [
    "print(cnt.GetValue())\n",
    "print(cntx.GetValue())"
   ],
   "metadata": {
    "collapsed": false
   }
  },
  {
   "cell_type": "code",
   "execution_count": 40,
   "outputs": [
    {
     "name": "stderr",
     "output_type": "stream",
     "text": [
      "Warning in <TCanvas::Constructor>: Deleting canvas with same name: cc4\n"
     ]
    },
    {
     "data": {
      "text/plain": "<IPython.core.display.HTML object>",
      "text/html": "\n\n<div id=\"root_plot_1677372072912\"\n     style=\"width: 996px; height: 572px\">\n</div>\n<script>\n\nfunction display_root_plot_1677372072912(Core) {\n   let obj = Core.parse({\"_typename\":\"TCanvas\",\"fUniqueID\":0,\"fBits\":3342344,\"fLineColor\":1,\"fLineStyle\":1,\"fLineWidth\":1,\"fFillColor\":0,\"fFillStyle\":1001,\"fLeftMargin\":0.1,\"fRightMargin\":0.1,\"fBottomMargin\":0.1,\"fTopMargin\":0.1,\"fXfile\":2,\"fYfile\":2,\"fAfile\":1,\"fXstat\":0.99,\"fYstat\":0.99,\"fAstat\":2,\"fFrameFillColor\":0,\"fFrameLineColor\":1,\"fFrameFillStyle\":1001,\"fFrameLineStyle\":1,\"fFrameLineWidth\":1,\"fFrameBorderSize\":1,\"fFrameBorderMode\":0,\"fX1\":0,\"fY1\":0,\"fX2\":1,\"fY2\":1,\"fXtoAbsPixelk\":5e-5,\"fXtoPixelk\":5e-5,\"fXtoPixel\":996,\"fYtoAbsPixelk\":572.00005,\"fYtoPixelk\":572.00005,\"fYtoPixel\":-572,\"fUtoAbsPixelk\":5e-5,\"fUtoPixelk\":5e-5,\"fUtoPixel\":996,\"fVtoAbsPixelk\":572.00005,\"fVtoPixelk\":572,\"fVtoPixel\":-572,\"fAbsPixeltoXk\":0,\"fPixeltoXk\":0,\"fPixeltoX\":0.00100401606425703,\"fAbsPixeltoYk\":1,\"fPixeltoYk\":0,\"fPixeltoY\":-0.00174825174825175,\"fXlowNDC\":0,\"fYlowNDC\":0,\"fXUpNDC\":1,\"fYUpNDC\":1,\"fWNDC\":1,\"fHNDC\":1,\"fAbsXlowNDC\":0,\"fAbsYlowNDC\":0,\"fAbsWNDC\":1,\"fAbsHNDC\":1,\"fUxmin\":0,\"fUymin\":0,\"fUxmax\":1,\"fUymax\":1,\"fTheta\":30,\"fPhi\":30,\"fAspectRatio\":0,\"fNumber\":0,\"fTickx\":0,\"fTicky\":0,\"fLogx\":0,\"fLogy\":0,\"fLogz\":0,\"fPadPaint\":0,\"fCrosshair\":0,\"fCrosshairPos\":0,\"fBorderSize\":2,\"fBorderMode\":0,\"fModified\":false,\"fGridx\":false,\"fGridy\":false,\"fAbsCoord\":false,\"fEditable\":true,\"fFixedAspectRatio\":false,\"fPrimitives\":{\"_typename\":\"TList\",\"name\":\"TList\",\"arr\":[{\"_typename\":\"TPad\",\"fUniqueID\":0,\"fBits\":9,\"fLineColor\":1,\"fLineStyle\":1,\"fLineWidth\":1,\"fFillColor\":0,\"fFillStyle\":1001,\"fLeftMargin\":0.1,\"fRightMargin\":0.1,\"fBottomMargin\":0.1,\"fTopMargin\":0.1,\"fXfile\":2,\"fYfile\":2,\"fAfile\":1,\"fXstat\":0.99,\"fYstat\":0.99,\"fAstat\":2,\"fFrameFillColor\":0,\"fFrameLineColor\":1,\"fFrameFillStyle\":1001,\"fFrameLineStyle\":1,\"fFrameLineWidth\":1,\"fFrameBorderSize\":1,\"fFrameBorderMode\":0,\"fX1\":-25.0000003725291,\"fY1\":-438.9000327006,\"fX2\":25.0000003725291,\"fY2\":3950.1000327006,\"fXtoAbsPixelk\":249.00005,\"fXtoPixelk\":239.040050222623,\"fXtoPixel\":9.56159986642598,\"fYtoAbsPixelk\":252.824048465776,\"fYtoPixelk\":247.104048593628,\"fYtoPixel\":-0.0625563901035409,\"fUtoAbsPixelk\":9.96004977737665,\"fUtoPixelk\":5e-5,\"fUtoPixel\":478.080000445247,\"fVtoAbsPixelk\":280.280050127852,\"fVtoPixelk\":274.560000255704,\"fVtoPixel\":-274.560000255704,\"fAbsPixeltoXk\":-26.0416670304646,\"fPixeltoXk\":-25.0000003725291,\"fPixeltoX\":0.104585008154476,\"fAbsPixeltoYk\":4041.53753193418,\"fPixeltoYk\":-438.9000327006,\"fPixeltoY\":-15.9855771463929,\"fXlowNDC\":0.00999999977648258,\"fYlowNDC\":0.509999999776483,\"fXUpNDC\":0.490000000223517,\"fYUpNDC\":0.990000000223517,\"fWNDC\":0.480000000447035,\"fHNDC\":0.480000000447035,\"fAbsXlowNDC\":0.00999999977648258,\"fAbsYlowNDC\":0.509999999776483,\"fAbsWNDC\":0.480000000447035,\"fAbsHNDC\":0.480000000447035,\"fUxmin\":-20,\"fUymin\":0,\"fUxmax\":20,\"fUymax\":3511.2,\"fTheta\":30,\"fPhi\":30,\"fAspectRatio\":0,\"fNumber\":1,\"fTickx\":0,\"fTicky\":0,\"fLogx\":0,\"fLogy\":0,\"fLogz\":0,\"fPadPaint\":0,\"fCrosshair\":0,\"fCrosshairPos\":0,\"fBorderSize\":2,\"fBorderMode\":0,\"fModified\":false,\"fGridx\":false,\"fGridy\":false,\"fAbsCoord\":false,\"fEditable\":true,\"fFixedAspectRatio\":false,\"fPrimitives\":{\"_typename\":\"TList\",\"name\":\"TList\",\"arr\":[{\"_typename\":\"TFrame\",\"fUniqueID\":0,\"fBits\":8,\"fLineColor\":1,\"fLineStyle\":1,\"fLineWidth\":1,\"fFillColor\":0,\"fFillStyle\":1001,\"fX1\":-20,\"fY1\":0,\"fX2\":20,\"fY2\":3511.2,\"fBorderSize\":1,\"fBorderMode\":0},{\"_typename\":\"TH1D\",\"fUniqueID\":0,\"fBits\":8,\"fName\":\"hx_diff_posx\",\"fTitle\":\"Diff Ecal_x - Track_x\",\"fLineColor\":602,\"fLineStyle\":1,\"fLineWidth\":1,\"fFillColor\":0,\"fFillStyle\":1001,\"fMarkerColor\":1,\"fMarkerStyle\":1,\"fMarkerSize\":1,\"fNcells\":1002,\"fXaxis\":{\"_typename\":\"TAxis\",\"fUniqueID\":0,\"fBits\":0,\"fName\":\"xaxis\",\"fTitle\":\"\",\"fNdivisions\":510,\"fAxisColor\":1,\"fLabelColor\":1,\"fLabelFont\":42,\"fLabelOffset\":0.005,\"fLabelSize\":0.035,\"fTickLength\":0.03,\"fTitleOffset\":1,\"fTitleSize\":0.035,\"fTitleColor\":1,\"fTitleFont\":42,\"fNbins\":1000,\"fXmin\":-20,\"fXmax\":20,\"fXbins\":[],\"fFirst\":0,\"fLast\":0,\"fBits2\":0,\"fTimeDisplay\":false,\"fTimeFormat\":\"\",\"fLabels\":null,\"fModLabs\":null},\"fYaxis\":{\"_typename\":\"TAxis\",\"fUniqueID\":0,\"fBits\":0,\"fName\":\"yaxis\",\"fTitle\":\"\",\"fNdivisions\":510,\"fAxisColor\":1,\"fLabelColor\":1,\"fLabelFont\":42,\"fLabelOffset\":0.005,\"fLabelSize\":0.035,\"fTickLength\":0.03,\"fTitleOffset\":0,\"fTitleSize\":0.035,\"fTitleColor\":1,\"fTitleFont\":42,\"fNbins\":1,\"fXmin\":0,\"fXmax\":1,\"fXbins\":[],\"fFirst\":0,\"fLast\":0,\"fBits2\":0,\"fTimeDisplay\":false,\"fTimeFormat\":\"\",\"fLabels\":null,\"fModLabs\":null},\"fZaxis\":{\"_typename\":\"TAxis\",\"fUniqueID\":0,\"fBits\":0,\"fName\":\"zaxis\",\"fTitle\":\"\",\"fNdivisions\":510,\"fAxisColor\":1,\"fLabelColor\":1,\"fLabelFont\":42,\"fLabelOffset\":0.005,\"fLabelSize\":0.035,\"fTickLength\":0.03,\"fTitleOffset\":1,\"fTitleSize\":0.035,\"fTitleColor\":1,\"fTitleFont\":42,\"fNbins\":1,\"fXmin\":0,\"fXmax\":1,\"fXbins\":[],\"fFirst\":0,\"fLast\":0,\"fBits2\":0,\"fTimeDisplay\":false,\"fTimeFormat\":\"\",\"fLabels\":null,\"fModLabs\":null},\"fBarOffset\":0,\"fBarWidth\":1000,\"fEntries\":1104691,\"fTsumw\":1085181,\"fTsumw2\":1085181,\"fTsumwx\":61651.6243345355,\"fTsumwx2\":30210801.9570072,\"fMaximum\":-1111,\"fMinimum\":-1111,\"fNormFactor\":0,\"fContour\":[],\"fSumw2\":[],\"fOption\":\"\",\"fFunctions\":{\"_typename\":\"TList\",\"name\":\"TList\",\"arr\":[{\"_typename\":\"TPaveStats\",\"fUniqueID\":0,\"fBits\":9,\"fLineColor\":1,\"fLineStyle\":1,\"fLineWidth\":1,\"fFillColor\":0,\"fFillStyle\":1001,\"fX1\":14.000001013279,\"fY1\":2962.57504414581,\"fX2\":24.0000013113022,\"fY2\":3664.81503891371,\"fX1NDC\":0.780000016093254,\"fY1NDC\":0.775000005960464,\"fX2NDC\":0.980000019073486,\"fY2NDC\":0.935000002384186,\"fBorderSize\":1,\"fInit\":1,\"fShadowColor\":1,\"fCornerRadius\":0,\"fOption\":\"brNDC\",\"fName\":\"stats\",\"fTextAngle\":0,\"fTextSize\":0,\"fTextAlign\":12,\"fTextColor\":1,\"fTextFont\":42,\"fLabel\":\"\",\"fLongest\":18,\"fMargin\":0.05,\"fLines\":{\"_typename\":\"TList\",\"name\":\"TList\",\"arr\":[{\"_typename\":\"TLatex\",\"fUniqueID\":0,\"fBits\":0,\"fName\":\"\",\"fTitle\":\"hx_diff_posx\",\"fTextAngle\":0,\"fTextSize\":0.0368,\"fTextAlign\":0,\"fTextColor\":0,\"fTextFont\":0,\"fX\":0,\"fY\":0,\"fLineColor\":1,\"fLineStyle\":1,\"fLineWidth\":2,\"fLimitFactorSize\":3,\"fOriginSize\":0.0368000008165836},{\"_typename\":\"TLatex\",\"fUniqueID\":0,\"fBits\":0,\"fName\":\"\",\"fTitle\":\"Entries = 1104691\",\"fTextAngle\":0,\"fTextSize\":0,\"fTextAlign\":0,\"fTextColor\":0,\"fTextFont\":0,\"fX\":0,\"fY\":0,\"fLineColor\":1,\"fLineStyle\":1,\"fLineWidth\":2,\"fLimitFactorSize\":3,\"fOriginSize\":0.04},{\"_typename\":\"TLatex\",\"fUniqueID\":0,\"fBits\":0,\"fName\":\"\",\"fTitle\":\"Mean  = 0.05681\",\"fTextAngle\":0,\"fTextSize\":0,\"fTextAlign\":0,\"fTextColor\":0,\"fTextFont\":0,\"fX\":0,\"fY\":0,\"fLineColor\":1,\"fLineStyle\":1,\"fLineWidth\":2,\"fLimitFactorSize\":3,\"fOriginSize\":0.04},{\"_typename\":\"TLatex\",\"fUniqueID\":0,\"fBits\":0,\"fName\":\"\",\"fTitle\":\"Std Dev   =  5.276\",\"fTextAngle\":0,\"fTextSize\":0,\"fTextAlign\":0,\"fTextColor\":0,\"fTextFont\":0,\"fX\":0,\"fY\":0,\"fLineColor\":1,\"fLineStyle\":1,\"fLineWidth\":2,\"fLimitFactorSize\":3,\"fOriginSize\":0.04}],\"opt\":[\"\",\"\",\"\",\"\"]},\"fOptFit\":0,\"fOptStat\":1111,\"fFitFormat\":\"5.4g\",\"fStatFormat\":\"6.4g\",\"fParent\":{\"$ref\":5}}],\"opt\":[\"brNDC\"]},\"fBufferSize\":0,\"fBuffer\":[],\"fBinStatErrOpt\":0,\"fStatOverflows\":2,\"fArray\":{\"$arr\":\"Float64\",\"len\":1002,\"v\":[5005,20,16,11,12,15,14,12,12,22,16,14,18,23,15,21,14,23,14,22,26,18,13,23,23,18,15,29,38,16,18,19,18,15,25,21,20,28,23,20,21,26,25,22,28,28,32,24,34,27,28,35,27,24,28,30,29,34,30,37,34,39,31,31,33,27,40,33,28,39,32,41,39,46,46,44,26,51,59,32,45,50,48,41,48,46,51,51,55,56,41,44,60,68,52,62,44,52,60,59,59,54,61,66,61,54,64,70,54,74,77,68,71,74,83,85,69,60,86,85,67,92,76,81,72,74,88,83,91,104,93,115,101,94,103,108,104,127,110,113,108,106,115,114,110,113,118,117,135,98,112,115,114,135,131,126,133,118,138,166,126,157,153,142,121,149,135,146,155,163,139,178,148,191,167,170,173,158,183,173,177,196,169,207,206,185,176,194,219,217,198,209,205,192,235,240,222,249,210,206,222,258,262,232,247,265,257,242,268,265,261,278,249,278,301,269,283,289,292,283,323,300,324,319,322,326,351,330,331,347,324,357,365,364,341,364,386,365,386,415,388,381,424,403,432,412,471,421,449,482,502,435,464,517,521,485,506,536,501,503,561,574,540,586,553,604,651,589,634,653,608,645,604,685,651,662,704,693,765,705,723,721,726,759,800,886,767,831,825,780,811,831,819,908,912,873,934,900,955,930,1014,994,1009,982,1036,1063,1042,1178,1061,1100,1154,1143,1151,1126,1219,1184,1208,1222,1255,1229,1285,1313,1287,1323,1345,1352,1314,1415,1421,1391,1437,1472,1496,1497,1553,1617,1572,1530,1565,1606,1606,1716,1646,1704,1735,1787,1720,1842,1762,1808,1853,1913,1943,1847,1907,2061,1914,1957,1933,2107,2046,2090,2022,2129,2111,2145,2095,2167,2222,2144,2255,2306,2298,2314,2311,2303,2283,2417,2390,2348,2428,2388,2397,2338,2380,2492,2336,2492,2440,2476,2388,2523,2469,2439,2521,2490,2591,2438,2557,2553,2623,2606,2455,2556,2548,2609,2563,2646,2568,2529,2627,2701,2537,2590,2542,2551,2592,2595,2587,2642,2626,2705,2642,2590,2585,2615,2651,2583,2682,2607,2472,2641,2686,2646,2696,2664,2595,2760,2648,2669,2666,2727,2624,2575,2622,2700,2659,2675,2690,2650,2571,2696,2736,2672,2705,2761,2677,2658,2653,2690,2590,2682,2640,2651,2745,2729,2705,2667,2627,2701,2635,2689,2678,2724,2685,2637,2719,2715,2646,2676,2695,2722,2732,2720,2790,2681,2743,2694,2692,2695,2790,2713,2645,2745,2672,2766,2779,2698,2874,2702,2795,2741,2761,2589,2733,2735,2781,2844,2670,2786,2729,2850,2820,2694,2662,2706,2770,2784,2821,2852,2790,2829,2895,2791,2883,2925,2897,2817,2914,2931,2933,2835,2932,2967,2973,2975,3035,3103,2995,2954,3000,2958,2996,2976,3015,2972,2973,3070,3125,3157,3075,3122,3040,3058,3138,3133,3088,3099,3078,3191,3067,3077,3098,3119,3142,3197,3186,3122,3141,3206,3184,3068,3167,3269,3260,3243,3344,3304,3233,3273,3109,3340,3196,3171,3161,3099,3132,3164,3190,3150,3139,3174,3210,3119,3098,3257,3100,3231,3074,3076,3135,3094,3152,3138,3192,3013,3067,3154,3117,3080,3076,3006,2977,3059,2990,2989,2953,2958,3019,2909,2929,2917,2920,2950,2898,2862,2828,2869,2751,2859,2797,2753,2689,2783,2602,2606,2651,2674,2525,2577,2510,2478,2497,2541,2407,2379,2390,2334,2392,2313,2274,2228,2272,2258,2242,2061,2134,2016,1951,2087,2036,1991,1905,1907,1900,1896,1853,1780,1798,1710,1765,1654,1661,1580,1611,1573,1479,1560,1473,1457,1401,1438,1413,1381,1394,1324,1289,1283,1241,1249,1209,1137,1136,1103,1088,1068,1064,1084,973,1020,988,944,956,916,851,884,858,808,821,773,749,778,706,722,716,691,683,639,629,654,645,607,552,532,504,540,552,553,511,523,460,504,471,471,447,445,412,420,454,375,353,371,367,355,350,326,334,286,299,334,300,317,315,278,285,281,251,242,273,231,233,218,222,217,209,221,211,197,208,187,175,163,165,156,160,181,156,144,145,138,133,147,141,139,141,132,138,120,133,108,125,122,126,117,112,106,98,115,104,92,93,114,97,86,98,94,87,87,80,95,86,96,107,71,85,72,72,65,87,73,78,80,87,74,83,81,65,78,65,63,62,56,61,75,62,67,66,70,58,80,88,58,47,57,51,64,66,41,45,53,49,70,62,53,63,59,55,55,69,56,62,64,54,58,46,45,49,53,57,56,56,56,47,48,52,51,54,52,47,51,47,40,64,46,49,61,54,44,34,45,44,54,52,41,45,38,59,42,48,37,41,43,41,52,32,45,47,51,38,37,42,42,40,54,33,50,37,43,42,33,42,42,34,46,44,51,44,37,31,46,37,30,45,37,41,32,47,33,33,35,41,40,44,38,32,34,38,38,39,34,43,41,39,36,32,30,41,22,24,30,32,44,45,36,35,44,38,36,30,45,37,41,28,37,31,41,38,35,30,27,21,33,30,36,35,34,30,34,26,42,22,30,34,42,24,35,40,48,29,28,32,14505]}},{\"_typename\":\"TPaveText\",\"fUniqueID\":0,\"fBits\":9,\"fLineColor\":1,\"fLineStyle\":1,\"fLineWidth\":1,\"fFillColor\":0,\"fFillStyle\":0,\"fX1\":-7.6640730660322,\"fY1\":3659.59735724258,\"fX2\":7.66407306603219,\"fY2\":3928.15505330198,\"fX1NDC\":0.346718540963428,\"fY1NDC\":0.933811193636547,\"fX2NDC\":0.653281459036572,\"fY2NDC\":0.995000004768372,\"fBorderSize\":0,\"fInit\":1,\"fShadowColor\":1,\"fCornerRadius\":0,\"fOption\":\"blNDC\",\"fName\":\"title\",\"fTextAngle\":0,\"fTextSize\":0,\"fTextAlign\":22,\"fTextColor\":1,\"fTextFont\":42,\"fLabel\":\"\",\"fLongest\":21,\"fMargin\":0.05,\"fLines\":{\"_typename\":\"TList\",\"name\":\"TList\",\"arr\":[{\"_typename\":\"TLatex\",\"fUniqueID\":0,\"fBits\":0,\"fName\":\"\",\"fTitle\":\"Diff Ecal_x - Track_x\",\"fTextAngle\":0,\"fTextSize\":0,\"fTextAlign\":0,\"fTextColor\":0,\"fTextFont\":0,\"fX\":0,\"fY\":0,\"fLineColor\":1,\"fLineStyle\":1,\"fLineWidth\":2,\"fLimitFactorSize\":3,\"fOriginSize\":0.0520104877650738}],\"opt\":[\"\"]}}],\"opt\":[\"\",\"\",\"blNDC\"]},\"fExecs\":{\"_typename\":\"TList\",\"name\":\"TList\",\"arr\":[],\"opt\":[]},\"fName\":\"cc4_1\",\"fTitle\":\"cc4_1\",\"fNumPaletteColor\":0,\"fNextPaletteColor\":0},{\"_typename\":\"TPad\",\"fUniqueID\":0,\"fBits\":9,\"fLineColor\":1,\"fLineStyle\":1,\"fLineWidth\":1,\"fFillColor\":0,\"fFillStyle\":1001,\"fLeftMargin\":0.1,\"fRightMargin\":0.1,\"fBottomMargin\":0.1,\"fTopMargin\":0.1,\"fXfile\":2,\"fYfile\":2,\"fAfile\":1,\"fXstat\":0.99,\"fYstat\":0.99,\"fAstat\":2,\"fFrameFillColor\":0,\"fFrameLineColor\":1,\"fFrameFillStyle\":1001,\"fFrameLineStyle\":1,\"fFrameLineWidth\":1,\"fFrameBorderSize\":1,\"fFrameBorderMode\":0,\"fX1\":0,\"fY1\":0,\"fX2\":1,\"fY2\":1,\"fXtoAbsPixelk\":507.960049777377,\"fXtoPixelk\":5e-5,\"fXtoPixel\":478.080000445247,\"fYtoAbsPixelk\":280.280050127852,\"fYtoPixelk\":274.560050255704,\"fYtoPixel\":-274.560000255704,\"fUtoAbsPixelk\":507.960049777377,\"fUtoPixelk\":5e-5,\"fUtoPixel\":478.080000445247,\"fVtoAbsPixelk\":280.280050127852,\"fVtoPixelk\":274.560000255704,\"fVtoPixel\":-274.560000255704,\"fAbsPixeltoXk\":-1.06249999854481,\"fPixeltoXk\":0,\"fPixeltoX\":0.00209170013192076,\"fAbsPixeltoYk\":1.02083333284827,\"fPixeltoYk\":0,\"fPixeltoY\":-0.00364219113879909,\"fXlowNDC\":0.509999999776483,\"fYlowNDC\":0.509999999776483,\"fXUpNDC\":0.990000000223517,\"fYUpNDC\":0.990000000223517,\"fWNDC\":0.480000000447035,\"fHNDC\":0.480000000447035,\"fAbsXlowNDC\":0.509999999776483,\"fAbsYlowNDC\":0.509999999776483,\"fAbsWNDC\":0.480000000447035,\"fAbsHNDC\":0.480000000447035,\"fUxmin\":0,\"fUymin\":0,\"fUxmax\":1,\"fUymax\":1,\"fTheta\":30,\"fPhi\":30,\"fAspectRatio\":0,\"fNumber\":2,\"fTickx\":0,\"fTicky\":0,\"fLogx\":0,\"fLogy\":1,\"fLogz\":0,\"fPadPaint\":0,\"fCrosshair\":0,\"fCrosshairPos\":0,\"fBorderSize\":2,\"fBorderMode\":0,\"fModified\":false,\"fGridx\":false,\"fGridy\":false,\"fAbsCoord\":false,\"fEditable\":true,\"fFixedAspectRatio\":false,\"fPrimitives\":{\"_typename\":\"TList\",\"name\":\"TList\",\"arr\":[],\"opt\":[]},\"fExecs\":{\"_typename\":\"TList\",\"name\":\"TList\",\"arr\":[],\"opt\":[]},\"fName\":\"cc4_2\",\"fTitle\":\"cc4_2\",\"fNumPaletteColor\":0,\"fNextPaletteColor\":0},{\"_typename\":\"TPad\",\"fUniqueID\":0,\"fBits\":9,\"fLineColor\":1,\"fLineStyle\":1,\"fLineWidth\":1,\"fFillColor\":0,\"fFillStyle\":1001,\"fLeftMargin\":0.1,\"fRightMargin\":0.1,\"fBottomMargin\":0.1,\"fTopMargin\":0.1,\"fXfile\":2,\"fYfile\":2,\"fAfile\":1,\"fXstat\":0.99,\"fYstat\":0.99,\"fAstat\":2,\"fFrameFillColor\":0,\"fFrameLineColor\":1,\"fFrameFillStyle\":1001,\"fFrameLineStyle\":1,\"fFrameLineWidth\":1,\"fFrameBorderSize\":1,\"fFrameBorderMode\":0,\"fX1\":0,\"fY1\":0,\"fX2\":1,\"fY2\":1,\"fXtoAbsPixelk\":9.96004977737665,\"fXtoPixelk\":5e-5,\"fXtoPixel\":478.080000445247,\"fYtoAbsPixelk\":566.280050127852,\"fYtoPixelk\":274.560050255704,\"fYtoPixel\":-274.560000255704,\"fUtoAbsPixelk\":9.96004977737665,\"fUtoPixelk\":5e-5,\"fUtoPixel\":478.080000445247,\"fVtoAbsPixelk\":566.280050127852,\"fVtoPixelk\":274.560000255704,\"fVtoPixel\":-274.560000255704,\"fAbsPixeltoXk\":-0.0208333328482695,\"fPixeltoXk\":0,\"fPixeltoX\":0.00209170013192076,\"fAbsPixeltoYk\":2.06249999854481,\"fPixeltoYk\":0,\"fPixeltoY\":-0.00364219113879909,\"fXlowNDC\":0.00999999977648258,\"fYlowNDC\":0.00999999977648258,\"fXUpNDC\":0.490000000223517,\"fYUpNDC\":0.490000000223517,\"fWNDC\":0.480000000447035,\"fHNDC\":0.480000000447035,\"fAbsXlowNDC\":0.00999999977648258,\"fAbsYlowNDC\":0.00999999977648258,\"fAbsWNDC\":0.480000000447035,\"fAbsHNDC\":0.480000000447035,\"fUxmin\":0,\"fUymin\":0,\"fUxmax\":1,\"fUymax\":1,\"fTheta\":30,\"fPhi\":30,\"fAspectRatio\":0,\"fNumber\":3,\"fTickx\":0,\"fTicky\":0,\"fLogx\":0,\"fLogy\":1,\"fLogz\":0,\"fPadPaint\":0,\"fCrosshair\":0,\"fCrosshairPos\":0,\"fBorderSize\":2,\"fBorderMode\":0,\"fModified\":false,\"fGridx\":false,\"fGridy\":false,\"fAbsCoord\":false,\"fEditable\":true,\"fFixedAspectRatio\":false,\"fPrimitives\":{\"_typename\":\"TList\",\"name\":\"TList\",\"arr\":[],\"opt\":[]},\"fExecs\":{\"_typename\":\"TList\",\"name\":\"TList\",\"arr\":[],\"opt\":[]},\"fName\":\"cc4_3\",\"fTitle\":\"cc4_3\",\"fNumPaletteColor\":0,\"fNextPaletteColor\":0},{\"_typename\":\"TPad\",\"fUniqueID\":0,\"fBits\":9,\"fLineColor\":1,\"fLineStyle\":1,\"fLineWidth\":1,\"fFillColor\":0,\"fFillStyle\":1001,\"fLeftMargin\":0.1,\"fRightMargin\":0.1,\"fBottomMargin\":0.1,\"fTopMargin\":0.1,\"fXfile\":2,\"fYfile\":2,\"fAfile\":1,\"fXstat\":0.99,\"fYstat\":0.99,\"fAstat\":2,\"fFrameFillColor\":0,\"fFrameLineColor\":1,\"fFrameFillStyle\":1001,\"fFrameLineStyle\":1,\"fFrameLineWidth\":1,\"fFrameBorderSize\":1,\"fFrameBorderMode\":0,\"fX1\":0,\"fY1\":0,\"fX2\":1,\"fY2\":1,\"fXtoAbsPixelk\":507.960049777377,\"fXtoPixelk\":5e-5,\"fXtoPixel\":478.080000445247,\"fYtoAbsPixelk\":566.280050127852,\"fYtoPixelk\":274.560050255704,\"fYtoPixel\":-274.560000255704,\"fUtoAbsPixelk\":507.960049777377,\"fUtoPixelk\":5e-5,\"fUtoPixel\":478.080000445247,\"fVtoAbsPixelk\":566.280050127852,\"fVtoPixelk\":274.560000255704,\"fVtoPixel\":-274.560000255704,\"fAbsPixeltoXk\":-1.06249999854481,\"fPixeltoXk\":0,\"fPixeltoX\":0.00209170013192076,\"fAbsPixeltoYk\":2.06249999854481,\"fPixeltoYk\":0,\"fPixeltoY\":-0.00364219113879909,\"fXlowNDC\":0.509999999776483,\"fYlowNDC\":0.00999999977648258,\"fXUpNDC\":0.990000000223517,\"fYUpNDC\":0.490000000223517,\"fWNDC\":0.480000000447035,\"fHNDC\":0.480000000447035,\"fAbsXlowNDC\":0.509999999776483,\"fAbsYlowNDC\":0.00999999977648258,\"fAbsWNDC\":0.480000000447035,\"fAbsHNDC\":0.480000000447035,\"fUxmin\":0,\"fUymin\":0,\"fUxmax\":1,\"fUymax\":1,\"fTheta\":30,\"fPhi\":30,\"fAspectRatio\":0,\"fNumber\":4,\"fTickx\":0,\"fTicky\":0,\"fLogx\":0,\"fLogy\":1,\"fLogz\":0,\"fPadPaint\":0,\"fCrosshair\":0,\"fCrosshairPos\":0,\"fBorderSize\":2,\"fBorderMode\":0,\"fModified\":false,\"fGridx\":false,\"fGridy\":false,\"fAbsCoord\":false,\"fEditable\":true,\"fFixedAspectRatio\":false,\"fPrimitives\":{\"_typename\":\"TList\",\"name\":\"TList\",\"arr\":[],\"opt\":[]},\"fExecs\":{\"_typename\":\"TList\",\"name\":\"TList\",\"arr\":[],\"opt\":[]},\"fName\":\"cc4_4\",\"fTitle\":\"cc4_4\",\"fNumPaletteColor\":0,\"fNextPaletteColor\":0},{\"_typename\":\"TStyle\",\"fUniqueID\":0,\"fBits\":0,\"fName\":\"Modern\",\"fTitle\":\"Modern Style\",\"fLineColor\":1,\"fLineStyle\":1,\"fLineWidth\":1,\"fFillColor\":19,\"fFillStyle\":1001,\"fMarkerColor\":1,\"fMarkerStyle\":1,\"fMarkerSize\":1,\"fTextAngle\":0,\"fTextSize\":0.05,\"fTextAlign\":11,\"fTextColor\":1,\"fTextFont\":62,\"fXaxis\":{\"_typename\":\"TAttAxis\",\"fNdivisions\":510,\"fAxisColor\":1,\"fLabelColor\":1,\"fLabelFont\":42,\"fLabelOffset\":0.005,\"fLabelSize\":0.035,\"fTickLength\":0.03,\"fTitleOffset\":1,\"fTitleSize\":0.035,\"fTitleColor\":1,\"fTitleFont\":42},\"fYaxis\":{\"_typename\":\"TAttAxis\",\"fNdivisions\":510,\"fAxisColor\":1,\"fLabelColor\":1,\"fLabelFont\":42,\"fLabelOffset\":0.005,\"fLabelSize\":0.035,\"fTickLength\":0.03,\"fTitleOffset\":0,\"fTitleSize\":0.035,\"fTitleColor\":1,\"fTitleFont\":42},\"fZaxis\":{\"_typename\":\"TAttAxis\",\"fNdivisions\":510,\"fAxisColor\":1,\"fLabelColor\":1,\"fLabelFont\":42,\"fLabelOffset\":0.005,\"fLabelSize\":0.035,\"fTickLength\":0.03,\"fTitleOffset\":1,\"fTitleSize\":0.035,\"fTitleColor\":1,\"fTitleFont\":42},\"fBarWidth\":1,\"fBarOffset\":0,\"fColorModelPS\":0,\"fDrawBorder\":0,\"fOptLogx\":0,\"fOptLogy\":0,\"fOptLogz\":0,\"fOptDate\":0,\"fOptStat\":1111,\"fOptTitle\":1,\"fOptFile\":0,\"fOptFit\":0,\"fShowEventStatus\":0,\"fShowEditor\":0,\"fShowToolBar\":0,\"fNumberContours\":20,\"fAttDate\":{\"_typename\":\"TAttText\",\"fTextAngle\":0,\"fTextSize\":0.025,\"fTextAlign\":11,\"fTextColor\":1,\"fTextFont\":62},\"fDateX\":0.01,\"fDateY\":0.01,\"fEndErrorSize\":2,\"fErrorX\":0.5,\"fFuncColor\":2,\"fFuncStyle\":1,\"fFuncWidth\":2,\"fGridColor\":0,\"fGridStyle\":3,\"fGridWidth\":1,\"fLegendBorderSize\":1,\"fLegendFillColor\":0,\"fLegendFont\":42,\"fLegendTextSize\":0,\"fHatchesLineWidth\":1,\"fHatchesSpacing\":1,\"fFrameFillColor\":0,\"fFrameLineColor\":1,\"fFrameFillStyle\":1001,\"fFrameLineStyle\":1,\"fFrameLineWidth\":1,\"fFrameBorderSize\":1,\"fFrameBorderMode\":0,\"fHistFillColor\":0,\"fHistLineColor\":602,\"fHistFillStyle\":1001,\"fHistLineStyle\":1,\"fHistLineWidth\":1,\"fHistMinimumZero\":false,\"fHistTopMargin\":0.05,\"fCanvasPreferGL\":false,\"fCanvasColor\":0,\"fCanvasBorderSize\":2,\"fCanvasBorderMode\":0,\"fCanvasDefH\":500,\"fCanvasDefW\":700,\"fCanvasDefX\":10,\"fCanvasDefY\":10,\"fPadColor\":0,\"fPadBorderSize\":2,\"fPadBorderMode\":0,\"fPadBottomMargin\":0.1,\"fPadTopMargin\":0.1,\"fPadLeftMargin\":0.1,\"fPadRightMargin\":0.1,\"fPadGridX\":false,\"fPadGridY\":false,\"fPadTickX\":0,\"fPadTickY\":0,\"fPaperSizeX\":20,\"fPaperSizeY\":26,\"fScreenFactor\":1,\"fStatColor\":0,\"fStatTextColor\":1,\"fStatBorderSize\":1,\"fStatFont\":42,\"fStatFontSize\":0,\"fStatStyle\":1001,\"fStatFormat\":\"6.4g\",\"fStatX\":0.98,\"fStatY\":0.935,\"fStatW\":0.2,\"fStatH\":0.16,\"fStripDecimals\":true,\"fTitleAlign\":23,\"fTitleColor\":0,\"fTitleTextColor\":1,\"fTitleBorderSize\":0,\"fTitleFont\":42,\"fTitleFontSize\":0.05,\"fTitleStyle\":0,\"fTitleX\":0.5,\"fTitleY\":0.995,\"fTitleW\":0,\"fTitleH\":0,\"fLegoInnerR\":0.5,\"fLineStyles\":[\"\",\"  \",\" 12 12\",\" 4 8\",\" 12 16 4 16\",\" 20 12 4 12\",\" 20 12 4 12 4 12 4 12\",\" 20 20\",\" 20 12 4 12 4 12\",\" 80 20\",\" 80 40 4 40\",\"  \",\"  \",\"  \",\"  \",\"  \",\"  \",\"  \",\"  \",\"  \",\"  \",\"  \",\"  \",\"  \",\"  \",\"  \",\"  \",\"  \",\"  \",\"  \"],\"fHeaderPS\":\"\",\"fTitlePS\":\"\",\"fFitFormat\":\"5.4g\",\"fPaintTextFormat\":\"g\",\"fLineScalePS\":3,\"fJoinLinePS\":0,\"fCapLinePS\":0,\"fTimeOffset\":788918400,\"fImageScaling\":1}],\"opt\":[\"\",\"\",\"\",\"\",\"\"]},\"fExecs\":null,\"fName\":\"cc4\",\"fTitle\":\"Canvas\",\"fNumPaletteColor\":0,\"fNextPaletteColor\":0,\"fDISPLAY\":\"$DISPLAY\",\"fDoubleBuffer\":0,\"fRetained\":true,\"fXsizeUser\":0,\"fYsizeUser\":0,\"fXsizeReal\":20,\"fYsizeReal\":12,\"fWindowTopX\":0,\"fWindowTopY\":0,\"fWindowWidth\":0,\"fWindowHeight\":0,\"fCw\":996,\"fCh\":572,\"fCatt\":{\"_typename\":\"TAttCanvas\",\"fXBetween\":2,\"fYBetween\":2,\"fTitleFromTop\":1.2,\"fXdate\":0.2,\"fYdate\":0.3,\"fAdate\":1},\"kMoveOpaque\":true,\"kResizeOpaque\":true,\"fHighLightColor\":2,\"fBatch\":true,\"kShowEventStatus\":false,\"kAutoExec\":true,\"kMenuBar\":true});\n   Core.settings.HandleKeys = false;\n   Core.draw(\"root_plot_1677372072912\", obj, \"\");\n}\n\nfunction script_load_root_plot_1677372072912(src, on_error) {\n    let script = document.createElement('script');\n    script.src = src;\n    script.onload = function() { display_root_plot_1677372072912(JSROOT); };\n    script.onerror = function() { script.remove(); on_error(); };\n    document.head.appendChild(script);\n}\n\nif (typeof requirejs !== 'undefined') {\n\n    // We are in jupyter notebooks, use require.js which should be configured already\n    requirejs.config({\n       paths: { 'JSRootCore' : [ 'build/jsroot', 'https://root.cern/js/7.2.1/build/jsroot', 'https://jsroot.gsi.de/7.2.1/build/jsroot' ] }\n    })(['JSRootCore'],  function(Core) {\n       display_root_plot_1677372072912(Core);\n    });\n\n} else if (typeof JSROOT !== 'undefined') {\n\n   // JSROOT already loaded, just use it\n   display_root_plot_1677372072912(JSROOT);\n\n} else {\n\n    // We are in jupyterlab without require.js, directly loading jsroot\n    // Jupyterlab might be installed in a different base_url so we need to know it.\n    try {\n        var base_url = JSON.parse(document.getElementById('jupyter-config-data').innerHTML).baseUrl;\n    } catch(_) {\n        var base_url = '/';\n    }\n\n    // Try loading a local version of requirejs and fallback to cdn if not possible.\n    script_load_root_plot_1677372072912(base_url + 'static/build/jsroot.js', function(){\n        console.error('Fail to load JSROOT locally, please check your jupyter_notebook_config.py file');\n        script_load_root_plot_1677372072912('https://root.cern/js/7.2.1/build/jsroot.js', function(){\n            document.getElementById(\"root_plot_1677372072912\").innerHTML = \"Failed to load JSROOT\";\n        });\n    });\n}\n\n</script>\n"
     },
     "metadata": {},
     "output_type": "display_data"
    }
   ],
   "source": [
    "cc4 = R.TCanvas(\"cc4\",\"Canvas\",1000,600)\n",
    "cc4.Divide(2,2)\n",
    "p1=cc4.cd(1)\n",
    "#p1.SetLogy()\n",
    "hx_diff_posx_ecal.Draw()\n",
    "p2=cc4.cd(2)\n",
    "p2.SetLogy()\n",
    "p3=cc4.cd(3)\n",
    "p3.SetLogy()\n",
    "p4=cc4.cd(4)\n",
    "p4.SetLogy()\n",
    "# h_trk_type.Draw()\n",
    "cc4.Draw()"
   ],
   "metadata": {
    "collapsed": false
   }
  },
  {
   "cell_type": "code",
   "execution_count": null,
   "outputs": [],
   "source": [],
   "metadata": {
    "collapsed": false
   }
  }
 ],
 "metadata": {
  "kernelspec": {
   "display_name": "Python 3",
   "language": "python",
   "name": "python3"
  },
  "language_info": {
   "codemirror_mode": {
    "name": "ipython",
    "version": 2
   },
   "file_extension": ".py",
   "mimetype": "text/x-python",
   "name": "python",
   "nbconvert_exporter": "python",
   "pygments_lexer": "ipython2",
   "version": "2.7.6"
  }
 },
 "nbformat": 4,
 "nbformat_minor": 0
}
