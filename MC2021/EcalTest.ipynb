{
 "cells": [
  {
   "cell_type": "code",
   "execution_count": 1,
   "metadata": {
    "collapsed": true
   },
   "outputs": [
    {
     "name": "stdout",
     "output_type": "stream",
     "text": [
      "Welcome to JupyROOT 6.29/01\n"
     ]
    }
   ],
   "source": [
    "# Warning: Execute this cell only once for the kernel. Reset the kernel if you need changes.\n",
    "import sys\n",
    "sys.path.append(\"../Python\")\n",
    "import ROOT as R\n",
    "from array import array\n",
    "import time\n",
    "import numpy as np\n",
    "# Turn jsroot off if you want to make a pdf from this file.\n",
    "%jsroot on\n",
    "from root_helpers import SetStyle\n",
    "from root_helpers import fancy_plot\n",
    "from root_helpers import print_mc_particle_tree\n",
    "from root_helpers import print_daughters\n",
    "# R.EnableImplicitMT()"
   ]
  },
  {
   "cell_type": "code",
   "execution_count": 2,
   "outputs": [
    {
     "name": "stdout",
     "output_type": "stream",
     "text": [
      "Recompile is not needed\n"
     ]
    },
    {
     "data": {
      "text/plain": "'Utility Functions V1.0.6 \\n'"
     },
     "execution_count": 2,
     "metadata": {},
     "output_type": "execute_result"
    }
   ],
   "source": [
    "import os\n",
    "recompile = True\n",
    "try:\n",
    "    if os.path.getmtime('../Python/Utility_Functions_C.so') - os.path.getmtime('../Python/Utility_Functions.C') > 0:\n",
    "        recompile = False\n",
    "        print(\"Recompile is not needed\")\n",
    "    else:\n",
    "        print(\"Recompiling: \")\n",
    "except:\n",
    "    print(\"Recompile needed, file not found.\")\n",
    "if recompile:\n",
    "    R.gROOT.LoadMacro(\"../Python/Utility_Functions.C++\")\n",
    "else:\n",
    "    R.gSystem.Load(\"../Python/Utility_Functions_C.so\")\n",
    "R.Utility_Functions()"
   ],
   "metadata": {
    "collapsed": false
   }
  },
  {
   "cell_type": "code",
   "execution_count": 3,
   "outputs": [
    {
     "name": "stdout",
     "output_type": "stream",
     "text": [
      "V1.0.8\n"
     ]
    }
   ],
   "source": [
    "R.gSystem.Load(\"/data/HPS/lib/libMiniDST\")\n",
    "R.gSystem.Load(\"lib/libMC2021\")\n",
    "R.gInterpreter.ProcessLine('''auto EAC = Ecal_Analysis_Class();''')   # This is key. It puts the EAC in C++ space.\n",
    "print(f\"{R.EAC.Version()}\")"
   ],
   "metadata": {
    "collapsed": false
   }
  },
  {
   "cell_type": "code",
   "execution_count": 4,
   "outputs": [
    {
     "name": "stdout",
     "output_type": "stream",
     "text": [
      "Number of events loaded:   0.002M\n"
     ]
    }
   ],
   "source": [
    "ch = R.TChain(\"MiniDST\")\n",
    "ch.Add(\"/data/HPS/data/MC/emumu_calchep/events_4p55GeV_000_slic_recon.root\")\n",
    "# ch.Add(\"/data/HPS/data/MC/mum_2019/mum_1_2019.root\")\n",
    "# ch.Add(\"/data/HPS/data/physrun2021/sim_2021/hpsForward_e-_3.0GeV_z0.0_*_SLIC-v06-00-01_QGSP_BERT_HPS-v2019-3pt7GeV_recon.root\")\n",
    "# ch.Add(\"/data/HPS/data/physrun2021/sim_2021/new_e-*.root\")\n",
    "# ch.Add(\"/data/HPS/data/physrun2021/pass0/minidst/hps_0147*.root\")\n",
    "print(f\"Number of events loaded: {ch.GetEntries()/1e6:7.3f}M\")"
   ],
   "metadata": {
    "collapsed": false
   }
  },
  {
   "cell_type": "code",
   "execution_count": 5,
   "outputs": [
    {
     "name": "stdout",
     "output_type": "stream",
     "text": [
      "Available data names in Tuple:\n",
      "\n",
      "ecal_cluster_energy           ecal_cluster_hits             ecal_cluster_nhits            ecal_cluster_seed_energy      \n",
      "ecal_cluster_seed_index       ecal_cluster_seed_ix          ecal_cluster_seed_iy          ecal_cluster_time             \n",
      "ecal_cluster_uncor_energy     ecal_cluster_uncor_hits       ecal_cluster_uncor_nhits      ecal_cluster_uncor_seed_energy\n",
      "ecal_cluster_uncor_seed_index ecal_cluster_uncor_seed_ix    ecal_cluster_uncor_seed_iy    ecal_cluster_uncor_time       \n",
      "ecal_cluster_uncor_x          ecal_cluster_uncor_y          ecal_cluster_uncor_z          ecal_cluster_x                \n",
      "ecal_cluster_y                ecal_cluster_z                ecal_hit_energy               ecal_hit_index_x              \n",
      "ecal_hit_index_y              ecal_hit_time                 ecal_hit_x                    ecal_hit_y                    \n",
      "ecal_hit_z                    event_number                  ext_trigger                   hodo_cluster_energy           \n",
      "hodo_cluster_ix               hodo_cluster_iy               hodo_cluster_layer            hodo_cluster_time             \n",
      "hodo_hit_energy               hodo_hit_hole                 hodo_hit_index_x              hodo_hit_index_y              \n",
      "hodo_hit_layer                hodo_hit_time                 mc_part_charge                mc_part_daughters             \n",
      "mc_part_end_x                 mc_part_end_y                 mc_part_end_z                 mc_part_energy                \n",
      "mc_part_id                    mc_part_mass                  mc_part_parents               mc_part_pdg                   \n",
      "mc_part_primary_index         mc_part_px                    mc_part_py                    mc_part_pz                    \n",
      "mc_part_sim_status            mc_part_time                  mc_part_x                     mc_part_y                     \n",
      "mc_part_z                     mc_score_cluster_e            mc_score_cluster_indexes      mc_score_cluster_pz           \n",
      "mc_score_cluster_x            mc_score_cluster_y            mc_score_part_idx             mc_score_pdg                  \n",
      "mc_score_primary_hits_e       mc_score_px                   mc_score_py                   mc_score_pz                   \n",
      "mc_score_secondary_hits_e     mc_score_time                 mc_score_type                 mc_score_x                    \n",
      "mc_score_y                    mc_score_z                    n_mc_score_primary_hits       n_mc_score_secondary_hits     \n",
      "part_charge                   part_ecal_cluster             part_energy                   part_goodness_of_pid          \n",
      "part_lcio_type                part_mass                     part_pdg                      part_px                       \n",
      "part_py                       part_pz                       part_track                    part_track_chi2               \n",
      "part_type                     rf_time1                      rf_time2                      run_number                    \n",
      "svt_status                    time_stamp                    track_chi2                    track_covmatrix               \n",
      "track_d0                      track_gbl_ref                 track_isolation               track_lambda_kinks            \n",
      "track_n_gbl                   track_n_hits                  track_n_kf                    track_n_matched               \n",
      "track_omega                   track_particle                track_phi0                    track_phi_kinks               \n",
      "track_px                      track_py                      track_pz                      track_ref                     \n",
      "track_svt_hits                track_tan_lambda              track_time                    track_type                    \n",
      "track_volume                  track_x_at_ecal               track_y_at_ecal               track_z0                      \n",
      "track_z_at_ecal               trigger                       v0_charge                     v0_em_chi2                    \n",
      "v0_em_clus                    v0_em_clus_energy             v0_em_clus_ix                 v0_em_clus_iy                 \n",
      "v0_em_clus_pos_x              v0_em_clus_pos_y              v0_em_clus_time               v0_em_good_pid                \n",
      "v0_em_p                       v0_em_part                    v0_em_pos_ecal_x              v0_em_pos_ecal_y              \n",
      "v0_em_track                   v0_em_track_nhit              v0_em_track_time              v0_energy                     \n",
      "v0_ep_chi2                    v0_ep_clus                    v0_ep_clus_energy             v0_ep_clus_ix                 \n",
      "v0_ep_clus_iy                 v0_ep_clus_pos_x              v0_ep_clus_pos_y              v0_ep_clus_time               \n",
      "v0_ep_good_pid                v0_ep_p                       v0_ep_part                    v0_ep_pos_ecal_x              \n",
      "v0_ep_pos_ecal_y              v0_ep_track                   v0_ep_track_nhit              v0_ep_track_time              \n",
      "v0_goodness_of_pid            v0_lcio_type                  v0_mass                       v0_mass_err                   \n",
      "v0_pdg                        v0_px                         v0_py                         v0_pz                         \n",
      "v0_type                       v0_vertex_chi2                v0_vertex_prob                v0_vertex_x                   \n",
      "v0_vertex_y                   v0_vertex_z                   "
     ]
    }
   ],
   "source": [
    "df = R.RDataFrame(ch)\n",
    "dfx = R.EAC.extend_dataframe(R.RDF.AsRNode(df))\n",
    "print(\"Available data names in Tuple:\")\n",
    "ColumnNames=dfx.GetColumnNames()\n",
    "ll = 0\n",
    "pr_colnames = [x for x in ColumnNames if str(x).startswith('')]\n",
    "for nn in pr_colnames:\n",
    "    if ll < len(nn):\n",
    "        ll = len(nn)\n",
    "for n in range(len(pr_colnames)):\n",
    "    if n%4 == 0:\n",
    "        print(\"\")\n",
    "    print(f\"{str(pr_colnames[n]):{ll}s}\",end=\"\")"
   ],
   "metadata": {
    "collapsed": false
   }
  },
  {
   "cell_type": "code",
   "execution_count": 6,
   "outputs": [
    {
     "name": "stdout",
     "output_type": "stream",
     "text": [
      "MminiDST version = 1.0.9\n"
     ]
    }
   ],
   "source": [
    "def make_ecal_snaphot(mini_dst, hist, opt=0):\n",
    "    \"\"\"Return a 2D histogram for the ECal, with the energy of the hits on the z-axis\"\"\"\n",
    "    if hist is None:\n",
    "        hist = R.TH2D(\"hist_ecal\",\"Ecal Hits\",50,-25.5,24.5,13,-6.5,6.5)\n",
    "    else:\n",
    "        hist.Reset()\n",
    "    # Fill the histogram by looping over the ECal hits\n",
    "    for i in range(len(mini_dst.ecal_hit_index_x)):\n",
    "        hist.Fill(mini_dst.ecal_hit_index_x[i], mini_dst.ecal_hit_index_y[i], mini_dst.ecal_hit_energy[i])\n",
    "    return hist\n",
    "\n",
    "# Setup the MiniDST class, which makes for easier event by event data inplection.\n",
    "# This MiniDST class looks directly into the TTree, so does not use the RDataframe class.\n",
    "# You need to:\n",
    "mdst = R.MiniDst()          # Initiate the class\n",
    "mdst.use_mc_particles=True  # Tell it to look for the MC Particles in the TTree\n",
    "mdst.use_ecal_cluster_uncor = True\n",
    "mdst.use_mc_scoring =True\n",
    "mdst.DefineBranchMap()      # Define the map of all the branches to the contents of the TTree\n",
    "mdst.SetBranchAddressesOnTree(ch) # Connect the TChain (which contains the TTree) to the class.\n",
    "print(f\"MminiDST version = {mdst._version_()}\")\n",
    "event = 1"
   ],
   "metadata": {
    "collapsed": false
   }
  },
  {
   "cell_type": "code",
   "execution_count": 7,
   "outputs": [],
   "source": [
    "event = 0\n",
    "primary_index = -1\n",
    "def Print_Event():\n",
    "    global event, primary_index\n",
    "\n",
    "    print(f\"event = {event} Run: {mdst.run_number}, Event Num:{mdst.event_number}\")\n",
    "    print(f\"NClusters: {len(mdst.ecal_cluster_seed_ix)} :\",end=\"\")\n",
    "    for i in range(len(mdst.ecal_cluster_seed_index)):\n",
    "        print(f\" [{mdst.ecal_cluster_seed_index[i]}]({mdst.ecal_cluster_x[i]:7.3f},{mdst.ecal_cluster_y[i]:7.3f},{mdst.ecal_cluster_uncor_energy[i]:7.3f})\", end=\",\")\n",
    "    print(\"\\n\")\n",
    "    print(\"   i |   x |   y |  Energy  \")\n",
    "    esum=0\n",
    "    print(\"----------------------------\")\n",
    "    for i in range(len(mdst.ecal_hit_index_x)):\n",
    "        print(f\" {i:3d} | {mdst.ecal_hit_index_x[i]:3d} | {mdst.ecal_hit_index_y[i]:3d} | {mdst.ecal_hit_energy[i]:7.5f} \")\n",
    "        esum+=mdst.ecal_hit_energy[i]\n",
    "    print(f\"Energy sum = {esum}\")\n",
    "    print_mc_particle_tree(mdst)\n",
    "    primary_index = -1\n",
    "    for i in range(len(mdst.mc_part_z)):\n",
    "        if abs(mdst.mc_part_z[i])<1e-6:\n",
    "            primary_index = i\n",
    "            break\n",
    "    print(f\"primary_index = {primary_index}\")\n",
    "    status = np.uintc(mdst.mc_part_sim_status[primary_index])\n",
    "    print(f\"Status: {status:d} = {status:033b} Decay in Cal? {status >> 26 & 1}\")\n",
    "    print(\"-------------\")\n",
    "    # print(mdst.ecal_hit_index_x)\n",
    "    # print(mdst.ecal_hit_index_y)"
   ],
   "metadata": {
    "collapsed": false
   }
  },
  {
   "cell_type": "code",
   "execution_count": 8,
   "outputs": [],
   "source": [
    "cc2 = R.TCanvas(\"cc2\",\"Canvas\",900,600)\n",
    "legend2 = None\n",
    "hh = None\n",
    "ones = None\n",
    "dot_graph = None\n",
    "dot2_graph = None\n",
    "dot3_graph = None\n",
    "dot4_graph = None\n",
    "clus_dot_graph = None\n",
    "clus_dot_uncor_graph = None\n",
    "track_dot_graph = None\n",
    "cl_idx = None\n",
    "\n",
    "\n",
    "def Show_Event():\n",
    "    global hh, ones, dot_graph, dot2_graph, dot3_graph, clus_dot_graph, clus_dot_uncor_graph, track_dot_graph, legend2\n",
    "    global cl_idx\n",
    "    global dot4_graph\n",
    "\n",
    "    hh = make_ecal_snaphot(mdst, hh, 0)\n",
    "    hh.SetStats(0)\n",
    "    cc2.Clear()\n",
    "    ones = fancy_plot(hh, ones, 0x0)\n",
    "    pzsum = 0;\n",
    "    print(f\"Primary particle into scoring plane, index = {primary_index}\")\n",
    "    x_ave = 0\n",
    "    y_ave = 0\n",
    "    x_dots = array('d')\n",
    "    y_dots = array('d')\n",
    "    x_dots2 = array('d')\n",
    "    y_dots2 = array('d')\n",
    "    x_dots3 = array('d')\n",
    "    y_dots3 = array('d')\n",
    "    x_dots4 = array('d')\n",
    "    y_dots4 = array('d')\n",
    "\n",
    "    for i in range(len(mdst.mc_score_pdg)):\n",
    "        if mdst.mc_score_z[i] > 1400 and mdst.mc_score_pz[i] > 0.01 and mdst.mc_score_part_idx[i] == primary_index :  # and mdst.mc_score_pz[i] > 2.8\n",
    "            pzsum += mdst.mc_score_pz[i]\n",
    "            x_ave += mdst.mc_score_x[i]*mdst.mc_score_pz[i]\n",
    "            y_ave += mdst.mc_score_y[i]*mdst.mc_score_pz[i]\n",
    "            print(f\"[{mdst.mc_score_part_idx[i]:3d}] {mdst.mc_score_pdg[i]:3d} ({mdst.mc_score_x[i]:7.1f},{mdst.mc_score_y[i]:7.1f}) pz={mdst.mc_score_pz[i]:7.5f}\")\n",
    "\n",
    "    if pzsum == 0:\n",
    "        x_ave = 0\n",
    "        y_ave = 0\n",
    "    else:\n",
    "        x_ave = x_ave/pzsum\n",
    "        y_ave = y_ave/pzsum\n",
    "        x_dots.append(R.EAC.ecal_xpos_to_index(x_ave))\n",
    "        y_dots.append(R.EAC.ecal_ypos_to_index(y_ave))\n",
    "\n",
    "    print(f\"Primary hits: (x,y)_ave = ({x_ave:7.1f}, {y_ave:7.1f}) Pz sum = {pzsum:7.4f}\")\n",
    "    print(\"Secondary particles:\")\n",
    "    for i in range(len(mdst.mc_score_pdg)):\n",
    "        if mdst.mc_score_z[i] > 1400 and mdst.mc_score_pz[i] > 0.01 and mdst.mc_score_part_idx[i] != primary_index :  # and mdst.mc_score_pz[i] > 2.8\n",
    "            x_dots2.append(R.EAC.ecal_xpos_to_index(mdst.mc_score_x[i]))\n",
    "            y_dots2.append(R.EAC.ecal_ypos_to_index(mdst.mc_score_y[i]))\n",
    "            pzsum += mdst.mc_score_pz[i]\n",
    "            print(f\"{len(x_dots2)-1:2d}:{i:3d} [{mdst.mc_score_part_idx[i]:3d}] {mdst.mc_score_pdg[i]:3d} ({mdst.mc_score_x[i]:7.1f},{mdst.mc_score_y[i]:7.1f}) pz={mdst.mc_score_pz[i]:7.5f}\")\n",
    "\n",
    "    print(f\"Pz sum = {pzsum}\")\n",
    "\n",
    "    print(\"Score Clusters:\")\n",
    "    cl_idx = R.EAC.get_score_cluster_indexes(mdst.mc_score_pz, mdst.mc_score_x, mdst.mc_score_y, mdst.mc_score_z,\n",
    "                                             mdst.ecal_cluster_x, mdst.ecal_cluster_y)\n",
    "    x_aves = R.EAC.get_score_cluster_loc(cl_idx, mdst.mc_score_x, mdst.mc_score_pz)\n",
    "    y_aves = R.EAC.get_score_cluster_loc(cl_idx, mdst.mc_score_y, mdst.mc_score_pz)\n",
    "    pz_sums = R.EAC.get_score_cluster_pz(cl_idx, mdst.mc_score_pz)\n",
    "    e_sums = R.EAC.get_score_cluster_e(cl_idx, mdst.mc_score_px, mdst.mc_score_py, mdst.mc_score_pz)\n",
    "    # for i in range(len(cl_idx)):\n",
    "    #     x_ave = 0\n",
    "    #     y_ave = 0\n",
    "    #     pzsum = 0\n",
    "    #     for j in range(len(cl_idx[i])):\n",
    "    #         idx = cl_idx[i][j]\n",
    "    #         x_ave += mdst.mc_score_x[idx]*mdst.mc_score_pz[idx]\n",
    "    #         y_ave += mdst.mc_score_y[idx]*mdst.mc_score_pz[idx]\n",
    "    #         pzsum += mdst.mc_score_pz[idx]\n",
    "    #\n",
    "    #     x_ave = x_ave/pzsum\n",
    "    #     y_ave = y_ave/pzsum\n",
    "    for i in range(len(x_aves)):\n",
    "        x_ave = x_aves[i]\n",
    "        y_ave = y_aves[i]\n",
    "        pzsum = pz_sums[i]\n",
    "        print(f\"i: {i:2d} N={len(cl_idx[i]):3d} ({R.EAC.ecal_xpos_to_index(x_ave):6.2f},{R.EAC.ecal_ypos_to_index(y_ave):6.2f}) ({x_ave:7.1f},{y_ave:7.1f}) pz = {pzsum:7.4f}\")\n",
    "        x_dots3.append(R.EAC.ecal_xpos_to_index(x_ave))\n",
    "        y_dots3.append(R.EAC.ecal_ypos_to_index(y_ave))\n",
    "\n",
    "    # Fill the individual score plane hits\n",
    "    for i in range(len(mdst.mc_score_x)):\n",
    "        if mdst.mc_score_pz[i] > 0.05 and mdst.mc_score_z[i] > 1440:\n",
    "             x_dots4.append(R.EAC.ecal_xpos_to_index(mdst.mc_score_x[i]))\n",
    "             y_dots4.append(R.EAC.ecal_ypos_to_index(mdst.mc_score_y[i]))\n",
    "\n",
    "    x_clus_dot = array('d')\n",
    "    y_clus_dot = array('d')\n",
    "    x_clus_uncor_dot = array('d')\n",
    "    y_clus_uncor_dot = array('d')\n",
    "\n",
    "    for i in range(len(mdst.ecal_cluster_seed_ix)):\n",
    "        print(f\"Cluster: ({mdst.ecal_cluster_seed_ix[i]:3d},{mdst.ecal_cluster_seed_iy[i]:2d}) ({mdst.ecal_cluster_x[i]:6.2f},{mdst.ecal_cluster_y[i]:6.2f}) ({mdst.ecal_cluster_uncor_x[i]:6.2f}, {mdst.ecal_cluster_uncor_y[i]:6.2f}) E={mdst.ecal_cluster_uncor_energy[i]:7.4f} GeV\")\n",
    "        x_clus_dot.append(R.EAC.ecal_xpos_to_index(mdst.ecal_cluster_x[i]))\n",
    "        y_clus_dot.append(R.EAC.ecal_ypos_to_index(mdst.ecal_cluster_y[i]))\n",
    "        x_clus_uncor_dot.append(R.EAC.ecal_xpos_to_index(mdst.ecal_cluster_uncor_x[i]))\n",
    "        y_clus_uncor_dot.append(R.EAC.ecal_ypos_to_index(mdst.ecal_cluster_uncor_y[i]))\n",
    "\n",
    "\n",
    "    x_track = array('d')\n",
    "    y_track = array('d')\n",
    "    for i in range(len(mdst.track_x_at_ecal)):\n",
    "        if mdst.track_type[i] == 1:\n",
    "            print(f\"Track:            ({mdst.track_x_at_ecal[i]:6.2f},{mdst.track_y_at_ecal[i]:6.2f},{mdst.track_z_at_ecal[i]:6.2f}) P=({mdst.track_px[i]:6.2f},{mdst.track_py[i]:6.2f},{mdst.track_pz[i]:6.2f})\")\n",
    "            x_track.append(R.EAC.ecal_xpos_to_index(mdst.track_x_at_ecal[i]))\n",
    "            y_track.append(R.EAC.ecal_ypos_to_index(mdst.track_y_at_ecal[i]))\n",
    "\n",
    "    legend2 = R.TLegend(0.,0.8,0.25,0.99)\n",
    "\n",
    "    if len(x_dots)>0:\n",
    "        dot_graph = R.TGraph(len(x_dots), x_dots, y_dots)\n",
    "        dot_graph.SetMarkerColor(R.kRed)\n",
    "        dot_graph.SetMarkerSize(1.5)\n",
    "        dot_graph.SetMarkerStyle(R.kFullCircle)\n",
    "        dot_graph.Draw(\"P\")\n",
    "        legend2.AddEntry(dot_graph,\"Score plane primary hit\")\n",
    "\n",
    "    if len(x_dots3)>0:\n",
    "        dot3_graph = R.TGraph(len(x_dots3), x_dots3, y_dots3)\n",
    "        dot3_graph.SetMarkerColor(R.kOrange+2)\n",
    "        dot3_graph.SetMarkerSize(1.1)\n",
    "        dot3_graph.SetMarkerStyle(R.kFullCircle)\n",
    "        dot3_graph.Draw(\"P\")\n",
    "        legend2.AddEntry(dot3_graph,\"Score plane clusters\")\n",
    "\n",
    "    if len(x_dots2)>0:\n",
    "        dot2_graph = R.TGraph(len(x_dots2), x_dots2, y_dots2)\n",
    "        dot2_graph.SetMarkerColor(R.kOrange)\n",
    "        dot2_graph.SetMarkerSize(0.5)\n",
    "        dot2_graph.SetMarkerStyle(R.kFullCircle)\n",
    "        dot2_graph.Draw(\"P\")\n",
    "        legend2.AddEntry(dot2_graph,\"Score plane secondary hit\")\n",
    "\n",
    "    if len(x_dots4)>0:\n",
    "        #print(\"Plot the ecal hits\")\n",
    "        dot4_graph = R.TGraph(len(x_dots4), x_dots4, y_dots4)\n",
    "        dot4_graph.SetMarkerColor(R.kRed)\n",
    "        dot4_graph.SetMarkerSize(0.3)\n",
    "        dot4_graph.SetMarkerStyle(R.kFullCircle)\n",
    "        dot4_graph.Draw(\"P\")\n",
    "        legend2.AddEntry(dot4_graph,\"Score hits\")\n",
    "\n",
    "\n",
    "    if len(x_clus_dot)>0:\n",
    "        clus_dot_graph = R.TGraph(len(x_clus_dot), x_clus_dot, y_clus_dot)\n",
    "        clus_dot_graph.SetMarkerColor(R.kGreen+1)\n",
    "        clus_dot_graph.SetMarkerSize(1.)\n",
    "        clus_dot_graph.SetMarkerStyle(R.kFullCircle)\n",
    "        clus_dot_graph.Draw(\"P\")\n",
    "        legend2.AddEntry(clus_dot_graph,\"Cluster center\")\n",
    "\n",
    "    if len(x_clus_uncor_dot)>0:\n",
    "        clus_dot_uncor_graph = R.TGraph(len(x_clus_uncor_dot), x_clus_uncor_dot, y_clus_uncor_dot)\n",
    "        clus_dot_uncor_graph.SetMarkerColor(R.kCyan)\n",
    "        clus_dot_uncor_graph.SetMarkerSize(0.9)\n",
    "        clus_dot_uncor_graph.SetMarkerStyle(R.kFullCircle)\n",
    "        clus_dot_uncor_graph.Draw(\"P\")\n",
    "        legend2.AddEntry(clus_dot_uncor_graph,\"Cluster center uncor\")\n",
    "\n",
    "    if len(x_track)>0:\n",
    "        track_dot_graph = R.TGraph(len(x_track), x_track, y_track)\n",
    "        track_dot_graph.SetMarkerColor(R.kViolet)\n",
    "        track_dot_graph.SetMarkerSize(.5)\n",
    "        track_dot_graph.SetMarkerStyle(R.kFullCircle)\n",
    "        track_dot_graph.Draw(\"P\")\n",
    "        legend2.AddEntry(track_dot_graph,\"Track pos at ecal\")\n",
    "\n",
    "    legend2.Draw()\n",
    "    cc2.Draw()"
   ],
   "metadata": {
    "collapsed": false
   }
  },
  {
   "cell_type": "code",
   "execution_count": 32,
   "outputs": [
    {
     "name": "stdout",
     "output_type": "stream",
     "text": [
      "event = 103 Run: 1193700, Event Num:316\n",
      "NClusters: 3 : [1](-118.875,-26.268,  1.571), [2](-159.289, 56.359,  0.210), [0](298.090, 54.512,  0.176),\n",
      "\n",
      "   i |   x |   y |  Energy  \n",
      "----------------------------\n",
      "   0 |  20 |   1 | 0.09039 \n",
      "   1 | -12 |  -1 | 1.43714 \n",
      "   2 | -16 |   3 | 0.20980 \n",
      "   3 |  20 |   2 | 0.08572 \n",
      "   4 | -13 |  -1 | 0.02851 \n",
      "   5 | -11 |  -1 | 0.09791 \n",
      "   6 | -13 |  -2 | 0.02605 \n",
      "   7 | -12 |  -2 | 0.03552 \n",
      "Energy sum = 2.011028040200472\n",
      "   0  pdg:   13  E:  1.727866 p = (-0.010767, 0.068910, 1.723222)v = ( 0.00, 0.00, 0.00) end=(-348.48,99.21,2500.00)\n",
      "   1  pdg:  -13  E:  0.702205 p = (-0.066226, 0.019129, 0.690780)v = ( 0.00, 0.00, 0.00) end=(715.57,188.50,2500.00)\n",
      "   2  pdg:   11  E:  2.120051 p = ( 0.033588,-0.031536, 2.119551)v = ( 0.00, 0.00, 0.00) end=(-118.69,-24.68,1478.85)\n",
      "primary_index = 0\n",
      "Status: 2181038081 = 010000010000000000000000000000001 Decay in Cal? 0\n",
      "-------------\n",
      "Primary particle into scoring plane, index = 0\n",
      "[  0]  13 ( -176.5,   60.0) pz=1.68283\n",
      "Primary hits: (x,y)_ave = ( -176.5,    60.0) Pz sum =  1.6828\n",
      "Secondary particles:\n",
      " 0: 34 [  1] -13 (  303.5,   32.0) pz=0.62353\n",
      " 1: 36 [  2]  11 ( -114.0,  -24.0) pz=2.04758\n",
      " 2: 39 [  2]  11 ( -114.0,  -23.9) pz=0.01046\n",
      " 3: 49 [  2]  11 ( -113.9,  -24.0) pz=0.03078\n",
      "Pz sum = 4.395177727565169\n",
      "Score Clusters:\n",
      "i:  0 N=  3 (-10.99, -0.66) ( -114.0,  -24.0) pz =  2.0888\n",
      "i:  1 N=  1 (-15.12,  3.00) ( -176.5,   60.0) pz =  1.6828\n",
      "i:  2 N=  1 ( 17.83,  1.13) (  303.5,   32.0) pz =  0.6235\n",
      "Cluster: (-12,-1) (-118.88,-26.27) (-112.42, -28.41) E= 1.5706 GeV\n",
      "Cluster: (-16, 3) (-159.29, 56.36) (-169.28,  56.73) E= 0.2098 GeV\n",
      "Cluster: ( 20, 1) (298.09, 54.51) (311.19,  36.12) E= 0.1761 GeV\n",
      "Track:            (317.28, 30.65,1448.00) P=( -0.06,  0.02,  0.68)\n",
      "Track:            (-181.98, 60.45,1448.00) P=( -0.01,  0.07,  1.71)\n"
     ]
    },
    {
     "data": {
      "text/plain": "<IPython.core.display.HTML object>",
      "text/html": "\n\n<div id=\"root_plot_1687591869235\"\n     style=\"width: 896px; height: 572px\">\n</div>\n<script>\n\nfunction display_root_plot_1687591869235(Core) {\n   let obj = Core.parse({\"_typename\":\"TCanvas\",\"fUniqueID\":0,\"fBits\":3342344,\"fLineColor\":1,\"fLineStyle\":1,\"fLineWidth\":1,\"fFillColor\":0,\"fFillStyle\":1001,\"fLeftMargin\":0.1,\"fRightMargin\":0.1,\"fBottomMargin\":0.1,\"fTopMargin\":0.1,\"fXfile\":2,\"fYfile\":2,\"fAfile\":1,\"fXstat\":0.99,\"fYstat\":0.99,\"fAstat\":2,\"fFrameFillColor\":0,\"fFrameLineColor\":1,\"fFrameFillStyle\":1001,\"fFrameLineStyle\":1,\"fFrameLineWidth\":1,\"fFrameBorderSize\":1,\"fFrameBorderMode\":0,\"fX1\":-31.7500004656613,\"fY1\":-8.12500012107194,\"fX2\":30.7500004656613,\"fY2\":8.12500012107194,\"fXtoAbsPixelk\":455.168049893188,\"fXtoPixelk\":455.168049893188,\"fXtoPixel\":14.3359997863769,\"fYtoAbsPixelk\":286.00005,\"fYtoPixelk\":286.00005,\"fYtoPixel\":-35.1999994754791,\"fUtoAbsPixelk\":5e-5,\"fUtoPixelk\":5e-5,\"fUtoPixel\":896,\"fVtoAbsPixelk\":572.00005,\"fVtoPixelk\":572,\"fVtoPixel\":-572,\"fAbsPixeltoXk\":-31.7500004656613,\"fPixeltoXk\":-31.7500004656613,\"fPixeltoX\":0.0697544653251369,\"fAbsPixeltoYk\":8.12500012107194,\"fPixeltoYk\":-8.12500012107194,\"fPixeltoY\":-0.0284090913324194,\"fXlowNDC\":0,\"fYlowNDC\":0,\"fXUpNDC\":1,\"fYUpNDC\":1,\"fWNDC\":1,\"fHNDC\":1,\"fAbsXlowNDC\":0,\"fAbsYlowNDC\":0,\"fAbsWNDC\":1,\"fAbsHNDC\":1,\"fUxmin\":-25.5,\"fUymin\":-6.5,\"fUxmax\":24.5,\"fUymax\":6.5,\"fTheta\":30,\"fPhi\":30,\"fAspectRatio\":0,\"fNumber\":0,\"fTickx\":0,\"fTicky\":0,\"fLogx\":0,\"fLogy\":0,\"fLogz\":0,\"fPadPaint\":0,\"fCrosshair\":0,\"fCrosshairPos\":0,\"fBorderSize\":2,\"fBorderMode\":0,\"fModified\":false,\"fGridx\":false,\"fGridy\":false,\"fAbsCoord\":false,\"fEditable\":true,\"fFixedAspectRatio\":false,\"fPrimitives\":{\"_typename\":\"TList\",\"name\":\"TList\",\"arr\":[{\"_typename\":\"TFrame\",\"fUniqueID\":0,\"fBits\":8,\"fLineColor\":1,\"fLineStyle\":1,\"fLineWidth\":1,\"fFillColor\":0,\"fFillStyle\":1001,\"fX1\":-25.5,\"fY1\":-6.5,\"fX2\":24.5,\"fY2\":6.5,\"fBorderSize\":1,\"fBorderMode\":0},{\"_typename\":\"TH2D\",\"fUniqueID\":0,\"fBits\":520,\"fName\":\"hist_ecal\",\"fTitle\":\"Ecal Hits\",\"fLineColor\":602,\"fLineStyle\":1,\"fLineWidth\":1,\"fFillColor\":0,\"fFillStyle\":1001,\"fMarkerColor\":1,\"fMarkerStyle\":1,\"fMarkerSize\":1,\"fNcells\":780,\"fXaxis\":{\"_typename\":\"TAxis\",\"fUniqueID\":0,\"fBits\":0,\"fName\":\"xaxis\",\"fTitle\":\"\",\"fNdivisions\":510,\"fAxisColor\":1,\"fLabelColor\":1,\"fLabelFont\":42,\"fLabelOffset\":0.005,\"fLabelSize\":0.035,\"fTickLength\":0.03,\"fTitleOffset\":1,\"fTitleSize\":0.035,\"fTitleColor\":1,\"fTitleFont\":42,\"fNbins\":50,\"fXmin\":-25.5,\"fXmax\":24.5,\"fXbins\":[],\"fFirst\":0,\"fLast\":0,\"fBits2\":0,\"fTimeDisplay\":false,\"fTimeFormat\":\"\",\"fLabels\":null,\"fModLabs\":null},\"fYaxis\":{\"_typename\":\"TAxis\",\"fUniqueID\":0,\"fBits\":0,\"fName\":\"yaxis\",\"fTitle\":\"\",\"fNdivisions\":510,\"fAxisColor\":1,\"fLabelColor\":1,\"fLabelFont\":42,\"fLabelOffset\":0.005,\"fLabelSize\":0.035,\"fTickLength\":0.03,\"fTitleOffset\":0,\"fTitleSize\":0.035,\"fTitleColor\":1,\"fTitleFont\":42,\"fNbins\":13,\"fXmin\":-6.5,\"fXmax\":6.5,\"fXbins\":[],\"fFirst\":0,\"fLast\":0,\"fBits2\":0,\"fTimeDisplay\":false,\"fTimeFormat\":\"\",\"fLabels\":null,\"fModLabs\":null},\"fZaxis\":{\"_typename\":\"TAxis\",\"fUniqueID\":0,\"fBits\":0,\"fName\":\"zaxis\",\"fTitle\":\"\",\"fNdivisions\":510,\"fAxisColor\":1,\"fLabelColor\":1,\"fLabelFont\":42,\"fLabelOffset\":0.005,\"fLabelSize\":0.035,\"fTickLength\":0.03,\"fTitleOffset\":1,\"fTitleSize\":0.035,\"fTitleColor\":1,\"fTitleFont\":42,\"fNbins\":1,\"fXmin\":0,\"fXmax\":1,\"fXbins\":[],\"fFirst\":0,\"fLast\":0,\"fBits2\":0,\"fTimeDisplay\":false,\"fTimeFormat\":\"\",\"fLabels\":null,\"fModLabs\":null},\"fBarOffset\":0,\"fBarWidth\":1000,\"fEntries\":8,\"fTsumw\":2.01102804020047,\"fTsumw2\":2.13723993596632,\"fTsumwx\":-19.292843606323,\"fTsumwx2\":357.280253913254,\"fMaximum\":-1111,\"fMinimum\":-1111,\"fNormFactor\":0,\"fContour\":{\"$arr\":\"Float64\",\"len\":20,\"p\":1,\"v\":[0.0718569397926331,0.143713879585266,0.215570819377899,0.287427759170532,0.359284698963165,0.431141638755798,0.502998578548431,0.574855518341064,0.646712458133697,0.718569397926331,0.790426337718964,0.862283277511597,0.93414021730423,1.00599715709686,1.0778540968895,1.14971103668213,1.22156797647476,1.29342491626739,1.36528185606003]},\"fSumw2\":{\"$arr\":\"Float64\",\"len\":780,\"p\":273,\"v\":[6.78371530384889e-4,0.00126141386730622],\"p1\":325,\"v1\":[8.13052212849611e-4,2.06536791854484,0.00958640202336275],\"p2\":462,\"v2\":0.00816975080209148,\"p3\":514,\"v3\":0.00734751011538393,\"p4\":530,\"v4\":0.0440155168701075},\"fOption\":\"\",\"fFunctions\":{\"_typename\":\"TList\",\"name\":\"TList\",\"arr\":[{\"_typename\":\"TPaletteAxis\",\"fUniqueID\":0,\"fBits\":0,\"fLineColor\":1,\"fLineStyle\":1,\"fLineWidth\":1,\"fFillColor\":1178,\"fFillStyle\":1001,\"fX1\":24.8125000046566,\"fY1\":-6.5,\"fX2\":27.6250000465661,\"fY2\":6.5,\"fX1NDC\":0.904999994039535,\"fY1NDC\":0.100000005960465,\"fX2NDC\":0.949999994039535,\"fY2NDC\":0.899999994039535,\"fBorderSize\":4,\"fInit\":1,\"fShadowColor\":1,\"fCornerRadius\":0,\"fOption\":\"br\",\"fName\":\"palette\",\"fAxis\":{\"_typename\":\"TGaxis\",\"fUniqueID\":0,\"fBits\":0,\"fLineColor\":1,\"fLineStyle\":1,\"fLineWidth\":1,\"fX1\":0,\"fY1\":0,\"fX2\":0,\"fY2\":0,\"fTextAngle\":0,\"fTextSize\":0.04,\"fTextAlign\":11,\"fTextColor\":1,\"fTextFont\":42,\"fWmin\":0,\"fWmax\":0,\"fGridLength\":0,\"fTickSize\":0.03,\"fLabelOffset\":0.005,\"fLabelSize\":0.035,\"fTitleOffset\":1,\"fTitleSize\":0.035,\"fNdiv\":0,\"fLabelColor\":1,\"fLabelFont\":42,\"fNModLabs\":0,\"fChopt\":\"\",\"fName\":\"\",\"fTitle\":\"\",\"fTimeFormat\":\"\",\"fFunctionName\":\"\",\"fModLabs\":null}}],\"opt\":[\"br\"]},\"fBufferSize\":0,\"fBuffer\":[],\"fBinStatErrOpt\":0,\"fStatOverflows\":2,\"fScalefactor\":1,\"fTsumwy\":-0.795468779280782,\"fTsumwy2\":4.13125678710639,\"fTsumwxy\":15.3890364859253,\"fArray\":{\"$arr\":\"Float64\",\"len\":780,\"p\":273,\"v\":[0.0260455664247274,0.0355163887143135],\"p1\":325,\"v1\":[0.0285140704363585,1.43713879585266,0.0979101732373238],\"p2\":462,\"v2\":0.0903866738080978,\"p3\":514,\"v3\":0.0857176184654236,\"p4\":530,\"v4\":0.209798753261566}},{\"_typename\":\"TH2F\",\"fUniqueID\":0,\"fBits\":8,\"fName\":\"\",\"fTitle\":\"\",\"fLineColor\":602,\"fLineStyle\":1,\"fLineWidth\":1,\"fFillColor\":0,\"fFillStyle\":1001,\"fMarkerColor\":1,\"fMarkerStyle\":1,\"fMarkerSize\":1,\"fNcells\":765,\"fXaxis\":{\"_typename\":\"TAxis\",\"fUniqueID\":0,\"fBits\":0,\"fName\":\"xaxis\",\"fTitle\":\"x crystal index\",\"fNdivisions\":510,\"fAxisColor\":1,\"fLabelColor\":1,\"fLabelFont\":42,\"fLabelOffset\":0.005,\"fLabelSize\":0.035,\"fTickLength\":0.03,\"fTitleOffset\":1,\"fTitleSize\":0.035,\"fTitleColor\":1,\"fTitleFont\":42,\"fNbins\":49,\"fXmin\":-24.5,\"fXmax\":24.5,\"fXbins\":[],\"fFirst\":0,\"fLast\":0,\"fBits2\":0,\"fTimeDisplay\":false,\"fTimeFormat\":\"\",\"fLabels\":null,\"fModLabs\":null},\"fYaxis\":{\"_typename\":\"TAxis\",\"fUniqueID\":0,\"fBits\":0,\"fName\":\"yaxis\",\"fTitle\":\"y crystal index\",\"fNdivisions\":510,\"fAxisColor\":1,\"fLabelColor\":1,\"fLabelFont\":42,\"fLabelOffset\":0.005,\"fLabelSize\":0.035,\"fTickLength\":0.03,\"fTitleOffset\":0,\"fTitleSize\":0.035,\"fTitleColor\":1,\"fTitleFont\":42,\"fNbins\":13,\"fXmin\":-6.5,\"fXmax\":6.5,\"fXbins\":[],\"fFirst\":0,\"fLast\":0,\"fBits2\":0,\"fTimeDisplay\":false,\"fTimeFormat\":\"\",\"fLabels\":null,\"fModLabs\":null},\"fZaxis\":{\"_typename\":\"TAxis\",\"fUniqueID\":0,\"fBits\":0,\"fName\":\"zaxis\",\"fTitle\":\"\",\"fNdivisions\":510,\"fAxisColor\":1,\"fLabelColor\":1,\"fLabelFont\":42,\"fLabelOffset\":0.005,\"fLabelSize\":0.035,\"fTickLength\":0.03,\"fTitleOffset\":1,\"fTitleSize\":0.035,\"fTitleColor\":1,\"fTitleFont\":42,\"fNbins\":1,\"fXmin\":0,\"fXmax\":1,\"fXbins\":[],\"fFirst\":0,\"fLast\":0,\"fBits2\":0,\"fTimeDisplay\":false,\"fTimeFormat\":\"\",\"fLabels\":null,\"fModLabs\":null},\"fBarOffset\":0,\"fBarWidth\":1000,\"fEntries\":10608,\"fTsumw\":0,\"fTsumw2\":0,\"fTsumwx\":0,\"fTsumwx2\":0,\"fMaximum\":-1111,\"fMinimum\":-1111,\"fNormFactor\":0,\"fContour\":[],\"fSumw2\":[],\"fOption\":\"\",\"fFunctions\":{\"_typename\":\"TList\",\"name\":\"TList\",\"arr\":[],\"opt\":[]},\"fBufferSize\":0,\"fBuffer\":[],\"fBinStatErrOpt\":0,\"fStatOverflows\":2,\"fScalefactor\":1,\"fTsumwy\":0,\"fTsumwy2\":0,\"fTsumwxy\":0,\"fArray\":{\"$arr\":\"Float32\",\"len\":765,\"p\":104,\"v\":14.37139,\"n\":23,\"p1\":128,\"v1\":14.37139,\"n1\":23,\"p2\":155,\"v2\":14.37139,\"n2\":23,\"p3\":179,\"v3\":14.37139,\"n3\":23,\"p4\":206,\"v4\":14.37139,\"n4\":23,\"p5\":230,\"v5\":14.37139,\"n5\":23,\"p6\":257,\"v6\":14.37139,\"n6\":23,\"p7\":281,\"v7\":14.37139,\"n7\":23,\"p8\":308,\"v8\":14.37139,\"n8\":13,\"p9\":330,\"v9\":[14.37139,0],\"v10\":14.37139,\"n10\":23,\"p11\":410,\"v11\":14.37139,\"n11\":13,\"p12\":432,\"v12\":[14.37139,0],\"v13\":14.37139,\"n13\":23,\"p14\":461,\"v14\":14.37139,\"n14\":23,\"p15\":485,\"v15\":14.37139,\"n15\":23,\"p16\":512,\"v16\":14.37139,\"n16\":23,\"p17\":536,\"v17\":14.37139,\"n17\":23,\"p18\":563,\"v18\":14.37139,\"n18\":23,\"p19\":587,\"v19\":14.37139,\"n19\":23,\"p20\":614,\"v20\":14.37139,\"n20\":23,\"p21\":638,\"v21\":14.37139,\"n21\":23}},{\"_typename\":\"TGraph\",\"fUniqueID\":0,\"fBits\":1032,\"fName\":\"Graph\",\"fTitle\":\"Graph\",\"fLineColor\":1,\"fLineStyle\":1,\"fLineWidth\":1,\"fFillColor\":0,\"fFillStyle\":1000,\"fMarkerColor\":632,\"fMarkerStyle\":20,\"fMarkerSize\":1.5,\"fNpoints\":1,\"fX\":[-15.1169058177542],\"fY\":[3.00115522129487],\"fFunctions\":{\"_typename\":\"TList\",\"name\":\"TList\",\"arr\":[],\"opt\":[]},\"fHistogram\":{\"_typename\":\"TH1F\",\"fUniqueID\":0,\"fBits\":512,\"fName\":\"Graph\",\"fTitle\":\"Graph\",\"fLineColor\":602,\"fLineStyle\":1,\"fLineWidth\":1,\"fFillColor\":0,\"fFillStyle\":1001,\"fMarkerColor\":1,\"fMarkerStyle\":1,\"fMarkerSize\":1,\"fNcells\":102,\"fXaxis\":{\"_typename\":\"TAxis\",\"fUniqueID\":0,\"fBits\":0,\"fName\":\"xaxis\",\"fTitle\":\"\",\"fNdivisions\":510,\"fAxisColor\":1,\"fLabelColor\":1,\"fLabelFont\":42,\"fLabelOffset\":0.005,\"fLabelSize\":0.035,\"fTickLength\":0.03,\"fTitleOffset\":1,\"fTitleSize\":0.035,\"fTitleColor\":1,\"fTitleFont\":42,\"fNbins\":100,\"fXmin\":-15.2169058177542,\"fXmax\":-14.0169058177542,\"fXbins\":[],\"fFirst\":0,\"fLast\":0,\"fBits2\":0,\"fTimeDisplay\":false,\"fTimeFormat\":\"\",\"fLabels\":null,\"fModLabs\":null},\"fYaxis\":{\"_typename\":\"TAxis\",\"fUniqueID\":0,\"fBits\":0,\"fName\":\"yaxis\",\"fTitle\":\"\",\"fNdivisions\":510,\"fAxisColor\":1,\"fLabelColor\":1,\"fLabelFont\":42,\"fLabelOffset\":0.005,\"fLabelSize\":0.035,\"fTickLength\":0.03,\"fTitleOffset\":0,\"fTitleSize\":0.035,\"fTitleColor\":1,\"fTitleFont\":42,\"fNbins\":1,\"fXmin\":2.90115522129487,\"fXmax\":4.10115522129487,\"fXbins\":[],\"fFirst\":0,\"fLast\":0,\"fBits2\":0,\"fTimeDisplay\":false,\"fTimeFormat\":\"\",\"fLabels\":null,\"fModLabs\":null},\"fZaxis\":{\"_typename\":\"TAxis\",\"fUniqueID\":0,\"fBits\":0,\"fName\":\"zaxis\",\"fTitle\":\"\",\"fNdivisions\":510,\"fAxisColor\":1,\"fLabelColor\":1,\"fLabelFont\":42,\"fLabelOffset\":0.005,\"fLabelSize\":0.035,\"fTickLength\":0.03,\"fTitleOffset\":1,\"fTitleSize\":0.035,\"fTitleColor\":1,\"fTitleFont\":42,\"fNbins\":1,\"fXmin\":0,\"fXmax\":1,\"fXbins\":[],\"fFirst\":0,\"fLast\":0,\"fBits2\":0,\"fTimeDisplay\":false,\"fTimeFormat\":\"\",\"fLabels\":null,\"fModLabs\":null},\"fBarOffset\":0,\"fBarWidth\":1000,\"fEntries\":0,\"fTsumw\":0,\"fTsumw2\":0,\"fTsumwx\":0,\"fTsumwx2\":0,\"fMaximum\":4.10115522129487,\"fMinimum\":2.90115522129487,\"fNormFactor\":0,\"fContour\":[],\"fSumw2\":[],\"fOption\":\"\",\"fFunctions\":{\"_typename\":\"TList\",\"name\":\"TList\",\"arr\":[],\"opt\":[]},\"fBufferSize\":0,\"fBuffer\":[],\"fBinStatErrOpt\":0,\"fStatOverflows\":2,\"fArray\":{\"$arr\":\"Float32\",\"len\":102}},\"fMinimum\":-1111,\"fMaximum\":-1111},{\"_typename\":\"TGraph\",\"fUniqueID\":0,\"fBits\":1032,\"fName\":\"Graph\",\"fTitle\":\"Graph\",\"fLineColor\":1,\"fLineStyle\":1,\"fLineWidth\":1,\"fFillColor\":0,\"fFillStyle\":1000,\"fMarkerColor\":802,\"fMarkerStyle\":20,\"fMarkerSize\":1.1,\"fNpoints\":3,\"fX\":[-10.9898144070898,-15.1169058177542,17.8346432290825],\"fY\":[-0.663733213765259,3.00115522129487,1.13312338232258],\"fFunctions\":{\"_typename\":\"TList\",\"name\":\"TList\",\"arr\":[],\"opt\":[]},\"fHistogram\":{\"_typename\":\"TH1F\",\"fUniqueID\":0,\"fBits\":512,\"fName\":\"Graph\",\"fTitle\":\"Graph\",\"fLineColor\":602,\"fLineStyle\":1,\"fLineWidth\":1,\"fFillColor\":0,\"fFillStyle\":1001,\"fMarkerColor\":1,\"fMarkerStyle\":1,\"fMarkerSize\":1,\"fNcells\":102,\"fXaxis\":{\"_typename\":\"TAxis\",\"fUniqueID\":0,\"fBits\":0,\"fName\":\"xaxis\",\"fTitle\":\"\",\"fNdivisions\":510,\"fAxisColor\":1,\"fLabelColor\":1,\"fLabelFont\":42,\"fLabelOffset\":0.005,\"fLabelSize\":0.035,\"fTickLength\":0.03,\"fTitleOffset\":1,\"fTitleSize\":0.035,\"fTitleColor\":1,\"fTitleFont\":42,\"fNbins\":100,\"fXmin\":-18.4120607224378,\"fXmax\":21.1297981337662,\"fXbins\":[],\"fFirst\":0,\"fLast\":0,\"fBits2\":0,\"fTimeDisplay\":false,\"fTimeFormat\":\"\",\"fLabels\":null,\"fModLabs\":null},\"fYaxis\":{\"_typename\":\"TAxis\",\"fUniqueID\":0,\"fBits\":0,\"fName\":\"yaxis\",\"fTitle\":\"\",\"fNdivisions\":510,\"fAxisColor\":1,\"fLabelColor\":1,\"fLabelFont\":42,\"fLabelOffset\":0.005,\"fLabelSize\":0.035,\"fTickLength\":0.03,\"fTitleOffset\":0,\"fTitleSize\":0.035,\"fTitleColor\":1,\"fTitleFont\":42,\"fNbins\":1,\"fXmin\":-1.03022205727127,\"fXmax\":3.36764406480088,\"fXbins\":[],\"fFirst\":0,\"fLast\":0,\"fBits2\":0,\"fTimeDisplay\":false,\"fTimeFormat\":\"\",\"fLabels\":null,\"fModLabs\":null},\"fZaxis\":{\"_typename\":\"TAxis\",\"fUniqueID\":0,\"fBits\":0,\"fName\":\"zaxis\",\"fTitle\":\"\",\"fNdivisions\":510,\"fAxisColor\":1,\"fLabelColor\":1,\"fLabelFont\":42,\"fLabelOffset\":0.005,\"fLabelSize\":0.035,\"fTickLength\":0.03,\"fTitleOffset\":1,\"fTitleSize\":0.035,\"fTitleColor\":1,\"fTitleFont\":42,\"fNbins\":1,\"fXmin\":0,\"fXmax\":1,\"fXbins\":[],\"fFirst\":0,\"fLast\":0,\"fBits2\":0,\"fTimeDisplay\":false,\"fTimeFormat\":\"\",\"fLabels\":null,\"fModLabs\":null},\"fBarOffset\":0,\"fBarWidth\":1000,\"fEntries\":0,\"fTsumw\":0,\"fTsumw2\":0,\"fTsumwx\":0,\"fTsumwx2\":0,\"fMaximum\":3.36764406480088,\"fMinimum\":-1.03022205727127,\"fNormFactor\":0,\"fContour\":[],\"fSumw2\":[],\"fOption\":\"\",\"fFunctions\":{\"_typename\":\"TList\",\"name\":\"TList\",\"arr\":[],\"opt\":[]},\"fBufferSize\":0,\"fBuffer\":[],\"fBinStatErrOpt\":0,\"fStatOverflows\":2,\"fArray\":{\"$arr\":\"Float32\",\"len\":102}},\"fMinimum\":-1111,\"fMaximum\":-1111},{\"_typename\":\"TGraph\",\"fUniqueID\":0,\"fBits\":1032,\"fName\":\"Graph\",\"fTitle\":\"Graph\",\"fLineColor\":1,\"fLineStyle\":1,\"fLineWidth\":1,\"fFillColor\":0,\"fFillStyle\":1000,\"fMarkerColor\":800,\"fMarkerStyle\":20,\"fMarkerSize\":0.5,\"fNpoints\":4,\"fX\":[17.8346432290825,-10.9898155267016,-10.9922298786345,-10.9889192919852],\"fY\":[1.13312338232258,-0.663835579183481,-0.653677259501955,-0.660339028052085],\"fFunctions\":{\"_typename\":\"TList\",\"name\":\"TList\",\"arr\":[],\"opt\":[]},\"fHistogram\":{\"_typename\":\"TH1F\",\"fUniqueID\":0,\"fBits\":512,\"fName\":\"Graph\",\"fTitle\":\"Graph\",\"fLineColor\":602,\"fLineStyle\":1,\"fLineWidth\":1,\"fFillColor\":0,\"fFillStyle\":1001,\"fMarkerColor\":1,\"fMarkerStyle\":1,\"fMarkerSize\":1,\"fNcells\":102,\"fXaxis\":{\"_typename\":\"TAxis\",\"fUniqueID\":0,\"fBits\":0,\"fName\":\"xaxis\",\"fTitle\":\"\",\"fNdivisions\":510,\"fAxisColor\":1,\"fLabelColor\":1,\"fLabelFont\":42,\"fLabelOffset\":0.005,\"fLabelSize\":0.035,\"fTickLength\":0.03,\"fTitleOffset\":1,\"fTitleSize\":0.035,\"fTitleColor\":1,\"fTitleFont\":42,\"fNbins\":100,\"fXmin\":-13.8749171894063,\"fXmax\":20.7173305398542,\"fXbins\":[],\"fFirst\":0,\"fLast\":0,\"fBits2\":0,\"fTimeDisplay\":false,\"fTimeFormat\":\"\",\"fLabels\":null,\"fModLabs\":null},\"fYaxis\":{\"_typename\":\"TAxis\",\"fUniqueID\":0,\"fBits\":0,\"fName\":\"yaxis\",\"fTitle\":\"\",\"fNdivisions\":510,\"fAxisColor\":1,\"fLabelColor\":1,\"fLabelFont\":42,\"fLabelOffset\":0.005,\"fLabelSize\":0.035,\"fTickLength\":0.03,\"fTitleOffset\":0,\"fTitleSize\":0.035,\"fTitleColor\":1,\"fTitleFont\":42,\"fNbins\":1,\"fXmin\":-0.843531475334087,\"fXmax\":1.31281927847319,\"fXbins\":[],\"fFirst\":0,\"fLast\":0,\"fBits2\":0,\"fTimeDisplay\":false,\"fTimeFormat\":\"\",\"fLabels\":null,\"fModLabs\":null},\"fZaxis\":{\"_typename\":\"TAxis\",\"fUniqueID\":0,\"fBits\":0,\"fName\":\"zaxis\",\"fTitle\":\"\",\"fNdivisions\":510,\"fAxisColor\":1,\"fLabelColor\":1,\"fLabelFont\":42,\"fLabelOffset\":0.005,\"fLabelSize\":0.035,\"fTickLength\":0.03,\"fTitleOffset\":1,\"fTitleSize\":0.035,\"fTitleColor\":1,\"fTitleFont\":42,\"fNbins\":1,\"fXmin\":0,\"fXmax\":1,\"fXbins\":[],\"fFirst\":0,\"fLast\":0,\"fBits2\":0,\"fTimeDisplay\":false,\"fTimeFormat\":\"\",\"fLabels\":null,\"fModLabs\":null},\"fBarOffset\":0,\"fBarWidth\":1000,\"fEntries\":0,\"fTsumw\":0,\"fTsumw2\":0,\"fTsumwx\":0,\"fTsumwx2\":0,\"fMaximum\":1.31281927847319,\"fMinimum\":-0.843531475334087,\"fNormFactor\":0,\"fContour\":[],\"fSumw2\":[],\"fOption\":\"\",\"fFunctions\":{\"_typename\":\"TList\",\"name\":\"TList\",\"arr\":[],\"opt\":[]},\"fBufferSize\":0,\"fBuffer\":[],\"fBinStatErrOpt\":0,\"fStatOverflows\":2,\"fArray\":{\"$arr\":\"Float32\",\"len\":102}},\"fMinimum\":-1111,\"fMaximum\":-1111},{\"_typename\":\"TGraph\",\"fUniqueID\":0,\"fBits\":1032,\"fName\":\"Graph\",\"fTitle\":\"Graph\",\"fLineColor\":1,\"fLineStyle\":1,\"fLineWidth\":1,\"fFillColor\":0,\"fFillStyle\":1000,\"fMarkerColor\":632,\"fMarkerStyle\":20,\"fMarkerSize\":0.3,\"fNpoints\":3,\"fX\":[17.8346432290825,-15.1169058177542,-10.9898155267016],\"fY\":[1.13312338232258,3.00115522129487,-0.663835579183481],\"fFunctions\":{\"_typename\":\"TList\",\"name\":\"TList\",\"arr\":[],\"opt\":[]},\"fHistogram\":{\"_typename\":\"TH1F\",\"fUniqueID\":0,\"fBits\":512,\"fName\":\"Graph\",\"fTitle\":\"Graph\",\"fLineColor\":602,\"fLineStyle\":1,\"fLineWidth\":1,\"fFillColor\":0,\"fFillStyle\":1001,\"fMarkerColor\":1,\"fMarkerStyle\":1,\"fMarkerSize\":1,\"fNcells\":102,\"fXaxis\":{\"_typename\":\"TAxis\",\"fUniqueID\":0,\"fBits\":0,\"fName\":\"xaxis\",\"fTitle\":\"\",\"fNdivisions\":510,\"fAxisColor\":1,\"fLabelColor\":1,\"fLabelFont\":42,\"fLabelOffset\":0.005,\"fLabelSize\":0.035,\"fTickLength\":0.03,\"fTitleOffset\":1,\"fTitleSize\":0.035,\"fTitleColor\":1,\"fTitleFont\":42,\"fNbins\":100,\"fXmin\":-18.4120607224378,\"fXmax\":21.1297981337662,\"fXbins\":[],\"fFirst\":0,\"fLast\":0,\"fBits2\":0,\"fTimeDisplay\":false,\"fTimeFormat\":\"\",\"fLabels\":null,\"fModLabs\":null},\"fYaxis\":{\"_typename\":\"TAxis\",\"fUniqueID\":0,\"fBits\":0,\"fName\":\"yaxis\",\"fTitle\":\"\",\"fNdivisions\":510,\"fAxisColor\":1,\"fLabelColor\":1,\"fLabelFont\":42,\"fLabelOffset\":0.005,\"fLabelSize\":0.035,\"fTickLength\":0.03,\"fTitleOffset\":0,\"fTitleSize\":0.035,\"fTitleColor\":1,\"fTitleFont\":42,\"fNbins\":1,\"fXmin\":-1.03033465923132,\"fXmax\":3.3676543013427,\"fXbins\":[],\"fFirst\":0,\"fLast\":0,\"fBits2\":0,\"fTimeDisplay\":false,\"fTimeFormat\":\"\",\"fLabels\":null,\"fModLabs\":null},\"fZaxis\":{\"_typename\":\"TAxis\",\"fUniqueID\":0,\"fBits\":0,\"fName\":\"zaxis\",\"fTitle\":\"\",\"fNdivisions\":510,\"fAxisColor\":1,\"fLabelColor\":1,\"fLabelFont\":42,\"fLabelOffset\":0.005,\"fLabelSize\":0.035,\"fTickLength\":0.03,\"fTitleOffset\":1,\"fTitleSize\":0.035,\"fTitleColor\":1,\"fTitleFont\":42,\"fNbins\":1,\"fXmin\":0,\"fXmax\":1,\"fXbins\":[],\"fFirst\":0,\"fLast\":0,\"fBits2\":0,\"fTimeDisplay\":false,\"fTimeFormat\":\"\",\"fLabels\":null,\"fModLabs\":null},\"fBarOffset\":0,\"fBarWidth\":1000,\"fEntries\":0,\"fTsumw\":0,\"fTsumw2\":0,\"fTsumwx\":0,\"fTsumwx2\":0,\"fMaximum\":3.3676543013427,\"fMinimum\":-1.03033465923132,\"fNormFactor\":0,\"fContour\":[],\"fSumw2\":[],\"fOption\":\"\",\"fFunctions\":{\"_typename\":\"TList\",\"name\":\"TList\",\"arr\":[],\"opt\":[]},\"fBufferSize\":0,\"fBuffer\":[],\"fBinStatErrOpt\":0,\"fStatOverflows\":2,\"fArray\":{\"$arr\":\"Float32\",\"len\":102}},\"fMinimum\":-1111,\"fMaximum\":-1111},{\"_typename\":\"TGraph\",\"fUniqueID\":0,\"fBits\":1032,\"fName\":\"Graph\",\"fTitle\":\"Graph\",\"fLineColor\":1,\"fLineStyle\":1,\"fLineWidth\":1,\"fFillColor\":0,\"fFillStyle\":1000,\"fMarkerColor\":417,\"fMarkerStyle\":20,\"fMarkerSize\":1,\"fNpoints\":3,\"fX\":[-11.316398297822,-13.9878357095235,17.4830237565122],\"fY\":[-0.813727446647247,2.75765697340308,2.6346817627137],\"fFunctions\":{\"_typename\":\"TList\",\"name\":\"TList\",\"arr\":[],\"opt\":[]},\"fHistogram\":{\"_typename\":\"TH1F\",\"fUniqueID\":0,\"fBits\":512,\"fName\":\"Graph\",\"fTitle\":\"Graph\",\"fLineColor\":602,\"fLineStyle\":1,\"fLineWidth\":1,\"fFillColor\":0,\"fFillStyle\":1001,\"fMarkerColor\":1,\"fMarkerStyle\":1,\"fMarkerSize\":1,\"fNcells\":102,\"fXaxis\":{\"_typename\":\"TAxis\",\"fUniqueID\":0,\"fBits\":0,\"fName\":\"xaxis\",\"fTitle\":\"\",\"fNdivisions\":510,\"fAxisColor\":1,\"fLabelColor\":1,\"fLabelFont\":42,\"fLabelOffset\":0.005,\"fLabelSize\":0.035,\"fTickLength\":0.03,\"fTitleOffset\":1,\"fTitleSize\":0.035,\"fTitleColor\":1,\"fTitleFont\":42,\"fNbins\":100,\"fXmin\":-17.134921656127,\"fXmax\":20.6301097031158,\"fXbins\":[],\"fFirst\":0,\"fLast\":0,\"fBits2\":0,\"fTimeDisplay\":false,\"fTimeFormat\":\"\",\"fLabels\":null,\"fModLabs\":null},\"fYaxis\":{\"_typename\":\"TAxis\",\"fUniqueID\":0,\"fBits\":0,\"fName\":\"yaxis\",\"fTitle\":\"\",\"fNdivisions\":510,\"fAxisColor\":1,\"fLabelColor\":1,\"fLabelFont\":42,\"fLabelOffset\":0.005,\"fLabelSize\":0.035,\"fTickLength\":0.03,\"fTitleOffset\":0,\"fTitleSize\":0.035,\"fTitleColor\":1,\"fTitleFont\":42,\"fNbins\":1,\"fXmin\":-1.17086588865228,\"fXmax\":3.11479541540811,\"fXbins\":[],\"fFirst\":0,\"fLast\":0,\"fBits2\":0,\"fTimeDisplay\":false,\"fTimeFormat\":\"\",\"fLabels\":null,\"fModLabs\":null},\"fZaxis\":{\"_typename\":\"TAxis\",\"fUniqueID\":0,\"fBits\":0,\"fName\":\"zaxis\",\"fTitle\":\"\",\"fNdivisions\":510,\"fAxisColor\":1,\"fLabelColor\":1,\"fLabelFont\":42,\"fLabelOffset\":0.005,\"fLabelSize\":0.035,\"fTickLength\":0.03,\"fTitleOffset\":1,\"fTitleSize\":0.035,\"fTitleColor\":1,\"fTitleFont\":42,\"fNbins\":1,\"fXmin\":0,\"fXmax\":1,\"fXbins\":[],\"fFirst\":0,\"fLast\":0,\"fBits2\":0,\"fTimeDisplay\":false,\"fTimeFormat\":\"\",\"fLabels\":null,\"fModLabs\":null},\"fBarOffset\":0,\"fBarWidth\":1000,\"fEntries\":0,\"fTsumw\":0,\"fTsumw2\":0,\"fTsumwx\":0,\"fTsumwx2\":0,\"fMaximum\":3.11479541540811,\"fMinimum\":-1.17086588865228,\"fNormFactor\":0,\"fContour\":[],\"fSumw2\":[],\"fOption\":\"\",\"fFunctions\":{\"_typename\":\"TList\",\"name\":\"TList\",\"arr\":[],\"opt\":[]},\"fBufferSize\":0,\"fBuffer\":[],\"fBinStatErrOpt\":0,\"fStatOverflows\":2,\"fArray\":{\"$arr\":\"Float32\",\"len\":102}},\"fMinimum\":-1111,\"fMaximum\":-1111},{\"_typename\":\"TGraph\",\"fUniqueID\":0,\"fBits\":1032,\"fName\":\"Graph\",\"fTitle\":\"Graph\",\"fLineColor\":1,\"fLineStyle\":1,\"fLineWidth\":1,\"fFillColor\":0,\"fFillStyle\":1000,\"fMarkerColor\":432,\"fMarkerStyle\":20,\"fMarkerSize\":0.9,\"fNpoints\":3,\"fX\":[-10.8878296225754,-14.6442118025943,18.3323265076602],\"fY\":[-0.95653004643277,2.78226928965931,1.41009233092878],\"fFunctions\":{\"_typename\":\"TList\",\"name\":\"TList\",\"arr\":[],\"opt\":[]},\"fHistogram\":{\"_typename\":\"TH1F\",\"fUniqueID\":0,\"fBits\":512,\"fName\":\"Graph\",\"fTitle\":\"Graph\",\"fLineColor\":602,\"fLineStyle\":1,\"fLineWidth\":1,\"fFillColor\":0,\"fFillStyle\":1001,\"fMarkerColor\":1,\"fMarkerStyle\":1,\"fMarkerSize\":1,\"fNcells\":102,\"fXaxis\":{\"_typename\":\"TAxis\",\"fUniqueID\":0,\"fBits\":0,\"fName\":\"xaxis\",\"fTitle\":\"\",\"fNdivisions\":510,\"fAxisColor\":1,\"fLabelColor\":1,\"fLabelFont\":42,\"fLabelOffset\":0.005,\"fLabelSize\":0.035,\"fTickLength\":0.03,\"fTitleOffset\":1,\"fTitleSize\":0.035,\"fTitleColor\":1,\"fTitleFont\":42,\"fNbins\":100,\"fXmin\":-17.9418656336197,\"fXmax\":21.6299803386856,\"fXbins\":[],\"fFirst\":0,\"fLast\":0,\"fBits2\":0,\"fTimeDisplay\":false,\"fTimeFormat\":\"\",\"fLabels\":null,\"fModLabs\":null},\"fYaxis\":{\"_typename\":\"TAxis\",\"fUniqueID\":0,\"fBits\":0,\"fName\":\"yaxis\",\"fTitle\":\"\",\"fNdivisions\":510,\"fAxisColor\":1,\"fLabelColor\":1,\"fLabelFont\":42,\"fLabelOffset\":0.005,\"fLabelSize\":0.035,\"fTickLength\":0.03,\"fTitleOffset\":0,\"fTitleSize\":0.035,\"fTitleColor\":1,\"fTitleFont\":42,\"fNbins\":1,\"fXmin\":-1.33040998004198,\"fXmax\":3.15614922326852,\"fXbins\":[],\"fFirst\":0,\"fLast\":0,\"fBits2\":0,\"fTimeDisplay\":false,\"fTimeFormat\":\"\",\"fLabels\":null,\"fModLabs\":null},\"fZaxis\":{\"_typename\":\"TAxis\",\"fUniqueID\":0,\"fBits\":0,\"fName\":\"zaxis\",\"fTitle\":\"\",\"fNdivisions\":510,\"fAxisColor\":1,\"fLabelColor\":1,\"fLabelFont\":42,\"fLabelOffset\":0.005,\"fLabelSize\":0.035,\"fTickLength\":0.03,\"fTitleOffset\":1,\"fTitleSize\":0.035,\"fTitleColor\":1,\"fTitleFont\":42,\"fNbins\":1,\"fXmin\":0,\"fXmax\":1,\"fXbins\":[],\"fFirst\":0,\"fLast\":0,\"fBits2\":0,\"fTimeDisplay\":false,\"fTimeFormat\":\"\",\"fLabels\":null,\"fModLabs\":null},\"fBarOffset\":0,\"fBarWidth\":1000,\"fEntries\":0,\"fTsumw\":0,\"fTsumw2\":0,\"fTsumwx\":0,\"fTsumwx2\":0,\"fMaximum\":3.15614922326852,\"fMinimum\":-1.33040998004198,\"fNormFactor\":0,\"fContour\":[],\"fSumw2\":[],\"fOption\":\"\",\"fFunctions\":{\"_typename\":\"TList\",\"name\":\"TList\",\"arr\":[],\"opt\":[]},\"fBufferSize\":0,\"fBuffer\":[],\"fBinStatErrOpt\":0,\"fStatOverflows\":2,\"fArray\":{\"$arr\":\"Float32\",\"len\":102}},\"fMinimum\":-1111,\"fMaximum\":-1111},{\"_typename\":\"TGraph\",\"fUniqueID\":0,\"fBits\":1032,\"fName\":\"Graph\",\"fTitle\":\"Graph\",\"fLineColor\":1,\"fLineStyle\":1,\"fLineWidth\":1,\"fFillColor\":0,\"fFillStyle\":1000,\"fMarkerColor\":880,\"fMarkerStyle\":20,\"fMarkerSize\":0.5,\"fNpoints\":2,\"fX\":[18.7265541533174,-15.4773250384674],\"fY\":[1.04590412582052,3.03028676252462],\"fFunctions\":{\"_typename\":\"TList\",\"name\":\"TList\",\"arr\":[],\"opt\":[]},\"fHistogram\":{\"_typename\":\"TH1F\",\"fUniqueID\":0,\"fBits\":512,\"fName\":\"Graph\",\"fTitle\":\"Graph\",\"fLineColor\":602,\"fLineStyle\":1,\"fLineWidth\":1,\"fFillColor\":0,\"fFillStyle\":1001,\"fMarkerColor\":1,\"fMarkerStyle\":1,\"fMarkerSize\":1,\"fNcells\":102,\"fXaxis\":{\"_typename\":\"TAxis\",\"fUniqueID\":0,\"fBits\":0,\"fName\":\"xaxis\",\"fTitle\":\"\",\"fNdivisions\":510,\"fAxisColor\":1,\"fLabelColor\":1,\"fLabelFont\":42,\"fLabelOffset\":0.005,\"fLabelSize\":0.035,\"fTickLength\":0.03,\"fTitleOffset\":1,\"fTitleSize\":0.035,\"fTitleColor\":1,\"fTitleFont\":42,\"fNbins\":100,\"fXmin\":-18.8977129576459,\"fXmax\":22.1469420724958,\"fXbins\":[],\"fFirst\":0,\"fLast\":0,\"fBits2\":0,\"fTimeDisplay\":false,\"fTimeFormat\":\"\",\"fLabels\":null,\"fModLabs\":null},\"fYaxis\":{\"_typename\":\"TAxis\",\"fUniqueID\":0,\"fBits\":0,\"fName\":\"yaxis\",\"fTitle\":\"\",\"fNdivisions\":510,\"fAxisColor\":1,\"fLabelColor\":1,\"fLabelFont\":42,\"fLabelOffset\":0.005,\"fLabelSize\":0.035,\"fTickLength\":0.03,\"fTitleOffset\":0,\"fTitleSize\":0.035,\"fTitleColor\":1,\"fTitleFont\":42,\"fNbins\":1,\"fXmin\":0.847465862150113,\"fXmax\":3.22872502619503,\"fXbins\":[],\"fFirst\":0,\"fLast\":0,\"fBits2\":0,\"fTimeDisplay\":false,\"fTimeFormat\":\"\",\"fLabels\":null,\"fModLabs\":null},\"fZaxis\":{\"_typename\":\"TAxis\",\"fUniqueID\":0,\"fBits\":0,\"fName\":\"zaxis\",\"fTitle\":\"\",\"fNdivisions\":510,\"fAxisColor\":1,\"fLabelColor\":1,\"fLabelFont\":42,\"fLabelOffset\":0.005,\"fLabelSize\":0.035,\"fTickLength\":0.03,\"fTitleOffset\":1,\"fTitleSize\":0.035,\"fTitleColor\":1,\"fTitleFont\":42,\"fNbins\":1,\"fXmin\":0,\"fXmax\":1,\"fXbins\":[],\"fFirst\":0,\"fLast\":0,\"fBits2\":0,\"fTimeDisplay\":false,\"fTimeFormat\":\"\",\"fLabels\":null,\"fModLabs\":null},\"fBarOffset\":0,\"fBarWidth\":1000,\"fEntries\":0,\"fTsumw\":0,\"fTsumw2\":0,\"fTsumwx\":0,\"fTsumwx2\":0,\"fMaximum\":3.22872502619503,\"fMinimum\":0.847465862150113,\"fNormFactor\":0,\"fContour\":[],\"fSumw2\":[],\"fOption\":\"\",\"fFunctions\":{\"_typename\":\"TList\",\"name\":\"TList\",\"arr\":[],\"opt\":[]},\"fBufferSize\":0,\"fBuffer\":[],\"fBinStatErrOpt\":0,\"fStatOverflows\":2,\"fArray\":{\"$arr\":\"Float32\",\"len\":102}},\"fMinimum\":-1111,\"fMaximum\":-1111},{\"_typename\":\"TLegend\",\"fUniqueID\":0,\"fBits\":8,\"fLineColor\":1,\"fLineStyle\":1,\"fLineWidth\":1,\"fFillColor\":0,\"fFillStyle\":1001,\"fX1\":-31.7500004656613,\"fY1\":4.87500007264317,\"fX2\":-16.1250002328307,\"fY2\":7.9625001186505,\"fX1NDC\":0,\"fY1NDC\":0.8,\"fX2NDC\":0.25,\"fY2NDC\":0.99,\"fBorderSize\":1,\"fInit\":1,\"fShadowColor\":1,\"fCornerRadius\":0,\"fOption\":\"brNDC\",\"fName\":\"TPave\",\"fTextAngle\":0,\"fTextSize\":0,\"fTextAlign\":12,\"fTextColor\":1,\"fTextFont\":42,\"fPrimitives\":{\"_typename\":\"TList\",\"name\":\"TList\",\"arr\":[{\"_typename\":\"TLegendEntry\",\"fUniqueID\":0,\"fBits\":0,\"fTextAngle\":0,\"fTextSize\":0,\"fTextAlign\":0,\"fTextColor\":0,\"fTextFont\":42,\"fLineColor\":1,\"fLineStyle\":1,\"fLineWidth\":1,\"fFillColor\":0,\"fFillStyle\":1000,\"fMarkerColor\":632,\"fMarkerStyle\":20,\"fMarkerSize\":1.5,\"fObject\":{\"$ref\":15},\"fLabel\":\"Score plane primary hit\",\"fOption\":\"lpf\"},{\"_typename\":\"TLegendEntry\",\"fUniqueID\":0,\"fBits\":0,\"fTextAngle\":0,\"fTextSize\":0,\"fTextAlign\":0,\"fTextColor\":0,\"fTextFont\":42,\"fLineColor\":1,\"fLineStyle\":1,\"fLineWidth\":1,\"fFillColor\":0,\"fFillStyle\":1000,\"fMarkerColor\":802,\"fMarkerStyle\":20,\"fMarkerSize\":1.1,\"fObject\":{\"$ref\":22},\"fLabel\":\"Score plane clusters\",\"fOption\":\"lpf\"},{\"_typename\":\"TLegendEntry\",\"fUniqueID\":0,\"fBits\":0,\"fTextAngle\":0,\"fTextSize\":0,\"fTextAlign\":0,\"fTextColor\":0,\"fTextFont\":42,\"fLineColor\":1,\"fLineStyle\":1,\"fLineWidth\":1,\"fFillColor\":0,\"fFillStyle\":1000,\"fMarkerColor\":800,\"fMarkerStyle\":20,\"fMarkerSize\":0.5,\"fObject\":{\"$ref\":29},\"fLabel\":\"Score plane secondary hit\",\"fOption\":\"lpf\"},{\"_typename\":\"TLegendEntry\",\"fUniqueID\":0,\"fBits\":0,\"fTextAngle\":0,\"fTextSize\":0,\"fTextAlign\":0,\"fTextColor\":0,\"fTextFont\":42,\"fLineColor\":1,\"fLineStyle\":1,\"fLineWidth\":1,\"fFillColor\":0,\"fFillStyle\":1000,\"fMarkerColor\":632,\"fMarkerStyle\":20,\"fMarkerSize\":0.3,\"fObject\":{\"$ref\":36},\"fLabel\":\"Score hits\",\"fOption\":\"lpf\"},{\"_typename\":\"TLegendEntry\",\"fUniqueID\":0,\"fBits\":0,\"fTextAngle\":0,\"fTextSize\":0,\"fTextAlign\":0,\"fTextColor\":0,\"fTextFont\":42,\"fLineColor\":1,\"fLineStyle\":1,\"fLineWidth\":1,\"fFillColor\":0,\"fFillStyle\":1000,\"fMarkerColor\":417,\"fMarkerStyle\":20,\"fMarkerSize\":1,\"fObject\":{\"$ref\":43},\"fLabel\":\"Cluster center\",\"fOption\":\"lpf\"},{\"_typename\":\"TLegendEntry\",\"fUniqueID\":0,\"fBits\":0,\"fTextAngle\":0,\"fTextSize\":0,\"fTextAlign\":0,\"fTextColor\":0,\"fTextFont\":42,\"fLineColor\":1,\"fLineStyle\":1,\"fLineWidth\":1,\"fFillColor\":0,\"fFillStyle\":1000,\"fMarkerColor\":432,\"fMarkerStyle\":20,\"fMarkerSize\":0.9,\"fObject\":{\"$ref\":50},\"fLabel\":\"Cluster center uncor\",\"fOption\":\"lpf\"},{\"_typename\":\"TLegendEntry\",\"fUniqueID\":0,\"fBits\":0,\"fTextAngle\":0,\"fTextSize\":0,\"fTextAlign\":0,\"fTextColor\":0,\"fTextFont\":42,\"fLineColor\":1,\"fLineStyle\":1,\"fLineWidth\":1,\"fFillColor\":0,\"fFillStyle\":1000,\"fMarkerColor\":880,\"fMarkerStyle\":20,\"fMarkerSize\":0.5,\"fObject\":{\"$ref\":57},\"fLabel\":\"Track pos at ecal\",\"fOption\":\"lpf\"}],\"opt\":[\"lpf\",\"lpf\",\"lpf\",\"lpf\",\"lpf\",\"lpf\",\"lpf\"]},\"fEntrySeparation\":0.1,\"fMargin\":0.25,\"fNColumns\":1,\"fColumnSeparation\":0},{\"_typename\":\"TPaveText\",\"fUniqueID\":0,\"fBits\":9,\"fLineColor\":1,\"fLineStyle\":1,\"fLineWidth\":1,\"fFillColor\":0,\"fFillStyle\":0,\"fX1\":-5.38002239414658,\"fY1\":7.15000017071143,\"fX2\":4.38002239414657,\"fY2\":8.04375019734726,\"fX1NDC\":0.421919642857143,\"fY1NDC\":0.940000003948808,\"fX2NDC\":0.578080357142857,\"fY2NDC\":0.995000004768372,\"fBorderSize\":0,\"fInit\":1,\"fShadowColor\":1,\"fCornerRadius\":0,\"fOption\":\"blNDC\",\"fName\":\"title\",\"fTextAngle\":0,\"fTextSize\":0,\"fTextAlign\":22,\"fTextColor\":1,\"fTextFont\":42,\"fLabel\":\"\",\"fLongest\":9,\"fMargin\":0.05,\"fLines\":{\"_typename\":\"TList\",\"name\":\"TList\",\"arr\":[{\"_typename\":\"TLatex\",\"fUniqueID\":0,\"fBits\":0,\"fName\":\"\",\"fTitle\":\"Ecal Hits\",\"fTextAngle\":0,\"fTextSize\":0,\"fTextAlign\":0,\"fTextColor\":0,\"fTextFont\":0,\"fX\":0,\"fY\":0,\"fLineColor\":1,\"fLineStyle\":1,\"fLineWidth\":2,\"fLimitFactorSize\":3,\"fOriginSize\":0.0467500016093254}],\"opt\":[\"\"]}},{\"_typename\":\"TStyle\",\"fUniqueID\":0,\"fBits\":0,\"fName\":\"Modern\",\"fTitle\":\"Modern Style\",\"fLineColor\":1,\"fLineStyle\":1,\"fLineWidth\":1,\"fFillColor\":19,\"fFillStyle\":1001,\"fMarkerColor\":1,\"fMarkerStyle\":1,\"fMarkerSize\":1,\"fTextAngle\":0,\"fTextSize\":0.05,\"fTextAlign\":11,\"fTextColor\":1,\"fTextFont\":62,\"fXaxis\":{\"_typename\":\"TAttAxis\",\"fNdivisions\":510,\"fAxisColor\":1,\"fLabelColor\":1,\"fLabelFont\":42,\"fLabelOffset\":0.005,\"fLabelSize\":0.035,\"fTickLength\":0.03,\"fTitleOffset\":1,\"fTitleSize\":0.035,\"fTitleColor\":1,\"fTitleFont\":42},\"fYaxis\":{\"_typename\":\"TAttAxis\",\"fNdivisions\":510,\"fAxisColor\":1,\"fLabelColor\":1,\"fLabelFont\":42,\"fLabelOffset\":0.005,\"fLabelSize\":0.035,\"fTickLength\":0.03,\"fTitleOffset\":0,\"fTitleSize\":0.035,\"fTitleColor\":1,\"fTitleFont\":42},\"fZaxis\":{\"_typename\":\"TAttAxis\",\"fNdivisions\":510,\"fAxisColor\":1,\"fLabelColor\":1,\"fLabelFont\":42,\"fLabelOffset\":0.005,\"fLabelSize\":0.035,\"fTickLength\":0.03,\"fTitleOffset\":1,\"fTitleSize\":0.035,\"fTitleColor\":1,\"fTitleFont\":42},\"fBarWidth\":1,\"fBarOffset\":0,\"fColorModelPS\":0,\"fDrawBorder\":0,\"fOptLogx\":0,\"fOptLogy\":0,\"fOptLogz\":0,\"fOptDate\":0,\"fOptStat\":1111,\"fOptTitle\":1,\"fOptFile\":0,\"fOptFit\":0,\"fShowEventStatus\":0,\"fShowEditor\":0,\"fShowToolBar\":0,\"fNumberContours\":20,\"fAttDate\":{\"_typename\":\"TAttText\",\"fTextAngle\":0,\"fTextSize\":0.025,\"fTextAlign\":11,\"fTextColor\":1,\"fTextFont\":62},\"fDateX\":0.01,\"fDateY\":0.01,\"fEndErrorSize\":2,\"fErrorX\":0.5,\"fFuncColor\":2,\"fFuncStyle\":1,\"fFuncWidth\":2,\"fGridColor\":0,\"fGridStyle\":3,\"fGridWidth\":1,\"fLegendBorderSize\":1,\"fLegendFillColor\":0,\"fLegendFont\":42,\"fLegendTextSize\":0,\"fHatchesLineWidth\":1,\"fHatchesSpacing\":1,\"fFrameFillColor\":0,\"fFrameLineColor\":1,\"fFrameFillStyle\":1001,\"fFrameLineStyle\":1,\"fFrameLineWidth\":1,\"fFrameBorderSize\":1,\"fFrameBorderMode\":0,\"fHistFillColor\":0,\"fHistLineColor\":602,\"fHistFillStyle\":1001,\"fHistLineStyle\":1,\"fHistLineWidth\":1,\"fHistMinimumZero\":false,\"fHistTopMargin\":0.05,\"fCanvasPreferGL\":false,\"fCanvasColor\":0,\"fCanvasBorderSize\":2,\"fCanvasBorderMode\":0,\"fCanvasDefH\":500,\"fCanvasDefW\":700,\"fCanvasDefX\":10,\"fCanvasDefY\":10,\"fPadColor\":0,\"fPadBorderSize\":2,\"fPadBorderMode\":0,\"fPadBottomMargin\":0.1,\"fPadTopMargin\":0.1,\"fPadLeftMargin\":0.1,\"fPadRightMargin\":0.1,\"fPadGridX\":false,\"fPadGridY\":false,\"fPadTickX\":0,\"fPadTickY\":0,\"fPaperSizeX\":20,\"fPaperSizeY\":26,\"fScreenFactor\":1,\"fStatColor\":0,\"fStatTextColor\":1,\"fStatBorderSize\":1,\"fStatFont\":42,\"fStatFontSize\":0,\"fStatStyle\":1001,\"fStatFormat\":\"6.4g\",\"fStatX\":0.98,\"fStatY\":0.935,\"fStatW\":0.2,\"fStatH\":0.16,\"fStripDecimals\":true,\"fTitleAlign\":23,\"fTitleColor\":0,\"fTitleTextColor\":1,\"fTitleBorderSize\":0,\"fTitleFont\":42,\"fTitleFontSize\":0.05,\"fTitleStyle\":0,\"fTitleX\":0.5,\"fTitleY\":0.995,\"fTitleW\":0,\"fTitleH\":0,\"fLegoInnerR\":0.5,\"fLineStyles\":[\"\",\"  \",\" 12 12\",\" 4 8\",\" 12 16 4 16\",\" 20 12 4 12\",\" 20 12 4 12 4 12 4 12\",\" 20 20\",\" 20 12 4 12 4 12\",\" 80 20\",\" 80 40 4 40\",\"  \",\"  \",\"  \",\"  \",\"  \",\"  \",\"  \",\"  \",\"  \",\"  \",\"  \",\"  \",\"  \",\"  \",\"  \",\"  \",\"  \",\"  \",\"  \"],\"fHeaderPS\":\"\",\"fTitlePS\":\"\",\"fFitFormat\":\"5.4g\",\"fPaintTextFormat\":\"g\",\"fLineScalePS\":3,\"fJoinLinePS\":0,\"fCapLinePS\":0,\"fTimeOffset\":788918400,\"fImageScaling\":1,\"fCandleWhiskerRange\":1,\"fCandleBoxRange\":0.5,\"fCandleScaled\":false,\"fViolinScaled\":true,\"fXAxisExpXOffset\":0,\"fXAxisExpYOffset\":0,\"fYAxisExpXOffset\":0,\"fYAxisExpYOffset\":0,\"fAxisMaxDigits\":5}],\"opt\":[\"\",\"colz\",\"boxsame\",\"p\",\"p\",\"p\",\"p\",\"p\",\"p\",\"p\",\"\",\"blNDC\",\"\"]},\"fExecs\":null,\"fName\":\"cc2\",\"fTitle\":\"Canvas\",\"fNumPaletteColor\":0,\"fNextPaletteColor\":0,\"fDISPLAY\":\"$DISPLAY\",\"fDoubleBuffer\":0,\"fRetained\":true,\"fXsizeUser\":0,\"fYsizeUser\":0,\"fXsizeReal\":20,\"fYsizeReal\":13.33333,\"fWindowTopX\":0,\"fWindowTopY\":0,\"fWindowWidth\":0,\"fWindowHeight\":0,\"fCw\":896,\"fCh\":572,\"fCatt\":{\"_typename\":\"TAttCanvas\",\"fXBetween\":2,\"fYBetween\":2,\"fTitleFromTop\":1.2,\"fXdate\":0.2,\"fYdate\":0.3,\"fAdate\":1},\"kMoveOpaque\":true,\"kResizeOpaque\":true,\"fHighLightColor\":2,\"fBatch\":true,\"kShowEventStatus\":false,\"kAutoExec\":true,\"kMenuBar\":true});\n   Core.settings.HandleKeys = false;\n   Core.draw(\"root_plot_1687591869235\", obj, \"\");\n}\n\nfunction script_load_root_plot_1687591869235(src, on_error) {\n    let script = document.createElement('script');\n    script.src = src;\n    script.onload = function() { display_root_plot_1687591869235(JSROOT); };\n    script.onerror = function() { script.remove(); on_error(); };\n    document.head.appendChild(script);\n}\n\nif (typeof requirejs !== 'undefined') {\n\n    // We are in jupyter notebooks, use require.js which should be configured already\n    requirejs.config({\n       paths: { 'JSRootCore' : [ 'build/jsroot', 'https://root.cern/js/7.2.1/build/jsroot', 'https://jsroot.gsi.de/7.2.1/build/jsroot' ] }\n    })(['JSRootCore'],  function(Core) {\n       display_root_plot_1687591869235(Core);\n    });\n\n} else if (typeof JSROOT !== 'undefined') {\n\n   // JSROOT already loaded, just use it\n   display_root_plot_1687591869235(JSROOT);\n\n} else {\n\n    // We are in jupyterlab without require.js, directly loading jsroot\n    // Jupyterlab might be installed in a different base_url so we need to know it.\n    try {\n        var base_url = JSON.parse(document.getElementById('jupyter-config-data').innerHTML).baseUrl;\n    } catch(_) {\n        var base_url = '/';\n    }\n\n    // Try loading a local version of requirejs and fallback to cdn if not possible.\n    script_load_root_plot_1687591869235(base_url + 'static/build/jsroot.js', function(){\n        console.error('Fail to load JSROOT locally, please check your jupyter_notebook_config.py file');\n        script_load_root_plot_1687591869235('https://root.cern/js/7.2.1/build/jsroot.js', function(){\n            document.getElementById(\"root_plot_1687591869235\").innerHTML = \"Failed to load JSROOT\";\n        });\n    });\n}\n\n</script>\n"
     },
     "metadata": {},
     "output_type": "display_data"
    }
   ],
   "source": [
    "cluster_ncontrib = []\n",
    "cluster_centers = []\n",
    "cluster_ave_x = []\n",
    "cluster_ave_y = []\n",
    "cluster_sum_pz = []\n",
    "\n",
    "while True:\n",
    "    event+=1\n",
    "    ch.GetEntry(event)\n",
    "\n",
    "    secondary_hits_energy = R.EAC.get_score_secondary_hits_energy(mdst.mc_part_sim_status, mdst.mc_score_part_idx, mdst.mc_score_z, mdst.mc_score_px, mdst.mc_score_py, mdst.mc_score_pz)\n",
    "    primary_hits_energy = R.EAC.get_score_primary_hits_energy(mdst.mc_part_sim_status, mdst.mc_score_part_idx, mdst.mc_score_z, mdst.mc_score_px, mdst.mc_score_py, mdst.mc_score_pz)\n",
    "\n",
    "    mc_score_cluster_indexes = R.EAC.get_score_cluster_indexes(mdst.mc_score_pz,\n",
    "                                                               mdst.mc_score_x, mdst.mc_score_y, mdst.mc_score_z,\n",
    "                                                               mdst.ecal_cluster_x, mdst.ecal_cluster_y)\n",
    "    if len(mdst.ecal_cluster_energy) >= 3:\n",
    "        break\n",
    "\n",
    "#    if len(mc_score_cluster_indexes) >= 3:\n",
    "#        break\n",
    "#    if len(secondary_hits_energy) > 20:\n",
    "#        break\n",
    "#    if count>2:\n",
    "#        break\n",
    "#     if len(mdst.ecal_cluster_seed_ix) >= 3:\n",
    "#         break\n",
    "#     if len(mdst.ecal_cluster_seed_ix) >= 1:\n",
    "#         break\n",
    "   # break\n",
    "   #  if len(primary_hits_energy)>0 and primary_hits_energy[0]>3.2:\n",
    "   #      print(f\"event = {event}  E = {primary_hits_energy[0]}\")\n",
    "   #      break\n",
    "    # if len(primary_hits_energy)>0 and primary_hits_energy[0]>3.1:\n",
    "    #     print(f\"event = {event}  E = {primary_hits_energy[0]}\")\n",
    "    #     break\n",
    "\n",
    "    if event%1000 == 0:\n",
    "        print(f\"event = {event:6d}\")\n",
    "    if event >= ch.GetEntries():\n",
    "        break\n",
    "\n",
    "Print_Event()\n",
    "Show_Event()"
   ],
   "metadata": {
    "collapsed": false
   }
  },
  {
   "cell_type": "code",
   "execution_count": 19,
   "outputs": [
    {
     "name": "stderr",
     "output_type": "stream",
     "text": [
      "Info in <TCanvas::Print>: pdf file EcalSnapShot_many_score_clusters.pdf has been created\n"
     ]
    }
   ],
   "source": [
    "cc2.SaveAs(\"EcalSnapShot_many_score_clusters.pdf\")"
   ],
   "metadata": {
    "collapsed": false
   }
  },
  {
   "cell_type": "code",
   "execution_count": 13,
   "outputs": [
    {
     "name": "stdout",
     "output_type": "stream",
     "text": [
      "N ecal clusters:  2\n"
     ]
    }
   ],
   "source": [
    "print(f\"N ecal clusters: {len(mdst.ecal_cluster_x):2d}\")\n",
    "# R.EAC.get_score_secondary_hits_energy(mdst.mc_score_x, mdst.mc_score_part_idx, mdst.mc_score_z, mdst.mc_score_px, mdst.mc_score_py, mdst.mc_score_pz)"
   ],
   "metadata": {
    "collapsed": false
   }
  },
  {
   "cell_type": "code",
   "execution_count": 21,
   "outputs": [
    {
     "data": {
      "text/plain": "vector<double>{ 3.3477077 }"
     },
     "execution_count": 21,
     "metadata": {},
     "output_type": "execute_result"
    }
   ],
   "source": [
    "primary_hits_energy"
   ],
   "metadata": {
    "collapsed": false
   }
  },
  {
   "cell_type": "code",
   "execution_count": 22,
   "outputs": [
    {
     "data": {
      "text/plain": "vector<double>{ 0.013125315, 0.096487720 }"
     },
     "execution_count": 22,
     "metadata": {},
     "output_type": "execute_result"
    }
   ],
   "source": [
    "secondary_hits_energy"
   ],
   "metadata": {
    "collapsed": false
   }
  },
  {
   "cell_type": "code",
   "execution_count": 23,
   "outputs": [
    {
     "data": {
      "text/plain": "vector<int>{ 5 }"
     },
     "execution_count": 23,
     "metadata": {},
     "output_type": "execute_result"
    }
   ],
   "source": [
    "R.EAC.get_score_n_primary_hits(mdst.mc_part_sim_status, mdst.mc_score_part_idx, mdst.mc_score_z, mdst.mc_score_pz)"
   ],
   "metadata": {
    "collapsed": false
   }
  },
  {
   "cell_type": "code",
   "execution_count": 44,
   "outputs": [
    {
     "data": {
      "text/plain": "(0.5289242267608643,\n -0.08898834884166718,\n 2.951568365097046,\n 2.9999059281460463)"
     },
     "execution_count": 44,
     "metadata": {},
     "output_type": "execute_result"
    }
   ],
   "source": [
    "mdst.mc_score_px[6], mdst.mc_score_py[6], mdst.mc_score_pz[6], np.sqrt(mdst.mc_score_px[6]**2 + mdst.mc_score_py[6]**2 + mdst.mc_score_pz[6]**2)"
   ],
   "metadata": {
    "collapsed": false
   }
  },
  {
   "cell_type": "code",
   "execution_count": 27,
   "outputs": [
    {
     "name": "stdout",
     "output_type": "stream",
     "text": [
      "i_part = 0   E =    0.013  vz = 1107.6\n",
      "i = 23 - E= 0.013 sum =  0.013   p=( 0.001,-0.000, 0.013)  x=(   97.0,  -41.0, 1443.0)\n",
      "i_part = 1   E =    3.000  vz =    0.0\n",
      "i = 16 - E= 0.568 sum =  0.568   p=(-0.076, 0.545, 0.141)  x=(   82.3,   56.7, 1443.0)\n",
      "i = 20 - E= 0.021 sum =  0.589   p=( 0.001,-0.001, 0.021)  x=(   96.8,  -41.4, 1443.0)\n",
      "i = 22 - E= 1.704 sum =  2.292   p=( 0.064,-0.053, 1.702)  x=(   96.8,  -41.4, 1443.0)\n",
      "i = 27 - E= 0.709 sum =  3.002   p=( 0.028,-0.020, 0.708)  x=(   96.9,  -41.3, 1443.0)\n",
      "i = 28 - E= 0.346 sum =  3.348   p=( 0.211,-0.129, 0.242)  x=(  117.6,  -53.8, 1443.0)\n",
      "i_part = 2   E =    0.096  vz =  909.7\n",
      "i = 26 - E= 0.096 sum =  0.096   p=( 0.004,-0.003, 0.096)  x=(  100.7,  -41.3, 1443.0)\n",
      "[0.013125315374536019, 3.347707724448217, 0.09648771964466923]\n"
     ]
    }
   ],
   "source": [
    "out = []\n",
    "for i_part in range(len(mdst.mc_part_z)):\n",
    "    if np.uintc(mdst.mc_part_sim_status[primary_index]) & 0x1:\n",
    "        print(f\"i_part = {i_part}   E = {mdst.mc_part_energy[i_part]:8.3f}  vz = {mdst.mc_part_z[i_part]:6.1f}\")\n",
    "        sum = 0\n",
    "        for i in range(len(mdst.mc_score_part_idx)):\n",
    "            if (mdst.mc_score_z[i] > 1440) and (mdst.mc_score_pz[i] > 0.01) and mdst.mc_score_part_idx[i] == i_part :\n",
    "                E = np.sqrt(mdst.mc_score_px[i] * mdst.mc_score_px[i] + mdst.mc_score_py[i] * mdst.mc_score_py[i] + mdst.mc_score_pz[i] * mdst.mc_score_pz[i])\n",
    "                sum += E\n",
    "                print(f\"i = {i} - E={E:6.3f} sum = {sum:6.3f}   p=({mdst.mc_score_px[i]:6.3f},{mdst.mc_score_py[i]:6.3f},{mdst.mc_score_pz[i]:6.3f}) \"\n",
    "                      f\" x=({mdst.mc_score_x[i]:7.1f},{mdst.mc_score_y[i]:7.1f},{mdst.mc_score_z[i]:7.1f})\")\n",
    "        out.append(sum)\n",
    "print(out)"
   ],
   "metadata": {
    "collapsed": false
   }
  },
  {
   "cell_type": "code",
   "execution_count": 34,
   "outputs": [
    {
     "name": "stdout",
     "output_type": "stream",
     "text": [
      "Summary of the score plane hits:\n",
      "[15] [  1] pdg:11 p=(-0.000,-0.000, 0.000) ix=(   3.798,  -6.031) E =  0.000\n",
      "[16] [  1] pdg:11 p=(-0.076, 0.545, 0.141) ix=(   3.163,   1.438) E =  0.568\n",
      "[17] [  1] pdg:11 p=( 0.001,-0.001,-0.001) ix=(  10.562,  -9.623) E =  0.002\n",
      "[18] [  2] pdg:22 p=( 0.000, 0.001,-0.000) ix=( -22.993,   7.057) E =  0.001\n",
      "[19] [  1] pdg:11 p=(-0.000, 0.000,-0.000) ix=(   4.442,  -5.914) E =  0.000\n",
      "[20] [  1] pdg:11 p=( 0.001,-0.001, 0.021) ix=(   4.134,  -6.146) E =  0.021\n",
      "[21] [  0] pdg:22 p=(-0.001, 0.000,-0.001) ix=(   2.158,  -5.275) E =  0.001\n",
      "[22] [  1] pdg:11 p=( 0.064,-0.053, 1.702) ix=(   4.134,  -6.146) E =  1.704\n",
      "[23] [  0] pdg:22 p=( 0.001,-0.000, 0.013) ix=(   4.150,  -6.118) E =  0.013\n",
      "[24] [  1] pdg:11 p=( 0.000, 0.000, 0.000) ix=(   8.341,  -7.362) E =  0.000\n",
      "[25] [  1] pdg:11 p=( 0.000,-0.000, 0.001) ix=(   4.131,  -6.135) E =  0.001\n",
      "[26] [  2] pdg:22 p=( 0.004,-0.003, 0.096) ix=(   4.395,  -6.138) E =  0.096\n",
      "[27] [  1] pdg:11 p=( 0.028,-0.020, 0.708) ix=(   4.139,  -6.137) E =  0.709\n",
      "[28] [  1] pdg:11 p=( 0.211,-0.129, 0.242) ix=(   5.534,  -6.980) E =  0.346\n",
      "[29] [  1] pdg:11 p=( 0.000,-0.000,-0.000) ix=(  10.235, -14.841) E =  0.000\n",
      "[30] [  1] pdg:11 p=(-0.001, 0.000, 0.001) ix=(   2.854,  -5.528) E =  0.001\n",
      "[31] [  1] pdg:11 p=( 0.000,-0.000, 0.000) ix=(   4.134,  -6.146) E =  0.000\n",
      "Sum =  3.4641\n"
     ]
    }
   ],
   "source": [
    "print(\"Summary of the score plane hits:\")\n",
    "sum = 0\n",
    "for i in range(len(mdst.mc_score_pz)):\n",
    "    if( mdst.mc_score_z[i]>1440):\n",
    "        E = np.sqrt(mdst.mc_score_px[i]**2+mdst.mc_score_py[i]**2+mdst.mc_score_pz[i]**2)\n",
    "        sum += E\n",
    "        x = R.EAC.ecal_xpos_to_index(mdst.mc_score_x[i])\n",
    "        y = R.EAC.ecal_xpos_to_index(mdst.mc_score_y[i])\n",
    "        print(f\"[{i:2d}] [{mdst.mc_score_part_idx[i]:3d}] pdg:{mdst.mc_score_pdg[i]}\"\n",
    "              f\" p=({mdst.mc_score_px[i]:6.3f},{mdst.mc_score_py[i]:6.3f},{mdst.mc_score_pz[i]:6.3f})\"\n",
    "              f\" ix=({x:8.3f},{y:8.3f})\"\n",
    "              f\" E = {E:6.3f}\")\n",
    "\n",
    "print(f\"Sum = {sum:7.4f}\")"
   ],
   "metadata": {
    "collapsed": false
   }
  },
  {
   "cell_type": "code",
   "execution_count": 19,
   "outputs": [
    {
     "name": "stdout",
     "output_type": "stream",
     "text": [
      "--------------- Alt score cluster calc --------------\n",
      "i:  0 N =   1] idx= [  0] ( 15.66,  1.80) = (  270.1,   42.0) pz_sum = 1.1339\n",
      "i:  1 N =   2] idx= [  3] ( 12.40,  1.87) = (  220.5,   43.1) pz_sum = 1.7961\n",
      "i:  2 N =   1] idx= [  5] ( 12.41,  1.81) = (  220.8,   42.2) pz_sum = 0.0214\n"
     ]
    }
   ],
   "source": [
    "\n",
    "print(\"--------------- Alt score cluster calc --------------\")\n",
    "cluster_ncontrib.clear()\n",
    "cluster_centers.clear()\n",
    "cluster_ave_x.clear()\n",
    "cluster_ave_y.clear()\n",
    "cluster_sum_pz.clear()\n",
    "\n",
    "# Go through each mc_score hit. If not caused by primary, collect hits.\n",
    "count = 0;\n",
    "not_done = True\n",
    "has_been_used = [False]*len(mdst.mc_score_z)\n",
    "while not_done:\n",
    "    # Step one: find the maximum pz\n",
    "\n",
    "    index_max_pz = -1\n",
    "    for i in range(len(mdst.mc_score_z)):\n",
    "        if not has_been_used[i] and mdst.mc_score_z[i] > 1400 and mdst.mc_score_pz[i] > R.EAC.mc_score_pz_cut:\n",
    "            max_pz = mdst.mc_score_pz[i]\n",
    "            index_max_pz = i\n",
    "\n",
    "    if index_max_pz < 0:\n",
    "        not_done = False\n",
    "    else:\n",
    "        has_been_used[index_max_pz] = True\n",
    "        count += 1\n",
    "        x_loc = mdst.mc_score_x[index_max_pz]\n",
    "        y_loc = mdst.mc_score_y[index_max_pz]\n",
    "        pz_sum = mdst.mc_score_pz[index_max_pz]\n",
    "        x_ave = x_loc*pz_sum\n",
    "        y_ave = y_loc*pz_sum\n",
    "\n",
    "        n_contrib = 1\n",
    "        for i in range(len(mdst.mc_score_pdg)):\n",
    "            if not has_been_used[i] and mdst.mc_score_z[i] > 1400 and mdst.mc_score_pz[i] > 0.03 and abs(mdst.mc_score_x[i] - x_loc) < R.EAC.mc_score_close_cut and abs(mdst.mc_score_y[i] - y_loc) < R.EAC.mc_score_close_cut:\n",
    "                has_been_used[i] = True\n",
    "                x_ave += mdst.mc_score_x[i]*mdst.mc_score_pz[i]\n",
    "                y_ave += mdst.mc_score_y[i]*mdst.mc_score_pz[i]\n",
    "                pz_sum += mdst.mc_score_pz[i]\n",
    "                n_contrib += 1\n",
    "\n",
    "        x_ave = x_ave/pz_sum\n",
    "        y_ave = y_ave/pz_sum\n",
    "\n",
    "        cluster_centers.append(index_max_pz)\n",
    "        cluster_ave_x.append(x_ave)\n",
    "        cluster_ave_y.append(y_ave)\n",
    "        cluster_sum_pz.append(pz_sum)\n",
    "        print(f\"i: {count-1:2d} N = {n_contrib:3d}] idx= [{mdst.mc_score_part_idx[index_max_pz]:3d}] ({R.EAC.ecal_xpos_to_index(x_ave):6.2f},{R.EAC.ecal_ypos_to_index(y_ave):6.2f}) = ({x_ave:7.1f},{y_ave:7.1f}) pz_sum = {pz_sum:6.4f}\")\n"
   ],
   "metadata": {
    "collapsed": false
   }
  },
  {
   "cell_type": "code",
   "execution_count": 20,
   "outputs": [
    {
     "name": "stdout",
     "output_type": "stream",
     "text": [
      "0\n",
      "10000\n",
      "20000\n",
      "30000\n"
     ]
    }
   ],
   "source": [
    "for evt in range(ch.GetEntries()):\n",
    "    if evt%10000 == 0:\n",
    "        print(evt)\n",
    "    ch.GetEvent(evt)\n",
    "    idx = R.EAC.get_list_of_primary_mc(mdst.mc_part_sim_status)\n"
   ],
   "metadata": {
    "collapsed": false
   }
  },
  {
   "cell_type": "code",
   "execution_count": 50,
   "outputs": [
    {
     "name": "stdout",
     "output_type": "stream",
     "text": [
      "{ 3 }\n",
      "2.999999965564364\n"
     ]
    }
   ],
   "source": [
    "ch.GetEvent(110)\n",
    "idx = R.EAC.get_list_of_primary_mc(mdst.mc_part_sim_status)\n",
    "print(idx)\n",
    "print(mdst.mc_part_energy[idx[0]])"
   ],
   "metadata": {
    "collapsed": false
   }
  },
  {
   "cell_type": "code",
   "execution_count": 36,
   "outputs": [
    {
     "name": "stdout",
     "output_type": "stream",
     "text": [
      "0\n",
      "10000\n",
      "20000\n",
      "30000\n"
     ]
    }
   ],
   "source": [
    "for evt in range(ch.GetEntries()):\n",
    "    if evt%10000 == 0:\n",
    "        print(evt)\n",
    "    ch.GetEvent(evt)\n",
    "\n",
    "    for i in range(len(mdst.mc_part_sim_status)):\n",
    "        if ( mdst.mc_part_sim_status[i] & 0x01) == 0 and abs(mdst.mc_part_z[i]) < 1e-6:\n",
    "            print(f\"{np.uint(mdst.mc_part_sim_status[i]):064b}  {mdst.mc_part_z[i]}\")"
   ],
   "metadata": {
    "collapsed": false
   }
  },
  {
   "cell_type": "code",
   "execution_count": 51,
   "outputs": [
    {
     "name": "stdout",
     "output_type": "stream",
     "text": [
      "0  111.969\n",
      "0  513.472\n",
      "0  312.667\n",
      "0   61.811\n",
      "0  212.305\n",
      "1 1443.001\n",
      "1 1443.001\n",
      "1 1443.001\n",
      "1 1443.001\n",
      "1 1443.001\n",
      "1 1443.001\n",
      "1 1443.001\n",
      "1 1443.001\n",
      "1 1443.001\n",
      "1 1443.001\n",
      "1 1443.001\n",
      "1 1443.001\n",
      "1 1443.001\n",
      "1 1443.001\n",
      "1 1443.001\n",
      "1 1443.001\n",
      "1 1443.001\n",
      "1 1443.001\n",
      "1 1443.001\n",
      "1 1443.001\n"
     ]
    }
   ],
   "source": [
    "for i in range(len(mdst.mc_score_type)):\n",
    "    print(f\"{mdst.mc_score_type[i]} {mdst.mc_score_z[i]:8.3f}\")"
   ],
   "metadata": {
    "collapsed": false
   }
  },
  {
   "cell_type": "code",
   "execution_count": null,
   "outputs": [],
   "source": [],
   "metadata": {
    "collapsed": false
   }
  }
 ],
 "metadata": {
  "kernelspec": {
   "display_name": "Python 3",
   "language": "python",
   "name": "python3"
  },
  "language_info": {
   "codemirror_mode": {
    "name": "ipython",
    "version": 2
   },
   "file_extension": ".py",
   "mimetype": "text/x-python",
   "name": "python",
   "nbconvert_exporter": "python",
   "pygments_lexer": "ipython2",
   "version": "2.7.6"
  }
 },
 "nbformat": 4,
 "nbformat_minor": 0
}
