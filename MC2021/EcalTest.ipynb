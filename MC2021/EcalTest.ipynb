{
 "cells": [
  {
   "cell_type": "code",
   "execution_count": 1,
   "metadata": {
    "collapsed": true,
    "ExecuteTime": {
     "end_time": "2023-07-10T15:13:59.737279Z",
     "start_time": "2023-07-10T15:13:57.478794Z"
    }
   },
   "outputs": [
    {
     "name": "stdout",
     "output_type": "stream",
     "text": [
      "Welcome to JupyROOT 6.29/01\n"
     ]
    }
   ],
   "source": [
    "# Warning: Execute this cell only once for the kernel. Reset the kernel if you need changes.\n",
    "import sys\n",
    "sys.path.append(\"../Python\")\n",
    "import ROOT as R\n",
    "from array import array\n",
    "import time\n",
    "import numpy as np\n",
    "# Turn jsroot off if you want to make a pdf from this file.\n",
    "%jsroot off\n",
    "from root_helpers import SetStyle\n",
    "from root_helpers import fancy_plot\n",
    "from root_helpers import print_mc_particle_tree\n",
    "from root_helpers import print_daughters\n",
    "# R.EnableImplicitMT()"
   ]
  },
  {
   "cell_type": "code",
   "execution_count": 2,
   "outputs": [
    {
     "name": "stdout",
     "output_type": "stream",
     "text": [
      "Recompile is not needed\n"
     ]
    },
    {
     "data": {
      "text/plain": "'Utility Functions V1.0.6 \\n'"
     },
     "execution_count": 2,
     "metadata": {},
     "output_type": "execute_result"
    }
   ],
   "source": [
    "import os\n",
    "recompile = True\n",
    "try:\n",
    "    if os.path.getmtime('../Python/Utility_Functions_C.so') - os.path.getmtime('../Python/Utility_Functions.C') > 0:\n",
    "        recompile = False\n",
    "        print(\"Recompile is not needed\")\n",
    "    else:\n",
    "        print(\"Recompiling: \")\n",
    "except:\n",
    "    print(\"Recompile needed, file not found.\")\n",
    "if recompile:\n",
    "    R.gROOT.LoadMacro(\"../Python/Utility_Functions.C++\")\n",
    "else:\n",
    "    R.gSystem.Load(\"../Python/Utility_Functions_C.so\")\n",
    "R.Utility_Functions()"
   ],
   "metadata": {
    "collapsed": false,
    "ExecuteTime": {
     "end_time": "2023-07-10T15:13:59.932681Z",
     "start_time": "2023-07-10T15:13:59.738758Z"
    }
   }
  },
  {
   "cell_type": "code",
   "execution_count": 3,
   "outputs": [
    {
     "name": "stdout",
     "output_type": "stream",
     "text": [
      "V1.0.8\n"
     ]
    }
   ],
   "source": [
    "R.gSystem.Load(\"/data/HPS/lib/libMiniDST\")\n",
    "R.gSystem.Load(\"lib/libMC2021\")\n",
    "R.gInterpreter.ProcessLine('''auto EAC = Ecal_Analysis_Class();''')   # This is key. It puts the EAC in C++ space.\n",
    "print(f\"{R.EAC.Version()}\")"
   ],
   "metadata": {
    "collapsed": false,
    "ExecuteTime": {
     "end_time": "2023-07-10T15:14:01.195179Z",
     "start_time": "2023-07-10T15:14:01.063468Z"
    }
   }
  },
  {
   "cell_type": "code",
   "execution_count": 4,
   "outputs": [
    {
     "name": "stdout",
     "output_type": "stream",
     "text": [
      "Number of events loaded:   0.005M\n"
     ]
    }
   ],
   "source": [
    "ch = R.TChain(\"MiniDST\")\n",
    "ch.Add(\"/data/HPS/data/MC/emumu_calchep/events_4p55GeV_000_slic_recon.root\")\n",
    "# ch.Add(\"/data/HPS/data/MC/mum_2019/mum_1_2019.root\")\n",
    "# ch.Add(\"/data/HPS/data/physrun2021/sim_2021/hpsForward_e-_3.0GeV_z0.0_*_SLIC-v06-00-01_QGSP_BERT_HPS-v2019-3pt7GeV_recon.root\")\n",
    "# ch.Add(\"/data/HPS/data/physrun2021/sim_2021/new_e-*.root\")\n",
    "# ch.Add(\"/data/HPS/data/physrun2021/pass0/minidst/hps_0147*.root\")\n",
    "print(f\"Number of events loaded: {ch.GetEntries()/1e6:7.3f}M\")"
   ],
   "metadata": {
    "collapsed": false,
    "ExecuteTime": {
     "end_time": "2023-07-10T15:14:04.867235Z",
     "start_time": "2023-07-10T15:14:04.673818Z"
    }
   }
  },
  {
   "cell_type": "code",
   "execution_count": 5,
   "outputs": [
    {
     "name": "stdout",
     "output_type": "stream",
     "text": [
      "Available data names in Tuple:\n",
      "\n",
      "ecal_cluster_energy           ecal_cluster_hits             ecal_cluster_nhits            ecal_cluster_seed_energy      \n",
      "ecal_cluster_seed_index       ecal_cluster_seed_ix          ecal_cluster_seed_iy          ecal_cluster_time             \n",
      "ecal_cluster_uncor_energy     ecal_cluster_uncor_hits       ecal_cluster_uncor_nhits      ecal_cluster_uncor_seed_energy\n",
      "ecal_cluster_uncor_seed_index ecal_cluster_uncor_seed_ix    ecal_cluster_uncor_seed_iy    ecal_cluster_uncor_time       \n",
      "ecal_cluster_uncor_x          ecal_cluster_uncor_y          ecal_cluster_uncor_z          ecal_cluster_x                \n",
      "ecal_cluster_y                ecal_cluster_z                ecal_hit_energy               ecal_hit_index_x              \n",
      "ecal_hit_index_y              ecal_hit_time                 ecal_hit_x                    ecal_hit_y                    \n",
      "ecal_hit_z                    event_number                  ext_trigger                   hodo_cluster_energy           \n",
      "hodo_cluster_ix               hodo_cluster_iy               hodo_cluster_layer            hodo_cluster_time             \n",
      "hodo_hit_energy               hodo_hit_hole                 hodo_hit_index_x              hodo_hit_index_y              \n",
      "hodo_hit_layer                hodo_hit_time                 mc_part_charge                mc_part_daughters             \n",
      "mc_part_end_x                 mc_part_end_y                 mc_part_end_z                 mc_part_energy                \n",
      "mc_part_id                    mc_part_mass                  mc_part_parents               mc_part_pdg                   \n",
      "mc_part_primary_index         mc_part_px                    mc_part_py                    mc_part_pz                    \n",
      "mc_part_sim_status            mc_part_time                  mc_part_x                     mc_part_y                     \n",
      "mc_part_z                     mc_score_cluster_e            mc_score_cluster_indexes      mc_score_cluster_pz           \n",
      "mc_score_cluster_x            mc_score_cluster_y            mc_score_part_idx             mc_score_pdg                  \n",
      "mc_score_primary_hits_e       mc_score_px                   mc_score_py                   mc_score_pz                   \n",
      "mc_score_secondary_hits_e     mc_score_time                 mc_score_type                 mc_score_x                    \n",
      "mc_score_y                    mc_score_z                    n_mc_score_primary_hits       n_mc_score_secondary_hits     \n",
      "part_charge                   part_ecal_cluster             part_energy                   part_goodness_of_pid          \n",
      "part_lcio_type                part_mass                     part_pdg                      part_px                       \n",
      "part_py                       part_pz                       part_track                    part_track_chi2               \n",
      "part_type                     rf_time1                      rf_time2                      run_number                    \n",
      "svt_status                    time_stamp                    track_chi2                    track_covmatrix               \n",
      "track_d0                      track_gbl_ref                 track_isolation               track_lambda_kinks            \n",
      "track_n_gbl                   track_n_hits                  track_n_kf                    track_n_matched               \n",
      "track_omega                   track_particle                track_phi0                    track_phi_kinks               \n",
      "track_px                      track_py                      track_pz                      track_ref                     \n",
      "track_svt_hits                track_tan_lambda              track_time                    track_type                    \n",
      "track_volume                  track_x_at_ecal               track_y_at_ecal               track_z0                      \n",
      "track_z_at_ecal               trigger                       v0_charge                     v0_em_chi2                    \n",
      "v0_em_clus                    v0_em_clus_energy             v0_em_clus_ix                 v0_em_clus_iy                 \n",
      "v0_em_clus_pos_x              v0_em_clus_pos_y              v0_em_clus_time               v0_em_good_pid                \n",
      "v0_em_p                       v0_em_part                    v0_em_pos_ecal_x              v0_em_pos_ecal_y              \n",
      "v0_em_track                   v0_em_track_nhit              v0_em_track_time              v0_energy                     \n",
      "v0_ep_chi2                    v0_ep_clus                    v0_ep_clus_energy             v0_ep_clus_ix                 \n",
      "v0_ep_clus_iy                 v0_ep_clus_pos_x              v0_ep_clus_pos_y              v0_ep_clus_time               \n",
      "v0_ep_good_pid                v0_ep_p                       v0_ep_part                    v0_ep_pos_ecal_x              \n",
      "v0_ep_pos_ecal_y              v0_ep_track                   v0_ep_track_nhit              v0_ep_track_time              \n",
      "v0_goodness_of_pid            v0_lcio_type                  v0_mass                       v0_mass_err                   \n",
      "v0_pdg                        v0_px                         v0_py                         v0_pz                         \n",
      "v0_type                       v0_vertex_chi2                v0_vertex_prob                v0_vertex_x                   \n",
      "v0_vertex_y                   v0_vertex_z                   "
     ]
    }
   ],
   "source": [
    "df = R.RDataFrame(ch)\n",
    "dfx = R.EAC.extend_dataframe(R.RDF.AsRNode(df))\n",
    "print(\"Available data names in Tuple:\")\n",
    "ColumnNames=dfx.GetColumnNames()\n",
    "ll = 0\n",
    "pr_colnames = [x for x in ColumnNames if str(x).startswith('')]\n",
    "for nn in pr_colnames:\n",
    "    if ll < len(nn):\n",
    "        ll = len(nn)\n",
    "for n in range(len(pr_colnames)):\n",
    "    if n%4 == 0:\n",
    "        print(\"\")\n",
    "    print(f\"{str(pr_colnames[n]):{ll}s}\",end=\"\")"
   ],
   "metadata": {
    "collapsed": false,
    "ExecuteTime": {
     "end_time": "2023-07-10T15:14:08.454973Z",
     "start_time": "2023-07-10T15:14:08.219680Z"
    }
   }
  },
  {
   "cell_type": "code",
   "execution_count": 6,
   "outputs": [
    {
     "name": "stdout",
     "output_type": "stream",
     "text": [
      "MminiDST version = 1.0.9\n"
     ]
    }
   ],
   "source": [
    "def make_ecal_snaphot(mini_dst, hist, opt=0):\n",
    "    \"\"\"Return a 2D histogram for the ECal, with the energy of the hits on the z-axis\"\"\"\n",
    "    if hist is None:\n",
    "        hist = R.TH2D(\"hist_ecal\",\"Ecal Hits\",50,-25.5,24.5,13,-6.5,6.5)\n",
    "    else:\n",
    "        hist.Reset()\n",
    "    # Fill the histogram by looping over the ECal hits\n",
    "    for i in range(len(mini_dst.ecal_hit_index_x)):\n",
    "        hist.Fill(mini_dst.ecal_hit_index_x[i], mini_dst.ecal_hit_index_y[i], mini_dst.ecal_hit_energy[i])\n",
    "    return hist\n",
    "\n",
    "# Setup the MiniDST class, which makes for easier event by event data inplection.\n",
    "# This MiniDST class looks directly into the TTree, so does not use the RDataframe class.\n",
    "# You need to:\n",
    "mdst = R.MiniDst()          # Initiate the class\n",
    "mdst.use_mc_particles=True  # Tell it to look for the MC Particles in the TTree\n",
    "mdst.use_ecal_cluster_uncor = True\n",
    "mdst.use_mc_scoring =True\n",
    "mdst.DefineBranchMap()      # Define the map of all the branches to the contents of the TTree\n",
    "mdst.SetBranchAddressesOnTree(ch) # Connect the TChain (which contains the TTree) to the class.\n",
    "print(f\"MminiDST version = {mdst._version_()}\")\n",
    "event = 1"
   ],
   "metadata": {
    "collapsed": false,
    "ExecuteTime": {
     "end_time": "2023-07-10T15:14:12.767966Z",
     "start_time": "2023-07-10T15:14:12.447527Z"
    }
   }
  },
  {
   "cell_type": "code",
   "execution_count": 7,
   "outputs": [],
   "source": [
    "event = 0\n",
    "primary_index = -1\n",
    "def Print_Event():\n",
    "    global event, primary_index\n",
    "\n",
    "    print(f\"event = {event} Run: {mdst.run_number}, Event Num:{mdst.event_number}\")\n",
    "    print(f\"NClusters: {len(mdst.ecal_cluster_seed_ix)} :\",end=\"\")\n",
    "    for i in range(len(mdst.ecal_cluster_seed_index)):\n",
    "        print(f\" [{mdst.ecal_cluster_seed_index[i]}]({mdst.ecal_cluster_x[i]:7.3f},{mdst.ecal_cluster_y[i]:7.3f},{mdst.ecal_cluster_uncor_energy[i]:7.3f})\", end=\",\")\n",
    "    print(\"\\n\")\n",
    "    print(\"   i |   x |   y |  Energy  \")\n",
    "    esum=0\n",
    "    print(\"----------------------------\")\n",
    "    for i in range(len(mdst.ecal_hit_index_x)):\n",
    "        print(f\" {i:3d} | {mdst.ecal_hit_index_x[i]:3d} | {mdst.ecal_hit_index_y[i]:3d} | {mdst.ecal_hit_energy[i]:7.5f} \")\n",
    "        esum+=mdst.ecal_hit_energy[i]\n",
    "    print(f\"Energy sum = {esum}\")\n",
    "    print_mc_particle_tree(mdst)\n",
    "    primary_index = -1\n",
    "    for i in range(len(mdst.mc_part_z)):\n",
    "        if abs(mdst.mc_part_z[i])<1e-6:\n",
    "            primary_index = i\n",
    "            break\n",
    "    print(f\"primary_index = {primary_index}\")\n",
    "    status = np.uintc(mdst.mc_part_sim_status[primary_index])\n",
    "    print(f\"Status: {status:d} = {status:033b} Decay in Cal? {status >> 26 & 1}\")\n",
    "    print(\"-------------\")\n",
    "    # print(mdst.ecal_hit_index_x)\n",
    "    # print(mdst.ecal_hit_index_y)"
   ],
   "metadata": {
    "collapsed": false,
    "ExecuteTime": {
     "end_time": "2023-07-10T15:14:12.880710Z",
     "start_time": "2023-07-10T15:14:12.771777Z"
    }
   }
  },
  {
   "cell_type": "code",
   "execution_count": 8,
   "outputs": [],
   "source": [
    "cc2 = R.TCanvas(\"cc2\",\"Canvas\",900,600)\n",
    "legend2 = None\n",
    "hh = None\n",
    "ones = None\n",
    "dot_graph = None\n",
    "dot2_graph = None\n",
    "dot3_graph = None\n",
    "dot4_graph = None\n",
    "clus_dot_graph = None\n",
    "clus_dot_uncor_graph = None\n",
    "track_dot_graph = None\n",
    "cl_idx = None\n",
    "\n",
    "\n",
    "def Show_Event():\n",
    "    global hh, ones, dot_graph, dot2_graph, dot3_graph, clus_dot_graph, clus_dot_uncor_graph, track_dot_graph, legend2\n",
    "    global cl_idx\n",
    "    global dot4_graph\n",
    "\n",
    "    hh = make_ecal_snaphot(mdst, hh, 0)\n",
    "    hh.SetStats(0)\n",
    "    cc2.Clear()\n",
    "    ones = fancy_plot(hh, ones, 0x0)\n",
    "    pzsum = 0;\n",
    "    print(f\"Primary particle into scoring plane, index = {primary_index}\")\n",
    "    x_ave = 0\n",
    "    y_ave = 0\n",
    "    x_dots = array('d')\n",
    "    y_dots = array('d')\n",
    "    x_dots2 = array('d')\n",
    "    y_dots2 = array('d')\n",
    "    x_dots3 = array('d')\n",
    "    y_dots3 = array('d')\n",
    "    x_dots4 = array('d')\n",
    "    y_dots4 = array('d')\n",
    "\n",
    "    for i in range(len(mdst.mc_score_pdg)):\n",
    "        if mdst.mc_score_z[i] > 1400 and mdst.mc_score_pz[i] > 0.01 and mdst.mc_score_part_idx[i] == primary_index :  # and mdst.mc_score_pz[i] > 2.8\n",
    "            pzsum += mdst.mc_score_pz[i]\n",
    "            x_ave += mdst.mc_score_x[i]*mdst.mc_score_pz[i]\n",
    "            y_ave += mdst.mc_score_y[i]*mdst.mc_score_pz[i]\n",
    "            print(f\"[{mdst.mc_score_part_idx[i]:3d}] {mdst.mc_score_pdg[i]:3d} ({mdst.mc_score_x[i]:7.1f},{mdst.mc_score_y[i]:7.1f}) pz={mdst.mc_score_pz[i]:7.5f}\")\n",
    "\n",
    "    if pzsum == 0:\n",
    "        x_ave = 0\n",
    "        y_ave = 0\n",
    "    else:\n",
    "        x_ave = x_ave/pzsum\n",
    "        y_ave = y_ave/pzsum\n",
    "        x_dots.append(R.EAC.ecal_xpos_to_index(x_ave))\n",
    "        y_dots.append(R.EAC.ecal_ypos_to_index(y_ave))\n",
    "\n",
    "    print(f\"Primary hits: (x,y)_ave = ({x_ave:7.1f}, {y_ave:7.1f}) Pz sum = {pzsum:7.4f}\")\n",
    "    print(\"Secondary particles:\")\n",
    "    for i in range(len(mdst.mc_score_pdg)):\n",
    "        if mdst.mc_score_z[i] > 1400 and mdst.mc_score_pz[i] > 0.01 and mdst.mc_score_part_idx[i] != primary_index :  # and mdst.mc_score_pz[i] > 2.8\n",
    "            x_dots2.append(R.EAC.ecal_xpos_to_index(mdst.mc_score_x[i]))\n",
    "            y_dots2.append(R.EAC.ecal_ypos_to_index(mdst.mc_score_y[i]))\n",
    "            pzsum += mdst.mc_score_pz[i]\n",
    "            print(f\"{len(x_dots2)-1:2d}:{i:3d} [{mdst.mc_score_part_idx[i]:3d}] {mdst.mc_score_pdg[i]:3d} ({mdst.mc_score_x[i]:7.1f},{mdst.mc_score_y[i]:7.1f}) pz={mdst.mc_score_pz[i]:7.5f}\")\n",
    "\n",
    "    print(f\"Pz sum = {pzsum}\")\n",
    "\n",
    "    print(\"Score Clusters:\")\n",
    "    cl_idx = R.EAC.get_score_cluster_indexes(mdst.mc_score_pz, mdst.mc_score_x, mdst.mc_score_y, mdst.mc_score_z,\n",
    "                                             mdst.ecal_cluster_x, mdst.ecal_cluster_y)\n",
    "    x_aves = R.EAC.get_score_cluster_loc(cl_idx, mdst.mc_score_x, mdst.mc_score_pz)\n",
    "    y_aves = R.EAC.get_score_cluster_loc(cl_idx, mdst.mc_score_y, mdst.mc_score_pz)\n",
    "    pz_sums = R.EAC.get_score_cluster_pz(cl_idx, mdst.mc_score_pz)\n",
    "    e_sums = R.EAC.get_score_cluster_e(cl_idx, mdst.mc_score_px, mdst.mc_score_py, mdst.mc_score_pz)\n",
    "    # for i in range(len(cl_idx)):\n",
    "    #     x_ave = 0\n",
    "    #     y_ave = 0\n",
    "    #     pzsum = 0\n",
    "    #     for j in range(len(cl_idx[i])):\n",
    "    #         idx = cl_idx[i][j]\n",
    "    #         x_ave += mdst.mc_score_x[idx]*mdst.mc_score_pz[idx]\n",
    "    #         y_ave += mdst.mc_score_y[idx]*mdst.mc_score_pz[idx]\n",
    "    #         pzsum += mdst.mc_score_pz[idx]\n",
    "    #\n",
    "    #     x_ave = x_ave/pzsum\n",
    "    #     y_ave = y_ave/pzsum\n",
    "    for i in range(len(x_aves)):\n",
    "        x_ave = x_aves[i]\n",
    "        y_ave = y_aves[i]\n",
    "        pzsum = pz_sums[i]\n",
    "        print(f\"i: {i:2d} N={len(cl_idx[i]):3d} ({R.EAC.ecal_xpos_to_index(x_ave):6.2f},{R.EAC.ecal_ypos_to_index(y_ave):6.2f}) ({x_ave:7.1f},{y_ave:7.1f}) pz = {pzsum:7.4f}\")\n",
    "        x_dots3.append(R.EAC.ecal_xpos_to_index(x_ave))\n",
    "        y_dots3.append(R.EAC.ecal_ypos_to_index(y_ave))\n",
    "\n",
    "    # Fill the individual score plane hits\n",
    "    for i in range(len(mdst.mc_score_x)):\n",
    "        if mdst.mc_score_pz[i] > 0.05 and mdst.mc_score_z[i] > 1440:\n",
    "             x_dots4.append(R.EAC.ecal_xpos_to_index(mdst.mc_score_x[i]))\n",
    "             y_dots4.append(R.EAC.ecal_ypos_to_index(mdst.mc_score_y[i]))\n",
    "\n",
    "    x_clus_dot = array('d')\n",
    "    y_clus_dot = array('d')\n",
    "    x_clus_uncor_dot = array('d')\n",
    "    y_clus_uncor_dot = array('d')\n",
    "\n",
    "    for i in range(len(mdst.ecal_cluster_seed_ix)):\n",
    "        print(f\"Cluster: ({mdst.ecal_cluster_seed_ix[i]:3d},{mdst.ecal_cluster_seed_iy[i]:2d}) ({mdst.ecal_cluster_x[i]:6.2f},{mdst.ecal_cluster_y[i]:6.2f}) ({mdst.ecal_cluster_uncor_x[i]:6.2f}, {mdst.ecal_cluster_uncor_y[i]:6.2f}) E={mdst.ecal_cluster_uncor_energy[i]:7.4f} GeV\")\n",
    "        x_clus_dot.append(R.EAC.ecal_xpos_to_index(mdst.ecal_cluster_x[i]))\n",
    "        y_clus_dot.append(R.EAC.ecal_ypos_to_index(mdst.ecal_cluster_y[i]))\n",
    "        x_clus_uncor_dot.append(R.EAC.ecal_xpos_to_index(mdst.ecal_cluster_uncor_x[i]))\n",
    "        y_clus_uncor_dot.append(R.EAC.ecal_ypos_to_index(mdst.ecal_cluster_uncor_y[i]))\n",
    "\n",
    "\n",
    "    x_track = array('d')\n",
    "    y_track = array('d')\n",
    "    for i in range(len(mdst.track_x_at_ecal)):\n",
    "        if mdst.track_type[i] == 1:\n",
    "            print(f\"Track:            ({mdst.track_x_at_ecal[i]:6.2f},{mdst.track_y_at_ecal[i]:6.2f},{mdst.track_z_at_ecal[i]:6.2f}) P=({mdst.track_px[i]:6.2f},{mdst.track_py[i]:6.2f},{mdst.track_pz[i]:6.2f})\")\n",
    "            x_track.append(R.EAC.ecal_xpos_to_index(mdst.track_x_at_ecal[i]))\n",
    "            y_track.append(R.EAC.ecal_ypos_to_index(mdst.track_y_at_ecal[i]))\n",
    "\n",
    "    legend2 = R.TLegend(0.,0.8,0.25,0.99)\n",
    "\n",
    "    if len(x_dots)>0:\n",
    "        dot_graph = R.TGraph(len(x_dots), x_dots, y_dots)\n",
    "        dot_graph.SetMarkerColor(R.kRed)\n",
    "        dot_graph.SetMarkerSize(1.5)\n",
    "        dot_graph.SetMarkerStyle(R.kFullCircle)\n",
    "        dot_graph.Draw(\"P\")\n",
    "        legend2.AddEntry(dot_graph,\"Score plane primary hit\")\n",
    "\n",
    "    if len(x_dots3)>0:\n",
    "        dot3_graph = R.TGraph(len(x_dots3), x_dots3, y_dots3)\n",
    "        dot3_graph.SetMarkerColor(R.kOrange+2)\n",
    "        dot3_graph.SetMarkerSize(1.1)\n",
    "        dot3_graph.SetMarkerStyle(R.kFullCircle)\n",
    "        dot3_graph.Draw(\"P\")\n",
    "        legend2.AddEntry(dot3_graph,\"Score plane clusters\")\n",
    "\n",
    "    if len(x_dots2)>0:\n",
    "        dot2_graph = R.TGraph(len(x_dots2), x_dots2, y_dots2)\n",
    "        dot2_graph.SetMarkerColor(R.kOrange)\n",
    "        dot2_graph.SetMarkerSize(0.5)\n",
    "        dot2_graph.SetMarkerStyle(R.kFullCircle)\n",
    "        dot2_graph.Draw(\"P\")\n",
    "        legend2.AddEntry(dot2_graph,\"Score plane secondary hit\")\n",
    "\n",
    "    if len(x_dots4)>0:\n",
    "        #print(\"Plot the ecal hits\")\n",
    "        dot4_graph = R.TGraph(len(x_dots4), x_dots4, y_dots4)\n",
    "        dot4_graph.SetMarkerColor(R.kRed)\n",
    "        dot4_graph.SetMarkerSize(0.3)\n",
    "        dot4_graph.SetMarkerStyle(R.kFullCircle)\n",
    "        dot4_graph.Draw(\"P\")\n",
    "        legend2.AddEntry(dot4_graph,\"Score hits\")\n",
    "\n",
    "\n",
    "    if len(x_clus_dot)>0:\n",
    "        clus_dot_graph = R.TGraph(len(x_clus_dot), x_clus_dot, y_clus_dot)\n",
    "        clus_dot_graph.SetMarkerColor(R.kGreen+1)\n",
    "        clus_dot_graph.SetMarkerSize(1.)\n",
    "        clus_dot_graph.SetMarkerStyle(R.kFullCircle)\n",
    "        clus_dot_graph.Draw(\"P\")\n",
    "        legend2.AddEntry(clus_dot_graph,\"Cluster center\")\n",
    "\n",
    "    if len(x_clus_uncor_dot)>0:\n",
    "        clus_dot_uncor_graph = R.TGraph(len(x_clus_uncor_dot), x_clus_uncor_dot, y_clus_uncor_dot)\n",
    "        clus_dot_uncor_graph.SetMarkerColor(R.kCyan)\n",
    "        clus_dot_uncor_graph.SetMarkerSize(0.9)\n",
    "        clus_dot_uncor_graph.SetMarkerStyle(R.kFullCircle)\n",
    "        clus_dot_uncor_graph.Draw(\"P\")\n",
    "        legend2.AddEntry(clus_dot_uncor_graph,\"Cluster center uncor\")\n",
    "\n",
    "    if len(x_track)>0:\n",
    "        track_dot_graph = R.TGraph(len(x_track), x_track, y_track)\n",
    "        track_dot_graph.SetMarkerColor(R.kViolet)\n",
    "        track_dot_graph.SetMarkerSize(.5)\n",
    "        track_dot_graph.SetMarkerStyle(R.kFullCircle)\n",
    "        track_dot_graph.Draw(\"P\")\n",
    "        legend2.AddEntry(track_dot_graph,\"Track pos at ecal\")\n",
    "\n",
    "    legend2.Draw()\n",
    "    cc2.Draw()"
   ],
   "metadata": {
    "collapsed": false,
    "ExecuteTime": {
     "end_time": "2023-07-10T15:14:14.327631Z",
     "start_time": "2023-07-10T15:14:14.214334Z"
    }
   }
  },
  {
   "cell_type": "code",
   "execution_count": 10,
   "outputs": [
    {
     "name": "stdout",
     "output_type": "stream",
     "text": [
      "event = 2 Run: 1193700, Event Num:-138\n",
      "NClusters: 2 : [1](159.256, 64.832,  0.183), [2](-92.735,-54.519,  0.185),\n",
      "\n",
      "   i |   x |   y |  Energy  \n",
      "----------------------------\n",
      "   0 | -12 |  -3 | 0.03246 \n",
      "   1 |  10 |   3 | 0.18321 \n",
      "   2 | -11 |  -3 | 0.15304 \n",
      "Energy sum = 0.3687085770070553\n",
      "   0  pdg:   11  E:  0.527539 p = ( 0.015385,-0.004788, 0.527293)v = ( 0.00, 0.00, 0.00) end=(-188.24,-6.92,839.92)\n",
      "              | \n",
      "              4  pdg:   22  E:  0.079092 p = (-0.036664,-0.001380, 0.070067)v = (-188.24,-6.92,839.92) end=(-194.96,-7.17,852.75)\n",
      "                         | \n",
      "                         1  pdg:   11  E:  0.025601 p = (-0.012588, 0.000534, 0.022280)v = (-194.96,-7.17,852.75) end=( 0.00, 0.00, 0.00)\n",
      "              5  pdg:   22  E:  0.310736 p = (-0.149836,-0.018388, 0.271602)v = (-194.54,-7.45,851.68) end=(-198.63,-7.95,859.11)\n",
      "                         | \n",
      "                         2  pdg:  -11  E:  0.225985 p = (-0.108813,-0.010687, 0.197774)v = (-198.63,-7.95,859.11) end=(-205.46,25.86,1002.06)\n",
      "                                    | \n",
      "                                    7  pdg:   22  E:  0.002635 p = ( 0.001054, 0.000539, 0.002354)v = (-205.46,25.86,1002.06) end=(465.35,368.65,2500.00)\n",
      "   3  pdg:   13  E:  1.854071 p = ( 0.062962,-0.067033, 1.848772)v = ( 0.00, 0.00, 0.00) end=(-358.47,-141.87,2500.00)\n",
      "   6  pdg:  -13  E:  2.168459 p = ( 0.061433, 0.079454, 2.163553)v = ( 0.00, 0.00, 0.00) end=(339.70,98.81,2500.00)\n",
      "primary_index = 0\n",
      "Status: 150994945 = 000001001000000000000000000000001 Decay in Cal? 0\n",
      "-------------\n",
      "Primary particle into scoring plane, index = 0\n",
      "Primary hits: (x,y)_ave = (    0.0,     0.0) Pz sum =  0.0000\n",
      "Secondary particles:\n",
      " 0: 28 [  6] -13 (  173.5,   53.0) pz=2.11168\n",
      " 1: 31 [  3]  13 ( -107.3,  -51.2) pz=1.82198\n",
      "Pz sum = 3.933659315109253\n",
      "Score Clusters:\n",
      "i:  0 N=  1 (  9.27,  2.53) (  173.5,   53.0) pz =  2.1117\n",
      "i:  1 N=  1 (-10.55, -2.48) ( -107.3,  -51.2) pz =  1.8220\n",
      "Cluster: ( 10, 3) (159.26, 64.83) (171.65,  56.66) E= 0.1832 GeV\n",
      "Cluster: (-11,-3) (-92.73,-54.52) (-104.38, -55.77) E= 0.1855 GeV\n",
      "Track:            (-111.08,-51.42,1448.00) P=(  0.06, -0.07,  1.85)\n",
      "Track:            (176.27, 53.78,1448.00) P=(  0.06,  0.08,  2.22)\n"
     ]
    },
    {
     "data": {
      "image/png": "[encoded data removed]",
      "text/plain": "<IPython.core.display.Image object>"
     },
     "metadata": {},
     "output_type": "display_data"
    }
   ],
   "source": [
    "cluster_ncontrib = []\n",
    "cluster_centers = []\n",
    "cluster_ave_x = []\n",
    "cluster_ave_y = []\n",
    "cluster_sum_pz = []\n",
    "\n",
    "while True:\n",
    "    event+=1\n",
    "    ch.GetEntry(event)\n",
    "\n",
    "    secondary_hits_energy = R.EAC.get_score_secondary_hits_energy(mdst.mc_part_sim_status, mdst.mc_score_part_idx, mdst.mc_score_z, mdst.mc_score_px, mdst.mc_score_py, mdst.mc_score_pz)\n",
    "    primary_hits_energy = R.EAC.get_score_primary_hits_energy(mdst.mc_part_sim_status, mdst.mc_score_part_idx, mdst.mc_score_z, mdst.mc_score_px, mdst.mc_score_py, mdst.mc_score_pz)\n",
    "\n",
    "    mc_score_cluster_indexes = R.EAC.get_score_cluster_indexes(mdst.mc_score_pz,\n",
    "                                                               mdst.mc_score_x, mdst.mc_score_y, mdst.mc_score_z,\n",
    "                                                               mdst.ecal_cluster_x, mdst.ecal_cluster_y)\n",
    "    if len(mdst.ecal_cluster_energy) >= 1:\n",
    "        break\n",
    "\n",
    "#    if len(mc_score_cluster_indexes) >= 3:\n",
    "#        break\n",
    "#    if len(secondary_hits_energy) > 20:\n",
    "#        break\n",
    "#    if count>2:\n",
    "#        break\n",
    "#     if len(mdst.ecal_cluster_seed_ix) >= 3:\n",
    "#         break\n",
    "#     if len(mdst.ecal_cluster_seed_ix) >= 1:\n",
    "#         break\n",
    "   # break\n",
    "   #  if len(primary_hits_energy)>0 and primary_hits_energy[0]>3.2:\n",
    "   #      print(f\"event = {event}  E = {primary_hits_energy[0]}\")\n",
    "   #      break\n",
    "    # if len(primary_hits_energy)>0 and primary_hits_energy[0]>3.1:\n",
    "    #     print(f\"event = {event}  E = {primary_hits_energy[0]}\")\n",
    "    #     break\n",
    "\n",
    "    if event%1000 == 0:\n",
    "        print(f\"event = {event:6d}\")\n",
    "    if event >= ch.GetEntries():\n",
    "        break\n",
    "\n",
    "Print_Event()\n",
    "Show_Event()"
   ],
   "metadata": {
    "collapsed": false,
    "ExecuteTime": {
     "end_time": "2023-07-10T15:15:47.249621Z",
     "start_time": "2023-07-10T15:15:46.999671Z"
    }
   }
  },
  {
   "cell_type": "code",
   "execution_count": 19,
   "outputs": [
    {
     "name": "stderr",
     "output_type": "stream",
     "text": [
      "Info in <TCanvas::Print>: pdf file EcalSnapShot_many_score_clusters.pdf has been created\n"
     ]
    }
   ],
   "source": [
    "cc2.SaveAs(\"EcalSnapShot_many_score_clusters.pdf\")"
   ],
   "metadata": {
    "collapsed": false
   }
  },
  {
   "cell_type": "code",
   "execution_count": 13,
   "outputs": [
    {
     "name": "stdout",
     "output_type": "stream",
     "text": [
      "N ecal clusters:  2\n"
     ]
    }
   ],
   "source": [
    "print(f\"N ecal clusters: {len(mdst.ecal_cluster_x):2d}\")\n",
    "# R.EAC.get_score_secondary_hits_energy(mdst.mc_score_x, mdst.mc_score_part_idx, mdst.mc_score_z, mdst.mc_score_px, mdst.mc_score_py, mdst.mc_score_pz)"
   ],
   "metadata": {
    "collapsed": false
   }
  },
  {
   "cell_type": "code",
   "execution_count": 21,
   "outputs": [
    {
     "data": {
      "text/plain": "vector<double>{ 3.3477077 }"
     },
     "execution_count": 21,
     "metadata": {},
     "output_type": "execute_result"
    }
   ],
   "source": [
    "primary_hits_energy"
   ],
   "metadata": {
    "collapsed": false
   }
  },
  {
   "cell_type": "code",
   "execution_count": 22,
   "outputs": [
    {
     "data": {
      "text/plain": "vector<double>{ 0.013125315, 0.096487720 }"
     },
     "execution_count": 22,
     "metadata": {},
     "output_type": "execute_result"
    }
   ],
   "source": [
    "secondary_hits_energy"
   ],
   "metadata": {
    "collapsed": false
   }
  },
  {
   "cell_type": "code",
   "execution_count": 23,
   "outputs": [
    {
     "data": {
      "text/plain": "vector<int>{ 5 }"
     },
     "execution_count": 23,
     "metadata": {},
     "output_type": "execute_result"
    }
   ],
   "source": [
    "R.EAC.get_score_n_primary_hits(mdst.mc_part_sim_status, mdst.mc_score_part_idx, mdst.mc_score_z, mdst.mc_score_pz)"
   ],
   "metadata": {
    "collapsed": false
   }
  },
  {
   "cell_type": "code",
   "execution_count": 44,
   "outputs": [
    {
     "data": {
      "text/plain": "(0.5289242267608643,\n -0.08898834884166718,\n 2.951568365097046,\n 2.9999059281460463)"
     },
     "execution_count": 44,
     "metadata": {},
     "output_type": "execute_result"
    }
   ],
   "source": [
    "mdst.mc_score_px[6], mdst.mc_score_py[6], mdst.mc_score_pz[6], np.sqrt(mdst.mc_score_px[6]**2 + mdst.mc_score_py[6]**2 + mdst.mc_score_pz[6]**2)"
   ],
   "metadata": {
    "collapsed": false
   }
  },
  {
   "cell_type": "code",
   "execution_count": 27,
   "outputs": [
    {
     "name": "stdout",
     "output_type": "stream",
     "text": [
      "i_part = 0   E =    0.013  vz = 1107.6\n",
      "i = 23 - E= 0.013 sum =  0.013   p=( 0.001,-0.000, 0.013)  x=(   97.0,  -41.0, 1443.0)\n",
      "i_part = 1   E =    3.000  vz =    0.0\n",
      "i = 16 - E= 0.568 sum =  0.568   p=(-0.076, 0.545, 0.141)  x=(   82.3,   56.7, 1443.0)\n",
      "i = 20 - E= 0.021 sum =  0.589   p=( 0.001,-0.001, 0.021)  x=(   96.8,  -41.4, 1443.0)\n",
      "i = 22 - E= 1.704 sum =  2.292   p=( 0.064,-0.053, 1.702)  x=(   96.8,  -41.4, 1443.0)\n",
      "i = 27 - E= 0.709 sum =  3.002   p=( 0.028,-0.020, 0.708)  x=(   96.9,  -41.3, 1443.0)\n",
      "i = 28 - E= 0.346 sum =  3.348   p=( 0.211,-0.129, 0.242)  x=(  117.6,  -53.8, 1443.0)\n",
      "i_part = 2   E =    0.096  vz =  909.7\n",
      "i = 26 - E= 0.096 sum =  0.096   p=( 0.004,-0.003, 0.096)  x=(  100.7,  -41.3, 1443.0)\n",
      "[0.013125315374536019, 3.347707724448217, 0.09648771964466923]\n"
     ]
    }
   ],
   "source": [
    "out = []\n",
    "for i_part in range(len(mdst.mc_part_z)):\n",
    "    if np.uintc(mdst.mc_part_sim_status[primary_index]) & 0x1:\n",
    "        print(f\"i_part = {i_part}   E = {mdst.mc_part_energy[i_part]:8.3f}  vz = {mdst.mc_part_z[i_part]:6.1f}\")\n",
    "        sum = 0\n",
    "        for i in range(len(mdst.mc_score_part_idx)):\n",
    "            if (mdst.mc_score_z[i] > 1440) and (mdst.mc_score_pz[i] > 0.01) and mdst.mc_score_part_idx[i] == i_part :\n",
    "                E = np.sqrt(mdst.mc_score_px[i] * mdst.mc_score_px[i] + mdst.mc_score_py[i] * mdst.mc_score_py[i] + mdst.mc_score_pz[i] * mdst.mc_score_pz[i])\n",
    "                sum += E\n",
    "                print(f\"i = {i} - E={E:6.3f} sum = {sum:6.3f}   p=({mdst.mc_score_px[i]:6.3f},{mdst.mc_score_py[i]:6.3f},{mdst.mc_score_pz[i]:6.3f}) \"\n",
    "                      f\" x=({mdst.mc_score_x[i]:7.1f},{mdst.mc_score_y[i]:7.1f},{mdst.mc_score_z[i]:7.1f})\")\n",
    "        out.append(sum)\n",
    "print(out)"
   ],
   "metadata": {
    "collapsed": false
   }
  },
  {
   "cell_type": "code",
   "execution_count": 34,
   "outputs": [
    {
     "name": "stdout",
     "output_type": "stream",
     "text": [
      "Summary of the score plane hits:\n",
      "[15] [  1] pdg:11 p=(-0.000,-0.000, 0.000) ix=(   3.798,  -6.031) E =  0.000\n",
      "[16] [  1] pdg:11 p=(-0.076, 0.545, 0.141) ix=(   3.163,   1.438) E =  0.568\n",
      "[17] [  1] pdg:11 p=( 0.001,-0.001,-0.001) ix=(  10.562,  -9.623) E =  0.002\n",
      "[18] [  2] pdg:22 p=( 0.000, 0.001,-0.000) ix=( -22.993,   7.057) E =  0.001\n",
      "[19] [  1] pdg:11 p=(-0.000, 0.000,-0.000) ix=(   4.442,  -5.914) E =  0.000\n",
      "[20] [  1] pdg:11 p=( 0.001,-0.001, 0.021) ix=(   4.134,  -6.146) E =  0.021\n",
      "[21] [  0] pdg:22 p=(-0.001, 0.000,-0.001) ix=(   2.158,  -5.275) E =  0.001\n",
      "[22] [  1] pdg:11 p=( 0.064,-0.053, 1.702) ix=(   4.134,  -6.146) E =  1.704\n",
      "[23] [  0] pdg:22 p=( 0.001,-0.000, 0.013) ix=(   4.150,  -6.118) E =  0.013\n",
      "[24] [  1] pdg:11 p=( 0.000, 0.000, 0.000) ix=(   8.341,  -7.362) E =  0.000\n",
      "[25] [  1] pdg:11 p=( 0.000,-0.000, 0.001) ix=(   4.131,  -6.135) E =  0.001\n",
      "[26] [  2] pdg:22 p=( 0.004,-0.003, 0.096) ix=(   4.395,  -6.138) E =  0.096\n",
      "[27] [  1] pdg:11 p=( 0.028,-0.020, 0.708) ix=(   4.139,  -6.137) E =  0.709\n",
      "[28] [  1] pdg:11 p=( 0.211,-0.129, 0.242) ix=(   5.534,  -6.980) E =  0.346\n",
      "[29] [  1] pdg:11 p=( 0.000,-0.000,-0.000) ix=(  10.235, -14.841) E =  0.000\n",
      "[30] [  1] pdg:11 p=(-0.001, 0.000, 0.001) ix=(   2.854,  -5.528) E =  0.001\n",
      "[31] [  1] pdg:11 p=( 0.000,-0.000, 0.000) ix=(   4.134,  -6.146) E =  0.000\n",
      "Sum =  3.4641\n"
     ]
    }
   ],
   "source": [
    "print(\"Summary of the score plane hits:\")\n",
    "sum = 0\n",
    "for i in range(len(mdst.mc_score_pz)):\n",
    "    if( mdst.mc_score_z[i]>1440):\n",
    "        E = np.sqrt(mdst.mc_score_px[i]**2+mdst.mc_score_py[i]**2+mdst.mc_score_pz[i]**2)\n",
    "        sum += E\n",
    "        x = R.EAC.ecal_xpos_to_index(mdst.mc_score_x[i])\n",
    "        y = R.EAC.ecal_xpos_to_index(mdst.mc_score_y[i])\n",
    "        print(f\"[{i:2d}] [{mdst.mc_score_part_idx[i]:3d}] pdg:{mdst.mc_score_pdg[i]}\"\n",
    "              f\" p=({mdst.mc_score_px[i]:6.3f},{mdst.mc_score_py[i]:6.3f},{mdst.mc_score_pz[i]:6.3f})\"\n",
    "              f\" ix=({x:8.3f},{y:8.3f})\"\n",
    "              f\" E = {E:6.3f}\")\n",
    "\n",
    "print(f\"Sum = {sum:7.4f}\")"
   ],
   "metadata": {
    "collapsed": false
   }
  },
  {
   "cell_type": "code",
   "execution_count": 19,
   "outputs": [
    {
     "name": "stdout",
     "output_type": "stream",
     "text": [
      "--------------- Alt score cluster calc --------------\n",
      "i:  0 N =   1] idx= [  0] ( 15.66,  1.80) = (  270.1,   42.0) pz_sum = 1.1339\n",
      "i:  1 N =   2] idx= [  3] ( 12.40,  1.87) = (  220.5,   43.1) pz_sum = 1.7961\n",
      "i:  2 N =   1] idx= [  5] ( 12.41,  1.81) = (  220.8,   42.2) pz_sum = 0.0214\n"
     ]
    }
   ],
   "source": [
    "\n",
    "print(\"--------------- Alt score cluster calc --------------\")\n",
    "cluster_ncontrib.clear()\n",
    "cluster_centers.clear()\n",
    "cluster_ave_x.clear()\n",
    "cluster_ave_y.clear()\n",
    "cluster_sum_pz.clear()\n",
    "\n",
    "# Go through each mc_score hit. If not caused by primary, collect hits.\n",
    "count = 0;\n",
    "not_done = True\n",
    "has_been_used = [False]*len(mdst.mc_score_z)\n",
    "while not_done:\n",
    "    # Step one: find the maximum pz\n",
    "\n",
    "    index_max_pz = -1\n",
    "    for i in range(len(mdst.mc_score_z)):\n",
    "        if not has_been_used[i] and mdst.mc_score_z[i] > 1400 and mdst.mc_score_pz[i] > R.EAC.mc_score_pz_cut:\n",
    "            max_pz = mdst.mc_score_pz[i]\n",
    "            index_max_pz = i\n",
    "\n",
    "    if index_max_pz < 0:\n",
    "        not_done = False\n",
    "    else:\n",
    "        has_been_used[index_max_pz] = True\n",
    "        count += 1\n",
    "        x_loc = mdst.mc_score_x[index_max_pz]\n",
    "        y_loc = mdst.mc_score_y[index_max_pz]\n",
    "        pz_sum = mdst.mc_score_pz[index_max_pz]\n",
    "        x_ave = x_loc*pz_sum\n",
    "        y_ave = y_loc*pz_sum\n",
    "\n",
    "        n_contrib = 1\n",
    "        for i in range(len(mdst.mc_score_pdg)):\n",
    "            if not has_been_used[i] and mdst.mc_score_z[i] > 1400 and mdst.mc_score_pz[i] > 0.03 and abs(mdst.mc_score_x[i] - x_loc) < R.EAC.mc_score_close_cut and abs(mdst.mc_score_y[i] - y_loc) < R.EAC.mc_score_close_cut:\n",
    "                has_been_used[i] = True\n",
    "                x_ave += mdst.mc_score_x[i]*mdst.mc_score_pz[i]\n",
    "                y_ave += mdst.mc_score_y[i]*mdst.mc_score_pz[i]\n",
    "                pz_sum += mdst.mc_score_pz[i]\n",
    "                n_contrib += 1\n",
    "\n",
    "        x_ave = x_ave/pz_sum\n",
    "        y_ave = y_ave/pz_sum\n",
    "\n",
    "        cluster_centers.append(index_max_pz)\n",
    "        cluster_ave_x.append(x_ave)\n",
    "        cluster_ave_y.append(y_ave)\n",
    "        cluster_sum_pz.append(pz_sum)\n",
    "        print(f\"i: {count-1:2d} N = {n_contrib:3d}] idx= [{mdst.mc_score_part_idx[index_max_pz]:3d}] ({R.EAC.ecal_xpos_to_index(x_ave):6.2f},{R.EAC.ecal_ypos_to_index(y_ave):6.2f}) = ({x_ave:7.1f},{y_ave:7.1f}) pz_sum = {pz_sum:6.4f}\")\n"
   ],
   "metadata": {
    "collapsed": false
   }
  },
  {
   "cell_type": "code",
   "execution_count": 20,
   "outputs": [
    {
     "name": "stdout",
     "output_type": "stream",
     "text": [
      "0\n",
      "10000\n",
      "20000\n",
      "30000\n"
     ]
    }
   ],
   "source": [
    "for evt in range(ch.GetEntries()):\n",
    "    if evt%10000 == 0:\n",
    "        print(evt)\n",
    "    ch.GetEvent(evt)\n",
    "    idx = R.EAC.get_list_of_primary_mc(mdst.mc_part_sim_status)\n"
   ],
   "metadata": {
    "collapsed": false
   }
  },
  {
   "cell_type": "code",
   "execution_count": 50,
   "outputs": [
    {
     "name": "stdout",
     "output_type": "stream",
     "text": [
      "{ 3 }\n",
      "2.999999965564364\n"
     ]
    }
   ],
   "source": [
    "ch.GetEvent(110)\n",
    "idx = R.EAC.get_list_of_primary_mc(mdst.mc_part_sim_status)\n",
    "print(idx)\n",
    "print(mdst.mc_part_energy[idx[0]])"
   ],
   "metadata": {
    "collapsed": false
   }
  },
  {
   "cell_type": "code",
   "execution_count": 36,
   "outputs": [
    {
     "name": "stdout",
     "output_type": "stream",
     "text": [
      "0\n",
      "10000\n",
      "20000\n",
      "30000\n"
     ]
    }
   ],
   "source": [
    "for evt in range(ch.GetEntries()):\n",
    "    if evt%10000 == 0:\n",
    "        print(evt)\n",
    "    ch.GetEvent(evt)\n",
    "\n",
    "    for i in range(len(mdst.mc_part_sim_status)):\n",
    "        if ( mdst.mc_part_sim_status[i] & 0x01) == 0 and abs(mdst.mc_part_z[i]) < 1e-6:\n",
    "            print(f\"{np.uint(mdst.mc_part_sim_status[i]):064b}  {mdst.mc_part_z[i]}\")"
   ],
   "metadata": {
    "collapsed": false
   }
  },
  {
   "cell_type": "code",
   "execution_count": 51,
   "outputs": [
    {
     "name": "stdout",
     "output_type": "stream",
     "text": [
      "0  111.969\n",
      "0  513.472\n",
      "0  312.667\n",
      "0   61.811\n",
      "0  212.305\n",
      "1 1443.001\n",
      "1 1443.001\n",
      "1 1443.001\n",
      "1 1443.001\n",
      "1 1443.001\n",
      "1 1443.001\n",
      "1 1443.001\n",
      "1 1443.001\n",
      "1 1443.001\n",
      "1 1443.001\n",
      "1 1443.001\n",
      "1 1443.001\n",
      "1 1443.001\n",
      "1 1443.001\n",
      "1 1443.001\n",
      "1 1443.001\n",
      "1 1443.001\n",
      "1 1443.001\n",
      "1 1443.001\n",
      "1 1443.001\n"
     ]
    }
   ],
   "source": [
    "for i in range(len(mdst.mc_score_type)):\n",
    "    print(f\"{mdst.mc_score_type[i]} {mdst.mc_score_z[i]:8.3f}\")"
   ],
   "metadata": {
    "collapsed": false
   }
  },
  {
   "cell_type": "code",
   "execution_count": null,
   "outputs": [],
   "source": [],
   "metadata": {
    "collapsed": false
   }
  }
 ],
 "metadata": {
  "kernelspec": {
   "display_name": "Python 3",
   "language": "python",
   "name": "python3"
  },
  "language_info": {
   "codemirror_mode": {
    "name": "ipython",
    "version": 2
   },
   "file_extension": ".py",
   "mimetype": "text/x-python",
   "name": "python",
   "nbconvert_exporter": "python",
   "pygments_lexer": "ipython2",
   "version": "2.7.6"
  }
 },
 "nbformat": 4,
 "nbformat_minor": 0
}
