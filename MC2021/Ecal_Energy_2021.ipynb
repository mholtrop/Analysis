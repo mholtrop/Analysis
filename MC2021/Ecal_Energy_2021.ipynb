{
 "cells": [
  {
   "cell_type": "code",
   "execution_count": 1,
   "metadata": {},
   "outputs": [
    {
     "name": "stdout",
     "output_type": "stream",
     "text": [
      "Welcome to JupyROOT 6.29/01\n",
      "Recompile is not needed\n",
      "The gaustail function is now setup. \n",
      "The gaustailn function is now setup. \n"
     ]
    }
   ],
   "source": [
    "# Warning: Execute this cell only once for the kernel. Reset the kernel if you need changes.\n",
    "import sys\n",
    "sys.path.append(\"../Python\")\n",
    "import ROOT as R\n",
    "import time\n",
    "import numpy as np\n",
    "# Turn jsroot off if you want to make a pdf from this file.\n",
    "%jsroot on\n",
    "from root_helpers import SetStyle\n",
    "from root_helpers import fancy_plot\n",
    "from root_helpers import print_mc_particle_tree\n",
    "from root_helpers import print_daughters\n",
    "# R.EnableImplicitMT()\n",
    "import os\n",
    "recompile = True\n",
    "try:\n",
    "    if os.path.getmtime('../Python/Utility_Functions_C.so') - os.path.getmtime('../Python/Utility_Functions.C') > 0:\n",
    "        recompile = False\n",
    "        print(\"Recompile is not needed\")\n",
    "    else:\n",
    "        print(\"Recompiling: \")\n",
    "except:\n",
    "    print(\"Recompile needed, file not found.\")\n",
    "if recompile:\n",
    "    R.gROOT.LoadMacro(\"../Python/Utility_Functions.C++\")\n",
    "else:\n",
    "    R.gSystem.Load(\"../Python/Utility_Functions_C.so\")\n",
    "R.Utility_Functions()\n",
    "\n",
    "# Link the C++ fit_gaus_tail function to a TF1 so the fitting of the histogram works properly in Python\n",
    "R.gInterpreter.Declare('''\n",
    "void setup_gaus_tail(void){\n",
    "auto gaustail = new TF1(\"gaustail\",fit_gaus_tail, 0.,7.,4);\n",
    "gaustail->SetParameters(1208, 3, 0.1, 1.);\n",
    "gaustail->SetParNames(\"A\",\"Mu\",\"Sigma\",\"tail\");\n",
    "std::cout << \"The gaustail function is now setup. \" << std::endl;\n",
    "}\n",
    "''')\n",
    "R.setup_gaus_tail()\n",
    "\n",
    "# Link the C++ fit_gaus_tail function to a TF1 so the fitting of the histogram works properly in Python\n",
    "R.gInterpreter.Declare('''\n",
    "void setup_gaus_tailn(void){\n",
    "auto gaustailn = new TF1(\"gaustailn\",fit_gaus_tailn, 0., 7.,4);\n",
    "gaustailn->SetParameters(1208, 3, 0.1, 1.);\n",
    "gaustailn->SetParNames(\"A\",\"Mu\",\"Sigma\",\"tail\");\n",
    "std::cout << \"The gaustailn function is now setup. \" << std::endl;\n",
    "}\n",
    "''')\n",
    "R.setup_gaus_tailn()"
   ]
  },
  {
   "cell_type": "code",
   "execution_count": 2,
   "metadata": {},
   "outputs": [],
   "source": [
    "def make_ecal_snaphot(mini_dst, hist, opt=0):\n",
    "    \"\"\"Return a 2D histogram for the ECal, with the energy of the hits on the z-axis\"\"\"\n",
    "    if hist is None:\n",
    "        hist = R.TH2D(\"hist_ecal\", \"Ecal Hits\", 50, -25.5, 24.5, 13, -6.5, 6.5)\n",
    "    else:\n",
    "        hist.Reset()\n",
    "    # Fill the histogram by looping over the ECal hits\n",
    "    for i in range(len(mini_dst.ecal_hit_index_x)):\n",
    "        hist.Fill(mini_dst.ecal_hit_index_x[i], mini_dst.ecal_hit_index_y[i], mini_dst.ecal_hit_energy[i])\n",
    "    return hist"
   ]
  },
  {
   "cell_type": "code",
   "execution_count": 4,
   "metadata": {},
   "outputs": [
    {
     "name": "stdout",
     "output_type": "stream",
     "text": [
      "Number of events loaded:   1.832M\n",
      "Chain2 N events loaded:    2.116M\n"
     ]
    }
   ],
   "source": [
    "ch = R.TChain(\"MiniDST\")\n",
    "file_peak_e = 3.742\n",
    "ch.Add(f\"/data/HPS/data/physrun2021/sim_2021/X/hpsForward_e-_{file_peak_e}GeV_z0.0_*_SLIC-v06-00-01_QGSP_BERT_HPS-v2019-3pt7GeV_recon.root\")\n",
    "# ch.Add(\"/data/HPS/data/physrun2019/MC_RAW/hpsForward_e-_3.0GeV_z-7.5_x_SLIC-v06-00-01_QGSP_BERT_HPS-PhysicsRun2019-v2-4pt5_recon.root\")           # sim_2019/hpsForward_e-_3.0GeV_*.root\")\n",
    "# ch.Add(\"/data/HPS/data/physrun2021/pass0/minidst/hps_0147*.root\")\n",
    "print(f\"Number of events loaded: {ch.GetEntries()/1e6:7.3f}M\")\n",
    "ch2 = R.TChain(\"MiniDST\")\n",
    "ch2.Add(f\"/data/HPS/data/physrun2021/sim_2021/hpsForward_e-_{file_peak_e}GeV_z0.0_*_SLIC-v06-00-01_QGSP_BERT_HPS-v2019-3pt7GeV_recon.root\")\n",
    "# ch.Add(\"/data/HPS/data/physrun2019/MC_RAW/hpsForward_e-_3.0GeV_z-7.5_x_SLIC-v06-00-01_QGSP_BERT_HPS-PhysicsRun2019-v2-4pt5_recon.root\")           # sim_2019/hpsForward_e-_3.0GeV_*.root\")\n",
    "# ch.Add(\"/data/HPS/data/physrun2021/pass0/minidst/hps_0147*.root\")\n",
    "print(f\"Chain2 N events loaded:  {ch2.GetEntries()/1e6:7.3f}M\")"
   ]
  },
  {
   "cell_type": "code",
   "execution_count": 4,
   "metadata": {},
   "outputs": [
    {
     "name": "stdout",
     "output_type": "stream",
     "text": [
      "Available data names in Tuple:\n",
      "\n",
      "ecal_cluster_energy           ecal_cluster_hits             ecal_cluster_nhits            ecal_cluster_seed_energy      \n",
      "ecal_cluster_seed_index       ecal_cluster_seed_ix          ecal_cluster_seed_iy          ecal_cluster_time             \n",
      "ecal_cluster_uncor_energy     ecal_cluster_uncor_hits       ecal_cluster_uncor_nhits      ecal_cluster_uncor_seed_energy\n",
      "ecal_cluster_uncor_seed_index ecal_cluster_uncor_seed_ix    ecal_cluster_uncor_seed_iy    ecal_cluster_uncor_time       \n",
      "ecal_cluster_uncor_x          ecal_cluster_uncor_y          ecal_cluster_uncor_z          ecal_cluster_x                \n",
      "ecal_cluster_y                ecal_cluster_z                ecal_hit_energy               ecal_hit_index_x              \n",
      "ecal_hit_index_y              ecal_hit_time                 event_number                  ext_trigger                   \n",
      "hodo_cluster_energy           hodo_cluster_ix               hodo_cluster_iy               hodo_cluster_layer            \n",
      "hodo_cluster_time             hodo_hit_energy               hodo_hit_hole                 hodo_hit_index_x              \n",
      "hodo_hit_index_y              hodo_hit_layer                hodo_hit_time                 mc_part_charge                \n",
      "mc_part_daughters             mc_part_end_px                mc_part_end_py                mc_part_end_pz                \n",
      "mc_part_end_x                 mc_part_end_y                 mc_part_end_z                 mc_part_energy                \n",
      "mc_part_id                    mc_part_mass                  mc_part_parents               mc_part_pdg                   \n",
      "mc_part_px                    mc_part_py                    mc_part_pz                    mc_part_sim_status            \n",
      "mc_part_time                  mc_part_x                     mc_part_y                     mc_part_z                     \n",
      "mc_score_part_idx             mc_score_pdg                  mc_score_px                   mc_score_py                   \n",
      "mc_score_pz                   mc_score_time                 mc_score_type                 mc_score_x                    \n",
      "mc_score_y                    mc_score_z                    part_charge                   part_ecal_cluster             \n",
      "part_energy                   part_goodness_of_pid          part_lcio_type                part_mass                     \n",
      "part_pdg                      part_px                       part_py                       part_pz                       \n",
      "part_track                    part_track_chi2               part_type                     rf_time1                      \n",
      "rf_time2                      run_number                    svt_status                    time_stamp                    \n",
      "track_chi2                    track_covmatrix               track_d0                      track_gbl_ref                 \n",
      "track_isolation               track_lambda_kinks            track_n_gbl                   track_n_hits                  \n",
      "track_n_kf                    track_n_matched               track_omega                   track_particle                \n",
      "track_phi0                    track_phi_kinks               track_px                      track_py                      \n",
      "track_pz                      track_ref                     track_svt_hits                track_tan_lambda              \n",
      "track_time                    track_type                    track_volume                  track_x_at_ecal               \n",
      "track_y_at_ecal               track_z0                      track_z_at_ecal               trigger                       \n",
      "v0_charge                     v0_em_chi2                    v0_em_clus                    v0_em_clus_energy             \n",
      "v0_em_clus_ix                 v0_em_clus_iy                 v0_em_clus_pos_x              v0_em_clus_pos_y              \n",
      "v0_em_clus_time               v0_em_good_pid                v0_em_p                       v0_em_part                    \n",
      "v0_em_pos_ecal_x              v0_em_pos_ecal_y              v0_em_track                   v0_em_track_nhit              \n",
      "v0_em_track_time              v0_energy                     v0_ep_chi2                    v0_ep_clus                    \n",
      "v0_ep_clus_energy             v0_ep_clus_ix                 v0_ep_clus_iy                 v0_ep_clus_pos_x              \n",
      "v0_ep_clus_pos_y              v0_ep_clus_time               v0_ep_good_pid                v0_ep_p                       \n",
      "v0_ep_part                    v0_ep_pos_ecal_x              v0_ep_pos_ecal_y              v0_ep_track                   \n",
      "v0_ep_track_nhit              v0_ep_track_time              v0_goodness_of_pid            v0_lcio_type                  \n",
      "v0_mass                       v0_mass_err                   v0_pdg                        v0_px                         \n",
      "v0_py                         v0_pz                         v0_type                       v0_vertex_chi2                \n",
      "v0_vertex_prob                v0_vertex_x                   v0_vertex_y                   v0_vertex_z                   "
     ]
    }
   ],
   "source": [
    "df = R.RDataFrame(ch)\n",
    "df2 = R.RDataFrame(ch2)\n",
    "print(\"Available data names in Tuple:\")\n",
    "ColumnNames=df.GetColumnNames()\n",
    "ll = 0\n",
    "pr_colnames = [x for x in ColumnNames if str(x).startswith('')]\n",
    "for nn in pr_colnames:\n",
    "    if ll < len(nn):\n",
    "        ll = len(nn)\n",
    "for n in range(len(pr_colnames)):\n",
    "    if n%4 == 0:\n",
    "        print(\"\")\n",
    "    print(f\"{str(pr_colnames[n]):{ll}s}\",end=\"\")"
   ]
  },
  {
   "cell_type": "code",
   "execution_count": 5,
   "outputs": [],
   "source": [
    "expected_peak = float(file_peak_e)\n",
    "dfx = df.Define(\"n_cluster\",\"ecal_cluster_energy.size()\").Filter(\"n_cluster==1\").Filter(f\"ecal_cluster_seed_energy[0]>{expected_peak/2}\")\n",
    "dfx2 = df2.Define(\"n_cluster\",\"ecal_cluster_energy.size()\").Filter(\"n_cluster==1\").Filter(f\"ecal_cluster_seed_energy[0]>{expected_peak/2}\")"
   ],
   "metadata": {
    "collapsed": false
   }
  },
  {
   "cell_type": "code",
   "execution_count": 6,
   "outputs": [],
   "source": [
    "min_e_histo = max(expected_peak-3.,0) # 0.5\n",
    "max_e_histo = expected_peak*1.3 # 3.5\n",
    "\n",
    "h_ecal_cluster_energy = dfx.Histo1D((\"h_ecal_cluster_energy\",\"Ecal Cluster Energy;E[GeV]\",200,min_e_histo, max_e_histo),\"ecal_cluster_energy\")\n",
    "h_ecal_cluster_energy_uncor = dfx.Histo1D((\"h_ecal_cluster_uncor_energy\",\"Ecal Un-corrected Cluster Energy;E[GeV]\",200,min_e_histo, max_e_histo),\"ecal_cluster_uncor_energy\")\n",
    "h_ecal_cluster_energy_lim = dfx.Histo1D((\"h_ecal_cluster_energy\",\"Ecal Cluster Energy;E[GeV]\",200,min_e_histo, max_e_histo),\"ecal_cluster_energy\")\n",
    "h2_ecal_cluster_energy = dfx2.Histo1D((\"h_ecal_cluster_energy\",\"Ecal Cluster Energy;E[GeV]\",200,min_e_histo, max_e_histo),\"ecal_cluster_energy\")\n",
    "h2_ecal_cluster_energy_uncor = dfx2.Histo1D((\"h_ecal_cluster_uncor_energy\",\"Ecal Un-corrected Cluster Energy;E[GeV]\",200,min_e_histo, max_e_histo),\"ecal_cluster_uncor_energy\")\n",
    "h2_ecal_cluster_energy_lim = dfx2.Histo1D((\"h_ecal_cluster_energy\",\"Ecal Cluster Energy;E[GeV]\",200,min_e_histo, max_e_histo),\"ecal_cluster_energy\")"
   ],
   "metadata": {
    "collapsed": false
   }
  },
  {
   "cell_type": "code",
   "execution_count": 7,
   "outputs": [
    {
     "name": "stdout",
     "output_type": "stream",
     "text": [
      " FCN=966.538 FROM MIGRAD    STATUS=CONVERGED      76 CALLS          77 TOTAL\n",
      "                     EDM=1.04698e-06    STRATEGY= 1      ERROR MATRIX ACCURATE \n",
      "  EXT PARAMETER                                   STEP         FIRST   \n",
      "  NO.   NAME      VALUE            ERROR          SIZE      DERIVATIVE \n",
      "   1  Constant     1.91188e+04   4.88976e+01   5.60353e-01  -1.09662e-05\n",
      "   2  Mean         4.74492e+00   3.07857e-04   4.40581e-06   4.01057e+00\n",
      "   3  Sigma        1.29520e-01   2.99722e-04   9.20590e-06   9.16356e-01\n",
      " FCN=923.133 FROM MIGRAD    STATUS=CONVERGED      64 CALLS          65 TOTAL\n",
      "                     EDM=6.52844e-07    STRATEGY= 1      ERROR MATRIX ACCURATE \n",
      "  EXT PARAMETER                                   STEP         FIRST   \n",
      "  NO.   NAME      VALUE            ERROR          SIZE      DERIVATIVE \n",
      "   1  Constant     1.95424e+04   4.90279e+01   5.53348e-01  -1.06843e-05\n",
      "   2  Mean         4.68538e+00   2.94842e-04   4.12037e-06   3.65849e+00\n",
      "   3  Sigma        1.28264e-01   2.75413e-04   8.29795e-06   3.37303e-01\n"
     ]
    },
    {
     "name": "stderr",
     "output_type": "stream",
     "text": [
      "Info in <TCanvas::Print>: pdf file ECal_energy_distribution_4.5GeV.pdf has been created\n"
     ]
    },
    {
     "data": {
      "text/plain": "<IPython.core.display.HTML object>",
      "text/html": "\n\n<div id=\"root_plot_1679337876428\"\n     style=\"width: 796px; height: 572px\">\n</div>\n<script>\n\nfunction display_root_plot_1679337876428(Core) {\n   let obj = Core.parse({\"_typename\":\"TCanvas\",\"fUniqueID\":0,\"fBits\":3342344,\"fLineColor\":1,\"fLineStyle\":1,\"fLineWidth\":1,\"fFillColor\":0,\"fFillStyle\":1001,\"fLeftMargin\":0.1,\"fRightMargin\":0.1,\"fBottomMargin\":0.1,\"fTopMargin\":0.1,\"fXfile\":2,\"fYfile\":2,\"fAfile\":1,\"fXstat\":0.99,\"fYstat\":0.99,\"fAstat\":2,\"fFrameFillColor\":0,\"fFrameLineColor\":1,\"fFrameFillStyle\":1001,\"fFrameLineStyle\":1,\"fFrameLineWidth\":1,\"fFrameBorderSize\":1,\"fFrameBorderMode\":0,\"fX1\":0.956249959487465,\"fY1\":-2859.54396305262,\"fX2\":6.39375004051254,\"fY2\":25735.8939630526,\"fXtoAbsPixelk\":-139.986148879932,\"fXtoPixelk\":-139.986148879932,\"fXtoPixel\":146.390802416308,\"fYtoAbsPixelk\":514.800046590614,\"fYtoPixelk\":514.800046590614,\"fYtoPixel\":-0.0200031907704345,\"fUtoAbsPixelk\":5e-5,\"fUtoPixelk\":5e-5,\"fUtoPixel\":796,\"fVtoAbsPixelk\":572.00005,\"fVtoPixelk\":572,\"fVtoPixel\":-572,\"fAbsPixeltoXk\":0.956249959487465,\"fPixeltoXk\":0.956249959487465,\"fPixeltoX\":0.00683103025254406,\"fAbsPixeltoYk\":25735.8939630526,\"fPixeltoYk\":-2859.54396305262,\"fPixeltoY\":-49.9920243463378,\"fXlowNDC\":0,\"fYlowNDC\":0,\"fXUpNDC\":1,\"fYUpNDC\":1,\"fWNDC\":1,\"fHNDC\":1,\"fAbsXlowNDC\":0,\"fAbsYlowNDC\":0,\"fAbsWNDC\":1,\"fAbsHNDC\":1,\"fUxmin\":1.5,\"fUymin\":0,\"fUxmax\":5.85,\"fUymax\":22876.35,\"fTheta\":30,\"fPhi\":30,\"fAspectRatio\":0,\"fNumber\":0,\"fTickx\":0,\"fTicky\":0,\"fLogx\":0,\"fLogy\":0,\"fLogz\":0,\"fPadPaint\":0,\"fCrosshair\":0,\"fCrosshairPos\":0,\"fBorderSize\":2,\"fBorderMode\":0,\"fModified\":false,\"fGridx\":false,\"fGridy\":false,\"fAbsCoord\":false,\"fEditable\":true,\"fFixedAspectRatio\":false,\"fPrimitives\":{\"_typename\":\"TList\",\"name\":\"TList\",\"arr\":[{\"_typename\":\"TFrame\",\"fUniqueID\":0,\"fBits\":8,\"fLineColor\":1,\"fLineStyle\":1,\"fLineWidth\":1,\"fFillColor\":0,\"fFillStyle\":1001,\"fX1\":1.5,\"fY1\":0,\"fX2\":5.85,\"fY2\":22876.35,\"fBorderSize\":1,\"fBorderMode\":0},{\"_typename\":\"TH1D\",\"fUniqueID\":0,\"fBits\":520,\"fName\":\"h_ecal_cluster_uncor_energy\",\"fTitle\":\"Ecal Cluster Energies for e- primary of 4.5 GeV\",\"fLineColor\":416,\"fLineStyle\":1,\"fLineWidth\":1,\"fFillColor\":0,\"fFillStyle\":1001,\"fMarkerColor\":1,\"fMarkerStyle\":1,\"fMarkerSize\":1,\"fNcells\":202,\"fXaxis\":{\"_typename\":\"TAxis\",\"fUniqueID\":0,\"fBits\":0,\"fName\":\"xaxis\",\"fTitle\":\"E[GeV]\",\"fNdivisions\":510,\"fAxisColor\":1,\"fLabelColor\":1,\"fLabelFont\":42,\"fLabelOffset\":0.005,\"fLabelSize\":0.035,\"fTickLength\":0.03,\"fTitleOffset\":1,\"fTitleSize\":0.035,\"fTitleColor\":1,\"fTitleFont\":42,\"fNbins\":200,\"fXmin\":1.5,\"fXmax\":5.85,\"fXbins\":[],\"fFirst\":0,\"fLast\":0,\"fBits2\":0,\"fTimeDisplay\":false,\"fTimeFormat\":\"\",\"fLabels\":null,\"fModLabs\":null},\"fYaxis\":{\"_typename\":\"TAxis\",\"fUniqueID\":0,\"fBits\":0,\"fName\":\"yaxis\",\"fTitle\":\"\",\"fNdivisions\":510,\"fAxisColor\":1,\"fLabelColor\":1,\"fLabelFont\":42,\"fLabelOffset\":0.005,\"fLabelSize\":0.035,\"fTickLength\":0.03,\"fTitleOffset\":0,\"fTitleSize\":0.035,\"fTitleColor\":1,\"fTitleFont\":42,\"fNbins\":1,\"fXmin\":0,\"fXmax\":1,\"fXbins\":[],\"fFirst\":0,\"fLast\":0,\"fBits2\":0,\"fTimeDisplay\":false,\"fTimeFormat\":\"\",\"fLabels\":null,\"fModLabs\":null},\"fZaxis\":{\"_typename\":\"TAxis\",\"fUniqueID\":0,\"fBits\":0,\"fName\":\"zaxis\",\"fTitle\":\"\",\"fNdivisions\":510,\"fAxisColor\":1,\"fLabelColor\":1,\"fLabelFont\":42,\"fLabelOffset\":0.005,\"fLabelSize\":0.035,\"fTickLength\":0.03,\"fTitleOffset\":1,\"fTitleSize\":0.035,\"fTitleColor\":1,\"fTitleFont\":42,\"fNbins\":1,\"fXmin\":0,\"fXmax\":1,\"fXbins\":[],\"fFirst\":0,\"fLast\":0,\"fBits2\":0,\"fTimeDisplay\":false,\"fTimeFormat\":\"\",\"fLabels\":null,\"fModLabs\":null},\"fBarOffset\":0,\"fBarWidth\":1000,\"fEntries\":338422,\"fTsumw\":338422,\"fTsumw2\":338422,\"fTsumwx\":1332066.71668482,\"fTsumwx2\":5267803.98533859,\"fMaximum\":-1111,\"fMinimum\":-1111,\"fNormFactor\":0,\"fContour\":[],\"fSumw2\":[],\"fOption\":\"\",\"fFunctions\":{\"_typename\":\"TList\",\"name\":\"TList\",\"arr\":[],\"opt\":[]},\"fBufferSize\":0,\"fBuffer\":[],\"fBinStatErrOpt\":0,\"fStatOverflows\":2,\"fArray\":{\"$arr\":\"Float64\",\"len\":202,\"p\":42,\"v\":[2,6,6,9,12,17,19,33,40,59,87,76,96,119,145,164,180,180,205,225,253,298,329,344,364,384,437,450,437,548,504,532,588,680,647,697,756,759,802,888,969,1033,1050,1111,1181,1330,1329,1437,1621,1675,1864,1949,2077,2210,2347,2558,2713,2960,3176,3476,3753,4036,4329,4570,5054,5586,6163,6551,7363,8430,9577,10986,12546,14676,16595,18865,20698,21787,21773,20711,18242,14705,11068,7919,5217,3217,1800,973,469,209,74,25,11,1]}},{\"_typename\":\"TH1D\",\"fUniqueID\":0,\"fBits\":520,\"fName\":\"h_ecal_cluster_energy\",\"fTitle\":\"Ecal Cluster Energy\",\"fLineColor\":600,\"fLineStyle\":1,\"fLineWidth\":1,\"fFillColor\":0,\"fFillStyle\":1001,\"fMarkerColor\":1,\"fMarkerStyle\":1,\"fMarkerSize\":1,\"fNcells\":202,\"fXaxis\":{\"_typename\":\"TAxis\",\"fUniqueID\":0,\"fBits\":0,\"fName\":\"xaxis\",\"fTitle\":\"E[GeV]\",\"fNdivisions\":510,\"fAxisColor\":1,\"fLabelColor\":1,\"fLabelFont\":42,\"fLabelOffset\":0.005,\"fLabelSize\":0.035,\"fTickLength\":0.03,\"fTitleOffset\":1,\"fTitleSize\":0.035,\"fTitleColor\":1,\"fTitleFont\":42,\"fNbins\":200,\"fXmin\":1.5,\"fXmax\":5.85,\"fXbins\":[],\"fFirst\":0,\"fLast\":0,\"fBits2\":0,\"fTimeDisplay\":false,\"fTimeFormat\":\"\",\"fLabels\":null,\"fModLabs\":null},\"fYaxis\":{\"_typename\":\"TAxis\",\"fUniqueID\":0,\"fBits\":0,\"fName\":\"yaxis\",\"fTitle\":\"\",\"fNdivisions\":510,\"fAxisColor\":1,\"fLabelColor\":1,\"fLabelFont\":42,\"fLabelOffset\":0.005,\"fLabelSize\":0.035,\"fTickLength\":0.03,\"fTitleOffset\":0,\"fTitleSize\":0.035,\"fTitleColor\":1,\"fTitleFont\":42,\"fNbins\":1,\"fXmin\":0,\"fXmax\":1,\"fXbins\":[],\"fFirst\":0,\"fLast\":0,\"fBits2\":0,\"fTimeDisplay\":false,\"fTimeFormat\":\"\",\"fLabels\":null,\"fModLabs\":null},\"fZaxis\":{\"_typename\":\"TAxis\",\"fUniqueID\":0,\"fBits\":0,\"fName\":\"zaxis\",\"fTitle\":\"\",\"fNdivisions\":510,\"fAxisColor\":1,\"fLabelColor\":1,\"fLabelFont\":42,\"fLabelOffset\":0.005,\"fLabelSize\":0.035,\"fTickLength\":0.03,\"fTitleOffset\":1,\"fTitleSize\":0.035,\"fTitleColor\":1,\"fTitleFont\":42,\"fNbins\":1,\"fXmin\":0,\"fXmax\":1,\"fXbins\":[],\"fFirst\":0,\"fLast\":0,\"fBits2\":0,\"fTimeDisplay\":false,\"fTimeFormat\":\"\",\"fLabels\":null,\"fModLabs\":null},\"fBarOffset\":0,\"fBarWidth\":1000,\"fEntries\":338422,\"fTsumw\":338422,\"fTsumw2\":338422,\"fTsumwx\":1576534.06927681,\"fTsumwx2\":7368608.6290208,\"fMaximum\":-1111,\"fMinimum\":-1111,\"fNormFactor\":0,\"fContour\":[],\"fSumw2\":[],\"fOption\":\"\",\"fFunctions\":{\"_typename\":\"TList\",\"name\":\"TList\",\"arr\":[{\"_typename\":\"TF1\",\"fUniqueID\":0,\"fBits\":1544,\"fName\":\"gaus\",\"fTitle\":\"gaus\",\"fLineColor\":633,\"fLineStyle\":1,\"fLineWidth\":1,\"fFillColor\":19,\"fFillStyle\":0,\"fMarkerColor\":1,\"fMarkerStyle\":1,\"fMarkerSize\":1,\"fXmin\":4.5187311912302,\"fXmax\":5.03116462528723,\"fNpar\":3,\"fNdim\":1,\"fNpx\":100,\"fType\":0,\"fNpfits\":23,\"fNDF\":20,\"fChisquare\":966.538475561693,\"fMinimum\":-1111,\"fMaximum\":-1111,\"fParErrors\":[48.897572171835,3.07857189913054e-4,2.99722448150214e-4],\"fParMin\":[0,0,0],\"fParMax\":[0,0,1.11585149528021],\"fSave\":{\"$arr\":\"Float64\",\"len\":103,\"v\":[4161.31227544134,4455.50373195455,4763.03205451906,5083.82257195951,5417.73120439312,5764.54072213474,6123.95734642156,6495.60774729797,6879.03649310218,7273.70400433966,7678.98506229079,8094.16791946176,8518.45405495955,8950.95861305105,9390.71155759453,9836.6595687327,10287.668701272,10742.5278166091,11199.9527919721,11658.591502226,12117.0295606385,12573.7967959344,13027.3744338035,13476.2029418905,13918.6904883274,14353.221955194,14778.1684400534,15191.8971710353,15592.7817539602,15979.2126638364,16349.6078878273,16702.4236225831,17036.1649257493,17349.3962195687,17640.7515438476,17908.9444561928,18152.7774793652,18371.1509988304,18563.0715180965,18727.6591851779,18864.1545104284,18971.9242039912,19050.4660700886,19099.4129052296,19118.5353579932,19107.7437192243,19067.0886230887,18996.7606513219,18897.088845,18768.5381400932,18611.7057547695,18427.3165677274,18216.217537602,17979.3712235558,17717.8484764018,17432.8203778907,17125.5495130126,16797.3806662453,16449.7310375373,16084.0800774075,15701.9590428503,15304.9403767218,14894.6270130038,14472.6417087788,14040.6165009994,13600.1823822322,13152.9592845998,12700.5464552323,12244.513299775,11786.3907630053,11327.663307519,10869.761542875,10414.0555486953,9961.84892610436,9514.37360273099,9072.78540738633,8638.16042160417,8211.49210661231,7793.68919607788,7385.57433725397,6987.88345601168,6601.26581475549,6226.28472643904,5863.41888286457,5513.06425120079,5175.53648919248,4851.07382687717,4539.84036075134,4241.92970522082,3957.36894580307,3686.12283887078,3428.09820369984,3183.14845414763,2951.07821938036,2731.64800563128,2524.57885392996,2329.55695203688,2146.23816237047,1974.25243146515,1813.20805037925,1662.69573941857,4.5187311912302,5.03116462528723]},\"fNormalized\":false,\"fNormIntegral\":0,\"fFormula\":{\"_typename\":\"TFormula\",\"fUniqueID\":0,\"fBits\":1024,\"fName\":\"gaus\",\"fTitle\":\"gaus\",\"fClingParameters\":[19118.825699446,4.74491570108643,0.129519540282737],\"fAllParametersSetted\":true,\"fParams\":[{\"$pair\":\"pair<TString,int,TFormulaParamOrder>\",\"first\":\"Constant\",\"second\":0},{\"$pair\":\"pair<TString,int,TFormulaParamOrder>\",\"first\":\"Mean\",\"second\":1},{\"$pair\":\"pair<TString,int,TFormulaParamOrder>\",\"first\":\"Sigma\",\"second\":2}],\"fFormula\":\"[Constant]*exp(-0.5*((x-[Mean])\\/[Sigma])*((x-[Mean])\\/[Sigma]))\",\"fNdim\":1,\"fLinearParts\":[],\"fVectorized\":false},\"fParams\":null,\"fComposition\":null}],\"opt\":[\"\"]},\"fBufferSize\":0,\"fBuffer\":[],\"fBinStatErrOpt\":0,\"fStatOverflows\":2,\"fArray\":{\"$arr\":\"Float64\",\"len\":202,\"p\":63,\"v\":[1,1,1,1,0,2,6,7,13,15,13,19,24,31,39,40,57,65,64,91,101,111,127,118,135,167,167,189,213,217,243,247,294,293,318,347,348,327,354,424,416,417,491,491,527,520,570,594,641,619,694,732,810,813,851,897,910,995,1075,1180,1132,1284,1430,1430,1637,1737,1840,2036,2150,2353,2611,2982,3246,3582,4209,4674,5501,6545,7336,8500,9960,11398,13085,14731,16363,17637,18787,19497,19293,18668,17516,15592,13198,11021,8966,7081,5345,4123,2827,2055,1505,1088,743,562,409,294,233,181,153,84,69,48,48,35,28,31,22,16,9,8,13,6,3,0,0,1,0,2]}},{\"_typename\":\"TH1D\",\"fUniqueID\":0,\"fBits\":8,\"fName\":\"h_ecal_cluster_uncor_energy\",\"fTitle\":\"Ecal Un-corrected Cluster Energy\",\"fLineColor\":418,\"fLineStyle\":1,\"fLineWidth\":1,\"fFillColor\":0,\"fFillStyle\":1001,\"fMarkerColor\":1,\"fMarkerStyle\":1,\"fMarkerSize\":1,\"fNcells\":202,\"fXaxis\":{\"_typename\":\"TAxis\",\"fUniqueID\":0,\"fBits\":0,\"fName\":\"xaxis\",\"fTitle\":\"E[GeV]\",\"fNdivisions\":510,\"fAxisColor\":1,\"fLabelColor\":1,\"fLabelFont\":42,\"fLabelOffset\":0.005,\"fLabelSize\":0.035,\"fTickLength\":0.03,\"fTitleOffset\":1,\"fTitleSize\":0.035,\"fTitleColor\":1,\"fTitleFont\":42,\"fNbins\":200,\"fXmin\":1.5,\"fXmax\":5.85,\"fXbins\":[],\"fFirst\":0,\"fLast\":0,\"fBits2\":0,\"fTimeDisplay\":false,\"fTimeFormat\":\"\",\"fLabels\":null,\"fModLabs\":null},\"fYaxis\":{\"_typename\":\"TAxis\",\"fUniqueID\":0,\"fBits\":0,\"fName\":\"yaxis\",\"fTitle\":\"\",\"fNdivisions\":510,\"fAxisColor\":1,\"fLabelColor\":1,\"fLabelFont\":42,\"fLabelOffset\":0.005,\"fLabelSize\":0.035,\"fTickLength\":0.03,\"fTitleOffset\":0,\"fTitleSize\":0.035,\"fTitleColor\":1,\"fTitleFont\":42,\"fNbins\":1,\"fXmin\":0,\"fXmax\":1,\"fXbins\":[],\"fFirst\":0,\"fLast\":0,\"fBits2\":0,\"fTimeDisplay\":false,\"fTimeFormat\":\"\",\"fLabels\":null,\"fModLabs\":null},\"fZaxis\":{\"_typename\":\"TAxis\",\"fUniqueID\":0,\"fBits\":0,\"fName\":\"zaxis\",\"fTitle\":\"\",\"fNdivisions\":510,\"fAxisColor\":1,\"fLabelColor\":1,\"fLabelFont\":42,\"fLabelOffset\":0.005,\"fLabelSize\":0.035,\"fTickLength\":0.03,\"fTitleOffset\":1,\"fTitleSize\":0.035,\"fTitleColor\":1,\"fTitleFont\":42,\"fNbins\":1,\"fXmin\":0,\"fXmax\":1,\"fXbins\":[],\"fFirst\":0,\"fLast\":0,\"fBits2\":0,\"fTimeDisplay\":false,\"fTimeFormat\":\"\",\"fLabels\":null,\"fModLabs\":null},\"fBarOffset\":0,\"fBarWidth\":1000,\"fEntries\":339382,\"fTsumw\":339382,\"fTsumw2\":339382,\"fTsumwx\":1321741.29153872,\"fTsumwx2\":5171392.87430684,\"fMaximum\":-1111,\"fMinimum\":-1111,\"fNormFactor\":0,\"fContour\":[],\"fSumw2\":[],\"fOption\":\"\",\"fFunctions\":{\"_typename\":\"TList\",\"name\":\"TList\",\"arr\":[],\"opt\":[]},\"fBufferSize\":0,\"fBuffer\":[],\"fBinStatErrOpt\":0,\"fStatOverflows\":2,\"fArray\":{\"$arr\":\"Float64\",\"len\":202,\"p\":40,\"v\":[1,0,5,7,12,9,17,26,28,44,57,77,91,104,121,159,158,191,199,186,273,276,267,337,369,383,379,442,484,477,524,563,560,603,666,703,728,760,797,857,916,1015,1051,1090,1160,1169,1360,1398,1510,1665,1768,1955,1982,2162,2301,2483,2675,2837,3086,3390,3701,3973,4415,4586,5001,5543,6155,6787,7599,8453,9779,11203,13158,15108,17409,19641,21461,22020,22074,20464,17940,14575,10899,7371,4919,2940,1644,913,407,195,72,43,17,3,1]}},{\"_typename\":\"TH1D\",\"fUniqueID\":0,\"fBits\":8,\"fName\":\"h_ecal_cluster_energy\",\"fTitle\":\"Ecal Cluster Energy\",\"fLineColor\":432,\"fLineStyle\":1,\"fLineWidth\":1,\"fFillColor\":0,\"fFillStyle\":1001,\"fMarkerColor\":1,\"fMarkerStyle\":1,\"fMarkerSize\":1,\"fNcells\":202,\"fXaxis\":{\"_typename\":\"TAxis\",\"fUniqueID\":0,\"fBits\":0,\"fName\":\"xaxis\",\"fTitle\":\"E[GeV]\",\"fNdivisions\":510,\"fAxisColor\":1,\"fLabelColor\":1,\"fLabelFont\":42,\"fLabelOffset\":0.005,\"fLabelSize\":0.035,\"fTickLength\":0.03,\"fTitleOffset\":1,\"fTitleSize\":0.035,\"fTitleColor\":1,\"fTitleFont\":42,\"fNbins\":200,\"fXmin\":1.5,\"fXmax\":5.85,\"fXbins\":[],\"fFirst\":0,\"fLast\":0,\"fBits2\":0,\"fTimeDisplay\":false,\"fTimeFormat\":\"\",\"fLabels\":null,\"fModLabs\":null},\"fYaxis\":{\"_typename\":\"TAxis\",\"fUniqueID\":0,\"fBits\":0,\"fName\":\"yaxis\",\"fTitle\":\"\",\"fNdivisions\":510,\"fAxisColor\":1,\"fLabelColor\":1,\"fLabelFont\":42,\"fLabelOffset\":0.005,\"fLabelSize\":0.035,\"fTickLength\":0.03,\"fTitleOffset\":0,\"fTitleSize\":0.035,\"fTitleColor\":1,\"fTitleFont\":42,\"fNbins\":1,\"fXmin\":0,\"fXmax\":1,\"fXbins\":[],\"fFirst\":0,\"fLast\":0,\"fBits2\":0,\"fTimeDisplay\":false,\"fTimeFormat\":\"\",\"fLabels\":null,\"fModLabs\":null},\"fZaxis\":{\"_typename\":\"TAxis\",\"fUniqueID\":0,\"fBits\":0,\"fName\":\"zaxis\",\"fTitle\":\"\",\"fNdivisions\":510,\"fAxisColor\":1,\"fLabelColor\":1,\"fLabelFont\":42,\"fLabelOffset\":0.005,\"fLabelSize\":0.035,\"fTickLength\":0.03,\"fTitleOffset\":1,\"fTitleSize\":0.035,\"fTitleColor\":1,\"fTitleFont\":42,\"fNbins\":1,\"fXmin\":0,\"fXmax\":1,\"fXbins\":[],\"fFirst\":0,\"fLast\":0,\"fBits2\":0,\"fTimeDisplay\":false,\"fTimeFormat\":\"\",\"fLabels\":null,\"fModLabs\":null},\"fBarOffset\":0,\"fBarWidth\":1000,\"fEntries\":339382,\"fTsumw\":339382,\"fTsumw2\":339382,\"fTsumwx\":1562665.68605471,\"fTsumwx2\":7218521.36340496,\"fMaximum\":-1111,\"fMinimum\":-1111,\"fNormFactor\":0,\"fContour\":[],\"fSumw2\":[],\"fOption\":\"\",\"fFunctions\":{\"_typename\":\"TList\",\"name\":\"TList\",\"arr\":[{\"_typename\":\"TF1\",\"fUniqueID\":0,\"fBits\":1544,\"fName\":\"gaus\",\"fTitle\":\"gaus\",\"fLineColor\":632,\"fLineStyle\":1,\"fLineWidth\":1,\"fFillColor\":19,\"fFillStyle\":0,\"fMarkerColor\":1,\"fMarkerStyle\":1,\"fMarkerSize\":1,\"fXmin\":4.46631145868981,\"fXmax\":4.97280038699484,\"fNpar\":3,\"fNdim\":1,\"fNpx\":100,\"fType\":0,\"fNpfits\":24,\"fNDF\":21,\"fChisquare\":923.133251253653,\"fMinimum\":-1111,\"fMaximum\":-1111,\"fParErrors\":[49.0278538188708,2.94841640635342e-4,2.75413236954264e-4],\"fParMin\":[0,0,0],\"fParMax\":[0,0,1.1303891991974],\"fSave\":{\"$arr\":\"Float64\",\"len\":103,\"v\":[4544.973210642,4858.28865135261,5185.11152249362,5525.29778727365,5878.62933513089,6244.81052738459,6623.46514219141,7014.13377375927,7416.27173912977,7829.24754342019,8252.34195118893,8684.74770756932,9125.56994799887,9573.82732979962,10028.4539125568,10488.3018072705,10952.1446066671,11418.6816009402,11886.5427746395,12354.2945715292,12820.4464051225,13283.4578833746,13741.7467068195,14193.6971903863,14637.6693503832,15072.0084898015,15495.0552073274,15905.1557483642,16300.6726101017,16679.9953073217,17041.551201313,17383.8162910717,17705.3258639488,18004.684902153,18280.5781420362,18531.7796849283,18757.16206142,18955.70465542,19126.5013999737,19268.767663679,19381.8462544799,19465.2124765621,19518.4781859071,19541.3948006419,19533.855233516,19495.8947254827,19427.6905713075,19329.5607401903,19201.9614064205,19045.4834168974,18860.8477337922,18648.8999015371,18410.6035975542,18147.0333355439,17859.3663986184,17548.8740869747,17216.9123710759,16864.912046363,16494.368489312,16106.8311171424,15703.8926546714,15287.1783116892,14858.3349728511,14419.0204994723,13970.8932388489,13515.6018318945,13054.7754040597,12590.0142178218,12122.8808575896,11654.8920098086,11187.510892492,10722.1403794914,10260.1168556799,9802.70482999571,9351.09232410498,8906.38704542625,8469.61334451412,8041.70994845586,7623.52845406561,7215.83255737047,6819.29798923176,6434.51312099287,6061.98019884672,5702.11716118705,5355.25998958396,5021.66554119362,4701.51480838359,4394.91655009387,4101.9112389463,3822.47526830667,3556.52536436116,3303.92314972891,3064.47980713763,2837.96079418014,2624.09056307086,2422.5572425748,2233.01724280786,2055.09974734907,1888.41106098647,1732.53878538505,1587.05579894908,4.46631145868981,4.97280038699484]},\"fNormalized\":false,\"fNormIntegral\":0,\"fFormula\":{\"_typename\":\"TFormula\",\"fUniqueID\":0,\"fBits\":1024,\"fName\":\"gaus\",\"fTitle\":\"gaus\",\"fClingParameters\":[19542.3663301374,4.68538067739407,0.128263704511301],\"fAllParametersSetted\":true,\"fParams\":[{\"$pair\":\"pair<TString,int,TFormulaParamOrder>\",\"first\":\"Constant\",\"second\":0},{\"$pair\":\"pair<TString,int,TFormulaParamOrder>\",\"first\":\"Mean\",\"second\":1},{\"$pair\":\"pair<TString,int,TFormulaParamOrder>\",\"first\":\"Sigma\",\"second\":2}],\"fFormula\":\"[Constant]*exp(-0.5*((x-[Mean])\\/[Sigma])*((x-[Mean])\\/[Sigma]))\",\"fNdim\":1,\"fLinearParts\":[],\"fVectorized\":false},\"fParams\":null,\"fComposition\":null}],\"opt\":[\"\"]},\"fBufferSize\":0,\"fBuffer\":[],\"fBinStatErrOpt\":0,\"fStatOverflows\":2,\"fArray\":{\"$arr\":\"Float64\",\"len\":202,\"p\":62,\"v\":[1,1,2,1,1,3,5,9,15,12,19,16,29,32,40,43,54,67,68,102,122,105,108,129,179,182,169,193,222,232,262,270,299,326,294,352,367,379,358,448,429,482,481,508,555,569,577,645,660,672,720,805,819,881,879,944,991,1060,1110,1228,1259,1309,1520,1679,1735,1863,1977,2287,2396,2668,3096,3363,3939,4364,5095,6006,6944,8145,9609,11082,12900,14540,16190,17847,19074,19866,19655,19258,18109,16424,14109,11798,9666,7435,5814,4250,3165,2197,1651,1161,835,634,490,321,261,193,142,135,98,63,32,41,25,32,31,23,10,12,9,5,6,3,2,0,1,2]}},{\"$ref\":13},{\"$ref\":25},{\"_typename\":\"TLegend\",\"fUniqueID\":0,\"fBits\":8,\"fLineColor\":1,\"fLineStyle\":1,\"fLineWidth\":1,\"fFillColor\":0,\"fFillStyle\":1001,\"fX1\":1.49999996758997,\"fY1\":17157.262585221,\"fX2\":3.5662499983795,\"fY2\":22876.3501704421,\"fX1NDC\":0.1,\"fY1NDC\":0.7,\"fX2NDC\":0.48,\"fY2NDC\":0.9,\"fBorderSize\":1,\"fInit\":1,\"fShadowColor\":1,\"fCornerRadius\":0,\"fOption\":\"brNDC\",\"fName\":\"TPave\",\"fTextAngle\":0,\"fTextSize\":0,\"fTextAlign\":12,\"fTextColor\":1,\"fTextFont\":42,\"fPrimitives\":{\"_typename\":\"TList\",\"name\":\"TList\",\"arr\":[{\"_typename\":\"TLegendEntry\",\"fUniqueID\":0,\"fBits\":0,\"fTextAngle\":0,\"fTextSize\":0,\"fTextAlign\":0,\"fTextColor\":0,\"fTextFont\":42,\"fLineColor\":416,\"fLineStyle\":1,\"fLineWidth\":1,\"fFillColor\":0,\"fFillStyle\":1001,\"fMarkerColor\":1,\"fMarkerStyle\":1,\"fMarkerSize\":1,\"fObject\":{\"$ref\":3},\"fLabel\":\"Uncor Cluster E, no threshold\",\"fOption\":\"lpf\"},{\"_typename\":\"TLegendEntry\",\"fUniqueID\":0,\"fBits\":0,\"fTextAngle\":0,\"fTextSize\":0,\"fTextAlign\":0,\"fTextColor\":0,\"fTextFont\":42,\"fLineColor\":418,\"fLineStyle\":1,\"fLineWidth\":1,\"fFillColor\":0,\"fFillStyle\":1001,\"fMarkerColor\":1,\"fMarkerStyle\":1,\"fMarkerSize\":1,\"fObject\":{\"$ref\":15},\"fLabel\":\"Uncor Cluster E, thres = 0.03\",\"fOption\":\"lpf\"},{\"_typename\":\"TLegendEntry\",\"fUniqueID\":0,\"fBits\":0,\"fTextAngle\":0,\"fTextSize\":0,\"fTextAlign\":0,\"fTextColor\":0,\"fTextFont\":42,\"fLineColor\":600,\"fLineStyle\":1,\"fLineWidth\":1,\"fFillColor\":0,\"fFillStyle\":1001,\"fMarkerColor\":1,\"fMarkerStyle\":1,\"fMarkerSize\":1,\"fObject\":{\"$ref\":8},\"fLabel\":\"Cluster E, no threshold\",\"fOption\":\"lpf\"},{\"_typename\":\"TLegendEntry\",\"fUniqueID\":0,\"fBits\":0,\"fTextAngle\":0,\"fTextSize\":0,\"fTextAlign\":0,\"fTextColor\":0,\"fTextFont\":42,\"fLineColor\":432,\"fLineStyle\":1,\"fLineWidth\":1,\"fFillColor\":0,\"fFillStyle\":1001,\"fMarkerColor\":1,\"fMarkerStyle\":1,\"fMarkerSize\":1,\"fObject\":{\"$ref\":20},\"fLabel\":\"Cluster E, thres = 0.03\",\"fOption\":\"lpf\"}],\"opt\":[\"lpf\",\"lpf\",\"lpf\",\"lpf\"]},\"fEntrySeparation\":0.1,\"fMargin\":0.25,\"fNColumns\":1,\"fColumnSeparation\":0},{\"_typename\":\"TPaveText\",\"fUniqueID\":0,\"fBits\":8,\"fLineColor\":1,\"fLineStyle\":1,\"fLineWidth\":1,\"fFillColor\":19,\"fFillStyle\":1001,\"fX1\":1.66312497002072,\"fY1\":8578.63120738947,\"fX2\":3.40312499594875,\"fY2\":14297.7187926105,\"fX1NDC\":0.13,\"fY1NDC\":0.4,\"fX2NDC\":0.45,\"fY2NDC\":0.6,\"fBorderSize\":4,\"fInit\":1,\"fShadowColor\":1,\"fCornerRadius\":0,\"fOption\":\"brNDC\",\"fName\":\"TPave\",\"fTextAngle\":0,\"fTextSize\":0,\"fTextAlign\":12,\"fTextColor\":1,\"fTextFont\":42,\"fLabel\":\"\",\"fLongest\":47,\"fMargin\":0.05,\"fLines\":{\"_typename\":\"TList\",\"name\":\"TList\",\"arr\":[{\"_typename\":\"TLatex\",\"fUniqueID\":0,\"fBits\":0,\"fName\":\"\",\"fTitle\":\"Uncor Cluster E no thresh,   mean = 3.94 GeV\",\"fTextAngle\":0,\"fTextSize\":0,\"fTextAlign\":0,\"fTextColor\":416,\"fTextFont\":0,\"fX\":0,\"fY\":0,\"fLineColor\":1,\"fLineStyle\":1,\"fLineWidth\":2,\"fLimitFactorSize\":3,\"fOriginSize\":0.0210117138922215},{\"_typename\":\"TLatex\",\"fUniqueID\":0,\"fBits\":0,\"fName\":\"\",\"fTitle\":\"Uncor Cluster E thresh=0.03, mean = 3.89 GeV\",\"fTextAngle\":0,\"fTextSize\":0,\"fTextAlign\":0,\"fTextColor\":418,\"fTextFont\":0,\"fX\":0,\"fY\":0,\"fLineColor\":1,\"fLineStyle\":1,\"fLineWidth\":2,\"fLimitFactorSize\":3,\"fOriginSize\":0.0210117138922215},{\"_typename\":\"TLatex\",\"fUniqueID\":0,\"fBits\":0,\"fName\":\"\",\"fTitle\":\"Cor Cluster no thresh,       mean = 4.66 GeV\",\"fTextAngle\":0,\"fTextSize\":0,\"fTextAlign\":0,\"fTextColor\":600,\"fTextFont\":0,\"fX\":0,\"fY\":0,\"fLineColor\":1,\"fLineStyle\":1,\"fLineWidth\":2,\"fLimitFactorSize\":3,\"fOriginSize\":0.0210117138922215},{\"_typename\":\"TLatex\",\"fUniqueID\":0,\"fBits\":0,\"fName\":\"\",\"fTitle\":\"Cor Cluster E thresh=0.03,   mean = 4.60 GeV\",\"fTextAngle\":0,\"fTextSize\":0,\"fTextAlign\":0,\"fTextColor\":432,\"fTextFont\":0,\"fX\":0,\"fY\":0,\"fLineColor\":1,\"fLineStyle\":1,\"fLineWidth\":2,\"fLimitFactorSize\":3,\"fOriginSize\":0.0210117138922215},{\"_typename\":\"TLatex\",\"fUniqueID\":0,\"fBits\":0,\"fName\":\"\",\"fTitle\":\"Cor Cluster no thresh,       fit #mu = 4.74 GeV\",\"fTextAngle\":0,\"fTextSize\":0,\"fTextAlign\":0,\"fTextColor\":633,\"fTextFont\":0,\"fX\":0,\"fY\":0,\"fLineColor\":1,\"fLineStyle\":1,\"fLineWidth\":2,\"fLimitFactorSize\":3,\"fOriginSize\":0.0210117138922215},{\"_typename\":\"TLatex\",\"fUniqueID\":0,\"fBits\":0,\"fName\":\"\",\"fTitle\":\"Cor Cluster E thresh=0.03,   fit #mu = 4.69 GeV\",\"fTextAngle\":0,\"fTextSize\":0,\"fTextAlign\":0,\"fTextColor\":632,\"fTextFont\":0,\"fX\":0,\"fY\":0,\"fLineColor\":1,\"fLineStyle\":1,\"fLineWidth\":2,\"fLimitFactorSize\":3,\"fOriginSize\":0.0210117138922215}],\"opt\":[\"\",\"\",\"\",\"\",\"\",\"\"]}},{\"_typename\":\"TPaveText\",\"fUniqueID\":0,\"fBits\":9,\"fLineColor\":1,\"fLineStyle\":1,\"fLineWidth\":1,\"fFillColor\":0,\"fFillStyle\":0,\"fX1\":1.77187497164123,\"fY1\":23853.1944625232,\"fX2\":5.57812502835877,\"fY2\":25592.9169097758,\"fX1NDC\":0.15,\"fY1NDC\":0.934160843929211,\"fX2NDC\":0.85,\"fY2NDC\":0.995000004768372,\"fBorderSize\":0,\"fInit\":1,\"fShadowColor\":1,\"fCornerRadius\":0,\"fOption\":\"blNDC\",\"fName\":\"title\",\"fTextAngle\":0,\"fTextSize\":0,\"fTextAlign\":22,\"fTextColor\":1,\"fTextFont\":42,\"fLabel\":\"\",\"fLongest\":47,\"fMargin\":0.05,\"fLines\":{\"_typename\":\"TList\",\"name\":\"TList\",\"arr\":[{\"_typename\":\"TLatex\",\"fUniqueID\":0,\"fBits\":0,\"fName\":\"\",\"fTitle\":\"Ecal Cluster Energies for e- primary of 4.5 GeV\",\"fTextAngle\":0,\"fTextSize\":0,\"fTextAlign\":0,\"fTextColor\":0,\"fTextFont\":0,\"fX\":0,\"fY\":0,\"fLineColor\":1,\"fLineStyle\":1,\"fLineWidth\":2,\"fLimitFactorSize\":3,\"fOriginSize\":0.0453153364360332}],\"opt\":[\"\"]}},{\"_typename\":\"TStyle\",\"fUniqueID\":0,\"fBits\":0,\"fName\":\"Modern\",\"fTitle\":\"Modern Style\",\"fLineColor\":1,\"fLineStyle\":1,\"fLineWidth\":1,\"fFillColor\":19,\"fFillStyle\":1001,\"fMarkerColor\":1,\"fMarkerStyle\":1,\"fMarkerSize\":1,\"fTextAngle\":0,\"fTextSize\":0.05,\"fTextAlign\":11,\"fTextColor\":1,\"fTextFont\":62,\"fXaxis\":{\"_typename\":\"TAttAxis\",\"fNdivisions\":510,\"fAxisColor\":1,\"fLabelColor\":1,\"fLabelFont\":42,\"fLabelOffset\":0.005,\"fLabelSize\":0.035,\"fTickLength\":0.03,\"fTitleOffset\":1,\"fTitleSize\":0.035,\"fTitleColor\":1,\"fTitleFont\":42},\"fYaxis\":{\"_typename\":\"TAttAxis\",\"fNdivisions\":510,\"fAxisColor\":1,\"fLabelColor\":1,\"fLabelFont\":42,\"fLabelOffset\":0.005,\"fLabelSize\":0.035,\"fTickLength\":0.03,\"fTitleOffset\":0,\"fTitleSize\":0.035,\"fTitleColor\":1,\"fTitleFont\":42},\"fZaxis\":{\"_typename\":\"TAttAxis\",\"fNdivisions\":510,\"fAxisColor\":1,\"fLabelColor\":1,\"fLabelFont\":42,\"fLabelOffset\":0.005,\"fLabelSize\":0.035,\"fTickLength\":0.03,\"fTitleOffset\":1,\"fTitleSize\":0.035,\"fTitleColor\":1,\"fTitleFont\":42},\"fBarWidth\":1,\"fBarOffset\":0,\"fColorModelPS\":0,\"fDrawBorder\":0,\"fOptLogx\":0,\"fOptLogy\":0,\"fOptLogz\":0,\"fOptDate\":0,\"fOptStat\":1111,\"fOptTitle\":1,\"fOptFile\":0,\"fOptFit\":0,\"fShowEventStatus\":0,\"fShowEditor\":0,\"fShowToolBar\":0,\"fNumberContours\":20,\"fAttDate\":{\"_typename\":\"TAttText\",\"fTextAngle\":0,\"fTextSize\":0.025,\"fTextAlign\":11,\"fTextColor\":1,\"fTextFont\":62},\"fDateX\":0.01,\"fDateY\":0.01,\"fEndErrorSize\":2,\"fErrorX\":0.5,\"fFuncColor\":2,\"fFuncStyle\":1,\"fFuncWidth\":2,\"fGridColor\":0,\"fGridStyle\":3,\"fGridWidth\":1,\"fLegendBorderSize\":1,\"fLegendFillColor\":0,\"fLegendFont\":42,\"fLegendTextSize\":0,\"fHatchesLineWidth\":1,\"fHatchesSpacing\":1,\"fFrameFillColor\":0,\"fFrameLineColor\":1,\"fFrameFillStyle\":1001,\"fFrameLineStyle\":1,\"fFrameLineWidth\":1,\"fFrameBorderSize\":1,\"fFrameBorderMode\":0,\"fHistFillColor\":0,\"fHistLineColor\":602,\"fHistFillStyle\":1001,\"fHistLineStyle\":1,\"fHistLineWidth\":1,\"fHistMinimumZero\":false,\"fHistTopMargin\":0.05,\"fCanvasPreferGL\":false,\"fCanvasColor\":0,\"fCanvasBorderSize\":2,\"fCanvasBorderMode\":0,\"fCanvasDefH\":500,\"fCanvasDefW\":700,\"fCanvasDefX\":10,\"fCanvasDefY\":10,\"fPadColor\":0,\"fPadBorderSize\":2,\"fPadBorderMode\":0,\"fPadBottomMargin\":0.1,\"fPadTopMargin\":0.1,\"fPadLeftMargin\":0.1,\"fPadRightMargin\":0.1,\"fPadGridX\":false,\"fPadGridY\":false,\"fPadTickX\":0,\"fPadTickY\":0,\"fPaperSizeX\":20,\"fPaperSizeY\":26,\"fScreenFactor\":1,\"fStatColor\":0,\"fStatTextColor\":1,\"fStatBorderSize\":1,\"fStatFont\":42,\"fStatFontSize\":0,\"fStatStyle\":1001,\"fStatFormat\":\"6.4g\",\"fStatX\":0.98,\"fStatY\":0.935,\"fStatW\":0.2,\"fStatH\":0.16,\"fStripDecimals\":true,\"fTitleAlign\":23,\"fTitleColor\":0,\"fTitleTextColor\":1,\"fTitleBorderSize\":0,\"fTitleFont\":42,\"fTitleFontSize\":0.05,\"fTitleStyle\":0,\"fTitleX\":0.5,\"fTitleY\":0.995,\"fTitleW\":0,\"fTitleH\":0,\"fLegoInnerR\":0.5,\"fLineStyles\":[\"\",\"  \",\" 12 12\",\" 4 8\",\" 12 16 4 16\",\" 20 12 4 12\",\" 20 12 4 12 4 12 4 12\",\" 20 20\",\" 20 12 4 12 4 12\",\" 80 20\",\" 80 40 4 40\",\"  \",\"  \",\"  \",\"  \",\"  \",\"  \",\"  \",\"  \",\"  \",\"  \",\"  \",\"  \",\"  \",\"  \",\"  \",\"  \",\"  \",\"  \",\"  \"],\"fHeaderPS\":\"\",\"fTitlePS\":\"\",\"fFitFormat\":\"5.4g\",\"fPaintTextFormat\":\"g\",\"fLineScalePS\":3,\"fJoinLinePS\":0,\"fCapLinePS\":0,\"fTimeOffset\":788918400,\"fImageScaling\":1}],\"opt\":[\"\",\"\",\"sameE\",\"same\",\"sameE\",\"same\",\"same\",\"\",\"brNDC\",\"blNDC\",\"\"]},\"fExecs\":null,\"fName\":\"cc0\",\"fTitle\":\"CC0\",\"fNumPaletteColor\":0,\"fNextPaletteColor\":0,\"fDISPLAY\":\"$DISPLAY\",\"fDoubleBuffer\":0,\"fRetained\":true,\"fXsizeUser\":0,\"fYsizeUser\":0,\"fXsizeReal\":20,\"fYsizeReal\":15,\"fWindowTopX\":0,\"fWindowTopY\":0,\"fWindowWidth\":0,\"fWindowHeight\":0,\"fCw\":796,\"fCh\":572,\"fCatt\":{\"_typename\":\"TAttCanvas\",\"fXBetween\":2,\"fYBetween\":2,\"fTitleFromTop\":1.2,\"fXdate\":0.2,\"fYdate\":0.3,\"fAdate\":1},\"kMoveOpaque\":true,\"kResizeOpaque\":true,\"fHighLightColor\":2,\"fBatch\":true,\"kShowEventStatus\":false,\"kAutoExec\":true,\"kMenuBar\":true});\n   Core.settings.HandleKeys = false;\n   Core.draw(\"root_plot_1679337876428\", obj, \"\");\n}\n\nfunction script_load_root_plot_1679337876428(src, on_error) {\n    let script = document.createElement('script');\n    script.src = src;\n    script.onload = function() { display_root_plot_1679337876428(JSROOT); };\n    script.onerror = function() { script.remove(); on_error(); };\n    document.head.appendChild(script);\n}\n\nif (typeof requirejs !== 'undefined') {\n\n    // We are in jupyter notebooks, use require.js which should be configured already\n    requirejs.config({\n       paths: { 'JSRootCore' : [ 'build/jsroot', 'https://root.cern/js/7.2.1/build/jsroot', 'https://jsroot.gsi.de/7.2.1/build/jsroot' ] }\n    })(['JSRootCore'],  function(Core) {\n       display_root_plot_1679337876428(Core);\n    });\n\n} else if (typeof JSROOT !== 'undefined') {\n\n   // JSROOT already loaded, just use it\n   display_root_plot_1679337876428(JSROOT);\n\n} else {\n\n    // We are in jupyterlab without require.js, directly loading jsroot\n    // Jupyterlab might be installed in a different base_url so we need to know it.\n    try {\n        var base_url = JSON.parse(document.getElementById('jupyter-config-data').innerHTML).baseUrl;\n    } catch(_) {\n        var base_url = '/';\n    }\n\n    // Try loading a local version of requirejs and fallback to cdn if not possible.\n    script_load_root_plot_1679337876428(base_url + 'static/build/jsroot.js', function(){\n        console.error('Fail to load JSROOT locally, please check your jupyter_notebook_config.py file');\n        script_load_root_plot_1679337876428('https://root.cern/js/7.2.1/build/jsroot.js', function(){\n            document.getElementById(\"root_plot_1679337876428\").innerHTML = \"Failed to load JSROOT\";\n        });\n    });\n}\n\n</script>\n"
     },
     "metadata": {},
     "output_type": "display_data"
    }
   ],
   "source": [
    "# R.gaustailn.SetParameters(20000, 4.9, 0.15, 5.);\n",
    "cc0 = R.TCanvas(\"cc0\",\"CC0\",800, 600)\n",
    "xax = h_ecal_cluster_energy.GetXaxis()\n",
    "\n",
    "h_ecal_cluster_energy_uncor.SetStats(0)\n",
    "h_ecal_cluster_energy.SetStats(0)\n",
    "h_ecal_cluster_energy_uncor.SetLineColor(R.kGreen)\n",
    "h_ecal_cluster_energy.SetLineColor(R.kBlue)\n",
    "h2_ecal_cluster_energy_uncor.SetLineColor(R.kGreen+2)\n",
    "h2_ecal_cluster_energy.SetLineColor(R.kCyan)\n",
    "h_ecal_cluster_energy_uncor.SetTitle(f\"Ecal Cluster Energies for e- primary of {file_peak_e} GeV\")\n",
    "h_ecal_cluster_energy_uncor.Draw()\n",
    "h_ecal_cluster_energy.Draw(\"sameE\")\n",
    "h2_ecal_cluster_energy_uncor.Draw(\"same\")\n",
    "h2_ecal_cluster_energy.Draw(\"sameE\")\n",
    "\n",
    "#R.gaustailn.Draw(\"same\")\n",
    "fit_result = h_ecal_cluster_energy.Fit(\"gaus\",\"S0\",\"\",h_ecal_cluster_energy.GetMean()*0.97,h_ecal_cluster_energy.GetMean()*1.08)\n",
    "fit_result2 = h2_ecal_cluster_energy.Fit(\"gaus\",\"S0\",\"\",h2_ecal_cluster_energy.GetMean()*0.97,h2_ecal_cluster_energy.GetMean()*1.08)\n",
    "\n",
    "fit_fun = h_ecal_cluster_energy.GetFunction(\"gaus\")\n",
    "fit_fun.SetLineWidth(1)\n",
    "fit_fun.SetLineColor(R.kRed+1)\n",
    "fit_fun.Draw(\"same\")\n",
    "fit_fun2 = h2_ecal_cluster_energy.GetFunction(\"gaus\")\n",
    "fit_fun2.SetLineWidth(1)\n",
    "fit_fun2.SetLineColor(R.kRed)\n",
    "fit_fun2.Draw(\"same\")\n",
    "\n",
    "leg = R.TLegend(0.1,0.7,0.48,0.9)\n",
    "leg.AddEntry(h_ecal_cluster_energy_uncor.GetPtr(),\"Uncor Cluster E, no threshold\")\n",
    "leg.AddEntry(h2_ecal_cluster_energy_uncor.GetPtr(),\"Uncor Cluster E, thres = 0.03\")\n",
    "leg.AddEntry(h_ecal_cluster_energy.GetPtr(),\"Cluster E, no threshold\")\n",
    "leg.AddEntry(h2_ecal_cluster_energy.GetPtr(),\"Cluster E, thres = 0.03\")\n",
    "leg.Draw()\n",
    "\n",
    "text = R.TPaveText(0.13,0.4,0.45,0.6,\"NDC\")\n",
    "text.SetTextFont(42)\n",
    "text.SetTextAlign(12)\n",
    "pt1 = text.AddText(f\"Uncor Cluster E no thresh,   mean = {h_ecal_cluster_energy_uncor.GetMean():4.2f} GeV\")\n",
    "pt1.SetTextColor(R.kGreen)\n",
    "pt2 = text.AddText(f\"Uncor Cluster E thresh=0.03, mean = {h2_ecal_cluster_energy_uncor.GetMean():4.2f} GeV\")\n",
    "pt2.SetTextColor(R.kGreen+2)\n",
    "pt3 = text.AddText(f\"Cor Cluster no thresh,       mean = {h_ecal_cluster_energy.GetMean():4.2f} GeV\")\n",
    "pt3.SetTextColor(R.kBlue)\n",
    "pt4 = text.AddText(f\"Cor Cluster E thresh=0.03,   mean = {h2_ecal_cluster_energy.GetMean():4.2f} GeV\")\n",
    "pt4.SetTextColor(R.kCyan)\n",
    "pt5 = text.AddText(f\"Cor Cluster no thresh,       fit #mu = {fit_result.Parameter(1):4.2f} GeV\")\n",
    "pt5.SetTextColor(R.kRed+1)\n",
    "pt6 = text.AddText(f\"Cor Cluster E thresh=0.03,   fit #mu = {fit_result2.Parameter(1):4.2f} GeV\")\n",
    "pt6.SetTextColor(R.kRed)\n",
    "\n",
    "text.Draw()\n",
    "\n",
    "\n",
    "cc0.Draw()\n",
    "cc0.SaveAs(f\"ECal_energy_distribution_{file_peak_e}GeV_2021.pdf\")"
   ],
   "metadata": {
    "collapsed": false
   }
  }
 ],
 "metadata": {
  "kernelspec": {
   "display_name": "Python 3 (ipykernel)",
   "language": "python",
   "name": "python3"
  },
  "language_info": {
   "codemirror_mode": {
    "name": "ipython",
    "version": 3
   },
   "file_extension": ".py",
   "mimetype": "text/x-python",
   "name": "python",
   "nbconvert_exporter": "python",
   "pygments_lexer": "ipython3",
   "version": "3.10.9"
  }
 },
 "nbformat": 4,
 "nbformat_minor": 1
}
