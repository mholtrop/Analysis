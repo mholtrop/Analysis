{
 "cells": [
  {
   "cell_type": "code",
   "execution_count": 1,
   "metadata": {
    "collapsed": true
   },
   "outputs": [
    {
     "name": "stdout",
     "output_type": "stream",
     "text": [
      "Welcome to JupyROOT 6.29/01\n",
      "Recompile is not needed\n"
     ]
    },
    {
     "data": {
      "text/plain": "'Utility Functions V1.0.4 \\n'"
     },
     "execution_count": 1,
     "metadata": {},
     "output_type": "execute_result"
    }
   ],
   "source": [
    "import sys\n",
    "sys.path.append(\"../Python\")\n",
    "import ROOT as R\n",
    "import time\n",
    "import numpy as np\n",
    "# Turn jsroot off if you want to make a pdf from this file.\n",
    "%jsroot on\n",
    "from root_helpers import SetStyle\n",
    "from root_helpers import fancy_plot\n",
    "from root_helpers import print_mc_particle_tree\n",
    "from root_helpers import print_daughters\n",
    "R.EnableImplicitMT()\n",
    "import os\n",
    "recompile = True\n",
    "try:\n",
    "    if os.path.getmtime('../Python/Utility_Functions_C.so') - os.path.getmtime('../Python/Utility_Functions.C') > 0:\n",
    "        recompile = False\n",
    "        print(\"Recompile is not needed\")\n",
    "    else:\n",
    "        print(\"Recompiling: \")\n",
    "except:\n",
    "    print(\"Recompile needed, file not found.\")\n",
    "if recompile:\n",
    "    R.gROOT.LoadMacro(\"../Python/Utility_Functions.C++\")\n",
    "else:\n",
    "    R.gSystem.Load(\"../Python/Utility_Functions_C.so\")\n",
    "R.Utility_Functions()"
   ]
  },
  {
   "cell_type": "code",
   "execution_count": 2,
   "outputs": [],
   "source": [
    "ch1 = R.TChain(\"MiniDST\")\n",
    "ch1.Add(\"/data/HPS/data/physrun2021/MC_Raw/spaced_0.root\")\n",
    "df1 = R.RDataFrame(ch1)\n",
    "ch2 = R.TChain(\"MiniDST\")\n",
    "ch2.Add(\"/data/HPS/data/physrun2021/MC_Raw/spaced_1.root\")\n",
    "df2 = R.RDataFrame(ch2)"
   ],
   "metadata": {
    "collapsed": false
   }
  },
  {
   "cell_type": "code",
   "execution_count": 3,
   "outputs": [
    {
     "name": "stdout",
     "output_type": "stream",
     "text": [
      "Number of entries in spaced_0 = 50001 , spaced_1 = 31905\n"
     ]
    }
   ],
   "source": [
    "print(f\"Number of entries in spaced_0 = {ch1.GetEntries()} , spaced_1 = {ch2.GetEntries()}\")"
   ],
   "metadata": {
    "collapsed": false
   }
  },
  {
   "cell_type": "code",
   "execution_count": 4,
   "outputs": [
    {
     "data": {
      "text/plain": "['event_number',\n 'ext_trigger',\n 'mc_part_charge',\n 'mc_part_daughters',\n 'mc_part_end_x',\n 'mc_part_end_y',\n 'mc_part_end_z',\n 'mc_part_energy',\n 'mc_part_gen_status',\n 'mc_part_id',\n 'mc_part_mass',\n 'mc_part_parents',\n 'mc_part_pdg_id',\n 'mc_part_px',\n 'mc_part_py',\n 'mc_part_pz',\n 'mc_part_simstatus',\n 'mc_part_time',\n 'mc_part_x',\n 'mc_part_y',\n 'mc_part_z',\n 'mc_score_part_idx',\n 'mc_score_pdg',\n 'mc_score_px',\n 'mc_score_py',\n 'mc_score_pz',\n 'mc_score_time',\n 'mc_score_type',\n 'mc_score_x',\n 'mc_score_y',\n 'mc_score_z',\n 'part_charge',\n 'part_ecal_cluster',\n 'part_energy',\n 'part_goodness_of_pid',\n 'part_lcio_type',\n 'part_mass',\n 'part_pdg',\n 'part_px',\n 'part_py',\n 'part_pz',\n 'part_track',\n 'part_track_chi2',\n 'part_type',\n 'rf_time1',\n 'rf_time2',\n 'run_number',\n 'svt_status',\n 'time_stamp',\n 'track_n_gbl',\n 'trigger',\n 'v0_charge',\n 'v0_em_chi2',\n 'v0_em_clus',\n 'v0_em_clus_energy',\n 'v0_em_clus_ix',\n 'v0_em_clus_iy',\n 'v0_em_clus_pos_x',\n 'v0_em_clus_pos_y',\n 'v0_em_clus_time',\n 'v0_em_good_pid',\n 'v0_em_p',\n 'v0_em_part',\n 'v0_em_pos_ecal_x',\n 'v0_em_pos_ecal_y',\n 'v0_em_track',\n 'v0_em_track_nhit',\n 'v0_em_track_time',\n 'v0_energy',\n 'v0_ep_chi2',\n 'v0_ep_clus',\n 'v0_ep_clus_energy',\n 'v0_ep_clus_ix',\n 'v0_ep_clus_iy',\n 'v0_ep_clus_pos_x',\n 'v0_ep_clus_pos_y',\n 'v0_ep_clus_time',\n 'v0_ep_good_pid',\n 'v0_ep_p',\n 'v0_ep_part',\n 'v0_ep_pos_ecal_x',\n 'v0_ep_pos_ecal_y',\n 'v0_ep_track',\n 'v0_ep_track_nhit',\n 'v0_ep_track_time',\n 'v0_goodness_of_pid',\n 'v0_lcio_type',\n 'v0_mass',\n 'v0_mass_err',\n 'v0_pdg',\n 'v0_px',\n 'v0_py',\n 'v0_pz',\n 'v0_type',\n 'v0_vertex_chi2',\n 'v0_vertex_prob',\n 'v0_vertex_x',\n 'v0_vertex_y',\n 'v0_vertex_z']"
     },
     "execution_count": 4,
     "metadata": {},
     "output_type": "execute_result"
    }
   ],
   "source": [
    "column_names = df1.GetColumnNames()\n",
    "list(column_names)"
   ],
   "metadata": {
    "collapsed": false
   }
  },
  {
   "cell_type": "code",
   "execution_count": 5,
   "outputs": [],
   "source": [
    "R.gSystem.Load(\"/data/HPS/lib/libMiniDst\")\n",
    "mdst = R.MiniDst()\n",
    "mdst.use_mc_particles=True\n",
    "mdst.use_mc_scoring=True\n",
    "mdst.DefineBranchMap()      # Define the map of all the branches to the contents of the TTree\n",
    "mdst.SetBranchAddressesOnTree(ch1)"
   ],
   "metadata": {
    "collapsed": false
   }
  },
  {
   "cell_type": "code",
   "execution_count": 6,
   "outputs": [
    {
     "data": {
      "text/plain": "3972"
     },
     "execution_count": 6,
     "metadata": {},
     "output_type": "execute_result"
    }
   ],
   "source": [
    "ch1.GetEntry(1)"
   ],
   "metadata": {
    "collapsed": false
   }
  },
  {
   "cell_type": "code",
   "execution_count": 7,
   "outputs": [
    {
     "data": {
      "text/plain": "vector<string>{ \"TrackerHits\", \"TrackerHitsECal\", \"HodoscopeHits\" }"
     },
     "execution_count": 7,
     "metadata": {},
     "output_type": "execute_result"
    }
   ],
   "source": [
    "mdst.scoring_planes"
   ],
   "metadata": {
    "collapsed": false
   }
  },
  {
   "cell_type": "code",
   "execution_count": 8,
   "outputs": [
    {
     "data": {
      "text/plain": "vector<double>{ 1473.4340, 1457.9190 }"
     },
     "execution_count": 8,
     "metadata": {},
     "output_type": "execute_result"
    }
   ],
   "source": [
    "mdst.mc_part_end_z"
   ],
   "metadata": {
    "collapsed": false
   }
  },
  {
   "cell_type": "code",
   "execution_count": 9,
   "outputs": [
    {
     "data": {
      "text/plain": "vector<double>{ -3.2342793, -3.6890814, -6.2285093, -6.6827803, -12.221016, -12.661580, -18.193162, -18.634448, -30.175692, -30.616401, -42.163198, -42.172788, -42.608470, -86.545359, -105.65293, -169.59752, -91.599170, -136.41563, -143.25858, -96.839522, -86.465679, -60.312140, -136.55326, -134.50037, -134.09788, -137.38585, -103.30429, -175.03192, -176.85348, -138.30409, -156.49144, -110.49019, -179.80604, -133.99883, -160.62961, -117.77202, -109.81038, -195.68310, -130.96413, -90.501197, -139.78395, -125.09464, -140.74469, -142.71492, -170.10924, 24.939479 }"
     },
     "execution_count": 9,
     "metadata": {},
     "output_type": "execute_result"
    }
   ],
   "source": [
    "mdst.mc_score_y"
   ],
   "metadata": {
    "collapsed": false
   }
  },
  {
   "cell_type": "code",
   "execution_count": 10,
   "outputs": [
    {
     "ename": "AttributeError",
     "evalue": "'MiniDst' object has no attribute 'mc_part_gen_status'",
     "output_type": "error",
     "traceback": [
      "\u001B[0;31m---------------------------------------------------------------------------\u001B[0m",
      "\u001B[0;31mAttributeError\u001B[0m                            Traceback (most recent call last)",
      "Cell \u001B[0;32mIn[10], line 1\u001B[0m\n\u001B[0;32m----> 1\u001B[0m \u001B[43mmdst\u001B[49m\u001B[38;5;241;43m.\u001B[39;49m\u001B[43mmc_part_gen_status\u001B[49m\n",
      "\u001B[0;31mAttributeError\u001B[0m: 'MiniDst' object has no attribute 'mc_part_gen_status'"
     ]
    }
   ],
   "source": [
    "mdst.mc_part_gen_status"
   ],
   "metadata": {
    "collapsed": false
   }
  },
  {
   "cell_type": "code",
   "execution_count": 11,
   "outputs": [],
   "source": [
    "df1x = df1.Define(\"z_end\",\"for(int i=0; i< mc_part_gen_status.size(); ++i){if(mc_part_gen_status[i]==1){return mc_part_end_z[i];};};return 0.;\")\n",
    "h_mc_part_end_z1 = df1x.Histo1D((\"h_mc_part_end_z1\",\"End point z of primary.\",1800,0.,1800.),\"z_end\")\n",
    "df2x = df2.Define(\"z_end\",\n",
    "                  \"for(int i=0; i< mc_part_gen_status.size(); ++i){if(mc_part_gen_status[i]==1){return mc_part_end_z[i];};};return 0.;\")\n",
    "h_mc_part_end_z2 = df2x.Histo1D((\"h_mc_part_end_z1\", \"End point z of primary.\", 1800, 0., 1800.), \"z_end\")\n"
   ],
   "metadata": {
    "collapsed": false
   }
  },
  {
   "cell_type": "code",
   "execution_count": 12,
   "outputs": [
    {
     "name": "stderr",
     "output_type": "stream",
     "text": [
      "Info in <TCanvas::Print>: pdf file spacing_changes_endpoint_of_mc_particle.pdf has been created\n"
     ]
    },
    {
     "data": {
      "text/plain": "<IPython.core.display.HTML object>",
      "text/html": "\n\n<div id=\"root_plot_1678838297185\"\n     style=\"width: 796px; height: 572px\">\n</div>\n<script>\n\nfunction display_root_plot_1678838297185(Core) {\n   let obj = Core.parse({\"_typename\":\"TCanvas\",\"fUniqueID\":0,\"fBits\":3342344,\"fLineColor\":1,\"fLineStyle\":1,\"fLineWidth\":1,\"fFillColor\":0,\"fFillStyle\":1001,\"fLeftMargin\":0.1,\"fRightMargin\":0.1,\"fBottomMargin\":0.1,\"fTopMargin\":0.1,\"fXfile\":2,\"fYfile\":2,\"fAfile\":1,\"fXstat\":0.99,\"fYstat\":0.99,\"fAstat\":2,\"fFrameFillColor\":0,\"fFrameLineColor\":1,\"fFrameFillStyle\":1001,\"fFrameLineStyle\":1,\"fFrameLineWidth\":1,\"fFrameBorderSize\":1,\"fFrameBorderMode\":0,\"fX1\":-225.000016763807,\"fY1\":-0.752429736337027,\"fX2\":2025.00001676381,\"fY2\":3.76156740133822,\"fXtoAbsPixelk\":79.60005474453,\"fXtoPixelk\":79.60005474453,\"fXtoPixel\":0.353777772506078,\"fYtoAbsPixelk\":476.654440320142,\"fYtoPixelk\":476.654440320142,\"fYtoPixel\":-126.716961166392,\"fUtoAbsPixelk\":5e-5,\"fUtoPixelk\":5e-5,\"fUtoPixel\":796,\"fVtoAbsPixelk\":572.00005,\"fVtoPixelk\":572,\"fVtoPixel\":-572,\"fAbsPixeltoXk\":-225.000016763807,\"fPixeltoXk\":-225.000016763807,\"fPixeltoX\":2.82663320794926,\"fAbsPixeltoYk\":3.76156740133822,\"fPixeltoYk\":-0.752429736337027,\"fPixeltoY\":-0.00789160338754415,\"fXlowNDC\":0,\"fYlowNDC\":0,\"fXUpNDC\":1,\"fYUpNDC\":1,\"fWNDC\":1,\"fHNDC\":1,\"fAbsXlowNDC\":0,\"fAbsYlowNDC\":0,\"fAbsWNDC\":1,\"fAbsHNDC\":1,\"fUxmin\":0,\"fUymin\":-0.301029995663981,\"fUxmax\":1800,\"fUymax\":3.31016766066518,\"fTheta\":30,\"fPhi\":30,\"fAspectRatio\":0,\"fNumber\":0,\"fTickx\":0,\"fTicky\":0,\"fLogx\":0,\"fLogy\":1,\"fLogz\":0,\"fPadPaint\":0,\"fCrosshair\":0,\"fCrosshairPos\":0,\"fBorderSize\":2,\"fBorderMode\":0,\"fModified\":false,\"fGridx\":false,\"fGridy\":false,\"fAbsCoord\":false,\"fEditable\":true,\"fFixedAspectRatio\":false,\"fPrimitives\":{\"_typename\":\"TList\",\"name\":\"TList\",\"arr\":[{\"_typename\":\"TFrame\",\"fUniqueID\":0,\"fBits\":8,\"fLineColor\":1,\"fLineStyle\":1,\"fLineWidth\":1,\"fFillColor\":0,\"fFillStyle\":1001,\"fX1\":0,\"fY1\":-0.301029995663981,\"fX2\":1800,\"fY2\":3.31016766066518,\"fBorderSize\":1,\"fBorderMode\":0},{\"_typename\":\"TH1D\",\"fUniqueID\":0,\"fBits\":520,\"fName\":\"h_mc_part_end_z1\",\"fTitle\":\"End point z of primary.\",\"fLineColor\":602,\"fLineStyle\":1,\"fLineWidth\":1,\"fFillColor\":0,\"fFillStyle\":1001,\"fMarkerColor\":1,\"fMarkerStyle\":1,\"fMarkerSize\":1,\"fNcells\":1802,\"fXaxis\":{\"_typename\":\"TAxis\",\"fUniqueID\":0,\"fBits\":0,\"fName\":\"xaxis\",\"fTitle\":\"\",\"fNdivisions\":510,\"fAxisColor\":1,\"fLabelColor\":1,\"fLabelFont\":42,\"fLabelOffset\":0.005,\"fLabelSize\":0.035,\"fTickLength\":0.03,\"fTitleOffset\":1,\"fTitleSize\":0.035,\"fTitleColor\":1,\"fTitleFont\":42,\"fNbins\":1800,\"fXmin\":0,\"fXmax\":1800,\"fXbins\":[],\"fFirst\":0,\"fLast\":0,\"fBits2\":0,\"fTimeDisplay\":false,\"fTimeFormat\":\"\",\"fLabels\":null,\"fModLabs\":null},\"fYaxis\":{\"_typename\":\"TAxis\",\"fUniqueID\":0,\"fBits\":0,\"fName\":\"yaxis\",\"fTitle\":\"\",\"fNdivisions\":510,\"fAxisColor\":1,\"fLabelColor\":1,\"fLabelFont\":42,\"fLabelOffset\":0.005,\"fLabelSize\":0.035,\"fTickLength\":0.03,\"fTitleOffset\":0,\"fTitleSize\":0.035,\"fTitleColor\":1,\"fTitleFont\":42,\"fNbins\":1,\"fXmin\":0,\"fXmax\":1,\"fXbins\":[],\"fFirst\":0,\"fLast\":0,\"fBits2\":0,\"fTimeDisplay\":false,\"fTimeFormat\":\"\",\"fLabels\":null,\"fModLabs\":null},\"fZaxis\":{\"_typename\":\"TAxis\",\"fUniqueID\":0,\"fBits\":0,\"fName\":\"zaxis\",\"fTitle\":\"\",\"fNdivisions\":510,\"fAxisColor\":1,\"fLabelColor\":1,\"fLabelFont\":42,\"fLabelOffset\":0.005,\"fLabelSize\":0.035,\"fTickLength\":0.03,\"fTitleOffset\":1,\"fTitleSize\":0.035,\"fTitleColor\":1,\"fTitleFont\":42,\"fNbins\":1,\"fXmin\":0,\"fXmax\":1,\"fXbins\":[],\"fFirst\":0,\"fLast\":0,\"fBits2\":0,\"fTimeDisplay\":false,\"fTimeFormat\":\"\",\"fLabels\":null,\"fModLabs\":null},\"fBarOffset\":0,\"fBarWidth\":1000,\"fEntries\":50001,\"fTsumw\":44144,\"fTsumw2\":44144,\"fTsumwx\":62828203.1691242,\"fTsumwx2\":90805589665.1253,\"fMaximum\":-1111,\"fMinimum\":-1111,\"fNormFactor\":0,\"fContour\":[],\"fSumw2\":[],\"fOption\":\"\",\"fFunctions\":{\"_typename\":\"TList\",\"name\":\"TList\",\"arr\":[],\"opt\":[]},\"fBufferSize\":0,\"fBuffer\":[],\"fBinStatErrOpt\":0,\"fStatOverflows\":2,\"fArray\":{\"$arr\":\"Float64\",\"len\":1802,\"v\":[147,1,0,0,0,0,0,0,1],\"p1\":38,\"v1\":[1,0,0,0,0,1],\"p2\":54,\"v2\":2,\"p3\":68,\"v3\":[1,0,0,0,1,0,0,1,0,0,0,1,1,0,1,1],\"p4\":101,\"v4\":1,\"p5\":118,\"v5\":2,\"p6\":130,\"v6\":[1,0,0,0,0,0,0,0,0,1,0,0,0,0,1,0,0,3,0,1,0,1],\"p7\":167,\"v7\":[2,0,0,1,1,0,0,0,0,0,0,1,1,0,0,0,0,0,1,1,1,0,0,1,0,0,0,1,0,0,0,0,0,0,0,1,0,0,0,0,0,1,0,0,0,0,1,0,0,0,1,0,1],\"p8\":235,\"v8\":[1,1,0,0,0,0,0,0,0,0,0,1,0,0,0,0,0,1,0,0,1],\"p9\":272,\"v9\":1,\"p10\":284,\"v10\":[1,0,0,1,0,0,0,0,0,0,1,0,0,1,0,0,1,0,0,0,0,0,1,0,1,1,0,1,1,0,0,0,0,0,0,1,0,0,1,0,0,0,0,0,0,0,1,0,0,0,0,1,0,0,0,1,0,0,0,0,0,0,0,2,0,1,0,0,0,0,1,0,0,0,0,0,1,0,0,0,2,0,0,1,0,1,0,1,0,0,0,0,1,0,0,0,1,0,0,1,1,0,1,1,0,0,0,0,0,0,0,1,0,1],\"p11\":416,\"v11\":[1,0,0,0,1,0,0,0,0,1,0,0,0,0,0,0,1,0,0,0,0,1,0,0,0,0,1,0,0,1,0,0,0,0,0,1,0,0,0,1,0,1,1,0,0,1,0,0,1,1,0,1,1,1,0,0,1,0,1,1,2,0,0,2,0,0,0,0,0,0,0,0,0,1,0,1,2,0,0,0,0,0,0,1,0,1,0,0,1,1,0,0,0,0,0,0,0,0,0,1,0,0,1,0,0,0,0,1,0,0,1,0,0,0,0,0,0,0,1,1,0,0,0,1,1],\"p12\":551,\"v12\":[1,1,0,0,0,1,0,0,1,1,0,1,1,1,1,0,1,0,0,0,0,0,0,1,0,0,0,0,0,0,0,0,0,1,1,0,0,1,0,1,0,0,0,0,0,0,0,0,0,1,2,0,1,0,0,0,1,0,1,0,1,0,1,0,0,0,0,0,1,1,0,0,0,2,1,0,0,0,0,0,0,0,0,1,0,2,1,0,0,2,0,0,0,0,1,1,1,0,0,1,2,0,0,1,0,1,1,2,0,1,0,1,0,0,0,0,0,0,0,0,0,1,0,1,0,1,1,0,0,1,0,1,0,0,0,1,0,0,0,0,0,0,0,0,1,1,0,1,1,0,0,0,1,0,1,0,0,1,0,0,0,1,1,0,0,0,1,0,0,0,1,0,1,1,0,0,1,1,1,0,0,3,0,2,0,0,0,1,0,1,0,1,1,0,1,0,0,0,0,0,0,2,1,2,1,1,1,0,1,0,0,1,0,0,3,0,1,2,0,1,2,0,1,0,4,1,0,1,0,2,0,1,0,2,0,0,0,0,0,0,0,0,2,1,1,0,1,1,0,0,1,3,0,0,1,1,3,1,3,1,0,1,1,0,0,0,0,2,1,1,1,2,1,0,2,1,2,2,3,3,5,2,3,4,1,6,5,5,1,4,1,3,9,7,6,7,5,8,11,8,13,7,10,14,12,15,21,13,17,17,21,17,15,13,12,13,14,11,21,18,17,20,19,20,20,19,21,23,14,14,21,16,20,25,19,13,13,20,18,23,21,29,17,17,23,20,22,18,19,25,18,21,19,19,21,24,25,21,19,20,13,19,12,29,28,26,14,19,13,17,14,23,14,19,18,26,17,16,20,22,16,20,21,25,30,17,19,22,24,20,23,26,26,21,13,17,20,19,21,23,17,20,31,16,17,18,19,17,22,16,23,17,23,13,19,17,14,18,17,30,25,17,16,22,24,15,19,20,12,15,14,21,34,22,17,19,13,16,20,19,20,19,13,18,17,18,17,24,26,16,19,26,16,19,19,21,22,19,17,17,22,18,18,20,18,17,21,23,20,18,24,17,19,18,20,22,24,19,15,22,17,16,15,19,25,13,17,12,19,20,26,22,11,21,21,28,28,16,16,14,20,26,16,15,15,22,18,11,17,24,14,14,23,20,21,21,12,11,17,10,14,16,15,9,11,10,6,12,6,10,13,4,10,9,8,5,6,6,3,5,5,1,2,5,4,1,5,5,4,3,4,4,4,4,0,0,4,1,3,6,2,5,1,0,2,2,3,2,5,2,3,1,1,0,1,0,0,2,3,0,3,3,0,4,4,0,1,2,1,1,2,2,2,0,0,2,2,3,2,1,0,6,2,1,0,1,0,0,1,1,0,1,3,1,2,0,0,0,3,1,1,0,2,1,0,1,1,3,0,1,0,1,2,2,2,2,1,2,2,0,0,0,3,0,0,1,2,1,0,4,2,2,0,3,3,3,1,0,3,2,0,2,1,0,0,3,1,0,0,1,0,2,2,1,0,0,0,2,2,1,4,1,0,1,2,1,1,2,1,1,0,2,3,0,0,4,3,0,1,1,2,2,2,2,0,1,2,2,1,1,2,3,0,0,0,1,0,0,0,2,0,1,1,2,1,0,2,1,0,0,1,2,1,3,3,0,0,0,4,1,0,0,2,0,3,0,1,3,2,2,2,6,1,7,5,9,8,5,11,11,12,8,16,12,11,8,4,7,3,0,2,1,2,1,5,0,3,1,2,3,3,2,0,1,4,2,2,3,1,5,2,2,3,4,2,2,0,2,2,2,4,2,2,1,2,1,1,0,2,2,1,1,2,2,0,0,2,3,4,15,6,6,6,3,8,1,12,9,4,12,12,8,16,18,12,17,19,18,0,0,0,0,0,0,1,0,0,1,1,0,0,1,0,1,0,0,1,1,0,0,0,1,0,3,0,3,0],\"v13\":1,\"n13\":6,\"p14\":1426,\"v14\":[1,0,1,2,5,4,3,8,4,1,3,2,3,3,11,5,5,2,1,3,1,4,4,9,31,51,69,107,113,180,196,247,295,356,351,454,472,555,609,632,709,792,822,838,886,898,938,954,959,1054,1078,1039,1053,1030,1011,999,952,930,962,901,839,845,837,811,751,682,625,608,572,529,514,518,421,403,377,369,332,280,309,259,229,215,205,181,149,189,136,118,122,125,107,97,93,76,77,75,52,55,68,43,50,34,53,34,48,34,34,27,34,34,30,26,26,23,33,34,19,32,19,24,15,22,16,19,21,16,17,14,28,22,13,16,13,19,23,17,19,14,12,12,19,9,20,18,10,17,11,18,16,18,16,16,11,13,12,15,17,18,21,16,8,11,15,13,10,11,10,3,11,8,6,9,5,9,11,12,10,14,12,14,7,7,11,2,3,4,3,2,2,3,1,1,3,2,4,2,1,4,1,0,2,1,2,1,1,2,1,2,1,2,0,0,0,4,2,1,1,0,0,0,2,1,0,3,1,0,1,1,3,1,2,0,2,1,1,0,1,3,0,0,1,0,4,2,1,3,0,1,0,1,1,3,1,0,0,2,1,1,1,1,0,4,1,1,1,0,4,1,1,0,0,1,1,1,0,4,2,0,1,0,1,1,0,3,2,1,2,2,0,0,0,0,2,1,0,1,1,0,1,1,0,0,0,0,0,0,2,0,1,0,0,0,1,3,1,0,0,0,2,0,2,4,0,1,0,1,1,0,2,1,1,2,1,0,0,1,1,1,0,2,2,0,1,0,0,2,1,0,1,1,2,0,2,0,0,0,0,1,1,1,3,1,0,1,1,1,0,0,3,1,0,0,3,5,7,5710]}},{\"_typename\":\"TH1D\",\"fUniqueID\":0,\"fBits\":8,\"fName\":\"h_mc_part_end_z1\",\"fTitle\":\"End point z of primary.\",\"fLineColor\":632,\"fLineStyle\":1,\"fLineWidth\":1,\"fFillColor\":0,\"fFillStyle\":1001,\"fMarkerColor\":1,\"fMarkerStyle\":1,\"fMarkerSize\":1,\"fNcells\":1802,\"fXaxis\":{\"_typename\":\"TAxis\",\"fUniqueID\":0,\"fBits\":0,\"fName\":\"xaxis\",\"fTitle\":\"\",\"fNdivisions\":510,\"fAxisColor\":1,\"fLabelColor\":1,\"fLabelFont\":42,\"fLabelOffset\":0.005,\"fLabelSize\":0.035,\"fTickLength\":0.03,\"fTitleOffset\":1,\"fTitleSize\":0.035,\"fTitleColor\":1,\"fTitleFont\":42,\"fNbins\":1800,\"fXmin\":0,\"fXmax\":1800,\"fXbins\":[],\"fFirst\":0,\"fLast\":0,\"fBits2\":0,\"fTimeDisplay\":false,\"fTimeFormat\":\"\",\"fLabels\":null,\"fModLabs\":null},\"fYaxis\":{\"_typename\":\"TAxis\",\"fUniqueID\":0,\"fBits\":0,\"fName\":\"yaxis\",\"fTitle\":\"\",\"fNdivisions\":510,\"fAxisColor\":1,\"fLabelColor\":1,\"fLabelFont\":42,\"fLabelOffset\":0.005,\"fLabelSize\":0.035,\"fTickLength\":0.03,\"fTitleOffset\":0,\"fTitleSize\":0.035,\"fTitleColor\":1,\"fTitleFont\":42,\"fNbins\":1,\"fXmin\":0,\"fXmax\":1,\"fXbins\":[],\"fFirst\":0,\"fLast\":0,\"fBits2\":0,\"fTimeDisplay\":false,\"fTimeFormat\":\"\",\"fLabels\":null,\"fModLabs\":null},\"fZaxis\":{\"_typename\":\"TAxis\",\"fUniqueID\":0,\"fBits\":0,\"fName\":\"zaxis\",\"fTitle\":\"\",\"fNdivisions\":510,\"fAxisColor\":1,\"fLabelColor\":1,\"fLabelFont\":42,\"fLabelOffset\":0.005,\"fLabelSize\":0.035,\"fTickLength\":0.03,\"fTitleOffset\":1,\"fTitleSize\":0.035,\"fTitleColor\":1,\"fTitleFont\":42,\"fNbins\":1,\"fXmin\":0,\"fXmax\":1,\"fXbins\":[],\"fFirst\":0,\"fLast\":0,\"fBits2\":0,\"fTimeDisplay\":false,\"fTimeFormat\":\"\",\"fLabels\":null,\"fModLabs\":null},\"fBarOffset\":0,\"fBarWidth\":1000,\"fEntries\":31905,\"fTsumw\":31607,\"fTsumw2\":31607,\"fTsumwx\":38289040.559523,\"fTsumwx2\":50860554120.1148,\"fMaximum\":-1111,\"fMinimum\":-1111,\"fNormFactor\":0,\"fContour\":[],\"fSumw2\":[],\"fOption\":\"\",\"fFunctions\":{\"_typename\":\"TList\",\"name\":\"TList\",\"arr\":[],\"opt\":[]},\"fBufferSize\":0,\"fBuffer\":[],\"fBinStatErrOpt\":0,\"fStatOverflows\":2,\"fArray\":{\"$arr\":\"Float64\",\"len\":1802,\"p\":39,\"v\":[94,0,0,0,0,0,0,54,29,0,0,0,0,0,0,29,44,1,0,0,0,0,0,80,1,0,1],\"p1\":88,\"v1\":[8,83,0,0,0,0,0,0,41,35,0,0,0,0,0,0,37,25,0,0,0,0,0,0,79,8],\"p2\":143,\"v2\":1,\"p3\":169,\"v3\":1,\"p4\":187,\"v4\":[1,67,113,44,0,0,0,0,48,94,55,0,0,0,0,0,8,56,97,16,0,0,1,1,52,100,55,1],\"p5\":246,\"v5\":1,\"p6\":258,\"v6\":1,\"p7\":287,\"v7\":[17,54,75,79,1,0,0,1,45,74,54,8,6,0,0,0,17,51,69,48,2,0,0,3,53,81,62,21,14,1],\"p8\":354,\"v8\":[1,0,0,0,0,0,0,0,0,1,0,0,0,0,0,1,0,0,0,0,0,0,1,0,0,0,0,0,1],\"p9\":411,\"v9\":[1,0,0,0,0,0,0,0,1],\"p10\":445,\"v10\":1,\"p11\":457,\"v11\":2,\"p12\":474,\"v12\":2,\"p13\":486,\"v13\":[22,24,26,32,28,36,3,14,28,45,37,40,45,6,0,2,14,21,29,39,41,18,2,17,29,25,37,41,39,8,0,0,0,0,0,0,0,1],\"p14\":537,\"v14\":[1,0,0,0,0,0,0,0,0,1,1,1,0,0,0,0,0,0,0,1,1,1,0,1],\"p15\":583,\"v15\":[1,0,0,1,1,0,0,0,0,0,0,0,1,0,0,0,0,0,1,1,0,0,1],\"p16\":623,\"v16\":[2,1,0,0,0,0,0,1,0,0,0,0,0,1,0,0,0,0,0,0,0,1,0,0,0,1,0,0,0,1,0,0,2,0,0,1,2,1,1],\"p17\":672,\"v17\":[1,0,0,2,0,0,0,0,1,0,1,1,0,0,13,16,25,31,32,34,2,15,22,23,35,31,29,23,0,1,21,23,36,37,35,26,1,15,15,31,29,33,22,7,0,1,0,0,0,1,1,1,0,0,0,0,0,1,1,1,0,1,0,0,0,1,1,0,0,0,2,0,0,0,0,0,0,0,0,0,2,0,2,0,1,0,0,0,1,0,1,0,0,1,0,1,0,1,0,0,0,0,1,0,3,0,0,0,1,0,0,1,0,2,0,0,0,0,1],\"p18\":801,\"v18\":[1,0,0,0,1,2,0,0,1,1,0,1,0,1,1,1,2,1,2,2,2,1,0,2,4,1,1,0,4,4,1,0,2,1,3,1,0,5,2,1,3,3,5,4,6,2,2,4,6,2,3,3,12,6,6,10,5,5,4,11,7,9,12,4,4,11,5,13,7,11,7,6,10,9,11,9,7,10,15,11,14,19,17,11,11,36,27,35,33,32,32,22,15,28,40,45,34,36,28,10,22,23,42,41,40,40,32,14,30,24,42,44,50,47,23,18,10,12,16,11,12,19,14,19,20,18,13,15,20,17,27,17,20,13,19,13,24,16,19,18,22,27,17,17,22,20,12,17,17,18,16,21,18,26,16,19,17,27,24,18,25,28,12,25,20,15,20,18,21,26,17,28,20,18,23,26,17,22,19,15,21,18,23,17,25,20,22,16,14,15,22,19,14,28,17,19,22,26,23,20,17,20,20,19,20,25,19,19,18,14,12,23,16,25,34,21,29,23,20,26,21,6,21,17,16,12,22,16,19,24,27,23,16,20,25,23,18,16,25,21,22,13,32,18,15,23,23,25,29,27,21,22,29,20,30,28,23,33,26,21,28,19,37,18,26,22,16,17,16,16,15,14,10,11,12,11,13,13,2,9,9,5,1,7,6,1,3,3,5,2,5,4,1,3,3,2,3,2,201,117,107,105,114,125,103,117,111,114,314,232,327,123,142,131,133,140,157,152,175,151,313,0,0,1,1,0,0,1,1,2,0,0,0,0,0,0,0,1,0,0,1,0,0,0,0,1,1,0,0,1,0,1,0,1,1,1,0,2,0,1,0,1,0,1,0,1,0,0,0,1,0,1,0,1,0,0,0,1,1,1,0,0,0,1,0,0,0,1,0,0,0,0,1,0,0,0,1,0,0,1,0,1,2,0,2,0,0,0,0,0,0,0,2,0,0,1,0,0,0,0,2,0,1,0,0,0,0,0,1,0,0,0,1,0,0,1,1,2,0,0,1,1,0,0,0,1,0,1,0,0,2,0,1,1,1,0,0,1,0,0,1,0,0,0,0,2,0,0,1,0,0,1,1,0,1,0,0,1,0,0,1,0,0,1,0,0,0,1,0,0,0,0,1,1,0,0,0,0,0,1,5,6,3,8,5,5,8,5,9,6,4,9,7,5,4,8,8,2,2,4,2,0,0,0,1,1,3,2,3,0,2,1,0,0,0,1,1,1,1,3,3,2,1,0,2,0,1,1,0,0,1,2,0,3,1,1,3,0,3,1,2,0,0,1,0,1,0,1,114,117,110,113,115,105,127,131,118,109,112,97,113,114,128,111,128,117,90,105,0,0,0,1,0,0,0,0,0,0,0,0,0,1,0,0,2,0,0,0,1,0,0,1,1,0,0,1,0,15,11,6,4,6,7,8,9,0,0,10,23,24,24,28,19,20,30,25,17,24,20,31,27,29,9,1,0,0,3,1,186,563,768,787,783,791,662,561,537,519,484,447,413,413,335,330,304,292,311,282,267,284,253,261,244,239,224,221,248,246,225,197,164,205,193,177,183,170,161,140,161,132,113,130,115,120,105,77,87,74,79,65,75,54,68,65,57,52,35,30,33,27,40,26,21,28,23,18,23,17,15,20,15,12,14,15,10,13,7,9,9,10,7,2,3,0,5,8,6,2,10,7,8,3,5,2,5,4,1,3,7,6,6,6,1,4,7,6,4,4,3,8,4,5,1,2,3,8,2,5,3,2,3,0,4,7,6,3,2,4,3,2,5,0,5,6,4,0,3,3,1,4,3,6,0,3,1,1,2,4,2,5,1,1,5,2,1,1,0,2,0,1,2,3,1,0,0,0,1,2,0,0,1,0,1,0,0,0,0,0,0,0,0,0,1,0,0,0,0,0,1],\"p19\":1653,\"v19\":[1,0,1,0,0,1],\"p20\":1670,\"v20\":[1,1,0,0,0,1,0,0,0,0,0,0,0,0,0,1,0,1,0,0,0,0,2,0,0,0,0,0,0,0,0,1],\"p21\":1740,\"v21\":1,\"p22\":1776,\"v22\":[2,0,1,0,0,0,0,0,1,1],\"p23\":1800,\"v23\":[4,298]}},{\"_typename\":\"TLegend\",\"fUniqueID\":0,\"fBits\":8,\"fLineColor\":1,\"fLineStyle\":1,\"fLineWidth\":1,\"fFillColor\":0,\"fFillStyle\":1001,\"fX1\":-1.34110458986925e-5,\"fY1\":2.85876797380317,\"fX2\":674.999996647239,\"fY2\":3.3101676875707,\"fX1NDC\":0.1,\"fY1NDC\":0.8,\"fX2NDC\":0.4,\"fY2NDC\":0.9,\"fBorderSize\":1,\"fInit\":1,\"fShadowColor\":1,\"fCornerRadius\":0,\"fOption\":\"brNDC\",\"fName\":\"TPave\",\"fTextAngle\":0,\"fTextSize\":0,\"fTextAlign\":12,\"fTextColor\":1,\"fTextFont\":42,\"fPrimitives\":{\"_typename\":\"TList\",\"name\":\"TList\",\"arr\":[{\"_typename\":\"TLegendEntry\",\"fUniqueID\":0,\"fBits\":0,\"fTextAngle\":0,\"fTextSize\":0,\"fTextAlign\":0,\"fTextColor\":0,\"fTextFont\":42,\"fLineColor\":602,\"fLineStyle\":1,\"fLineWidth\":1,\"fFillColor\":0,\"fFillStyle\":1001,\"fMarkerColor\":1,\"fMarkerStyle\":1,\"fMarkerSize\":1,\"fObject\":{\"$ref\":3},\"fLabel\":\"Output from SLIC\",\"fOption\":\"lpf\"},{\"_typename\":\"TLegendEntry\",\"fUniqueID\":0,\"fBits\":0,\"fTextAngle\":0,\"fTextSize\":0,\"fTextAlign\":0,\"fTextColor\":0,\"fTextFont\":42,\"fLineColor\":632,\"fLineStyle\":1,\"fLineWidth\":1,\"fFillColor\":0,\"fFillStyle\":1001,\"fMarkerColor\":1,\"fMarkerStyle\":1,\"fMarkerSize\":1,\"fObject\":{\"$ref\":8},\"fLabel\":\"Output after spacing.\",\"fOption\":\"lpf\"}],\"opt\":[\"lpf\",\"lpf\"]},\"fEntrySeparation\":0.1,\"fMargin\":0.25,\"fNColumns\":1,\"fColumnSeparation\":0},{\"_typename\":\"TPaveText\",\"fUniqueID\":0,\"fBits\":9,\"fLineColor\":1,\"fLineStyle\":1,\"fLineWidth\":1,\"fFillColor\":0,\"fFillStyle\":0,\"fX1\":435.131902620664,\"fY1\":3.46436963928773,\"fX2\":1364.86809737934,\"fY2\":3.73899743717426,\"fX1NDC\":0.293391959798995,\"fY1NDC\":0.934160843929211,\"fX2NDC\":0.706608040201005,\"fY2NDC\":0.995000004768372,\"fBorderSize\":0,\"fInit\":1,\"fShadowColor\":1,\"fCornerRadius\":0,\"fOption\":\"blNDC\",\"fName\":\"title\",\"fTextAngle\":0,\"fTextSize\":0,\"fTextAlign\":22,\"fTextColor\":1,\"fTextFont\":42,\"fLabel\":\"\",\"fLongest\":23,\"fMargin\":0.05,\"fLines\":{\"_typename\":\"TList\",\"name\":\"TList\",\"arr\":[{\"_typename\":\"TLatex\",\"fUniqueID\":0,\"fBits\":0,\"fName\":\"\",\"fTitle\":\"End point z of primary.\",\"fTextAngle\":0,\"fTextSize\":0,\"fTextAlign\":0,\"fTextColor\":0,\"fTextFont\":0,\"fX\":0,\"fY\":0,\"fLineColor\":1,\"fLineStyle\":1,\"fLineWidth\":2,\"fLimitFactorSize\":3,\"fOriginSize\":0.0517132878303528}],\"opt\":[\"\"]}},{\"_typename\":\"TStyle\",\"fUniqueID\":0,\"fBits\":0,\"fName\":\"Modern\",\"fTitle\":\"Modern Style\",\"fLineColor\":1,\"fLineStyle\":1,\"fLineWidth\":1,\"fFillColor\":19,\"fFillStyle\":1001,\"fMarkerColor\":1,\"fMarkerStyle\":1,\"fMarkerSize\":1,\"fTextAngle\":0,\"fTextSize\":0.05,\"fTextAlign\":11,\"fTextColor\":1,\"fTextFont\":62,\"fXaxis\":{\"_typename\":\"TAttAxis\",\"fNdivisions\":510,\"fAxisColor\":1,\"fLabelColor\":1,\"fLabelFont\":42,\"fLabelOffset\":0.005,\"fLabelSize\":0.035,\"fTickLength\":0.03,\"fTitleOffset\":1,\"fTitleSize\":0.035,\"fTitleColor\":1,\"fTitleFont\":42},\"fYaxis\":{\"_typename\":\"TAttAxis\",\"fNdivisions\":510,\"fAxisColor\":1,\"fLabelColor\":1,\"fLabelFont\":42,\"fLabelOffset\":0.005,\"fLabelSize\":0.035,\"fTickLength\":0.03,\"fTitleOffset\":0,\"fTitleSize\":0.035,\"fTitleColor\":1,\"fTitleFont\":42},\"fZaxis\":{\"_typename\":\"TAttAxis\",\"fNdivisions\":510,\"fAxisColor\":1,\"fLabelColor\":1,\"fLabelFont\":42,\"fLabelOffset\":0.005,\"fLabelSize\":0.035,\"fTickLength\":0.03,\"fTitleOffset\":1,\"fTitleSize\":0.035,\"fTitleColor\":1,\"fTitleFont\":42},\"fBarWidth\":1,\"fBarOffset\":0,\"fColorModelPS\":0,\"fDrawBorder\":0,\"fOptLogx\":0,\"fOptLogy\":0,\"fOptLogz\":0,\"fOptDate\":0,\"fOptStat\":1111,\"fOptTitle\":1,\"fOptFile\":0,\"fOptFit\":0,\"fShowEventStatus\":0,\"fShowEditor\":0,\"fShowToolBar\":0,\"fNumberContours\":20,\"fAttDate\":{\"_typename\":\"TAttText\",\"fTextAngle\":0,\"fTextSize\":0.025,\"fTextAlign\":11,\"fTextColor\":1,\"fTextFont\":62},\"fDateX\":0.01,\"fDateY\":0.01,\"fEndErrorSize\":2,\"fErrorX\":0.5,\"fFuncColor\":2,\"fFuncStyle\":1,\"fFuncWidth\":2,\"fGridColor\":0,\"fGridStyle\":3,\"fGridWidth\":1,\"fLegendBorderSize\":1,\"fLegendFillColor\":0,\"fLegendFont\":42,\"fLegendTextSize\":0,\"fHatchesLineWidth\":1,\"fHatchesSpacing\":1,\"fFrameFillColor\":0,\"fFrameLineColor\":1,\"fFrameFillStyle\":1001,\"fFrameLineStyle\":1,\"fFrameLineWidth\":1,\"fFrameBorderSize\":1,\"fFrameBorderMode\":0,\"fHistFillColor\":0,\"fHistLineColor\":602,\"fHistFillStyle\":1001,\"fHistLineStyle\":1,\"fHistLineWidth\":1,\"fHistMinimumZero\":false,\"fHistTopMargin\":0.05,\"fCanvasPreferGL\":false,\"fCanvasColor\":0,\"fCanvasBorderSize\":2,\"fCanvasBorderMode\":0,\"fCanvasDefH\":500,\"fCanvasDefW\":700,\"fCanvasDefX\":10,\"fCanvasDefY\":10,\"fPadColor\":0,\"fPadBorderSize\":2,\"fPadBorderMode\":0,\"fPadBottomMargin\":0.1,\"fPadTopMargin\":0.1,\"fPadLeftMargin\":0.1,\"fPadRightMargin\":0.1,\"fPadGridX\":false,\"fPadGridY\":false,\"fPadTickX\":0,\"fPadTickY\":0,\"fPaperSizeX\":20,\"fPaperSizeY\":26,\"fScreenFactor\":1,\"fStatColor\":0,\"fStatTextColor\":1,\"fStatBorderSize\":1,\"fStatFont\":42,\"fStatFontSize\":0,\"fStatStyle\":1001,\"fStatFormat\":\"6.4g\",\"fStatX\":0.98,\"fStatY\":0.935,\"fStatW\":0.2,\"fStatH\":0.16,\"fStripDecimals\":true,\"fTitleAlign\":23,\"fTitleColor\":0,\"fTitleTextColor\":1,\"fTitleBorderSize\":0,\"fTitleFont\":42,\"fTitleFontSize\":0.05,\"fTitleStyle\":0,\"fTitleX\":0.5,\"fTitleY\":0.995,\"fTitleW\":0,\"fTitleH\":0,\"fLegoInnerR\":0.5,\"fLineStyles\":[\"\",\"  \",\" 12 12\",\" 4 8\",\" 12 16 4 16\",\" 20 12 4 12\",\" 20 12 4 12 4 12 4 12\",\" 20 20\",\" 20 12 4 12 4 12\",\" 80 20\",\" 80 40 4 40\",\"  \",\"  \",\"  \",\"  \",\"  \",\"  \",\"  \",\"  \",\"  \",\"  \",\"  \",\"  \",\"  \",\"  \",\"  \",\"  \",\"  \",\"  \",\"  \"],\"fHeaderPS\":\"\",\"fTitlePS\":\"\",\"fFitFormat\":\"5.4g\",\"fPaintTextFormat\":\"g\",\"fLineScalePS\":3,\"fJoinLinePS\":0,\"fCapLinePS\":0,\"fTimeOffset\":788918400,\"fImageScaling\":1}],\"opt\":[\"\",\"\",\"same\",\"\",\"blNDC\",\"\"]},\"fExecs\":null,\"fName\":\"cc0\",\"fTitle\":\"cc0\",\"fNumPaletteColor\":0,\"fNextPaletteColor\":0,\"fDISPLAY\":\"$DISPLAY\",\"fDoubleBuffer\":0,\"fRetained\":true,\"fXsizeUser\":0,\"fYsizeUser\":0,\"fXsizeReal\":20,\"fYsizeReal\":15,\"fWindowTopX\":0,\"fWindowTopY\":0,\"fWindowWidth\":0,\"fWindowHeight\":0,\"fCw\":796,\"fCh\":572,\"fCatt\":{\"_typename\":\"TAttCanvas\",\"fXBetween\":2,\"fYBetween\":2,\"fTitleFromTop\":1.2,\"fXdate\":0.2,\"fYdate\":0.3,\"fAdate\":1},\"kMoveOpaque\":true,\"kResizeOpaque\":true,\"fHighLightColor\":2,\"fBatch\":true,\"kShowEventStatus\":false,\"kAutoExec\":true,\"kMenuBar\":true});\n   Core.settings.HandleKeys = false;\n   Core.draw(\"root_plot_1678838297185\", obj, \"\");\n}\n\nfunction script_load_root_plot_1678838297185(src, on_error) {\n    let script = document.createElement('script');\n    script.src = src;\n    script.onload = function() { display_root_plot_1678838297185(JSROOT); };\n    script.onerror = function() { script.remove(); on_error(); };\n    document.head.appendChild(script);\n}\n\nif (typeof requirejs !== 'undefined') {\n\n    // We are in jupyter notebooks, use require.js which should be configured already\n    requirejs.config({\n       paths: { 'JSRootCore' : [ 'build/jsroot', 'https://root.cern/js/7.2.1/build/jsroot', 'https://jsroot.gsi.de/7.2.1/build/jsroot' ] }\n    })(['JSRootCore'],  function(Core) {\n       display_root_plot_1678838297185(Core);\n    });\n\n} else if (typeof JSROOT !== 'undefined') {\n\n   // JSROOT already loaded, just use it\n   display_root_plot_1678838297185(JSROOT);\n\n} else {\n\n    // We are in jupyterlab without require.js, directly loading jsroot\n    // Jupyterlab might be installed in a different base_url so we need to know it.\n    try {\n        var base_url = JSON.parse(document.getElementById('jupyter-config-data').innerHTML).baseUrl;\n    } catch(_) {\n        var base_url = '/';\n    }\n\n    // Try loading a local version of requirejs and fallback to cdn if not possible.\n    script_load_root_plot_1678838297185(base_url + 'static/build/jsroot.js', function(){\n        console.error('Fail to load JSROOT locally, please check your jupyter_notebook_config.py file');\n        script_load_root_plot_1678838297185('https://root.cern/js/7.2.1/build/jsroot.js', function(){\n            document.getElementById(\"root_plot_1678838297185\").innerHTML = \"Failed to load JSROOT\";\n        });\n    });\n}\n\n</script>\n"
     },
     "metadata": {},
     "output_type": "display_data"
    }
   ],
   "source": [
    "cc0 = R.TCanvas(\"cc0\",\"cc0\",800,600)\n",
    "cc0.SetLogy()\n",
    "h_mc_part_end_z1.SetStats(0)\n",
    "h_mc_part_end_z1.Draw()\n",
    "h_mc_part_end_z2.SetLineColor(R.kRed)\n",
    "h_mc_part_end_z2.Draw(\"same\")\n",
    "leg0 = R.TLegend(0.1,0.8,0.4,0.9)\n",
    "leg0.AddEntry(h_mc_part_end_z1.GetValue(),\"Output from SLIC\")\n",
    "leg0.AddEntry(h_mc_part_end_z2.GetValue(),\"Output after spacing.\")\n",
    "leg0.Draw()\n",
    "cc0.Draw()\n",
    "cc0.SaveAs(\"spacing_changes_endpoint_of_mc_particle.pdf\")"
   ],
   "metadata": {
    "collapsed": false
   }
  },
  {
   "cell_type": "code",
   "execution_count": null,
   "outputs": [],
   "source": [],
   "metadata": {
    "collapsed": false
   }
  }
 ],
 "metadata": {
  "kernelspec": {
   "display_name": "Python 3",
   "language": "python",
   "name": "python3"
  },
  "language_info": {
   "codemirror_mode": {
    "name": "ipython",
    "version": 2
   },
   "file_extension": ".py",
   "mimetype": "text/x-python",
   "name": "python",
   "nbconvert_exporter": "python",
   "pygments_lexer": "ipython2",
   "version": "2.7.6"
  }
 },
 "nbformat": 4,
 "nbformat_minor": 0
}
