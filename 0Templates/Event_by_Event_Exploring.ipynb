{
 "cells": [
  {
   "metadata": {},
   "cell_type": "markdown",
   "source": [
    "# Event by Event Data Exploration\n",
    "In event by event data explaration we load the data into a TChain and can then get individual events, or loop over events. To do this, you do *not* have to load the MiniDST library, however doing so really simplifies access to the data, especially in Python. Alternatively you can use TChain to explore the data with the Draw() method. This works better at the ROOT prompt than in a notebook. \n",
    "For more sophisticated data analysis, I woud recommend using RDataFrame to analyze the data. This is covered in a separate notebook.\n",
    "\n",
    "## Loading data\n",
    "We first setup ROOT and load the MiniDST library. We next create a TChain to open the ROOT files and connect this to a MiniDST class object."
   ],
   "id": "2de24a9dd76d605b"
  },
  {
   "metadata": {
    "ExecuteTime": {
     "end_time": "2025-06-11T09:11:41.573448Z",
     "start_time": "2025-06-11T09:11:40.173489Z"
    }
   },
   "cell_type": "code",
   "source": [
    "import numpy as np\n",
    "import ROOT as R\n",
    "# R.EnableImplicitMT()\n",
    "# %jsroot on\n",
    "R.gSystem.Load(\"/data/HPS/lib/libMiniDST.dylib\")   # Load the library. The path will differ on your own machine.\n",
    "ch = R.TChain(\"MiniDST\")                           # Setup a TChain.\n",
    "ch.Add(\"/data/HPS/data/physrun2021/Tritrig/Pure/HPS_Run2021Pass1_v5_1pt92GeV_x0_minidst.root\") # Load data\n",
    "mdst = R.MiniDst()                                 # Create a MiniDST class object\n",
    "mdst.use_mc_particles = True\n",
    "mdst.DefineBranchMap()                             # Define the branches in the class.\n",
    "# mdst.use_ecal_cluster_uncor = True\n",
    "mdst.SetBranchAddressesOnTree(ch)                  # Connect the TChain with the data to the MiniDST class\n",
    "\n"
   ],
   "id": "initial_id",
   "outputs": [],
   "execution_count": 2
  },
  {
   "metadata": {
    "ExecuteTime": {
     "end_time": "2025-06-11T09:11:42.563694Z",
     "start_time": "2025-06-11T09:11:42.452064Z"
    }
   },
   "cell_type": "code",
   "source": [
    "def print_daughters(mdst, i_part, indent=0):\n",
    "    \"\"\"Given an index to an MC particle, print all the daughters.\n",
    "    This function will recursively print the daughters of the daughters.\n",
    "    Arguments:\n",
    "        mdst   -- a MiniDst object that was linked to a TTree\n",
    "        i_part -- the index of the particle to print\n",
    "        ident  -- the amount of indentation of the output.\n",
    "    \"\"\"\n",
    "\n",
    "    if mdst.mc_part_pdg.size() > 0:\n",
    "        part_pdg = mdst.mc_part_pdg[i_part]\n",
    "    else:\n",
    "        part_pdg = 0\n",
    "    print(\" \"*indent+f\" {i_part:3d}  pdg: {part_pdg:4d}  E: {mdst.mc_part_energy[i_part]:9.6f} \" +\n",
    "          f\"p = ({mdst.mc_part_px[i_part]:9.6f},{mdst.mc_part_py[i_part]:9.6f},{mdst.mc_part_pz[i_part]:9.6f})\" +\n",
    "          f\"v = ({mdst.mc_part_x[i_part]:5.2f},{mdst.mc_part_y[i_part]:5.2f},{mdst.mc_part_z[i_part]:5.2f}) \" +\n",
    "          f\"end=({mdst.mc_part_end_x[i_part]:5.2f},{mdst.mc_part_end_y[i_part]:5.2f},{mdst.mc_part_end_z[i_part]:5.2f})\")\n",
    "    if len(mdst.mc_part_daughters[i_part]) > 0:\n",
    "        print(\" \"*(indent+14) + \"| \")\n",
    "        for i in range(len(mdst.mc_part_daughters[i_part])):\n",
    "            ii = mdst.mc_part_daughters[i_part][i]  # Get the daughter reference\n",
    "            print_daughters(mdst, ii, indent+11)            # Print by recursing\n",
    "\n",
    "\n",
    "def print_mc_particle_tree(mdst):\n",
    "    \"\"\"Print the MCParticle tree.\n",
    "    Arguments:\n",
    "        mdst -- a MiniDst object that was linked to a TTree.\n",
    "    \"\"\"\n",
    "    for i in range(len(mdst.mc_part_parents)):\n",
    "        if len(mdst.mc_part_parents[i]) == 0:  # top level particle\n",
    "            print_daughters(mdst, i, 0)\n"
   ],
   "id": "b43d565af1bcdf44",
   "outputs": [],
   "execution_count": 3
  },
  {
   "metadata": {
    "ExecuteTime": {
     "end_time": "2025-06-10T13:29:09.425596Z",
     "start_time": "2025-06-10T13:29:09.315581Z"
    }
   },
   "cell_type": "code",
   "source": "ch.GetEvent(105)",
   "id": "ae81cdc82a55ee69",
   "outputs": [
    {
     "data": {
      "text/plain": [
       "11906"
      ]
     },
     "execution_count": 12,
     "metadata": {},
     "output_type": "execute_result"
    }
   ],
   "execution_count": 12
  },
  {
   "metadata": {
    "ExecuteTime": {
     "end_time": "2025-06-10T13:29:09.863364Z",
     "start_time": "2025-06-10T13:29:09.755409Z"
    }
   },
   "cell_type": "code",
   "source": [
    "print(f\"Run number: {mdst.run_number:5d}, Event number: {mdst.event_number:8d}  trigger: 0x{mdst.trigger:04X}\")\n",
    "print(f\"Ecal hits         (ix,iy): {list(zip(mdst.ecal_hit_index_x, mdst.ecal_hit_index_y))}\")\n",
    "print(f\"Ecal cluster seed (ix,iy): {list(zip(mdst.ecal_cluster_seed_ix,mdst.ecal_cluster_seed_iy))}\")\n",
    "print(f\"List Ecal cluster      (x,y,z): \",end=\"\")\n",
    "for i in range(len(mdst.ecal_cluster_x)):\n",
    "    print(f\"({mdst.ecal_cluster_x[i]:5.1f},{mdst.ecal_cluster_y[i]:5.1f},{mdst.ecal_cluster_z[i]:5.1f})\",end=\", \")\n",
    "print()\n",
    "print(f\"List Ecal cluster E : {mdst.ecal_cluster_energy}\")"
   ],
   "id": "b27ba3c90b929f55",
   "outputs": [
    {
     "name": "stdout",
     "output_type": "stream",
     "text": [
      "Run number: 14700, Event number:     5328  trigger: 0x0000\n",
      "Ecal hits         (ix,iy): [(17, -2), (17, -3), (17, -3), (15, -2), (18, -3), (23, -4), (17, -1), (16, -1), (16, -2), (-19, -4)]\n",
      "Ecal cluster seed (ix,iy): [(17, -2)]\n",
      "List Ecal cluster      (x,y,z): (264.8,-40.8,1450.1), \n",
      "List Ecal cluster E : { 1.3979999 }\n"
     ]
    }
   ],
   "execution_count": 13
  },
  {
   "metadata": {
    "ExecuteTime": {
     "end_time": "2025-06-11T09:17:38.116711Z",
     "start_time": "2025-06-11T09:17:38.008078Z"
    }
   },
   "cell_type": "code",
   "source": "ievt=1",
   "id": "d3e9b007adaa0562",
   "outputs": [],
   "execution_count": 10
  },
  {
   "metadata": {
    "ExecuteTime": {
     "end_time": "2025-06-11T09:20:23.944843Z",
     "start_time": "2025-06-11T09:20:23.829041Z"
    }
   },
   "cell_type": "code",
   "source": [
    "go=True\n",
    "while go:\n",
    "    ch.GetEvent(ievt)\n",
    "    ievt += 1\n",
    "    top_parent=-1\n",
    "    for i in range(len(mdst.mc_part_pdg)):\n",
    "        if mdst.mc_part_pdg[i]==623:\n",
    "            top_parent=i\n",
    "    n_ele=0\n",
    "    n_pos=0\n",
    "    for idx in mdst.mc_part_daughters[top_parent]:\n",
    "        if mdst.mc_part_pdg[idx] == 11:\n",
    "            n_ele+=1\n",
    "        if mdst.mc_part_pdg[idx] == -11:\n",
    "            n_pos+=1\n",
    "    if n_ele == 1:\n",
    "        print(f\"{ievt}: Run number: {mdst.run_number:5d}, Event number: {mdst.event_number:8d}  trigger: 0x{mdst.trigger:04X}\")\n",
    "        print_mc_particle_tree(mdst)\n",
    "        go=False\n"
   ],
   "id": "a88834545477a374",
   "outputs": [
    {
     "name": "stdout",
     "output_type": "stream",
     "text": [
      "38045: Run number: 14700, Event number:      715  trigger: 0x0000\n",
      "   8  pdg:  623  E:  0.100000 p = ( 0.000000, 0.000000, 0.000000)v = ( 0.04, 0.00, 0.90) end=( 0.04, 0.00, 0.92)\n",
      "              | \n",
      "              1  pdg:  -11  E:  1.229974 p = ( 0.063907, 0.020928, 1.228135)v = ( 0.04, 0.00, 0.92) end=(285.32,30.13,1455.60)\n",
      "                         | \n",
      "                         0  pdg:   22  E:  0.000000 p = ( 0.000000, 0.000000, 0.000000)v = (264.63,25.04,1385.25) end=(284.27,26.69,1456.40)\n",
      "                                    | \n",
      "                                    5  pdg:  -11  E:  0.000511 p = ( 0.000000, 0.000000,-0.000000)v = (284.27,26.69,1456.40) end=(286.10,27.57,1468.84)\n",
      "                                               | \n",
      "                                               6  pdg:   22  E:  0.000000 p = ( 0.000000, 0.000000, 0.000000)v = (286.51,26.93,1466.12) end=(286.70,27.00,1467.61)\n",
      "                                                          | \n",
      "                                                          2  pdg:  -11  E:  0.000511 p = (-0.000000,-0.000000,-0.000000)v = (286.70,27.00,1467.61) end=(285.42,29.19,1472.53)\n",
      "                                                                     | \n",
      "                                                                     7  pdg:   22  E:  0.000000 p = ( 0.000000, 0.000000, 0.000000)v = (286.85,27.05,1468.64) end=(290.78,28.28,1493.38)\n",
      "                                                                                | \n",
      "                                                                                3  pdg:  -11  E:  0.000511 p = ( 0.000000,-0.000000,-0.000000)v = (290.78,28.28,1493.38) end=(295.41,23.92,1499.06)\n",
      "                                                                                           | \n",
      "                                                                                           4  pdg:   22  E:  0.002538 p = ( 0.000792,-0.000496,-0.002360)v = (295.41,23.92,1499.06) end=(355.42,-1.23,1304.48)\n",
      "                                                                                                      | \n",
      "                                                                                                     10  pdg:   11  E:  0.002161 p = ( 0.001239,-0.000571,-0.001596)v = (356.73,-14.49,1316.37) end=(357.00,-14.60,1316.06)\n",
      "              9  pdg:   11  E:  2.509406 p = ( 0.049383,-0.022855, 2.508816)v = ( 0.04, 0.00, 0.92) end=(-159.06,-23.24,2500.00)\n"
     ]
    }
   ],
   "execution_count": 13
  },
  {
   "metadata": {
    "ExecuteTime": {
     "end_time": "2025-06-10T13:56:58.265694Z",
     "start_time": "2025-06-10T13:56:58.136035Z"
    }
   },
   "cell_type": "code",
   "source": [
    "for ievt in range(120,400):\n",
    "    ch.GetEvent(ievt)\n",
    "    top_parent=-1\n",
    "    for i in range(len(mdst.mc_part_pdg)):\n",
    "        if mdst.mc_part_pdg[i]==623:\n",
    "            top_parent=i        \n",
    "    if mdst.mc_part_daughters[top_parent].size()>3:\n",
    "        for j in mdst.mc_part_daughters[top_parent]:\n",
    "            print(f\"{mdst.mc_part_pdg[j]}\",end=\", \")\n",
    "        print()"
   ],
   "id": "fe1076dc9b464fcc",
   "outputs": [
    {
     "name": "stdout",
     "output_type": "stream",
     "text": [
      "11, -11, 11, 22, \n",
      "11, -11, 11, 22, \n",
      "11, 11, 22, -11, \n",
      "11, 22, 11, -11, \n",
      "11, 11, 22, -11, \n",
      "11, 11, 22, 22, -11, \n",
      "11, -11, 11, 22, \n",
      "22, -11, 11, 11, 11, \n",
      "11, 22, -11, 11, \n",
      "22, -11, 11, 11, \n",
      "11, 22, 11, -11, 22, \n",
      "-11, 22, 11, 11, \n",
      "11, 22, -11, 11, \n",
      "22, 11, -11, 11, \n",
      "22, -11, 11, 11, \n",
      "11, 22, 11, -11, \n",
      "-11, 11, 22, 11, \n",
      "11, -11, 22, 11, \n",
      "-11, 22, 11, 11, \n",
      "11, -11, 22, 11, \n",
      "22, 11, 11, -11, \n",
      "-11, 11, 22, 11, \n",
      "-11, 11, 11, 11, \n",
      "-11, 11, 11, 11, \n",
      "11, -11, 11, 11, \n",
      "11, 11, 22, -11, \n",
      "11, -11, 22, 11, \n",
      "-11, 11, 11, 22, \n",
      "11, 11, 22, -11, \n",
      "11, -11, 11, 22, \n",
      "-11, 11, 22, 11, \n",
      "11, 11, 22, -11, \n",
      "11, -11, 11, 22, \n",
      "-11, 11, 11, 22, \n",
      "11, 11, 11, -11, \n",
      "-11, 11, 11, 22, \n",
      "22, 11, -11, 11, \n",
      "-11, 11, 22, 11, \n",
      "22, -11, 11, 11, \n",
      "22, -11, 11, 11, \n",
      "11, -11, 11, 22, \n"
     ]
    }
   ],
   "execution_count": 75
  },
  {
   "metadata": {
    "ExecuteTime": {
     "end_time": "2025-06-10T13:53:16.426492Z",
     "start_time": "2025-06-10T13:53:16.316619Z"
    }
   },
   "cell_type": "code",
   "source": "print_mc_particle_tree(mdst)",
   "id": "5879e3700de50fe6",
   "outputs": [
    {
     "name": "stdout",
     "output_type": "stream",
     "text": [
      "   8  pdg:  623  E:  0.100000 p = ( 0.000000, 0.000000, 0.000000)v = ( 0.16, 0.00, 0.90) end=( 0.16, 0.00, 0.92)\n",
      "              | \n",
      "             13  pdg:   11  E:  2.138439 p = ( 0.029547,-0.047549, 2.137706)v = ( 0.16, 0.00, 0.92) end=(-204.32,-54.83,2500.00)\n",
      "             14  pdg:   22  E:  0.069725 p = ( 0.003875, 0.002417, 0.069576)v = ( 0.16, 0.00, 0.92) end=(84.02,52.31,1506.69)\n",
      "             19  pdg:   11  E:  0.413947 p = ( 0.022363, 0.014619, 0.413084)v = ( 0.16, 0.00, 0.92) end=(-1089.58,84.00,2500.00)\n",
      "                         | \n",
      "                         0  pdg:   22  E:  0.003408 p = (-0.001616, 0.000135, 0.002997)v = (-187.04,31.08,845.77) end=(-111.13,-149.98,1215.20)\n",
      "                                    | \n",
      "                                   17  pdg:   11  E:  0.001647 p = (-0.001012,-0.000168, 0.001183)v = (-199.23,27.81,883.03) end=(-199.38,27.78,883.20)\n",
      "                         2  pdg:   22  E:  0.003908 p = (-0.001758, 0.000328, 0.003475)v = (-193.77,31.98,858.99) end=(-2500.00,56.59,2346.39)\n",
      "                                    | \n",
      "                                    6  pdg:   11  E:  0.002541 p = (-0.000175, 0.000312, 0.002463)v = (-202.80,33.67,876.83) end=(-202.80,33.69,877.36)\n",
      "                         3  pdg:   22  E:  0.018223 p = (-0.008026, 0.001531, 0.016289)v = (-193.03,31.84,857.47) end=(-1002.38,186.27,2500.00)\n",
      "                         4  pdg:   22  E:  0.001379 p = (-0.000640, 0.000073, 0.001220)v = (-199.39,32.68,869.90) end=(-1054.50,130.63,2500.00)\n",
      "                         5  pdg:   22  E:  0.002285 p = (-0.001025, 0.000144, 0.002037)v = (-191.63,31.61,854.67) end=(-2500.00,1016.71,1918.17)\n",
      "                                    | \n",
      "                                   21  pdg:   11  E:  0.001717 p = (-0.000111,-0.000246, 0.001617)v = (-192.86,31.78,857.13) end=(-192.89,31.74,857.38)\n",
      "                         7  pdg:   22  E:  0.001148 p = (-0.000523, 0.000059, 0.001021)v = (-198.61,32.60,868.38) end=(-1034.01,127.14,2500.00)\n",
      "                         9  pdg:   22  E:  0.021641 p = (-0.009739, 0.001568, 0.019262)v = (-191.97,31.66,855.35) end=(-1023.51,165.50,2500.00)\n",
      "                        11  pdg:   22  E:  0.009972 p = (-0.004663, 0.000738, 0.008784)v = (-199.68,32.72,870.42) end=(-1064.75,169.60,2500.00)\n",
      "                        12  pdg:   22  E:  0.003454 p = (-0.001550, 0.000215, 0.003079)v = (-189.56,31.31,850.57) end=(-2500.00,646.65,-1273.04)\n",
      "                                    | \n",
      "                                   16  pdg:   11  E:  0.003603 p = (-0.001291, 0.000146, 0.003322)v = (-204.16,33.34,879.56) end=(-203.68,32.75,880.65)\n",
      "                        15  pdg:   22  E:  0.001354 p = (-0.000619, 0.000063, 0.001203)v = (-198.59,32.60,868.35) end=(-1038.33,117.50,2500.00)\n",
      "                        18  pdg:   22  E:  0.067018 p = (-0.030205, 0.002454, 0.059776)v = (-197.88,32.52,866.96) end=(-1023.06,99.55,2500.00)\n",
      "                        20  pdg:   22  E:  0.006163 p = (-0.002777, 0.000535, 0.005475)v = (-194.06,32.04,859.56) end=(-2500.00,1093.31,335.75)\n",
      "                                    | \n",
      "                                    1  pdg:   11  E:  0.006060 p = (-0.002232, 0.000284, 0.005604)v = (-203.01,33.76,877.20) end=(-202.51,34.22,877.96)\n",
      "                        22  pdg:   22  E:  0.004336 p = (-0.001959, 0.000265, 0.003859)v = (-190.28,31.42,852.02) end=(-194.86,32.04,861.06)\n",
      "                                    | \n",
      "                                   10  pdg:  -11  E:  0.003136 p = (-0.000991, 0.000011, 0.002930)v = (-194.86,32.04,861.06) end=(-195.01,32.08,861.78)\n",
      "             23  pdg:  -11  E:  1.117823 p = ( 0.064487, 0.036711, 1.115357)v = ( 0.16, 0.00, 0.92) end=(311.42,47.43,1458.04)\n"
     ]
    }
   ],
   "execution_count": 52
  },
  {
   "metadata": {},
   "cell_type": "code",
   "outputs": [],
   "execution_count": null,
   "source": "",
   "id": "b89a49a988c34b62"
  }
 ],
 "metadata": {
  "kernelspec": {
   "display_name": "Python 3",
   "language": "python",
   "name": "python3"
  },
  "language_info": {
   "codemirror_mode": {
    "name": "ipython",
    "version": 2
   },
   "file_extension": ".py",
   "mimetype": "text/x-python",
   "name": "python",
   "nbconvert_exporter": "python",
   "pygments_lexer": "ipython2",
   "version": "2.7.6"
  }
 },
 "nbformat": 4,
 "nbformat_minor": 5
}
