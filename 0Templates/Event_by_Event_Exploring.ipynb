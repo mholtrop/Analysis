{
 "cells": [
  {
   "metadata": {},
   "cell_type": "markdown",
   "source": [
    "# Event by Event Data Exploration\n",
    "In event by event data explaration we load the data into a TChain and can then get individual events, or loop over events. To do this, you do *not* have to load the MiniDST library, however doing so really simplifies access to the data, especially in Python. Alternatively you can use TChain to explore the data with the Draw() method. This works better at the ROOT prompt than in a notebook. \n",
    "For more sophisticated data analysis, I woud recommend using RDataFrame to analyze the data. This is covered in a separate notebook.\n",
    "\n",
    "## Loading data\n",
    "We first setup ROOT and load the MiniDST library. We next create a TChain to open the ROOT files and connect this to a MiniDST class object."
   ],
   "id": "2de24a9dd76d605b"
  },
  {
   "metadata": {
    "ExecuteTime": {
     "end_time": "2025-06-11T09:11:41.573448Z",
     "start_time": "2025-06-11T09:11:40.173489Z"
    }
   },
   "cell_type": "code",
   "source": [
    "import numpy as np\n",
    "import ROOT as R\n",
    "# R.EnableImplicitMT()\n",
    "# %jsroot on\n",
    "R.gSystem.Load(\"/data/HPS/lib/libMiniDST.dylib\")   # Load the library. The path will differ on your own machine.\n",
    "ch = R.TChain(\"MiniDST\")                           # Setup a TChain.\n",
    "ch.Add(\"/data/HPS/data/physrun2021/Tritrig/Pure/HPS_Run2021Pass1_v5_1pt92GeV_x0_minidst.root\") # Load data\n",
    "mdst = R.MiniDst()                                 # Create a MiniDST class object\n",
    "mdst.use_mc_particles = True\n",
    "mdst.DefineBranchMap()                             # Define the branches in the class.\n",
    "# mdst.use_ecal_cluster_uncor = True\n",
    "mdst.SetBranchAddressesOnTree(ch)                  # Connect the TChain with the data to the MiniDST class\n",
    "\n"
   ],
   "id": "initial_id",
   "execution_count": 2,
   "outputs": []
  },
  {
   "metadata": {
    "ExecuteTime": {
     "end_time": "2025-06-11T09:11:42.563694Z",
     "start_time": "2025-06-11T09:11:42.452064Z"
    }
   },
   "cell_type": "code",
   "source": [
    "def print_daughters(mdst, i_part, indent=0):\n",
    "    \"\"\"Given an index to an MC particle, print all the daughters.\n",
    "    This function will recursively print the daughters of the daughters.\n",
    "    Arguments:\n",
    "        mdst   -- a MiniDst object that was linked to a TTree\n",
    "        i_part -- the index of the particle to print\n",
    "        ident  -- the amount of indentation of the output.\n",
    "    \"\"\"\n",
    "\n",
    "    if mdst.mc_part_pdg.size() > 0:\n",
    "        part_pdg = mdst.mc_part_pdg[i_part]\n",
    "    else:\n",
    "        part_pdg = 0\n",
    "    print(\" \"*indent+f\" {i_part:3d}  pdg: {part_pdg:4d}  E: {mdst.mc_part_energy[i_part]:9.6f} \" +\n",
    "          f\"p = ({mdst.mc_part_px[i_part]:9.6f},{mdst.mc_part_py[i_part]:9.6f},{mdst.mc_part_pz[i_part]:9.6f})\" +\n",
    "          f\"v = ({mdst.mc_part_x[i_part]:5.2f},{mdst.mc_part_y[i_part]:5.2f},{mdst.mc_part_z[i_part]:5.2f}) \" +\n",
    "          f\"end=({mdst.mc_part_end_x[i_part]:5.2f},{mdst.mc_part_end_y[i_part]:5.2f},{mdst.mc_part_end_z[i_part]:5.2f})\")\n",
    "    if len(mdst.mc_part_daughters[i_part]) > 0:\n",
    "        print(\" \"*(indent+14) + \"| \")\n",
    "        for i in range(len(mdst.mc_part_daughters[i_part])):\n",
    "            ii = mdst.mc_part_daughters[i_part][i]  # Get the daughter reference\n",
    "            print_daughters(mdst, ii, indent+11)            # Print by recursing\n",
    "\n",
    "\n",
    "def print_mc_particle_tree(mdst):\n",
    "    \"\"\"Print the MCParticle tree.\n",
    "    Arguments:\n",
    "        mdst -- a MiniDst object that was linked to a TTree.\n",
    "    \"\"\"\n",
    "    for i in range(len(mdst.mc_part_parents)):\n",
    "        if len(mdst.mc_part_parents[i]) == 0:  # top level particle\n",
    "            print_daughters(mdst, i, 0)\n"
   ],
   "id": "b43d565af1bcdf44",
   "execution_count": 3,
   "outputs": []
  },
  {
   "metadata": {
    "ExecuteTime": {
     "end_time": "2025-06-10T13:29:09.425596Z",
     "start_time": "2025-06-10T13:29:09.315581Z"
    }
   },
   "cell_type": "code",
   "source": "ch.GetEvent(105)",
   "id": "ae81cdc82a55ee69",
   "execution_count": 12,
   "outputs": []
  },
  {
   "metadata": {
    "ExecuteTime": {
     "end_time": "2025-06-10T13:29:09.863364Z",
     "start_time": "2025-06-10T13:29:09.755409Z"
    }
   },
   "cell_type": "code",
   "source": [
    "print(f\"Run number: {mdst.run_number:5d}, Event number: {mdst.event_number:8d}  trigger: 0x{mdst.trigger:04X}\")\n",
    "print(f\"Ecal hits         (ix,iy): {list(zip(mdst.ecal_hit_index_x, mdst.ecal_hit_index_y))}\")\n",
    "print(f\"Ecal cluster seed (ix,iy): {list(zip(mdst.ecal_cluster_seed_ix,mdst.ecal_cluster_seed_iy))}\")\n",
    "print(f\"List Ecal cluster      (x,y,z): \",end=\"\")\n",
    "for i in range(len(mdst.ecal_cluster_x)):\n",
    "    print(f\"({mdst.ecal_cluster_x[i]:5.1f},{mdst.ecal_cluster_y[i]:5.1f},{mdst.ecal_cluster_z[i]:5.1f})\",end=\", \")\n",
    "print()\n",
    "print(f\"List Ecal cluster E : {mdst.ecal_cluster_energy}\")"
   ],
   "id": "b27ba3c90b929f55",
   "execution_count": 13,
   "outputs": []
  },
  {
   "metadata": {
    "ExecuteTime": {
     "end_time": "2025-06-11T09:17:38.116711Z",
     "start_time": "2025-06-11T09:17:38.008078Z"
    }
   },
   "cell_type": "code",
   "source": "ievt=1",
   "id": "d3e9b007adaa0562",
   "execution_count": 10,
   "outputs": []
  },
  {
   "metadata": {
    "ExecuteTime": {
     "end_time": "2025-06-11T09:20:23.944843Z",
     "start_time": "2025-06-11T09:20:23.829041Z"
    }
   },
   "cell_type": "code",
   "source": [
    "go=True\n",
    "while go:\n",
    "    ch.GetEvent(ievt)\n",
    "    ievt += 1\n",
    "    top_parent=-1\n",
    "    for i in range(len(mdst.mc_part_pdg)):\n",
    "        if mdst.mc_part_pdg[i]==623:\n",
    "            top_parent=i\n",
    "    n_ele=0\n",
    "    n_pos=0\n",
    "    for idx in mdst.mc_part_daughters[top_parent]:\n",
    "        if mdst.mc_part_pdg[idx] == 11:\n",
    "            n_ele+=1\n",
    "        if mdst.mc_part_pdg[idx] == -11:\n",
    "            n_pos+=1\n",
    "    if n_ele == 1:\n",
    "        print(f\"{ievt}: Run number: {mdst.run_number:5d}, Event number: {mdst.event_number:8d}  trigger: 0x{mdst.trigger:04X}\")\n",
    "        print_mc_particle_tree(mdst)\n",
    "        go=False\n"
   ],
   "id": "a88834545477a374",
   "execution_count": 13,
   "outputs": []
  },
  {
   "metadata": {
    "ExecuteTime": {
     "end_time": "2025-06-10T13:56:58.265694Z",
     "start_time": "2025-06-10T13:56:58.136035Z"
    }
   },
   "cell_type": "code",
   "source": [
    "for ievt in range(120,400):\n",
    "    ch.GetEvent(ievt)\n",
    "    top_parent=-1\n",
    "    for i in range(len(mdst.mc_part_pdg)):\n",
    "        if mdst.mc_part_pdg[i]==623:\n",
    "            top_parent=i        \n",
    "    if mdst.mc_part_daughters[top_parent].size()>3:\n",
    "        for j in mdst.mc_part_daughters[top_parent]:\n",
    "            print(f\"{mdst.mc_part_pdg[j]}\",end=\", \")\n",
    "        print()"
   ],
   "id": "fe1076dc9b464fcc",
   "execution_count": 75,
   "outputs": []
  },
  {
   "metadata": {
    "ExecuteTime": {
     "end_time": "2025-06-10T13:53:16.426492Z",
     "start_time": "2025-06-10T13:53:16.316619Z"
    }
   },
   "cell_type": "code",
   "source": "print_mc_particle_tree(mdst)",
   "id": "5879e3700de50fe6",
   "execution_count": 52,
   "outputs": []
  },
  {
   "metadata": {},
   "cell_type": "code",
   "execution_count": null,
   "source": "",
   "id": "b89a49a988c34b62",
   "outputs": []
  }
 ],
 "metadata": {
  "kernelspec": {
   "display_name": "Python 3",
   "language": "python",
   "name": "python3"
  },
  "language_info": {
   "codemirror_mode": {
    "name": "ipython",
    "version": 2
   },
   "file_extension": ".py",
   "mimetype": "text/x-python",
   "name": "python",
   "nbconvert_exporter": "python",
   "pygments_lexer": "ipython2",
   "version": "2.7.6"
  }
 },
 "nbformat": 4,
 "nbformat_minor": 5
}
