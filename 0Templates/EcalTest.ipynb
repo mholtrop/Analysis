{
 "cells": [
  {
   "cell_type": "markdown",
   "source": [
    "# ECal Tester\n",
    "This bit of code allows you to visualize on an event by event basis the contents of ECal MC hits. Different style of dots are super imposed\n",
    "on the face of the ECal indicating the cluster centers of hits in the score plane in front of the ECal, the hits in that score plane, and\n",
    "the hits in the ECal."
   ],
   "metadata": {
    "collapsed": false
   }
  },
  {
   "cell_type": "code",
   "source": [
    "# Warning: Execute this cell only once for the kernel. Reset the kernel if you need changes.\n",
    "import sys\n",
    "sys.path.append(\"../Python\")\n",
    "import ROOT as R\n",
    "from array import array\n",
    "import time\n",
    "import numpy as np\n",
    "# Turn jsroot off if you want to make a pdf from this file.\n",
    "%jsroot on\n",
    "from root_helpers import SetStyle\n",
    "from root_helpers import fancy_plot\n",
    "from root_helpers import print_mc_particle_tree\n",
    "from root_helpers import print_daughters\n",
    "# R.EnableImplicitMT()"
   ],
   "metadata": {
    "collapsed": false,
    "ExecuteTime": {
     "end_time": "2025-07-02T20:47:00.003060Z",
     "start_time": "2025-07-02T20:46:59.061920Z"
    }
   },
   "outputs": [
    {
     "name": "stderr",
     "output_type": "stream",
     "text": [
      "Warning in <TInterpreter::ReadRootmapFile>: While processing /data/HPS/lib/libBaseAna2.rootmap, class MCParticle was found to be associated to libBaseAna2.dylib although it is already associated to libevent.dylib\n"
     ]
    }
   ],
   "execution_count": 1
  },
  {
   "cell_type": "code",
   "source": [
    "import os\n",
    "recompile = True\n",
    "try:\n",
    "    if os.path.getmtime('../Python/Utility_Functions_C.so') - os.path.getmtime('../Python/Utility_Functions.C') > 0:\n",
    "        recompile = False\n",
    "        print(\"Recompile is not needed\")\n",
    "    else:\n",
    "        print(\"Recompiling: \")\n",
    "except:\n",
    "    print(\"Recompile needed, file not found.\")\n",
    "if recompile:\n",
    "    R.gROOT.LoadMacro(\"../Python/Utility_Functions.C++\")\n",
    "else:\n",
    "    R.gSystem.Load(\"../Python/Utility_Functions_C.so\")\n",
    "R.Utility_Functions()"
   ],
   "metadata": {
    "collapsed": false,
    "ExecuteTime": {
     "end_time": "2025-07-02T20:47:01.837530Z",
     "start_time": "2025-07-02T20:47:01.661221Z"
    }
   },
   "outputs": [
    {
     "name": "stdout",
     "output_type": "stream",
     "text": [
      "Recompile is not needed\n"
     ]
    },
    {
     "data": {
      "text/plain": [
       "'Utility Functions V1.0.6 \\n'"
      ]
     },
     "execution_count": 2,
     "metadata": {},
     "output_type": "execute_result"
    }
   ],
   "execution_count": 2
  },
  {
   "cell_type": "code",
   "source": [
    "ret = R.gSystem.Load(\"/System/Volumes/Data/data/HPS/Analyses/build/ECAL/lib/libEcal_Analysis.dylib\")\n",
    "if(ret != 0):\n",
    "    print(\"The return code was: \",ret)\n",
    "else:\n",
    "    R.gInterpreter.ProcessLine('''auto EAC = Ecal_Analysis_Class();''')   # This is key. It puts the EAC in C++ space.\n",
    "print(f\"{R.EAC.Version()}\")\n",
    "R.gSystem.Load(\"/data/HPS/lib/libMiniDST\")  # Weirdest thing, if I do this first the EAC will be version 1.0.9 instead of 1.1.1"
   ],
   "metadata": {
    "collapsed": false,
    "ExecuteTime": {
     "end_time": "2025-07-02T20:47:03.896571Z",
     "start_time": "2025-07-02T20:47:03.398820Z"
    }
   },
   "outputs": [
    {
     "name": "stdout",
     "output_type": "stream",
     "text": [
      "V1.1.2\n"
     ]
    },
    {
     "data": {
      "text/plain": [
       "0"
      ]
     },
     "execution_count": 3,
     "metadata": {},
     "output_type": "execute_result"
    }
   ],
   "execution_count": 3
  },
  {
   "cell_type": "code",
   "source": [
    "ch = R.TChain(\"MiniDST\")\n",
    "# ch.Add(\"/data/HPS/data/MC/emumu_calchep/events_4p55GeV_000_slic_recon.root\")\n",
    "# ch.Add(\"/data/HPS/data/MC/mum_2019/mum_1_2019.root\")\n",
    "# ch.Add(\"/data/HPS/data/physrun2021/sim_2021/hpsForward_e-_3.0GeV_z0.0_*_SLIC-v06-00-01_QGSP_BERT_HPS-v2019-3pt7GeV_recon.root\")\n",
    "# ch.Add(\"/data/HPS/data/physrun2021/sim_2021/new_e-*.root\")\n",
    "# ch.Add(\"/data/HPS/data/physrun2021/pass0/minidst/hps_0147*.root\")\n",
    "ch.Add(\"/data/HPS/data/physrun2021/Tritrig/Pure/*.root\")\n",
    "print(f\"Number of events loaded: {ch.GetEntries()/1e6:7.3f}M\")"
   ],
   "metadata": {
    "collapsed": false,
    "ExecuteTime": {
     "end_time": "2025-07-02T20:47:06.044256Z",
     "start_time": "2025-07-02T20:47:05.840386Z"
    }
   },
   "outputs": [
    {
     "name": "stdout",
     "output_type": "stream",
     "text": [
      "Number of events loaded:   2.093M\n"
     ]
    }
   ],
   "execution_count": 4
  },
  {
   "cell_type": "code",
   "source": [
    "df = R.RDataFrame(ch)\n",
    "try:\n",
    "    dfx = R.EAC.extend_dataframe(R.RDF.AsRNode(df))\n",
    "except:\n",
    "    print(\"Wow, no extension\")\n",
    "    dfx = df\n",
    "print(\"Available data names in Tuple:\")\n",
    "ColumnNames=dfx.GetColumnNames()\n",
    "ll = 0\n",
    "pr_colnames = [x for x in ColumnNames if str(x).startswith('')]\n",
    "for nn in pr_colnames:\n",
    "    if ll < len(nn):\n",
    "        ll = len(nn)\n",
    "for n in range(len(pr_colnames)):\n",
    "    if n%4 == 0:\n",
    "        print(\"\")\n",
    "    print(f\"{str(pr_colnames[n]):{ll}s}\",end=\"\")"
   ],
   "metadata": {
    "collapsed": false,
    "ExecuteTime": {
     "end_time": "2025-07-02T20:47:08.256015Z",
     "start_time": "2025-07-02T20:47:07.921112Z"
    }
   },
   "outputs": [
    {
     "name": "stdout",
     "output_type": "stream",
     "text": [
      "Available data names in Tuple:\n",
      "\n",
      "ecal_cluster_energy           ecal_cluster_hits             ecal_cluster_mc_id            ecal_cluster_mc_pdg           \n",
      "ecal_cluster_mc_pdg_purity    ecal_cluster_nhits            ecal_cluster_seed_energy      ecal_cluster_seed_index       \n",
      "ecal_cluster_seed_ix          ecal_cluster_seed_iy          ecal_cluster_time             ecal_cluster_uncor_energy     \n",
      "ecal_cluster_uncor_hits       ecal_cluster_uncor_nhits      ecal_cluster_uncor_seed_energyecal_cluster_uncor_seed_index \n",
      "ecal_cluster_uncor_seed_ix    ecal_cluster_uncor_seed_iy    ecal_cluster_uncor_time       ecal_cluster_uncor_x          \n",
      "ecal_cluster_uncor_y          ecal_cluster_uncor_z          ecal_cluster_x                ecal_cluster_y                \n",
      "ecal_cluster_z                ecal_hit_energy               ecal_hit_index_x              ecal_hit_index_y              \n",
      "ecal_hit_mc_contrib_ec        ecal_hit_mc_contrib_id        ecal_hit_mc_contrib_pdg       ecal_hit_mc_parent_id         \n",
      "ecal_hit_mc_parent_pdg        ecal_hit_time                 ecal_hit_x                    ecal_hit_y                    \n",
      "ecal_hit_z                    event_number                  ext_trigger                   hodo_cluster_energy           \n",
      "hodo_cluster_ix               hodo_cluster_iy               hodo_cluster_layer            hodo_cluster_time             \n",
      "hodo_hit_energy               hodo_hit_hole                 hodo_hit_index_x              hodo_hit_index_y              \n",
      "hodo_hit_layer                hodo_hit_time                 mc_part_charge                mc_part_daughters             \n",
      "mc_part_end_x                 mc_part_end_y                 mc_part_end_z                 mc_part_energy                \n",
      "mc_part_id                    mc_part_mass                  mc_part_parents               mc_part_pdg                   \n",
      "mc_part_px                    mc_part_py                    mc_part_pz                    mc_part_sim_status            \n",
      "mc_part_time                  mc_part_x                     mc_part_y                     mc_part_z                     \n",
      "part_charge                   part_ecal_cluster             part_energy                   part_goodness_of_pid          \n",
      "part_lcio_type                part_mass                     part_pdg                      part_px                       \n",
      "part_py                       part_pz                       part_track                    part_track_chi2               \n",
      "part_type                     rf_time1                      rf_time2                      run_number                    \n",
      "svt_hit_cxx                   svt_hit_cxy                   svt_hit_cxz                   svt_hit_cyy                   \n",
      "svt_hit_cyz                   svt_hit_czz                   svt_hit_edep                  svt_hit_layer                 \n",
      "svt_hit_module                svt_hit_raw_index             svt_hit_raw_other             svt_hit_strip                 \n",
      "svt_hit_time                  svt_hit_type                  svt_hit_x                     svt_hit_y                     \n",
      "svt_hit_z                     svt_status                    time_stamp                    track_chi2                    \n",
      "track_covmatrix               track_d0                      track_d0_at_lasthit           track_gbl_ref                 \n",
      "track_isolation               track_lambda_kinks            track_n_gbl                   track_n_hits                  \n",
      "track_n_kf                    track_n_matched               track_omega                   track_omega_at_lasthit        \n",
      "track_particle                track_phi0                    track_phi0_at_lasthit         track_phi_kinks               \n",
      "track_px                      track_py                      track_pz                      track_ref                     \n",
      "track_svt_hits                track_tan_lambda              track_tan_lambda_at_lasthit   track_time                    \n",
      "track_type                    track_volume                  track_x_at_ecal               track_x_at_lasthit            \n",
      "track_y_at_ecal               track_y_at_lasthit            track_z0                      track_z0_at_lasthit           \n",
      "track_z_at_ecal               track_z_at_lasthit            trigger                       v0_charge                     \n",
      "v0_em_chi2                    v0_em_clus                    v0_em_clus_energy             v0_em_clus_ix                 \n",
      "v0_em_clus_iy                 v0_em_clus_pos_x              v0_em_clus_pos_y              v0_em_clus_time               \n",
      "v0_em_good_pid                v0_em_p                       v0_em_part                    v0_em_pos_ecal_x              \n",
      "v0_em_pos_ecal_y              v0_em_track                   v0_em_track_nhit              v0_em_track_time              \n",
      "v0_energy                     v0_ep_chi2                    v0_ep_clus                    v0_ep_clus_energy             \n",
      "v0_ep_clus_ix                 v0_ep_clus_iy                 v0_ep_clus_pos_x              v0_ep_clus_pos_y              \n",
      "v0_ep_clus_time               v0_ep_good_pid                v0_ep_p                       v0_ep_part                    \n",
      "v0_ep_pos_ecal_x              v0_ep_pos_ecal_y              v0_ep_track                   v0_ep_track_nhit              \n",
      "v0_ep_track_time              v0_goodness_of_pid            v0_lcio_type                  v0_mass                       \n",
      "v0_mass_err                   v0_pdg                        v0_px                         v0_py                         \n",
      "v0_pz                         v0_type                       v0_vertex_chi2                v0_vertex_prob                \n",
      "v0_vertex_x                   v0_vertex_y                   v0_vertex_z                   "
     ]
    },
    {
     "name": "stderr",
     "output_type": "stream",
     "text": [
      "Ecal_Analysis_Class::extend_dataframe: The input dataframe does not have the required columns for this extension.\n"
     ]
    }
   ],
   "execution_count": 5
  },
  {
   "cell_type": "code",
   "source": [
    "def make_ecal_snaphot(mini_dst, hist, opt=0):\n",
    "    \"\"\"Return a 2D histogram for the ECal, with the energy of the hits on the z-axis\"\"\"\n",
    "    if hist is None:\n",
    "        hist = R.TH2D(\"hist_ecal\",\"Ecal Hits\",50,-25.5,24.5,13,-6.5,6.5)\n",
    "    else:\n",
    "        hist.Reset()\n",
    "    # Fill the histogram by looping over the ECal hits\n",
    "    for i in range(len(mini_dst.ecal_hit_index_x)):\n",
    "        hist.Fill(mini_dst.ecal_hit_index_x[i], mini_dst.ecal_hit_index_y[i], mini_dst.ecal_hit_energy[i])\n",
    "    return hist\n",
    "\n",
    "# Setup the MiniDST class, which makes for easier event by event data inplection.\n",
    "# This MiniDST class looks directly into the TTree, so does not use the RDataframe class.\n",
    "# You need to:\n",
    "mdst = R.MiniDst()          # Initiate the class\n",
    "mdst.use_mc_particles=True  # Tell it to look for the MC Particles in the TTree\n",
    "mdst.use_ecal_cluster_uncor = True\n",
    "mdst.use_mc_scoring =True\n",
    "mdst.DefineBranchMap()      # Define the map of all the branches to the contents of the TTree\n",
    "mdst.SetBranchAddressesOnTree(ch) # Connect the TChain (which contains the TTree) to the class.\n",
    "print(f\"MiniDST version = {mdst._version_()}\")\n",
    "event = 1"
   ],
   "metadata": {
    "collapsed": false,
    "ExecuteTime": {
     "end_time": "2025-07-02T20:47:21.823847Z",
     "start_time": "2025-07-02T20:47:21.461691Z"
    }
   },
   "outputs": [
    {
     "name": "stdout",
     "output_type": "stream",
     "text": [
      "MiniDST version = 1.2.2\n"
     ]
    }
   ],
   "execution_count": 6
  },
  {
   "cell_type": "code",
   "source": [
    "cc2 = R.TCanvas(\"cc2\",\"Canvas\",900,600)\n",
    "legend2 = None\n",
    "hh = None\n",
    "ones = None\n",
    "dot_graph = None\n",
    "dot2_graph = None\n",
    "dot3_graph = None\n",
    "dot4_graph = None\n",
    "clus_dot_graph = None\n",
    "clus_dot_uncor_graph = None\n",
    "track_dot_graph = None\n",
    "cl_idx = None\n",
    "\n",
    "\n",
    "def Show_Event(debug=False):\n",
    "    global hh, ones, dot_graph, dot2_graph, dot3_graph, clus_dot_graph, clus_dot_uncor_graph, track_dot_graph, legend2\n",
    "    global cl_idx\n",
    "    global dot4_graph\n",
    "\n",
    "    hh = make_ecal_snaphot(mdst, hh, 0)\n",
    "    hh.SetStats(0)\n",
    "    hh.SetTitle(f\"Ecal Hits event={event}\")\n",
    "    cc2.Clear()\n",
    "    ones = fancy_plot(hh, ones, 0x0)\n",
    "    pzsum = 0;\n",
    "    if debug:\n",
    "        print(f\"Primary particle into scoring plane, index = {primary_index}\")\n",
    "    x_ave = 0\n",
    "    y_ave = 0\n",
    "    x_dots = array('d')\n",
    "    y_dots = array('d')\n",
    "    x_dots2 = array('d')\n",
    "    y_dots2 = array('d')\n",
    "    x_dots3 = array('d')\n",
    "    y_dots3 = array('d')\n",
    "    x_dots4 = array('d')\n",
    "    y_dots4 = array('d')\n",
    "\n",
    "    for i in range(len(mdst.mc_score_pdg)):\n",
    "        if mdst.mc_score_z[i] > 1400 and mdst.mc_score_pz[i] > 0.01 and mdst.mc_score_part_idx[i] == primary_index :  # and mdst.mc_score_pz[i] > 2.8\n",
    "            pzsum += mdst.mc_score_pz[i]\n",
    "            x_ave += mdst.mc_score_x[i]*mdst.mc_score_pz[i]\n",
    "            y_ave += mdst.mc_score_y[i]*mdst.mc_score_pz[i]\n",
    "            if debug:\n",
    "                print(f\"[{mdst.mc_score_part_idx[i]:3d}] {mdst.mc_score_pdg[i]:3d} ({mdst.mc_score_x[i]:7.1f},{mdst.mc_score_y[i]:7.1f}) pz={mdst.mc_score_pz[i]:7.5f}\")\n",
    "\n",
    "    if pzsum == 0:\n",
    "        x_ave = 0\n",
    "        y_ave = 0\n",
    "    else:\n",
    "        x_ave = x_ave/pzsum\n",
    "        y_ave = y_ave/pzsum\n",
    "        x_dots.append(R.EAC.ecal_xpos_to_index(x_ave))\n",
    "        y_dots.append(R.EAC.ecal_ypos_to_index(y_ave))\n",
    "\n",
    "    if debug:\n",
    "        print(f\"Primary hits: (x,y)_ave = ({x_ave:7.1f}, {y_ave:7.1f}) Pz sum = {pzsum:7.4f}\")\n",
    "        print(\"Secondary particles:\")\n",
    "        for i in range(len(mdst.mc_score_pdg)):\n",
    "            if mdst.mc_score_z[i] > 1400 and mdst.mc_score_pz[i] > 0.01 and mdst.mc_score_part_idx[i] != primary_index :  # and mdst.mc_score_pz[i] > 2.8\n",
    "                x_dots2.append(R.EAC.ecal_xpos_to_index(mdst.mc_score_x[i]))\n",
    "                y_dots2.append(R.EAC.ecal_ypos_to_index(mdst.mc_score_y[i]))\n",
    "                pzsum += mdst.mc_score_pz[i]\n",
    "                print(f\"{len(x_dots2)-1:2d}:{i:3d} [{mdst.mc_score_part_idx[i]:3d}] {mdst.mc_score_pdg[i]:3d} ({mdst.mc_score_x[i]:7.1f},{mdst.mc_score_y[i]:7.1f}) pz={mdst.mc_score_pz[i]:7.5f}\")\n",
    "\n",
    "        print(f\"Pz sum = {pzsum}\")\n",
    "\n",
    "        print(\"Score Clusters:\")\n",
    "    cl_idx = R.EAC.get_score_cluster_indexes(mdst.mc_score_pz, mdst.mc_score_x, mdst.mc_score_y, mdst.mc_score_z,\n",
    "                                             mdst.ecal_cluster_x, mdst.ecal_cluster_y)\n",
    "    x_aves = R.EAC.get_score_cluster_loc(cl_idx, mdst.mc_score_x, mdst.mc_score_pz)\n",
    "    y_aves = R.EAC.get_score_cluster_loc(cl_idx, mdst.mc_score_y, mdst.mc_score_pz)\n",
    "    pz_sums = R.EAC.get_score_cluster_pz(cl_idx, mdst.mc_score_pz)\n",
    "    e_sums = R.EAC.get_score_cluster_e(cl_idx, mdst.mc_score_px, mdst.mc_score_py, mdst.mc_score_pz)\n",
    "    # for i in range(len(cl_idx)):\n",
    "    #     x_ave = 0\n",
    "    #     y_ave = 0\n",
    "    #     pzsum = 0\n",
    "    #     for j in range(len(cl_idx[i])):\n",
    "    #         idx = cl_idx[i][j]\n",
    "    #         x_ave += mdst.mc_score_x[idx]*mdst.mc_score_pz[idx]\n",
    "    #         y_ave += mdst.mc_score_y[idx]*mdst.mc_score_pz[idx]\n",
    "    #         pzsum += mdst.mc_score_pz[idx]\n",
    "    #\n",
    "    #     x_ave = x_ave/pzsum\n",
    "    #     y_ave = y_ave/pzsum\n",
    "    for i in range(len(x_aves)):\n",
    "        x_ave = x_aves[i]\n",
    "        y_ave = y_aves[i]\n",
    "        pzsum = pz_sums[i]\n",
    "        if debug:\n",
    "            print(f\"i: {i:2d} N={len(cl_idx[i]):3d} ({R.EAC.ecal_xpos_to_index(x_ave):6.2f},{R.EAC.ecal_ypos_to_index(y_ave):6.2f}) ({x_ave:7.1f},{y_ave:7.1f}) pz = {pzsum:7.4f}\")\n",
    "        x_dots3.append(R.EAC.ecal_xpos_to_index(x_ave))\n",
    "        y_dots3.append(R.EAC.ecal_ypos_to_index(y_ave))\n",
    "\n",
    "    # Fill the individual score plane hits\n",
    "    for i in range(len(mdst.mc_score_x)):\n",
    "        if mdst.mc_score_pz[i] > 0.05 and mdst.mc_score_z[i] > 1440:\n",
    "             x_dots4.append(R.EAC.ecal_xpos_to_index(mdst.mc_score_x[i]))\n",
    "             y_dots4.append(R.EAC.ecal_ypos_to_index(mdst.mc_score_y[i]))\n",
    "\n",
    "    x_clus_dot = array('d')\n",
    "    y_clus_dot = array('d')\n",
    "    x_clus_uncor_dot = array('d')\n",
    "    y_clus_uncor_dot = array('d')\n",
    "\n",
    "    for i in range(len(mdst.ecal_cluster_seed_ix)):\n",
    "        if debug:\n",
    "            print(f\"Cluster: ({mdst.ecal_cluster_seed_ix[i]:3d},{mdst.ecal_cluster_seed_iy[i]:2d}) ({mdst.ecal_cluster_x[i]:6.2f},{mdst.ecal_cluster_y[i]:6.2f}) ({mdst.ecal_cluster_x[i]:6.2f}, {mdst.ecal_cluster_y[i]:6.2f}) E={mdst.ecal_cluster_energy[i]:7.4f} GeV\")\n",
    "        \n",
    "        x_clus_dot.append(R.EAC.ecal_xpos_to_index(R.EAC.ecal_xpos_correction(mdst.ecal_cluster_x[i],mdst.ecal_cluster_energy[i],)))\n",
    "        y_clus_dot.append(R.EAC.ecal_ypos_to_index(mdst.ecal_cluster_y[i]))\n",
    "        x_clus_uncor_dot.append(R.EAC.ecal_xpos_to_index(mdst.ecal_cluster_x[i]))\n",
    "        y_clus_uncor_dot.append(R.EAC.ecal_ypos_to_index(mdst.ecal_cluster_y[i]))\n",
    "\n",
    "\n",
    "    x_track = array('d')\n",
    "    y_track = array('d')\n",
    "    for i in range(len(mdst.track_x_at_ecal)):\n",
    "        if mdst.track_type[i] == 1:\n",
    "            if debug:\n",
    "                print(f\"Track:            ({mdst.track_x_at_ecal[i]:6.2f},{mdst.track_y_at_ecal[i]:6.2f},{mdst.track_z_at_ecal[i]:6.2f}) P=({mdst.track_px[i]:6.2f},{mdst.track_py[i]:6.2f},{mdst.track_pz[i]:6.2f})\")\n",
    "            x_track.append(R.EAC.ecal_xpos_to_index(mdst.track_x_at_ecal[i]))\n",
    "            y_track.append(R.EAC.ecal_ypos_to_index(mdst.track_y_at_ecal[i]))\n",
    "\n",
    "    legend2 = R.TLegend(0.,0.85,0.25,0.99)\n",
    "\n",
    "    if len(x_dots)>0:\n",
    "        dot_graph = R.TGraph(len(x_dots), x_dots, y_dots)\n",
    "        dot_graph.SetMarkerColor(R.kRed)\n",
    "        dot_graph.SetMarkerSize(1.5)\n",
    "        dot_graph.SetMarkerStyle(R.kFullCircle)\n",
    "        dot_graph.Draw(\"P\")\n",
    "        legend2.AddEntry(dot_graph,\"Score plane primary hit\")\n",
    "\n",
    "    if len(x_dots3)>0:\n",
    "        dot3_graph = R.TGraph(len(x_dots3), x_dots3, y_dots3)\n",
    "        dot3_graph.SetMarkerColor(R.kOrange+2)\n",
    "        dot3_graph.SetMarkerSize(1.1)\n",
    "        dot3_graph.SetMarkerStyle(R.kFullCircle)\n",
    "        dot3_graph.Draw(\"P\")\n",
    "        legend2.AddEntry(dot3_graph,\"Score plane clusters\")\n",
    "\n",
    "    if len(x_dots2)>0:\n",
    "        dot2_graph = R.TGraph(len(x_dots2), x_dots2, y_dots2)\n",
    "        dot2_graph.SetMarkerColor(R.kOrange)\n",
    "        dot2_graph.SetMarkerSize(0.5)\n",
    "        dot2_graph.SetMarkerStyle(R.kFullCircle)\n",
    "        dot2_graph.Draw(\"P\")\n",
    "        legend2.AddEntry(dot2_graph,\"Score plane secondary hit\")\n",
    "\n",
    "    if len(x_dots4)>0:\n",
    "        #print(\"Plot the ecal hits\")\n",
    "        dot4_graph = R.TGraph(len(x_dots4), x_dots4, y_dots4)\n",
    "        dot4_graph.SetMarkerColor(R.kRed)\n",
    "        dot4_graph.SetMarkerSize(0.3)\n",
    "        dot4_graph.SetMarkerStyle(R.kFullCircle)\n",
    "        dot4_graph.Draw(\"P\")\n",
    "        legend2.AddEntry(dot4_graph,\"Score hits\")\n",
    "\n",
    "\n",
    "    if len(x_clus_dot)>0:\n",
    "        clus_dot_graph = R.TGraph(len(x_clus_dot), x_clus_dot, y_clus_dot)\n",
    "        clus_dot_graph.SetMarkerColor(R.kGreen+1)\n",
    "        clus_dot_graph.SetMarkerSize(1.)\n",
    "        clus_dot_graph.SetMarkerStyle(R.kFullCircle)\n",
    "        clus_dot_graph.Draw(\"P\")\n",
    "        legend2.AddEntry(clus_dot_graph,\"Cluster center\")\n",
    "\n",
    "    if len(x_clus_uncor_dot)>0:\n",
    "        clus_dot_uncor_graph = R.TGraph(len(x_clus_uncor_dot), x_clus_uncor_dot, y_clus_uncor_dot)\n",
    "        clus_dot_uncor_graph.SetMarkerColor(R.kCyan)\n",
    "        clus_dot_uncor_graph.SetMarkerSize(0.9)\n",
    "        clus_dot_uncor_graph.SetMarkerStyle(R.kFullCircle)\n",
    "        clus_dot_uncor_graph.Draw(\"P\")\n",
    "        legend2.AddEntry(clus_dot_uncor_graph,\"Cluster center uncor\")\n",
    "\n",
    "    if len(x_track)>0:\n",
    "        track_dot_graph = R.TGraph(len(x_track), x_track, y_track)\n",
    "        track_dot_graph.SetMarkerColor(R.kViolet)\n",
    "        track_dot_graph.SetMarkerSize(.5)\n",
    "        track_dot_graph.SetMarkerStyle(R.kFullCircle)\n",
    "        track_dot_graph.Draw(\"P\")\n",
    "        legend2.AddEntry(track_dot_graph,\"Track pos at ecal\")\n",
    "\n",
    "    legend2.Draw()\n",
    "    cc2.Draw()"
   ],
   "metadata": {
    "collapsed": false,
    "ExecuteTime": {
     "end_time": "2025-07-02T20:47:23.530009Z",
     "start_time": "2025-07-02T20:47:23.376260Z"
    }
   },
   "outputs": [],
   "execution_count": 7
  },
  {
   "metadata": {
    "ExecuteTime": {
     "end_time": "2025-07-02T20:47:25.241277Z",
     "start_time": "2025-07-02T20:47:25.128241Z"
    }
   },
   "cell_type": "code",
   "source": "mdst.Print()",
   "outputs": [
    {
     "name": "stdout",
     "output_type": "stream",
     "text": [
      "======== Event: 0 Run: 0  ========\n",
      " Particles: \n"
     ]
    }
   ],
   "execution_count": 8
  },
  {
   "cell_type": "code",
   "source": [
    "primary_index = -1\n",
    "def Print_Event():\n",
    "    global event, primary_index\n",
    "\n",
    "    print(f\"event = {event} Run: {mdst.run_number}, Event Num:{mdst.event_number}\")\n",
    "    print(\"\")\n",
    "    print(\"Generator MC Particles:\")\n",
    "    Esum=0\n",
    "    P_sum = [0,0,0]\n",
    "    for i in primary_mc_part_idx:\n",
    "        if mdst.mc_part_pdg[i] != 623:\n",
    "            Esum += mdst.mc_part_energy[i]\n",
    "            P_sum[0] += mdst.mc_part_px[i]\n",
    "            P_sum[1] += mdst.mc_part_py[i]\n",
    "            P_sum[2] += mdst.mc_part_pz[i]\n",
    "            print(f\"[{i:2d}] ({mdst.mc_part_pdg[i]:3d}) E={mdst.mc_part_energy[i]:6.3f} GeV p=({mdst.mc_part_px[i]:6.3f},{mdst.mc_part_py[i]:6.3f},{mdst.mc_part_pz[i]:6.3f}) \")\n",
    "            \n",
    "    print(f\"Sums: E = {Esum:6.3f}  P = ({P_sum[0]:6.3f},{P_sum[1]:6.3f},{P_sum[2]:6.3f})\")\n",
    "\n",
    "    print(\"\")\n",
    "    print(f\"ECal Clusters: N={len(mdst.ecal_cluster_seed_ix)} [seed index](x,y) E:\")\n",
    "    Ecal_clus_e_sum=0\n",
    "    for i in range(len(mdst.ecal_cluster_seed_index)):\n",
    "        Ecal_clus_e_sum += mdst.ecal_cluster_energy[i]\n",
    "        print(f\" [{mdst.ecal_cluster_seed_index[i]:3d}] ({mdst.ecal_cluster_x[i]:7.2f},{mdst.ecal_cluster_y[i]:7.2f}, E = {mdst.ecal_cluster_energy[i]:7.3f})\")\n",
    "    print(f\"Ecal clusters energy sum = {Ecal_clus_e_sum:7.3f}\")\n",
    "    print(\"\\n\")\n",
    "    print(\"ECal Hits:\")\n",
    "    print(\"   i |   x |   y |  Energy  \")\n",
    "    esum=0\n",
    "    print(\"----------------------------\")\n",
    "    for i in range(len(mdst.ecal_hit_index_x)):\n",
    "        print(f\" {i:3d} | {mdst.ecal_hit_index_x[i]:3d} | {mdst.ecal_hit_index_y[i]:3d} | {mdst.ecal_hit_energy[i]:7.5f} \")\n",
    "        esum+=mdst.ecal_hit_energy[i]\n",
    "    print(f\"ECal hits energy sum = {esum}\\n\")\n",
    "\n",
    "    track_momentum_sum = 0.\n",
    "    for i in range(len(mdst.track_type)):\n",
    "        if mdst.track_type[i]==1:  # Only look at the KF tracks\n",
    "            p = np.sqrt(mdst.track_px[i]*mdst.track_px[i]+mdst.track_py[i]*mdst.track_py[i]+mdst.track_pz[i]*mdst.track_pz[i])\n",
    "            track_momentum_sum += p\n",
    "            print(f\"Track p=({mdst.track_px[i]:5.2f},{mdst.track_py[i]:5.2f},{mdst.track_pz[i]:5.2f}) p={p:6.3f} \"\n",
    "                  f\"at ecal=({mdst.track_x_at_ecal[i]:6.1f},{mdst.track_y_at_ecal[i]:6.1f},{mdst.track_z_at_ecal[i]:6.1f})\")\n",
    "    print(f\"Track |p| sum = {track_momentum_sum:6.3f}\")\n",
    "    print()\n",
    "    print(\"MC particle tree:\")\n",
    "    print_mc_particle_tree(mdst)\n",
    "    print(\"\")\n"
   ],
   "metadata": {
    "collapsed": false,
    "ExecuteTime": {
     "end_time": "2025-07-02T20:47:31.067372Z",
     "start_time": "2025-07-02T20:47:30.958284Z"
    }
   },
   "outputs": [],
   "execution_count": 9
  },
  {
   "cell_type": "code",
   "source": [
    "cluster_ncontrib = []\n",
    "cluster_centers = []\n",
    "cluster_ave_x = []\n",
    "cluster_ave_y = []\n",
    "cluster_sum_pz = []\n",
    "\n",
    "while True:\n",
    "    event+=1\n",
    "    ch.GetEntry(event)\n",
    "\n",
    "    secondary_hits_energy = R.EAC.get_score_secondary_hits_energy(mdst.mc_part_sim_status, mdst.mc_score_part_idx, mdst.mc_score_z, mdst.mc_score_px, mdst.mc_score_py, mdst.mc_score_pz)\n",
    "    primary_hits_energy = R.EAC.get_score_primary_hits_energy(mdst.mc_part_sim_status, mdst.mc_score_part_idx, mdst.mc_score_z, mdst.mc_score_px, mdst.mc_score_py, mdst.mc_score_pz)\n",
    "\n",
    "    mc_score_cluster_indexes = R.EAC.get_score_cluster_indexes(mdst.mc_score_pz,\n",
    "                                                               mdst.mc_score_x, mdst.mc_score_y, mdst.mc_score_z,\n",
    "                                                               mdst.ecal_cluster_x, mdst.ecal_cluster_y)\n",
    "    if len(mdst.ecal_cluster_energy) >= 1:\n",
    "        break\n",
    "\n",
    "#    if len(mc_score_cluster_indexes) >= 3:\n",
    "#        break\n",
    "#    if len(secondary_hits_energy) > 20:\n",
    "#        break\n",
    "#    if count>2:\n",
    "#        break\n",
    "#     if len(mdst.ecal_cluster_seed_ix) >= 3:\n",
    "#         break\n",
    "#     if len(mdst.ecal_cluster_seed_ix) >= 1:\n",
    "#         break\n",
    "   # break\n",
    "   #  if len(primary_hits_energy)>0 and primary_hits_energy[0]>3.2:\n",
    "   #      print(f\"event = {event}  E = {primary_hits_energy[0]}\")\n",
    "   #      break\n",
    "    # if len(primary_hits_energy)>0 and primary_hits_energy[0]>3.1:\n",
    "    #     print(f\"event = {event}  E = {primary_hits_energy[0]}\")\n",
    "    #     break\n",
    "\n",
    "    if event%1000 == 0:\n",
    "        print(f\"event = {event:6d}\")\n",
    "    if event >= ch.GetEntries():\n",
    "        break\n",
    "\n",
    "primary_mc_part_idx = R.EAC.get_list_of_primary_mc(mdst.mc_part_sim_status)\n",
    "\n",
    "Print_Event()\n",
    "Show_Event()"
   ],
   "metadata": {
    "collapsed": false,
    "ExecuteTime": {
     "end_time": "2025-07-02T20:47:55.372742Z",
     "start_time": "2025-07-02T20:47:55.087646Z"
    }
   },
   "outputs": [
    {
     "name": "stdout",
     "output_type": "stream",
     "text": [
      "event = 2 Run: 14700, Event Num:-7\n",
      "\n",
      "Generator MC Particles:\n",
      "[ 8] (-11) E= 1.239 GeV p=( 0.037,-0.061, 1.237) \n",
      "[13] ( 11) E= 0.182 GeV p=( 0.015, 0.001, 0.182) \n",
      "[19] ( 11) E= 2.318 GeV p=( 0.065, 0.003, 2.317) \n",
      "Sums: E =  3.740  P = ( 0.116,-0.057, 3.736)\n",
      "\n",
      "ECal Clusters: N=2 [seed index](x,y) E:\n",
      " [  3] ( 206.23, -71.24, E =   0.707)\n",
      " [  8] ( 289.77, -72.52, E =   0.648)\n",
      "Ecal clusters energy sum =   1.355\n",
      "\n",
      "\n",
      "ECal Hits:\n",
      "   i |   x |   y |  Energy  \n",
      "----------------------------\n",
      "   0 |  19 |  -4 | 0.04646 \n",
      "   1 | -19 |  -4 | 0.00354 \n",
      "   2 | -19 |  -4 | 0.00688 \n",
      "   3 |  12 |  -4 | 0.32620 \n",
      "   4 |  17 |  -3 | 0.01068 \n",
      "   5 | -12 |  -1 | 0.00619 \n",
      "   6 |  -6 |   5 | 0.00372 \n",
      "   7 |  13 |  -4 | 0.14595 \n",
      "   8 |  18 |  -4 | 0.30787 \n",
      "   9 |  12 |  -5 | 0.06393 \n",
      "  10 |  12 |  -3 | 0.02243 \n",
      "  11 |  12 |  -3 | -0.00157 \n",
      "  12 |  18 |  -5 | 0.09859 \n",
      "  13 |  18 |   5 | 0.01206 \n",
      "  14 |  19 |  -3 | 0.02744 \n",
      "  15 |  19 |  -5 | 0.02035 \n",
      "  16 |  19 |  -5 | 0.00306 \n",
      "  17 | -12 |   2 | 0.00160 \n",
      "  18 |   4 |   3 | 0.00799 \n",
      "ECal hits energy sum = 1.113371278741397\n",
      "\n",
      "Track p=( 0.05,-0.07, 1.38) p= 1.386 at ecal=( 226.7, -73.9,1448.0)\n",
      "Track |p| sum =  1.386\n",
      "\n",
      "MC particle tree:\n",
      "   1  pdg:  623  E:  0.100000 p = ( 0.000000, 0.000000, 0.000000)v = (-0.04, 0.00, 0.90) end=(-0.03, 0.00, 0.92)\n",
      "              | \n",
      "              8  pdg:  -11  E:  1.239315 p = ( 0.036677,-0.061117, 1.237263)v = (-0.03, 0.00, 0.92) end=(290.12,-83.64,1466.53)\n",
      "                         | \n",
      "                        22  pdg:   22  E:  0.634777 p = ( 0.111614,-0.030989, 0.624118)v = (72.47,-35.43,708.62) end=(205.41,-72.34,1451.95)\n",
      "                                    | \n",
      "                                   28  pdg:  -11  E:  0.000511 p = ( 0.000000,-0.000000, 0.000000)v = (205.41,-72.34,1451.95) end=(210.50,-74.27,1476.79)\n",
      "                                               | \n",
      "                                              10  pdg:   22  E:  0.000000 p = ( 0.000000, 0.000000, 0.000000)v = (207.93,-73.03,1465.34) end=(216.18,-70.53,1526.28)\n",
      "                                                          | \n",
      "                                                         11  pdg:   11  E:  0.000511 p = ( 0.000000,-0.000000,-0.000000)v = (210.00,-73.62,1476.32) end=(210.55,-73.83,1476.58)\n",
      "                                                                     | \n",
      "                                                                    26  pdg:   22  E:  0.002976 p = ( 0.000129,-0.001053,-0.002780)v = (210.54,-73.82,1476.59) end=(229.09,-161.30,1248.63)\n",
      "                                                                                | \n",
      "                                                                                3  pdg:   11  E:  0.002093 p = (-0.000745,-0.000637,-0.001778)v = (220.71,-157.06,1256.78) end=(220.56,-157.19,1256.47)\n",
      "                                                                               15  pdg:   11  E:  0.001599 p = ( 0.000888,-0.000194,-0.001212)v = (228.88,-160.95,1247.40) end=(229.00,-160.98,1247.23)\n",
      "             13  pdg:   11  E:  0.182223 p = ( 0.014511, 0.000891, 0.181641)v = (-0.03, 0.00, 0.92) end=(-2500.00,27.89,2319.71)\n",
      "                         | \n",
      "                         2  pdg:   22  E:  0.004849 p = (-0.003336,-0.000177, 0.003514)v = (-191.83, 2.94,551.43) end=(-2041.47,-94.96,2500.00)\n",
      "                         7  pdg:   22  E:  0.002435 p = (-0.001796, 0.000057, 0.001644)v = (-205.75, 2.45,566.05) end=(-2317.73,69.05,2500.00)\n",
      "                        12  pdg:   22  E:  0.041430 p = (-0.027759,-0.001543, 0.030716)v = (-193.46, 2.84,553.23) end=(-201.83, 2.37,562.49)\n",
      "                                    | \n",
      "                                    0  pdg:  -11  E:  0.038108 p = (-0.024861, 0.000957, 0.028862)v = (-201.83, 2.37,562.49) end=(-201.09, 5.47,635.37)\n",
      "                                               | \n",
      "                                               6  pdg:   22  E:  0.005868 p = (-0.003081,-0.000107, 0.004993)v = (-203.36, 2.45,564.42) end=(-1205.34,1661.54,2500.00)\n",
      "                                                          | \n",
      "                                                          9  pdg:   11  E:  0.004702 p = (-0.002467,-0.001122, 0.003808)v = (-203.43, 2.45,564.54) end=(-204.82, 3.60,565.96)\n",
      "                                              17  pdg:   22  E:  0.001864 p = (-0.001121, 0.000218, 0.001473)v = (-202.46, 2.39,563.35) end=(-1676.89,289.62,2500.00)\n",
      "                                              18  pdg:   22  E:  0.001165 p = ( 0.000277,-0.000499, 0.001016)v = (-201.09, 5.47,635.37) end=(-2500.00,-2418.30,-597.57)\n",
      "                                              23  pdg:   22  E:  0.001748 p = ( 0.001390, 0.000140, 0.001052)v = (-205.23, 1.57,628.55) end=( 0.45,63.00,416.23)\n",
      "                                    5  pdg:   11  E:  0.003322 p = (-0.002336,-0.001257, 0.001933)v = (-201.83, 2.37,562.49) end=(-202.39, 2.07,562.81)\n",
      "                        14  pdg:   22  E:  0.001295 p = (-0.000884,-0.000085, 0.000942)v = (-195.39, 2.76,555.40) end=(-2019.82,-172.54,2500.00)\n",
      "                        20  pdg:   22  E:  0.002662 p = (-0.001822, 0.000016, 0.001940)v = (-187.37, 2.91,546.46) end=(-130.72,99.48,540.00)\n",
      "                                    | \n",
      "                                   25  pdg:   11  E:  0.001952 p = (-0.000855,-0.000624, 0.001558)v = (-191.78, 2.95,551.16) end=(-191.95, 2.85,551.42)\n",
      "                        21  pdg:   22  E:  0.005177 p = (-0.003632,-0.000092, 0.003687)v = (-201.24, 2.31,561.76) end=(-2110.53,-46.29,2500.00)\n",
      "                        24  pdg:   22  E:  0.006398 p = (-0.004379, 0.000144, 0.004663)v = (-188.57, 2.94,547.75) end=(-2022.14,63.17,2500.00)\n",
      "                        27  pdg:   22  E:  0.017267 p = (-0.011959, 0.000345, 0.012451)v = (-188.67, 2.94,547.85) end=(-197.59, 3.20,557.14)\n",
      "                                    | \n",
      "                                    4  pdg:   11  E:  0.010547 p = (-0.007563, 0.001028, 0.007261)v = (-197.59, 3.20,557.14) end=(-200.48, 2.28,559.27)\n",
      "                                   16  pdg:  -11  E:  0.006721 p = (-0.004589,-0.000008, 0.004884)v = (-197.59, 3.20,557.14) end=(-198.85, 3.20,558.58)\n",
      "             19  pdg:   11  E:  2.318371 p = ( 0.065207, 0.003161, 2.317451)v = (-0.03, 0.00, 0.92) end=(-152.72, 3.40,2500.00)\n",
      "\n",
      "Booking histogram hist_ecal_oneslb\n"
     ]
    },
    {
     "ename": "TypeError",
     "evalue": "double Ecal_Analysis_Class::ecal_xpos_correction(double xpos, double energy, int pdg) =>\n    TypeError: takes at least 3 arguments (2 given)",
     "output_type": "error",
     "traceback": [
      "\u001B[0;31m---------------------------------------------------------------------------\u001B[0m",
      "\u001B[0;31mTypeError\u001B[0m                                 Traceback (most recent call last)",
      "Cell \u001B[0;32mIn[12], line 46\u001B[0m\n\u001B[1;32m     43\u001B[0m primary_mc_part_idx \u001B[38;5;241m=\u001B[39m R\u001B[38;5;241m.\u001B[39mEAC\u001B[38;5;241m.\u001B[39mget_list_of_primary_mc(mdst\u001B[38;5;241m.\u001B[39mmc_part_sim_status)\n\u001B[1;32m     45\u001B[0m Print_Event()\n\u001B[0;32m---> 46\u001B[0m \u001B[43mShow_Event\u001B[49m\u001B[43m(\u001B[49m\u001B[43m)\u001B[49m\n",
      "Cell \u001B[0;32mIn[7], line 111\u001B[0m, in \u001B[0;36mShow_Event\u001B[0;34m(debug)\u001B[0m\n\u001B[1;32m    108\u001B[0m \u001B[38;5;28;01mif\u001B[39;00m debug:\n\u001B[1;32m    109\u001B[0m     \u001B[38;5;28mprint\u001B[39m(\u001B[38;5;124mf\u001B[39m\u001B[38;5;124m\"\u001B[39m\u001B[38;5;124mCluster: (\u001B[39m\u001B[38;5;132;01m{\u001B[39;00mmdst\u001B[38;5;241m.\u001B[39mecal_cluster_seed_ix[i]\u001B[38;5;132;01m:\u001B[39;00m\u001B[38;5;124m3d\u001B[39m\u001B[38;5;132;01m}\u001B[39;00m\u001B[38;5;124m,\u001B[39m\u001B[38;5;132;01m{\u001B[39;00mmdst\u001B[38;5;241m.\u001B[39mecal_cluster_seed_iy[i]\u001B[38;5;132;01m:\u001B[39;00m\u001B[38;5;124m2d\u001B[39m\u001B[38;5;132;01m}\u001B[39;00m\u001B[38;5;124m) (\u001B[39m\u001B[38;5;132;01m{\u001B[39;00mmdst\u001B[38;5;241m.\u001B[39mecal_cluster_x[i]\u001B[38;5;132;01m:\u001B[39;00m\u001B[38;5;124m6.2f\u001B[39m\u001B[38;5;132;01m}\u001B[39;00m\u001B[38;5;124m,\u001B[39m\u001B[38;5;132;01m{\u001B[39;00mmdst\u001B[38;5;241m.\u001B[39mecal_cluster_y[i]\u001B[38;5;132;01m:\u001B[39;00m\u001B[38;5;124m6.2f\u001B[39m\u001B[38;5;132;01m}\u001B[39;00m\u001B[38;5;124m) (\u001B[39m\u001B[38;5;132;01m{\u001B[39;00mmdst\u001B[38;5;241m.\u001B[39mecal_cluster_x[i]\u001B[38;5;132;01m:\u001B[39;00m\u001B[38;5;124m6.2f\u001B[39m\u001B[38;5;132;01m}\u001B[39;00m\u001B[38;5;124m, \u001B[39m\u001B[38;5;132;01m{\u001B[39;00mmdst\u001B[38;5;241m.\u001B[39mecal_cluster_y[i]\u001B[38;5;132;01m:\u001B[39;00m\u001B[38;5;124m6.2f\u001B[39m\u001B[38;5;132;01m}\u001B[39;00m\u001B[38;5;124m) E=\u001B[39m\u001B[38;5;132;01m{\u001B[39;00mmdst\u001B[38;5;241m.\u001B[39mecal_cluster_energy[i]\u001B[38;5;132;01m:\u001B[39;00m\u001B[38;5;124m7.4f\u001B[39m\u001B[38;5;132;01m}\u001B[39;00m\u001B[38;5;124m GeV\u001B[39m\u001B[38;5;124m\"\u001B[39m)\n\u001B[0;32m--> 111\u001B[0m x_clus_dot\u001B[38;5;241m.\u001B[39mappend(R\u001B[38;5;241m.\u001B[39mEAC\u001B[38;5;241m.\u001B[39mecal_xpos_to_index(\u001B[43mR\u001B[49m\u001B[38;5;241;43m.\u001B[39;49m\u001B[43mEAC\u001B[49m\u001B[38;5;241;43m.\u001B[39;49m\u001B[43mecal_xpos_correction\u001B[49m\u001B[43m(\u001B[49m\u001B[43mmdst\u001B[49m\u001B[38;5;241;43m.\u001B[39;49m\u001B[43mecal_cluster_x\u001B[49m\u001B[43m[\u001B[49m\u001B[43mi\u001B[49m\u001B[43m]\u001B[49m\u001B[43m,\u001B[49m\u001B[43mmdst\u001B[49m\u001B[38;5;241;43m.\u001B[39;49m\u001B[43mecal_cluster_energy\u001B[49m\u001B[43m[\u001B[49m\u001B[43mi\u001B[49m\u001B[43m]\u001B[49m\u001B[43m,\u001B[49m\u001B[43m)\u001B[49m))\n\u001B[1;32m    112\u001B[0m y_clus_dot\u001B[38;5;241m.\u001B[39mappend(R\u001B[38;5;241m.\u001B[39mEAC\u001B[38;5;241m.\u001B[39mecal_ypos_to_index(mdst\u001B[38;5;241m.\u001B[39mecal_cluster_y[i]))\n\u001B[1;32m    113\u001B[0m x_clus_uncor_dot\u001B[38;5;241m.\u001B[39mappend(R\u001B[38;5;241m.\u001B[39mEAC\u001B[38;5;241m.\u001B[39mecal_xpos_to_index(mdst\u001B[38;5;241m.\u001B[39mecal_cluster_x[i]))\n",
      "\u001B[0;31mTypeError\u001B[0m: double Ecal_Analysis_Class::ecal_xpos_correction(double xpos, double energy, int pdg) =>\n    TypeError: takes at least 3 arguments (2 given)"
     ]
    }
   ],
   "execution_count": 12
  },
  {
   "cell_type": "code",
   "source": [
    "mdst.Print()\n",
    "#cc2.SaveAs(f\"Tritrig_event_{mdst.event_number}.pdf\")"
   ],
   "metadata": {
    "collapsed": false,
    "ExecuteTime": {
     "end_time": "2025-07-02T20:47:58.288847Z",
     "start_time": "2025-07-02T20:47:58.185029Z"
    }
   },
   "outputs": [
    {
     "name": "stdout",
     "output_type": "stream",
     "text": [
      "======== Event: -7 Run: 14700  ========\n",
      " Particles: \n",
      "   Particle 0: type: 0 pdg: -11 energy: 0 px: 0.0467398 py: -0.0682415 pz: 1.38347 track: 0 ecal_cluster: -1\n",
      "    |- Track: type: 1 n_hits: 11 d0: -0.389125 phi0: 0.0337716 omega: -0.000186166 tan_lambda: -0.0492982 z0: -0.0246303 chi2: 15.2541 time: -32.7064 px: 0.0467398 py: -0.0682415 pz: 1.38347\n",
      "     |- At ECal:  x: 226.662 y: -73.8669 z: 1448\n",
      "   Particle 1: type: 0 pdg: 22 energy: 0.707036 px: 0.0994597 py: -0.0343587 pz: 0.699162 track: -1 ecal_cluster: 0\n",
      "    |- Ecal Cluster: energy: 0.707036 time: 27.7406 x: 206.232 y: -71.2434 z: 1449.73 seed_ix: 12 seed_iy: -4 seed_energy: 0.326203\n",
      "   Particle 2: type: 0 pdg: 22 energy: 0.647923 px: 0.126788 py: -0.0317312 pz: 0.634604 track: -1 ecal_cluster: 1\n",
      "    |- Ecal Cluster: energy: 0.647923 time: 27.627 x: 289.772 y: -72.5212 z: 1450.38 seed_ix: 18 seed_iy: -4 seed_energy: 0.307869\n"
     ]
    }
   ],
   "execution_count": 13
  },
  {
   "metadata": {
    "ExecuteTime": {
     "end_time": "2025-07-02T20:52:38.344609Z",
     "start_time": "2025-07-02T20:52:38.239497Z"
    }
   },
   "cell_type": "code",
   "source": [
    "i=1\n",
    "print(mdst.ecal_cluster_x[i],mdst.ecal_cluster_uncor_x[i],R.EAC.ecal_xpos_correction(mdst.ecal_cluster_uncor_x[i],mdst.ecal_cluster_energy[i],11))"
   ],
   "outputs": [
    {
     "name": "stdout",
     "output_type": "stream",
     "text": [
      "289.7720031738281 285.2875061035156 295.359073926081\n"
     ]
    }
   ],
   "execution_count": 21
  },
  {
   "metadata": {
    "ExecuteTime": {
     "end_time": "2025-07-02T20:48:03.033571Z",
     "start_time": "2025-07-02T20:48:02.924776Z"
    }
   },
   "cell_type": "code",
   "source": "mdst.ecal_cluster_uncor_x",
   "outputs": [
    {
     "data": {
      "text/plain": [
       "vector<double>{ 203.73500, 285.28751 }"
      ]
     },
     "execution_count": 15,
     "metadata": {},
     "output_type": "execute_result"
    }
   ],
   "execution_count": 15
  },
  {
   "metadata": {},
   "cell_type": "code",
   "outputs": [],
   "execution_count": null,
   "source": ""
  }
 ],
 "metadata": {
  "kernelspec": {
   "display_name": "Python 3",
   "language": "python",
   "name": "python3"
  },
  "language_info": {
   "codemirror_mode": {
    "name": "ipython",
    "version": 2
   },
   "file_extension": ".py",
   "mimetype": "text/x-python",
   "name": "python",
   "nbconvert_exporter": "python",
   "pygments_lexer": "ipython2",
   "version": "2.7.6"
  }
 },
 "nbformat": 4,
 "nbformat_minor": 0
}
