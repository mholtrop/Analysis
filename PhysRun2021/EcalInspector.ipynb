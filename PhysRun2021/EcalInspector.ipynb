{
 "cells": [
  {
   "cell_type": "code",
   "execution_count": 1,
   "metadata": {
    "collapsed": true
   },
   "outputs": [
    {
     "name": "stdout",
     "output_type": "stream",
     "text": [
      "Welcome to JupyROOT 6.29/01\n"
     ]
    }
   ],
   "source": [
    "# Warning: Execute this cell only once for the kernel. Reset the kernel if you need changes.\n",
    "import sys\n",
    "sys.path.append(\"../Python\")\n",
    "import ROOT as R\n",
    "import time\n",
    "import numpy as np\n",
    "# Turn jsroot off if you want to make a pdf from this file.\n",
    "%jsroot on\n",
    "from root_helpers import SetStyle\n",
    "# R.EnableImplicitMT()"
   ]
  },
  {
   "cell_type": "code",
   "execution_count": 2,
   "outputs": [
    {
     "name": "stdout",
     "output_type": "stream",
     "text": [
      "Recompile needed, file not found.\n"
     ]
    },
    {
     "data": {
      "text/plain": "'Particles analysis. V1.0.3 \\n'"
     },
     "execution_count": 2,
     "metadata": {},
     "output_type": "execute_result"
    },
    {
     "name": "stderr",
     "output_type": "stream",
     "text": [
      "Info in <TMacOSXSystem::ACLiC>: creating shared library /System/Volumes/Data/data/HPS/Analysis/PhysRun2021/./../Python/Particles_C.so\n"
     ]
    }
   ],
   "source": [
    "import os\n",
    "recompile = True\n",
    "try:\n",
    "    if os.path.getmtime('../Python/Particles_C.so') - os.path.getmtime('../Python/Particles.C') > 0:\n",
    "        recompile = False\n",
    "        print(\"Recompile is not needed\")\n",
    "    else:\n",
    "        print(\"Recompiling: \")\n",
    "except:\n",
    "    print(\"Recompile needed, file not found.\")\n",
    "if recompile:\n",
    "    R.gROOT.LoadMacro(\"../Python/Particles.C++\")\n",
    "else:\n",
    "    R.gROOT.LoadMacro(\"../Python/Particles_C.so\")\n",
    "R.Particles()"
   ],
   "metadata": {
    "collapsed": false
   }
  },
  {
   "cell_type": "code",
   "execution_count": 8,
   "outputs": [],
   "source": [
    "def fancy_plot(histo, ones_lb, opt=0):\n",
    "    \"\"\"\n",
    "    Fancy plot of the Calorimeter with the 2D histo overlayed.\n",
    "    \"\"\"\n",
    "    # this defines the position of the top right region of big boxes, others will fall in by symmetry\n",
    "    ecal_x_first = 1\n",
    "    ecal_nx_first = -1\n",
    "    ecal_y_first = 1\n",
    "    ecal_ny_first = -1\n",
    "\n",
    "    ecal_nx = 23\n",
    "    ecal_ny = 5\n",
    "\n",
    "    xax = histo.GetXaxis()\n",
    "    yax = histo.GetYaxis()\n",
    "\n",
    "    # if R.gROOT.FindObject(histo.GetName()+\"_oneslb\"): # if this one exists all the rest probably exist too\n",
    "    #     print(f'histogram {histo.GetName()+\"_oneslb\"} found.')\n",
    "    #     ones_lb= R.gROOT.FindObject(histo.GetName()+\"_oneslb\")\n",
    "    #     ones_lb.Clear()\n",
    "    if ones_lb is None:\n",
    "        print(f'Booking histogram {histo.GetName()+\"_oneslb\"}')\n",
    "        ones_lb = R.TH2F(histo.GetName()+\"_oneslb\",\"oneslb\",(ecal_nx+1)*2+1,-ecal_nx-1.5,ecal_nx+1.5,(ecal_ny+1)*2+1,-ecal_ny-1.5,ecal_ny+1.5);\n",
    "    else:\n",
    "        ones_lb.Clear()\n",
    "\n",
    "    if opt& 0x4 ==0:\n",
    "        histo.SetMaximum();\n",
    "    if histo.GetMaximum() < 1:\n",
    "        histo.SetMaximum(1.1)\n",
    "\n",
    "    if opt & 0x6 == 0:\n",
    "        histo.SetStats(0)\n",
    "\n",
    "    SetMax=histo.GetMaximum()\n",
    "    if SetMax<1.1:\n",
    "        SetMax=1.1\n",
    "\n",
    "    xax=ones_lb.GetXaxis();\n",
    "    yax=ones_lb.GetYaxis();\n",
    "\n",
    "    # this chunk of code just puts the grid in the right place\n",
    "    for i in range(ecal_nx):\n",
    "        for j in range(ecal_ny):\n",
    "            ones_lb.SetBinContent(xax.FindBin(ecal_x_first+i),yax.FindBin(ecal_y_first+j),1)\n",
    "            ones_lb.SetBinContent(xax.FindBin(ecal_x_first+i),yax.FindBin(ecal_ny_first-j),1)\n",
    "            if (j==0 and 0 < i < 10):\n",
    "                pass\n",
    "            else:\n",
    "                ones_lb.SetBinContent(xax.FindBin(ecal_nx_first-i),yax.FindBin(ecal_ny_first-j),1)\n",
    "                ones_lb.SetBinContent(xax.FindBin(ecal_nx_first-i),yax.FindBin(ecal_y_first+j),1)\n",
    "\n",
    "    ones_lb.Scale(SetMax) # scale them so the boxes are big enough\n",
    "    # draw stuff\n",
    "    xax.SetTitle(\"x crystal index\")\n",
    "    yax.SetTitle(\"y crystal index\")\n",
    "    if opt&0x1:\n",
    "        histo.Draw(\"col\")\n",
    "    else:\n",
    "        histo.Draw(\"colz\")\n",
    "\n",
    "    ones_lb.Draw(\"boxsame\")\n",
    "    return ones_lb"
   ],
   "metadata": {
    "collapsed": false
   }
  },
  {
   "cell_type": "code",
   "execution_count": 4,
   "outputs": [
    {
     "name": "stdout",
     "output_type": "stream",
     "text": [
      "Number of events loaded:  36.588M\n"
     ]
    }
   ],
   "source": [
    "ch = R.TChain(\"MiniDST\")\n",
    "# ch.Add(\"/data/HPS/data/physrun2021/MC/hpsForward_gamma_3.0GeV_z0.0_*_SLIC-v06-00-01_QGSP_BERT_HPS-v2019-3pt7GeV_recon.root\")\n",
    "ch.Add(\"/data/HPS/data/physrun2021/pass0/minidst/hps_0147*.root\")\n",
    "print(f\"Number of events loaded: {ch.GetEntries()/1e6:7.3f}M\")"
   ],
   "metadata": {
    "collapsed": false
   }
  },
  {
   "cell_type": "code",
   "execution_count": 5,
   "outputs": [
    {
     "name": "stdout",
     "output_type": "stream",
     "text": [
      "Available data names in Tuple:\n",
      "\n",
      "ecal_cluster_energy     ecal_cluster_hits       ecal_cluster_nhits      ecal_cluster_seed_energy\n",
      "ecal_cluster_seed_index ecal_cluster_seed_ix    ecal_cluster_seed_iy    ecal_cluster_time       \n",
      "ecal_cluster_x          ecal_cluster_y          ecal_cluster_z          ecal_hit_energy         \n",
      "ecal_hit_index_x        ecal_hit_index_y        ecal_hit_time           event_number            \n",
      "ext_trigger             hodo_cluster_energy     hodo_cluster_ix         hodo_cluster_iy         \n",
      "hodo_cluster_layer      hodo_cluster_time       hodo_hit_energy         hodo_hit_hole           \n",
      "hodo_hit_index_x        hodo_hit_index_y        hodo_hit_layer          hodo_hit_time           \n",
      "part_charge             part_ecal_cluster       part_energy             part_goodness_of_pid    \n",
      "part_lcio_type          part_mass               part_pdg                part_px                 \n",
      "part_py                 part_pz                 part_track              part_track_chi2         \n",
      "part_type               rf_time1                rf_time2                run_number              \n",
      "svt_status              time_stamp              track_chi2              track_covmatrix         \n",
      "track_d0                track_gbl_ref           track_isolation         track_lambda_kinks      \n",
      "track_n_gbl             track_n_hits            track_n_kf              track_n_matched         \n",
      "track_omega             track_particle          track_phi0              track_phi_kinks         \n",
      "track_px                track_py                track_pz                track_ref               \n",
      "track_svt_hits          track_tan_lambda        track_time              track_type              \n",
      "track_volume            track_x_at_ecal         track_y_at_ecal         track_z0                \n",
      "track_z_at_ecal         trigger                 v0_charge               v0_em_chi2              \n",
      "v0_em_clus              v0_em_clus_energy       v0_em_clus_ix           v0_em_clus_iy           \n",
      "v0_em_clus_pos_x        v0_em_clus_pos_y        v0_em_clus_time         v0_em_good_pid          \n",
      "v0_em_p                 v0_em_part              v0_em_pos_ecal_x        v0_em_pos_ecal_y        \n",
      "v0_em_track             v0_em_track_nhit        v0_em_track_time        v0_energy               \n",
      "v0_ep_chi2              v0_ep_clus              v0_ep_clus_energy       v0_ep_clus_ix           \n",
      "v0_ep_clus_iy           v0_ep_clus_pos_x        v0_ep_clus_pos_y        v0_ep_clus_time         \n",
      "v0_ep_good_pid          v0_ep_p                 v0_ep_part              v0_ep_pos_ecal_x        \n",
      "v0_ep_pos_ecal_y        v0_ep_track             v0_ep_track_nhit        v0_ep_track_time        \n",
      "v0_goodness_of_pid      v0_lcio_type            v0_mass                 v0_mass_err             \n",
      "v0_pdg                  v0_px                   v0_py                   v0_pz                   \n",
      "v0_type                 v0_vertex_chi2          v0_vertex_prob          v0_vertex_x             \n",
      "v0_vertex_y             v0_vertex_z             "
     ]
    }
   ],
   "source": [
    "df = R.RDataFrame(ch)\n",
    "print(\"Available data names in Tuple:\")\n",
    "ColumnNames=df.GetColumnNames()\n",
    "ll = 0\n",
    "pr_colnames = [x for x in ColumnNames if str(x).startswith('')]\n",
    "for nn in pr_colnames:\n",
    "    if ll < len(nn):\n",
    "        ll = len(nn)\n",
    "for n in range(len(pr_colnames)):\n",
    "    if n%4 == 0:\n",
    "        print(\"\")\n",
    "    print(f\"{str(pr_colnames[n]):{ll}s}\",end=\"\")"
   ],
   "metadata": {
    "collapsed": false
   }
  },
  {
   "cell_type": "code",
   "execution_count": 6,
   "outputs": [],
   "source": [
    "ones = None\n",
    "event=39\n",
    "c_name = \"cc\"+str(event)\n",
    "cc1 = R.TCanvas(\"cc1\",\"Canvas\",1000,600)"
   ],
   "metadata": {
    "collapsed": false
   }
  },
  {
   "cell_type": "code",
   "execution_count": 9,
   "outputs": [
    {
     "data": {
      "text/plain": "<IPython.core.display.HTML object>",
      "text/html": "\n\n<div id=\"root_plot_1676911670722\"\n     style=\"width: 996px; height: 572px\">\n</div>\n<script>\n\nfunction display_root_plot_1676911670722(Core) {\n   let obj = Core.parse({\"_typename\":\"TCanvas\",\"fUniqueID\":0,\"fBits\":3342344,\"fLineColor\":1,\"fLineStyle\":1,\"fLineWidth\":1,\"fFillColor\":0,\"fFillStyle\":1001,\"fLeftMargin\":0.1,\"fRightMargin\":0.1,\"fBottomMargin\":0.1,\"fTopMargin\":0.1,\"fXfile\":2,\"fYfile\":2,\"fAfile\":1,\"fXstat\":0.99,\"fYstat\":0.99,\"fAstat\":2,\"fFrameFillColor\":0,\"fFrameLineColor\":1,\"fFrameFillStyle\":1001,\"fFrameLineStyle\":1,\"fFrameLineWidth\":1,\"fFrameBorderSize\":1,\"fFrameBorderMode\":0,\"fX1\":-31.7500004656613,\"fY1\":-8.12500012107194,\"fX2\":30.7500004656613,\"fY2\":8.12500012107194,\"fXtoAbsPixelk\":505.968049881268,\"fXtoPixelk\":505.968049881268,\"fXtoPixel\":15.9359997625351,\"fYtoAbsPixelk\":286.00005,\"fYtoPixelk\":286.00005,\"fYtoPixel\":-35.1999994754791,\"fUtoAbsPixelk\":5e-5,\"fUtoPixelk\":5e-5,\"fUtoPixel\":996,\"fVtoAbsPixelk\":572.00005,\"fVtoPixelk\":572,\"fVtoPixel\":-572,\"fAbsPixeltoXk\":-31.7500004656613,\"fPixeltoXk\":-31.7500004656613,\"fPixeltoX\":0.0627510049511271,\"fAbsPixeltoYk\":8.12500012107194,\"fPixeltoYk\":-8.12500012107194,\"fPixeltoY\":-0.0284090913324194,\"fXlowNDC\":0,\"fYlowNDC\":0,\"fXUpNDC\":1,\"fYUpNDC\":1,\"fWNDC\":1,\"fHNDC\":1,\"fAbsXlowNDC\":0,\"fAbsYlowNDC\":0,\"fAbsWNDC\":1,\"fAbsHNDC\":1,\"fUxmin\":-25.5,\"fUymin\":-6.5,\"fUxmax\":24.5,\"fUymax\":6.5,\"fTheta\":30,\"fPhi\":30,\"fAspectRatio\":0,\"fNumber\":0,\"fTickx\":0,\"fTicky\":0,\"fLogx\":0,\"fLogy\":0,\"fLogz\":0,\"fPadPaint\":0,\"fCrosshair\":0,\"fCrosshairPos\":0,\"fBorderSize\":2,\"fBorderMode\":0,\"fModified\":false,\"fGridx\":false,\"fGridy\":false,\"fAbsCoord\":false,\"fEditable\":true,\"fFixedAspectRatio\":false,\"fPrimitives\":{\"_typename\":\"TList\",\"name\":\"TList\",\"arr\":[{\"_typename\":\"TFrame\",\"fUniqueID\":0,\"fBits\":8,\"fLineColor\":1,\"fLineStyle\":1,\"fLineWidth\":1,\"fFillColor\":0,\"fFillStyle\":1001,\"fX1\":-25.5,\"fY1\":-6.5,\"fX2\":24.5,\"fY2\":6.5,\"fBorderSize\":1,\"fBorderMode\":0},{\"_typename\":\"TH2D\",\"fUniqueID\":0,\"fBits\":520,\"fName\":\"h_ecal\",\"fTitle\":\"Ecal Hits\",\"fLineColor\":602,\"fLineStyle\":1,\"fLineWidth\":1,\"fFillColor\":0,\"fFillStyle\":1001,\"fMarkerColor\":1,\"fMarkerStyle\":1,\"fMarkerSize\":1,\"fNcells\":780,\"fXaxis\":{\"_typename\":\"TAxis\",\"fUniqueID\":0,\"fBits\":0,\"fName\":\"xaxis\",\"fTitle\":\"\",\"fNdivisions\":510,\"fAxisColor\":1,\"fLabelColor\":1,\"fLabelFont\":42,\"fLabelOffset\":0.005,\"fLabelSize\":0.035,\"fTickLength\":0.03,\"fTitleOffset\":1,\"fTitleSize\":0.035,\"fTitleColor\":1,\"fTitleFont\":42,\"fNbins\":50,\"fXmin\":-25.5,\"fXmax\":24.5,\"fXbins\":[],\"fFirst\":0,\"fLast\":0,\"fBits2\":0,\"fTimeDisplay\":false,\"fTimeFormat\":\"\",\"fLabels\":null,\"fModLabs\":null},\"fYaxis\":{\"_typename\":\"TAxis\",\"fUniqueID\":0,\"fBits\":0,\"fName\":\"yaxis\",\"fTitle\":\"\",\"fNdivisions\":510,\"fAxisColor\":1,\"fLabelColor\":1,\"fLabelFont\":42,\"fLabelOffset\":0.005,\"fLabelSize\":0.035,\"fTickLength\":0.03,\"fTitleOffset\":0,\"fTitleSize\":0.035,\"fTitleColor\":1,\"fTitleFont\":42,\"fNbins\":13,\"fXmin\":-6.5,\"fXmax\":6.5,\"fXbins\":[],\"fFirst\":0,\"fLast\":0,\"fBits2\":0,\"fTimeDisplay\":false,\"fTimeFormat\":\"\",\"fLabels\":null,\"fModLabs\":null},\"fZaxis\":{\"_typename\":\"TAxis\",\"fUniqueID\":0,\"fBits\":0,\"fName\":\"zaxis\",\"fTitle\":\"\",\"fNdivisions\":510,\"fAxisColor\":1,\"fLabelColor\":1,\"fLabelFont\":42,\"fLabelOffset\":0.005,\"fLabelSize\":0.035,\"fTickLength\":0.03,\"fTitleOffset\":1,\"fTitleSize\":0.035,\"fTitleColor\":1,\"fTitleFont\":42,\"fNbins\":1,\"fXmin\":0,\"fXmax\":1,\"fXbins\":[],\"fFirst\":0,\"fLast\":0,\"fBits2\":0,\"fTimeDisplay\":false,\"fTimeFormat\":\"\",\"fLabels\":null,\"fModLabs\":null},\"fBarOffset\":0,\"fBarWidth\":1000,\"fEntries\":11,\"fTsumw\":2.43247357290238,\"fTsumw2\":2.12680033521653,\"fTsumwx\":-0.574811212718487,\"fTsumwx2\":247.855347493663,\"fMaximum\":-1111,\"fMinimum\":-1111,\"fNormFactor\":0,\"fContour\":{\"$arr\":\"Float64\",\"len\":20,\"p\":1,\"v\":[0.066060313442722,0.132120626885444,0.198180940328166,0.264241253770888,0.33030156721361,0.396361880656332,0.462422194099054,0.528482507541776,0.594542820984498,0.66060313442722,0.726663447869942,0.792723761312664,0.858784074755386,0.924844388198108,0.990904701640829,1.05696501508355,1.12302532852627,1.189085641969,1.25514595541172]},\"fSumw2\":{\"$arr\":\"Float64\",\"len\":780,\"p\":321,\"v\":[0.331688017979648,0.00460082855592742],\"p1\":337,\"v1\":[0.00222264590608347,0,0.00157329645504191],\"p2\":441,\"v2\":[5.55846604491681e-4,0,0,0,0,0,0,1.72271837183184,0.058213703559141,6.40058325507301e-4],\"p3\":499,\"v3\":[8.79885848963868e-4,0.00370768014987867]},\"fOption\":\"\",\"fFunctions\":{\"_typename\":\"TList\",\"name\":\"TList\",\"arr\":[{\"_typename\":\"TPaletteAxis\",\"fUniqueID\":0,\"fBits\":0,\"fLineColor\":1,\"fLineStyle\":1,\"fLineWidth\":1,\"fFillColor\":1178,\"fFillStyle\":1001,\"fX1\":24.8125000046566,\"fY1\":-6.5,\"fX2\":27.6250000465661,\"fY2\":6.5,\"fX1NDC\":0.904999994039535,\"fY1NDC\":0.100000005960465,\"fX2NDC\":0.949999994039535,\"fY2NDC\":0.899999994039535,\"fBorderSize\":4,\"fInit\":1,\"fShadowColor\":1,\"fCornerRadius\":0,\"fOption\":\"br\",\"fName\":\"palette\",\"fAxis\":{\"_typename\":\"TGaxis\",\"fUniqueID\":0,\"fBits\":0,\"fLineColor\":1,\"fLineStyle\":1,\"fLineWidth\":1,\"fX1\":0,\"fY1\":0,\"fX2\":0,\"fY2\":0,\"fTextAngle\":0,\"fTextSize\":0.04,\"fTextAlign\":11,\"fTextColor\":1,\"fTextFont\":42,\"fWmin\":0,\"fWmax\":0,\"fGridLength\":0,\"fTickSize\":0.03,\"fLabelOffset\":0.005,\"fLabelSize\":0.035,\"fTitleOffset\":1,\"fTitleSize\":0.035,\"fNdiv\":0,\"fLabelColor\":1,\"fLabelFont\":42,\"fNModLabs\":0,\"fChopt\":\"\",\"fName\":\"\",\"fTitle\":\"\",\"fTimeFormat\":\"\",\"fFunctionName\":\"\",\"fModLabs\":null}}],\"opt\":[\"br\"]},\"fBufferSize\":0,\"fBuffer\":[],\"fBinStatErrOpt\":0,\"fStatOverflows\":2,\"fScalefactor\":1,\"fTsumwy\":1.06190161313862,\"fTsumwy2\":2.70413435157388,\"fTsumwxy\":21.7057519480586,\"fArray\":{\"$arr\":\"Float64\",\"len\":780,\"p\":321,\"v\":[0.57592362165451,0.0678294077515602],\"p1\":337,\"v1\":[0.0471449457108974,0,0.039664801210165],\"p2\":441,\"v2\":[0.0235763993114233,0,0,0,0,0,0,1.32120626885444,0.241275161504745,0.0252993740141392],\"p3\":499,\"v3\":[0.0296628698706627,0.0608907230198383]}},{\"_typename\":\"TH2F\",\"fUniqueID\":0,\"fBits\":8,\"fName\":\"\",\"fTitle\":\"\",\"fLineColor\":602,\"fLineStyle\":1,\"fLineWidth\":1,\"fFillColor\":0,\"fFillStyle\":1001,\"fMarkerColor\":1,\"fMarkerStyle\":1,\"fMarkerSize\":1,\"fNcells\":765,\"fXaxis\":{\"_typename\":\"TAxis\",\"fUniqueID\":0,\"fBits\":0,\"fName\":\"xaxis\",\"fTitle\":\"x crystal index\",\"fNdivisions\":510,\"fAxisColor\":1,\"fLabelColor\":1,\"fLabelFont\":42,\"fLabelOffset\":0.005,\"fLabelSize\":0.035,\"fTickLength\":0.03,\"fTitleOffset\":1,\"fTitleSize\":0.035,\"fTitleColor\":1,\"fTitleFont\":42,\"fNbins\":49,\"fXmin\":-24.5,\"fXmax\":24.5,\"fXbins\":[],\"fFirst\":0,\"fLast\":0,\"fBits2\":0,\"fTimeDisplay\":false,\"fTimeFormat\":\"\",\"fLabels\":null,\"fModLabs\":null},\"fYaxis\":{\"_typename\":\"TAxis\",\"fUniqueID\":0,\"fBits\":0,\"fName\":\"yaxis\",\"fTitle\":\"y crystal index\",\"fNdivisions\":510,\"fAxisColor\":1,\"fLabelColor\":1,\"fLabelFont\":42,\"fLabelOffset\":0.005,\"fLabelSize\":0.035,\"fTickLength\":0.03,\"fTitleOffset\":0,\"fTitleSize\":0.035,\"fTitleColor\":1,\"fTitleFont\":42,\"fNbins\":13,\"fXmin\":-6.5,\"fXmax\":6.5,\"fXbins\":[],\"fFirst\":0,\"fLast\":0,\"fBits2\":0,\"fTimeDisplay\":false,\"fTimeFormat\":\"\",\"fLabels\":null,\"fModLabs\":null},\"fZaxis\":{\"_typename\":\"TAxis\",\"fUniqueID\":0,\"fBits\":0,\"fName\":\"zaxis\",\"fTitle\":\"\",\"fNdivisions\":510,\"fAxisColor\":1,\"fLabelColor\":1,\"fLabelFont\":42,\"fLabelOffset\":0.005,\"fLabelSize\":0.035,\"fTickLength\":0.03,\"fTitleOffset\":1,\"fTitleSize\":0.035,\"fTitleColor\":1,\"fTitleFont\":42,\"fNbins\":1,\"fXmin\":0,\"fXmax\":1,\"fXbins\":[],\"fFirst\":0,\"fLast\":0,\"fBits2\":0,\"fTimeDisplay\":false,\"fTimeFormat\":\"\",\"fLabels\":null,\"fModLabs\":null},\"fBarOffset\":0,\"fBarWidth\":1000,\"fEntries\":874,\"fTsumw\":771.548980972328,\"fTsumw2\":1592.7646919503,\"fTsumwx\":188.523280418578,\"fTsumwx2\":149617.661215159,\"fMaximum\":-1111,\"fMinimum\":-1111,\"fNormFactor\":0,\"fContour\":[],\"fSumw2\":{\"$arr\":\"Float64\",\"len\":765,\"p\":104,\"v\":2.11215906588093,\"n\":22,\"p1\":128,\"v1\":2.11215906588093,\"n1\":23,\"p2\":155,\"v2\":2.11215906588093,\"n2\":22,\"p3\":179,\"v3\":2.11215906588093,\"n3\":23,\"p4\":206,\"v4\":2.11215906588093,\"n4\":22,\"p5\":230,\"v5\":2.11215906588093,\"n5\":23,\"p6\":257,\"v6\":2.11215906588093,\"n6\":22,\"p7\":281,\"v7\":2.11215906588093,\"n7\":23,\"p8\":308,\"v8\":2.11215906588093,\"n8\":13,\"p9\":332,\"v9\":2.11215906588093,\"n9\":23,\"p10\":410,\"v10\":2.11215906588093,\"n10\":13,\"p11\":434,\"v11\":2.11215906588093,\"n11\":23,\"p12\":461,\"v12\":2.11215906588093,\"n12\":22,\"p13\":485,\"v13\":2.11215906588093,\"n13\":23,\"p14\":512,\"v14\":2.11215906588093,\"n14\":22,\"p15\":536,\"v15\":2.11215906588093,\"n15\":23,\"p16\":563,\"v16\":2.11215906588093,\"n16\":22,\"p17\":587,\"v17\":2.11215906588093,\"n17\":23,\"p18\":614,\"v18\":2.11215906588093,\"n18\":22,\"p19\":638,\"v19\":2.11215906588093,\"n19\":23},\"fOption\":\"\",\"fFunctions\":{\"_typename\":\"TList\",\"name\":\"TList\",\"arr\":[],\"opt\":[]},\"fBufferSize\":0,\"fBuffer\":[],\"fBinStatErrOpt\":0,\"fStatOverflows\":2,\"fScalefactor\":1,\"fTsumwy\":0,\"fTsumwy2\":8801.2442580599,\"fTsumwxy\":0,\"fArray\":{\"$arr\":\"Float32\",\"len\":765,\"p\":104,\"v\":1.321206,\"n\":23,\"p1\":128,\"v1\":1.321206,\"n1\":23,\"p2\":155,\"v2\":1.321206,\"n2\":23,\"p3\":179,\"v3\":1.321206,\"n3\":23,\"p4\":206,\"v4\":1.321206,\"n4\":23,\"p5\":230,\"v5\":1.321206,\"n5\":23,\"p6\":257,\"v6\":1.321206,\"n6\":23,\"p7\":281,\"v7\":1.321206,\"n7\":23,\"p8\":308,\"v8\":1.321206,\"n8\":13,\"p9\":330,\"v9\":[1.321206,0],\"v10\":1.321206,\"n10\":23,\"p11\":410,\"v11\":1.321206,\"n11\":13,\"p12\":432,\"v12\":[1.321206,0],\"v13\":1.321206,\"n13\":23,\"p14\":461,\"v14\":1.321206,\"n14\":23,\"p15\":485,\"v15\":1.321206,\"n15\":23,\"p16\":512,\"v16\":1.321206,\"n16\":23,\"p17\":536,\"v17\":1.321206,\"n17\":23,\"p18\":563,\"v18\":1.321206,\"n18\":23,\"p19\":587,\"v19\":1.321206,\"n19\":23,\"p20\":614,\"v20\":1.321206,\"n20\":23,\"p21\":638,\"v21\":1.321206,\"n21\":23}},{\"_typename\":\"TPaveText\",\"fUniqueID\":0,\"fBits\":9,\"fLineColor\":1,\"fLineStyle\":1,\"fLineWidth\":1,\"fFillColor\":0,\"fFillStyle\":0,\"fX1\":-4.95281131133198,\"fY1\":7.15000017071143,\"fX2\":3.95281131133198,\"fY2\":8.04375019734726,\"fX1NDC\":0.428755020080321,\"fY1NDC\":0.940000003948808,\"fX2NDC\":0.571244979919679,\"fY2NDC\":0.995000004768372,\"fBorderSize\":0,\"fInit\":1,\"fShadowColor\":1,\"fCornerRadius\":0,\"fOption\":\"blNDC\",\"fName\":\"title\",\"fTextAngle\":0,\"fTextSize\":0,\"fTextAlign\":22,\"fTextColor\":1,\"fTextFont\":42,\"fLabel\":\"\",\"fLongest\":9,\"fMargin\":0.05,\"fLines\":{\"_typename\":\"TList\",\"name\":\"TList\",\"arr\":[{\"_typename\":\"TLatex\",\"fUniqueID\":0,\"fBits\":0,\"fName\":\"\",\"fTitle\":\"Ecal Hits\",\"fTextAngle\":0,\"fTextSize\":0,\"fTextAlign\":0,\"fTextColor\":0,\"fTextFont\":0,\"fX\":0,\"fY\":0,\"fLineColor\":1,\"fLineStyle\":1,\"fLineWidth\":2,\"fLimitFactorSize\":3,\"fOriginSize\":0.0467500016093254}],\"opt\":[\"\"]}},{\"_typename\":\"TStyle\",\"fUniqueID\":0,\"fBits\":0,\"fName\":\"Modern\",\"fTitle\":\"Modern Style\",\"fLineColor\":1,\"fLineStyle\":1,\"fLineWidth\":1,\"fFillColor\":19,\"fFillStyle\":1001,\"fMarkerColor\":1,\"fMarkerStyle\":1,\"fMarkerSize\":1,\"fTextAngle\":0,\"fTextSize\":0.05,\"fTextAlign\":11,\"fTextColor\":1,\"fTextFont\":62,\"fXaxis\":{\"_typename\":\"TAttAxis\",\"fNdivisions\":510,\"fAxisColor\":1,\"fLabelColor\":1,\"fLabelFont\":42,\"fLabelOffset\":0.005,\"fLabelSize\":0.035,\"fTickLength\":0.03,\"fTitleOffset\":1,\"fTitleSize\":0.035,\"fTitleColor\":1,\"fTitleFont\":42},\"fYaxis\":{\"_typename\":\"TAttAxis\",\"fNdivisions\":510,\"fAxisColor\":1,\"fLabelColor\":1,\"fLabelFont\":42,\"fLabelOffset\":0.005,\"fLabelSize\":0.035,\"fTickLength\":0.03,\"fTitleOffset\":0,\"fTitleSize\":0.035,\"fTitleColor\":1,\"fTitleFont\":42},\"fZaxis\":{\"_typename\":\"TAttAxis\",\"fNdivisions\":510,\"fAxisColor\":1,\"fLabelColor\":1,\"fLabelFont\":42,\"fLabelOffset\":0.005,\"fLabelSize\":0.035,\"fTickLength\":0.03,\"fTitleOffset\":1,\"fTitleSize\":0.035,\"fTitleColor\":1,\"fTitleFont\":42},\"fBarWidth\":1,\"fBarOffset\":0,\"fColorModelPS\":0,\"fDrawBorder\":0,\"fOptLogx\":0,\"fOptLogy\":0,\"fOptLogz\":0,\"fOptDate\":0,\"fOptStat\":1111,\"fOptTitle\":1,\"fOptFile\":0,\"fOptFit\":0,\"fShowEventStatus\":0,\"fShowEditor\":0,\"fShowToolBar\":0,\"fNumberContours\":20,\"fAttDate\":{\"_typename\":\"TAttText\",\"fTextAngle\":0,\"fTextSize\":0.025,\"fTextAlign\":11,\"fTextColor\":1,\"fTextFont\":62},\"fDateX\":0.01,\"fDateY\":0.01,\"fEndErrorSize\":2,\"fErrorX\":0.5,\"fFuncColor\":2,\"fFuncStyle\":1,\"fFuncWidth\":2,\"fGridColor\":0,\"fGridStyle\":3,\"fGridWidth\":1,\"fLegendBorderSize\":1,\"fLegendFillColor\":0,\"fLegendFont\":42,\"fLegendTextSize\":0,\"fHatchesLineWidth\":1,\"fHatchesSpacing\":1,\"fFrameFillColor\":0,\"fFrameLineColor\":1,\"fFrameFillStyle\":1001,\"fFrameLineStyle\":1,\"fFrameLineWidth\":1,\"fFrameBorderSize\":1,\"fFrameBorderMode\":0,\"fHistFillColor\":0,\"fHistLineColor\":602,\"fHistFillStyle\":1001,\"fHistLineStyle\":1,\"fHistLineWidth\":1,\"fHistMinimumZero\":false,\"fHistTopMargin\":0.05,\"fCanvasPreferGL\":false,\"fCanvasColor\":0,\"fCanvasBorderSize\":2,\"fCanvasBorderMode\":0,\"fCanvasDefH\":500,\"fCanvasDefW\":700,\"fCanvasDefX\":10,\"fCanvasDefY\":10,\"fPadColor\":0,\"fPadBorderSize\":2,\"fPadBorderMode\":0,\"fPadBottomMargin\":0.1,\"fPadTopMargin\":0.1,\"fPadLeftMargin\":0.1,\"fPadRightMargin\":0.1,\"fPadGridX\":false,\"fPadGridY\":false,\"fPadTickX\":0,\"fPadTickY\":0,\"fPaperSizeX\":20,\"fPaperSizeY\":26,\"fScreenFactor\":1,\"fStatColor\":0,\"fStatTextColor\":1,\"fStatBorderSize\":1,\"fStatFont\":42,\"fStatFontSize\":0,\"fStatStyle\":1001,\"fStatFormat\":\"6.4g\",\"fStatX\":0.98,\"fStatY\":0.935,\"fStatW\":0.2,\"fStatH\":0.16,\"fStripDecimals\":true,\"fTitleAlign\":23,\"fTitleColor\":0,\"fTitleTextColor\":1,\"fTitleBorderSize\":0,\"fTitleFont\":42,\"fTitleFontSize\":0.05,\"fTitleStyle\":0,\"fTitleX\":0.5,\"fTitleY\":0.995,\"fTitleW\":0,\"fTitleH\":0,\"fLegoInnerR\":0.5,\"fLineStyles\":[\"\",\"  \",\" 12 12\",\" 4 8\",\" 12 16 4 16\",\" 20 12 4 12\",\" 20 12 4 12 4 12 4 12\",\" 20 20\",\" 20 12 4 12 4 12\",\" 80 20\",\" 80 40 4 40\",\"  \",\"  \",\"  \",\"  \",\"  \",\"  \",\"  \",\"  \",\"  \",\"  \",\"  \",\"  \",\"  \",\"  \",\"  \",\"  \",\"  \",\"  \",\"  \"],\"fHeaderPS\":\"\",\"fTitlePS\":\"\",\"fFitFormat\":\"5.4g\",\"fPaintTextFormat\":\"g\",\"fLineScalePS\":3,\"fJoinLinePS\":0,\"fCapLinePS\":0,\"fTimeOffset\":788918400,\"fImageScaling\":1}],\"opt\":[\"\",\"colz\",\"boxsame\",\"blNDC\",\"\"]},\"fExecs\":null,\"fName\":\"cc1\",\"fTitle\":\"Canvas\",\"fNumPaletteColor\":0,\"fNextPaletteColor\":0,\"fDISPLAY\":\"$DISPLAY\",\"fDoubleBuffer\":0,\"fRetained\":true,\"fXsizeUser\":0,\"fYsizeUser\":0,\"fXsizeReal\":20,\"fYsizeReal\":12,\"fWindowTopX\":0,\"fWindowTopY\":0,\"fWindowWidth\":0,\"fWindowHeight\":0,\"fCw\":996,\"fCh\":572,\"fCatt\":{\"_typename\":\"TAttCanvas\",\"fXBetween\":2,\"fYBetween\":2,\"fTitleFromTop\":1.2,\"fXdate\":0.2,\"fYdate\":0.3,\"fAdate\":1},\"kMoveOpaque\":true,\"kResizeOpaque\":true,\"fHighLightColor\":2,\"fBatch\":true,\"kShowEventStatus\":false,\"kAutoExec\":true,\"kMenuBar\":true});\n   Core.settings.HandleKeys = false;\n   Core.draw(\"root_plot_1676911670722\", obj, \"\");\n}\n\nfunction script_load_root_plot_1676911670722(src, on_error) {\n    let script = document.createElement('script');\n    script.src = src;\n    script.onload = function() { display_root_plot_1676911670722(JSROOT); };\n    script.onerror = function() { script.remove(); on_error(); };\n    document.head.appendChild(script);\n}\n\nif (typeof requirejs !== 'undefined') {\n\n    // We are in jupyter notebooks, use require.js which should be configured already\n    requirejs.config({\n       paths: { 'JSRootCore' : [ 'build/jsroot', 'https://root.cern/js/7.2.1/build/jsroot', 'https://jsroot.gsi.de/7.2.1/build/jsroot' ] }\n    })(['JSRootCore'],  function(Core) {\n       display_root_plot_1676911670722(Core);\n    });\n\n} else if (typeof JSROOT !== 'undefined') {\n\n   // JSROOT already loaded, just use it\n   display_root_plot_1676911670722(JSROOT);\n\n} else {\n\n    // We are in jupyterlab without require.js, directly loading jsroot\n    // Jupyterlab might be installed in a different base_url so we need to know it.\n    try {\n        var base_url = JSON.parse(document.getElementById('jupyter-config-data').innerHTML).baseUrl;\n    } catch(_) {\n        var base_url = '/';\n    }\n\n    // Try loading a local version of requirejs and fallback to cdn if not possible.\n    script_load_root_plot_1676911670722(base_url + 'static/build/jsroot.js', function(){\n        console.error('Fail to load JSROOT locally, please check your jupyter_notebook_config.py file');\n        script_load_root_plot_1676911670722('https://root.cern/js/7.2.1/build/jsroot.js', function(){\n            document.getElementById(\"root_plot_1676911670722\").innerHTML = \"Failed to load JSROOT\";\n        });\n    });\n}\n\n</script>\n"
     },
     "metadata": {},
     "output_type": "display_data"
    }
   ],
   "source": [
    "cc1.Clear()\n",
    "dfr = df.Range(event,event+1)\n",
    "p0 = dfr.Display((\"run_number\",\"event_number\",\"ecal_cluster_nhits\"))\n",
    "p1 = dfr.Display((\"ecal_cluster_energy\",\"ecal_cluster_time\",\"ecal_cluster_hits\",\"ecal_cluster_seed_index\"))\n",
    "p2 = dfr.Display((\"ecal_hit_energy\",\"ecal_hit_time\",\"ecal_hit_index_x\",\"ecal_hit_index_y\"))\n",
    "h_ecal = dfr.Histo2D((\"h_ecal\",\"Ecal Hits\",50,-25.5,24.5,13,-6.5,6.5),\"ecal_hit_index_x\", \"ecal_hit_index_y\", \"ecal_hit_energy\")\n",
    "# p0.Print()\n",
    "# p1.Print()\n",
    "# p2.Print()\n",
    "h_draw = h_ecal.GetPtr()\n",
    "ones = fancy_plot(h_ecal, ones, 0x0)\n",
    "cc1.Draw()\n",
    "event +=1"
   ],
   "metadata": {
    "collapsed": false
   }
  },
  {
   "cell_type": "code",
   "execution_count": 8,
   "outputs": [],
   "source": [
    "from root_helpers import print_mc_particle_tree\n",
    "from root_helpers import print_daughters"
   ],
   "metadata": {
    "collapsed": false
   }
  },
  {
   "cell_type": "code",
   "execution_count": 9,
   "outputs": [
    {
     "data": {
      "text/plain": "0"
     },
     "execution_count": 9,
     "metadata": {},
     "output_type": "execute_result"
    }
   ],
   "source": [
    "R.gSystem.Load(\"/data/HPS/lib/libMiniDst\")"
   ],
   "metadata": {
    "collapsed": false
   }
  },
  {
   "cell_type": "code",
   "execution_count": 10,
   "outputs": [
    {
     "name": "stderr",
     "output_type": "stream",
     "text": [
      "Error in <TBranchElement::InitInfo>: StreamerInfo is not compiled.\n"
     ]
    }
   ],
   "source": [
    "# Setup the MiniDST class, which makes for easier event by event data inplection.\n",
    "# This MiniDST class looks directly into the TTree, so does not use the RDataframe class.\n",
    "# You need to:\n",
    "mdst = R.MiniDst()          # Initiate the class\n",
    "mdst.use_mc_particles=True  # Tell it to look for the MC Particles in the TTree\n",
    "mdst.DefineBranchMap()      # Define the map of all the branches to the contents of the TTree\n",
    "mdst.SetBranchAddressesOnTree(ch) # Connect the TChain (which contains the TTree) to the class."
   ],
   "metadata": {
    "collapsed": false
   }
  },
  {
   "cell_type": "code",
   "execution_count": 11,
   "outputs": [],
   "source": [
    "def make_ecal_snaphot(mini_dst, hist, opt=0):\n",
    "    \"\"\"Return a 2D histogram for the ECal, with the energy of the hits on the z-axis\"\"\"\n",
    "    if hist is None:\n",
    "        hist = R.TH2D(\"hist_ecal\",\"Ecal Hits\",50,-25.5,24.5,13,-6.5,6.5)\n",
    "    else:\n",
    "        hist.Reset()\n",
    "    # Fill the histogram by looping over the ECal hits\n",
    "    for i in range(len(mini_dst.ecal_hit_index_x)):\n",
    "        hist.Fill(mini_dst.ecal_hit_index_x[i], mini_dst.ecal_hit_index_y[i], mini_dst.ecal_hit_energy[i])\n",
    "    return hist"
   ],
   "metadata": {
    "collapsed": false
   }
  },
  {
   "cell_type": "code",
   "execution_count": 12,
   "outputs": [],
   "source": [
    "cc2 = R.TCanvas(\"cc2\",\"Canvas\",1000,600)\n",
    "hh = None\n",
    "ones2 = None"
   ],
   "metadata": {
    "collapsed": false
   }
  },
  {
   "cell_type": "code",
   "execution_count": 20,
   "outputs": [
    {
     "data": {
      "text/plain": "<IPython.core.display.HTML object>",
      "text/html": "\n\n<div id=\"root_plot_1676830018925\"\n     style=\"width: 996px; height: 572px\">\n</div>\n<script>\n\nfunction display_root_plot_1676830018925(Core) {\n   let obj = Core.parse({\"_typename\":\"TCanvas\",\"fUniqueID\":0,\"fBits\":3342344,\"fLineColor\":1,\"fLineStyle\":1,\"fLineWidth\":1,\"fFillColor\":0,\"fFillStyle\":1001,\"fLeftMargin\":0.1,\"fRightMargin\":0.1,\"fBottomMargin\":0.1,\"fTopMargin\":0.1,\"fXfile\":2,\"fYfile\":2,\"fAfile\":1,\"fXstat\":0.99,\"fYstat\":0.99,\"fAstat\":2,\"fFrameFillColor\":0,\"fFrameLineColor\":1,\"fFrameFillStyle\":1001,\"fFrameLineStyle\":1,\"fFrameLineWidth\":1,\"fFrameBorderSize\":1,\"fFrameBorderMode\":0,\"fX1\":-31.7500004656613,\"fY1\":-8.12500012107194,\"fX2\":30.7500004656613,\"fY2\":8.12500012107194,\"fXtoAbsPixelk\":505.968049881268,\"fXtoPixelk\":505.968049881268,\"fXtoPixel\":15.9359997625351,\"fYtoAbsPixelk\":286.00005,\"fYtoPixelk\":286.00005,\"fYtoPixel\":-35.1999994754791,\"fUtoAbsPixelk\":5e-5,\"fUtoPixelk\":5e-5,\"fUtoPixel\":996,\"fVtoAbsPixelk\":572.00005,\"fVtoPixelk\":572,\"fVtoPixel\":-572,\"fAbsPixeltoXk\":-31.7500004656613,\"fPixeltoXk\":-31.7500004656613,\"fPixeltoX\":0.0627510049511271,\"fAbsPixeltoYk\":8.12500012107194,\"fPixeltoYk\":-8.12500012107194,\"fPixeltoY\":-0.0284090913324194,\"fXlowNDC\":0,\"fYlowNDC\":0,\"fXUpNDC\":1,\"fYUpNDC\":1,\"fWNDC\":1,\"fHNDC\":1,\"fAbsXlowNDC\":0,\"fAbsYlowNDC\":0,\"fAbsWNDC\":1,\"fAbsHNDC\":1,\"fUxmin\":-25.5,\"fUymin\":-6.5,\"fUxmax\":24.5,\"fUymax\":6.5,\"fTheta\":30,\"fPhi\":30,\"fAspectRatio\":0,\"fNumber\":0,\"fTickx\":0,\"fTicky\":0,\"fLogx\":0,\"fLogy\":0,\"fLogz\":0,\"fPadPaint\":0,\"fCrosshair\":0,\"fCrosshairPos\":0,\"fBorderSize\":2,\"fBorderMode\":0,\"fModified\":false,\"fGridx\":false,\"fGridy\":false,\"fAbsCoord\":false,\"fEditable\":true,\"fFixedAspectRatio\":false,\"fPrimitives\":{\"_typename\":\"TList\",\"name\":\"TList\",\"arr\":[{\"_typename\":\"TFrame\",\"fUniqueID\":0,\"fBits\":8,\"fLineColor\":1,\"fLineStyle\":1,\"fLineWidth\":1,\"fFillColor\":0,\"fFillStyle\":1001,\"fX1\":-25.5,\"fY1\":-6.5,\"fX2\":24.5,\"fY2\":6.5,\"fBorderSize\":1,\"fBorderMode\":0},{\"_typename\":\"TH2D\",\"fUniqueID\":0,\"fBits\":520,\"fName\":\"hist_ecal\",\"fTitle\":\"Ecal Hits\",\"fLineColor\":602,\"fLineStyle\":1,\"fLineWidth\":1,\"fFillColor\":0,\"fFillStyle\":1001,\"fMarkerColor\":1,\"fMarkerStyle\":1,\"fMarkerSize\":1,\"fNcells\":780,\"fXaxis\":{\"_typename\":\"TAxis\",\"fUniqueID\":0,\"fBits\":0,\"fName\":\"xaxis\",\"fTitle\":\"\",\"fNdivisions\":510,\"fAxisColor\":1,\"fLabelColor\":1,\"fLabelFont\":42,\"fLabelOffset\":0.005,\"fLabelSize\":0.035,\"fTickLength\":0.03,\"fTitleOffset\":1,\"fTitleSize\":0.035,\"fTitleColor\":1,\"fTitleFont\":42,\"fNbins\":50,\"fXmin\":-25.5,\"fXmax\":24.5,\"fXbins\":[],\"fFirst\":0,\"fLast\":0,\"fBits2\":0,\"fTimeDisplay\":false,\"fTimeFormat\":\"\",\"fLabels\":null,\"fModLabs\":null},\"fYaxis\":{\"_typename\":\"TAxis\",\"fUniqueID\":0,\"fBits\":0,\"fName\":\"yaxis\",\"fTitle\":\"\",\"fNdivisions\":510,\"fAxisColor\":1,\"fLabelColor\":1,\"fLabelFont\":42,\"fLabelOffset\":0.005,\"fLabelSize\":0.035,\"fTickLength\":0.03,\"fTitleOffset\":0,\"fTitleSize\":0.035,\"fTitleColor\":1,\"fTitleFont\":42,\"fNbins\":13,\"fXmin\":-6.5,\"fXmax\":6.5,\"fXbins\":[],\"fFirst\":0,\"fLast\":0,\"fBits2\":0,\"fTimeDisplay\":false,\"fTimeFormat\":\"\",\"fLabels\":null,\"fModLabs\":null},\"fZaxis\":{\"_typename\":\"TAxis\",\"fUniqueID\":0,\"fBits\":0,\"fName\":\"zaxis\",\"fTitle\":\"\",\"fNdivisions\":510,\"fAxisColor\":1,\"fLabelColor\":1,\"fLabelFont\":42,\"fLabelOffset\":0.005,\"fLabelSize\":0.035,\"fTickLength\":0.03,\"fTitleOffset\":1,\"fTitleSize\":0.035,\"fTitleColor\":1,\"fTitleFont\":42,\"fNbins\":1,\"fXmin\":0,\"fXmax\":1,\"fXbins\":[],\"fFirst\":0,\"fLast\":0,\"fBits2\":0,\"fTimeDisplay\":false,\"fTimeFormat\":\"\",\"fLabels\":null,\"fModLabs\":null},\"fBarOffset\":0,\"fBarWidth\":1000,\"fEntries\":11,\"fTsumw\":2.43247357290238,\"fTsumw2\":2.12680033521653,\"fTsumwx\":-0.574811212718487,\"fTsumwx2\":247.855347493663,\"fMaximum\":-1111,\"fMinimum\":-1111,\"fNormFactor\":0,\"fContour\":{\"$arr\":\"Float64\",\"len\":20,\"p\":1,\"v\":[0.066060313442722,0.132120626885444,0.198180940328166,0.264241253770888,0.33030156721361,0.396361880656332,0.462422194099054,0.528482507541776,0.594542820984498,0.66060313442722,0.726663447869942,0.792723761312664,0.858784074755386,0.924844388198108,0.990904701640829,1.05696501508355,1.12302532852627,1.189085641969,1.25514595541172]},\"fSumw2\":{\"$arr\":\"Float64\",\"len\":780,\"p\":321,\"v\":[0.331688017979648,0.00460082855592742],\"p1\":337,\"v1\":[0.00222264590608347,0,0.00157329645504191],\"p2\":441,\"v2\":[5.55846604491681e-4,0,0,0,0,0,0,1.72271837183184,0.058213703559141,6.40058325507301e-4],\"p3\":499,\"v3\":[8.79885848963868e-4,0.00370768014987867]},\"fOption\":\"\",\"fFunctions\":{\"_typename\":\"TList\",\"name\":\"TList\",\"arr\":[{\"_typename\":\"TPaletteAxis\",\"fUniqueID\":0,\"fBits\":0,\"fLineColor\":1,\"fLineStyle\":1,\"fLineWidth\":1,\"fFillColor\":1178,\"fFillStyle\":1001,\"fX1\":24.8125000046566,\"fY1\":-6.5,\"fX2\":27.6250000465661,\"fY2\":6.5,\"fX1NDC\":0.904999994039535,\"fY1NDC\":0.100000005960465,\"fX2NDC\":0.949999994039535,\"fY2NDC\":0.899999994039535,\"fBorderSize\":4,\"fInit\":1,\"fShadowColor\":1,\"fCornerRadius\":0,\"fOption\":\"br\",\"fName\":\"palette\",\"fAxis\":{\"_typename\":\"TGaxis\",\"fUniqueID\":0,\"fBits\":0,\"fLineColor\":1,\"fLineStyle\":1,\"fLineWidth\":1,\"fX1\":0,\"fY1\":0,\"fX2\":0,\"fY2\":0,\"fTextAngle\":0,\"fTextSize\":0.04,\"fTextAlign\":11,\"fTextColor\":1,\"fTextFont\":42,\"fWmin\":0,\"fWmax\":0,\"fGridLength\":0,\"fTickSize\":0.03,\"fLabelOffset\":0.005,\"fLabelSize\":0.035,\"fTitleOffset\":1,\"fTitleSize\":0.035,\"fNdiv\":0,\"fLabelColor\":1,\"fLabelFont\":42,\"fNModLabs\":0,\"fChopt\":\"\",\"fName\":\"\",\"fTitle\":\"\",\"fTimeFormat\":\"\",\"fFunctionName\":\"\",\"fModLabs\":null}}],\"opt\":[\"br\"]},\"fBufferSize\":0,\"fBuffer\":[],\"fBinStatErrOpt\":0,\"fStatOverflows\":2,\"fScalefactor\":1,\"fTsumwy\":1.06190161313862,\"fTsumwy2\":2.70413435157388,\"fTsumwxy\":21.7057519480586,\"fArray\":{\"$arr\":\"Float64\",\"len\":780,\"p\":321,\"v\":[0.57592362165451,0.0678294077515602],\"p1\":337,\"v1\":[0.0471449457108974,0,0.039664801210165],\"p2\":441,\"v2\":[0.0235763993114233,0,0,0,0,0,0,1.32120626885444,0.241275161504745,0.0252993740141392],\"p3\":499,\"v3\":[0.0296628698706627,0.0608907230198383]}},{\"_typename\":\"TH2F\",\"fUniqueID\":0,\"fBits\":8,\"fName\":\"\",\"fTitle\":\"\",\"fLineColor\":602,\"fLineStyle\":1,\"fLineWidth\":1,\"fFillColor\":0,\"fFillStyle\":1001,\"fMarkerColor\":1,\"fMarkerStyle\":1,\"fMarkerSize\":1,\"fNcells\":765,\"fXaxis\":{\"_typename\":\"TAxis\",\"fUniqueID\":0,\"fBits\":0,\"fName\":\"xaxis\",\"fTitle\":\"x crystal index\",\"fNdivisions\":510,\"fAxisColor\":1,\"fLabelColor\":1,\"fLabelFont\":42,\"fLabelOffset\":0.005,\"fLabelSize\":0.035,\"fTickLength\":0.03,\"fTitleOffset\":1,\"fTitleSize\":0.035,\"fTitleColor\":1,\"fTitleFont\":42,\"fNbins\":49,\"fXmin\":-24.5,\"fXmax\":24.5,\"fXbins\":[],\"fFirst\":0,\"fLast\":0,\"fBits2\":0,\"fTimeDisplay\":false,\"fTimeFormat\":\"\",\"fLabels\":null,\"fModLabs\":null},\"fYaxis\":{\"_typename\":\"TAxis\",\"fUniqueID\":0,\"fBits\":0,\"fName\":\"yaxis\",\"fTitle\":\"y crystal index\",\"fNdivisions\":510,\"fAxisColor\":1,\"fLabelColor\":1,\"fLabelFont\":42,\"fLabelOffset\":0.005,\"fLabelSize\":0.035,\"fTickLength\":0.03,\"fTitleOffset\":0,\"fTitleSize\":0.035,\"fTitleColor\":1,\"fTitleFont\":42,\"fNbins\":13,\"fXmin\":-6.5,\"fXmax\":6.5,\"fXbins\":[],\"fFirst\":0,\"fLast\":0,\"fBits2\":0,\"fTimeDisplay\":false,\"fTimeFormat\":\"\",\"fLabels\":null,\"fModLabs\":null},\"fZaxis\":{\"_typename\":\"TAxis\",\"fUniqueID\":0,\"fBits\":0,\"fName\":\"zaxis\",\"fTitle\":\"\",\"fNdivisions\":510,\"fAxisColor\":1,\"fLabelColor\":1,\"fLabelFont\":42,\"fLabelOffset\":0.005,\"fLabelSize\":0.035,\"fTickLength\":0.03,\"fTitleOffset\":1,\"fTitleSize\":0.035,\"fTitleColor\":1,\"fTitleFont\":42,\"fNbins\":1,\"fXmin\":0,\"fXmax\":1,\"fXbins\":[],\"fFirst\":0,\"fLast\":0,\"fBits2\":0,\"fTimeDisplay\":false,\"fTimeFormat\":\"\",\"fLabels\":null,\"fModLabs\":null},\"fBarOffset\":0,\"fBarWidth\":1000,\"fEntries\":1296,\"fTsumw\":754.093121674311,\"fTsumw2\":2780.30775530402,\"fTsumwx\":205.979139716594,\"fTsumwx2\":149600.205355861,\"fMaximum\":-1111,\"fMinimum\":-1111,\"fNormFactor\":0,\"fContour\":[],\"fSumw2\":{\"$arr\":\"Float64\",\"len\":765,\"p\":104,\"v\":3.68695530544048,\"n\":22,\"p1\":128,\"v1\":3.68695530544048,\"n1\":23,\"p2\":155,\"v2\":3.68695530544048,\"n2\":22,\"p3\":179,\"v3\":3.68695530544048,\"n3\":23,\"p4\":206,\"v4\":3.68695530544048,\"n4\":22,\"p5\":230,\"v5\":3.68695530544048,\"n5\":23,\"p6\":257,\"v6\":3.68695530544048,\"n6\":22,\"p7\":281,\"v7\":3.68695530544048,\"n7\":23,\"p8\":308,\"v8\":3.68695530544048,\"n8\":13,\"p9\":332,\"v9\":3.68695530544048,\"n9\":23,\"p10\":410,\"v10\":3.68695530544048,\"n10\":13,\"p11\":434,\"v11\":3.68695530544048,\"n11\":23,\"p12\":461,\"v12\":3.68695530544048,\"n12\":22,\"p13\":485,\"v13\":3.68695530544048,\"n13\":23,\"p14\":512,\"v14\":3.68695530544048,\"n14\":22,\"p15\":536,\"v15\":3.68695530544048,\"n15\":23,\"p16\":563,\"v16\":3.68695530544048,\"n16\":22,\"p17\":587,\"v17\":3.68695530544048,\"n17\":23,\"p18\":614,\"v18\":3.68695530544048,\"n18\":22,\"p19\":638,\"v19\":3.68695530544048,\"n19\":23},\"fOption\":\"\",\"fFunctions\":{\"_typename\":\"TList\",\"name\":\"TList\",\"arr\":[],\"opt\":[]},\"fBufferSize\":0,\"fBuffer\":[],\"fBinStatErrOpt\":0,\"fStatOverflows\":2,\"fScalefactor\":1,\"fTsumwy\":0,\"fTsumwy2\":8609.22980578172,\"fTsumwxy\":0,\"fArray\":{\"$arr\":\"Float32\",\"len\":765,\"p\":104,\"v\":1.321206,\"n\":22,\"p1\":128,\"v1\":1.321206,\"n1\":23,\"p2\":155,\"v2\":1.321206,\"n2\":22,\"p3\":179,\"v3\":1.321206,\"n3\":23,\"p4\":206,\"v4\":1.321206,\"n4\":22,\"p5\":230,\"v5\":1.321206,\"n5\":23,\"p6\":257,\"v6\":1.321206,\"n6\":22,\"p7\":281,\"v7\":1.321206,\"n7\":23,\"p8\":308,\"v8\":1.321206,\"n8\":13,\"p9\":332,\"v9\":1.321206,\"n9\":23,\"p10\":410,\"v10\":1.321206,\"n10\":13,\"p11\":434,\"v11\":1.321206,\"n11\":23,\"p12\":461,\"v12\":1.321206,\"n12\":22,\"p13\":485,\"v13\":1.321206,\"n13\":23,\"p14\":512,\"v14\":1.321206,\"n14\":22,\"p15\":536,\"v15\":1.321206,\"n15\":23,\"p16\":563,\"v16\":1.321206,\"n16\":22,\"p17\":587,\"v17\":1.321206,\"n17\":23,\"p18\":614,\"v18\":1.321206,\"n18\":22,\"p19\":638,\"v19\":1.321206,\"n19\":23}},{\"_typename\":\"TPaveText\",\"fUniqueID\":0,\"fBits\":9,\"fLineColor\":1,\"fLineStyle\":1,\"fLineWidth\":1,\"fFillColor\":0,\"fFillStyle\":0,\"fX1\":-4.95281131133198,\"fY1\":7.15000017071143,\"fX2\":3.95281131133198,\"fY2\":8.04375019734726,\"fX1NDC\":0.428755020080321,\"fY1NDC\":0.940000003948808,\"fX2NDC\":0.571244979919679,\"fY2NDC\":0.995000004768372,\"fBorderSize\":0,\"fInit\":1,\"fShadowColor\":1,\"fCornerRadius\":0,\"fOption\":\"blNDC\",\"fName\":\"title\",\"fTextAngle\":0,\"fTextSize\":0,\"fTextAlign\":22,\"fTextColor\":1,\"fTextFont\":42,\"fLabel\":\"\",\"fLongest\":9,\"fMargin\":0.05,\"fLines\":{\"_typename\":\"TList\",\"name\":\"TList\",\"arr\":[{\"_typename\":\"TLatex\",\"fUniqueID\":0,\"fBits\":0,\"fName\":\"\",\"fTitle\":\"Ecal Hits\",\"fTextAngle\":0,\"fTextSize\":0,\"fTextAlign\":0,\"fTextColor\":0,\"fTextFont\":0,\"fX\":0,\"fY\":0,\"fLineColor\":1,\"fLineStyle\":1,\"fLineWidth\":2,\"fLimitFactorSize\":3,\"fOriginSize\":0.0467500016093254}],\"opt\":[\"\"]}},{\"_typename\":\"TStyle\",\"fUniqueID\":0,\"fBits\":0,\"fName\":\"Modern\",\"fTitle\":\"Modern Style\",\"fLineColor\":1,\"fLineStyle\":1,\"fLineWidth\":1,\"fFillColor\":19,\"fFillStyle\":1001,\"fMarkerColor\":1,\"fMarkerStyle\":1,\"fMarkerSize\":1,\"fTextAngle\":0,\"fTextSize\":0.05,\"fTextAlign\":11,\"fTextColor\":1,\"fTextFont\":62,\"fXaxis\":{\"_typename\":\"TAttAxis\",\"fNdivisions\":510,\"fAxisColor\":1,\"fLabelColor\":1,\"fLabelFont\":42,\"fLabelOffset\":0.005,\"fLabelSize\":0.035,\"fTickLength\":0.03,\"fTitleOffset\":1,\"fTitleSize\":0.035,\"fTitleColor\":1,\"fTitleFont\":42},\"fYaxis\":{\"_typename\":\"TAttAxis\",\"fNdivisions\":510,\"fAxisColor\":1,\"fLabelColor\":1,\"fLabelFont\":42,\"fLabelOffset\":0.005,\"fLabelSize\":0.035,\"fTickLength\":0.03,\"fTitleOffset\":0,\"fTitleSize\":0.035,\"fTitleColor\":1,\"fTitleFont\":42},\"fZaxis\":{\"_typename\":\"TAttAxis\",\"fNdivisions\":510,\"fAxisColor\":1,\"fLabelColor\":1,\"fLabelFont\":42,\"fLabelOffset\":0.005,\"fLabelSize\":0.035,\"fTickLength\":0.03,\"fTitleOffset\":1,\"fTitleSize\":0.035,\"fTitleColor\":1,\"fTitleFont\":42},\"fBarWidth\":1,\"fBarOffset\":0,\"fColorModelPS\":0,\"fDrawBorder\":0,\"fOptLogx\":0,\"fOptLogy\":0,\"fOptLogz\":0,\"fOptDate\":0,\"fOptStat\":1111,\"fOptTitle\":1,\"fOptFile\":0,\"fOptFit\":0,\"fShowEventStatus\":0,\"fShowEditor\":0,\"fShowToolBar\":0,\"fNumberContours\":20,\"fAttDate\":{\"_typename\":\"TAttText\",\"fTextAngle\":0,\"fTextSize\":0.025,\"fTextAlign\":11,\"fTextColor\":1,\"fTextFont\":62},\"fDateX\":0.01,\"fDateY\":0.01,\"fEndErrorSize\":2,\"fErrorX\":0.5,\"fFuncColor\":2,\"fFuncStyle\":1,\"fFuncWidth\":2,\"fGridColor\":0,\"fGridStyle\":3,\"fGridWidth\":1,\"fLegendBorderSize\":1,\"fLegendFillColor\":0,\"fLegendFont\":42,\"fLegendTextSize\":0,\"fHatchesLineWidth\":1,\"fHatchesSpacing\":1,\"fFrameFillColor\":0,\"fFrameLineColor\":1,\"fFrameFillStyle\":1001,\"fFrameLineStyle\":1,\"fFrameLineWidth\":1,\"fFrameBorderSize\":1,\"fFrameBorderMode\":0,\"fHistFillColor\":0,\"fHistLineColor\":602,\"fHistFillStyle\":1001,\"fHistLineStyle\":1,\"fHistLineWidth\":1,\"fHistMinimumZero\":false,\"fHistTopMargin\":0.05,\"fCanvasPreferGL\":false,\"fCanvasColor\":0,\"fCanvasBorderSize\":2,\"fCanvasBorderMode\":0,\"fCanvasDefH\":500,\"fCanvasDefW\":700,\"fCanvasDefX\":10,\"fCanvasDefY\":10,\"fPadColor\":0,\"fPadBorderSize\":2,\"fPadBorderMode\":0,\"fPadBottomMargin\":0.1,\"fPadTopMargin\":0.1,\"fPadLeftMargin\":0.1,\"fPadRightMargin\":0.1,\"fPadGridX\":false,\"fPadGridY\":false,\"fPadTickX\":0,\"fPadTickY\":0,\"fPaperSizeX\":20,\"fPaperSizeY\":26,\"fScreenFactor\":1,\"fStatColor\":0,\"fStatTextColor\":1,\"fStatBorderSize\":1,\"fStatFont\":42,\"fStatFontSize\":0,\"fStatStyle\":1001,\"fStatFormat\":\"6.4g\",\"fStatX\":0.98,\"fStatY\":0.935,\"fStatW\":0.2,\"fStatH\":0.16,\"fStripDecimals\":true,\"fTitleAlign\":23,\"fTitleColor\":0,\"fTitleTextColor\":1,\"fTitleBorderSize\":0,\"fTitleFont\":42,\"fTitleFontSize\":0.05,\"fTitleStyle\":0,\"fTitleX\":0.5,\"fTitleY\":0.995,\"fTitleW\":0,\"fTitleH\":0,\"fLegoInnerR\":0.5,\"fLineStyles\":[\"\",\"  \",\" 12 12\",\" 4 8\",\" 12 16 4 16\",\" 20 12 4 12\",\" 20 12 4 12 4 12 4 12\",\" 20 20\",\" 20 12 4 12 4 12\",\" 80 20\",\" 80 40 4 40\",\"  \",\"  \",\"  \",\"  \",\"  \",\"  \",\"  \",\"  \",\"  \",\"  \",\"  \",\"  \",\"  \",\"  \",\"  \",\"  \",\"  \",\"  \",\"  \"],\"fHeaderPS\":\"\",\"fTitlePS\":\"\",\"fFitFormat\":\"5.4g\",\"fPaintTextFormat\":\"g\",\"fLineScalePS\":3,\"fJoinLinePS\":0,\"fCapLinePS\":0,\"fTimeOffset\":788918400,\"fImageScaling\":1}],\"opt\":[\"\",\"colz\",\"boxsame\",\"blNDC\",\"\"]},\"fExecs\":null,\"fName\":\"cc2\",\"fTitle\":\"Canvas\",\"fNumPaletteColor\":0,\"fNextPaletteColor\":0,\"fDISPLAY\":\"$DISPLAY\",\"fDoubleBuffer\":0,\"fRetained\":true,\"fXsizeUser\":0,\"fYsizeUser\":0,\"fXsizeReal\":20,\"fYsizeReal\":12,\"fWindowTopX\":0,\"fWindowTopY\":0,\"fWindowWidth\":0,\"fWindowHeight\":0,\"fCw\":996,\"fCh\":572,\"fCatt\":{\"_typename\":\"TAttCanvas\",\"fXBetween\":2,\"fYBetween\":2,\"fTitleFromTop\":1.2,\"fXdate\":0.2,\"fYdate\":0.3,\"fAdate\":1},\"kMoveOpaque\":true,\"kResizeOpaque\":true,\"fHighLightColor\":2,\"fBatch\":true,\"kShowEventStatus\":false,\"kAutoExec\":true,\"kMenuBar\":true});\n   Core.settings.HandleKeys = false;\n   Core.draw(\"root_plot_1676830018925\", obj, \"\");\n}\n\nfunction script_load_root_plot_1676830018925(src, on_error) {\n    let script = document.createElement('script');\n    script.src = src;\n    script.onload = function() { display_root_plot_1676830018925(JSROOT); };\n    script.onerror = function() { script.remove(); on_error(); };\n    document.head.appendChild(script);\n}\n\nif (typeof requirejs !== 'undefined') {\n\n    // We are in jupyter notebooks, use require.js which should be configured already\n    requirejs.config({\n       paths: { 'JSRootCore' : [ 'build/jsroot', 'https://root.cern/js/7.2.1/build/jsroot', 'https://jsroot.gsi.de/7.2.1/build/jsroot' ] }\n    })(['JSRootCore'],  function(Core) {\n       display_root_plot_1676830018925(Core);\n    });\n\n} else if (typeof JSROOT !== 'undefined') {\n\n   // JSROOT already loaded, just use it\n   display_root_plot_1676830018925(JSROOT);\n\n} else {\n\n    // We are in jupyterlab without require.js, directly loading jsroot\n    // Jupyterlab might be installed in a different base_url so we need to know it.\n    try {\n        var base_url = JSON.parse(document.getElementById('jupyter-config-data').innerHTML).baseUrl;\n    } catch(_) {\n        var base_url = '/';\n    }\n\n    // Try loading a local version of requirejs and fallback to cdn if not possible.\n    script_load_root_plot_1676830018925(base_url + 'static/build/jsroot.js', function(){\n        console.error('Fail to load JSROOT locally, please check your jupyter_notebook_config.py file');\n        script_load_root_plot_1676830018925('https://root.cern/js/7.2.1/build/jsroot.js', function(){\n            document.getElementById(\"root_plot_1676830018925\").innerHTML = \"Failed to load JSROOT\";\n        });\n    });\n}\n\n</script>\n"
     },
     "metadata": {},
     "output_type": "display_data"
    }
   ],
   "source": [
    "ch.GetEntry(event)\n",
    "hh = make_ecal_snaphot(mdst, hh, 0)\n",
    "hh.SetStats(0)\n",
    "cc2.Clear()\n",
    "ones2 = fancy_plot(hh, ones2, 0x0)\n",
    "cc2.Update()\n",
    "cc2.Draw()\n",
    "event += 1"
   ],
   "metadata": {
    "collapsed": false
   }
  },
  {
   "cell_type": "code",
   "execution_count": 21,
   "outputs": [
    {
     "name": "stdout",
     "output_type": "stream",
     "text": [
      "Run: 14700, Event:4793899\n",
      "NClusters: 2 : [2](121.623, 28.134,  2.086), [10](-187.661,-26.367,  0.850),\n",
      "\n",
      "   i |   x |   y |  Energy  \n",
      "----------------------------\n",
      "   0 |   8 |   1 | 0.02530 \n",
      "   1 |   7 |   1 | 0.24128 \n",
      "   2 |   6 |   1 | 1.31249 \n",
      "   3 |   6 |   1 | 0.00871 \n",
      "   4 |   6 |   2 | 0.06089 \n",
      "   5 |   5 |   2 | 0.02966 \n",
      "   6 |  -1 |   1 | 0.02358 \n",
      "   7 |   1 |  -1 | 0.03966 \n",
      "   8 |  -1 |  -1 | 0.04714 \n",
      "   9 | -16 |  -1 | 0.06783 \n",
      "  10 | -17 |  -1 | 0.57592 \n"
     ]
    }
   ],
   "source": [
    "print(f\"Run: {mdst.run_number}, Event:{mdst.event_number}\")\n",
    "print(f\"NClusters: {len(mdst.ecal_cluster_seed_ix)} :\",end=\"\")\n",
    "for i in range(len(mdst.ecal_cluster_seed_index)):\n",
    "    print(f\" [{mdst.ecal_cluster_seed_index[i]}]({mdst.ecal_cluster_x[i]:7.3f},{mdst.ecal_cluster_y[i]:7.3f},{mdst.ecal_cluster_energy[i]:7.3f})\", end=\",\")\n",
    "print(\"\\n\")\n",
    "print(\"   i |   x |   y |  Energy  \")\n",
    "print(\"----------------------------\")\n",
    "for i in range(len(mdst.ecal_hit_index_x)):\n",
    "    print(f\" {i:3d} | {mdst.ecal_hit_index_x[i]:3d} | {mdst.ecal_hit_index_y[i]:3d} | {mdst.ecal_hit_energy[i]:7.5f} \")"
   ],
   "metadata": {
    "collapsed": false
   }
  },
  {
   "cell_type": "code",
   "execution_count": 15,
   "outputs": [],
   "source": [
    "print_mc_particle_tree(mdst)"
   ],
   "metadata": {
    "collapsed": false
   }
  },
  {
   "cell_type": "code",
   "execution_count": 17,
   "outputs": [],
   "source": [
    "event=39"
   ],
   "metadata": {
    "collapsed": false
   }
  },
  {
   "cell_type": "code",
   "execution_count": null,
   "outputs": [],
   "source": [],
   "metadata": {
    "collapsed": false
   }
  }
 ],
 "metadata": {
  "kernelspec": {
   "display_name": "Python 3",
   "language": "python",
   "name": "python3"
  },
  "language_info": {
   "codemirror_mode": {
    "name": "ipython",
    "version": 2
   },
   "file_extension": ".py",
   "mimetype": "text/x-python",
   "name": "python",
   "nbconvert_exporter": "python",
   "pygments_lexer": "ipython2",
   "version": "2.7.6"
  }
 },
 "nbformat": 4,
 "nbformat_minor": 0
}
